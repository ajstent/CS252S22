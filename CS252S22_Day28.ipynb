{
 "cells": [
  {
   "cell_type": "code",
   "execution_count": 1,
   "id": "29860ef9",
   "metadata": {},
   "outputs": [],
   "source": [
    "import re\n",
    "import numpy as np\n",
    "import matplotlib.pyplot as plt"
   ]
  },
  {
   "cell_type": "markdown",
   "id": "bf47fc9e",
   "metadata": {},
   "source": [
    "*Last Monday I said Naive Bayes is the first data analysis method we have that is good for what type of data? Quantitative or Qualitative?*"
   ]
  },
  {
   "cell_type": "markdown",
   "id": "d26bd31f",
   "metadata": {},
   "source": [
    "# Naive Bayes for Text\n",
    "\n",
    "Text data, *without preprocessing*, is qualitative data. Let's use Naive Bayes to classify some text data! \n",
    "\n",
    "I'm going to be using the SMS dataset from [here](https://archive.ics.uci.edu/ml/datasets/sms+spam+collection).\n",
    "\n",
    "## I. Load and Look at our data\n",
    "\n",
    "Let's load and __look at our data__. Is our independent variable at the *start* or the *end*?"
   ]
  },
  {
   "cell_type": "code",
   "execution_count": 2,
   "id": "773a1b57",
   "metadata": {},
   "outputs": [
    {
     "name": "stdout",
     "output_type": "stream",
     "text": [
      "(5574, 2)\n"
     ]
    }
   ],
   "source": [
    "data = np.array(np.genfromtxt('data/SMSSpamCollection', delimiter='\\t', encoding='utf-8', dtype=str))  \n",
    "print(data.shape)"
   ]
  },
  {
   "cell_type": "markdown",
   "id": "10895987",
   "metadata": {},
   "source": [
    "How many labels do we have?"
   ]
  },
  {
   "cell_type": "code",
   "execution_count": 3,
   "id": "644772da",
   "metadata": {},
   "outputs": [
    {
     "name": "stdout",
     "output_type": "stream",
     "text": [
      "(array(['ham', 'spam'], dtype='<U910'), array([4827,  747], dtype=int64))\n"
     ]
    }
   ],
   "source": [
    "print(np.unique(data[:, 0], return_counts=True))"
   ]
  },
  {
   "cell_type": "markdown",
   "id": "b7f4e1ee",
   "metadata": {},
   "source": [
    "## II. Split the data\n",
    "\n",
    "Let's split it into train, dev, test and make sure we have some of each label in each subset"
   ]
  },
  {
   "cell_type": "code",
   "execution_count": 4,
   "id": "1a3ebca3",
   "metadata": {},
   "outputs": [
    {
     "name": "stdout",
     "output_type": "stream",
     "text": [
      "(4459, 2) (557, 2) (558, 2)\n",
      "(array(['ham', 'spam'], dtype='<U910'), array([3857,  602], dtype=int64))\n",
      "(array(['ham', 'spam'], dtype='<U910'), array([484,  73], dtype=int64))\n",
      "(array(['ham', 'spam'], dtype='<U910'), array([486,  72], dtype=int64))\n"
     ]
    }
   ],
   "source": [
    "train, dev, test = np.split(data, [int(.8 * len(data)), int(.9 * len(data))])\n",
    "print(train.shape, dev.shape, test.shape)\n",
    "print(np.unique(train[:, 0], return_counts=True))\n",
    "print(np.unique(dev[:, 0], return_counts=True))\n",
    "print(np.unique(test[:, 0], return_counts=True))"
   ]
  },
  {
   "cell_type": "markdown",
   "id": "d461abc1",
   "metadata": {},
   "source": [
    "So far, so good!\n",
    "\n",
    "## III. Preprocess the data\n",
    "\n",
    "*But*, how do I deal with the SMS texts themselves? Well, a SMS is composed of word-type things (let's call them \"tokens\") and if I *completely ignore* the sequence information then I could say each SMS is composed of a bag of tokens. \n",
    "\n",
    "NOTE that to do this hurts me as a computational linguist. Of *course* word order matters! In particular, in this context it means that the token occurrences are not *independent* of each other. But we are going to pretend they are, thus lacerating the sensibilities of both linguists and statisticians in search of a computationally efficient approximation.\n",
    "\n",
    "__Our independent variables will be what, now?__\n",
    "\n",
    "### Let's define a function to get the bag of tokens from the text of a SMS"
   ]
  },
  {
   "cell_type": "code",
   "execution_count": 5,
   "id": "aec04449",
   "metadata": {},
   "outputs": [],
   "source": [
    "# We will split the text on any character(s) that are not letters or numbers,\n",
    "# and then keep anything that is not whitespace\n",
    "def tokenize(text):\n",
    "    return [token.strip() for token in re.split(r'([^A-Za-z0-9]+)', text) if not re.match(r'^\\s*$', token)]"
   ]
  },
  {
   "cell_type": "code",
   "execution_count": 6,
   "id": "cf9259a3",
   "metadata": {},
   "outputs": [
    {
     "data": {
      "text/plain": [
       "['Go',\n",
       " 'until',\n",
       " 'jurong',\n",
       " 'point',\n",
       " ',',\n",
       " 'crazy',\n",
       " '..',\n",
       " 'Available',\n",
       " 'only',\n",
       " 'in',\n",
       " 'bugis',\n",
       " 'n',\n",
       " 'great',\n",
       " 'world',\n",
       " 'la',\n",
       " 'e',\n",
       " 'buffet',\n",
       " '...',\n",
       " 'Cine',\n",
       " 'there',\n",
       " 'got',\n",
       " 'amore',\n",
       " 'wat',\n",
       " '...']"
      ]
     },
     "execution_count": 6,
     "metadata": {},
     "output_type": "execute_result"
    }
   ],
   "source": [
    "# Try it on one SMS\n",
    "tokenize(train[0][1])"
   ]
  },
  {
   "cell_type": "markdown",
   "id": "20fd6875",
   "metadata": {},
   "source": [
    "### Let's get the unique tokens"
   ]
  },
  {
   "cell_type": "code",
   "execution_count": 7,
   "id": "9aa6b496",
   "metadata": {},
   "outputs": [
    {
     "name": "stdout",
     "output_type": "stream",
     "text": [
      "9801\n"
     ]
    }
   ],
   "source": [
    "tokens = set()\n",
    "for i in range(len(train)):\n",
    "    tokens = tokens.union(tokenize(train[i][1]))\n",
    "print(len(tokens))"
   ]
  },
  {
   "cell_type": "markdown",
   "id": "1d8de881",
   "metadata": {},
   "source": [
    "That's entirely too many tokens! Let's keep just from the $a$ to the $b$ most frequent ones."
   ]
  },
  {
   "cell_type": "code",
   "execution_count": 8,
   "id": "151cb761",
   "metadata": {},
   "outputs": [
    {
     "name": "stdout",
     "output_type": "stream",
     "text": [
      "3500\n"
     ]
    }
   ],
   "source": [
    "a = 500\n",
    "b = 4000\n",
    "tokens = []\n",
    "for i in range(len(train)):\n",
    "    tokens.extend(tokenize(train[i][1]))\n",
    "uniqueTokens, tokenCounts = np.unique(tokens, return_counts=True)\n",
    "topUniqueTokens = uniqueTokens[np.argsort(tokenCounts)[::-1]][a:b]\n",
    "print(len(topUniqueTokens))"
   ]
  },
  {
   "cell_type": "markdown",
   "id": "a9a8c8b2",
   "metadata": {},
   "source": [
    "### Let's collect token counts across all the 'ham' SMSs, and separately across all the 'spam' SMSs"
   ]
  },
  {
   "cell_type": "code",
   "execution_count": 9,
   "id": "45ebaba4",
   "metadata": {},
   "outputs": [
    {
     "name": "stdout",
     "output_type": "stream",
     "text": [
      "3500\n"
     ]
    }
   ],
   "source": [
    "def preprocessCategory(subsetOfData, tokenVocab):\n",
    "    tokens = []\n",
    "    res = dict.fromkeys(tokenVocab, 0)\n",
    "    for i in range(len(subsetOfData)):\n",
    "        tokens.extend(tokenize(subsetOfData[i][1]))\n",
    "    uniqueTokens, tokenCounts = np.unique(tokens, return_counts=True)\n",
    "    for token, count in zip(uniqueTokens, tokenCounts):\n",
    "        if token in res:\n",
    "            res[token] += count\n",
    "    return res\n",
    "\n",
    "tokenCounts = {}\n",
    "tokenCounts['ham'] = preprocessCategory(train[np.where(train[:, 0] == 'ham')], topUniqueTokens)\n",
    "tokenCounts['spam'] = preprocessCategory(train[np.where(train[:, 0] == 'spam')], topUniqueTokens)\n",
    "# We keep this around for indexing into the likelihoods\n",
    "sortedTokens = sorted(topUniqueTokens)\n",
    "print(len(sortedTokens))"
   ]
  },
  {
   "cell_type": "markdown",
   "id": "0ecca3b6",
   "metadata": {},
   "source": [
    "Pay attention to the sleight of hand here:\n",
    "* Our labels are 'ham' and 'spam'.\n",
    "* Our features are individual token frequencies calculated across all of 'ham' and all of 'spam'. We *assume independence in the features*. That's the naive in Naive Bayes.\n",
    "\n",
    "## Fit\n",
    "\n",
    "So now let's fit a Naive Bayes model for spam detection\n",
    "\n",
    "To fit, we need to calculate:\n",
    "* priors - $P(ham)$ and $P(spam)$\n",
    "* likelihoods - for any token $x$, $P(x|ham)$ and $P(x|spam)$\n",
    "\n",
    "### Priors\n",
    "\n",
    "Calculating priors will be easy. "
   ]
  },
  {
   "cell_type": "code",
   "execution_count": 10,
   "id": "62578037",
   "metadata": {},
   "outputs": [
    {
     "name": "stdout",
     "output_type": "stream",
     "text": [
      "{'ham': 0.8649921507064364, 'spam': 0.13500784929356358}\n"
     ]
    }
   ],
   "source": [
    "priors = {'ham': len(train[np.where(train[:, 0] == 'ham')]) / len(train), 'spam': len(train[np.where(train[:, 0] == 'spam')]) / len(train)}\n",
    "print(priors)"
   ]
  },
  {
   "cell_type": "markdown",
   "id": "f80a8553",
   "metadata": {},
   "source": [
    "### Likelihoods\n",
    "\n",
    "Calculating likelihoods will be tricky, because:.\n",
    "* Sometimes the likelihoods will be 0, as a token will occur *no* times in one of 'ham' or 'spam'.\n",
    "* A lot of the likelihoods will be veerrrry small, as most of the tokens occur only once.\n",
    "\n",
    "To deal with these, we:\n",
    "* 0s - use *Laplace smoothing*, as we discussed last session.\n",
    "* veerrrry small - move from regular count space to log space (see plot).\n",
    "  * in 'regular count space' $P(I, like, candy) | ham) = P(I|ham)*P(like|ham)*P(candy|ham)$.\n",
    "  * in 'log space' $P(I, like, candy) | ham) = log(P(I|ham)) + log(P(like|ham)) + log(P(candy|ham))$, because the logarithm of a product is the sum of the logarithms.\n"
   ]
  },
  {
   "cell_type": "code",
   "execution_count": 11,
   "id": "d7e0f9fb",
   "metadata": {},
   "outputs": [
    {
     "data": {
      "image/png": "[encoded data removed]",
      "text/plain": [
       "<Figure size 432x288 with 1 Axes>"
      ]
     },
     "metadata": {
      "needs_background": "light"
     },
     "output_type": "display_data"
    }
   ],
   "source": [
    "res = np.array([[i, 1/i, np.log(1/i)] for i in range(1, 1000)])\n",
    "plt.plot(res[:, 0], res[:, 1])\n",
    "plt.plot(res[:, 0], res[:, 2])\n",
    "plt.show()"
   ]
  },
  {
   "cell_type": "code",
   "execution_count": 12,
   "id": "82fb2dbb",
   "metadata": {},
   "outputs": [],
   "source": [
    "def calculateLikelihoods(data):\n",
    "    likelihoods = {}\n",
    "    cats = np.unique(train[:, 0])\n",
    "    for cat in cats:\n",
    "        likelihoods[cat] = {}\n",
    "        for token in sortedTokens:\n",
    "            likelihoods[cat][token] = np.log((tokenCounts[cat][token] + 1) / \n",
    "                                             (len(np.where([data[:, 0] == cat])) + len(sortedTokens)))\n",
    "    return likelihoods"
   ]
  },
  {
   "cell_type": "code",
   "execution_count": 13,
   "id": "15fef7ae",
   "metadata": {},
   "outputs": [
    {
     "name": "stdout",
     "output_type": "stream",
     "text": [
      "2\n",
      "3500\n",
      "3500\n"
     ]
    }
   ],
   "source": [
    "likelihoods = calculateLikelihoods(train)\n",
    "print(len(likelihoods))\n",
    "print(len(likelihoods['ham']))\n",
    "print(len(likelihoods['spam']))"
   ]
  },
  {
   "cell_type": "markdown",
   "id": "b2327924",
   "metadata": {},
   "source": [
    "## Predict\n",
    "\n",
    "Let's use the Naive Bayes model we fit to predict the class for each item in our test data.\n",
    "\n",
    "We will have to tokenize each SMS, of course."
   ]
  },
  {
   "cell_type": "code",
   "execution_count": 21,
   "id": "edf24e6c",
   "metadata": {},
   "outputs": [],
   "source": [
    "def pTextGivenCategory(text, cat):\n",
    "    tokens = tokenize(text)\n",
    "    sum = 0\n",
    "    for token in tokens:\n",
    "        # if the token is not in our vocab from train, it just gets dropped\n",
    "        try:\n",
    "            likelihood = likelihoods[cat][token]\n",
    "        except:\n",
    "            likelihood = 0\n",
    "        # we add instead of multiply, because we are in log space\n",
    "        sum += likelihood\n",
    "    return sum\n",
    "        \n",
    "def predict(data):\n",
    "    labels = []\n",
    "    cats = np.unique(data[:, 0])\n",
    "    for i in range(len(data)):    \n",
    "        res = []\n",
    "        for cat in cats:\n",
    "            res.append(np.log(priors[cat]) + pTextGivenCategory(dev[i][1], cat))\n",
    "        labels.append((cats[np.argmax(res)], np.exp(res[np.argmax(res)])))\n",
    "    return labels"
   ]
  },
  {
   "cell_type": "code",
   "execution_count": 22,
   "id": "19530f23",
   "metadata": {},
   "outputs": [
    {
     "name": "stdout",
     "output_type": "stream",
     "text": [
      "[('ham', 1.316777567981378e-17), ('spam', 3.0938188257431347e-25), ('ham', 1.850055691611035e-22), ('ham', 1.5889836193386443e-25), ('ham', 9.868697143833262e-09), ('ham', 8.237377811981178e-13), ('ham', 3.3231327116989584e-09), ('spam', 1.2064066449156388e-12), ('ham', 0.0024699947193216336), ('ham', 6.437829730903495e-36), ('ham', 9.788136350822405e-09), ('ham', 1.2605050223411542e-16), ('ham', 4.894068175411211e-09), ('ham', 5.9951328138874634e-06), ('ham', 1.047290309141491e-09), ('ham', 0.004692989966711106), ('ham', 1.268832489921423e-09), ('ham', 0.0009879978877286534), ('ham', 0.0007409984157964901), ('ham', 1.885122556454685e-08), ('ham', 0.8649921507064364), ('ham', 0.8649921507064364), ('ham', 5.6424779424823256e-06), ('ham', 1.9043363055877856e-06), ('ham', 3.808672611175565e-06), ('ham', 1.5144417137351317e-18), ('ham', 5.238061841398706e-11), ('ham', 1.057964614215435e-06), ('ham', 0.8649921507064364), ('ham', 2.4978173149966868e-14), ('ham', 0.0039519915509146145), ('ham', 1.3664509151474879e-11), ('ham', 3.860341623246411e-19), ('ham', 2.0979279151308901e-19), ('ham', 2.0160338450973703e-08), ('ham', 6.521697549567547e-11), ('ham', 2.9001885483918228e-08), ('ham', 2.658506169359172e-08), ('ham', 1.5297809066886915e-10), ('ham', 0.8649921507064364), ('spam', 2.4982587017876006e-23), ('spam', 1.1368889128446517e-29), ('ham', 0.8649921507064364), ('ham', 0.0009879978877286534), ('ham', 1.128495588496464e-06), ('ham', 1.9748672798688118e-06), ('ham', 3.667610662613512e-06), ('spam', 8.886477518351818e-13), ('ham', 0.0032109931351181242), ('ham', 6.734689520432937e-32), ('ham', 0.004692989966711106), ('ham', 0.004939989438643267), ('ham', 0.0014819968315929804), ('ham', 1.3219308650736551e-20), ('ham', 4.873927977158477e-08), ('ham', 0.002963993663185961), ('ham', 4.057945141953142e-11), ('ham', 2.2774181919124835e-11), ('spam', 1.2534927569557349e-51), ('ham', 6.685178422059315e-17), ('ham', 9.641212845270778e-21), ('ham', 3.383553306457119e-09), ('ham', 0.003704992078982451), ('ham', 0.8649921507064364), ('ham', 9.178685440132124e-12), ('ham', 1.0351900872329454e-10), ('ham', 0.003457992607050287), ('ham', 1.250617528230279e-25), ('ham', 9.063089213724458e-10), ('ham', 0.8649921507064364), ('ham', 1.1932941229870629e-29), ('ham', 7.0530974281029e-06), ('ham', 5.468753560469684e-16), ('ham', 2.3289959906305904e-25), ('ham', 3.594492136137249e-13), ('spam', 1.0715570412079109e-23), ('ham', 0.002222995247389471), ('ham', 2.802777161183205e-10), ('ham', 6.681360501772598e-21), ('ham', 4.1891612365659644e-09), ('ham', 5.28982307107718e-06), ('ham', 1.0150659919371369e-08), ('ham', 8.281520697863553e-13), ('ham', 6.668283257384545e-24), ('spam', 2.5712264311432183e-36), ('ham', 0.8649921507064364), ('ham', 0.0009879978877286534), ('ham', 6.384953136559571e-13), ('ham', 7.1166763936961825e-34), ('ham', 2.1751414112938667e-09), ('ham', 0.001975995775457307), ('ham', 0.0007409984157964901), ('ham', 6.80897802246784e-17), ('ham', 2.7390669623700505e-08), ('ham', 2.1997789353700082e-11), ('ham', 6.123482999538912e-30), ('ham', 8.463716913723473e-07), ('ham', 5.709045450136541e-38), ('ham', 0.0004939989438643266), ('ham', 3.673572161296313e-08), ('ham', 7.107180309951856e-16), ('ham', 6.347787685292618e-06), ('ham', 5.9951328138874634e-06), ('ham', 1.3768028160198192e-10), ('ham', 0.8649921507064364), ('ham', 2.3138910828649615e-19), ('ham', 2.1159292284308727e-05), ('ham', 1.8853984245335352e-63), ('ham', 6.9337467025685535e-25), ('ham', 5.6424779424823256e-06), ('ham', 3.879203585456591e-06), ('ham', 1.2567483709697908e-08), ('spam', 1.3428339849027964e-26), ('ham', 9.255564331459903e-20), ('ham', 2.11592922843087e-06), ('spam', 3.62128806042391e-09), ('ham', 0.0017289963035251434), ('ham', 1.7632743570257248e-06), ('spam', 1.4149229672501947e-24), ('spam', 4.11332596880104e-37), ('spam', 2.3207418718816013e-32), ('ham', 0.0027169941912537966), ('ham', 0.8649921507064364), ('ham', 6.206725736730552e-06), ('ham', 1.4500942741959122e-09), ('spam', 1.1595194770953439e-26), ('ham', 1.0861770039278466e-05), ('spam', 8.806771380280936e-07), ('spam', 5.231953432226243e-14), ('ham', 0.002222995247389471), ('ham', 4.7724003584089906e-20), ('ham', 0.0041989910228467766), ('ham', 1.313776365547234e-13), ('spam', 7.457731396828669e-39), ('ham', 1.6927433827446978e-06), ('ham', 3.6231653053153054e-11), ('ham', 2.0703801744658923e-11), ('ham', 1.3534213225828477e-08), ('ham', 5.3260529988135136e-11), ('ham', 3.413699155201804e-05), ('ham', 5.437853528234672e-09), ('ham', 6.347787685292611e-07), ('ham', 7.635840573454407e-20), ('spam', 8.976239917527103e-13), ('ham', 8.700565645175478e-08), ('ham', 4.166640101112618e-11), ('ham', 5.437853528234672e-09), ('ham', 2.4685840998360126e-06), ('ham', 6.744994708998629e-22), ('ham', 4.4339952337219435e-15), ('ham', 0.8649921507064364), ('ham', 5.800377096783656e-08), ('ham', 2.11592922843087e-06), ('ham', 0.8649921507064364), ('ham', 3.1418709274244766e-09), ('ham', 0.0009879978877286534), ('ham', 4.509918338696519e-20), ('spam', 3.163201322795435e-17), ('ham', 8.458883266142814e-08), ('ham', 1.0875707056469315e-09), ('ham', 6.579208109969383e-12), ('ham', 0.8649921507064364), ('ham', 0.0027169941912537966), ('ham', 0.0007409984157964901), ('ham', 2.539115074117045e-06), ('ham', 0.004939989438643267), ('ham', 1.4740973624735079e-05), ('ham', 0.004939989438643267), ('ham', 9.788136350822405e-09), ('spam', 1.6576866897461364e-19), ('spam', 1.2132379530653276e-34), ('ham', 6.828352659931776e-14), ('ham', 5.165960851822937e-08), ('ham', 1.1035721470596777e-13), ('ham', 0.8649921507064364), ('ham', 1.5527851308494191e-12), ('ham', 0.0027169941912537966), ('ham', 3.605912137194766e-11), ('ham', 7.758407170913196e-06), ('ham', 8.971647422685518e-11), ('ham', 0.8649921507064364), ('ham', 5.313975781129132e-11), ('ham', 1.057964614215435e-06), ('ham', 0.0012349973596608166), ('spam', 4.982812792596374e-16), ('ham', 0.0014819968315929804), ('ham', 8.886902759409657e-06), ('ham', 5.501415993920264e-06), ('spam', 1.8613136311555004e-27), ('ham', 1.7743003617085835e-41), ('ham', 1.218481994289619e-08), ('ham', 1.5697625187855826e-25), ('ham', 2.955996822481287e-15), ('spam', 2.5781823547859356e-25), ('ham', 0.004692989966711106), ('ham', 3.808672611175565e-06), ('ham', 0.8649921507064364), ('ham', 1.0331639379546224e-16), ('ham', 0.8649921507064364), ('spam', 4.172891363492272e-41), ('ham', 6.2837418548489425e-09), ('ham', 0.8649921507064364), ('ham', 0.8649921507064364), ('ham', 0.0027169941912537966), ('ham', 0.002963993663185961), ('ham', 0.0007409984157964901), ('ham', 0.0012349973596608166), ('ham', 6.380414806462004e-08), ('ham', 1.9043363055877856e-06), ('ham', 0.8649921507064364), ('ham', 2.2465575850857717e-14), ('ham', 4.799908288880217e-31), ('ham', 9.022808817219001e-08), ('ham', 1.1278511021523768e-08), ('spam', 1.7696437428662395e-21), ('ham', 8.603506112574919e-24), ('ham', 0.0032109931351181242), ('ham', 1.973739428766661e-09), ('ham', 0.004939989438643267), ('ham', 0.8649921507064364), ('ham', 0.0009879978877286534), ('ham', 8.463716913723473e-07), ('ham', 5.9951328138874634e-06), ('ham', 6.347787685292607e-06), ('ham', 1.3965132907643747e-05), ('ham', 2.670590288310798e-08), ('ham', 5.870938133539253e-14), ('ham', 1.1637610756369787e-05), ('ham', 5.078230148234091e-06), ('ham', 0.8649921507064364), ('ham', 0.002222995247389471), ('ham', 2.25570220430475e-08), ('ham', 0.0027169941912537966), ('ham', 0.0004939989438643266), ('ham', 2.3409378986335784e-18), ('ham', 8.18993555941245e-28), ('ham', 1.5747314313942145e-19), ('spam', 3.2883592260297344e-16), ('ham', 1.677007941317377e-11), ('ham', 0.8649921507064364), ('ham', 1.946654890156399e-05), ('ham', 0.8649921507064364), ('spam', 5.999716804293016e-24), ('ham', 0.0014819968315929804), ('ham', 0.8649921507064364), ('ham', 4.0464312058854835e-14), ('ham', 0.002963993663185961), ('ham', 0.0032109931351181242), ('ham', 1.7482732626090977e-20), ('ham', 1.1732154321973382e-12), ('ham', 2.5175247815901174e-09), ('ham', 4.231858456861741e-06), ('ham', 2.8959286679300784e-28), ('ham', 3.6995942453810217e-13), ('ham', 2.2633943307413336e-16), ('ham', 6.444863440870714e-09), ('ham', 6.34416244960711e-09), ('ham', 0.004939989438643267), ('ham', 2.2429118556713873e-11), ('ham', 0.8649921507064364), ('ham', 7.975518508077518e-09), ('ham', 5.576049011355911e-19), ('ham', 3.5265487140514496e-06), ('ham', 0.0024699947193216336), ('ham', 1.9133188340084903e-08), ('ham', 6.347787685292618e-06), ('ham', 7.094392373955096e-16), ('ham', 6.700442556697758e-06), ('ham', 2.5179557818327357e-05), ('spam', 2.369542469193078e-25), ('ham', 1.862277998163215e-15), ('ham', 0.002222995247389471), ('ham', 9.874336399344052e-06), ('ham', 0.8649921507064364), ('ham', 0.0012349973596608166), ('ham', 2.327522151273959e-06), ('spam', 6.727153330441699e-30), ('ham', 0.8649921507064364), ('ham', 0.0009879978877286534), ('ham', 5.047922376339565e-35), ('ham', 4.657991981261255e-25), ('ham', 0.0014819968315929804), ('ham', 7.638295789291651e-14), ('ham', 6.1226202688271694e-09), ('ham', 2.8212389712411607e-05), ('ham', 3.673572161296313e-08), ('ham', 0.0012349973596608166), ('spam', 5.006179329681526e-27), ('ham', 1.6927433827446967e-05), ('ham', 4.4117675781940514e-17), ('ham', 1.399576997938939e-10), ('ham', 2.75883298931949e-27), ('ham', 2.815717037273621e-11), ('spam', 2.4861311629222994e-32), ('ham', 2.346430864394675e-11), ('ham', 2.4154435368768774e-12), ('ham', 0.8649921507064364), ('ham', 0.003704992078982451), ('ham', 1.1320402779703833e-24), ('ham', 4.83364758065304e-09), ('spam', 6.354683940216478e-16), ('ham', 6.617651367291065e-18), ('ham', 6.513340114929954e-08), ('ham', 9.888018065484394e-25), ('ham', 4.028039650544189e-08), ('ham', 0.0007409984157964901), ('ham', 4.184377724267948e-14), ('ham', 0.0009879978877286534), ('ham', 2.9623009198032156e-06), ('spam', 1.4763889755841086e-16), ('ham', 1.558734531610741e-05), ('ham', 8.540318219671784e-11), ('ham', 0.0014819968315929804), ('ham', 0.8649921507064364), ('ham', 0.0012349973596608166), ('ham', 0.8649921507064364), ('ham', 0.0017289963035251434), ('ham', 3.4371391813430795e-22), ('ham', 0.0007409984157964901), ('ham', 1.1823987289925109e-14), ('ham', 1.1276529929819715e-21), ('ham', 9.316710785096521e-11), ('ham', 3.262712116940798e-09), ('ham', 0.002963993663185961), ('ham', 0.8649921507064364), ('ham', 1.6165535169416986e-25), ('ham', 8.463716913723482e-06), ('spam', 2.2322813803704525e-27), ('ham', 0.0032109931351181242), ('ham', 0.004939989438643267), ('ham', 1.2620347614459323e-19), ('ham', 2.8212389712411573e-06), ('ham', 7.85019149484982e-12), ('ham', 0.8649921507064364), ('ham', 1.4106194856205812e-06), ('ham', 0.004939989438643267), ('ham', 5.924601839606442e-06), ('ham', 0.8649921507064364), ('spam', 9.04804983686731e-12), ('ham', 3.239447516010966e-19), ('ham', 0.8649921507064364), ('ham', 0.0024699947193216336), ('ham', 4.57292708437855e-13), ('ham', 3.1197499302943666e-16), ('ham', 0.8649921507064364), ('ham', 0.005680987854439756), ('ham', 1.2230837794904024e-17), ('ham', 0.8649921507064364), ('ham', 0.8649921507064364), ('spam', 1.3686597037693058e-42), ('ham', 2.5376649798428447e-08), ('ham', 2.24874269315324e-20), ('ham', 1.0848221348523536e-16), ('ham', 1.0150659919371369e-08), ('ham', 7.608647141162174e-12), ('ham', 0.8649921507064364), ('ham', 3.1530632773133727e-15), ('ham', 1.2695575370585214e-05), ('ham', 1.3802534496439292e-11), ('ham', 5.98109828179035e-11), ('ham', 0.0027169941912537966), ('ham', 9.667295161306064e-09), ('ham', 2.6569878905645676e-12), ('ham', 1.3824070959081684e-05), ('spam', 1.106040230203176e-23), ('ham', 0.8649921507064364), ('ham', 2.494374587328448e-19), ('ham', 0.0027169941912537966), ('ham', 0.0012349973596608166), ('ham', 9.937824837436277e-12), ('ham', 0.005186988910575432), ('ham', 1.3330354139114478e-05), ('ham', 8.933829345842963e-16), ('ham', 0.004939989438643267), ('ham', 0.0007409984157964901), ('spam', 4.2473597577911875e-43), ('ham', 0.001975995775457307), ('ham', 5.524509828643844e-31), ('ham', 1.2413451473461104e-05), ('ham', 7.6173452223511306e-06), ('ham', 1.586946921323153e-05), ('ham', 8.640145050417325e-09), ('spam', 1.219180952515424e-32), ('ham', 2.0703801744658923e-11), ('ham', 0.002222995247389471), ('ham', 1.5516814341826365e-05), ('spam', 2.733153053153299e-26), ('ham', 3.3854867654893896e-06), ('ham', 0.0041989910228467766), ('ham', 8.670924012611768e-14), ('ham', 0.8649921507064364), ('ham', 0.0024699947193216336), ('ham', 1.8488701995997884e-08), ('ham', 3.3854867654893896e-06), ('ham', 0.0014819968315929804), ('ham', 0.8649921507064364), ('ham', 4.807882849593029e-12), ('ham', 0.002222995247389471), ('ham', 3.9337223314851976e-11), ('ham', 0.0014819968315929804), ('ham', 0.8649921507064364), ('ham', 2.6269712481228535e-16), ('ham', 5.784727707162437e-21), ('ham', 0.8649921507064364), ('ham', 1.9706645483208572e-16), ('spam', 6.455512903664143e-17), ('ham', 1.2695575370585214e-05), ('ham', 0.004692989966711106), ('ham', 5.31734071006969e-30), ('ham', 0.0041989910228467766), ('ham', 1.1254509128046047e-17), ('ham', 4.52916265846674e-30), ('ham', 7.816969375006047e-14), ('ham', 0.004445990494778939), ('ham', 3.625235685489788e-08), ('ham', 7.405752299508046e-06), ('ham', 8.463716913723488e-07), ('ham', 2.9001885483918195e-09), ('spam', 7.796423440872782e-24), ('ham', 1.5877298752390923e-16), ('spam', 3.3726761292612726e-18), ('ham', 1.9706645483208523e-15), ('ham', 1.933459032261214e-09), ('ham', 0.8649921507064364), ('ham', 1.993879627019374e-08), ('ham', 1.8981137789126796e-21), ('ham', 0.002222995247389471), ('ham', 0.8649921507064364), ('ham', 0.8649921507064364), ('spam', 7.2354015370749455e-25), ('ham', 1.1250138444889513e-18), ('ham', 1.6238834986582515e-43), ('ham', 7.571085379065915e-24), ('ham', 1.128495588496464e-06), ('ham', 4.937168199672034e-06), ('ham', 0.8649921507064364), ('ham', 0.0009879978877286534), ('spam', 1.3114939512098548e-29), ('ham', 2.9001885483918228e-08), ('ham', 0.8649921507064364), ('ham', 0.002963993663185961), ('ham', 0.8649921507064364), ('spam', 1.0943139690945576e-34), ('ham', 0.8649921507064364), ('spam', 9.478909352908605e-13), ('ham', 5.430885019639232e-06), ('ham', 2.156553844122656e-50), ('ham', 1.1562848072569076e-24), ('ham', 0.004939989438643267), ('ham', 0.8649921507064364), ('ham', 0.8649921507064364), ('ham', 0.8649921507064364), ('ham', 1.761957801534344e-22), ('ham', 6.347787685292618e-06), ('ham', 0.0007409984157964901), ('ham', 1.268832489921423e-09), ('ham', 2.1903705833414267e-24), ('ham', 7.435317340814599e-13), ('ham', 1.933459032261214e-09), ('spam', 1.6675683470755432e-21), ('ham', 2.932412865596181e-08), ('ham', 2.9623009198032156e-06), ('ham', 3.804323570581084e-11), ('ham', 2.11592922843087e-06), ('ham', 1.2084118951632568e-08), ('ham', 3.1033628683652755e-06), ('ham', 1.933459032261214e-09), ('ham', 1.5234690444702263e-05), ('ham', 1.206079660205598e-05), ('ham', 2.7507079969601317e-06), ('ham', 9.42561278227344e-09), ('ham', 2.62605212987741e-18), ('ham', 1.2695575370585223e-06), ('ham', 7.591393973041584e-11), ('ham', 3.879203585456591e-06), ('ham', 1.0156460296468181e-05), ('ham', 0.8649921507064364), ('ham', 0.002222995247389471), ('ham', 0.0017289963035251434), ('ham', 2.05430022177754e-08), ('ham', 1.6302971934414396e-24), ('ham', 1.79228057864132e-15), ('ham', 1.9748672798688138e-05), ('ham', 0.0012349973596608166), ('ham', 1.8529423828414956e-16), ('ham', 3.726684314038614e-12), ('ham', 2.539115074117045e-06), ('ham', 1.465681757813635e-14), ('ham', 0.004939989438643267), ('spam', 2.295320228842381e-19), ('ham', 3.036557589216649e-12), ('ham', 4.231858456861741e-06), ('ham', 3.036557589216645e-10), ('ham', 8.711049938982057e-24), ('spam', 4.40338569014046e-07), ('ham', 5.471942338055984e-17), ('ham', 8.373537594506512e-11), ('ham', 1.81158265265766e-12), ('ham', 1.7391193465513533e-10), ('ham', 0.8649921507064364), ('ham', 0.8649921507064364), ('ham', 2.6660708278228957e-05), ('ham', 0.8649921507064364), ('ham', 1.0759828433831891e-13), ('ham', 0.8649921507064364), ('ham', 3.3854867654893896e-06), ('spam', 2.1484852956549687e-25), ('ham', 0.0027169941912537966), ('spam', 2.3589631988239316e-18), ('ham', 1.2077217684384365e-12), ('ham', 4.321731505169699e-18), ('ham', 4.028039650544189e-08), ('ham', 2.160807233561349e-21), ('ham', 2.8212389712411573e-06), ('ham', 0.8649921507064364), ('ham', 2.753530388609311e-19), ('ham', 4.83364758065304e-09), ('ham', 1.6530623007273965e-15), ('ham', 1.1387090959562395e-11), ('ham', 3.2161245428596473e-13), ('ham', 1.25978514511537e-21), ('ham', 1.9068889965952687e-15), ('ham', 0.8649921507064364), ('ham', 0.0027169941912537966), ('ham', 0.8649921507064364), ('ham', 0.8649921507064364), ('spam', 9.101024963312127e-21), ('ham', 0.0012349973596608166), ('ham', 8.458883266142814e-08), ('ham', 1.4500942741959086e-08), ('ham', 0.0027169941912537966), ('ham', 5.797064488504498e-12), ('spam', 7.322047797942784e-42), ('ham', 1.5953266689005173e-17), ('ham', 7.0530974281029e-06), ('ham', 1.972742696332588e-33), ('ham', 1.6434401774220336e-08), ('ham', 1.4106194856205812e-06), ('ham', 0.002222995247389471), ('ham', 0.0041989910228467766), ('ham', 0.8649921507064364), ('ham', 7.899469119475249e-06), ('ham', 5.360354045358201e-06), ('ham', 1.7401131290350907e-08), ('ham', 0.8649921507064364), ('spam', 6.504524454680684e-36), ('ham', 0.004692989966711106), ('ham', 3.2497395107232827e-16), ('ham', 0.0009879978877286534), ('ham', 0.0039519915509146145), ('ham', 2.537664979842851e-09), ('ham', 1.5174117022070552e-14), ('ham', 0.0014819968315929804), ('spam', 1.6530109665471143e-23), ('ham', 7.625900309282717e-11), ('ham', 2.4168237903265155e-09), ('ham', 3.293529683720079e-24)]\n"
     ]
    }
   ],
   "source": [
    "labels = predict(dev)\n",
    "print(labels)"
   ]
  },
  {
   "cell_type": "markdown",
   "id": "c04f8d1f",
   "metadata": {},
   "source": [
    "## Score\n",
    "\n",
    "Let's get accuracy and the confusion matrix."
   ]
  },
  {
   "cell_type": "code",
   "execution_count": 23,
   "id": "e45c837a",
   "metadata": {},
   "outputs": [],
   "source": [
    "# These come directly from day 24\n",
    "\n",
    "def accuracy(y, yhat):\n",
    "    assert len(y) == len(yhat)\n",
    "    diffs = y == yhat\n",
    "    vals, counts = np.unique(diffs, return_counts=True)\n",
    "    return counts[np.where(vals == True)] / (np.sum(counts))\n",
    "    \n",
    "def confusionMatrix(y, yhat):\n",
    "    \"Thanks to https://stackoverflow.com/questions/2148543/how-to-write-a-confusion-matrix-in-python\"\n",
    "    allLabels = sorted(list(np.union1d(y, yhat)))\n",
    "    print(allLabels)\n",
    "    assert len(y) == len(yhat)\n",
    "    result = np.zeros((len(allLabels), len(allLabels)))\n",
    "    for i in range(len(y)):\n",
    "        result[allLabels.index(y[i])][allLabels.index(yhat[i])] += 1\n",
    "    return result"
   ]
  },
  {
   "cell_type": "code",
   "execution_count": 24,
   "id": "5498848b",
   "metadata": {},
   "outputs": [
    {
     "data": {
      "text/plain": [
       "array([0.96768402])"
      ]
     },
     "execution_count": 24,
     "metadata": {},
     "output_type": "execute_result"
    }
   ],
   "source": [
    "accuracy([x[0] for x in labels], dev[:, 0])"
   ]
  },
  {
   "cell_type": "code",
   "execution_count": 25,
   "id": "93261504",
   "metadata": {},
   "outputs": [
    {
     "name": "stdout",
     "output_type": "stream",
     "text": [
      "['ham', 'spam']\n"
     ]
    },
    {
     "data": {
      "text/plain": [
       "array([[483.,  17.],\n",
       "       [  1.,  56.]])"
      ]
     },
     "execution_count": 25,
     "metadata": {},
     "output_type": "execute_result"
    }
   ],
   "source": [
    "confusionMatrix([x[0] for x in labels], dev[:, 0])"
   ]
  },
  {
   "cell_type": "markdown",
   "id": "0e6c82ce",
   "metadata": {},
   "source": [
    "Note that accuracy isn't super helpful here, since there are so many 'ham' emails. \n",
    "\n",
    "Question: *What would the accuracy be if the model just labeled __everything__ as 'ham'?*\n",
    "\n",
    "## TPR, FPR, Precision, Recall, F, ROC, AUC\n",
    "\n",
    "Let's make a different version of the confusion matrix focusing on just the 'spam' class, which is the class we really want to do well on:\n",
    "\n",
    "| | Predict not in 'spam' | Predict in 'spam' | Rates |\n",
    "| -- | --- | --- | -- |\n",
    "| Actual not in 'spam' | TN | FP | FPR = FP/(FP+TN) |\n",
    "| Actual in 'spam' | FN | TP | TPR = TP/(TP+FN) |\n",
    "\n",
    "With a table like this, we can also calculate:\n",
    "* Precision (how many of those we guessed were 'spam' were actually 'spam'?): TP / (TP + FP)\n",
    "* Recall (how many actual 'spam' did we guess were 'spam'?): TP / (TP + FN)\n",
    "\n",
    "Then, to get an assessment of recall and precision together, we can calculate F1: (2\\*Precision\\*Recall)/(Precision+Recall)\n",
    "\n",
    "We can also plot the ROC curve and calculate AUC.\n",
    "* ROC - receiver operating characteristic curve, constructed by plotting the TPR against the FPR\n",
    "* AUC - area under the ROC curve\n",
    "\n",
    "Here is a good introduction to these: https://www.displayr.com/what-is-a-roc-curve-how-to-interpret-it/\n",
    "\n",
    "We will plot the ROC curve using sklearn."
   ]
  },
  {
   "cell_type": "code",
   "execution_count": 28,
   "id": "12bf8dfd",
   "metadata": {},
   "outputs": [
    {
     "data": {
      "image/png": "[encoded data removed]",
      "text/plain": [
       "<Figure size 1000x800 with 1 Axes>"
      ]
     },
     "metadata": {
      "needs_background": "light"
     },
     "output_type": "display_data"
    }
   ],
   "source": [
    "from sklearn import metrics\n",
    "\n",
    "# This code comes from https://thecleverprogrammer.com/2021/04/07/auc-and-roc-curve-using-python/\n",
    "\n",
    "# Have to convert the labels to ints for the sklearn implementation\n",
    "labelmap = ['ham', 'spam']\n",
    "auc = metrics.roc_auc_score([labelmap.index(x[0]) for x in labels], [labelmap.index(x) for x in dev[:, 0]])\n",
    "\n",
    "false_positive_rate, true_positive_rate, thresolds = metrics.roc_curve([labelmap.index(x[0]) for x in labels], [labelmap.index(x) for x in dev[:, 0]])\n",
    "\n",
    "plt.figure(figsize=(10, 8), dpi=100)\n",
    "plt.axis('scaled')\n",
    "plt.xlim([0, 1])\n",
    "plt.ylim([0, 1])\n",
    "plt.title(\"AUC & ROC Curve\")\n",
    "plt.plot(false_positive_rate, true_positive_rate, 'g')\n",
    "plt.fill_between(false_positive_rate, true_positive_rate, facecolor='lightgreen', alpha=0.7)\n",
    "plt.text(0.95, 0.05, 'AUC = %0.4f' % auc, ha='right', fontsize=12, weight='bold', color='blue')\n",
    "plt.xlabel(\"False Positive Rate\")\n",
    "plt.ylabel(\"True Positive Rate\")\n",
    "plt.show()"
   ]
  },
  {
   "cell_type": "markdown",
   "id": "226f72cb",
   "metadata": {},
   "source": [
    "## Are we happy?\n",
    "\n",
    "We could potentially do better:\n",
    "* We could add information from *outside the text*. Modern spam filters use features like whether the sender's email address is the same as the reply-to email address, whether the IP address the email comes from matches that of the domain of the sender's email address, whether this same email is being sent to a lot of people at the same time, whether this sender has ever emailed this recipient before (and how often), and all kinds of behavioral features.\n",
    "* We have a *class imbalance*: there are a lot more 'ham' emails than there are 'spam' emails. We can deal with this by *changing the decision threshold*, *downsampling* the 'ham' emails, *upsampling* (repeating) the 'spam' emails, or [other techniques](https://machinelearningmastery.com/tactics-to-combat-imbalanced-classes-in-your-machine-learning-dataset/?msclkid=33d6b961b9df11ec98e519046a973ddf)."
   ]
  },
  {
   "cell_type": "markdown",
   "id": "ae53ad16",
   "metadata": {},
   "source": [
    "Resources:\n",
    "* https://towardsdatascience.com/roc-curve-and-auc-from-scratch-in-numpy-visualized-2612bb9459ab\n",
    "* https://towardsdatascience.com/roc-and-auc-how-to-evaluate-machine-learning-models-in-no-time-fb2304c83a7f"
   ]
  }
 ],
 "metadata": {
  "kernelspec": {
   "display_name": "Python 3 (ipykernel)",
   "language": "python",
   "name": "python3"
  },
  "language_info": {
   "codemirror_mode": {
    "name": "ipython",
    "version": 3
   },
   "file_extension": ".py",
   "mimetype": "text/x-python",
   "name": "python",
   "nbconvert_exporter": "python",
   "pygments_lexer": "ipython3",
   "version": "3.9.7"
  }
 },
 "nbformat": 4,
 "nbformat_minor": 5
}
