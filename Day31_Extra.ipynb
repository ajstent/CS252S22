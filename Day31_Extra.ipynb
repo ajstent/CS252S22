{
 "cells": [
  {
   "attachments": {},
   "cell_type": "markdown",
   "id": "569b500d",
   "metadata": {},
   "source": [
    "# The One Goal for Today\n",
    "\n",
    "Understand how to fit a naive Bayes model using text data."
   ]
  },
  {
   "cell_type": "code",
   "execution_count": 1,
   "id": "6a85d985",
   "metadata": {},
   "outputs": [],
   "source": [
    "import numpy as np\n",
    "import re\n",
    "from sklearn.feature_extraction.text import CountVectorizer\n",
    "from sklearn.preprocessing import LabelEncoder\n",
    "from sklearn.naive_bayes import MultinomialNB, GaussianNB, ComplementNB, BernoulliNB\n",
    "from sklearn.metrics import confusion_matrix, classification_report\n",
    "from zipfile import ZipFile"
   ]
  },
  {
   "cell_type": "markdown",
   "id": "5b45ff9b",
   "metadata": {},
   "source": [
    "# Naive Bayes for Text, Multi-Class\n",
    "\n",
    "Text data, *without preprocessing*, is qualitative data. Let's use Naive Bayes to classify some text data! Today's data  has more than two classes, so this is multi-class classification rather than binary classification. \n",
    "* last week Monday: Bayes Rule\n",
    "* last week Wednesday: Naive Bayes, one independent variable, binary classification\n",
    "* last week Friday: Naive Bayes, two independent variables, binary classification; Laplace smoothing\n",
    "* this week Monday: Naive Bayes, many independent variables, binary classification; Laplace smoothing and log space\n",
    "* today: Naive Bayes, many independent variables, multiclass classification\n",
    "* Friday: deep dive into evaluation metrics beyond accuracy and confusion matrices\n",
    "\n",
    "I'm going to be using the news dataset from [here](https://data.world/elenadata/vox-articles). Side note: this data set was released for a workshop in 2017 that I co-organized!\n",
    "\n",
    "## I. Load and Look at our data\n",
    "\n",
    "Let's load and __look at our data__. Where is the dependent variable?\n",
    "\n",
    "This data is big, so I zipped it. Let's look at the first five lines."
   ]
  },
  {
   "cell_type": "code",
   "execution_count": 2,
   "id": "bafc77dc",
   "metadata": {},
   "outputs": [
    {
     "name": "stdout",
     "output_type": "stream",
     "text": [
      "[b'title\\tauthor\\tcategory\\tpublished_date\\tupdated_on\\tslug\\tblurb\\tbody\\n', b'Bitcoin is down 60 percent this year. Here\\'s why I\\'m still optimistic.\\tTimothy B. Lee\\tBusiness & Finance\\t2014-03-31 14:01:30\\t2014-12-16 16:37:36\\thttp://www.vox.com/2014/3/31/5557170/bitcoin-bad-currency-good-network\\t\"Bitcoins have lost more than 60 percent of their value this year. But their long-term outlook is still bright.\"\\t<p>The markets haven\\'t been kind to<span> </span><a href=\"http://www.vox.com/cards/bitcoin/\" style=\"font-size: 17px; line-height: 28.4624996185303px;\">Bitcoin</a> in 2014. The currency reached a high of nearly $1,000 in January before falling to around $350 this month, a plunge of more than 60 percent. It would be easy to write Bitcoin off as a fad whose novelty has worn off.</p> \\\\n<p>After all, dollars seem superior in almost every respect. T<span>hey\\'re accepted everywhere, they\\'re convenient to use, and they have a stable value. Bitcoin is an inferior currency on all three counts.</span></p> \\\\n<p><q class=\"right\"><span>Bitcoin\\'s detractors are making the same mistake as many Bitcoin fans</span> </q></p> \\\\n<p><span>Yet it would be foolish to write Bitcoin off. The currency has had months-long slumps in the past, only to bounce back. </span>More importantly, it\\'s a mistake to think about Bitcoin as a new kind of currency. W<span>hat makes Bitcoin potentially revolutionary is that it\\'s the world\\'s first completely open financial network.</span></p> \\\\n<p><span>History suggests that open platforms like Bitcoin often become fertile soil for innovation. Think about the internet. It didn\\'t seem like a very practical technology in the 1980s. But it was an open platform that anyone could build on, and in the long run it proved to be really useful.</span></p> \\\\n<p>The internet succeeded because Silicon Valley have created applications that harness the internet\\'s power while shielding users from its complexity.\\xc2\\xa0<span>You don\\'t have to be an expert on the internet\\'s TCP/IP protocols to check Facebook on your iPhone.</span></p> \\\\n<p>Bitcoin applications can work the same way. There are already some Bitcoin applications that allow customers to make transactions over the Bitcoin network without being exposed to fluctuations in the value of Bitcoin\\'s currency. That basic model should work for a wide variety of Bitcoin-based services, allowing the Bitcoin payment network to reach a mainstream audience.</p> \\\\n<p><img src=\"http://cdn2.vox-cdn.com/assets/4215235/imp.jpg\" class=\"photo\" alt=\"Imp\"></p> \\\\n<p><span><span></span></span></p> \\\\n<p class=\"caption\">This is the very first node on the ARPANET, the predecessor to the Internet that launched in 1969. (Flickr/<a href=\"https://www.flickr.com/photos/fastlizard4/6294438012/\">FastLizard4</a>)</p> \\\\n<p><span></span></p> \\\\n<h3><span>The first open financial network</span></h3> \\\\n<p>The Bitcoin network serves the same purpose as mainstream payment networks such as Visa or Western Union. But there\\'s an important difference. The Visa and Western Union networks are owned and operated by for-profit companies. If you want to build a business based on one of those networks, you have to get permission from the owner.</p> \\\\n<p>And that\\'s not always easy. To use the Visa network, for example, you have to comply with\\xc2\\xa0<a href=\"https://usa.visa.com/download/merchants/visa-international-operating-regulations-main.pdf\">hundreds of pages</a> of regulations. The Visa network also has high fees, and there are some things Visa won\\'t let you do on its network at all.</p> \\\\n<p>Bitcoin is different. Because no one owns or controls the network, there are no limits on how people can use it. Some people have used that freedom to do illegal things like buying drugs or gambling online. But it also means there\\'s a low barrier to entry for building new Bitcoin-based financial services.</p> \\\\n<p>There\\'s an obvious parallel to the internet. Before the internet became mainstream, the leading online services were commercial networks like Compuserve and Prodigy. The companies that ran the network decided what services would be available on them.</p> \\\\n<p><span>In contrast, the internet was designed for anyone to create new services. Tim Berners-Lee didn\\'t need to ask anyone\\'s permission to create the world wide web. He simply wrote the first web browser and web server and posted them online for others to download. Soon thousands of people were using the software and the web was born.</span></p> \\\\n<h3>Finding Bitcoin\\'s killer app</h3> \\\\n<p>So what will people do with Bitcoin? It\\'s hard to predict tomorrow\\'s innovations, but we can get some idea of Bitcoin\\'s potential by thinking about weaknesses of the conventional financial system.</p> \\\\n<p><q class=\"left\"><span>Bitcoin is such a good deal for merchants that they may find it worthwhile to offer their customers discounts for paying with Bitcoin instead of cash or credit cards</span></q></p> \\\\n<p>One obvious application is international money transfers. Companies like Western Union and Moneygram can charge as much as 8 percent to transfer cash from one country to another, and transfers can take as long as 3 days to complete. In contrast, Bitcoin transactions only take about 30 minutes to clear, and Bitcoin transaction fees could be a lot less than 8 percent.</p> \\\\n<p>People have been\\xc2\\xa0<a target=\"_blank\" href=\"http://www.vox.com/2014/11/1/7139785/there-are-now-285-bitcoin-atms-around-the-world\">building Bitcoin ATMs</a> to let people convert between bitcoins and their local currency. The first Bitcoin ATM was launched a little over a year ago. Today, there are\\xc2\\xa0<a target=\"_blank\" href=\"http://coinatmradar.com/\">329 of them</a>.</p> \\\\n<p><span>If these devices continue to proliferate, they could become a useful alternative to conventional money-transfer services. Currently, each machine charges a transaction fee of around 3 percent, so the total cost of transferring money from one Bitcoin ATM to another is around 6 percent. That\\'s comparable to the fees charged by incumbent money transfer services, and competition is likely to push down Bitcoin ATM fees over time.</span></p> \\\\n<p>A more ambitious application for Bitcoin would be as an alternative to credit cards for daily purchases. Startups such Bitpay have already figured out how to make Bitcoin attractive to merchants as a way of accepting payments. Credit card networks charge merchants around 3 percent to process transactions. Bitpay charges 1 percent or less to accept Bitcoin payments on behalf of merchants. Bitpay merchants don\\'t have to worry about the headache of disputed payments known as \"chargebacks.\"</p> \\\\n<p><span>Of course, for Bitcoin to take off as an alternative to credit cards, consumers will have to start using them regularly. And that\\'s going to be a hard sell, especially if consumers are exposed to the risk of Bitcoin\\'s volatility.</span></p> \\\\n<p>But a Bitcoin-based payment app could also have some advantages. One is security. The current credit card network essentially works on the honor system, allowing any merchant to charge a credit card and relying on after-the-fact adjudication to police fraud. Bitcoin could allow companies to experiment with alternative approaches that build in security at the front end, for example by asking users to confirm a transaction on their smartphones before it\\'s approved. That could cut fraud, reducing the hassle of disputing fraudulent payments and allowing lower fees.</p> \\\\n<p>Moreover, Bitcoin is such a good deal for merchants that they may find it worthwhile to offer their customers discounts for paying with Bitcoin instead of cash or credit cards. That might entice bargain-hunting consumers who aren\\'t otherwise interested in trying a new payment technology.</p> \\\\n<p><img src=\"http://cdn0.vox-cdn.com/assets/4215267/6355318323_4c41d3ef76_b.jpg\" class=\"photo\" alt=\"6355318323_4c41d3ef76_b\"></p> \\\\n<p class=\"caption\"><a href=\"https://www.flickr.com/photos/68751915@N05/6355318323/sizes/l\" style=\"font-size: 12px; font-style: italic; line-height: 15px;\">401(K) 2013</a></p> \\\\n<h3><span>Using Bitcoin-the-network without Bitcoin-the-currency</span></h3> \\\\n<p>The biggest stumbling block for many Bitcoin services is Bitcoin\\'s volatility. The current generation of Bitcoin \"wallet\" apps, which store bitcoins on behalf of users, expose consumers to fluctuations in Bitcoin\\'s value. Ordinary consumers are unlikely to ever be comfortable with a payment system where their wealth can shrink by 10 percent or more in a single day.</p> \\\\n<p>Fortunately, it\\'s possible to design Bitcoin-based financial services that don\\'t expose users to fluctuations in Bitcoin\\'s value. Bitpay is a good example. Bitpay merchants set prices in conventional currencies such as the dollar, converting to the equivalent number of Bitcoins at the time of sale. Once the sale is made, Bitpay immediately converts it to an equivalent number of dollars and deposits the cash in the merchant\\'s conventional bank account. This means that from the merchant\\'s perspective, Bitpay is just another way of accepting dollars. A Bitpay merchant isn\\'t affected at all by fluctuations in the value of Bitcoin.</p> \\\\n<p>The same principle could apply to any other Bitcoin-based service. A consumer-friendly payments app could store a user\\'s cash in dollars, converting them to bitcoins at the time of payment. Under the hood the app could use the full power of the Bitcoin platform, but from the user\\'s perspective it would just seem like another way of paying for things with dollars.</p> \\\\n<p>You\\'re probably wondering: if Bitcoin\\'s value is as a payment network, why not just build an open payment network based on a conventional currency like the dollar? An open, dollar-based payment network would be a great idea. The problem is that no one has figured out how to build one.</p> \\\\n<p>Dollars in the Paypal network are worth a dollar because the Paypal company has promised to honor withdrawal requests. But there\\'s no organization to perform this role on a peer-to-peer network like Bitcoin.</p> \\\\n<p>Suppose there were a network called Dollarcoin that worked exactly like Bitcoin except a company called Dollarcoin Inc. promised to convert dollarcoins into dollars. Then the value of one dollarcoin would always equal one dollar. But as the manager of the Dollarcoin network, the Dollarcoin company would face pressure to comply with a variety of laws regarding fraud, money laundering, and so forth. To keep the costs of complying with those requirements under control, it would be forced to regulate who could use the network and how. (Indeed, that\\'s exactly what\\xc2\\xa0<a href=\"http://www.amazon.com/The-PayPal-Wars-Battles-Planet/dp/1936488590\">happened to Paypal</a> 15 years ago.) Over time, the Dollarcoin network could become as restrictive as conventional financial networks.</p> \\\\n<p>Bitcoin\\'s openness depends on the fact that no one owns the network. And with no owner, there\\'s no one to guarantee that bitcoins have a predictable value.</p> \\\\n<p>Many of Bitcoin\\'s early adopters were acolytes of Ron Paul\\'s brand of hard-money libertarianism. They were attracted to the promise of a currency whose supply was outside of state control, and as a consequence, Bitcoin has gained a reputation as the second coming of the gold standard. That, in turn, has made mainstream economists who are hostile to Ron Paul and the gold standard hostile to Bitcoin.</p> \\\\n<p>But in reality, the case for Bitcoin simply doesn\\'t have much to do with its unorthodox monetary policy. Bitcoin is a payment network that happens to have its own currency, not the other way around. It\\'s worth taking seriously whether or not you agree with Ron Paul\\'s views on the Federal Reserve.</p>\\n', b'6 health problems marijuana could treat better than traditional medicine\\tGerman Lopez\\tWar on Drugs\\t2014-03-31 15:44:21\\t2014-11-17 00:20:33\\thttp://www.vox.com/2014/3/31/5557700/six-problems-medical-marijuana-might-treat-better-than-traditional\\t\"Medical marijuana could fill gaps that currently exist in traditional medicine.\"\\t<p>Twenty states have so far legalized the medical use of marijuana, and researchers are starting to look at how, exactly, patients can put those laws to the best use.</p> \\\\n<p>There\\'s a burgeoning field of research exploring what medical conditions marijuana is best suited to treat \\xe2\\x80\\x94 and how, in certain cases, it might actually outperform traditional medicine. But the evidence remains quite limited, largely as a result of prohibition and strict federal oversight of medical research.</p> \\\\n<p>\"Millions of patients are using this plant, and we need to understand it,\" says Sue Sisley, a doctor and researcher at the University of Arizona. \"It is negligent for these 20 states to go selling cards to marijuana patients without actively conducting rigorous medical marijuana research that\\'s necessary.\"</p> \\\\n<p><q class=\"center\">\"Millions of patients are using this plant, and we need to understand it\"</q></p> \\\\n<p>Sisley wants to study marijuana as a treatment for military veterans with PTSD (post-traumatic stress disorder), but it took until March \\xe2\\x80\\x94 <a href=\"http://www.maps.org/research/mmj/timeline/\">nearly four years after the study\\'s conception</a> \\xe2\\x80\\x94 for the study to get federal approval. First, she needed the Food and Drug Administration to sign off. Then, her team waited three years for approval from the Public Health Service to obtain legal marijuana supplies. <span>(No other </span><a href=\"http://www.justice.gov/dea/druginfo/ds.shtml\">schedule 1 drug</a><span> </span><span>needs the extra round of approval,</span><span> </span><a href=\"http://www.maps.org/media/view/press_release_public_health_service_blocks_fda-approved_medical_mariju/\">according to Multidisciplinary Association for Psychedelic Studies</a><span>.)</span></p> \\\\n<p>\"It\\'s a long process,\" Sisley says. \"And we believe the only reason we got the Public Health Service approval, finally, was because of really strong advocacy from our veterans all over the country who were asking the federal government why they were blocking this research.\"</p> \\\\n<p><span></span><span>Despite the difficulties, some marijuana research managed to get approval in the United States and other countries over the past few years. And the findings so far suggest a drug that holds the potential to treat some medical problems better than traditional medicine.</span></p> \\\\n<h3><span>Pain</span></h3> \\\\n<p><img src=\"http://cdn0.vox-cdn.com/assets/4243637/482681757.jpg\" class=\"photo\" alt=\"482681757\"></p> \\\\n<p class=\"caption\">Marijuana could relieve foot pain. Anadolu Agency</p> \\\\n<p>Among the most obvious medical qualities of marijuana is its use as a painkiller. At least <a href=\"http://www.cmaj.ca/content/182/14/E694.abstract\">two</a> <a href=\"https://www.neurology.org/content/68/7/515.abstract\">studies</a> found marijuana can successfully treat different kinds of pain, including a difficult-to-treat kind called neuropathic pain and pain among HIV/AIDS patients.</p> \\\\n<p>The major advantage to marijuana as a painkiller is it could reduce reliance on more addictive, dangerous opiates. One study <a href=\"http://www.ncbi.nlm.nih.gov/pubmed/22048225\">concluded</a> that marijuana use allowed patients with pain to reduce their opiate use. Considering <a href=\"http://www.newrepublic.com/article/116922/what-makes-heroin-crisis-different-doctor-prescribed-pills\">how doctor\\'s prescriptions play into opiate abuse</a>, marijuana as a painkiller could produce sweeping public health benefits by limiting the pathways to abuse.</p> \\\\n<h3>Nausea and loss of appetite</h3> \\\\n<p><img src=\"http://cdn2.vox-cdn.com/assets/4242741/3450266_1_.jpg\" class=\"photo\" alt=\"3450266_1_\"></p> \\\\n<p class=\"caption\">Everyone loves pizza. Tim Boyle / Getty Images News</p> \\\\n<p>Marijuana users are likely familiar with the munchies, a strong desire to eat while under the influence. It should come as little surprise, then, that marijuana is a great way to treat nausea and loss of appetite, <a href=\"http://medicalmarijuana.procon.org/sourcefiles/IOM_Report.pdf\">according to the Institute of Medicine</a>.</p> \\\\n<p>Treating these symptoms can play a pivotal role in recovering from a serious illness. Cancer patients, for example, often experience nausea and loss of appetite \\xe2\\x80\\x94 and, as a result, rapid weight lost \\xe2\\x80\\x94 during chemotherapy treatments. Getting these patients to eat healthy could speed up their recoveries, making it <a href=\"http://www.webmd.com/cancer/features/eating-treatment\">a major interest</a> among health experts.</p> \\\\n<h3>Parkinson\\'s disease</h3> \\\\n<p><img src=\"http://cdn0.vox-cdn.com/assets/4242733/144995835_1_.jpg\" class=\"photo\" alt=\"144995835_1_\"></p> \\\\n<p class=\"caption\">Marijuana could let you sleep like this red panda. Mark Ralston / AFP</p> \\\\n<p>Parkinson\\'s disease is a disorder that leads to shaking and difficulty with movement. It also often leads to pain and <a href=\"http://www.everydayhealth.com/parkinsons-disease/sleeping-well-with-parkinsons-disease.aspx\">sleep deprivation</a>.</p> \\\\n<p><a href=\"http://onlinelibrary.wiley.com/doi/10.1111/j.1476-5381.2011.01278.x/abstract\">One study</a> concluded marijuana\\'s psychoactive properties could be particularly suited to treat Parkinson\\'s. <a href=\"http://www.ncbi.nlm.nih.gov/pubmed/24614667\">Another study</a> found marijuana significantly improved pain and sleep issues among Parkinson\\'s patients. Both studies advised more research, but their initial results were noted as positive.</p> \\\\n<h3>Inflammatory bowel disease</h3> \\\\n<p><img src=\"http://cdn2.vox-cdn.com/assets/4242773/179789883.jpg\" class=\"photo\" alt=\"179789883\"></p> \\\\n<p class=\"caption\">Marijuana could make this pain go away. BSIP / Universal Images Group</p> \\\\n<p>Inflammatory bowel disease (IBD) \\xe2\\x80\\x94 not to be mixed up with irritable bowel syndrome \\xe2\\x80\\x94 is a painful, potentially life-threatening illness that involves chronic inflammation of a person\\'s digestive tract. Crohn\\'s disease is a severe form of IBD that can lead to abdominal pain, severe diarrhea, and malnutrition.</p> \\\\n<p>IBD and Crohn\\'s disease currently have no cure. Instead, <a href=\"http://www.webmd.com/digestive-disorders/features/crohns-disease-54-tips-to-help-you-manage\">current treatments</a> focus on prolonging remission periods for as long as possible.</p> \\\\n<p>But <a href=\"http://www.ncbi.nlm.nih.gov/pubmed/23648372\">a recent study</a> found marijuana produced significant, steroid-free benefits for Crohn\\'s disease patients with no side effects. The study, admittedly, used a small sample size and called for more research. But in <a href=\"http://www.karger.com/Article/FullText/356512\">an extensive review</a> of the study, other researchers concluded that the study\\'s findings live up to the historical and scientific expectations normally attached to marijuana as a treatment for IBD.</p> \\\\n<h3>PTSD</h3> \\\\n<p><img src=\"http://cdn0.vox-cdn.com/assets/4242829/141948241.jpg\" class=\"photo\" alt=\"141948241\"></p> \\\\n<p class=\"caption\">Marijuana could block receptors in the brain that cause PTSD. Dan Kitwood / Getty Images News</p> \\\\n<p>PTSD is an anxiety disorder that occurs after moments of extreme emotional trauma. It\\'s a well-recognized problem among military veterans, with no adequate pharmaceutical treatments.</p> \\\\n<p>Except perhaps marijuana. <a href=\"http://communications.med.nyu.edu/media-relations/news/brain-imaging-study-links-cannabinoid-receptors-post-traumatic-stress-disorder\">A brain-imaging study</a> concluded that marijuana\\'s chemical properties seem particularly poised for addressing PTSD.</p> \\\\n<p class=\"p3\"><span class=\"s2\">\"There\\xe2\\x80\\x99s a consensus among clinicians  that existing pharmaceutical treatments such as antidepressants simply  do not work,\" Alexander Neumeister, the study\\xe2\\x80\\x99s lead researcher, said in  a statement. \"In fact, we know very well that people with PTSD who use  marijuana \\xe2\\x80\\x94 a potent cannabinoid \\xe2\\x80\\x94 often experience more relief from  their symptoms than they do from antidepressants and other psychiatric  medications.\"</span></p> \\\\n<p class=\"p3\">It should come as little surprise, then, that the first person to buy recreational marijuana in Colorado was <span class=\"s2\"><a href=\"http://www.politico.com/story/2014/01/legal-recreational-pot-industry-opens-in-colorado-101660.html\">Sean Azzariti</a>, an Iraq War veteran suffering from PTSD. (Colorado law currently forbids treating PTSD with medical marijuana.)</span></p> \\\\n<p class=\"p3\">Azzariti\\'s example speaks to one problem often raised by supporters of medical marijuana: sometimes allowing marijuana for medical purposes isn\\'t enough; it\\'s important for advocates to push states to expand the drug\\'s medical availability.</p> \\\\n<h3>Epilepsy and seizures</h3> \\\\n<p><img src=\"http://cdn0.vox-cdn.com/assets/4242877/698723.jpg\" class=\"photo\" alt=\"698723\"></p> \\\\n<p class=\"caption\">Researchers would like to give medical marijuana a deeper look. Michel Porro / Getty Images News</p> \\\\n<p>Although the scientific evidence is scarce, the Epilepsy Foundation <a href=\"http://www.epilepsy.com/article/2014/2/epilepsy-foundation-calls-increased-medical-marijuana-access-and-research\">argues</a> that medical marijuana should be opened up to patients with epilepsy and uncontrollable seizures.</p> \\\\n<p class=\"p3\">With medical marijuana spreading across the states, stories have trickled out claiming that marijuana helped solve people\\'s struggles with epilepsy and seizures. A cancer patient, for example, <a href=\"http://citybeat.com/cincinnati/article-27741-healthy_hits.html\">told me</a> last year that taking marijuana eased her epilepsy, on top of her nausea and loss of appetite.<span class=\"s2\"> \"Without medical marijuana, I wouldn\\xe2\\x80\\x99t be alive today,\" she said. \"It really has changed my life for the better.\"</span></p> \\\\n<p>Still, the scientific evidence remains limited to animal trials. At the center of the issue is the federal government\\'s restrictions on marijuana-related clinical research. The Epilepsy Foundation argues the Drug Enforcement Agency should relax its classification for marijuana, which is currently marked as more dangerous than cocaine, to support more research.</p> \\\\n<p>The problem isn\\'t limited to just epilepsy, however. It\\'s long been difficult to study marijuana due to federal restrictions. While this list is limited to six examples, it could certainly grow as legalization encourages doctors and researchers to take another look at a drug once marked as taboo.</p>\\n', b'9 charts that explain the history of global wealth\\tMatthew Yglesias\\tBusiness & Finance\\t2014-04-10 13:30:01\\t2014-12-16 15:47:02\\thttp://www.vox.com/2014/4/10/5561608/9-charts-that-explain-the-history-of-global-wealth\\t\"These nine charts from Thomas Piketty\\'s new book depict the history of wealth accumulation over the long term.\"\\t<p>Thomas Piketty\\'s book <i>Capital in the 21st Century</i> advances an important and provocative argument about the future of the world economy. <a href=\"http://www.vox.com/2014/4/8/5592198/the-short-guide-to-capital-in-the-21st-century\">You can read all about it here in our short guide to the book</a>. But the argument <span class=\"GINGER_SOFTWARE_mark\">is built</span> upon the most impressive set of data ever assembled about the history of wealth around the world, and that data <span class=\"GINGER_SOFTWARE_mark\">tells</span> many stories beyond the main narrative argument of the book. Here we present nine charts drawn from the book that illustrate the history of the global economy.</p> \\\\n<h3><span>1) The fall and rise of Asia</span></h3> \\\\n<p><img src=\"http://cdn3.vox-cdn.com/assets/4204525/World_Output.png\" class=\"photo\" alt=\"World_output\">300 years ago, a majority of the world\\'s economic output was located on the Asian continent. But with the coming of the Industrial Revolution, Europe\\'s share of the global economy increased substantially. As European settled the Western Hemisphere and brought industrial economics with them, the Americas rose as well. Asia\\'s share of world output shrunk massively, despite the continent\\'s enormous population. But over the past 20-30 years, Asia\\'s staged a massive comeback. Its share of world output isn\\'t yet back to where it was in 1714 but it\\'s getting close.</p> \\\\n<h3><span>2) The return of inequality in Britain</span></h3> \\\\n<p><img src=\"http://cdn1.vox-cdn.com/assets/4204533/capital_in_britain.png\" class=\"photo\" alt=\"Capital_in_britain\">This chart shows the extent and nature of British wealth as compared to British income. In the 18th and 19th centuries, <span class=\"GINGER_SOFTWARE_mark\">wealth</span> was massive relative to income and much of it took the form of agricultural land. Over the course of the 19th century, the relative value of agricultural land shrunk and was largely replaced by \"net foreign capital,\" i.e. British ownership of foreign assets during the heyday of the British Empire. Then came the world wars. The foreign capital was liquidated to pay for the wars, and domestic capital shrunk. Circa 1950 the power of accumulated wealth versus ongoing income reached a low point. But since 1970, wealth has made a comeback, powered considerably by an increase in the value of houses\\xe2\\x80\\x94primarily urban and suburban land in the London area.</p> \\\\n<h3><span>3) The return of inequality in Germany</span></h3> \\\\n<p><img src=\"http://cdn3.vox-cdn.com/assets/4204565/capital_in_germany.png\" class=\"photo\" alt=\"Capital_in_germany\">The story of German wealth is different from the British story in almost every detail. \"Net foreign capital,\" meaning German ownership of foreign assets, was not very important in the pre-World War I era. <span class=\"GINGER_SOFTWARE_mark\">Instead wealth</span> was driven overwhelmingly by \"other domestic capital,\" meaning the value of German industrial and commercial enterprises. German wealth was, of course, massively destroyed by the world wars. But it\\'s rebounded strongly since its low point. Interesting, despite Germany\\'s vaunted industrial capabilities the rebound has <i>not</i> been driven by a large increase in domestic capital. Instead the key sectors are domestic housing and ownership of foreign assets.</p> \\\\n<h3><span>4) America\\'s age of equality</span></h3> \\\\n<p><img src=\"http://cdn0.vox-cdn.com/assets/4204589/Capital_in_the_United_States.png\" class=\"photo\" alt=\"Capital_in_the_united_states\">American economic history looks very different from Britain or Germany. We apparently enjoyed an edenic early period prior to 1880 in which accumulated wealth was small relative to ongoing income. This was a world in which a few years of hard work could, it seems, easily help you stack up against the might of the already wealthy. Many of America\\'s enduring narratives about itself clearly owe a debt to this early period, even though the more recent trajectory has been different.</p> \\\\n<h3> \\\\n<div id=\"slaves\"><span>5) The fall of the slaveholding aristocracy</span></div> \\\\n</h3> \\\\n<p><img src=\"http://cdn0.vox-cdn.com/assets/4204611/United_States_With_Slavery.png\" class=\"photo\" alt=\"United_states_with_slavery\"></p> \\\\n<p>The image of early 19th century America has a relatively egalitarian landscape turns out to neglect something important: slavery. Millions of people of African ancestry were held in bondage, making the idea of hard work as the ticket to success a joke. And possession of their labor was extremely valuable. As this chart illustrates, slave wealth was slightly more valuable than all the agricultural land in the country put together. It was also more valuable than all the factories and railroads and canals combined. In a world of relatively abundant land and high wages, owning black people was <i>the</i> key to wealth. And the process of emancipation was possibly the single greatest expropriation of wealth in human history.</p> \\\\n<h3><span>6) The varieties of capitalism</span></h3> \\\\n<p><img src=\"http://cdn2.vox-cdn.com/assets/4204627/market_value_and_book_value.png\" class=\"photo\" alt=\"Market_value_and_book_value\">This chart is a little difficult to understand, but it\\'s very deep. For several different countries, it compares the \"market value\" of their companies (i.e., what it would cost to buy all the shares of their stock) to the \"book value\" of the companies (i.e., the value of the factories, patents, offices, etc. that the companies own). This lets us see that in the United States, Canada, and the United Kingdom share prices are high relative to the book value of companies. The Anglophone countries have shareholder-friendly legal systems in which the owners of stock control enterprises. In Germany, stocks are much less valuable because the legal system gives much more weight to the interests of employees and other stakeholders. France is an intermediate case. These different conceptions of capitalism coexist with vast sums of wealth at stake in the difference between them.</p> \\\\n<h3><span>7) The really really rich are different from you and me</span></h3> \\\\n<p><img src=\"http://cdn0.vox-cdn.com/assets/4204659/income_composition.png\" class=\"photo\" alt=\"Income_composition\">This chart shows that the vast majority of people in the top 10 percent of the American income distribution earn a living the way most of us do \\xe2\\x80\\x94 they work for it. But among the top 0.1 percent and the top 0.01 percent things are different. Labor income \\xe2\\x80\\x94 wages and salaries \\xe2\\x80\\x94 are a distinct minority of total earnings. The truly rich don\\'t get their money by working for high pay. They get their money as a consequence of their pre-existing wealth.</p> \\\\n<h3><span>8) Wealth is much more unequal than income</span></h3> \\\\n<p><img src=\"http://cdn2.vox-cdn.com/assets/4207471/wealth_inequality.png\" class=\"photo\" alt=\"Wealth_inequality\">You hear a lot about income inequality, but as this chart makes clear wealth inequality is <i></i><i></i><i></i><i></i><i></i><i></i><i></i><i></i><i></i><i></i><i>much </i>more severe. In the United States, just 1 percent of the population owns about 35 percent of all the wealth. Even in relatively egalitarian Europe, the top 1 percent owns around 25 percent of the wealth. In both continents, the top 10 percent owns over half the wealth. Near the bottom of the spectrum, wealth is typically negative as people have more in debt (whether because of student loans, credit cards, or underwater mortgages) than they have in assets.</p> \\\\n<h3><span>9) The billionaires boom</span></h3> \\\\n<p><img src=\"http://cdn1.vox-cdn.com/assets/4207487/billionaires.png\" class=\"photo\" alt=\"Billionaires\"></p> \\\\n<p>We are living through a golden age of billionaires. In 1996 there were about 400 billionaires. That number has more than tripled. But the total wealth under the control of billionaires has grown even faster \\xe2\\x80\\x94 over five-fold in less than two decades. The trend reflects both growing inequality in rich countries, and growing prosperity in China and other relatively poor ones. The point here is that not only is wealth held unequally, the inequality appears to be growing fractally with the very richest of the rich growing richer at the fastest pace.</p>\\n', b'Remember when legal marijuana was going to send crime skyrocketing?\\tGerman Lopez\\tCriminal Justice\\t2014-04-03 23:25:55\\t2014-05-06 21:58:42\\thttp://www.vox.com/2014/4/3/5563134/marijuana-legalization-crime-denver-colorado\\t\"Three months after legalizing marijuana, Denver defies the early warnings from legalization opponents.\"\\t<p><span>When Colorado legalized recreational marijuana sales, Denver embraced the opportunity with open arms.</span></p> \\\\n<p>The city is now home to more than 62 percent of all Colorado recreational marijuana retailers, who cashed in on <a href=\"http://www.huffingtonpost.com/2014/03/10/colorado-marijuana-tax-revenue_n_4936223.html\">$14 million in sales</a> in January alone.</p> \\\\n<p><span>Other cities weren\\'t so eager: heeding legalization opponents\\'  safety concerns, several pushed off licensing retail sales. Some banned  retail sales altogether.</span></p> \\\\n<p><span>\"There will be many harmful   consequences,\" Douglas County Sheriff David Weaver warned in a September 2012 statement. </span><span>\"Expect more  crime, more kids using marijuana, and pot for sale  everywhere.\"</span></p> \\\\n<p><q class=\"center\">\"Thugs put on masks, they come to your house, they kick in your door. They point guns at you and say, \\'Give me your marijuana, give me your money.\\'\"</q></p> \\\\n<p>One California sheriff <a href=\"http://denver.cbslocal.com/2013/02/11/sheriff-in-california-says-coloradans-will-regret-legalizing-marijuana/\">went on Denver television</a> to warn that, as a result of marijuana in his county, \"thugs put on masks, they come to your house, they kick  in your door. They point guns at you and say, \\'Give me your marijuana,  give me your money.\\'\"</p> \\\\n<p><span>Three months into its legalization experiment, Denver isn\\'t seeing a  widespread rise in crime. Violent and property crimes actually decreased  slightly, and some cities are taking a second look at allowing  marijuana sales.</span></p> \\\\n<p>\"We had folks, kind of doomsayers, saying, \\'Oh my gosh, we\\'re going  to have riots in the streets the day they open,\\'\" Denver City Council  President Mary Beth Susman, a supporter of legal marijuana, says. \"But  it was so quiet.\"</p> \\\\n<h3>Denver\\'s violent crime rate is holding steady</h3> \\\\n<center> \\\\n<p><img alt=\"Violent_crime_in_denver\" class=\"photo\" src=\"http://cdn2.vox-cdn.com/assets/4262311/violent_crime_in_denver.png\"></p> \\\\n</center> \\\\n<p>Denver\\'s <a href=\"http://www.denvergov.org/police/PoliceDepartment/CrimeInformation/CrimeStatisticsMaps/tabid/441370/Default.aspx\">crime data</a><span> shows a slight decrease in the past year: violent crime in January and February fell by 2.4 percent compared to the first two months of 2013.</span></p> \\\\n<h3>Property crime is falling, too</h3> \\\\n<center> \\\\n<p><img src=\"http://cdn1.vox-cdn.com/assets/4262319/Screen_Shot_2014-04-04_at_1.50.37_PM__1_.png\" class=\"photo\" alt=\"Screen_shot_2014-04-04_at_1\"></p> \\\\n</center> \\\\n<p><span>Prior to legalization, </span><a href=\"http://www.denverpost.com/breakingnews/ci_23763821/denver-das-version-violent-medical-marijuana-industry-questioned\">opponents</a><b style=\"line-height: 1.5;\"> </b><span>warned  property crime would rise. Denver District Attorney Mitch  Morrissey argued robbers would prey on marijuana businesses  and their customers, because they\\'re more likely to carry cash (and, of course, the drug). </span></p> \\\\n<p>So far, city data shows no increase in property  crime. Compared to the first two months of 2013, property crime in  January and February actually dropped by 12.1 percent. Reports of  robberies and stolen property dropped by 6.2 percent and 13 percent,  respectively. Burglaries and criminal mischief to property rose by only  0.5 percent.</p> \\\\n<p>Denver residents don\\'t seem especially concerned with the issue,  either. Susman recalls a recent community meeting she held with senior  citizens: when she asked if the crowd wanted her to talk about  marijuana, people told her they were tired of hearing about the issue.</p> \\\\n<p>\"Based on my general understanding in my district, it is becoming ho-hum,\" Susman says.</p> \\\\n<h3>Three months is still a short time frame</h3> \\\\n<p><span> </span></p> \\\\n<p><img src=\"http://cdn2.vox-cdn.com/assets/4236449/459964349.jpg\" class=\"photo\" alt=\"459964349\"></p> \\\\n<p class=\"caption\">Recreational sales began in January. Theo Stroomer / Getty Images News</p> \\\\n<p>Some groups caution that it\\'s too early to tell whether legalization will cause public safety issues in the long term.</p> \\\\n<p>\"We quite frankly don\\'t know,\" Smart Colorado spokesperson Henny  Lasley says. Her group, formed after legalization, focuses on keeping marijuana away from children. \"We\\'ve had three complete months of retail marijuana. We  were getting those questions three days into legalization. It\\'s a pretty  short window.\"</p> \\\\n<p><span>Tom Gorman, director of </span><span>Rocky Mountain High Intensity Drug Trafficking Area, thinks the</span><span> full effects  won\\'t surface until, at best, three to four years. </span></p> \\\\n<p>\"This is a great opportunity for us to find out what happens when you  legalize a substance like marijuana,\" Gorman says. \"Just wait and watch  what happens in these labs, and then you can make a decision based on  data and facts and not rhetoric.\"</p> \\\\n<p>Some marijuana legalization opponents, on the other hand, have  adopted a softer opinion. Denver Mayor Michael Hancock, who opposed  legalization, <a href=\"http://thelead.blogs.cnn.com/2014/01/24/how-has-legalization-of-marijuana-changed-denver/\">told CNN</a> that the city\\'s dive into recreational marijuana went smoothly. And  despite some concerns about property crime, he said the city saw  \"nothing that has raised a major red flag.\"</p> \\\\n<h3>Medical marijuana hasn\\'t led to an increase in crime</h3> \\\\n<p><img src=\"http://cdn3.vox-cdn.com/assets/4236429/98049962.jpg\" class=\"photo\" alt=\"98049962\"></p> \\\\n<p class=\"caption\">Medical marijuana in California. Justin Sullivan / Getty Images News</p> \\\\n<p>Outside of Colorado, most research on crime and marijuana looks at legalization for medicinal purposes. <a href=\"http://www.plosone.org/article/info%3Adoi%2F10.1371%2Fjournal.pone.0092816\">One study</a> published in PLOS ONE concluded the expansion of medical marijuana did not lead to more violent or property crime, and <a href=\"http://www.vox.com/explains/marijuana-legalization/what-is-medical-marijuana\">medical marijuana</a> legalization might in fact correlate with a reduction in some crimes.</p> \\\\n<p>Researcher Robert Morris suggests that taking marijuana purchases out of an illicit market could reduce crime overall. \"Perhaps there\\'s additional crime associated with the criminal  marketplace to begin with,\" he says.</p> \\\\n<p>Alternatively, crime could decrease if people began substituting alcohol with marijuana. \"We know there\\'s a  pretty strong link between alcohol misuse and crime, particularly in a  person of violence,\" Morris says. \"There\\'s not as much of a correlation  between marijuana use and crimes.\"</p> \\\\n<p>Still, Morris cautions that the potential for crime reduction needs  more study. He also says the findings don\\'t necessarily apply to full  marijuana legalization, and he would like to study that issue in further  detail.</p> \\\\n<h3>But concerns remain about businesses\\' cash holdings</h3> \\\\n<p><img src=\"http://cdn3.vox-cdn.com/assets/4236413/143182883.jpg\" class=\"photo\" alt=\"143182883\"></p> \\\\n<p class=\"caption\">People celebrating 4/20 in Denver. Marc Piscotty / Getty Images News</p> \\\\n<p>If there\\'s a reason for crime to increase following marijuana  legalization, it may be the fine line marijuana businesses walk between  legalization at the state level and criminality at the federal level.</p> \\\\n<p>Many banks decline to open accounts for marijuana sellers since the  federal government still considers the drug illegal. As a result, many  marijuana businesses hold raw cash \\xe2\\x80\\x94 sometimes tens of thousands of  dollars \\xe2\\x80\\x94 from profits and to pay their bills. (The Obama  administration, for its part, <a href=\"http://www.vox.com/cards/marijuana-legalization/federal-government-deal-legal-marijuana\">issued guidances</a> telling prosecutors and regulators to prioritize issues other than marijuana in states where the drug is legal. But banks <a href=\"http://www.aba.com/Press/Pages/021414FinCenGuidance.aspx\">remain skeptical</a> without changes in the law itself.)</p> \\\\n<p>Keeping cash on hand can be dangerous; a large stash of bills can be an easy target for crime. <a href=\"http://www.nber.org/papers/w19996\">One study</a> from researchers at the University of Missouri at St. Louis and Georgia State University found raw cash in welfare programs can lead to higher crime rates due to its liquidity and anonymity in  transactions. Researchers found that Missouri counties that moved to electronic welfare benefits, from cash, saw crime drop by nearly 10 percent following the transition.</p> \\\\n<p>Denver District Attorney Morrissey says the  amount of cash at marijuana businesses will near certainly lead to more crime.  \"You hit a 7-Eleven in Denver, you might get $20 to $100,\" he said in an interview. \"You hit a dispensary on a good day, who knows? You might get $30,000 in cash.\"</p> \\\\n<p>City Council President Susman also worries the large amount of cash  flowing in and out of these businesses could become an easy target for  criminals.</p> \\\\n<p>\"A grow operation will have a $20,000 or $30,000 utility bill a  month,\" she says. \"They have to show up at the utility\\'s office with  $20,000 or $30,000 in a briefcase.\"</p> \\\\n<h3>Other Colorado cities are following Denver\\'s lead</h3> \\\\n<p><img src=\"http://cdn2.vox-cdn.com/assets/4236503/98555840.jpg\" class=\"photo\" alt=\"98555840\"></p> \\\\n<p class=\"caption\">Some cities aren\\'t resisting this offer. Chris Hondros / Getty Images News</p> \\\\n<p><span>After Denver\\'s smooth transition, other major cities in Colorado now  appear ready to join. Aurora, the third most populous city in Colorado, </span><a href=\"http://kdvr.com/2014/03/26/aurora-to-enter-retail-marijuana-foray/\">plans</a><span> to open recreational sales in October, even though medical sales remain  illegal through voter rule. And Fort Collins, the fourth most populous  city in the state, </span><a href=\"http://www.coloradoan.com/article/20140318/NEWS01/303180076/Fort-Collins-council-gives-final-go-ahead-recreational-pot-stores\">expects</a><span> to have applications ready for recreational dispensaries in early April.</span></p> \\\\n<p>If Denver\\'s experience holds true, the transition \\xe2\\x80\\x94 at least for the first few months \\xe2\\x80\\x94 should go smoothly.</p>\\n']\n"
     ]
    }
   ],
   "source": [
    "with ZipFile('data/dsjVoxArticles.zip') as z:\n",
    "    with z.open('dsjVoxArticles.tsv', 'r') as tsv:\n",
    "        lines = [next(tsv) for x in range(5)]\n",
    "        print(lines)"
   ]
  },
  {
   "cell_type": "markdown",
   "id": "2e1a961d",
   "metadata": {},
   "source": [
    "For efficiency, I'm going to ignore the article bodies and just use the titles. (They would need quite a bit of preprocessing anyway since they contain markup.) So I want the first and third fields."
   ]
  },
  {
   "cell_type": "code",
   "execution_count": 3,
   "id": "8cc38d0b",
   "metadata": {},
   "outputs": [],
   "source": [
    "data = []\n",
    "\n",
    "with ZipFile('data/dsjVoxArticles.zip') as z:\n",
    "    with z.open('dsjVoxArticles.tsv', 'r') as tsv:\n",
    "        for line in tsv:\n",
    "            cols = line.decode('utf-8').strip().split('\\t')[:3]\n",
    "            data.append([cols[0], cols[2]])"
   ]
  },
  {
   "cell_type": "markdown",
   "id": "8ac87e3d",
   "metadata": {},
   "source": [
    "Let's make this into a numpy array and take a look.\n",
    "* How many data points?\n",
    "* How many classes?\n",
    "* What are the classes, anyway?"
   ]
  },
  {
   "cell_type": "code",
   "execution_count": 4,
   "id": "3ad1c158",
   "metadata": {},
   "outputs": [
    {
     "name": "stdout",
     "output_type": "stream",
     "text": [
      "(23025, 2)\n",
      "['2014 Midterm Elections' '2016 Golden Globes' '2016 Grammys'\n",
      " '2016 Presidential Election' '2016 Rio Olympics' '2016ish' 'Almanac'\n",
      " 'Ant-Man' 'Apple' 'Avengers: Age of Ultron' 'Bernie Sanders'\n",
      " 'Best of 2014' 'Best of 2016' 'Black Mirror, Season 3' 'Books'\n",
      " 'Business & Finance' 'Campaign Finance' 'Carly Fiorina' 'Celebrities'\n",
      " 'China' 'Climate Change' 'College Football' 'Comic Books' 'Congress'\n",
      " 'Conversations' 'Criminal Justice' 'Cuba' 'Culture' 'Dear Julia'\n",
      " 'Debates' 'Donald Trump' 'Ebola' 'Economic Mobility' 'Education'\n",
      " 'Emmy Awards' 'Energy & Environment' 'Episode of the Week' 'Explainers'\n",
      " 'Fear the Walking Dead' 'Fear the Walking Dead, Season 1'\n",
      " 'Fear the Walking Dead, season 1, episode 1'\n",
      " 'Fear the Walking Dead, season 1, episode 2' 'Features' 'First Person'\n",
      " 'Game of Thrones' 'Game of Thrones season 6, episode 3'\n",
      " 'Game of Thrones, season 5, episode 1'\n",
      " 'Game of Thrones, season 5, episode 10'\n",
      " 'Game of Thrones, season 5, episode 2'\n",
      " 'Game of Thrones, season 5, episode 3'\n",
      " 'Game of Thrones, season 5, episode 4' 'Game of Thrones, season 6'\n",
      " 'Game of Thrones, season 6, episode 1'\n",
      " 'Game of Thrones, season 6, episode 10'\n",
      " 'Game of Thrones, season 6, episode 2'\n",
      " 'Game of Thrones, season 6, episode 4'\n",
      " 'Game of Thrones, season 6, episode 5'\n",
      " 'Game of Thrones, season 6, episode 6'\n",
      " 'Game of Thrones, season 6, episode 7'\n",
      " 'Game of Thrones, season 6, episode 9' 'Gender Equality'\n",
      " 'Gender-Based Violence' 'Genetics' 'Gift Guides' 'Gilmore Girls'\n",
      " 'Global Governance' 'Grist' 'Gun Violence' 'Hannibal'\n",
      " 'Hannibal, season 3' 'Hate Crimes' 'Health Care' 'Hillary Clinton'\n",
      " 'Hollywood' 'Human Rights' \"I Think You're Interesting\" 'ISIS'\n",
      " 'Identities' 'Immigration' 'Infectious Disease' 'Internet Culture'\n",
      " 'Internet Security' 'Interviews' 'Israel-Palestine Conflict' 'Jeb Bush'\n",
      " 'Joe Biden' 'LGBTQ' 'Labor Market' 'Life' 'MTV VMAs' 'Mad Men'\n",
      " 'Mad Men, season 7' 'Mad Men, season 7, episode 10'\n",
      " 'Mad Men, season 7, episode 11' 'Mad Men, season 7, episode 12'\n",
      " 'Mad Men, season 7, episode 13' 'Mad Men, season 7, episode 14'\n",
      " 'Mad Men, season 7, episode 8' 'Mad Men, season 7, episode 9'\n",
      " 'Making a Murderer' 'Maps' 'Marco Rubio' 'Marijuana Legalization'\n",
      " 'Marriage Equality' 'Marvel' 'Media' 'Mike Pence' 'Mischiefs of Faction'\n",
      " 'Movie of the Week' 'Movies' 'Mr. Robot' 'Music' 'NFL' 'NSA'\n",
      " 'Natural Disasters' 'Net Neutrality' 'Neuroscience' 'New Money'\n",
      " 'North Korea' 'Obama Administration' 'Obamacare'\n",
      " 'Officer-Involved Shootings' 'On Instagram' 'On Snapchat'\n",
      " 'One Change to Save the World' 'Orange Is the New Black' 'Oscars'\n",
      " 'Pentagon' 'Podcasts' 'Policy' 'Politics' 'Politics & Policy' 'Polyarchy'\n",
      " 'Poverty' 'Race in America' 'Religion' 'Reproductive Health' 'Reviews'\n",
      " 'Russia' 'Science & Health' 'Science of Everyday Life' 'Scotland'\n",
      " 'Serial' 'Show Me the Evidence' 'Small Business' 'Social Policy'\n",
      " 'Social Programs' 'Space' 'Sports' 'Star Wars' 'Strikethrough'\n",
      " 'Super Bowl 51' 'Supreme Court ' 'Syria' 'Technology' 'Ted Cruz'\n",
      " 'Telecoms' 'Television' 'Terrorism' 'The Americans' 'The Big Idea'\n",
      " 'The Latest' 'The Night Of' 'The Walking Dead' 'Transportation'\n",
      " 'True Detective' 'True Detective Season 2, Episode 3'\n",
      " 'True Detective Season 2, Episode 6' 'True Detective Season 2, Episode 7'\n",
      " 'True Detective Season 2, Episode 8' 'True Detective, Season 2'\n",
      " 'True Detective, Season 2, Episode 1'\n",
      " 'True Detective, Season 2, Episode 2'\n",
      " 'True Detective, Season 2, Episode 4'\n",
      " 'True Detective, Season 2, Episode 5' 'UnReal' 'Video' 'Voting Rights'\n",
      " 'Vox' 'Vox Sentences' 'War on Drugs' 'Weeds in the Wild'\n",
      " 'Westworld, season 1' 'World' 'Xpress' 'category']\n",
      "186\n"
     ]
    }
   ],
   "source": [
    "data = np.array(data)\n",
    "print(data.shape)\n",
    "print(np.unique(data[:, 1]))\n",
    "print(len(np.unique(data[:, 1])))"
   ]
  },
  {
   "cell_type": "markdown",
   "id": "1e91f9eb",
   "metadata": {},
   "source": [
    "Well, that's too many classes, and some of them are super specific. Let's just take five pretty generic classes."
   ]
  },
  {
   "cell_type": "code",
   "execution_count": 8,
   "id": "e4e5c16a",
   "metadata": {},
   "outputs": [
    {
     "name": "stdout",
     "output_type": "stream",
     "text": [
      "(3165, 2)\n",
      "(array(['Business & Finance', 'Criminal Justice', 'Health Care',\n",
      "       'Politics & Policy', 'Science & Health'], dtype='<U139'), array([ 425,  408,  326, 1359,  647]))\n"
     ]
    }
   ],
   "source": [
    "reduced_data = data[np.where(np.isin(data[:, 1], ['Business & Finance', 'Health Care', 'Science & Health', 'Politics & Policy', 'Criminal Justice']))]\n",
    "np.random.shuffle(reduced_data)\n",
    "print(reduced_data.shape)\n",
    "print(np.unique(reduced_data[:, 1], return_counts=True))"
   ]
  },
  {
   "cell_type": "markdown",
   "id": "9aeed082",
   "metadata": {},
   "source": [
    "## II. Split the data\n",
    "\n",
    "Let's split the data into train, dev and test. \n",
    "\n",
    "When we check by printing shapes and unique values, does everything look okay?"
   ]
  },
  {
   "cell_type": "code",
   "execution_count": 9,
   "id": "e3d9135e",
   "metadata": {},
   "outputs": [
    {
     "name": "stdout",
     "output_type": "stream",
     "text": [
      "(2532, 2) (316, 2) (317, 2)\n",
      "['Business & Finance' 'Criminal Justice' 'Health Care' 'Politics & Policy'\n",
      " 'Science & Health'] ['Business & Finance' 'Criminal Justice' 'Health Care' 'Politics & Policy'\n",
      " 'Science & Health'] ['Business & Finance' 'Criminal Justice' 'Health Care' 'Politics & Policy'\n",
      " 'Science & Health']\n"
     ]
    }
   ],
   "source": [
    "train_data, dev_data, test_data = np.split(reduced_data, [int(.8 * len(reduced_data)), int(.9 * len(reduced_data))])\n",
    "print(train_data.shape, dev_data.shape, test_data.shape)\n",
    "print(np.unique(train_data[:, 1]), np.unique(dev_data[:, 1]), np.unique(test_data[:, 1]))"
   ]
  },
  {
   "cell_type": "markdown",
   "id": "df312415",
   "metadata": {},
   "source": [
    "## III. Preprocess the data\n",
    "\n",
    "On Monday we tokenized the data and extracted counts for each token for each class ourselves.\n",
    "\n",
    "Today I'm going to use two scikit-learn utilities:\n",
    "* CountVectorizer - will tokenize and count\n",
    "* LabelEncoder - will map the string labels to ints\n",
    "\n",
    "As on Monday, I use *only the training data* to extract my token vocabulary."
   ]
  },
  {
   "cell_type": "code",
   "execution_count": 10,
   "id": "eb157178",
   "metadata": {},
   "outputs": [],
   "source": [
    "vectorizer = CountVectorizer(lowercase=True, analyzer='word', max_features=1000)\n",
    "\n",
    "vectorizer.fit(iter(train_data[:, 0]))\n",
    "# We have to use np.asarray because sklearn 1.0 doesn't want matrices for naive Bayes\n",
    "train_processed = np.asarray(vectorizer.transform(iter(train_data[:, 0])).todense())\n",
    "dev_processed = np.asarray(vectorizer.transform(iter(dev_data[:, 0])).todense())\n",
    "test_processed = np.asarray(vectorizer.transform(iter(test_data[:, 0])).todense())\n",
    "\n",
    "encoder = LabelEncoder()\n",
    "encoder.fit(train_data[:, 1])\n",
    "train_labels = encoder.transform(train_data[:, 1])\n",
    "dev_labels = encoder.transform(dev_data[:, 1])\n",
    "test_labels = encoder.transform(test_data[:, 1])"
   ]
  },
  {
   "cell_type": "markdown",
   "id": "da7da5cf",
   "metadata": {},
   "source": [
    "## IV. Fit, Predict and Score\n",
    "\n",
    "Today I'm going to compare the performance of several scikit-learn Naive Bayes alternatives on this dataset. If you recall from last week, these variations on Naive Bayes model different *probability distributions* over the training data, rather than using the likelihoods and priors directly.\n",
    "\n",
    "Although we aren't using our own, hand-written Naive Bayes, you can see that the pattern is the same:\n",
    "1. Fit\n",
    "2. Predict\n",
    "3. Score\n",
    "\n",
    "With respect to \"score\", you'll see we are calculating:\n",
    "* precision\n",
    "* recall\n",
    "* F1\n",
    "\n",
    "*per class*. "
   ]
  },
  {
   "cell_type": "code",
   "execution_count": 11,
   "id": "270f98eb",
   "metadata": {},
   "outputs": [
    {
     "name": "stdout",
     "output_type": "stream",
     "text": [
      "                    precision    recall  f1-score   support\n",
      "\n",
      "Business & Finance       0.49      0.42      0.45        40\n",
      "  Criminal Justice       0.63      0.55      0.59        31\n",
      "       Health Care       0.71      0.56      0.63        36\n",
      " Politics & Policy       0.70      0.76      0.73       142\n",
      "  Science & Health       0.70      0.75      0.72        67\n",
      "\n",
      "          accuracy                           0.67       316\n",
      "         macro avg       0.65      0.61      0.62       316\n",
      "      weighted avg       0.67      0.67      0.67       316\n",
      "\n",
      "[[ 17   2   0  14   7]\n",
      " [  1  17   1  12   0]\n",
      " [  1   0  20  10   5]\n",
      " [ 12   8   5 108   9]\n",
      " [  4   0   2  11  50]]\n"
     ]
    }
   ],
   "source": [
    "nb = MultinomialNB()\n",
    "nb.fit(train_processed, train_labels)\n",
    "pred = nb.predict(dev_processed)\n",
    "print(classification_report(dev_labels, pred, target_names=encoder.classes_))\n",
    "print(confusion_matrix(dev_labels, pred))"
   ]
  },
  {
   "cell_type": "code",
   "execution_count": 12,
   "id": "91ecd55c",
   "metadata": {},
   "outputs": [
    {
     "name": "stdout",
     "output_type": "stream",
     "text": [
      "                    precision    recall  f1-score   support\n",
      "\n",
      "Business & Finance       0.37      0.35      0.36        40\n",
      "  Criminal Justice       0.34      0.52      0.41        31\n",
      "       Health Care       0.27      0.53      0.36        36\n",
      " Politics & Policy       0.73      0.56      0.63       142\n",
      "  Science & Health       0.64      0.51      0.57        67\n",
      "\n",
      "          accuracy                           0.51       316\n",
      "         macro avg       0.47      0.49      0.47       316\n",
      "      weighted avg       0.58      0.51      0.53       316\n",
      "\n",
      "[[14  3 15  6  2]\n",
      " [ 2 16  2  9  2]\n",
      " [ 0  1 19 10  6]\n",
      " [11 24 19 79  9]\n",
      " [11  3 15  4 34]]\n"
     ]
    }
   ],
   "source": [
    "nb = GaussianNB()\n",
    "nb.fit(train_processed, train_labels)\n",
    "pred = nb.predict(dev_processed)\n",
    "print(classification_report(dev_labels, pred, target_names=encoder.classes_))\n",
    "print(confusion_matrix(dev_labels, pred))"
   ]
  },
  {
   "cell_type": "code",
   "execution_count": 13,
   "id": "3748b251",
   "metadata": {},
   "outputs": [
    {
     "name": "stdout",
     "output_type": "stream",
     "text": [
      "                    precision    recall  f1-score   support\n",
      "\n",
      "Business & Finance       0.44      0.45      0.44        40\n",
      "  Criminal Justice       0.58      0.68      0.63        31\n",
      "       Health Care       0.68      0.69      0.68        36\n",
      " Politics & Policy       0.78      0.69      0.73       142\n",
      "  Science & Health       0.68      0.78      0.72        67\n",
      "\n",
      "          accuracy                           0.68       316\n",
      "         macro avg       0.63      0.66      0.64       316\n",
      "      weighted avg       0.69      0.68      0.68       316\n",
      "\n",
      "[[18  3  2  9  8]\n",
      " [ 2 21  0  8  0]\n",
      " [ 2  0 25  3  6]\n",
      " [15 11  7 98 11]\n",
      " [ 4  1  3  7 52]]\n"
     ]
    }
   ],
   "source": [
    "nb = ComplementNB()\n",
    "nb.fit(train_processed, train_labels)\n",
    "pred = nb.predict(dev_processed)\n",
    "print(classification_report(dev_labels, pred, target_names=encoder.classes_))\n",
    "print(confusion_matrix(dev_labels, pred))"
   ]
  },
  {
   "cell_type": "code",
   "execution_count": 14,
   "id": "b6379664",
   "metadata": {},
   "outputs": [
    {
     "name": "stdout",
     "output_type": "stream",
     "text": [
      "                    precision    recall  f1-score   support\n",
      "\n",
      "Business & Finance       0.41      0.30      0.35        40\n",
      "  Criminal Justice       0.73      0.52      0.60        31\n",
      "       Health Care       0.74      0.47      0.58        36\n",
      " Politics & Policy       0.65      0.77      0.71       142\n",
      "  Science & Health       0.68      0.75      0.71        67\n",
      "\n",
      "          accuracy                           0.65       316\n",
      "         macro avg       0.64      0.56      0.59       316\n",
      "      weighted avg       0.65      0.65      0.64       316\n",
      "\n",
      "[[ 12   0   0  19   9]\n",
      " [  1  16   0  13   1]\n",
      " [  1   0  17  13   5]\n",
      " [ 12   6   5 110   9]\n",
      " [  3   0   1  13  50]]\n"
     ]
    }
   ],
   "source": [
    "nb = BernoulliNB()\n",
    "nb.fit(train_processed, train_labels)\n",
    "pred = nb.predict(dev_processed)\n",
    "print(classification_report(dev_labels, pred, target_names=encoder.classes_))\n",
    "print(confusion_matrix(dev_labels, pred))"
   ]
  },
  {
   "cell_type": "markdown",
   "id": "eae74196",
   "metadata": {},
   "source": [
    "## V. Questions\n",
    "\n",
    "1. What are the definitions for precision, recall and F1, and how do they relate to the confusion matrix?\n",
    "2. What do \"macro avg\" and \"weighted avg\" mean?\n",
    "3. Which variant of Naive Bayes works the best on this data?\n",
    "4. Is there a class that is consistently miscategorized regardless of method?\n",
    "5. Which metric or way of analyzing the results makes the most sense to you? Why?\n",
    "\n",
    "## Acknowledgments\n",
    "\n",
    "This notebook is inspired by https://github.com/sachinbiradar9/News-Classification/blob/master/news.ipynb"
   ]
  }
 ],
 "metadata": {
  "kernelspec": {
   "display_name": "Python 3 (ipykernel)",
   "language": "python",
   "name": "python3"
  },
  "language_info": {
   "codemirror_mode": {
    "name": "ipython",
    "version": 3
   },
   "file_extension": ".py",
   "mimetype": "text/x-python",
   "name": "python",
   "nbconvert_exporter": "python",
   "pygments_lexer": "ipython3",
   "version": "3.10.4"
  }
 },
 "nbformat": 4,
 "nbformat_minor": 5
}
