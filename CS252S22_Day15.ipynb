{
 "cells": [
  {
   "cell_type": "markdown",
   "id": "rural-demographic",
   "metadata": {},
   "source": [
    "## Polynomial Regression Examples and Applications\n",
    "\n",
    "With thanks to Oliver W. Layton"
   ]
  },
  {
   "cell_type": "code",
   "execution_count": null,
   "id": "imposed-lewis",
   "metadata": {},
   "outputs": [],
   "source": [
    "import numpy as np\n",
    "import matplotlib.pyplot as plt\n",
    "import scipy.linalg as sp_la"
   ]
  },
  {
   "cell_type": "markdown",
   "id": "serial-sperm",
   "metadata": {},
   "source": [
    "## Load in Boston Housing data\n",
    "\n",
    "CSV filename: `boston.csv`"
   ]
  },
  {
   "cell_type": "code",
   "execution_count": null,
   "id": "heavy-recruitment",
   "metadata": {},
   "outputs": [],
   "source": [
    "data = np.array(np.genfromtxt('data/boston.csv', delimiter=',', skip_header=2, dtype=float, encoding='utf-8'))  \n",
    "#bostonData = data.Data('data/boston.csv')\n",
    "print(data)"
   ]
  },
  {
   "cell_type": "markdown",
   "id": "mediterranean-gregory",
   "metadata": {},
   "source": [
    "Info on the headers:\n",
    "\n",
    "    CRIM - per capita crime rate by town\n",
    "    ZN - proportion of residential land zoned for lots over 25,000 sq.ft.\n",
    "    INDUS - proportion of non-retail business acres per town.\n",
    "    CHAS - Charles River dummy variable (1 if tract bounds river; 0 otherwise)\n",
    "    NOX - nitric oxides concentration (parts per 10 million)\n",
    "    RM - average number of rooms per dwelling\n",
    "    AGE - proportion of owner-occupied units built prior to 1940\n",
    "    DIS - weighted distances to five Boston employment centres\n",
    "    RAD - index of accessibility to radial highways\n",
    "    TAX - full-value property-tax rate per 10,000 dollars\n",
    "    PTRATIO - pupil-teacher ratio by town\n",
    "    LSTAT - % lower status of the population\n",
    "    MEDV - Median value of owner-occupied homes in 1000's dollars\n",
    "    "
   ]
  },
  {
   "cell_type": "code",
   "execution_count": null,
   "id": "5c03cf48",
   "metadata": {},
   "outputs": [],
   "source": [
    "split = np.array_split(data, 10)\n",
    "train = np.vstack((split[0], split[1], split[7], split[3], split[4], split[5], split[6], split[8], split[9]))\n",
    "test = split[2]"
   ]
  },
  {
   "cell_type": "markdown",
   "id": "8bdab9f2",
   "metadata": {},
   "source": [
    "Generally you want to split into:\n",
    "* Train\n",
    "* Dev which you use to try different models, modeling approaches, combinations of features etc\n",
    "* Test and then hide test away and do not look at it\n",
    "\n",
    "If your data is big enough then you want an 80/10/10 split.\n",
    "\n",
    "If you are doing *real science* then you split your data 10fold, and every experiment is done 10 times, and then you can calculate confidence intervals. This is call (10)-fold cross validation.\n",
    "\n",
    "The better way to do cross validation is to do a random 80/10/10 split, train, dev, and then do that again 9 more times.\n",
    "\n",
    "No matter what, when do a split, pay attention:\n",
    "* if the data is time-ordered, split by time\n",
    "* if not, look at the values of the dependent variable and make sure they are represented in all splits"
   ]
  },
  {
   "cell_type": "markdown",
   "id": "danish-lambda",
   "metadata": {},
   "source": [
    "## 1. Perform linear regression to predict median home value from distance to workplace hubs\n",
    "\n",
    "Independent and dependent variables? 'dis' and 'medv'"
   ]
  },
  {
   "cell_type": "code",
   "execution_count": null,
   "id": "19293720",
   "metadata": {},
   "outputs": [],
   "source": [
    "def getSummaryStatistics(data):\n",
    "    return np.array([data.max(axis=0), data.min(axis=0), data.mean(axis=0, dtype=int)])\n",
    "\n",
    "def getShapeType(data):\n",
    "    return (data.shape, data.dtype)\n",
    "\n",
    "def plotxyyhat(x, y, m, b):\n",
    "    plt.plot(x, y, 'o', label='data')\n",
    "    yhat = m*x + b\n",
    "    plt.plot(x, yhat, label='least squares fit, $y = mx + b$')\n",
    "    plt.xlabel('x')\n",
    "    plt.ylabel('y')\n",
    "    plt.legend(framealpha=1, shadow=True)\n",
    "    plt.grid(alpha=0.25)\n",
    "    plt.show()\n",
    "    \n",
    "def fit(data, independent, dependent):\n",
    "    # These are our independent variable(s)\n",
    "    x = data[np.ix_(np.arange(data.shape[0]), independent)]\n",
    "    print(getSummaryStatistics(x))\n",
    "    print(getShapeType(x))\n",
    "\n",
    "    # We add a column of 1s for the intercept\n",
    "    A = np.hstack((np.array([np.ones(x.shape[0])]).T, x))\n",
    "    print(getSummaryStatistics(A))\n",
    "    print(getShapeType(A))\n",
    "\n",
    "    # This is the dependent variable \n",
    "    y = data[:, dependent]\n",
    "    print(getSummaryStatistics(y))\n",
    "    print(getShapeType(y))\n",
    "\n",
    "    # This is the regression coefficients that were fit, plus some other results\n",
    "    c, res, _, _ = sp_la.lstsq(A, y)\n",
    "    return c\n",
    "\n",
    "def predict(data, independent, c):\n",
    "    # These are our independent variable(s)\n",
    "    x = data[np.ix_(np.arange(data.shape[0]), independent)]\n",
    "    print(getSummaryStatistics(x))\n",
    "    print(getShapeType(x))\n",
    "\n",
    "    # We add a column of 1s for the intercept\n",
    "    A = np.hstack((np.array([np.ones(x.shape[0])]).T, x))\n",
    "    print(getSummaryStatistics(A))\n",
    "    print(getShapeType(A))\n",
    "\n",
    "    return np.dot(A, c)\n",
    "\n",
    "# assume these are numpy arrays\n",
    "def rsquared(y, yhat):\n",
    "    if len(y) != len(yhat):\n",
    "        print(\"Need y and yhat to be the same length!\")\n",
    "        return 0\n",
    "    return 1 - (((y - yhat)**2).sum() / ((y - y.mean())**2).sum())"
   ]
  },
  {
   "cell_type": "code",
   "execution_count": null,
   "id": "advisory-devil",
   "metadata": {},
   "outputs": [],
   "source": [
    "c = fit(train, [7], 12)\n",
    "yhat = predict(test, [7], c)\n",
    "rsquared(test[:, 12], yhat)"
   ]
  },
  {
   "cell_type": "code",
   "execution_count": null,
   "id": "a0211881",
   "metadata": {},
   "outputs": [],
   "source": [
    "plotxyyhat(train[:, 7], train[:, 12], c[1], c[0])\n",
    "plotxyyhat(test[:, 7], test[:, 12], c[1], c[0])"
   ]
  },
  {
   "cell_type": "markdown",
   "id": "inappropriate-narrow",
   "metadata": {},
   "source": [
    "## 2. Use polynomial regression to better fit the nonlinear data relationship"
   ]
  },
  {
   "cell_type": "markdown",
   "id": "perceived-primary",
   "metadata": {},
   "source": [
    "### Try Quadratic polynomial model:\n",
    "\n",
    "$$y = c_0 + c_1x_1 + c_2x_1^2$$\n",
    "\n",
    "where $x_1$ is what?"
   ]
  },
  {
   "cell_type": "code",
   "execution_count": null,
   "id": "730da61b",
   "metadata": {},
   "outputs": [],
   "source": [
    "def makePoly(x, poly):\n",
    "    A = np.zeros([x.shape[0], poly+1])\n",
    "    for i in range(0, poly+1):\n",
    "        A[:, i] = np.squeeze(x**i)\n",
    "    print(getSummaryStatistics(A))\n",
    "    print(getShapeType(A))\n",
    "    return A\n",
    "    \n",
    "def fit(data, independent, dependent, poly):\n",
    "    # This is our independent variable, just one for now\n",
    "    x = data[np.ix_(np.arange(data.shape[0]), independent)]\n",
    "\n",
    "    # We add a column of 1s for the intercept\n",
    "    A = makePoly(x, poly)\n",
    "    # This is the dependent variable \n",
    "    y = data[:, dependent]\n",
    "\n",
    "    # This is the regression coefficients that were fit, plus some other results\n",
    "    # c, res, _, _ = sp.linalg.lstsq(A, y)\n",
    "    c, res, _, _ = sp_la.lstsq(A, y)\n",
    "    return c\n",
    "\n",
    "def predict(data, independent, poly, c):\n",
    "    # These are our independent variable(s)\n",
    "    x = data[np.ix_(np.arange(data.shape[0]), independent)]\n",
    "\n",
    "    # We add a column of 1s for the intercept\n",
    "    A = makePoly(x, poly)\n",
    "\n",
    "    return np.dot(A, c)"
   ]
  },
  {
   "cell_type": "code",
   "execution_count": null,
   "id": "8aa0dba1",
   "metadata": {},
   "outputs": [],
   "source": [
    "c = fit(train, [7], 12, 2)\n",
    "yhat = predict(test, [7], 2, c)\n",
    "rsquared(test[:, 12], yhat)"
   ]
  },
  {
   "cell_type": "code",
   "execution_count": null,
   "id": "1f12c95c",
   "metadata": {},
   "outputs": [],
   "source": [
    "def plotxyyhat(x, y, c):\n",
    "    plt.clf()\n",
    "    plt.plot(x, y, 'o', label='data')\n",
    "    xCurve = np.linspace(np.min(x), np.max(x))\n",
    "    yCurve = c[0]\n",
    "    for i in range(1, len(c)):\n",
    "        yCurve += c[i]*(xCurve**i)\n",
    "    plt.plot(xCurve, yCurve, label='least squares fit, y polynomial')\n",
    "    plt.xlabel('x')\n",
    "    plt.ylabel('y')\n",
    "    plt.legend(framealpha=1, shadow=True)\n",
    "    plt.grid(alpha=0.25)\n",
    "    plt.show()"
   ]
  },
  {
   "cell_type": "code",
   "execution_count": null,
   "id": "d4f5db81",
   "metadata": {},
   "outputs": [],
   "source": [
    "plotxyyhat(train[:, 7], train[:, 12], c)\n",
    "plotxyyhat(test[:, 7], test[:, 12], c)"
   ]
  },
  {
   "cell_type": "markdown",
   "id": "sized-fairy",
   "metadata": {},
   "source": [
    "### Now let's try a cubic model\n",
    "\n",
    "$$y = c_0 + c_1x_1 + c_2x_1^2 + c_3x_1^3$$"
   ]
  },
  {
   "cell_type": "code",
   "execution_count": null,
   "id": "interpreted-bosnia",
   "metadata": {},
   "outputs": [],
   "source": [
    "c = fit(train, [7], 12, 10)\n",
    "yhat = predict(test, [7], 10, c)\n",
    "rsquared(test[:, 12], yhat)"
   ]
  },
  {
   "cell_type": "code",
   "execution_count": null,
   "id": "systematic-chorus",
   "metadata": {},
   "outputs": [],
   "source": [
    "plotxyyhat(train[:, 7], train[:, 12], c)\n",
    "plotxyyhat(test[:, 7], test[:, 12], c)"
   ]
  }
 ],
 "metadata": {
  "kernelspec": {
   "display_name": "Python 3 (ipykernel)",
   "language": "python",
   "name": "python3"
  },
  "language_info": {
   "codemirror_mode": {
    "name": "ipython",
    "version": 3
   },
   "file_extension": ".py",
   "mimetype": "text/x-python",
   "name": "python",
   "nbconvert_exporter": "python",
   "pygments_lexer": "ipython3",
   "version": "3.9.7"
  }
 },
 "nbformat": 4,
 "nbformat_minor": 5
}
