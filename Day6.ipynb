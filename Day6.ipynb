{
 "cells": [
  {
   "attachments": {},
   "cell_type": "markdown",
   "id": "78695398",
   "metadata": {},
   "source": [
    "# Let's talk about matrices\n",
    "\n",
    "* What is a matrix?\n",
    "* What is the identity matrix?\n",
    "* What is the transpose of a matrix?\n",
    "* What is a diagonal matrix?"
   ]
  },
  {
   "attachments": {},
   "cell_type": "markdown",
   "id": "ffc26517",
   "metadata": {},
   "source": [
    "## Identity matrix, in numpy"
   ]
  },
  {
   "cell_type": "code",
   "execution_count": 6,
   "id": "bbdcff42",
   "metadata": {},
   "outputs": [
    {
     "data": {
      "text/plain": [
       "array([[1., 0., 0.],\n",
       "       [0., 1., 0.],\n",
       "       [0., 0., 1.]])"
      ]
     },
     "execution_count": 6,
     "metadata": {},
     "output_type": "execute_result"
    }
   ],
   "source": [
    "import numpy as np\n",
    "\n",
    "# identity matrix\n",
    "np.eye(3)"
   ]
  },
  {
   "attachments": {},
   "cell_type": "markdown",
   "id": "3706fbee",
   "metadata": {},
   "source": [
    "## Transposing a matrix, in numpy"
   ]
  },
  {
   "cell_type": "code",
   "execution_count": 10,
   "id": "6aa47a60",
   "metadata": {},
   "outputs": [
    {
     "name": "stdout",
     "output_type": "stream",
     "text": [
      "[[ 0  1  2  3]\n",
      " [10 11 12 13]\n",
      " [20 21 22 23]\n",
      " [30 31 32 33]]\n"
     ]
    }
   ],
   "source": [
    "# give me a matrix\n",
    "nparray = np.array([[0, 1, 2, 3], [10, 11, 12, 13], [20, 21, 22, 23], [30, 31, 32, 33]])\n",
    "print(nparray)"
   ]
  },
  {
   "cell_type": "code",
   "execution_count": 12,
   "id": "7efd6316",
   "metadata": {},
   "outputs": [
    {
     "name": "stdout",
     "output_type": "stream",
     "text": [
      "[[ 0 10 20 30]\n",
      " [ 1 11 21 31]\n",
      " [ 2 12 22 32]\n",
      " [ 3 13 23 33]]\n"
     ]
    }
   ],
   "source": [
    "# one way to transpose it\n",
    "transpose = np.matrix.transpose(nparray)\n",
    "print(transpose)"
   ]
  },
  {
   "cell_type": "code",
   "execution_count": 13,
   "id": "fc025e99",
   "metadata": {},
   "outputs": [
    {
     "name": "stdout",
     "output_type": "stream",
     "text": [
      "[[ 0 10 20 30]\n",
      " [ 1 11 21 31]\n",
      " [ 2 12 22 32]\n",
      " [ 3 13 23 33]]\n"
     ]
    }
   ],
   "source": [
    "# another way to transpose it\n",
    "transpose = nparray.T\n",
    "print(transpose)"
   ]
  },
  {
   "attachments": {},
   "cell_type": "markdown",
   "id": "4d7265ad",
   "metadata": {},
   "source": [
    "## Flattening a matrix"
   ]
  },
  {
   "cell_type": "code",
   "execution_count": 14,
   "id": "2b3a6a86",
   "metadata": {},
   "outputs": [
    {
     "name": "stdout",
     "output_type": "stream",
     "text": [
      "[ 0  1  2  3 10 11 12 13 20 21 22 23 30 31 32 33]\n"
     ]
    }
   ],
   "source": [
    "# way one\n",
    "print(np.ndarray.flatten(nparray))"
   ]
  },
  {
   "cell_type": "code",
   "execution_count": 16,
   "id": "4c82102e",
   "metadata": {},
   "outputs": [
    {
     "name": "stdout",
     "output_type": "stream",
     "text": [
      "[ 0  1  2  3 10 11 12 13 20 21 22 23 30 31 32 33]\n"
     ]
    }
   ],
   "source": [
    "# way two\n",
    "print(np.reshape(nparray, -1))"
   ]
  },
  {
   "attachments": {},
   "cell_type": "markdown",
   "id": "948f0daf",
   "metadata": {},
   "source": [
    "## What is a diagonal matrix?"
   ]
  },
  {
   "attachments": {},
   "cell_type": "markdown",
   "id": "b750640b",
   "metadata": {},
   "source": [
    "# Basic matrix math"
   ]
  },
  {
   "attachments": {},
   "cell_type": "markdown",
   "id": "b8b9c6c8",
   "metadata": {},
   "source": [
    "Review:\n",
    "\n",
    "* What is a scalar?\n",
    "* What is a vector?\n",
    "* What is a matrix?\n",
    "* What is a tensor?"
   ]
  },
  {
   "attachments": {},
   "cell_type": "markdown",
   "id": "b1ed3538",
   "metadata": {},
   "source": [
    "Now we will cover:\n",
    "\n",
    "* How can I multiply a vector or matrix times a scalar?\n",
    "* What is the *dot product* between two vectors?\n",
    "* How can I multiply a matrix times a vector?\n",
    "* How can I multiply a matrix times a matrix?\n",
    "* What has to be true in order for me to be able to calculate the dot product between two vectors?\n",
    "* What has to be true in order for me to be able to multiply a matrix times a vector, or multiply two matrices?"
   ]
  },
  {
   "attachments": {},
   "cell_type": "markdown",
   "id": "8c93107e",
   "metadata": {},
   "source": [
    "## Scalars\n"
   ]
  },
  {
   "attachments": {},
   "cell_type": "markdown",
   "id": "aa0d15a4",
   "metadata": {},
   "source": [
    "Let's start with scalars. How do we:\n",
    "* add/subtract\n",
    "* multiply/divide\n",
    "two scalars?"
   ]
  },
  {
   "cell_type": "code",
   "execution_count": 18,
   "id": "e1d02fe3",
   "metadata": {},
   "outputs": [],
   "source": [
    "x = 2\n",
    "y = 4.5\n",
    "\n",
    "# add\n",
    "\n",
    "# subtract\n",
    "\n",
    "# multiply\n",
    "\n",
    "# divide\n"
   ]
  },
  {
   "attachments": {},
   "cell_type": "markdown",
   "id": "6396f3ef",
   "metadata": {},
   "source": [
    "## Vectors\n"
   ]
  },
  {
   "attachments": {},
   "cell_type": "markdown",
   "id": "cc422793",
   "metadata": {},
   "source": [
    "### Vectors and Scalars"
   ]
  },
  {
   "attachments": {},
   "cell_type": "markdown",
   "id": "aea0367f",
   "metadata": {},
   "source": [
    "How do we:\n",
    "* add/subtract a scalar to/from a vector?\n",
    "* multiply/divide a vector by a scalar?"
   ]
  },
  {
   "cell_type": "code",
   "execution_count": 24,
   "id": "039b13ba",
   "metadata": {},
   "outputs": [
    {
     "name": "stdout",
     "output_type": "stream",
     "text": [
      "xv [1 6 2]\n",
      "x 2\n",
      "math on a vector and a scalar\n",
      "xv plus x [3 8 4]\n",
      "xv minus x [-1  4  0]\n",
      "xv times x [ 2 12  4]\n",
      "xv divied by x [0.5 3.  1. ]\n"
     ]
    }
   ],
   "source": [
    "xv = np.array([1, 6, 2])\n",
    "print(\"xv\", xv)\n",
    "print(\"x\", x)\n",
    "\n",
    "print(\"math on a vector and a scalar\")\n",
    "\n",
    "# add x to xv\n",
    "print(\"xv plus x\", xv + x)\n",
    "\n",
    "# subtract x from xv\n",
    "print(\"xv minus x\", xv - x)\n",
    "\n"
   ]
  },
  {
   "attachments": {},
   "cell_type": "markdown",
   "id": "653221db",
   "metadata": {},
   "source": [
    "How do we:\n",
    "* multiply/divide a vector by a scalar?"
   ]
  },
  {
   "cell_type": "code",
   "execution_count": null,
   "id": "0bb2b162",
   "metadata": {},
   "outputs": [],
   "source": [
    "# multiply xv times x\n",
    "print(\"xv times x\", xv * x)\n",
    "\n",
    "# divide xv by x\n",
    "# note how the type changes\n",
    "print(\"xv divied by x\", xv / x)"
   ]
  },
  {
   "attachments": {},
   "cell_type": "markdown",
   "id": "0b724fe7",
   "metadata": {},
   "source": [
    "### Vectors and vectors"
   ]
  },
  {
   "attachments": {},
   "cell_type": "markdown",
   "id": "69dd67ef",
   "metadata": {},
   "source": [
    "How do we:\n",
    "* add/subtract two vectors?"
   ]
  },
  {
   "cell_type": "code",
   "execution_count": 27,
   "id": "07d223da",
   "metadata": {},
   "outputs": [
    {
     "name": "stdout",
     "output_type": "stream",
     "text": [
      "xv [1 6 2]\n",
      "yv [2.2 5.4 1.1]\n",
      "math on two vectors\n",
      "xv + yv [ 3.2 11.4  3.1]\n",
      "xv minus yv [-1.2  0.6  0.9]\n",
      "dot product of xv and yv 36.800000000000004\n",
      "outer product of xv and vy [[ 2.2  5.4  1.1]\n",
      " [13.2 32.4  6.6]\n",
      " [ 4.4 10.8  2.2]]\n",
      "xv times yv [ 2.2 32.4  2.2]\n",
      "xv divided by yv [0.45454545 1.11111111 1.81818182]\n",
      "xv / yv [0.45454545 1.11111111 1.81818182]\n",
      "xv // yv [0. 1. 1.]\n"
     ]
    }
   ],
   "source": [
    "yv = np.array([2.2, 5.4, 1.1])\n",
    "print(\"xv\", xv)\n",
    "print(\"yv\", yv)\n",
    "\n",
    "print(\"math on two vectors\")\n",
    "\n",
    "# add xv and yv\n",
    "# note how the result is float, even though xv was int\n",
    "print(\"xv + yv\", xv + yv)\n",
    "\n",
    "# subtract yv from xv\n",
    "print(\"xv minus yv\", xv - yv)"
   ]
  },
  {
   "attachments": {},
   "cell_type": "markdown",
   "id": "2aa38e97",
   "metadata": {},
   "source": [
    "How do we:\n",
    "* multiply/divide two vectors?"
   ]
  },
  {
   "cell_type": "code",
   "execution_count": null,
   "id": "10afb41a",
   "metadata": {},
   "outputs": [],
   "source": [
    "# multiply xv and yv\n",
    "# what exactly is this doing?\n",
    "print(\"dot product of xv and yv\", np.dot(xv, yv))\n",
    "\n",
    "# what exactly is this doing?\n",
    "print(\"outer product of xv and vy\", np.outer(xv, yv))\n",
    "\n",
    "# what exactly is this doing?\n",
    "print(\"xv times yv\", xv * yv)\n",
    "\n",
    "# divide xv by yv\n",
    "print(\"xv divided by yv\", np.divide(xv, yv))\n",
    "print(\"xv / yv\", xv / yv)\n",
    "\n",
    "# what exactly is this doing?\n",
    "print(\"xv // yv\", xv // yv)"
   ]
  },
  {
   "attachments": {},
   "cell_type": "markdown",
   "id": "f3c0bd5d",
   "metadata": {},
   "source": [
    "## Matrices"
   ]
  },
  {
   "attachments": {},
   "cell_type": "markdown",
   "id": "ec82902c",
   "metadata": {},
   "source": [
    "### Matrices and scalars"
   ]
  },
  {
   "attachments": {},
   "cell_type": "markdown",
   "id": "1027dfae",
   "metadata": {},
   "source": [
    "Great! How do we:\n",
    "* add/subtract a scalar to/from a matrix?\n",
    "* multiply/divide a matrix by a scalar?"
   ]
  },
  {
   "cell_type": "code",
   "execution_count": 29,
   "id": "cff9f94d",
   "metadata": {},
   "outputs": [
    {
     "name": "stdout",
     "output_type": "stream",
     "text": [
      "xm [[3 5 3]\n",
      " [4 2 4]]\n",
      "x 2\n"
     ]
    }
   ],
   "source": [
    "xm = np.array([[3,5,3], [4,2,4]])\n",
    "print(\"xm\", xm)\n",
    "print(\"x\", x)\n",
    "\n",
    "# add xm and x\n",
    "print(\"xm plus x\", )\n",
    "\n",
    "# subtract x from xm\n",
    "print(\"xm minus x\", )\n",
    "\n",
    "# multiply xm by x\n",
    "print(\"xm times x\", )\n",
    "\n",
    "# divide xm by x\n",
    "print(\"xm divided by x\", )\n"
   ]
  },
  {
   "attachments": {},
   "cell_type": "markdown",
   "id": "da5dfb99",
   "metadata": {},
   "source": [
    "### Matrices and vectors"
   ]
  },
  {
   "attachments": {},
   "cell_type": "markdown",
   "id": "46149428",
   "metadata": {},
   "source": [
    "How do we:\n",
    "* add/subtract a vector from a matrix?"
   ]
  },
  {
   "cell_type": "code",
   "execution_count": 36,
   "id": "b278ec07",
   "metadata": {},
   "outputs": [
    {
     "name": "stdout",
     "output_type": "stream",
     "text": [
      "xm [[3 5 3]\n",
      " [4 2 4]]\n",
      "xv [1 6 2]\n",
      "xm plus xv\n",
      "xm minus xv\n"
     ]
    }
   ],
   "source": [
    "print(\"xm\", xm)\n",
    "print(\"xv\", xv)\n",
    "\n",
    "# add xm and xv\n",
    "print(\"xm plus xv\", )\n",
    "\n",
    "\n",
    "# subtract xv from xm\n",
    "print(\"xm minus xv\", )\n",
    "\n"
   ]
  },
  {
   "attachments": {},
   "cell_type": "markdown",
   "id": "e0f9390f",
   "metadata": {},
   "source": [
    "How do we:\n",
    "* multiply a matrix by a vector?"
   ]
  },
  {
   "cell_type": "code",
   "execution_count": 54,
   "id": "3dd79110",
   "metadata": {},
   "outputs": [
    {
     "name": "stdout",
     "output_type": "stream",
     "text": [
      "xm matmul xv [39 24]\n",
      "xm multiply xv [[ 3 30  6]\n",
      " [ 4 12  8]]\n",
      "xm dot xv [39 24]\n"
     ]
    }
   ],
   "source": [
    "# what are we doing in each row here?\n",
    "print(\"xm matmul xv\", np.matmul(xm, xv))\n",
    "\n",
    "# what are we doing in each row here?\n",
    "print(\"xm dot xv\", xm.dot(xv))\n",
    "\n",
    "# what are we doing in each row here?\n",
    "print(\"xm multiply xv\", np.multiply(xm, xv))"
   ]
  },
  {
   "cell_type": "code",
   "execution_count": 55,
   "id": "af5721c6",
   "metadata": {},
   "outputs": [
    {
     "name": "stdout",
     "output_type": "stream",
     "text": [
      "xm times xv [[ 3 30  6]\n",
      " [ 4 12  8]]\n"
     ]
    }
   ],
   "source": [
    "# and which of those do we think this corresponds to?\n",
    "print(\"xm times xv\", xm * xv)"
   ]
  },
  {
   "cell_type": "code",
   "execution_count": 56,
   "id": "5eb71b18",
   "metadata": {},
   "outputs": [
    {
     "name": "stdout",
     "output_type": "stream",
     "text": [
      "xm @ xv [39 24]\n"
     ]
    }
   ],
   "source": [
    "# and which of these do we think this corresponds to?\n",
    "print(\"xm @ xv\", xm@xv)"
   ]
  },
  {
   "attachments": {},
   "cell_type": "markdown",
   "id": "b51cf494",
   "metadata": {},
   "source": [
    "(As a reminder, dividing is the same thing as multiplying by the inverse)"
   ]
  },
  {
   "cell_type": "code",
   "execution_count": 49,
   "id": "e30a35bf",
   "metadata": {},
   "outputs": [
    {
     "name": "stdout",
     "output_type": "stream",
     "text": [
      "xv [1 6 2]\n",
      "xvinv [1.         0.16666667 0.5       ]\n",
      "xm [[3 5 3]\n",
      " [4 2 4]]\n",
      "xm times xvinv [[3.         0.83333333 1.5       ]\n",
      " [4.         0.33333333 2.        ]]\n",
      "xm @ xvinv [5.33333333 6.33333333]\n"
     ]
    }
   ],
   "source": [
    "# divide xm by xv\n",
    "xvinv = 1 / xv\n",
    "print(\"xv\", xv)\n",
    "print(\"xvinv\", xvinv)\n",
    "print(\"xm\", xm)\n",
    "\n",
    "print(\"xm times xvinv\", xm * xvinv)\n",
    "\n",
    "print(\"xm @ xvinv\", xm@xvinv)\n"
   ]
  },
  {
   "attachments": {},
   "cell_type": "markdown",
   "id": "1191dd49",
   "metadata": {},
   "source": [
    "### Matrices and matrices"
   ]
  },
  {
   "cell_type": "markdown",
   "id": "dbb13c06",
   "metadata": {},
   "source": [
    "And finally, how do we:\n",
    "* multiply\n",
    "two matrices?\n",
    "\n",
    "Matrix multiplication is special because...?"
   ]
  },
  {
   "cell_type": "code",
   "execution_count": 57,
   "id": "36d97c8f",
   "metadata": {},
   "outputs": [
    {
     "data": {
      "text/plain": [
       "array([[ 9, 25,  9],\n",
       "       [16,  4, 16]])"
      ]
     },
     "execution_count": 57,
     "metadata": {},
     "output_type": "execute_result"
    }
   ],
   "source": [
    "# what does this do?\n",
    "xm*xm"
   ]
  },
  {
   "cell_type": "code",
   "execution_count": 58,
   "id": "520e33e3",
   "metadata": {},
   "outputs": [
    {
     "data": {
      "text/plain": [
       "array([[43, 34],\n",
       "       [34, 36]])"
      ]
     },
     "execution_count": 58,
     "metadata": {},
     "output_type": "execute_result"
    }
   ],
   "source": [
    "# and what does this do?\n",
    "xm@xm.T"
   ]
  },
  {
   "cell_type": "markdown",
   "id": "0f270349",
   "metadata": {},
   "source": [
    "What are some \"gotchas\" with matrix/matrix math?\n",
    "* multiplication not commutative"
   ]
  },
  {
   "attachments": {},
   "cell_type": "markdown",
   "id": "98f44bdf",
   "metadata": {},
   "source": [
    "# What does all this have to do with data analytics, visualization and machine learning?\n",
    "\n",
    "We might want to:\n",
    "* translate (move)\n",
    "* scale (resize)\n",
    "* rotate\n",
    "* normalize\n",
    "* orthographically project\n",
    "data sets to get insight!\n",
    "\n",
    "We do all of those via matrix math.\n",
    "\n",
    "(*And what hardware is really good at matrix math?*)"
   ]
  },
  {
   "attachments": {},
   "cell_type": "markdown",
   "id": "ed9b1c93",
   "metadata": {},
   "source": [
    "# Resources\n",
    "\n",
    "* http://cs229.stanford.edu/summer2019/cs229-linalg.pdf and https://klaviyo.github.io/datascience-learning/linear-algebra/cs229.html\n",
    "* https://bvanderlei.github.io/jupyter-guide-to-linear-algebra/intro.html\n"
   ]
  },
  {
   "attachments": {},
   "cell_type": "markdown",
   "id": "d0a7fe88",
   "metadata": {},
   "source": [
    "# Challenge!!"
   ]
  },
  {
   "cell_type": "code",
   "execution_count": 52,
   "id": "4d8d21e7",
   "metadata": {},
   "outputs": [
    {
     "name": "stdout",
     "output_type": "stream",
     "text": [
      "[[0 1]\n",
      " [2 3]\n",
      " [4 5]\n",
      " [6 7]\n",
      " [8 9]]\n",
      "[[2]\n",
      " [3]]\n"
     ]
    },
    {
     "ename": "ValueError",
     "evalue": "could not broadcast input array from shape (2,1) into shape (1,2)",
     "output_type": "error",
     "traceback": [
      "\u001b[0;31m---------------------------------------------------------------------------\u001b[0m",
      "\u001b[0;31mValueError\u001b[0m                                Traceback (most recent call last)",
      "Cell \u001b[0;32mIn[52], line 9\u001b[0m\n\u001b[1;32m      6\u001b[0m arraySecond \u001b[39m=\u001b[39m np\u001b[39m.\u001b[39marray([[\u001b[39m2\u001b[39m], [\u001b[39m3\u001b[39m]])\n\u001b[1;32m      7\u001b[0m \u001b[39mprint\u001b[39m(arraySecond)\n\u001b[0;32m----> 9\u001b[0m arrayFirst[: \u001b[39m1\u001b[39;49m] \u001b[39m=\u001b[39m arraySecond\n",
      "\u001b[0;31mValueError\u001b[0m: could not broadcast input array from shape (2,1) into shape (1,2)"
     ]
    }
   ],
   "source": [
    "# ok, take these two arrays and add a column to the first one that consists of the second one, go on, I dare you!\n",
    "\n",
    "arrayFirst = np.reshape(np.arange(0, 10), [5, 2])\n",
    "print(arrayFirst)\n",
    "\n",
    "arraySecond = np.array([[2], [3]])\n",
    "print(arraySecond)\n",
    "\n",
    "arrayFirst[: 1] = arraySecond"
   ]
  },
  {
   "cell_type": "code",
   "execution_count": 53,
   "id": "63945b83",
   "metadata": {},
   "outputs": [
    {
     "name": "stdout",
     "output_type": "stream",
     "text": [
      "[[2 3]\n",
      " [2 3]\n",
      " [4 5]\n",
      " [6 7]\n",
      " [8 9]]\n"
     ]
    }
   ],
   "source": [
    "# hmm, let's use reshape\n",
    "arrayFirst[: 1] = np.reshape(arraySecond, [1, 2])\n",
    "print(arrayFirst)"
   ]
  }
 ],
 "metadata": {
  "kernelspec": {
   "display_name": "Python 3",
   "language": "python",
   "name": "python3"
  },
  "language_info": {
   "codemirror_mode": {
    "name": "ipython",
    "version": 3
   },
   "file_extension": ".py",
   "mimetype": "text/x-python",
   "name": "python",
   "nbconvert_exporter": "python",
   "pygments_lexer": "ipython3",
   "version": "3.10.4"
  },
  "vscode": {
   "interpreter": {
    "hash": "3ad933181bd8a04b432d3370b9dc3b0662ad032c4dfaa4e4f1596c548f763858"
   }
  }
 },
 "nbformat": 4,
 "nbformat_minor": 5
}
