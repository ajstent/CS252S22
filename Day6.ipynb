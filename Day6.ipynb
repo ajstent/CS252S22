{
 "cells": [
  {
   "cell_type": "markdown",
   "id": "d404f74a-64ec-4e84-aa7f-03462a950aaf",
   "metadata": {},
   "source": [
    "# Review; Q&A"
   ]
  },
  {
   "cell_type": "markdown",
   "id": "8901b649-bfec-4450-b036-1feded260cf6",
   "metadata": {},
   "source": [
    "## That ix_ thing"
   ]
  },
  {
   "cell_type": "code",
   "execution_count": 13,
   "id": "6c773e8b-a628-40ce-853f-77a7ef7d210c",
   "metadata": {
    "tags": []
   },
   "outputs": [
    {
     "name": "stdout",
     "output_type": "stream",
     "text": [
      "[[ 0  1  2  3  4]\n",
      " [10 11 12 13 14]\n",
      " [20 21 22 23 24]]\n",
      "(3, 5)\n"
     ]
    }
   ],
   "source": [
    "import numpy as np\n",
    "\n",
    "data = np.array([[0, 1, 2, 3, 4], [10, 11, 12, 13, 14], [20, 21, 22, 23, 24]])\n",
    "print(data)\n",
    "# Notice it always *ends with the row size*; so you figure out the length of shape tells you the number of dimensions (ndim!), then the last element in shape is rows and the second last is columns\n",
    "print(data.shape)"
   ]
  },
  {
   "cell_type": "markdown",
   "id": "533dde9f-fb0e-43d4-9fb0-0a8f07a79304",
   "metadata": {},
   "source": [
    "What if I want the columns indexed at 1 and 4, for the rows indexed at 0 and 2?"
   ]
  },
  {
   "cell_type": "code",
   "execution_count": 3,
   "id": "8163723b-d7a3-41c5-b8a6-c7ff885d6e9b",
   "metadata": {
    "tags": []
   },
   "outputs": [
    {
     "name": "stdout",
     "output_type": "stream",
     "text": [
      "[[ 1  4]\n",
      " [21 24]]\n"
     ]
    }
   ],
   "source": [
    "print(data[np.ix_([0, 2], [1, 4])])\n"
   ]
  },
  {
   "cell_type": "markdown",
   "id": "1980028e-c390-4f4f-9843-8d441ad43f9f",
   "metadata": {},
   "source": [
    "## Summing Across Whole Matrices in 3 Dim Numpy Array"
   ]
  },
  {
   "cell_type": "code",
   "execution_count": 4,
   "id": "d52a86b6-86a7-4554-a4b0-3cd4e44644e8",
   "metadata": {
    "tags": []
   },
   "outputs": [
    {
     "name": "stdout",
     "output_type": "stream",
     "text": [
      "[[[1. 1. 1. 1. 1.]\n",
      "  [1. 1. 1. 1. 1.]\n",
      "  [1. 1. 1. 1. 1.]\n",
      "  [1. 1. 1. 1. 1.]]\n",
      "\n",
      " [[1. 1. 1. 1. 1.]\n",
      "  [1. 1. 1. 1. 1.]\n",
      "  [1. 1. 1. 1. 1.]\n",
      "  [1. 1. 1. 1. 1.]]\n",
      "\n",
      " [[1. 1. 1. 1. 1.]\n",
      "  [1. 1. 1. 1. 1.]\n",
      "  [1. 1. 1. 1. 1.]\n",
      "  [1. 1. 1. 1. 1.]]]\n"
     ]
    }
   ],
   "source": [
    "nptensorFloat = np.ones([3, 4, 5])\n",
    "print(nptensorFloat)"
   ]
  },
  {
   "cell_type": "code",
   "execution_count": 10,
   "id": "fac4fd75-9ce4-4763-8dd3-0e04875ce6fc",
   "metadata": {
    "tags": []
   },
   "outputs": [
    {
     "data": {
      "text/plain": [
       "array([[3., 3., 3., 3., 3.],\n",
       "       [3., 3., 3., 3., 3.],\n",
       "       [3., 3., 3., 3., 3.],\n",
       "       [3., 3., 3., 3., 3.]])"
      ]
     },
     "execution_count": 10,
     "metadata": {},
     "output_type": "execute_result"
    }
   ],
   "source": [
    "# dimension 0: forward through each matrix \n",
    "np.sum(nptensorFloat, axis=0)"
   ]
  },
  {
   "cell_type": "code",
   "execution_count": 8,
   "id": "d562613c-b1d9-4fc4-be30-20ce62249b60",
   "metadata": {
    "tags": []
   },
   "outputs": [
    {
     "data": {
      "text/plain": [
       "array([[4., 4., 4., 4., 4.],\n",
       "       [4., 4., 4., 4., 4.],\n",
       "       [4., 4., 4., 4., 4.]])"
      ]
     },
     "execution_count": 8,
     "metadata": {},
     "output_type": "execute_result"
    }
   ],
   "source": [
    "# dimension 1: down through each column\n",
    "np.sum(nptensorFloat, axis=1)\n"
   ]
  },
  {
   "cell_type": "code",
   "execution_count": 9,
   "id": "cc77d97a-16f6-4b29-a05b-88b3734b1a06",
   "metadata": {
    "tags": []
   },
   "outputs": [
    {
     "data": {
      "text/plain": [
       "array([[5., 5., 5., 5.],\n",
       "       [5., 5., 5., 5.],\n",
       "       [5., 5., 5., 5.]])"
      ]
     },
     "execution_count": 9,
     "metadata": {},
     "output_type": "execute_result"
    }
   ],
   "source": [
    "# dimension 2: across through each row\n",
    "np.sum(nptensorFloat, axis=2)\n"
   ]
  },
  {
   "cell_type": "code",
   "execution_count": 12,
   "id": "603e263b-2242-4ee7-a009-43e986d42dae",
   "metadata": {
    "tags": []
   },
   "outputs": [
    {
     "data": {
      "text/plain": [
       "array([20., 20., 20.])"
      ]
     },
     "execution_count": 12,
     "metadata": {},
     "output_type": "execute_result"
    }
   ],
   "source": [
    "# sum of the sum across the rows\n",
    "np.sum(np.sum(nptensorFloat, axis=2), axis=1)"
   ]
  },
  {
   "cell_type": "markdown",
   "id": "78695398",
   "metadata": {},
   "source": [
    "# Let's talk about matrices\n",
    "\n",
    "* What is a matrix?\n",
    "* What is the identity matrix?\n",
    "* What is the transpose of a matrix?\n",
    "* What is a diagonal matrix?"
   ]
  },
  {
   "cell_type": "markdown",
   "id": "ffc26517",
   "metadata": {},
   "source": [
    "## Identity matrix, in numpy"
   ]
  },
  {
   "cell_type": "code",
   "execution_count": 2,
   "id": "bbdcff42",
   "metadata": {},
   "outputs": [
    {
     "data": {
      "text/plain": [
       "array([[1., 0., 0.],\n",
       "       [0., 1., 0.],\n",
       "       [0., 0., 1.]])"
      ]
     },
     "execution_count": 2,
     "metadata": {},
     "output_type": "execute_result"
    }
   ],
   "source": [
    "import numpy as np\n",
    "\n",
    "# identity matrix\n",
    "np.eye(3)"
   ]
  },
  {
   "cell_type": "markdown",
   "id": "3706fbee",
   "metadata": {},
   "source": [
    "## Transposing a matrix, in numpy"
   ]
  },
  {
   "cell_type": "markdown",
   "id": "f7a70eaa",
   "metadata": {},
   "source": [
    "A *transpose* of an array is a new array in which the rows of the old array (in order) become the columns of the new array (in order)."
   ]
  },
  {
   "cell_type": "code",
   "execution_count": 11,
   "id": "6aa47a60",
   "metadata": {},
   "outputs": [
    {
     "name": "stdout",
     "output_type": "stream",
     "text": [
      "[[ 0  1  2  3]\n",
      " [10 11 12 13]\n",
      " [20 21 22 23]]\n"
     ]
    }
   ],
   "source": [
    "# give me a matrix\n",
    "nparray = np.array([[0, 1, 2, 3], [10, 11, 12, 13], [20, 21, 22, 23]])\n",
    "print(nparray)\n",
    "print(nparray.shape)"
   ]
  },
  {
   "cell_type": "code",
   "execution_count": 13,
   "id": "7efd6316",
   "metadata": {},
   "outputs": [
    {
     "name": "stdout",
     "output_type": "stream",
     "text": [
      "[[ 0 10 20]\n",
      " [ 1 11 21]\n",
      " [ 2 12 22]\n",
      " [ 3 13 23]]\n",
      "(4, 3)\n"
     ]
    }
   ],
   "source": [
    "# one way to transpose it\n",
    "transpose = np.matrix.transpose(nparray)\n",
    "print(transpose)\n",
    "print(transpose.shape)"
   ]
  },
  {
   "cell_type": "code",
   "execution_count": 14,
   "id": "fc025e99",
   "metadata": {},
   "outputs": [
    {
     "name": "stdout",
     "output_type": "stream",
     "text": [
      "[[ 0 10 20]\n",
      " [ 1 11 21]\n",
      " [ 2 12 22]\n",
      " [ 3 13 23]]\n",
      "(4, 3)\n"
     ]
    }
   ],
   "source": [
    "# another way to transpose it\n",
    "transpose = nparray.T\n",
    "print(transpose)\n",
    "print(transpose.shape)"
   ]
  },
  {
   "cell_type": "markdown",
   "id": "4d7265ad",
   "metadata": {},
   "source": [
    "## Flattening a matrix"
   ]
  },
  {
   "cell_type": "code",
   "execution_count": 14,
   "id": "2b3a6a86",
   "metadata": {},
   "outputs": [
    {
     "name": "stdout",
     "output_type": "stream",
     "text": [
      "[ 0  1  2  3 10 11 12 13 20 21 22 23 30 31 32 33]\n"
     ]
    }
   ],
   "source": [
    "# way one\n",
    "print(np.ndarray.flatten(nparray))"
   ]
  },
  {
   "cell_type": "code",
   "execution_count": 16,
   "id": "4c82102e",
   "metadata": {},
   "outputs": [
    {
     "name": "stdout",
     "output_type": "stream",
     "text": [
      "[ 0  1  2  3 10 11 12 13 20 21 22 23 30 31 32 33]\n"
     ]
    }
   ],
   "source": [
    "# way two\n",
    "print(np.reshape(nparray, -1))"
   ]
  },
  {
   "cell_type": "markdown",
   "id": "948f0daf",
   "metadata": {},
   "source": [
    "## What is a diagonal matrix?"
   ]
  },
  {
   "cell_type": "markdown",
   "id": "b750640b",
   "metadata": {},
   "source": [
    "# Basic matrix math"
   ]
  },
  {
   "cell_type": "markdown",
   "id": "b1ed3538",
   "metadata": {},
   "source": [
    "We will cover:\n",
    "\n",
    "* How can I multiply a vector or matrix times a scalar?\n",
    "* What is the *dot product* between two vectors?\n",
    "* How can I multiply a matrix times a vector?\n",
    "* How can I multiply a matrix times a matrix?\n",
    "* What has to be true in order for me to be able to calculate the dot product between two vectors?\n",
    "* What has to be true in order for me to be able to multiply a matrix times a vector, or multiply two matrices?"
   ]
  },
  {
   "cell_type": "markdown",
   "id": "8c93107e",
   "metadata": {},
   "source": [
    "## Scalars\n"
   ]
  },
  {
   "cell_type": "markdown",
   "id": "aa0d15a4",
   "metadata": {},
   "source": [
    "Let's start with scalars. How do we:\n",
    "* add/subtract\n",
    "* multiply/divide\n",
    "two scalars?"
   ]
  },
  {
   "cell_type": "code",
   "execution_count": 4,
   "id": "e1d02fe3",
   "metadata": {},
   "outputs": [],
   "source": [
    "x = 2\n",
    "y = 4.5\n",
    "\n",
    "# add\n",
    "\n",
    "# subtract\n",
    "\n",
    "# multiply\n",
    "\n",
    "# divide\n"
   ]
  },
  {
   "cell_type": "markdown",
   "id": "6396f3ef",
   "metadata": {},
   "source": [
    "## Vectors\n"
   ]
  },
  {
   "cell_type": "markdown",
   "id": "cc422793",
   "metadata": {},
   "source": [
    "### Vectors and Scalars"
   ]
  },
  {
   "cell_type": "markdown",
   "id": "aea0367f",
   "metadata": {},
   "source": [
    "How do we:\n",
    "* add/subtract a scalar to/from a vector?\n",
    "* multiply/divide a vector by a scalar?"
   ]
  },
  {
   "cell_type": "code",
   "execution_count": 5,
   "id": "039b13ba",
   "metadata": {},
   "outputs": [
    {
     "name": "stdout",
     "output_type": "stream",
     "text": [
      "xv [1 6 2]\n",
      "x 2\n",
      "math on a vector and a scalar\n",
      "xv plus x [3 8 4]\n",
      "xv minus x [-1  4  0]\n"
     ]
    }
   ],
   "source": [
    "xv = np.array([1, 6, 2])\n",
    "print(\"xv\", xv)\n",
    "print(\"x\", x)\n",
    "\n",
    "print(\"math on a vector and a scalar\")\n",
    "\n",
    "# add x to xv\n",
    "print(\"xv plus x\", xv + x)\n",
    "\n",
    "# subtract x from xv\n",
    "print(\"xv minus x\", xv - x)\n",
    "\n"
   ]
  },
  {
   "cell_type": "markdown",
   "id": "653221db",
   "metadata": {},
   "source": [
    "How do we:\n",
    "* multiply/divide a vector by a scalar?"
   ]
  },
  {
   "cell_type": "code",
   "execution_count": null,
   "id": "0bb2b162",
   "metadata": {},
   "outputs": [],
   "source": [
    "# multiply xv times x\n",
    "print(\"xv times x\", xv * x)\n",
    "\n",
    "# divide xv by x\n",
    "# note how the type changes\n",
    "print(\"xv divied by x\", xv / x)"
   ]
  },
  {
   "cell_type": "markdown",
   "id": "0b724fe7",
   "metadata": {},
   "source": [
    "### Vectors and vectors"
   ]
  },
  {
   "cell_type": "markdown",
   "id": "69dd67ef",
   "metadata": {},
   "source": [
    "How do we add/subtract two vectors?\n",
    "\n",
    "When we add/subtract two vectors we do it \"element wise\". This means the two vectors *have to be of equal length*. (And that is why I'm always printing out the shapes of numpy arrays!)"
   ]
  },
  {
   "cell_type": "code",
   "execution_count": 8,
   "id": "07d223da",
   "metadata": {},
   "outputs": [
    {
     "name": "stdout",
     "output_type": "stream",
     "text": [
      "xv [1 6 2]\n",
      "yv [2.2 5.4 1.1]\n",
      "math on two vectors\n",
      "xv + yv [ 3.2 11.4  3.1]\n",
      "xv minus yv [-1.2  0.6  0.9]\n"
     ]
    }
   ],
   "source": [
    "yv = np.array([2.2, 5.4, 1.1])\n",
    "print(\"xv\", xv)\n",
    "print(\"yv\", yv)\n",
    "\n",
    "print(\"math on two vectors\")\n",
    "\n",
    "# add xv and yv\n",
    "# note how the result is float, even though xv was int\n",
    "print(\"xv + yv\", xv + yv)\n",
    "\n",
    "# subtract yv from xv\n",
    "print(\"xv minus yv\", xv - yv)"
   ]
  },
  {
   "cell_type": "markdown",
   "id": "2aa38e97",
   "metadata": {},
   "source": [
    "How do wemultiply/divide two vectors?\n",
    "\n",
    "There are **two ways**!\n",
    "\n",
    "Forst let's look at the \"element wise product\" of two vectors. That's what you get if you use * or /."
   ]
  },
  {
   "cell_type": "code",
   "execution_count": 21,
   "id": "10afb41a",
   "metadata": {},
   "outputs": [
    {
     "name": "stdout",
     "output_type": "stream",
     "text": [
      "xv times yv [ 2.2 32.4  2.2]\n",
      "xv / yv [0.45454545 1.11111111 1.81818182]\n"
     ]
    }
   ],
   "source": [
    "# multiply xv and yv\n",
    "print(\"xv times yv\", xv * yv)\n",
    "\n",
    "# divide xv by yv\n",
    "print(\"xv / yv\", xv / yv)"
   ]
  },
  {
   "cell_type": "markdown",
   "id": "c46c7491",
   "metadata": {},
   "source": [
    "Now let's look at the *dot product* between two vectors (also called the \"scalar product\" or inner product) is calculated by:\n",
    "1. multiplying the two vectors element-wise\n",
    "2. summing the products to get a single scalar\n",
    "\n",
    "It looks like this: $d(\\vec{a}, \\vec{b}) = \\sum_{i=0}^{N-1} a_i*b_i$\n",
    "\n",
    "Let's work one out by hand:\n",
    "* $xv = \\begin{pmatrix} 1 & 6 & 2 \\end{pmatrix}$\n",
    "* $yv = \\begin{pmatrix} 2.2 & 5.4 & 1.1 \\end{pmatrix}$\n",
    "* $xv \\cdot yv = $"
   ]
  },
  {
   "cell_type": "code",
   "execution_count": 26,
   "id": "878c4998",
   "metadata": {},
   "outputs": [
    {
     "name": "stdout",
     "output_type": "stream",
     "text": [
      "xv dot yv 36.800000000000004\n"
     ]
    }
   ],
   "source": [
    "# dot product of xv and yv\n",
    "print(\"xv dot yv\", xv.dot(yv))"
   ]
  },
  {
   "cell_type": "markdown",
   "id": "549fe9b6",
   "metadata": {},
   "source": [
    "Another way to write it in numpy is \"@\""
   ]
  },
  {
   "cell_type": "code",
   "execution_count": 30,
   "id": "9570c0c8",
   "metadata": {},
   "outputs": [
    {
     "name": "stdout",
     "output_type": "stream",
     "text": [
      "xv dot yv 36.800000000000004\n"
     ]
    }
   ],
   "source": [
    "print(\"xv dot yv\", xv@yv)"
   ]
  },
  {
   "cell_type": "markdown",
   "id": "f3c0bd5d",
   "metadata": {},
   "source": [
    "## Matrices"
   ]
  },
  {
   "cell_type": "markdown",
   "id": "ec82902c",
   "metadata": {},
   "source": [
    "### Matrices and scalars"
   ]
  },
  {
   "cell_type": "markdown",
   "id": "1027dfae",
   "metadata": {},
   "source": [
    "Great! How do we:\n",
    "* add/subtract a scalar to/from a matrix?\n",
    "* multiply/divide a matrix by a scalar?"
   ]
  },
  {
   "cell_type": "code",
   "execution_count": 16,
   "id": "cff9f94d",
   "metadata": {},
   "outputs": [
    {
     "name": "stdout",
     "output_type": "stream",
     "text": [
      "xm [[3 5 3]\n",
      " [4 2 4]]\n",
      "x 2\n",
      "xm plus x\n",
      "xm minus x\n",
      "xm times x\n",
      "xm divided by x\n"
     ]
    }
   ],
   "source": [
    "xm = np.array([[3,5,3], [4,2,4]])\n",
    "print(\"xm\", xm)\n",
    "print(\"x\", x)\n",
    "\n",
    "# add xm and x\n",
    "print(\"xm plus x\", )\n",
    "\n",
    "# subtract x from xm\n",
    "print(\"xm minus x\", )\n",
    "\n",
    "# multiply xm by x\n",
    "print(\"xm times x\", )\n",
    "\n",
    "# divide xm by x\n",
    "print(\"xm divided by x\", )\n"
   ]
  },
  {
   "cell_type": "markdown",
   "id": "da5dfb99",
   "metadata": {},
   "source": [
    "### Matrices and vectors"
   ]
  },
  {
   "cell_type": "markdown",
   "id": "46149428",
   "metadata": {},
   "source": [
    "How do we add/subtract a vector from a matrix?\n",
    "\n",
    "You can see that this also happens element-wise."
   ]
  },
  {
   "cell_type": "code",
   "execution_count": 36,
   "id": "b278ec07",
   "metadata": {},
   "outputs": [
    {
     "name": "stdout",
     "output_type": "stream",
     "text": [
      "xm [[3 5 3]\n",
      " [4 2 4]]\n",
      "xv [1 6 2]\n",
      "xm plus xv\n",
      "xm minus xv\n"
     ]
    }
   ],
   "source": [
    "print(\"xm\", xm)\n",
    "print(\"xv\", xv)\n",
    "\n",
    "# add xm and xv\n",
    "print(\"xm plus xv\", )\n",
    "\n",
    "\n",
    "# subtract xv from xm\n",
    "print(\"xm minus xv\", )\n",
    "\n"
   ]
  },
  {
   "cell_type": "markdown",
   "id": "e0f9390f",
   "metadata": {},
   "source": [
    "How do we multiply a matrix by a vector?\n",
    "\n",
    "Matrix-vector multiplication is built on the *dot product* between two vectors.\n",
    "\n",
    "Note: the length of each row in the matrix has to be the same as the length of the vector. If it's not, you won't be able to multiply.\n",
    "\n",
    "Let's work this out by hand:\n",
    "* $XM = \\begin{pmatrix} 3 & 5 & 3 \\\\ 4 & 2 & 4 \\end{pmatrix}$\n",
    "* $xv = \\begin{pmatrix} 1 & 6 & 2 \\end{pmatrix}$\n",
    "* $XM \\cdot xv = $"
   ]
  },
  {
   "cell_type": "code",
   "execution_count": 34,
   "id": "3dd79110",
   "metadata": {},
   "outputs": [
    {
     "name": "stdout",
     "output_type": "stream",
     "text": [
      "(2, 3)\n",
      "(3,)\n",
      "xm dot xv [39 24]\n"
     ]
    }
   ],
   "source": [
    "print(xm.shape)\n",
    "print(xv.shape)\n",
    "\n",
    "# dot product\n",
    "print(\"xm dot xv\", xm@xv)"
   ]
  },
  {
   "cell_type": "markdown",
   "id": "d140a391",
   "metadata": {},
   "source": [
    "(If you want the element wise product of a matrix and a vector, use *multiply*.)"
   ]
  },
  {
   "cell_type": "code",
   "execution_count": 27,
   "id": "473c147e",
   "metadata": {},
   "outputs": [
    {
     "name": "stdout",
     "output_type": "stream",
     "text": [
      "xm multiply xv [[ 3 30  6]\n",
      " [ 4 12  8]]\n"
     ]
    }
   ],
   "source": [
    "# if you want element wise product\n",
    "print(\"xm multiply xv\", np.multiply(xm, xv))"
   ]
  },
  {
   "cell_type": "markdown",
   "id": "b76ae95f",
   "metadata": {},
   "source": [
    "Stay away from \"*\" and \"/\" when it comes to matrices, it'll just confuse things. Use \"@\" for the dot product."
   ]
  },
  {
   "cell_type": "markdown",
   "id": "1191dd49",
   "metadata": {},
   "source": [
    "### Matrices and matrices"
   ]
  },
  {
   "cell_type": "markdown",
   "id": "dbb13c06",
   "metadata": {},
   "source": [
    "And finally, how do we multiply two matrices?\n",
    "\n",
    "Matrix multiplication is the dot product of each row in the first matrix and each column in the second matrix.\n",
    "\n",
    "This means that the length of each row in the first matrix has to be the same as that of each column in the second matrix.\n",
    "\n",
    "If it's not, we can't multiply."
   ]
  },
  {
   "cell_type": "code",
   "execution_count": 36,
   "id": "520e33e3",
   "metadata": {},
   "outputs": [
    {
     "name": "stdout",
     "output_type": "stream",
     "text": [
      "(2, 3)\n"
     ]
    },
    {
     "ename": "ValueError",
     "evalue": "matmul: Input operand 1 has a mismatch in its core dimension 0, with gufunc signature (n?,k),(k,m?)->(n?,m?) (size 2 is different from 3)",
     "output_type": "error",
     "traceback": [
      "\u001b[0;31m---------------------------------------------------------------------------\u001b[0m",
      "\u001b[0;31mValueError\u001b[0m                                Traceback (most recent call last)",
      "Cell \u001b[0;32mIn[36], line 4\u001b[0m\n\u001b[1;32m      1\u001b[0m \u001b[39mprint\u001b[39m(xm\u001b[39m.\u001b[39mshape)\n\u001b[1;32m      3\u001b[0m \u001b[39m# attempt matrix multiply\u001b[39;00m\n\u001b[0;32m----> 4\u001b[0m xm\u001b[39m@xm\u001b[39;49m\n",
      "\u001b[0;31mValueError\u001b[0m: matmul: Input operand 1 has a mismatch in its core dimension 0, with gufunc signature (n?,k),(k,m?)->(n?,m?) (size 2 is different from 3)"
     ]
    }
   ],
   "source": [
    "print(xm.shape)\n",
    "\n",
    "# attempt matrix multiply\n",
    "xm@xm"
   ]
  },
  {
   "cell_type": "markdown",
   "id": "e65da0d2",
   "metadata": {},
   "source": [
    "But we *can* multiply $xm$ and $xm^T$ (the transpose of $xm$)!"
   ]
  },
  {
   "cell_type": "code",
   "execution_count": 38,
   "id": "8716563c",
   "metadata": {},
   "outputs": [
    {
     "name": "stdout",
     "output_type": "stream",
     "text": [
      "[[3 5 3]\n",
      " [4 2 4]]\n",
      "(2, 3)\n",
      "(3, 2)\n"
     ]
    },
    {
     "data": {
      "text/plain": [
       "array([[43, 34],\n",
       "       [34, 36]])"
      ]
     },
     "execution_count": 38,
     "metadata": {},
     "output_type": "execute_result"
    }
   ],
   "source": [
    "print(xm)\n",
    "print(xm.shape)\n",
    "print(xm.T.shape)\n",
    "\n",
    "# attempt matrix multiply\n",
    "xm@xm.T"
   ]
  },
  {
   "cell_type": "markdown",
   "id": "4a73660f",
   "metadata": {},
   "source": [
    "Let's work this out by hand:\n",
    "* $XM = \\begin{pmatrix} 3 & 5 & 3 \\\\ 4 & 2 & 4 \\end{pmatrix}$\n",
    "* $XM^T = \\begin{pmatrix} 3 & 4 \\\\ 5 & 2 \\\\ 3 & 4 \\end{pmatrix}$\n",
    "* $XM \\cdot XM^T = $\n"
   ]
  },
  {
   "cell_type": "markdown",
   "id": "0f270349",
   "metadata": {},
   "source": [
    "What are some \"gotchas\" with matrix/matrix math?\n",
    "* multiplication *is* associative\n",
    "multiplication *is not* commutative"
   ]
  },
  {
   "cell_type": "markdown",
   "id": "98f44bdf",
   "metadata": {},
   "source": [
    "# What does all this have to do with data analytics, visualization and machine learning?\n",
    "\n",
    "We might want to:\n",
    "* translate (move)\n",
    "* scale (resize)\n",
    "* rotate\n",
    "* normalize\n",
    "* orthographically project\n",
    "data sets to get insight!\n",
    "\n",
    "We do all of those via matrix math.\n",
    "\n",
    "(*And what hardware is really good at matrix math?*)"
   ]
  },
  {
   "cell_type": "markdown",
   "id": "ed9b1c93",
   "metadata": {},
   "source": [
    "# Resources\n",
    "\n",
    "* http://cs229.stanford.edu/summer2019/cs229-linalg.pdf and https://klaviyo.github.io/datascience-learning/linear-algebra/cs229.html\n",
    "* https://bvanderlei.github.io/jupyter-guide-to-linear-algebra/intro.html\n"
   ]
  },
  {
   "cell_type": "markdown",
   "id": "d0a7fe88",
   "metadata": {},
   "source": [
    "# Challenge!!"
   ]
  },
  {
   "cell_type": "code",
   "execution_count": 52,
   "id": "4d8d21e7",
   "metadata": {},
   "outputs": [
    {
     "name": "stdout",
     "output_type": "stream",
     "text": [
      "[[0 1]\n",
      " [2 3]\n",
      " [4 5]\n",
      " [6 7]\n",
      " [8 9]]\n",
      "[[2]\n",
      " [3]]\n"
     ]
    },
    {
     "ename": "ValueError",
     "evalue": "could not broadcast input array from shape (2,1) into shape (1,2)",
     "output_type": "error",
     "traceback": [
      "\u001b[0;31m---------------------------------------------------------------------------\u001b[0m",
      "\u001b[0;31mValueError\u001b[0m                                Traceback (most recent call last)",
      "Cell \u001b[0;32mIn[52], line 9\u001b[0m\n\u001b[1;32m      6\u001b[0m arraySecond \u001b[39m=\u001b[39m np\u001b[39m.\u001b[39marray([[\u001b[39m2\u001b[39m], [\u001b[39m3\u001b[39m]])\n\u001b[1;32m      7\u001b[0m \u001b[39mprint\u001b[39m(arraySecond)\n\u001b[0;32m----> 9\u001b[0m arrayFirst[: \u001b[39m1\u001b[39;49m] \u001b[39m=\u001b[39m arraySecond\n",
      "\u001b[0;31mValueError\u001b[0m: could not broadcast input array from shape (2,1) into shape (1,2)"
     ]
    }
   ],
   "source": [
    "# ok, take these two arrays and add a column to the first one that consists of the second one, go on, I dare you!\n",
    "\n",
    "arrayFirst = np.reshape(np.arange(0, 10), [5, 2])\n",
    "print(arrayFirst)\n",
    "\n",
    "arraySecond = np.array([[2], [3]])\n",
    "print(arraySecond)\n",
    "\n",
    "arrayFirst[: 1] = arraySecond"
   ]
  },
  {
   "cell_type": "code",
   "execution_count": 53,
   "id": "63945b83",
   "metadata": {},
   "outputs": [
    {
     "name": "stdout",
     "output_type": "stream",
     "text": [
      "[[2 3]\n",
      " [2 3]\n",
      " [4 5]\n",
      " [6 7]\n",
      " [8 9]]\n"
     ]
    }
   ],
   "source": [
    "# hmm, let's use reshape\n",
    "arrayFirst[: 1] = np.reshape(arraySecond, [1, 2])\n",
    "print(arrayFirst)"
   ]
  }
 ],
 "metadata": {
  "kernelspec": {
   "display_name": "Python 3 (ipykernel)",
   "language": "python",
   "name": "python3"
  },
  "language_info": {
   "codemirror_mode": {
    "name": "ipython",
    "version": 3
   },
   "file_extension": ".py",
   "mimetype": "text/x-python",
   "name": "python",
   "nbconvert_exporter": "python",
   "pygments_lexer": "ipython3",
   "version": "3.10.4"
  },
  "vscode": {
   "interpreter": {
    "hash": "3ad933181bd8a04b432d3370b9dc3b0662ad032c4dfaa4e4f1596c548f763858"
   }
  }
 },
 "nbformat": 4,
 "nbformat_minor": 5
}
