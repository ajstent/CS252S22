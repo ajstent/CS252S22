{
 "cells": [
  {
   "attachments": {},
   "cell_type": "markdown",
   "id": "78695398",
   "metadata": {},
   "source": [
    "# Show me more numpy!"
   ]
  },
  {
   "attachments": {},
   "cell_type": "markdown",
   "id": "5bfa06d6",
   "metadata": {},
   "source": [
    "## Review!\n",
    "\n",
    "How do I see the number of dimensions and number of elements in a numpy array?\n"
   ]
  },
  {
   "cell_type": "code",
   "execution_count": null,
   "id": "6611c89e",
   "metadata": {},
   "outputs": [],
   "source": [
    "# import numpy\n",
    "\n",
    "nparray = np.array([[0,1,2,3], [10,11,12,13], [20,21,22,23]])\n",
    "print(\"nparray\\n\", nparray)\n",
    "\n",
    "# number of dimensions\n",
    "\n",
    "# number of elements\n",
    "\n",
    "# overall shape\n"
   ]
  },
  {
   "attachments": {},
   "cell_type": "markdown",
   "id": "9090014e",
   "metadata": {},
   "source": [
    "## Getting into numpy arrays"
   ]
  },
  {
   "attachments": {},
   "cell_type": "markdown",
   "id": "a76c7c30",
   "metadata": {},
   "source": [
    "Indexing into vectors"
   ]
  },
  {
   "cell_type": "code",
   "execution_count": null,
   "id": "10786520",
   "metadata": {},
   "outputs": [],
   "source": [
    "v = np.array([1, 2, 3])\n",
    "\n",
    "# what if i want the second item in v\n",
    "print(v[1])"
   ]
  },
  {
   "attachments": {},
   "cell_type": "markdown",
   "id": "d40b09f8",
   "metadata": {},
   "source": [
    "Indexing into matrices"
   ]
  },
  {
   "cell_type": "code",
   "execution_count": null,
   "id": "002a02d6",
   "metadata": {},
   "outputs": [],
   "source": [
    "m = np.array([[1,2,3], [4,5,6]])\n",
    "\n",
    "#  what if I want the first row second column item in m\n",
    "print(m[0][1])"
   ]
  },
  {
   "cell_type": "code",
   "execution_count": null,
   "id": "1070c5a9",
   "metadata": {},
   "outputs": [],
   "source": [
    "# what happens if I do this?\n",
    "print(m[1]) "
   ]
  },
  {
   "cell_type": "code",
   "execution_count": null,
   "id": "c52fe053",
   "metadata": {},
   "outputs": [],
   "source": [
    "# what happens if I do this?\n",
    "print(m[:, 1])"
   ]
  },
  {
   "cell_type": "markdown",
   "id": "21c68c42",
   "metadata": {},
   "source": [
    "* these are *slices* of arrays\n",
    "* a slice of a matrix is a vector\n",
    "* a slice of a tensor is a matrix or another tensor"
   ]
  },
  {
   "attachments": {},
   "cell_type": "markdown",
   "id": "ba62e95c",
   "metadata": {},
   "source": [
    "Indexing into tensors"
   ]
  },
  {
   "cell_type": "code",
   "execution_count": null,
   "id": "a032f68c",
   "metadata": {},
   "outputs": [],
   "source": [
    "t = np.array([[[1,2,3,4], [5,6,7,8]], [[9,10,11,12], [13,14,15,16]],  [[17,18,19,20], [21,22,23,24]]])\n",
    "\n",
    "# let's remind ourselves what t looks like\n",
    "print(t)\n",
    "print(t.shape)"
   ]
  },
  {
   "cell_type": "code",
   "execution_count": null,
   "id": "c0549b79",
   "metadata": {},
   "outputs": [],
   "source": [
    "# what if I want the first array 2nd row 3rd column item in t?\n"
   ]
  },
  {
   "cell_type": "code",
   "execution_count": null,
   "id": "27375c5c",
   "metadata": {},
   "outputs": [],
   "source": [
    "# what is the slice of t indexed like this?\n",
    "print(t[1])"
   ]
  },
  {
   "cell_type": "code",
   "execution_count": null,
   "id": "54f13e89",
   "metadata": {},
   "outputs": [],
   "source": [
    "# what about like this?\n",
    "print(t[:,1])"
   ]
  },
  {
   "cell_type": "code",
   "execution_count": null,
   "id": "067aaa07",
   "metadata": {},
   "outputs": [],
   "source": [
    "# what about like this?\n",
    "print(t[:,:,1])"
   ]
  },
  {
   "attachments": {},
   "cell_type": "markdown",
   "id": "368b893a",
   "metadata": {},
   "source": [
    "Now you do it!"
   ]
  },
  {
   "cell_type": "code",
   "execution_count": null,
   "id": "ef0a4826",
   "metadata": {},
   "outputs": [],
   "source": [
    "nparray = np.array([[0, 1, 2, 3], [10, 11, 12, 13], [20, 21, 22, 23], [30, 31, 32, 33]])\n",
    "print(\"nparray\\n\", nparray)"
   ]
  },
  {
   "cell_type": "code",
   "execution_count": null,
   "id": "39d0fdcb",
   "metadata": {},
   "outputs": [],
   "source": [
    "# (review!) how do I access the element in the top left corner of nparray?\n",
    "print(nparray[0][0])"
   ]
  },
  {
   "cell_type": "code",
   "execution_count": null,
   "id": "c781fc9e",
   "metadata": {},
   "outputs": [],
   "source": [
    "# is there a prettier way?\n",
    "print(nparray[0, 0])\n",
    "\n",
    "# this is only marginally prettier for a 2-d array but imagine a 10-d array!"
   ]
  },
  {
   "cell_type": "code",
   "execution_count": null,
   "id": "cda05fff",
   "metadata": {},
   "outputs": [],
   "source": [
    "# how do I access the whole first column?\n",
    "print(nparray[??])"
   ]
  },
  {
   "cell_type": "code",
   "execution_count": null,
   "id": "58ee3da1",
   "metadata": {},
   "outputs": [],
   "source": [
    "# what about the whole second row?\n",
    "print(nparray[??])"
   ]
  },
  {
   "cell_type": "code",
   "execution_count": null,
   "id": "c1d858de",
   "metadata": {},
   "outputs": [],
   "source": [
    "\n",
    "# what about the last two rows?\n",
    "print(nparray[-2:, :])\n",
    "print(nparray[1:, :]) #this also works\n",
    "\n"
   ]
  },
  {
   "cell_type": "code",
   "execution_count": null,
   "id": "ccae2bd7",
   "metadata": {},
   "outputs": [],
   "source": [
    "# what about the first row and last two columns?\n",
    "print(\"first row, last two columns\")\n",
    "print(nparray[??])"
   ]
  },
  {
   "cell_type": "code",
   "execution_count": null,
   "id": "ab5ef905",
   "metadata": {},
   "outputs": [],
   "source": [
    "# how do I access the 1st and 3rd columns?\n",
    "print(\"first and third columns\")\n",
    "print(nparray[:, [1, 3]])"
   ]
  },
  {
   "cell_type": "code",
   "execution_count": null,
   "id": "665f0601",
   "metadata": {},
   "outputs": [],
   "source": [
    "# let's do it another way\n",
    "print(nparray[np.ix_(np.arange(nparray.shape[0]), [1, 3])])\n",
    "\n",
    "# what is np.ix_??"
   ]
  },
  {
   "attachments": {},
   "cell_type": "markdown",
   "id": "ef99c05b",
   "metadata": {},
   "source": [
    "## Modifying (slices of) arrays"
   ]
  },
  {
   "cell_type": "code",
   "execution_count": null,
   "id": "c6b04149",
   "metadata": {},
   "outputs": [],
   "source": [
    "# how do I *change* the element at 1, 1 of the array?\n",
    "nparray[1,1] = 101\n",
    "print(nparray)"
   ]
  },
  {
   "cell_type": "code",
   "execution_count": null,
   "id": "2338269d",
   "metadata": {},
   "outputs": [],
   "source": [
    "# and now for some magic! how do I assign the second row to 1s?\n",
    "nparray[1] = 1\n",
    "print(nparray)\n",
    "print(nparray.dtype)"
   ]
  },
  {
   "cell_type": "code",
   "execution_count": null,
   "id": "6e6e59f9",
   "metadata": {},
   "outputs": [],
   "source": [
    "# how do I assign the second row to increasing ints?\n",
    "nparray[1] = np.arange(nparray.shape[1])\n",
    "print(nparray)\n",
    "print(nparray.dtype)"
   ]
  },
  {
   "cell_type": "code",
   "execution_count": null,
   "id": "19daf3e3",
   "metadata": {},
   "outputs": [],
   "source": [
    "# how do I assign the second row to 3* itself?\n",
    "nparray[1] ??\n",
    "print(nparray)\n"
   ]
  }
 ],
 "metadata": {
  "kernelspec": {
   "display_name": "Python 3",
   "language": "python",
   "name": "python3"
  },
  "language_info": {
   "codemirror_mode": {
    "name": "ipython",
    "version": 3
   },
   "file_extension": ".py",
   "mimetype": "text/x-python",
   "name": "python",
   "nbconvert_exporter": "python",
   "pygments_lexer": "ipython3",
   "version": "3.10.4"
  },
  "vscode": {
   "interpreter": {
    "hash": "3ad933181bd8a04b432d3370b9dc3b0662ad032c4dfaa4e4f1596c548f763858"
   }
  }
 },
 "nbformat": 4,
 "nbformat_minor": 5
}
