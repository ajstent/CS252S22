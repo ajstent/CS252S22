{
 "cells": [
  {
   "cell_type": "markdown",
   "id": "78695398",
   "metadata": {},
   "source": [
    "Let's talk more! about numpy\n",
    "----------------------\n",
    "\n",
    "**Going from lists to arrays and figuring out if that worked well...**"
   ]
  },
  {
   "cell_type": "code",
   "execution_count": null,
   "id": "bbdcff42",
   "metadata": {},
   "outputs": [],
   "source": [
    "import numpy as np\n",
    "import pickle as pkl #data storage for python to look at \n",
    "\n",
    "# how do I make a numpy array from a python list?\n",
    "pylist = [[10, 1, 2021], [2, 9, 2022]] #python list --> doesn't have a shape but would be 2, 3\n",
    "nparray = np.array(pylist)\n",
    "\n",
    "# how do I print a numpy array?\n",
    "print(nparray)\n",
    "print(nparray.shape)\n",
    "\n",
    "#^for converting between numpy array and numpy list\n",
    "\n",
    "with open('data.pkl','wb') as f:\n",
    "    pkl.dump(nparray, f)\n",
    "\n",
    "# and back to a list?\n",
    "\n",
    "with open('data.pkl','wb') as f:\n",
    "    nparray2 = pkl.load(f)\n",
    "    print(nparray2)\n",
    "\n",
    "backtolist = nparray.tolist()\n",
    "print(backtolist)\n",
    "\n",
    "#pickle as pkl \n",
    "#can save, dump, load kinds of python objects with numpy and python arrays and lists\n",
    "\n",
    "#can have numpy lists of 1,2,3,4 dimensions, etc\n",
    "#for nparray, each array in it should be the same length\n"
   ]
  },
  {
   "cell_type": "code",
   "execution_count": null,
   "id": "c757de3a",
   "metadata": {},
   "outputs": [],
   "source": [
    "# how do I figure out the type of a numpy array? \n",
    "print(nparray.dtype)\n",
    "\n",
    "# hmm, will this work and why or why not?\n",
    "print(backtolist.dtype)#can't do this because dtpye only works for numpy array\n",
    "\n",
    "#int64 output means they're ints --> quantitative discrete (floats are continuous)"
   ]
  },
  {
   "cell_type": "code",
   "execution_count": null,
   "id": "6aa47a60",
   "metadata": {},
   "outputs": [],
   "source": [
    "# how do I change the type of a numpy array?\n",
    "nparrayFloat = nparray.astype(float) #can coerce numpy array into floats (coercing int to float makes it bigger, takes space)\n",
    "print(nparrayFloat.dtype)\n",
    "print(nparrayFloat)\n",
    "#.astype\n",
    "\n",
    "nparrayStr = np.array(nparrayFloat, dtype=str)\n",
    "print(nparrayStr.dtype)\n",
    "#make new array, then tell them to be strings\n",
    "#coerce into strings for new numpy array\n",
    "print(nparrayStr)\n",
    "\n",
    "nparrayFloat = nparrayStr.astype(float)\n",
    "print(nparrayFloat.dtype)\n",
    "#try to coerce strings into floats\n",
    "print(nparrayFloat)\n",
    "\n",
    "#going from float to int will truncate, so be careful with this"
   ]
  },
  {
   "cell_type": "code",
   "execution_count": null,
   "id": "2b3a6a86",
   "metadata": {},
   "outputs": [],
   "source": [
    "# (review!) how do I see the number of dimensions, number of elements, and shape of a numpy array?\n",
    "print(nparray.size)\n",
    "#can only have an odd number of elements with an odd number of rows or when it's 1 dimensional\n",
    "print(nparray.ndim)\n",
    "print(nparray.shape)"
   ]
  },
  {
   "cell_type": "markdown",
   "id": "e76bf41b",
   "metadata": {},
   "source": [
    "**Making numpy arrays...**"
   ]
  },
  {
   "cell_type": "code",
   "execution_count": null,
   "id": "26e12304",
   "metadata": {},
   "outputs": [],
   "source": [
    "# make an array of zeros\n",
    "nparrayZero = np.zeros([3, 10]) #3 by 10 nparray of zeros\n",
    "print(nparrayZero)\n",
    "\n",
    "# that's floats ... what if we want ints?\n",
    "nparrayZero.astype(int) \n",
    "print(nparrayZero) #didn't work\n",
    "\n",
    "nparrayZero = nparrayZero.astype(int) \n",
    "print(nparrayZero) #works\n",
    "\n",
    "nparrayZeroInt = np.array(nparrayZero, dtype=int)\n",
    "print(nparrayZeroInt)\n",
    "\n",
    "# what if we want zeros instead of ones?\n",
    "\n",
    "nparrayOnes = np.ones([3,10])\n",
    "print(nparrayOnes)\n",
    "\n",
    "# what if we want sevens?\n",
    "nparraySevens = np.ones([3,10])*7 # can broadcast the 7 across all elements like this\n",
    "print(nparraySevens)"
   ]
  },
  {
   "cell_type": "code",
   "execution_count": null,
   "id": "65e39cef",
   "metadata": {},
   "outputs": [],
   "source": [
    "# make an array of random values\n",
    "nparrayRandomFloat = np.random.random([3, 10])\n",
    "print(nparrayRandomFloat)\n",
    "print(nparrayRandomFloat.dtype)\n",
    "\n",
    "# what if we want random ints? let's see...\n",
    "#nparrayRandomInt = np.random.random([3, 10], dtype=int) # can't do this because it generates random numbers between 0 and 1\n",
    "\n",
    "\n",
    "# hmm, if not that then what?\n",
    "print(((nparrayRandomFloat)*10).astype(int))\n",
    "\n",
    "#hw^^ what is the other way to do this??\n"
   ]
  },
  {
   "cell_type": "code",
   "execution_count": null,
   "id": "25730631",
   "metadata": {},
   "outputs": [],
   "source": [
    "# what if we want random floats in an interval?\n",
    "print(np.linspace(0, 10, 10)) #start, stop, amount\n",
    "#help(np.linspace)\n",
    "\n",
    "# what if we want to shape that into a 2 by 5 array?\n",
    "nplinArray = np.linspace(0,10,10) \n",
    "np2dArray = np.reshape(nplinArray, (2, 5))\n",
    "print(np2dArray)\n",
    "\n",
    "# what if we want random ints in an interval?\n",
    "nplinArray = np.linspace(0,10,10, dtype=int)\n",
    "print(nplinArray) #ints but not random\n",
    "\n"
   ]
  },
  {
   "cell_type": "markdown",
   "id": "994f6934",
   "metadata": {},
   "source": [
    "**Getting access to elements and \"slices\" of numpy arrays...**"
   ]
  },
  {
   "cell_type": "code",
   "execution_count": null,
   "id": "ef0a4826",
   "metadata": {},
   "outputs": [],
   "source": [
    "print(nparrayRandomFloat)\n",
    "print(nparrayRandomFloat.shape)\n",
    "\n",
    "# (review!) how do I access an element in an array?\n",
    "print(nparrayRandomFloat[0][0])\n",
    "\n",
    "# is there a prettier way?\n",
    "print(nparrayRandomFloat[0, 0])\n",
    "\n",
    "# this is only marginally prettier for a 2-d array but imagine a 10-d array!\n",
    "\n",
    "#slice is a chunk basically --> any subarray of the array"
   ]
  },
  {
   "cell_type": "code",
   "execution_count": null,
   "id": "cda05fff",
   "metadata": {},
   "outputs": [],
   "source": [
    "print(nparrayRandomFloat)\n",
    "\n",
    "# how do I access the whole second column?\n",
    "# print(\"first column\") #this is not an array --> i think it's a python list\n",
    "# print(nparrayRandomFloat[:, 1]) #colon for first dimension, 1 for second dimension\n",
    "\n",
    "# what about the whole second row?\n",
    "# print(\"first row\") #this is an array\n",
    "#nparrayRandomFloat[1, :]\n",
    "\n",
    "# what about the last two rows?\n",
    "# print(\"last two rows\")\n",
    "# print(nparrayRandomFloat[-2:, :])\n",
    "# print(nparrayRandomFloat[1:, :]) #this also works\n",
    "\n",
    "# what about the first row and last two columns?\n",
    "print(\"first row, last two columns\")\n",
    "print(nparrayRandomFloat[0, 8:])\n",
    "# print(nparrayRandomFloat[0, -1:]) #same as above"
   ]
  },
  {
   "cell_type": "code",
   "execution_count": null,
   "id": "ab5ef905",
   "metadata": {},
   "outputs": [],
   "source": [
    "print(nparrayRandomFloat)\n",
    "\n",
    "# how do I access the 1st and 3rd columns?\n",
    "print(\"first and third columns\")\n",
    "print(nparrayRandomFloat[np.ix_(np.arange(nparrayRandomFloat.shape[0]), [1, 3])])\n",
    "#np.ix construct open mesh for multiple sequences?\n",
    "#arange is \n",
    "#0th dimension of the same\n",
    "#1st and 3rd column\n",
    "print(nparrayRandomFloat.shape[0])#shape function is a tuple that we can index into \n",
    "print(np.arange(nparrayRandomFloat.shape[0])) #prints integer linearly increasing in range of 3 (0,1,2)\n",
    "#so all rows, and just columns 1 and 3\n",
    "\n",
    "# whaaaat was that?"
   ]
  },
  {
   "cell_type": "markdown",
   "id": "98ced320",
   "metadata": {},
   "source": [
    "This is where class ended"
   ]
  },
  {
   "cell_type": "markdown",
   "id": "ef99c05b",
   "metadata": {},
   "source": [
    "**Modifying (slices of) arrays...**"
   ]
  },
  {
   "cell_type": "code",
   "execution_count": null,
   "id": "c6b04149",
   "metadata": {},
   "outputs": [],
   "source": [
    "# how do I *change* the element at 1, 1 of the array?"
   ]
  },
  {
   "cell_type": "code",
   "execution_count": null,
   "id": "2338269d",
   "metadata": {},
   "outputs": [],
   "source": [
    "# and now for some magic! how do I assign the second row to 1s?\n",
    "nparrayRandomFloat[1] = 1\n",
    "print(nparrayRandomFloat)\n",
    "print(nparrayRandomFloat.dtype)\n",
    "\n",
    "# how do I assign the second row to increasing ints?\n",
    "nparrayRandomFloat[1] = np.arange(nparrayRandomFloat.shape[1])\n",
    "print(nparrayRandomFloat)\n",
    "print(nparrayRandomFloat.dtype)\n",
    "\n",
    "# how do I assign the second row to 3* itself?\n",
    "nparrayRandomFloat[1] *= 3\n",
    "print(nparrayRandomFloat)\n"
   ]
  },
  {
   "cell_type": "markdown",
   "id": "60344331",
   "metadata": {},
   "source": [
    "**Copying numpy arrays...**"
   ]
  },
  {
   "cell_type": "code",
   "execution_count": null,
   "id": "7267f61e",
   "metadata": {},
   "outputs": [],
   "source": [
    "# let's try the obvious thing\n",
    "nparrayRandomFloat2 = nparrayRandomFloat\n",
    "print(\"nparrayRandomFloat\")\n",
    "print(nparrayRandomFloat)\n",
    "print(\"nparrayRandomFloat2\")\n",
    "print(nparrayRandomFloat2)"
   ]
  },
  {
   "cell_type": "code",
   "execution_count": null,
   "id": "d5bc7cb4",
   "metadata": {},
   "outputs": [],
   "source": [
    "nparrayRandomFloat2[0,0] = 0\n",
    "print(\"nparrayRandomFloat\")\n",
    "print(nparrayRandomFloat)\n",
    "print(\"nparrayRandomFloat2\")\n",
    "print(nparrayRandomFloat2)\n",
    "\n",
    "# whaaat just happened??\n",
    "# how do we stop that happening?? hint, what are we doing? we are *copying*\n",
    "nparrayRandomFloat2 = nparrayRandomFloat.copy()"
   ]
  },
  {
   "cell_type": "markdown",
   "id": "440ee93b",
   "metadata": {},
   "source": [
    "**Doing other things to a whole row or column...**"
   ]
  },
  {
   "cell_type": "code",
   "execution_count": null,
   "id": "7872f828",
   "metadata": {},
   "outputs": [],
   "source": [
    "# (review!) how do we assign value(s) to a row or column?\n",
    "nparrayRandomFloat[:1] = np.zeros(nparrayRandomFloat.shape[1])\n",
    "print(nparrayRandomFloat)"
   ]
  },
  {
   "cell_type": "code",
   "execution_count": null,
   "id": "65824fde",
   "metadata": {},
   "outputs": [],
   "source": [
    "# let's sum across each column\n",
    "np.sum(nparrayRandomFloat, axis=0)\n",
    "\n",
    "# how would we sum across each row?\n",
    "np.sum(nparrayRandomFloat, axis=1)\n"
   ]
  },
  {
   "cell_type": "code",
   "execution_count": null,
   "id": "da74acc4",
   "metadata": {},
   "outputs": [],
   "source": [
    "# what if we had a tensor?\n",
    "nptensorFloat = np.ones([3, 4, 5])\n",
    "print(nptensorFloat)\n",
    "\n",
    "np.sum(nptensorFloat, axis=2)"
   ]
  },
  {
   "cell_type": "code",
   "execution_count": null,
   "id": "e63809ab",
   "metadata": {},
   "outputs": [],
   "source": [
    "# what if we don't specify an axis?\n",
    "np.sum(nptensorFloat)"
   ]
  },
  {
   "cell_type": "code",
   "execution_count": null,
   "id": "f0b3b55c",
   "metadata": {},
   "outputs": [],
   "source": [
    "# what other functions can we apply across axes?\n",
    "# look at the docs!"
   ]
  },
  {
   "cell_type": "code",
   "execution_count": null,
   "id": "2ca7edca",
   "metadata": {},
   "outputs": [],
   "source": [
    "# let's take it up a notch\n",
    "\n",
    "nparrayRandomInt = np.random.randint(low=0, high=10, size=(3,4))\n",
    "print(nparrayRandomInt)\n",
    "\n",
    "print(nparrayRandomInt - np.min(nparrayRandomInt, axis=0))\n",
    "\n",
    "# whaaat just happened? let's look at the shapes\n"
   ]
  },
  {
   "cell_type": "code",
   "execution_count": null,
   "id": "3bff44e6",
   "metadata": {},
   "outputs": [],
   "source": [
    "# why is this cool?\n",
    "import timeit\n",
    "\n",
    "def sumLoop():\n",
    "    '''Use for loop to sum a row vector'''\n",
    "    longRow = np.array([i for i in range(1, 1000000000)])\n",
    "    theSum = 0\n",
    "    for i in range(len(longRow)):\n",
    "        theSum += longRow[i]\n",
    "\n",
    "def sumVectorized():\n",
    "    '''Vectorized version of summing a row vector'''\n",
    "    longRow = np.array([i for i in range(1, 1000000000)])\n",
    "    theSum = np.sum(longRow)\n",
    "\n",
    "print(timeit.timeit(lambda: sumLoop))\n",
    "print(timeit.timeit(lambda: sumVectorized))"
   ]
  },
  {
   "cell_type": "code",
   "execution_count": null,
   "id": "eeb51624",
   "metadata": {},
   "outputs": [],
   "source": [
    "# what if we try to do the subtract-min thing across axis 1?\n",
    "print(nparrayRandomInt - np.min(nparrayRandomInt, axis=1))\n"
   ]
  },
  {
   "cell_type": "code",
   "execution_count": null,
   "id": "39d0c482",
   "metadata": {},
   "outputs": [],
   "source": [
    "print(nparrayRandomInt.shape)\n",
    "np.min(nparrayRandomInt, axis=1, keepdims=True).shape"
   ]
  },
  {
   "cell_type": "code",
   "execution_count": null,
   "id": "30b15f84",
   "metadata": {},
   "outputs": [],
   "source": [
    "# how can we fix that? make the arrays shape-compatible!\n",
    "print(nparrayRandomInt - np.min(nparrayRandomInt, axis=1)[:, np.newaxis])"
   ]
  },
  {
   "cell_type": "code",
   "execution_count": null,
   "id": "71840c65",
   "metadata": {},
   "outputs": [],
   "source": [
    "# is there another way to achieve this?\n",
    "print(nparrayRandomInt - np.min(nparrayRandomInt, axis=1, keepdims=True))\n"
   ]
  },
  {
   "cell_type": "markdown",
   "id": "3d4e39fd",
   "metadata": {},
   "source": [
    "Five Jupyter tips\n",
    "------------------\n",
    "\n",
    "1. To run a cell, you can hit Ctrl+Enter \n",
    "2. Quite often, a Jupyter \"mistake\" happens if you forget that this cell has all the memory of every cell that was already run, \n",
    "3. and only those cells, \n",
    "4. and only the last time they were run\n",
    "5. To go into \"select mode\", hit Esc, then you can easily navigate from cell to cell"
   ]
  },
  {
   "cell_type": "markdown",
   "id": "e7c23284",
   "metadata": {},
   "source": [
    "Markdown\n",
    "--------\n",
    "\n",
    "These cells that look like fancy text are in Markdown. Markdown cheat sheet: https://www.markdownguide.org/cheat-sheet"
   ]
  }
 ],
 "metadata": {
  "kernelspec": {
   "display_name": "Python 3 (ipykernel)",
   "language": "python",
   "name": "python3"
  },
  "language_info": {
   "codemirror_mode": {
    "name": "ipython",
    "version": 3
   },
   "file_extension": ".py",
   "mimetype": "text/x-python",
   "name": "python",
   "nbconvert_exporter": "python",
   "pygments_lexer": "ipython3",
   "version": "3.9.7"
  }
 },
 "nbformat": 4,
 "nbformat_minor": 5
}
