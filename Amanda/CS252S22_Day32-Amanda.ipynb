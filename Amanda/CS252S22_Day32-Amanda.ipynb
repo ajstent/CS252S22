{
 "cells": [
  {
   "cell_type": "markdown",
   "id": "9db20836",
   "metadata": {},
   "source": [
    "# RBF Networks with Iris Data\n",
    "\n",
    "\n",
    "Review from Monday:\n",
    "\n",
    "Training a RBF consists of:\n",
    "* Finding prototypes\n",
    "* Selecting the activation function for the hidden nodes\n",
    "* Selecting the activation function for the output nodes\n",
    "* Setting the weights for the edges and biases"
   ]
  },
  {
   "cell_type": "markdown",
   "id": "a175dc86",
   "metadata": {},
   "source": [
    "## Load the Data"
   ]
  },
  {
   "cell_type": "code",
   "execution_count": 1,
   "id": "af2a9fe3",
   "metadata": {},
   "outputs": [
    {
     "name": "stdout",
     "output_type": "stream",
     "text": [
      "[[5.1 3.5 1.4 0.2 0. ]\n",
      " [4.9 3.  1.4 0.2 0. ]\n",
      " [4.7 3.2 1.3 0.2 0. ]\n",
      " [4.6 3.1 1.5 0.2 0. ]\n",
      " [5.  3.6 1.4 0.2 0. ]\n",
      " [5.4 3.9 1.7 0.4 0. ]\n",
      " [4.6 3.4 1.4 0.3 0. ]\n",
      " [5.  3.4 1.5 0.2 0. ]\n",
      " [4.4 2.9 1.4 0.2 0. ]\n",
      " [4.9 3.1 1.5 0.1 0. ]\n",
      " [5.4 3.7 1.5 0.2 0. ]\n",
      " [4.8 3.4 1.6 0.2 0. ]\n",
      " [4.8 3.  1.4 0.1 0. ]\n",
      " [4.3 3.  1.1 0.1 0. ]\n",
      " [5.8 4.  1.2 0.2 0. ]\n",
      " [5.7 4.4 1.5 0.4 0. ]\n",
      " [5.4 3.9 1.3 0.4 0. ]\n",
      " [5.1 3.5 1.4 0.3 0. ]\n",
      " [5.7 3.8 1.7 0.3 0. ]\n",
      " [5.1 3.8 1.5 0.3 0. ]\n",
      " [5.4 3.4 1.7 0.2 0. ]\n",
      " [5.1 3.7 1.5 0.4 0. ]\n",
      " [4.6 3.6 1.  0.2 0. ]\n",
      " [5.1 3.3 1.7 0.5 0. ]\n",
      " [4.8 3.4 1.9 0.2 0. ]\n",
      " [5.  3.  1.6 0.2 0. ]\n",
      " [5.  3.4 1.6 0.4 0. ]\n",
      " [5.2 3.5 1.5 0.2 0. ]\n",
      " [5.2 3.4 1.4 0.2 0. ]\n",
      " [4.7 3.2 1.6 0.2 0. ]\n",
      " [4.8 3.1 1.6 0.2 0. ]\n",
      " [5.4 3.4 1.5 0.4 0. ]\n",
      " [5.2 4.1 1.5 0.1 0. ]\n",
      " [5.5 4.2 1.4 0.2 0. ]\n",
      " [4.9 3.1 1.5 0.2 0. ]\n",
      " [5.  3.2 1.2 0.2 0. ]\n",
      " [5.5 3.5 1.3 0.2 0. ]\n",
      " [4.9 3.6 1.4 0.1 0. ]\n",
      " [4.4 3.  1.3 0.2 0. ]\n",
      " [5.1 3.4 1.5 0.2 0. ]\n",
      " [5.  3.5 1.3 0.3 0. ]\n",
      " [4.5 2.3 1.3 0.3 0. ]\n",
      " [4.4 3.2 1.3 0.2 0. ]\n",
      " [5.  3.5 1.6 0.6 0. ]\n",
      " [5.1 3.8 1.9 0.4 0. ]\n",
      " [4.8 3.  1.4 0.3 0. ]\n",
      " [5.1 3.8 1.6 0.2 0. ]\n",
      " [4.6 3.2 1.4 0.2 0. ]\n",
      " [5.3 3.7 1.5 0.2 0. ]\n",
      " [5.  3.3 1.4 0.2 0. ]\n",
      " [7.  3.2 4.7 1.4 1. ]\n",
      " [6.4 3.2 4.5 1.5 1. ]\n",
      " [6.9 3.1 4.9 1.5 1. ]\n",
      " [5.5 2.3 4.  1.3 1. ]\n",
      " [6.5 2.8 4.6 1.5 1. ]\n",
      " [5.7 2.8 4.5 1.3 1. ]\n",
      " [6.3 3.3 4.7 1.6 1. ]\n",
      " [4.9 2.4 3.3 1.  1. ]\n",
      " [6.6 2.9 4.6 1.3 1. ]\n",
      " [5.2 2.7 3.9 1.4 1. ]\n",
      " [5.  2.  3.5 1.  1. ]\n",
      " [5.9 3.  4.2 1.5 1. ]\n",
      " [6.  2.2 4.  1.  1. ]\n",
      " [6.1 2.9 4.7 1.4 1. ]\n",
      " [5.6 2.9 3.6 1.3 1. ]\n",
      " [6.7 3.1 4.4 1.4 1. ]\n",
      " [5.6 3.  4.5 1.5 1. ]\n",
      " [5.8 2.7 4.1 1.  1. ]\n",
      " [6.2 2.2 4.5 1.5 1. ]\n",
      " [5.6 2.5 3.9 1.1 1. ]\n",
      " [5.9 3.2 4.8 1.8 1. ]\n",
      " [6.1 2.8 4.  1.3 1. ]\n",
      " [6.3 2.5 4.9 1.5 1. ]\n",
      " [6.1 2.8 4.7 1.2 1. ]\n",
      " [6.4 2.9 4.3 1.3 1. ]\n",
      " [6.6 3.  4.4 1.4 1. ]\n",
      " [6.8 2.8 4.8 1.4 1. ]\n",
      " [6.7 3.  5.  1.7 1. ]\n",
      " [6.  2.9 4.5 1.5 1. ]\n",
      " [5.7 2.6 3.5 1.  1. ]\n",
      " [5.5 2.4 3.8 1.1 1. ]\n",
      " [5.5 2.4 3.7 1.  1. ]\n",
      " [5.8 2.7 3.9 1.2 1. ]\n",
      " [6.  2.7 5.1 1.6 1. ]\n",
      " [5.4 3.  4.5 1.5 1. ]\n",
      " [6.  3.4 4.5 1.6 1. ]\n",
      " [6.7 3.1 4.7 1.5 1. ]\n",
      " [6.3 2.3 4.4 1.3 1. ]\n",
      " [5.6 3.  4.1 1.3 1. ]\n",
      " [5.5 2.5 4.  1.3 1. ]\n",
      " [5.5 2.6 4.4 1.2 1. ]\n",
      " [6.1 3.  4.6 1.4 1. ]\n",
      " [5.8 2.6 4.  1.2 1. ]\n",
      " [5.  2.3 3.3 1.  1. ]\n",
      " [5.6 2.7 4.2 1.3 1. ]\n",
      " [5.7 3.  4.2 1.2 1. ]\n",
      " [5.7 2.9 4.2 1.3 1. ]\n",
      " [6.2 2.9 4.3 1.3 1. ]\n",
      " [5.1 2.5 3.  1.1 1. ]\n",
      " [5.7 2.8 4.1 1.3 1. ]\n",
      " [6.3 3.3 6.  2.5 2. ]\n",
      " [5.8 2.7 5.1 1.9 2. ]\n",
      " [7.1 3.  5.9 2.1 2. ]\n",
      " [6.3 2.9 5.6 1.8 2. ]\n",
      " [6.5 3.  5.8 2.2 2. ]\n",
      " [7.6 3.  6.6 2.1 2. ]\n",
      " [4.9 2.5 4.5 1.7 2. ]\n",
      " [7.3 2.9 6.3 1.8 2. ]\n",
      " [6.7 2.5 5.8 1.8 2. ]\n",
      " [7.2 3.6 6.1 2.5 2. ]\n",
      " [6.5 3.2 5.1 2.  2. ]\n",
      " [6.4 2.7 5.3 1.9 2. ]\n",
      " [6.8 3.  5.5 2.1 2. ]\n",
      " [5.7 2.5 5.  2.  2. ]\n",
      " [5.8 2.8 5.1 2.4 2. ]\n",
      " [6.4 3.2 5.3 2.3 2. ]\n",
      " [6.5 3.  5.5 1.8 2. ]\n",
      " [7.7 3.8 6.7 2.2 2. ]\n",
      " [7.7 2.6 6.9 2.3 2. ]\n",
      " [6.  2.2 5.  1.5 2. ]\n",
      " [6.9 3.2 5.7 2.3 2. ]\n",
      " [5.6 2.8 4.9 2.  2. ]\n",
      " [7.7 2.8 6.7 2.  2. ]\n",
      " [6.3 2.7 4.9 1.8 2. ]\n",
      " [6.7 3.3 5.7 2.1 2. ]\n",
      " [7.2 3.2 6.  1.8 2. ]\n",
      " [6.2 2.8 4.8 1.8 2. ]\n",
      " [6.1 3.  4.9 1.8 2. ]\n",
      " [6.4 2.8 5.6 2.1 2. ]\n",
      " [7.2 3.  5.8 1.6 2. ]\n",
      " [7.4 2.8 6.1 1.9 2. ]\n",
      " [7.9 3.8 6.4 2.  2. ]\n",
      " [6.4 2.8 5.6 2.2 2. ]\n",
      " [6.3 2.8 5.1 1.5 2. ]\n",
      " [6.1 2.6 5.6 1.4 2. ]\n",
      " [7.7 3.  6.1 2.3 2. ]\n",
      " [6.3 3.4 5.6 2.4 2. ]\n",
      " [6.4 3.1 5.5 1.8 2. ]\n",
      " [6.  3.  4.8 1.8 2. ]\n",
      " [6.9 3.1 5.4 2.1 2. ]\n",
      " [6.7 3.1 5.6 2.4 2. ]\n",
      " [6.9 3.1 5.1 2.3 2. ]\n",
      " [5.8 2.7 5.1 1.9 2. ]\n",
      " [6.8 3.2 5.9 2.3 2. ]\n",
      " [6.7 3.3 5.7 2.5 2. ]\n",
      " [6.7 3.  5.2 2.3 2. ]\n",
      " [6.3 2.5 5.  1.9 2. ]\n",
      " [6.5 3.  5.2 2.  2. ]\n",
      " [6.2 3.4 5.4 2.3 2. ]\n",
      " [5.9 3.  5.1 1.8 2. ]]\n"
     ]
    }
   ],
   "source": [
    "import numpy as np\n",
    "import matplotlib.pyplot as plt\n",
    "import pandas as pd\n",
    "import seaborn as sns\n",
    "\n",
    "def typeConverter(x):\n",
    "    values = ['setosa', 'versicolor', 'virginica']\n",
    "    return float(values.index(x))\n",
    "\n",
    "\n",
    "columns = [\"sepal_length\", \"sepal_width\", \"petal_length\", \"petal_width\", \"class\"]\n",
    "iris = np.array(np.genfromtxt('../data/iris.csv', delimiter=',', converters={4: typeConverter}, skip_header=2, dtype=float, encoding='utf-8'))  \n",
    "print(iris)"
   ]
  },
  {
   "cell_type": "markdown",
   "id": "370e9b4c",
   "metadata": {},
   "source": [
    "# Look at the Data"
   ]
  },
  {
   "cell_type": "code",
   "execution_count": 2,
   "id": "3763ce58",
   "metadata": {},
   "outputs": [
    {
     "name": "stdout",
     "output_type": "stream",
     "text": [
      "          0         1         2         3         4\n",
      "0  7.900000  4.400000  6.900000  2.500000  2.000000\n",
      "1  4.300000  2.000000  1.000000  0.100000  0.000000\n",
      "2  5.843333  3.057333  3.758000  1.199333  1.000000\n",
      "3  0.681122  0.188713  3.095503  0.577133  0.666667\n"
     ]
    },
    {
     "data": {
      "text/plain": [
       "<seaborn.axisgrid.PairGrid at 0x1dcc99783a0>"
      ]
     },
     "execution_count": 2,
     "metadata": {},
     "output_type": "execute_result"
    },
    {
     "data": {
      "image/png": "[encoded data removed]",
      "text/plain": [
       "<Figure size 900x180 with 6 Axes>"
      ]
     },
     "metadata": {
      "needs_background": "light"
     },
     "output_type": "display_data"
    }
   ],
   "source": [
    "def getSummaryStatistics(data):\n",
    "    \"Get the max, min, mean, var for each variable in the data.\"\n",
    "    return pd.DataFrame(np.array([data.max(axis=0), data.min(axis=0), data.mean(axis=0), data.var(axis=0)]))\n",
    "\n",
    "def getShapeType(data):\n",
    "    \"Get the shape and type of the data.\"\n",
    "    return (data.shape, data.dtype)\n",
    "\n",
    "print(getSummaryStatistics(iris))\n",
    "getShapeType(iris)\n",
    "\n",
    "df = pd.DataFrame(iris, columns=columns)\n",
    "\n",
    "sns.pairplot(df, y_vars = [\"class\"], kind = \"scatter\")"
   ]
  },
  {
   "cell_type": "markdown",
   "id": "304e1293",
   "metadata": {},
   "source": [
    "## What kind of analysis are we going to do?\n",
    "\n",
    "Regression, clustering, classification?\n",
    "\n",
    "If supervised, which is our dependent variable?\n",
    "\n",
    "If we have a dependent variable, how many possible values does it have? What will this number correspond to in the RBF network?"
   ]
  },
  {
   "cell_type": "code",
   "execution_count": 3,
   "id": "5ada0ccb",
   "metadata": {},
   "outputs": [
    {
     "name": "stdout",
     "output_type": "stream",
     "text": [
      "train \n",
      "           0        1         2         3         4\n",
      "0  7.900000  4.00000  6.700000  2.500000  2.000000\n",
      "1  4.300000  2.00000  1.100000  0.100000  0.000000\n",
      "2  5.825000  3.02750  3.761667  1.209167  1.008333\n",
      "3  0.616708  0.17716  2.852531  0.556499  0.641597 [0. 1. 2.]\n",
      "dev \n",
      "           0         1         2         3         4\n",
      "0  7.700000  4.200000  6.900000  2.500000  2.000000\n",
      "1  4.400000  2.500000  1.000000  0.200000  0.000000\n",
      "2  5.806667  3.126667  3.626667  1.186667  0.933333\n",
      "3  0.875289  0.183289  3.813956  0.681156  0.728889 [0. 1. 2.]\n",
      "test \n",
      "           0         1         2         3    4\n",
      "0  7.700000  4.400000  6.700000  2.300000  2.0\n",
      "1  4.700000  2.600000  1.300000  0.100000  0.0\n",
      "2  6.026667  3.226667  3.860000  1.133333  1.0\n",
      "3  0.964622  0.245956  4.293067  0.632889  0.8 [0. 1. 2.]\n"
     ]
    }
   ],
   "source": [
    "# Why are we doing this?\n",
    "np.random.shuffle(iris)\n",
    "\n",
    "# Why are we doing this?\n",
    "train_data, dev_data, test_data = np.split(iris, [int(.8 * len(iris)), int(.9 * len(iris))])\n",
    "print(\"train\", \"\\n\", getSummaryStatistics(train_data), np.unique(train_data[:, -1]))\n",
    "print(\"dev\", \"\\n\", getSummaryStatistics(dev_data), np.unique(dev_data[:, -1]))\n",
    "print(\"test\", \"\\n\", getSummaryStatistics(test_data), np.unique(test_data[:, -1]))"
   ]
  },
  {
   "cell_type": "code",
   "execution_count": 4,
   "id": "84a7b307",
   "metadata": {},
   "outputs": [],
   "source": [
    "# Let's split off the y variables\n",
    "\n",
    "train_data, train_y = train_data[:, :-1], train_data[:, -1]\n",
    "dev_data, dev_y = dev_data[:, :-1], dev_data[:, -1]\n",
    "test_data, test_y = test_data[:, :-1], test_data[:, -1]"
   ]
  },
  {
   "cell_type": "markdown",
   "id": "2ddd73d8",
   "metadata": {},
   "source": [
    "## Does the data need to be cleaned?\n",
    "\n",
    "Are there missing or erroneous values? \n",
    "\n",
    "Do we need to fix the types of some of the variables?\n",
    "\n",
    "## Does it need to be normalized?\n",
    "\n",
    "Is the range of one or more values clearly out of line with the rest?\n",
    "\n",
    "## Consider transformation\n",
    "\n",
    "Would PCA help?\n",
    "* if we had a thousand independent variables, probably, but in this case no"
   ]
  },
  {
   "cell_type": "code",
   "execution_count": 5,
   "id": "1ee65252",
   "metadata": {},
   "outputs": [
    {
     "name": "stdout",
     "output_type": "stream",
     "text": [
      "              0             1             2             3\n",
      "0  2.642276e+00  2.310502e+00  1.739746e+00  1.730366e+00\n",
      "1 -1.941914e+00 -2.441173e+00 -1.575936e+00 -1.486841e+00\n",
      "2 -1.480297e-16 -8.437695e-16  4.255855e-16 -3.700743e-16\n",
      "3  1.000000e+00  1.000000e+00  1.000000e+00  1.000000e+00\n"
     ]
    },
    {
     "data": {
      "text/plain": [
       "((120, 4), dtype('float64'))"
      ]
     },
     "execution_count": 5,
     "metadata": {},
     "output_type": "execute_result"
    }
   ],
   "source": [
    "def homogenizeData(data):\n",
    "    return np.append(data, np.array([np.ones(data.shape[0], dtype=float)]).T, axis=1)\n",
    "   \n",
    "def zScore(data, translateTransform=None, scaleTransform=None):\n",
    "    \"z score.\"\n",
    "    homogenizedData = np.append(data, np.array([np.ones(data.shape[0], dtype=float)]).T, axis=1)\n",
    "    if translateTransform is None:\n",
    "        translateTransform = np.eye(homogenizedData.shape[1])\n",
    "        for i in range(homogenizedData.shape[1]):\n",
    "            translateTransform[i, homogenizedData.shape[1]-1] = -homogenizedData[:, i].mean()\n",
    "    if scaleTransform is None:\n",
    "        diagonal = [1 / homogenizedData[:, i].std() if homogenizedData[:, i].std() != 0 else 1 for i in range(homogenizedData.shape[1])]\n",
    "        scaleTransform = np.eye(homogenizedData.shape[1], dtype=float) * diagonal\n",
    "    data = (scaleTransform@translateTransform@homogenizedData.T).T\n",
    "    return translateTransform, scaleTransform, data[:, :data.shape[1]-1]\n",
    "\n",
    "translateTransform, scaleTransform, train_data_transformed = zScore(train_data)\n",
    "print(getSummaryStatistics(train_data_transformed))\n",
    "getShapeType(train_data_transformed)"
   ]
  },
  {
   "cell_type": "markdown",
   "id": "4e3d7cfc",
   "metadata": {},
   "source": [
    "# Find Prototypes\n",
    "\n",
    "To do this, we use kmeans. I am going to use the scikit-learn implementation; you should use your own for the project.\n",
    "\n",
    "Why would we not just have the number of prototypes be equal to the number of classes?"
   ]
  },
  {
   "cell_type": "code",
   "execution_count": 6,
   "id": "dbd2aee5",
   "metadata": {},
   "outputs": [
    {
     "name": "stdout",
     "output_type": "stream",
     "text": [
      "2\n",
      "3\n",
      "4\n",
      "5\n",
      "6\n",
      "7\n",
      "8\n",
      "9\n",
      "10\n",
      "11\n",
      "12\n",
      "13\n",
      "14\n",
      "15\n",
      "16\n",
      "[[  2.         116.10956468]\n",
      " [  3.          60.5039592 ]\n",
      " [  4.          41.31181154]\n",
      " [  5.          34.92334928]\n",
      " [  6.          29.35274987]\n",
      " [  7.          25.61790451]\n",
      " [  8.          22.20647642]\n",
      " [  9.          20.78792484]\n",
      " [ 10.          19.13219444]\n",
      " [ 11.          18.27302885]\n",
      " [ 12.          16.83860732]\n",
      " [ 13.          16.01678788]\n",
      " [ 14.          14.8172528 ]\n",
      " [ 15.          14.18972619]\n",
      " [ 16.          13.34959806]]\n"
     ]
    },
    {
     "data": {
      "image/png": "[encoded data removed]",
      "text/plain": [
       "<Figure size 432x288 with 1 Axes>"
      ]
     },
     "metadata": {
      "needs_background": "light"
     },
     "output_type": "display_data"
    }
   ],
   "source": [
    "from sklearn.cluster import KMeans\n",
    "\n",
    "inertia_by_k = []\n",
    "\n",
    "for k in range(2, 17):\n",
    "    print(k)\n",
    "    km = KMeans(n_clusters=k, random_state=0).fit(train_data)\n",
    "    inertia_by_k.append([k, km.inertia_])\n",
    "\n",
    "inertia_by_k = np.array(inertia_by_k)\n",
    "print(inertia_by_k)\n",
    "fig = plt.figure(figsize=(6,4))\n",
    "ax1 = fig.add_subplot(111)\n",
    "ax1.plot(inertia_by_k[:, 0], inertia_by_k[:, 1])\n",
    "ax1.set_xlabel('k')\n",
    "ax1.set_ylabel('Inertia')\n",
    "ax1.set_title('Elbow Plot')\n",
    "plt.show()"
   ]
  },
  {
   "cell_type": "markdown",
   "id": "38fbc06c",
   "metadata": {},
   "source": [
    "So, what value will we choose for k? What will this number correspond to in the RBF network?"
   ]
  },
  {
   "cell_type": "code",
   "execution_count": 7,
   "id": "3c617009",
   "metadata": {},
   "outputs": [
    {
     "name": "stdout",
     "output_type": "stream",
     "text": [
      "[[5.         2.3        3.275      1.025     ]\n",
      " [5.97692308 2.77692308 4.96923077 1.84615385]\n",
      " [5.09375    3.5125     1.55625    0.275     ]\n",
      " [7.8        3.8        6.55       2.1       ]\n",
      " [6.56666667 3.05555556 5.52777778 2.15555556]\n",
      " [5.69166667 2.875      4.30833333 1.39166667]\n",
      " [4.7        3.04666667 1.39333333 0.2       ]\n",
      " [6.44375    2.8625     4.66875    1.44375   ]\n",
      " [5.62727273 2.54545455 3.86363636 1.16363636]\n",
      " [7.28333333 3.11666667 6.03333333 2.01666667]\n",
      " [5.5        3.78571429 1.45714286 0.27142857]]\n"
     ]
    }
   ],
   "source": [
    "# Let's get the centroid for each hiddent node - each prototype\n",
    "k = 11\n",
    "\n",
    "km = KMeans(n_clusters=k, random_state=0).fit(train_data)\n",
    "\n",
    "print(km.cluster_centers_)"
   ]
  },
  {
   "cell_type": "markdown",
   "id": "bc5cd661",
   "metadata": {},
   "source": [
    "# Define the Activation Function for the Hidden Nodes\n",
    "\n",
    "Recall that a typical activation function for the hidden nodes is the Gaussian, so something like $exp \\left( - \\frac{||\\vec{d}-\\vec{\\mu_j}||^2}{2\\delta_j^2 + \\epsilon} \\right)$, where $\\vec{d}$ is the data point, $\\vec{\\mu_j}$ is the prototype, $\\delta_j$ is the hidden unit's standard deviation, $\\epsilon$ is a small constant and $||.||^2$ is the squared Euclidean distance.\n",
    "\n",
    "Let's take a good look at this activation function. \n",
    "* What is in the numerator? Why look, it's the distance! Why would we not just use the distance itself as the activation function? \n",
    "* What is the function of $\\delta_j$?\n",
    "* Why do we have $\\epsilon$?"
   ]
  },
  {
   "cell_type": "markdown",
   "id": "e9510186",
   "metadata": {},
   "source": [
    "# What Will We Do When We Get a New Data Point?"
   ]
  },
  {
   "cell_type": "markdown",
   "id": "5306056a",
   "metadata": {},
   "source": [
    "At this point, we have defined:\n",
    "* The input layer (ish)\n",
    "* The hidden layer\n",
    "\n",
    "For a new data point, we will:\n",
    "1. encode it using the same zscoring we did on train - not defining a new zscoring. IE use mean and stdev from the *training data*\n",
    "2. send it to each of the hidden layer nodes (so the weights from the input layer to the hidden layer are all 1)\n",
    "3. each hidden layer node will calculate its activation for this data point\n",
    "\n",
    "On Monday we will define the output layer, and explain how it relates to another analysis method we already know well, linear regression. We will then show how we can *also use RBF networks for regression*!"
   ]
  },
  {
   "cell_type": "markdown",
   "id": "4d6fc967",
   "metadata": {},
   "source": [
    "# Let's Process the Dev Data Through the Hidden Layer with Matrix Math\n",
    "\n",
    "So to process a set of data points, eg the dev data, I'm going to:\n",
    "1. \"encode\" - input layer - subtract mean of training data and divide by stdev of training data. Take a look at zScore above; it *already does all this with matrix multiplication*! Remember, a zScoring is just a translation and scaling.\n",
    "2. calculate activations of hidden layer nodes. Take a look at the activation function. Inside the exponent, it has a numerator and a denominator. The denominator operates as a scaling, and you know how to do that. The numerator includes a translation (see the minus?) and then squares it (and you know how to do that!). And the exponentiation can be done via broadcasting.\n",
    "\n",
    "Because you should implement the activation function above yourselves, I'm instead going to implement this stupid activation function just to show you the matrix math:\n",
    "$exp \\left( - \\frac{||\\vec{d}-\\vec{\\mu_j}||}{3} \\right)$"
   ]
  },
  {
   "cell_type": "code",
   "execution_count": 8,
   "id": "ba143005",
   "metadata": {},
   "outputs": [
    {
     "name": "stdout",
     "output_type": "stream",
     "text": [
      "(120, 11) (11, 11)\n",
      "(15, 11) (11, 11)\n",
      "(120, 11)\n"
     ]
    }
   ],
   "source": [
    "# The other thing you need is for each of these, the activation function\n",
    "# I am going to implement a _stupid activation function_ so that you can implement the right one yourselves for project 7\n",
    "def calculateActivations(data, centroids):\n",
    "    \"I repeat, do not use this activation function directly. This one is exp(-distance / 3); yours is exp(-distance^2 / (2*radius + epsilon))\"\n",
    "    # You can easily fiddle with this numerator to make it calculate the square of the distance\n",
    "    numerator = -np.linalg.norm(data-centroids[:,np.newaxis], axis = 2).T\n",
    "    # The construction of your denominator will be a little more complex than this; the diagonals will be centroid/prototype-specific\n",
    "    denominator = np.eye(centroids.shape[0], dtype=float) * 1/3\n",
    "    print(numerator.shape, denominator.shape)\n",
    "    return np.exp((denominator@numerator.T).T)\n",
    "\n",
    "train_calcs = calculateActivations(train_data, km.cluster_centers_)\n",
    "# First we need to normalize the dev data using the scale and translate from the train data\n",
    "dev_data_transformed = zScore(dev_data, translateTransform, scaleTransform)\n",
    "dev_calcs = calculateActivations(dev_data, km.cluster_centers_)\n",
    "print(train_calcs.shape)"
   ]
  },
  {
   "cell_type": "code",
   "execution_count": 10,
   "id": "8d205b9b",
   "metadata": {},
   "outputs": [],
   "source": [
    "import pickle as pkl\n",
    "\n",
    "pkl.dump(train_calcs, open(\"../hidden_node_weights_train.pkl\",'wb'))\n",
    "pkl.dump(train_y, open(\"../labels_train.pkl\",'wb'))\n",
    "pkl.dump(dev_calcs, open(\"../hidden_node_weights_dev.pkl\",'wb'))\n",
    "pkl.dump(dev_y, open(\"../labels_dev.pkl\",'wb'))"
   ]
  },
  {
   "cell_type": "code",
   "execution_count": null,
   "id": "4d5ea2f0",
   "metadata": {},
   "outputs": [],
   "source": []
  }
 ],
 "metadata": {
  "kernelspec": {
   "display_name": "Python 3 (ipykernel)",
   "language": "python",
   "name": "python3"
  },
  "language_info": {
   "codemirror_mode": {
    "name": "ipython",
    "version": 3
   },
   "file_extension": ".py",
   "mimetype": "text/x-python",
   "name": "python",
   "nbconvert_exporter": "python",
   "pygments_lexer": "ipython3",
   "version": "3.9.7"
  }
 },
 "nbformat": 4,
 "nbformat_minor": 5
}
