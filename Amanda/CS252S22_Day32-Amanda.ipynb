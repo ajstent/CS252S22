{
 "cells": [
  {
   "cell_type": "markdown",
   "id": "3aab494f",
   "metadata": {},
   "source": [
    "# RBF Networks with Iris Data\n",
    "\n",
    "\n",
    "Review from Monday:\n",
    "\n",
    "Training a RBF consists of:\n",
    "* Finding prototypes\n",
    "* Selecting the activation function for the hidden nodes\n",
    "* Selecting the activation function for the output nodes\n",
    "* Setting the weights for the edges and biases"
   ]
  },
  {
   "cell_type": "markdown",
   "id": "2039aaad",
   "metadata": {},
   "source": [
    "## Load the Data"
   ]
  },
  {
   "cell_type": "code",
   "execution_count": 22,
   "id": "3e20f2f3",
   "metadata": {},
   "outputs": [
    {
     "name": "stdout",
     "output_type": "stream",
     "text": [
      "[[5.1 3.5 1.4 0.2 0. ]\n",
      " [4.9 3.  1.4 0.2 0. ]\n",
      " [4.7 3.2 1.3 0.2 0. ]\n",
      " [4.6 3.1 1.5 0.2 0. ]\n",
      " [5.  3.6 1.4 0.2 0. ]\n",
      " [5.4 3.9 1.7 0.4 0. ]\n",
      " [4.6 3.4 1.4 0.3 0. ]\n",
      " [5.  3.4 1.5 0.2 0. ]\n",
      " [4.4 2.9 1.4 0.2 0. ]\n",
      " [4.9 3.1 1.5 0.1 0. ]\n",
      " [5.4 3.7 1.5 0.2 0. ]\n",
      " [4.8 3.4 1.6 0.2 0. ]\n",
      " [4.8 3.  1.4 0.1 0. ]\n",
      " [4.3 3.  1.1 0.1 0. ]\n",
      " [5.8 4.  1.2 0.2 0. ]\n",
      " [5.7 4.4 1.5 0.4 0. ]\n",
      " [5.4 3.9 1.3 0.4 0. ]\n",
      " [5.1 3.5 1.4 0.3 0. ]\n",
      " [5.7 3.8 1.7 0.3 0. ]\n",
      " [5.1 3.8 1.5 0.3 0. ]\n",
      " [5.4 3.4 1.7 0.2 0. ]\n",
      " [5.1 3.7 1.5 0.4 0. ]\n",
      " [4.6 3.6 1.  0.2 0. ]\n",
      " [5.1 3.3 1.7 0.5 0. ]\n",
      " [4.8 3.4 1.9 0.2 0. ]\n",
      " [5.  3.  1.6 0.2 0. ]\n",
      " [5.  3.4 1.6 0.4 0. ]\n",
      " [5.2 3.5 1.5 0.2 0. ]\n",
      " [5.2 3.4 1.4 0.2 0. ]\n",
      " [4.7 3.2 1.6 0.2 0. ]\n",
      " [4.8 3.1 1.6 0.2 0. ]\n",
      " [5.4 3.4 1.5 0.4 0. ]\n",
      " [5.2 4.1 1.5 0.1 0. ]\n",
      " [5.5 4.2 1.4 0.2 0. ]\n",
      " [4.9 3.1 1.5 0.2 0. ]\n",
      " [5.  3.2 1.2 0.2 0. ]\n",
      " [5.5 3.5 1.3 0.2 0. ]\n",
      " [4.9 3.6 1.4 0.1 0. ]\n",
      " [4.4 3.  1.3 0.2 0. ]\n",
      " [5.1 3.4 1.5 0.2 0. ]\n",
      " [5.  3.5 1.3 0.3 0. ]\n",
      " [4.5 2.3 1.3 0.3 0. ]\n",
      " [4.4 3.2 1.3 0.2 0. ]\n",
      " [5.  3.5 1.6 0.6 0. ]\n",
      " [5.1 3.8 1.9 0.4 0. ]\n",
      " [4.8 3.  1.4 0.3 0. ]\n",
      " [5.1 3.8 1.6 0.2 0. ]\n",
      " [4.6 3.2 1.4 0.2 0. ]\n",
      " [5.3 3.7 1.5 0.2 0. ]\n",
      " [5.  3.3 1.4 0.2 0. ]\n",
      " [7.  3.2 4.7 1.4 1. ]\n",
      " [6.4 3.2 4.5 1.5 1. ]\n",
      " [6.9 3.1 4.9 1.5 1. ]\n",
      " [5.5 2.3 4.  1.3 1. ]\n",
      " [6.5 2.8 4.6 1.5 1. ]\n",
      " [5.7 2.8 4.5 1.3 1. ]\n",
      " [6.3 3.3 4.7 1.6 1. ]\n",
      " [4.9 2.4 3.3 1.  1. ]\n",
      " [6.6 2.9 4.6 1.3 1. ]\n",
      " [5.2 2.7 3.9 1.4 1. ]\n",
      " [5.  2.  3.5 1.  1. ]\n",
      " [5.9 3.  4.2 1.5 1. ]\n",
      " [6.  2.2 4.  1.  1. ]\n",
      " [6.1 2.9 4.7 1.4 1. ]\n",
      " [5.6 2.9 3.6 1.3 1. ]\n",
      " [6.7 3.1 4.4 1.4 1. ]\n",
      " [5.6 3.  4.5 1.5 1. ]\n",
      " [5.8 2.7 4.1 1.  1. ]\n",
      " [6.2 2.2 4.5 1.5 1. ]\n",
      " [5.6 2.5 3.9 1.1 1. ]\n",
      " [5.9 3.2 4.8 1.8 1. ]\n",
      " [6.1 2.8 4.  1.3 1. ]\n",
      " [6.3 2.5 4.9 1.5 1. ]\n",
      " [6.1 2.8 4.7 1.2 1. ]\n",
      " [6.4 2.9 4.3 1.3 1. ]\n",
      " [6.6 3.  4.4 1.4 1. ]\n",
      " [6.8 2.8 4.8 1.4 1. ]\n",
      " [6.7 3.  5.  1.7 1. ]\n",
      " [6.  2.9 4.5 1.5 1. ]\n",
      " [5.7 2.6 3.5 1.  1. ]\n",
      " [5.5 2.4 3.8 1.1 1. ]\n",
      " [5.5 2.4 3.7 1.  1. ]\n",
      " [5.8 2.7 3.9 1.2 1. ]\n",
      " [6.  2.7 5.1 1.6 1. ]\n",
      " [5.4 3.  4.5 1.5 1. ]\n",
      " [6.  3.4 4.5 1.6 1. ]\n",
      " [6.7 3.1 4.7 1.5 1. ]\n",
      " [6.3 2.3 4.4 1.3 1. ]\n",
      " [5.6 3.  4.1 1.3 1. ]\n",
      " [5.5 2.5 4.  1.3 1. ]\n",
      " [5.5 2.6 4.4 1.2 1. ]\n",
      " [6.1 3.  4.6 1.4 1. ]\n",
      " [5.8 2.6 4.  1.2 1. ]\n",
      " [5.  2.3 3.3 1.  1. ]\n",
      " [5.6 2.7 4.2 1.3 1. ]\n",
      " [5.7 3.  4.2 1.2 1. ]\n",
      " [5.7 2.9 4.2 1.3 1. ]\n",
      " [6.2 2.9 4.3 1.3 1. ]\n",
      " [5.1 2.5 3.  1.1 1. ]\n",
      " [5.7 2.8 4.1 1.3 1. ]\n",
      " [6.3 3.3 6.  2.5 2. ]\n",
      " [5.8 2.7 5.1 1.9 2. ]\n",
      " [7.1 3.  5.9 2.1 2. ]\n",
      " [6.3 2.9 5.6 1.8 2. ]\n",
      " [6.5 3.  5.8 2.2 2. ]\n",
      " [7.6 3.  6.6 2.1 2. ]\n",
      " [4.9 2.5 4.5 1.7 2. ]\n",
      " [7.3 2.9 6.3 1.8 2. ]\n",
      " [6.7 2.5 5.8 1.8 2. ]\n",
      " [7.2 3.6 6.1 2.5 2. ]\n",
      " [6.5 3.2 5.1 2.  2. ]\n",
      " [6.4 2.7 5.3 1.9 2. ]\n",
      " [6.8 3.  5.5 2.1 2. ]\n",
      " [5.7 2.5 5.  2.  2. ]\n",
      " [5.8 2.8 5.1 2.4 2. ]\n",
      " [6.4 3.2 5.3 2.3 2. ]\n",
      " [6.5 3.  5.5 1.8 2. ]\n",
      " [7.7 3.8 6.7 2.2 2. ]\n",
      " [7.7 2.6 6.9 2.3 2. ]\n",
      " [6.  2.2 5.  1.5 2. ]\n",
      " [6.9 3.2 5.7 2.3 2. ]\n",
      " [5.6 2.8 4.9 2.  2. ]\n",
      " [7.7 2.8 6.7 2.  2. ]\n",
      " [6.3 2.7 4.9 1.8 2. ]\n",
      " [6.7 3.3 5.7 2.1 2. ]\n",
      " [7.2 3.2 6.  1.8 2. ]\n",
      " [6.2 2.8 4.8 1.8 2. ]\n",
      " [6.1 3.  4.9 1.8 2. ]\n",
      " [6.4 2.8 5.6 2.1 2. ]\n",
      " [7.2 3.  5.8 1.6 2. ]\n",
      " [7.4 2.8 6.1 1.9 2. ]\n",
      " [7.9 3.8 6.4 2.  2. ]\n",
      " [6.4 2.8 5.6 2.2 2. ]\n",
      " [6.3 2.8 5.1 1.5 2. ]\n",
      " [6.1 2.6 5.6 1.4 2. ]\n",
      " [7.7 3.  6.1 2.3 2. ]\n",
      " [6.3 3.4 5.6 2.4 2. ]\n",
      " [6.4 3.1 5.5 1.8 2. ]\n",
      " [6.  3.  4.8 1.8 2. ]\n",
      " [6.9 3.1 5.4 2.1 2. ]\n",
      " [6.7 3.1 5.6 2.4 2. ]\n",
      " [6.9 3.1 5.1 2.3 2. ]\n",
      " [5.8 2.7 5.1 1.9 2. ]\n",
      " [6.8 3.2 5.9 2.3 2. ]\n",
      " [6.7 3.3 5.7 2.5 2. ]\n",
      " [6.7 3.  5.2 2.3 2. ]\n",
      " [6.3 2.5 5.  1.9 2. ]\n",
      " [6.5 3.  5.2 2.  2. ]\n",
      " [6.2 3.4 5.4 2.3 2. ]\n",
      " [5.9 3.  5.1 1.8 2. ]]\n"
     ]
    }
   ],
   "source": [
    "import numpy as np\n",
    "import matplotlib.pyplot as plt\n",
    "import pandas as pd\n",
    "import seaborn as sns\n",
    "\n",
    "def typeConverter(x):\n",
    "    values = ['setosa', 'versicolor', 'virginica']\n",
    "    return float(values.index(x))\n",
    "\n",
    "\n",
    "columns = [\"sepal_length\", \"sepal_width\", \"petal_length\", \"petal_width\", \"class\"]\n",
    "iris = np.array(np.genfromtxt('data/iris.csv', delimiter=',', converters={4: typeConverter}, skip_header=2, dtype=float, encoding='utf-8'))  \n",
    "print(iris)"
   ]
  },
  {
   "cell_type": "markdown",
   "id": "3bbe5fd0",
   "metadata": {},
   "source": [
    "# Look at the Data"
   ]
  },
  {
   "cell_type": "code",
   "execution_count": 23,
   "id": "35d24b8b",
   "metadata": {},
   "outputs": [
    {
     "name": "stdout",
     "output_type": "stream",
     "text": [
      "          0         1         2         3         4\n",
      "0  7.900000  4.400000  6.900000  2.500000  2.000000\n",
      "1  4.300000  2.000000  1.000000  0.100000  0.000000\n",
      "2  5.843333  3.057333  3.758000  1.199333  1.000000\n",
      "3  0.681122  0.188713  3.095503  0.577133  0.666667\n"
     ]
    },
    {
     "data": {
      "text/plain": [
       "<seaborn.axisgrid.PairGrid at 0x26a9b94e340>"
      ]
     },
     "execution_count": 23,
     "metadata": {},
     "output_type": "execute_result"
    },
    {
     "data": {
      "image/png": "[encoded data removed]",
      "text/plain": [
       "<Figure size 900x180 with 6 Axes>"
      ]
     },
     "metadata": {
      "needs_background": "light"
     },
     "output_type": "display_data"
    }
   ],
   "source": [
    "def getSummaryStatistics(data):\n",
    "    \"Get the max, min, mean, var for each variable in the data.\"\n",
    "    return pd.DataFrame(np.array([data.max(axis=0), data.min(axis=0), data.mean(axis=0), data.var(axis=0)]))\n",
    "\n",
    "def getShapeType(data):\n",
    "    \"Get the shape and type of the data.\"\n",
    "    return (data.shape, data.dtype)\n",
    "\n",
    "print(getSummaryStatistics(iris))\n",
    "getShapeType(iris)\n",
    "\n",
    "df = pd.DataFrame(iris, columns=columns)\n",
    "\n",
    "sns.pairplot(df, y_vars = [\"class\"], kind = \"scatter\")"
   ]
  },
  {
   "cell_type": "markdown",
   "id": "3c309e92",
   "metadata": {},
   "source": [
    "## What kind of analysis are we going to do?\n",
    "\n",
    "Regression, clustering, classification?\n",
    "\n",
    "If supervised, which is our dependent variable?\n",
    "\n",
    "If we have a dependent variable, how many possible values does it have? What will this number correspond to in the RBF network?"
   ]
  },
  {
   "cell_type": "code",
   "execution_count": 24,
   "id": "80cad25f",
   "metadata": {},
   "outputs": [
    {
     "name": "stdout",
     "output_type": "stream",
     "text": [
      "train \n",
      "           0         1         2         3         4\n",
      "0  7.900000  4.400000  6.900000  2.500000  2.000000\n",
      "1  4.300000  2.000000  1.000000  0.100000  0.000000\n",
      "2  5.822500  3.035833  3.740833  1.185833  0.983333\n",
      "3  0.672244  0.178133  2.970749  0.564383  0.633056 [0. 1. 2.]\n",
      "dev \n",
      "           0         1         2         3         4\n",
      "0  7.700000  4.200000  6.700000  2.400000  2.000000\n",
      "1  4.400000  2.200000  1.300000  0.100000  0.000000\n",
      "2  5.920000  3.166667  3.753333  1.180000  1.066667\n",
      "3  0.758933  0.299556  3.855822  0.622933  0.862222 [0. 1. 2.]\n",
      "test \n",
      "           0         1         2         3         4\n",
      "0  7.100000  3.900000  5.900000  2.500000  2.000000\n",
      "1  4.400000  2.300000  1.300000  0.200000  0.000000\n",
      "2  5.933333  3.120000  3.900000  1.326667  1.066667\n",
      "3  0.656889  0.142933  3.310667  0.615289  0.728889 [0. 1. 2.]\n"
     ]
    }
   ],
   "source": [
    "# Why are we doing this?\n",
    "np.random.shuffle(iris)\n",
    "\n",
    "# Why are we doing this?\n",
    "train_data, dev_data, test_data = np.split(iris, [int(.8 * len(iris)), int(.9 * len(iris))])\n",
    "print(\"train\", \"\\n\", getSummaryStatistics(train_data), np.unique(train_data[:, -1]))\n",
    "print(\"dev\", \"\\n\", getSummaryStatistics(dev_data), np.unique(dev_data[:, -1]))\n",
    "print(\"test\", \"\\n\", getSummaryStatistics(test_data), np.unique(test_data[:, -1]))"
   ]
  },
  {
   "cell_type": "code",
   "execution_count": 25,
   "id": "aea89321",
   "metadata": {},
   "outputs": [],
   "source": [
    "# Let's split off the y variables\n",
    "\n",
    "train_data, train_y = train_data[:, :-1], train_data[:, -1]\n",
    "dev_data, dev_y = dev_data[:, :-1], dev_data[:, -1]\n",
    "test_data, test_y = test_data[:, :-1], test_data[:, -1]"
   ]
  },
  {
   "cell_type": "markdown",
   "id": "929df4b8",
   "metadata": {},
   "source": [
    "## Does the data need to be cleaned?\n",
    "\n",
    "Are there missing or erroneous values? \n",
    "\n",
    "Do we need to fix the types of some of the variables?\n",
    "\n",
    "## Does it need to be normalized?\n",
    "\n",
    "Is the range of one or more values clearly out of line with the rest?\n",
    "\n",
    "## Consider transformation\n",
    "\n",
    "Would PCA help?\n",
    "* if we had a thousand independent variables, probably, but in this case no"
   ]
  },
  {
   "cell_type": "code",
   "execution_count": 27,
   "id": "73700a21",
   "metadata": {},
   "outputs": [
    {
     "name": "stdout",
     "output_type": "stream",
     "text": [
      "              0             1             2             3\n",
      "0  2.533831e+00  3.232181e+00  1.832903e+00  1.749297e+00\n",
      "1 -1.856923e+00 -2.454246e+00 -1.590192e+00 -1.445361e+00\n",
      "2 -1.065814e-15  1.110223e-16 -1.480297e-17  2.220446e-17\n",
      "3  1.000000e+00  1.000000e+00  1.000000e+00  1.000000e+00\n"
     ]
    },
    {
     "data": {
      "text/plain": [
       "((120, 4), dtype('float64'))"
      ]
     },
     "execution_count": 27,
     "metadata": {},
     "output_type": "execute_result"
    }
   ],
   "source": [
    "def homogenizeData(data):\n",
    "    return np.append(data, np.array([np.ones(data.shape[0], dtype=float)]).T, axis=1)\n",
    "   \n",
    "def zScore(data, translateTransform=None, scaleTransform=None):\n",
    "    \"z score.\"\n",
    "    homogenizedData = np.append(data, np.array([np.ones(data.shape[0], dtype=float)]).T, axis=1)\n",
    "    if translateTransform is None:\n",
    "        translateTransform = np.eye(homogenizedData.shape[1])\n",
    "        for i in range(homogenizedData.shape[1]):\n",
    "            translateTransform[i, homogenizedData.shape[1]-1] = -homogenizedData[:, i].mean()\n",
    "    if scaleTransform is None:\n",
    "        diagonal = [1 / homogenizedData[:, i].std() if homogenizedData[:, i].std() != 0 else 1 for i in range(homogenizedData.shape[1])]\n",
    "        scaleTransform = np.eye(homogenizedData.shape[1], dtype=float) * diagonal\n",
    "    data = (scaleTransform@translateTransform@homogenizedData.T).T\n",
    "    return translateTransform, scaleTransform, data[:, :data.shape[1]-1]\n",
    "\n",
    "translateTransform, scaleTransform, train_data_transformed = zScore(train_data)\n",
    "print(getSummaryStatistics(train_data_transformed))\n",
    "getShapeType(train_data_transformed)"
   ]
  },
  {
   "cell_type": "markdown",
   "id": "1bfba5e3",
   "metadata": {},
   "source": [
    "# Find Prototypes\n",
    "\n",
    "To do this, we use kmeans. I am going to use the scikit-learn implementation; you should use your own for the project.\n",
    "\n",
    "Why would we not just have the number of prototypes be equal to the number of classes?"
   ]
  },
  {
   "cell_type": "code",
   "execution_count": 28,
   "id": "0ff6508e",
   "metadata": {},
   "outputs": [
    {
     "name": "stdout",
     "output_type": "stream",
     "text": [
      "2\n",
      "3\n",
      "4\n",
      "5\n",
      "6\n",
      "7\n",
      "8\n",
      "9\n",
      "10\n",
      "11\n",
      "12\n",
      "13\n",
      "14\n",
      "15\n",
      "16\n",
      "[[  2.         127.56157509]\n",
      " [  3.          65.12021196]\n",
      " [  4.          45.84044231]\n",
      " [  5.          37.21218824]\n",
      " [  6.          31.60320652]\n",
      " [  7.          27.92866385]\n",
      " [  8.          23.86544607]\n",
      " [  9.          21.83679269]\n",
      " [ 10.          20.59343705]\n",
      " [ 11.          19.4574545 ]\n",
      " [ 12.          18.19651294]\n",
      " [ 13.          16.90310702]\n",
      " [ 14.          16.20230198]\n",
      " [ 15.          15.14039177]\n",
      " [ 16.          14.3431369 ]]\n"
     ]
    },
    {
     "data": {
      "image/png": "[encoded data removed]",
      "text/plain": [
       "<Figure size 432x288 with 1 Axes>"
      ]
     },
     "metadata": {
      "needs_background": "light"
     },
     "output_type": "display_data"
    }
   ],
   "source": [
    "from sklearn.cluster import KMeans\n",
    "\n",
    "inertia_by_k = []\n",
    "\n",
    "for k in range(2, 17):\n",
    "    print(k)\n",
    "    km = KMeans(n_clusters=k, random_state=0).fit(train_data)\n",
    "    inertia_by_k.append([k, km.inertia_])\n",
    "\n",
    "inertia_by_k = np.array(inertia_by_k)\n",
    "print(inertia_by_k)\n",
    "fig = plt.figure(figsize=(6,4))\n",
    "ax1 = fig.add_subplot(111)\n",
    "ax1.plot(inertia_by_k[:, 0], inertia_by_k[:, 1])\n",
    "ax1.set_xlabel('k')\n",
    "ax1.set_ylabel('Inertia')\n",
    "ax1.set_title('Elbow Plot')\n",
    "plt.show()"
   ]
  },
  {
   "cell_type": "markdown",
   "id": "76057d09",
   "metadata": {},
   "source": [
    "So, what value will we choose for k? What will this number correspond to in the RBF network?"
   ]
  },
  {
   "cell_type": "code",
   "execution_count": 29,
   "id": "288b8cf8",
   "metadata": {},
   "outputs": [
    {
     "name": "stdout",
     "output_type": "stream",
     "text": [
      "[[5.28947368 3.65263158 1.51578947 0.27368421]\n",
      " [6.42941176 2.94705882 4.58823529 1.42941176]\n",
      " [7.51111111 3.2        6.3        2.07777778]\n",
      " [5.24285714 2.37142857 3.44285714 1.02857143]\n",
      " [5.60526316 2.70526316 4.14210526 1.29473684]\n",
      " [4.735      3.14       1.42       0.2       ]\n",
      " [6.53529412 3.09411765 5.51764706 2.15882353]\n",
      " [6.025      2.71666667 5.03333333 1.8       ]]\n"
     ]
    }
   ],
   "source": [
    "# Let's get the centroid for each hiddent node - each prototype\n",
    "k = 8\n",
    "\n",
    "km = KMeans(n_clusters=k, random_state=0).fit(train_data)\n",
    "\n",
    "print(km.cluster_centers_)"
   ]
  },
  {
   "cell_type": "markdown",
   "id": "9d97bf83",
   "metadata": {},
   "source": [
    "# Define the Activation Function for the Hidden Nodes\n",
    "\n",
    "Recall that a typical activation function for the hidden nodes is the Gaussian, so something like $exp \\left( - \\frac{||\\vec{d}-\\vec{\\mu_j}||^2}{2\\delta_j^2 + \\epsilon} \\right)$, where $\\vec{d}$ is the data point, $\\vec{\\mu_j}$ is the prototype, $\\delta_j$ is the hidden unit's standard deviation, $\\epsilon$ is a small constant and $||.||^2$ is the squared Euclidean distance.\n",
    "\n",
    "Let's take a good look at this activation function. \n",
    "* What is in the numerator? Why look, it's the distance! Why would we not just use the distance itself as the activation function? \n",
    "* What is the function of $\\delta_j$?\n",
    "* Why do we have $\\epsilon$?"
   ]
  },
  {
   "cell_type": "markdown",
   "id": "1568dcf3",
   "metadata": {},
   "source": [
    "# What Will We Do When We Get a New Data Point?"
   ]
  },
  {
   "cell_type": "markdown",
   "id": "90aaddae",
   "metadata": {},
   "source": [
    "At this point, we have defined:\n",
    "* The input layer (ish)\n",
    "* The hidden layer\n",
    "\n",
    "For a new data point, we will:\n",
    "1. encode it using the same zscoring we did on train - not defining a new zscoring. IE use mean and stdev from the *training data*\n",
    "2. send it to each of the hidden layer nodes (so the weights from the input layer to the hidden layer are all 1)\n",
    "3. each hidden layer node will calculate its activation for this data point\n",
    "\n",
    "On Monday we will define the output layer, and explain how it relates to another analysis method we already know well, linear regression. We will then show how we can *also use RBF networks for regression*!"
   ]
  },
  {
   "cell_type": "markdown",
   "id": "84b92ec0",
   "metadata": {},
   "source": [
    "# Let's Process the Dev Data Through the Hidden Layer with Matrix Math\n",
    "\n",
    "So to process a set of data points, eg the dev data, I'm going to:\n",
    "1. \"encode\" - input layer - subtract mean of training data and divide by stdev of training data. Take a look at zScore above; it *already does all this with matrix multiplication*! Remember, a zScoring is just a translation and scaling.\n",
    "2. calculate activations of hidden layer nodes. Take a look at the activation function. Inside the exponent, it has a numerator and a denominator. The denominator operates as a scaling, and you know how to do that. The numerator includes a translation (see the minus?) and then squares it (and you know how to do that!). And the exponentiation can be done via broadcasting.\n",
    "\n",
    "Because you should implement the activation function above yourselves, I'm instead going to implement this stupid activation function just to show you the matrix math:\n",
    "$exp \\left( - \\frac{||\\vec{d}-\\vec{\\mu_j}||}{3} \\right)$"
   ]
  },
  {
   "cell_type": "code",
   "execution_count": 30,
   "id": "78f24aac",
   "metadata": {},
   "outputs": [
    {
     "name": "stdout",
     "output_type": "stream",
     "text": [
      "(15, 8) (8, 8)\n",
      "[[0.27893144 0.8446792  0.50478036 0.5342595  0.71056442 0.26091684\n",
      "  0.73638997 0.90383122]\n",
      " [0.81810221 0.28590154 0.14917312 0.3834434  0.33164966 0.64675281\n",
      "  0.20156875 0.24087097]\n",
      " [0.85506033 0.31566159 0.15786708 0.47768608 0.39084709 0.81159035\n",
      "  0.22271959 0.27628038]\n",
      " [0.91370789 0.29365289 0.14704766 0.44203262 0.35996871 0.84009825\n",
      "  0.20476814 0.25381618]\n",
      " [0.13386683 0.42970097 0.81833824 0.24529283 0.32390868 0.1213775\n",
      "  0.56874033 0.45341607]\n",
      " [0.37605812 0.79134255 0.38847522 0.68357678 0.8399012  0.35137425\n",
      "  0.54494469 0.6808121 ]\n",
      " [0.23293148 0.74358912 0.58934219 0.45262276 0.60063967 0.21778289\n",
      "  0.83620349 0.85465178]\n",
      " [0.20729004 0.61077947 0.61685772 0.37391233 0.50046921 0.1899557\n",
      "  0.85713867 0.69160959]\n",
      " [0.84975388 0.28545445 0.14692463 0.39829934 0.3392457  0.69899184\n",
      "  0.20095336 0.24341617]\n",
      " [0.28809763 0.89351936 0.53307949 0.49475167 0.64688309 0.26021721\n",
      "  0.70166429 0.74168738]\n",
      " [0.26078382 0.72672684 0.46397802 0.54832479 0.6952351  0.25309931\n",
      "  0.64036335 0.81903116]\n",
      " [0.25652232 0.72377565 0.48735761 0.5167001  0.6816493  0.24542528\n",
      "  0.72416774 0.9183191 ]\n",
      " [0.68693722 0.25878479 0.12727315 0.43075697 0.33412739 0.88032459\n",
      "  0.18159099 0.23193367]\n",
      " [0.16194971 0.52092832 0.85780383 0.29693312 0.3936659  0.14731533\n",
      "  0.67759898 0.54761179]\n",
      " [0.91550549 0.30153134 0.15268075 0.43769708 0.36555435 0.77223812\n",
      "  0.21133235 0.2595124 ]]\n"
     ]
    }
   ],
   "source": [
    "# The other thing you need is for each of these, the activation function\n",
    "# I am going to implement a _stupid activation function_ so that you can implement the right one yourselves for project 7\n",
    "def calculateActivations(data, centroids):\n",
    "    \"I repeat, do not use this activation function directly. This one is exp(-distance / 3); yours is exp(-distance^2 / (2*radius + epsilon))\"\n",
    "    # You can easily fiddle with this numerator to make it calculate the square of the distance\n",
    "    numerator = -np.linalg.norm(data-centroids[:,np.newaxis], axis = 2).T\n",
    "    # The construction of your denominator will be a little more complex than this; the diagonals will be centroid/prototype-specific\n",
    "    denominator = np.eye(centroids.shape[0], dtype=float) * 1/3\n",
    "    print(numerator.shape, denominator.shape)\n",
    "    return np.exp((denominator@numerator.T).T)\n",
    "\n",
    "# First we need to normalize the dev data using the scale and translate from the train data\n",
    "dev_data_transformed = zScore(dev_data, translateTransform, scaleTransform)\n",
    "print(calculateActivations(dev_data, km.cluster_centers_))"
   ]
  },
  {
   "cell_type": "code",
   "execution_count": null,
   "id": "4d0b9dbe",
   "metadata": {},
   "outputs": [],
   "source": []
  }
 ],
 "metadata": {
  "kernelspec": {
   "display_name": "Python 3 (ipykernel)",
   "language": "python",
   "name": "python3"
  },
  "language_info": {
   "codemirror_mode": {
    "name": "ipython",
    "version": 3
   },
   "file_extension": ".py",
   "mimetype": "text/x-python",
   "name": "python",
   "nbconvert_exporter": "python",
   "pygments_lexer": "ipython3",
   "version": "3.9.7"
  }
 },
 "nbformat": 4,
 "nbformat_minor": 5
}
