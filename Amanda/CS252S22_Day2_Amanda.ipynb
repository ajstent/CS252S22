{
 "cells": [
  {
   "cell_type": "markdown",
   "id": "78695398",
   "metadata": {},
   "source": [
    "Do we remember our python?\n",
    "--------------------------\n",
    "\n",
    "Remembering python and good programming practices\n",
    "\n",
    "* docstrings\n",
    "* variable names\n"
   ]
  },
  {
   "cell_type": "markdown",
   "id": "ed515d8c",
   "metadata": {},
   "source": [
    "Do we know how github works?\n",
    "----------------------------------------------\n",
    "\n",
    "Git-based workflow:\n",
    "* Make your own copy in git: git fork\n",
    "* Get the code to work on: git clone\n",
    "* Loop in like 30 minute intervals:\n",
    "    * Work, work (not too long!)\n",
    "    * Save your changes: git commit\n",
    "    * Put your changes at github: git push origin main\n",
    "\n",
    "Git-based access control:\n",
    "* SSH keys (preferred!)\n",
    "  * open a terminal in vscode\n",
    "  * type ssh-keygen\n",
    "  * type cat ..\\..\\.ssh\\id_rsa.pub\n",
    "  * copy what you see \n",
    "  * in a browser go to https://github.com/settings/ssh/new\n",
    "  * paste it in and name it \"my computer\" or similar\n",
    "* Tokens\n",
    "\n",
    "(See also: https://docs.github.com/en/authentication/connecting-to-github-with-ssh; https://code.visualstudio.com/docs/editor/versioncontrol)\n"
   ]
  },
  {
   "cell_type": "markdown",
   "id": "fa8a394f",
   "metadata": {},
   "source": [
    "Looking at Data with numpy\n",
    "----------------------------------------\n",
    "\n",
    "Do *not* use this for your project (yet!)"
   ]
  },
  {
   "cell_type": "code",
   "execution_count": null,
   "id": "40efba04",
   "metadata": {},
   "outputs": [],
   "source": [
    "import numpy\n",
    "import seaborn"
   ]
  },
  {
   "cell_type": "code",
   "execution_count": null,
   "id": "e0c4cb49",
   "metadata": {},
   "outputs": [],
   "source": []
  },
  {
   "cell_type": "code",
   "execution_count": null,
   "id": "06dac4ff",
   "metadata": {},
   "outputs": [],
   "source": [
    "# Let's load the iris data\n",
    "\n",
    "iris = seaborn.load_dataset('iris')\n",
    "\n",
    "iris"
   ]
  },
  {
   "cell_type": "code",
   "execution_count": null,
   "id": "5f187bea",
   "metadata": {},
   "outputs": [],
   "source": [
    "help(iris)"
   ]
  },
  {
   "cell_type": "markdown",
   "id": "1e0ca526",
   "metadata": {},
   "source": [
    "What are some types of data?\n",
    "----------------------------\n",
    "\n",
    "| Type | Example Values | Example Application | \n",
    "|----|-------------|--------------|\n",
    "| Quantitative Continuous | sepal_length |  |\n",
    "| Quantitative Discrete | number in a bunch |  |\n",
    "| Qualitative Nominal | colors |  |\n",
    "| Qualitative Ordinal | species |   |\n",
    "\n",
    "What are the types of the columns in the iris dataset?\n",
    "\n",
    "What about these forms of data?\n",
    "* Text\n",
    "* Dates/times\n",
    "* Images"
   ]
  },
  {
   "cell_type": "code",
   "execution_count": null,
   "id": "0f109e58",
   "metadata": {},
   "outputs": [],
   "source": [
    "# Let's get some summary statistics for this data\n",
    "\n",
    "iris.agg(['min', 'mean', 'median', 'max', 'var'])"
   ]
  },
  {
   "cell_type": "code",
   "execution_count": null,
   "id": "2f0192d4",
   "metadata": {},
   "outputs": [],
   "source": [
    "# What about features / variables that are not numeric?\n",
    "\n",
    "iris['species'].unique()"
   ]
  },
  {
   "cell_type": "markdown",
   "id": "5130c99d",
   "metadata": {},
   "source": [
    "Summary statistics can mislead\n",
    "------------------------------\n",
    "\n",
    "The example below comes from this great seaborn documentation: https://seaborn.pydata.org/examples/anscombes_quartet.html"
   ]
  },
  {
   "cell_type": "code",
   "execution_count": null,
   "id": "f931aeab",
   "metadata": {},
   "outputs": [],
   "source": [
    "seaborn.set_theme(style=\"ticks\")\n",
    "\n",
    "# Load the example dataset for Anscombe's quartet\n",
    "df = seaborn.load_dataset(\"anscombe\")\n",
    "\n",
    "df"
   ]
  },
  {
   "cell_type": "code",
   "execution_count": null,
   "id": "73c2e7d0",
   "metadata": {},
   "outputs": [],
   "source": [
    "# what if we grouped the iris data by species and then got summary statistics for it?\n",
    " \n",
    "df.groupby('dataset').agg(['min', 'mean', 'median', 'max', 'var'])"
   ]
  },
  {
   "cell_type": "code",
   "execution_count": null,
   "id": "ace370c0",
   "metadata": {},
   "outputs": [],
   "source": [
    "# Show the results of a linear regression within each dataset\n",
    "seaborn.lmplot(x=\"x\", y=\"y\", col=\"dataset\", hue=\"dataset\", data=df,\n",
    "           col_wrap=2, ci=None, palette=\"colorblind\", height=4,\n",
    "           scatter_kws={\"s\": 50, \"alpha\": 1})"
   ]
  },
  {
   "cell_type": "markdown",
   "id": "1d89a86f",
   "metadata": {},
   "source": [
    "What... just happened?\n",
    "\n",
    "Let's explore data visualization\n",
    "----------------------"
   ]
  },
  {
   "cell_type": "code",
   "execution_count": null,
   "id": "3dbbc053",
   "metadata": {},
   "outputs": [],
   "source": [
    "iris = seaborn.load_dataset('iris')\n",
    " \n",
    "seaborn.pairplot(data=iris, x_vars=[\"petal_width\"], y_vars=[\"petal_length\"], height=5)"
   ]
  },
  {
   "cell_type": "code",
   "execution_count": null,
   "id": "61d3c968",
   "metadata": {},
   "outputs": [],
   "source": [
    "help(seaborn.pairplot)"
   ]
  },
  {
   "cell_type": "markdown",
   "id": "349f4fdb",
   "metadata": {},
   "source": [
    "What are some types of visualization?\n",
    "----------------------------------------------------\n",
    "\n",
    "Hint: What happens if you go to https://seaborn.pydata.org/examples/index.html or type help(seaborn)?"
   ]
  },
  {
   "cell_type": "code",
   "execution_count": null,
   "id": "5a3c65ab",
   "metadata": {},
   "outputs": [],
   "source": [
    "# Let's explore seaborn\n",
    "help(seaborn.)"
   ]
  },
  {
   "cell_type": "markdown",
   "id": "28fab957",
   "metadata": {},
   "source": [
    "Lying with visualizations\n",
    "-------------------------\n",
    "\n",
    "Hint: https://uxdesign.cc/a-beginners-guide-to-identifying-misleading-data-visualizations-d82a93211ac6\n",
    "\n",
    "Later on we will learn about weights and biases"
   ]
  },
  {
   "cell_type": "markdown",
   "id": "c3cf2f90",
   "metadata": {},
   "source": [
    "Being a good visualization creator\n",
    "----------------------------------\n",
    "\n",
    "* https://uxdesign.cc/how-to-design-data-visualizations-that-are-actually-valuable-e8b752835b9a\n",
    "* https://www.tableau.com/about/blog/examining-data-viz-rules-dont-use-red-green-together\n",
    "* https://seaborn.pydata.org/tutorial/color_palettes.html"
   ]
  }
 ],
 "metadata": {
  "kernelspec": {
   "display_name": "Python 3 (ipykernel)",
   "language": "python",
   "name": "python3"
  },
  "language_info": {
   "codemirror_mode": {
    "name": "ipython",
    "version": 3
   },
   "file_extension": ".py",
   "mimetype": "text/x-python",
   "name": "python",
   "nbconvert_exporter": "python",
   "pygments_lexer": "ipython3",
   "version": "3.9.7"
  }
 },
 "nbformat": 4,
 "nbformat_minor": 5
}
