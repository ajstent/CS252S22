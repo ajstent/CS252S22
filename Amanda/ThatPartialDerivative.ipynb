{
 "cells": [
  {
   "cell_type": "markdown",
   "id": "7a409b89",
   "metadata": {},
   "source": [
    "In the partial derivative we take to get the normal equation, why is $$\\frac{\\partial}{\\partial \\vec{c}} (\\vec{c}^TA^TA\\vec{c}) = 2A^TA\\vec{c} $$"
   ]
  },
  {
   "cell_type": "markdown",
   "id": "f1e793b2",
   "metadata": {},
   "source": [
    "Well, let's see. $\\vec{c}^T A^T = \\begin{pmatrix} c_1 ... c_N\\end{pmatrix}\\begin{pmatrix}\n",
    "x_{11} & ... & x_{m1} \\\\\n",
    "... \\\\\n",
    "x_{1N} & ... & x_{mN} \n",
    "\\end{pmatrix} = \\begin{pmatrix} c_1 x_{11} + ... + c_N x_{1N} & ... & c_1 x_{m1} + ... + c_N x_{mN}\n",
    "\\end{pmatrix}$ \n",
    "\n",
    "\n",
    "Now let's look at:\n",
    "$A\\vec{c} = \\begin{pmatrix}\n",
    "x_{11} & ... & x_{1N} \\\\\n",
    "... \\\\\n",
    "x_{m1} & ... & x_{mN} \n",
    "\\end{pmatrix} \\begin{pmatrix} c_1 ... c_N\\end{pmatrix} = \\begin{pmatrix} c_1 x_{11} + ... + c_N x_{1N} \\\\ ... \\\\ c_1 x_{m1} + ... + c_N x_{mN}\n",
    "\\end{pmatrix}$ \n",
    "\n",
    "\n",
    "Now we multiply these two together:\n",
    "$\\begin{pmatrix} c_1 x_{11} + ... + c_N x_{1N} & ... & c_1 x_{m1} + ... + c_N x_{mN}\n",
    "\\end{pmatrix} \\begin{pmatrix} c_1 x_{11} + ... + c_N x_{1N} \\\\ ... \\\\ c_1 x_{m1} + ... + c_N x_{mN}\n",
    "\\end{pmatrix} = (c_1 x_{11} + ... + c_N x_{1N})^2 + ... + (c_1 x_{m1} + ... + c_N x_{mN})^2$\n",
    "\n",
    "Now we take the partial derivatives with respect to $c_i$:\n",
    "$\\frac{\\partial}{\\partial c_1} (c_1 x_{11} + ... + c_N x_{1N})^2 + ... + (c_1 x_{m1} + ... + c_N x_{mN})^2 = 2 x_{11} (c_1 x_{11} + ... + c_N x_{1N}) + ... + 2 x_{m1} (c_1 x_{m1} + ... + c_N x_{mN})$\n",
    "\n",
    "$...$\n",
    "\n",
    "$\\frac{\\partial}{\\partial c_N} (c_1 x_{11} + ... + c_N x_{1N})^2 + ... + (c_1 x_{m1} + ... + c_N x_{mN})^2 = 2 x_{1N} (c_1 x_{11} + ... + c_N x_{1N})^2 + ... + 2 x_{mN} (c_1 x_{m1} + ... + c_N x_{mN})$\n",
    "\n",
    "and that system of partial derivatives is equivalent to:\n",
    "$2 \\begin{pmatrix}\n",
    "x_{11} & ... & x_{m1} \\\\\n",
    "... \\\\\n",
    "x_{1N} & ... & x_{mN} \n",
    "\\end{pmatrix} \\begin{pmatrix}\n",
    "c_1 x_{11} + ... + c_N x_{1N} \\\\\n",
    "... \\\\\n",
    "c_1 x_{m1} + ... + c_N x_{mN} \n",
    "\\end{pmatrix}$ \n",
    "\n",
    "which is equivalent to:\n",
    "$2 A^T \\begin{pmatrix}\n",
    "x_{11} ... x_{1N} \\\\\n",
    "... \\\\\n",
    "x_{m1} ... x_{mN} \n",
    "\\end{pmatrix} \\begin{pmatrix}\n",
    "c_1 &\n",
    "... &\n",
    "c_N\n",
    "\\end{pmatrix}$\n",
    "\n",
    "which is equivalent to:\n",
    "$2 A^T A \\vec{c}$\n",
    "\n",
    "\n"
   ]
  },
  {
   "cell_type": "code",
   "execution_count": null,
   "id": "37a39fea",
   "metadata": {},
   "outputs": [],
   "source": []
  }
 ],
 "metadata": {
  "kernelspec": {
   "display_name": "Python 3 (ipykernel)",
   "language": "python",
   "name": "python3"
  },
  "language_info": {
   "codemirror_mode": {
    "name": "ipython",
    "version": 3
   },
   "file_extension": ".py",
   "mimetype": "text/x-python",
   "name": "python",
   "nbconvert_exporter": "python",
   "pygments_lexer": "ipython3",
   "version": "3.9.7"
  }
 },
 "nbformat": 4,
 "nbformat_minor": 5
}
