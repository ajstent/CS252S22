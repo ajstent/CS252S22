{
 "cells": [
  {
   "attachments": {},
   "cell_type": "markdown",
   "id": "d6a81569",
   "metadata": {},
   "source": [
    "# The One Goal For Today\n",
    "\n",
    "To understand how we can use k-means clustering for image segmentation and image compression."
   ]
  },
  {
   "cell_type": "code",
   "execution_count": 1,
   "id": "3cd16ad1",
   "metadata": {},
   "outputs": [],
   "source": [
    "import numpy as np\n",
    "import matplotlib.pyplot as plt"
   ]
  },
  {
   "attachments": {},
   "cell_type": "markdown",
   "id": "1ad07a22",
   "metadata": {},
   "source": [
    "# K-means for image segmentation and compression\n",
    "\n",
    "An image is a matrix of pixels. Each pixel can be represented as an array of RGB (red, green, blue) values. \n",
    "\n",
    "In most pictures, the RGB values in one pixel are likely to be similar to those in the pixels around it. For example, the below picture (from https://vancouver.citynews.ca/2016/11/22/dangers-parking-lot-crashes-ahead-holiday-rush/) has a lot of grey pixels.\n",
    "\n",
    "![cars in a car park](https://www.citynews1130.com/wp-content/blogs.dir/sites/9/2016/11/22/parking.jpg)"
   ]
  },
  {
   "attachments": {},
   "cell_type": "markdown",
   "id": "722a15e6",
   "metadata": {},
   "source": [
    "If we can identify the common colors (the common RGB values) in a picture, then we can replace the RGB values for each pixel by just centroid RGB values. This in turn allows us to:\n",
    "* compress the image - we can use the centroid IDs as the pixel's values, and just store the centroid RGB values in a dictionary\n",
    "* segment the image into regions by color\n",
    "\n",
    "To do this, we are going to treat the image itself as a dataset. Each row will correspond to a pixel, and the columns will be the RGB values.\n",
    "\n",
    "## Let's do k-means on a picture!\n",
    "\n",
    "This code below comes from day 21, except that there's a slightly more efficient implementation of update_clusters."
   ]
  },
  {
   "cell_type": "code",
   "execution_count": 2,
   "id": "672205da",
   "metadata": {},
   "outputs": [],
   "source": [
    "# Euclidean distance\n",
    "def distance(a, b):\n",
    "    subtracted = a-b\n",
    "    return np.sqrt(np.dot(subtracted.T, subtracted))\n",
    "\n",
    "# Calculate the distance from each data point to each centroid\n",
    "def get_distances(item, centroids):\n",
    "    return [distance(item, centroid) for centroid in centroids]\n",
    "\n",
    "# Update cluster assignments given a set of centroids\n",
    "# This is a slightly more efficient version than the one from Monday\n",
    "def update_clusters(data, centroids):\n",
    "    # initialize clusters\n",
    "    clusters = {}\n",
    "    for i in range(len(centroids)):\n",
    "        clusters[i] = []\n",
    "    # for each data point\n",
    "    for datum in data:\n",
    "        # find the index of the centroid with the smallest distance to this data point, and add this data point to that centroid's cluster\n",
    "        clusters[np.argmin(get_distances(datum, centroids))].append(datum)\n",
    "    return clusters\n",
    "\n",
    "# Update the centroids given the data\n",
    "def update_centroids(clusters):\n",
    "    # set centroids to empty list\n",
    "    centroids = []\n",
    "    # for each set of data points in a cluster around a single centroid\n",
    "    for data_in_cluster in clusters.values():\n",
    "        # new centroid is the mean of that cluster\n",
    "        centroids.append(np.mean(data_in_cluster, axis=0))\n",
    "    return centroids\n",
    "\n",
    "# Measure the inertia\n",
    "def inertia(data, centroids, clusters):\n",
    "    sum = 0\n",
    "    for i in clusters.keys():\n",
    "        for datum in clusters[i]:\n",
    "            # calculate the distance squared between each data point and its centroid\n",
    "            sum += distance(datum, centroids[i])**2\n",
    "    # average over the data\n",
    "    return sum / len(data)"
   ]
  },
  {
   "cell_type": "code",
   "execution_count": 3,
   "id": "4160ba34",
   "metadata": {},
   "outputs": [
    {
     "name": "stdout",
     "output_type": "stream",
     "text": [
      "(216, 302, 3)\n"
     ]
    }
   ],
   "source": [
    "# Load the picture\n",
    "from matplotlib.image import imread\n",
    "\n",
    "image = imread('data/parking.jpg')\n",
    "print(image.shape)"
   ]
  },
  {
   "cell_type": "code",
   "execution_count": 4,
   "id": "b71ea05a",
   "metadata": {},
   "outputs": [
    {
     "name": "stdout",
     "output_type": "stream",
     "text": [
      "(65232, 3)\n"
     ]
    }
   ],
   "source": [
    "# Reshape the picture so that it's three long arrays, one for each of R/G/B\n",
    "data = image.reshape(image.shape[0]*image.shape[1], image.shape[2])\n",
    "print(data.shape)"
   ]
  },
  {
   "cell_type": "code",
   "execution_count": 5,
   "id": "8b1e0452",
   "metadata": {},
   "outputs": [
    {
     "name": "stdout",
     "output_type": "stream",
     "text": [
      "2\n",
      "6\n"
     ]
    }
   ],
   "source": [
    "%%time\n",
    "\n",
    "# We do k-means clustering for k from 2 to 16 to see what is a good value for k\n",
    "# Watch how it takes longer and longer (both to converge, and to do one round) as k increases\n",
    "inertia_by_k = []\n",
    "\n",
    "for k in range(2, 17, 4):\n",
    "    print(k)\n",
    "    # make some initial centroids\n",
    "    centroids = np.array([data[x] for x in np.random.choice(np.arange(len(data)), size=k, replace=False)])\n",
    "    # get the clusters for these centroids\n",
    "    clusters = update_clusters(data, centroids)\n",
    "    # calculate the inertia for this clustering\n",
    "    this_inertia = inertia(data, centroids, clusters)\n",
    "    # initialize last_inertia so we go around at least once\n",
    "    last_inertia = this_inertia + 1\n",
    "    # stop when the inertia stops changing very much\n",
    "    while abs(last_inertia - this_inertia) > 0.01:\n",
    "        last_inertia = this_inertia\n",
    "        # update the centroids\n",
    "        centroids = update_centroids(clusters)\n",
    "        # update the clusters\n",
    "        clusters = update_clusters(data, centroids)\n",
    "        # update the inertia\n",
    "        this_inertia = inertia(data, centroids, clusters)\n",
    "    inertia_by_k.append([k, this_inertia])\n"
   ]
  },
  {
   "cell_type": "code",
   "execution_count": null,
   "id": "79e8d646",
   "metadata": {},
   "outputs": [],
   "source": [
    "print(inertia_by_k)\n",
    "inertia_by_k = np.array(inertia_by_k)\n",
    "fig = plt.figure(figsize=(6,4))\n",
    "ax1 = fig.add_subplot(111)\n",
    "ax1.plot(inertia_by_k[:, 0], inertia_by_k[:, 1])\n",
    "ax1.set_xlabel('k')\n",
    "ax1.set_ylabel('Inertia')\n",
    "ax1.set_title('Elbow Plot')\n",
    "plt.show()"
   ]
  },
  {
   "cell_type": "markdown",
   "id": "28e9777d",
   "metadata": {},
   "source": [
    "## Let's replace each pixel in the picture with its corresponding centroid, and then display it!"
   ]
  },
  {
   "cell_type": "code",
   "execution_count": null,
   "id": "22aa36ec",
   "metadata": {},
   "outputs": [],
   "source": [
    "def rebuild(centroids, clusters, input):\n",
    "    # for each item in clusters add the corresponding centroid\n",
    "    res = np.array([centroids[x] for x in clusters])\n",
    "    print(res.shape, input.shape)\n",
    "    # reshape\n",
    "    res = res.reshape(input.shape[0], input.shape[1], input.shape[2])\n",
    "    return res"
   ]
  },
  {
   "cell_type": "code",
   "execution_count": null,
   "id": "14dbcd61",
   "metadata": {},
   "outputs": [],
   "source": [
    "plt.imshow(image)"
   ]
  },
  {
   "cell_type": "code",
   "execution_count": null,
   "id": "452baee0",
   "metadata": {},
   "outputs": [],
   "source": [
    "output = rebuild(centroids, clusters, image)\n",
    "print(output.shape)\n",
    "output = output.round().astype(int)\n",
    "plt.imshow(output.round())"
   ]
  },
  {
   "attachments": {},
   "cell_type": "markdown",
   "id": "bceac537",
   "metadata": {},
   "source": [
    "*If you replace each pixel in the above image with an integer (the index of the corresponding centroid), and keep the centroid dictionary, how much smaller is the picture size than the original?*"
   ]
  },
  {
   "cell_type": "markdown",
   "id": "35589998",
   "metadata": {},
   "source": [
    "# Resources\n",
    "\n",
    "* https://github.com/hanyoseob/python-k-means"
   ]
  }
 ],
 "metadata": {
  "kernelspec": {
   "display_name": "Python 3 (ipykernel)",
   "language": "python",
   "name": "python3"
  },
  "language_info": {
   "codemirror_mode": {
    "name": "ipython",
    "version": 3
   },
   "file_extension": ".py",
   "mimetype": "text/x-python",
   "name": "python",
   "nbconvert_exporter": "python",
   "pygments_lexer": "ipython3",
   "version": "3.10.4"
  }
 },
 "nbformat": 4,
 "nbformat_minor": 5
}
