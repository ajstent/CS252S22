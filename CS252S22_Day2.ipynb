{
 "cells": [
  {
   "cell_type": "markdown",
   "id": "78695398",
   "metadata": {},
   "source": [
    "Do we remember our python?\n",
    "--------------------------\n",
    "\n",
    "Remembering python and good programming practices\n",
    "\n",
    "* docstrings\n",
    "* variable names\n"
   ]
  },
  {
   "cell_type": "markdown",
   "id": "ed515d8c",
   "metadata": {},
   "source": [
    "Do we know how github works?\n",
    "----------------------------------------------\n",
    "\n",
    "Git-based workflow:\n",
    "* Make your own copy in git: git fork\n",
    "* Get the code to work on: git clone\n",
    "* Work, work (not too long!)\n",
    "* Save your changes: git commit\n",
    "* Put your changes at github: git push origin main\n",
    "\n",
    "Git-based access control:\n",
    "* SSH keys (preferred!)\n",
    "* Tokens\n",
    "\n",
    "(See also: https://docs.github.com/en/authentication/connecting-to-github-with-ssh; https://code.visualstudio.com/docs/editor/versioncontrol)\n"
   ]
  },
  {
   "cell_type": "markdown",
   "id": "fa8a394f",
   "metadata": {},
   "source": [
    "Looking at Data with numpy\n",
    "----------------------------------------\n",
    "\n",
    "Do *not* use this for your project (yet!)"
   ]
  },
  {
   "cell_type": "code",
   "execution_count": 1,
   "id": "40efba04",
   "metadata": {},
   "outputs": [],
   "source": [
    "import numpy\n",
    "import seaborn"
   ]
  },
  {
   "cell_type": "code",
   "execution_count": 2,
   "id": "06dac4ff",
   "metadata": {},
   "outputs": [
    {
     "data": {
      "text/html": [
       "<div>\n",
       "<style scoped>\n",
       "    .dataframe tbody tr th:only-of-type {\n",
       "        vertical-align: middle;\n",
       "    }\n",
       "\n",
       "    .dataframe tbody tr th {\n",
       "        vertical-align: top;\n",
       "    }\n",
       "\n",
       "    .dataframe thead th {\n",
       "        text-align: right;\n",
       "    }\n",
       "</style>\n",
       "<table border=\"1\" class=\"dataframe\">\n",
       "  <thead>\n",
       "    <tr style=\"text-align: right;\">\n",
       "      <th></th>\n",
       "      <th>sepal_length</th>\n",
       "      <th>sepal_width</th>\n",
       "      <th>petal_length</th>\n",
       "      <th>petal_width</th>\n",
       "      <th>species</th>\n",
       "    </tr>\n",
       "  </thead>\n",
       "  <tbody>\n",
       "    <tr>\n",
       "      <th>0</th>\n",
       "      <td>5.1</td>\n",
       "      <td>3.5</td>\n",
       "      <td>1.4</td>\n",
       "      <td>0.2</td>\n",
       "      <td>setosa</td>\n",
       "    </tr>\n",
       "    <tr>\n",
       "      <th>1</th>\n",
       "      <td>4.9</td>\n",
       "      <td>3.0</td>\n",
       "      <td>1.4</td>\n",
       "      <td>0.2</td>\n",
       "      <td>setosa</td>\n",
       "    </tr>\n",
       "    <tr>\n",
       "      <th>2</th>\n",
       "      <td>4.7</td>\n",
       "      <td>3.2</td>\n",
       "      <td>1.3</td>\n",
       "      <td>0.2</td>\n",
       "      <td>setosa</td>\n",
       "    </tr>\n",
       "    <tr>\n",
       "      <th>3</th>\n",
       "      <td>4.6</td>\n",
       "      <td>3.1</td>\n",
       "      <td>1.5</td>\n",
       "      <td>0.2</td>\n",
       "      <td>setosa</td>\n",
       "    </tr>\n",
       "    <tr>\n",
       "      <th>4</th>\n",
       "      <td>5.0</td>\n",
       "      <td>3.6</td>\n",
       "      <td>1.4</td>\n",
       "      <td>0.2</td>\n",
       "      <td>setosa</td>\n",
       "    </tr>\n",
       "    <tr>\n",
       "      <th>...</th>\n",
       "      <td>...</td>\n",
       "      <td>...</td>\n",
       "      <td>...</td>\n",
       "      <td>...</td>\n",
       "      <td>...</td>\n",
       "    </tr>\n",
       "    <tr>\n",
       "      <th>145</th>\n",
       "      <td>6.7</td>\n",
       "      <td>3.0</td>\n",
       "      <td>5.2</td>\n",
       "      <td>2.3</td>\n",
       "      <td>virginica</td>\n",
       "    </tr>\n",
       "    <tr>\n",
       "      <th>146</th>\n",
       "      <td>6.3</td>\n",
       "      <td>2.5</td>\n",
       "      <td>5.0</td>\n",
       "      <td>1.9</td>\n",
       "      <td>virginica</td>\n",
       "    </tr>\n",
       "    <tr>\n",
       "      <th>147</th>\n",
       "      <td>6.5</td>\n",
       "      <td>3.0</td>\n",
       "      <td>5.2</td>\n",
       "      <td>2.0</td>\n",
       "      <td>virginica</td>\n",
       "    </tr>\n",
       "    <tr>\n",
       "      <th>148</th>\n",
       "      <td>6.2</td>\n",
       "      <td>3.4</td>\n",
       "      <td>5.4</td>\n",
       "      <td>2.3</td>\n",
       "      <td>virginica</td>\n",
       "    </tr>\n",
       "    <tr>\n",
       "      <th>149</th>\n",
       "      <td>5.9</td>\n",
       "      <td>3.0</td>\n",
       "      <td>5.1</td>\n",
       "      <td>1.8</td>\n",
       "      <td>virginica</td>\n",
       "    </tr>\n",
       "  </tbody>\n",
       "</table>\n",
       "<p>150 rows × 5 columns</p>\n",
       "</div>"
      ],
      "text/plain": [
       "     sepal_length  sepal_width  petal_length  petal_width    species\n",
       "0             5.1          3.5           1.4          0.2     setosa\n",
       "1             4.9          3.0           1.4          0.2     setosa\n",
       "2             4.7          3.2           1.3          0.2     setosa\n",
       "3             4.6          3.1           1.5          0.2     setosa\n",
       "4             5.0          3.6           1.4          0.2     setosa\n",
       "..            ...          ...           ...          ...        ...\n",
       "145           6.7          3.0           5.2          2.3  virginica\n",
       "146           6.3          2.5           5.0          1.9  virginica\n",
       "147           6.5          3.0           5.2          2.0  virginica\n",
       "148           6.2          3.4           5.4          2.3  virginica\n",
       "149           5.9          3.0           5.1          1.8  virginica\n",
       "\n",
       "[150 rows x 5 columns]"
      ]
     },
     "execution_count": 2,
     "metadata": {},
     "output_type": "execute_result"
    }
   ],
   "source": [
    "# Let's load the iris data\n",
    "\n",
    "iris = seaborn.load_dataset('iris')\n",
    "\n",
    "iris"
   ]
  },
  {
   "cell_type": "markdown",
   "id": "1e0ca526",
   "metadata": {},
   "source": [
    "What are some types of data?\n",
    "----------------------------\n",
    "\n",
    "| Type | Example Values | Example Application | \n",
    "|----|-------------|--------------|\n",
    "| Quantitative Continuous |  |  |\n",
    "| Quantiative Discrete |  |  |\n",
    "| Qualitative Nominal |  |  |\n",
    "| Qualitative Ordinal |  |   |\n",
    "\n",
    "What are the types of the columns in the iris dataset?\n",
    "\n",
    "What about these forms of data?\n",
    "* Text\n",
    "* Dates/times\n",
    "* Images"
   ]
  },
  {
   "cell_type": "code",
   "execution_count": 3,
   "id": "0f109e58",
   "metadata": {},
   "outputs": [
    {
     "data": {
      "text/plain": [
       "min       4.300000\n",
       "mean      5.843333\n",
       "median    5.800000\n",
       "max       7.900000\n",
       "var       0.685694\n",
       "Name: sepal_length, dtype: float64"
      ]
     },
     "execution_count": 3,
     "metadata": {},
     "output_type": "execute_result"
    }
   ],
   "source": [
    "# Let's get some summary statistics for this data\n",
    "\n",
    "iris['sepal_length'].agg(['min', 'mean', 'median', 'max', 'var'])"
   ]
  },
  {
   "cell_type": "code",
   "execution_count": null,
   "id": "2f0192d4",
   "metadata": {},
   "outputs": [],
   "source": [
    "# What about features / variables that are not numeric?\n",
    "\n",
    "iris['species'].unique()"
   ]
  },
  {
   "cell_type": "markdown",
   "id": "5130c99d",
   "metadata": {},
   "source": [
    "Summary statistics can mislead\n",
    "------------------------------\n",
    "\n",
    "The example below comes from this great seaborn documentation: https://seaborn.pydata.org/examples/anscombes_quartet.html"
   ]
  },
  {
   "cell_type": "code",
   "execution_count": null,
   "id": "f931aeab",
   "metadata": {},
   "outputs": [],
   "source": [
    "seaborn.set_theme(style=\"ticks\")\n",
    "\n",
    "# Load the example dataset for Anscombe's quartet\n",
    "df = seaborn.load_dataset(\"anscombe\")\n",
    "\n",
    "df"
   ]
  },
  {
   "cell_type": "code",
   "execution_count": null,
   "id": "73c2e7d0",
   "metadata": {},
   "outputs": [],
   "source": [
    "df.groupby('dataset').agg(['min', 'mean', 'median', 'max', 'var'])"
   ]
  },
  {
   "cell_type": "code",
   "execution_count": null,
   "id": "ace370c0",
   "metadata": {},
   "outputs": [],
   "source": [
    "# Show the results of a linear regression within each dataset\n",
    "seaborn.lmplot(x=\"x\", y=\"y\", col=\"dataset\", hue=\"dataset\", data=df,\n",
    "           col_wrap=2, ci=None, palette=\"colorblind\", height=4,\n",
    "           scatter_kws={\"s\": 50, \"alpha\": 1})"
   ]
  },
  {
   "cell_type": "markdown",
   "id": "1d89a86f",
   "metadata": {},
   "source": [
    "What... just happened?\n",
    "\n",
    "Let's explore data visualization\n",
    "----------------------"
   ]
  },
  {
   "cell_type": "code",
   "execution_count": null,
   "id": "3dbbc053",
   "metadata": {},
   "outputs": [],
   "source": [
    "iris = seaborn.load_dataset('iris')\n",
    " \n",
    "seaborn.pairplot(data=iris, x_vars=[\"petal_width\"], y_vars=[\"petal_length\"], height=5)"
   ]
  },
  {
   "cell_type": "code",
   "execution_count": null,
   "id": "61d3c968",
   "metadata": {},
   "outputs": [],
   "source": [
    "help(seaborn.pairplot)"
   ]
  },
  {
   "cell_type": "markdown",
   "id": "349f4fdb",
   "metadata": {},
   "source": [
    "What are some types of visualization?\n",
    "----------------------------------------------------\n",
    "\n",
    "Hint: What happens if you go to https://seaborn.pydata.org/examples/index.html or type help(seaborn)?"
   ]
  },
  {
   "cell_type": "code",
   "execution_count": null,
   "id": "5a3c65ab",
   "metadata": {},
   "outputs": [],
   "source": [
    "# Let's explore seaborn"
   ]
  },
  {
   "cell_type": "markdown",
   "id": "28fab957",
   "metadata": {},
   "source": [
    "Lying with visualizations\n",
    "-------------------------\n",
    "\n",
    "Hint: https://uxdesign.cc/a-beginners-guide-to-identifying-misleading-data-visualizations-d82a93211ac6"
   ]
  },
  {
   "cell_type": "markdown",
   "id": "c3cf2f90",
   "metadata": {},
   "source": [
    "Being a good visualization creator\n",
    "----------------------------------\n",
    "\n",
    "* https://uxdesign.cc/how-to-design-data-visualizations-that-are-actually-valuable-e8b752835b9a\n",
    "* https://www.tableau.com/about/blog/examining-data-viz-rules-dont-use-red-green-together\n",
    "* https://seaborn.pydata.org/tutorial/color_palettes.html"
   ]
  }
 ],
 "metadata": {
  "kernelspec": {
   "display_name": "Python 3 (ipykernel)",
   "language": "python",
   "name": "python3"
  },
  "language_info": {
   "codemirror_mode": {
    "name": "ipython",
    "version": 3
   },
   "file_extension": ".py",
   "mimetype": "text/x-python",
   "name": "python",
   "nbconvert_exporter": "python",
   "pygments_lexer": "ipython3",
   "version": "3.9.7"
  }
 },
 "nbformat": 4,
 "nbformat_minor": 5
}
