{
 "cells": [
  {
   "cell_type": "markdown",
   "id": "71f10b3a",
   "metadata": {},
   "source": [
    "## Bayes' Rule reviewed \n",
    "\n",
    "Remember Monday, with the M&Ms? The complete worked additional example for cups with *4* M&Ms is now in the Day 25 notebook, so you can check your own math.\n",
    "\n",
    "$P(Y|X) = \\frac{P(Y)*P(X|Y)}{P(X)}$.\n",
    "\n",
    "* $P(Y|X)$ is the *posterior*\n",
    "* $P(Y)$ is the *prior*\n",
    "* $P(X|Y)$ is the *likelihood*\n",
    "* $P(X)$ is the *evidence* (or *normalization*)"
   ]
  },
  {
   "cell_type": "markdown",
   "id": "857c4a9b",
   "metadata": {},
   "source": [
    "## Fitting and predicting using Naive Bayes\n",
    "\n",
    "Let's imagine I have a very very large bag of M&Ms. Some of them are peanut, some raisin and some regular. I only like peanut M&Ms. The thing is, I'm in a dark room (or it's Halloween night) so I can only guess the type of the M&M by feel. I repeatedly reach into the bag, grab one M&M and then either eat it or do not eat it. This gives the dataset below:\n",
    "\n",
    "| Candy | Outcome |\n",
    "| ----- | ---- |\n",
    "| peanut M&M | ate it |\n",
    "| peanut M&M | ate it |\n",
    "| peanut M&M | ate it |\n",
    "| raisin M&M | did not eat it |\n",
    "| raisin M&M | ate it |\n",
    "| regular M&M | did not eat it |\n",
    "| peanut M&M | did not eat it |\n",
    "| regular M&M | did not eat it |\n",
    "| raisin M&M | did not eat it |\n",
    "| raisin M&M | did not eat it |"
   ]
  },
  {
   "cell_type": "markdown",
   "id": "59c8ec9d",
   "metadata": {},
   "source": [
    "Side note: we typically convert qualitative values to numbers for machine learning; it enables us to use all the power of numpy, at some cost in readability to humans. I'm not going to do this today, for readability to us, but on Friday we'll be back to 'numeric' representation of features.\n",
    "\n",
    "We want to fit a model that will tell us the probability that we ate it (or did not eat it) given the type of candy it is. We can do that by calculating:\n",
    "* The prior that we ate it (or did not eat it)\n",
    "* The likelihood of the type of candy given that we ate it (or did not eat it) \n"
   ]
  },
  {
   "cell_type": "markdown",
   "id": "47f26914",
   "metadata": {},
   "source": [
    "__Fit__\n",
    "\n",
    "A table of counts might help. Fill this in!:\n",
    "\n",
    "| Outcome | Peanut M&M | Regular M&M | Raisin M&M | Total |\n",
    "| -------- | ------- | ---------- | ------------ | ------- |\n",
    "| Ate it         | 3 | 0 | 1 | 4 |\n",
    "| Did not eat it | 1 | 2 | 3 | 6 |\n",
    "| Total |  4 | 2 | 4 | 10 |\n",
    "\n",
    "* Calculate the prior for *ate it* and the prior for *did not eat it*: $P(ate it) = 4/10$; $P(did not eat it) = 6/10$\n",
    "* Calculate the likelihood of *peanut M&M* given *ate it*, of *regular M&M* given *ate it*, of *raisin M&M* given *ate it* and of each type of M&M given *did not eat it*: $P(X|Y) \\sim \\frac{|X \\& Y|}{|Y|}$ \n",
    "\n",
    "| Y | Peanut M&M | Regular M&M | Raisin M&M |\n",
    "| -------- | ------- | ---------- | ------------ |\n",
    "| Ate it         | 3/4 | 0 | 1/4 |\n",
    "| Did not eat it | 1/6 | 2/6 | 3/6 |\n",
    "\n",
    "\n",
    "Store both sets of values."
   ]
  },
  {
   "cell_type": "markdown",
   "id": "84203d0a",
   "metadata": {},
   "source": [
    "__Predict__\n",
    "\n",
    "Given a new observation, *peanut M&M*, what is my most likely behavior?\n",
    "\n",
    "* Compare $P(ate it|peanut M\\&M)$ and $P(did not eat it|peanut M\\&M)$. \n",
    "\n"
   ]
  },
  {
   "cell_type": "markdown",
   "id": "290f227f",
   "metadata": {},
   "source": [
    "$P(ate it|peanut M\\&M) = \\frac{P(ate it)*P(peanut M\\&M|ate it)}{P(peanut M\\&M)}$\n",
    "\n",
    "$P(did not eat it|peanut M\\&M) = \\frac{P(did not eat it)*P(peanut M\\&M|did not eat it))}{P(peanut M\\&M)}$\n",
    "\n",
    "Since $P(peanut M\\&M)$ is in the denominator in both cases, we can ignore it completely for the comparison. So we only need the prior and the likelihood, both of which we calculated during __fit__.\n",
    "* $P(ate it|peanut M\\&M) = 4/10*3/4 = 3/10$\n",
    "* $P(did not eat it|peanut M\\&M) = 6/10*1/6 = 1/10$\n",
    "\n",
    "Which is higher?\n",
    "\n",
    "The Naive Bayes \"predict formula\" is $argmax_Y P(Y)*P(X|Y)$."
   ]
  },
  {
   "cell_type": "markdown",
   "id": "d8c122d3",
   "metadata": {},
   "source": [
    "### Score\n",
    "\n",
    "Let's say I have the test data below:\n",
    "\n",
    "| Candy | Outcome |\n",
    "| ----- | ---- |\n",
    "| peanut M&M | did not eat it |\n",
    "| peanut M&M | ate it |\n",
    "| raisin M&M | did not eat it |\n",
    "| raisin M&M | ate it |\n",
    "| regular M&M | did not eat it |"
   ]
  },
  {
   "cell_type": "markdown",
   "id": "eaa6faa9",
   "metadata": {},
   "source": [
    "* Does this data include all my labels?\n",
    "* Does this data include all possible values for my one independent variable?\n",
    "\n",
    "How well does my Naive Bayes model perform on this test data? \n",
    "\n",
    "| Y | X | P(ate it)\\*P(X\\|ate it) | P(did not eat it)\\*P(X\\|did not eat it) | Yhat |\n",
    "| --- | --- | --- | --- | --- |\n",
    "| did not eat it | peanut M&M | 2/5*3/4 | 3/5*1/6  | ate it |\n",
    "| ate it | peanut M&M | 2/5*3/4 | 3/5*1/6  | ate it  |\n",
    "| did not eat it | raisin M&M | 2/5*1/4 | 3/5*3/6 | did not eat it |\n",
    "| ate it | raisin M&M | 2/5*1/4  | 3/5*3/6 | did not eat it  |\n",
    "| did not eat it | regular M&M | 2/5*0  | 3/5*2/6  | did not eat it |"
   ]
  },
  {
   "cell_type": "markdown",
   "id": "042ef828",
   "metadata": {},
   "source": [
    "Based on this test data:\n",
    "* What is the accuracy? 6/10\n",
    "* What is the confusion matrix?\n",
    "\n",
    "|  | ate it | did not eat it |\n",
    "| -- | --- | ---- |\n",
    "| ate it | 1 | 1 |\n",
    "| did not eat it | 1 | 2 |"
   ]
  }
 ],
 "metadata": {
  "kernelspec": {
   "display_name": "Python 3 (ipykernel)",
   "language": "python",
   "name": "python3"
  },
  "language_info": {
   "codemirror_mode": {
    "name": "ipython",
    "version": 3
   },
   "file_extension": ".py",
   "mimetype": "text/x-python",
   "name": "python",
   "nbconvert_exporter": "python",
   "pygments_lexer": "ipython3",
   "version": "3.9.7"
  }
 },
 "nbformat": 4,
 "nbformat_minor": 5
}
