{
 "cells": [
  {
   "cell_type": "code",
   "execution_count": null,
   "id": "b18d797c",
   "metadata": {},
   "outputs": [],
   "source": [
    "import numpy as np\n",
    "from mpl_toolkits import mplot3d\n",
    "import matplotlib.pyplot as plt"
   ]
  },
  {
   "cell_type": "markdown",
   "id": "2a102d18",
   "metadata": {},
   "source": [
    "What about 3D translation, scaling, and rotations?\n",
    "\n",
    "3D translations are easy: 4x4 identity matrix (incl homogenous coordinate), with translations assigned to last column; last column's ith value operates on ith column of input.\n",
    "\n",
    "3D scaling is also easy: 4x4 matrix (incl homogenous coordinate), with scaling for ith dimension assigned to the (i,i)th value; (i, i)th value operates on ith column of input.\n",
    "\n",
    "3D rotations are harder. See below!\n"
   ]
  },
  {
   "cell_type": "code",
   "execution_count": null,
   "id": "bfb0ffa5",
   "metadata": {},
   "outputs": [],
   "source": [
    "# yaw\n",
    "def rotateTransformX(x):\n",
    "    return np.array([1, 0, 0, 0, np.cos(np.radians(x)), -np.sin(np.radians(x)), 0, np.sin(np.radians(x)), np.cos(np.radians(x))]).reshape(3, 3)\n",
    "\n",
    "# pitch\n",
    "def rotateTransformY(y):\n",
    "    return np.array([np.cos(np.radians(y)), 0, np.sin(np.radians(y)), 0, 1, 0, -np.sin(np.radians(y)), 0, np.cos(np.radians(y))]).reshape(3, 3)\n",
    "\n",
    "# roll\n",
    "def rotateTransformZ(z):\n",
    "    return np.array([np.cos(np.radians(z)), -np.sin(np.radians(z)), 0, np.sin(np.radians(z)), np.cos(np.radians(z)), 0, 0, 0, 1]).reshape(3, 3)"
   ]
  },
  {
   "cell_type": "code",
   "execution_count": null,
   "id": "3792f901",
   "metadata": {},
   "outputs": [],
   "source": [
    "data = np.array([[1,3,1], [3,1,1], [1,1,1], [1,3,3]])"
   ]
  },
  {
   "cell_type": "code",
   "execution_count": null,
   "id": "f8fcad00",
   "metadata": {},
   "outputs": [],
   "source": [
    "# %matplotlib notebook\n",
    " \n",
    "# Create Figure\n",
    "\n",
    "def makePlot(data):\n",
    "    fig = plt.figure()\n",
    "    ax = plt.axes(projection =\"3d\")\n",
    "    colors = ['red', 'yellow', 'blue', 'black']\n",
    "    # Create Plot\n",
    "    for i in range(0, 3):\n",
    "        ax.scatter3D(data[i, 0], data[i, 1], data[i, 2], color=colors[i])\n",
    "        # Add line\n",
    "        ax.plot3D(data[:, 0], data[:, 1], data[:, 2])\n",
    "    # Add axis labels\n",
    "    ax.set_xlabel('X-axis')\n",
    "    ax.set_ylabel('Y-axis')\n",
    "    ax.set_zlabel('Z-axis')\n",
    "    # Show plot\n",
    "    plt.show()"
   ]
  },
  {
   "cell_type": "code",
   "execution_count": null,
   "id": "5d9dacff",
   "metadata": {},
   "outputs": [],
   "source": [
    "makePlot(data)\n",
    "for degrees in [45, 90, 135, 180, 225, 270, 315, 360]:\n",
    "    transformMatrix = rotateTransformX(degrees)\n",
    "    newData = (transformMatrix@data.T).T\n",
    "    makePlot(newData)"
   ]
  },
  {
   "cell_type": "code",
   "execution_count": null,
   "id": "eea3fe90",
   "metadata": {},
   "outputs": [],
   "source": [
    "makePlot(data)\n",
    "for degrees in [45, 90, 135, 180, 225, 270, 315, 360]:\n",
    "    transformMatrix = rotateTransformY(degrees)\n",
    "    newData = (transformMatrix@data.T).T\n",
    "    makePlot(newData)"
   ]
  },
  {
   "cell_type": "code",
   "execution_count": null,
   "id": "3901501e",
   "metadata": {},
   "outputs": [],
   "source": [
    "makePlot(data)\n",
    "for degrees in [45, 90, 135, 180, 225, 270, 315, 360]:\n",
    "    transformMatrix = rotateTransformZ(degrees)\n",
    "    newData = (transformMatrix@data.T).T\n",
    "    makePlot(newData)"
   ]
  },
  {
   "cell_type": "markdown",
   "id": "d630cb30",
   "metadata": {},
   "source": [
    "How do we do rotate *around a point*? We translate, rotate, and then translate back. We will need to add our homogenous coordinate because we will be translating."
   ]
  }
 ],
 "metadata": {
  "kernelspec": {
   "display_name": "Python 3 (ipykernel)",
   "language": "python",
   "name": "python3"
  },
  "language_info": {
   "codemirror_mode": {
    "name": "ipython",
    "version": 3
   },
   "file_extension": ".py",
   "mimetype": "text/x-python",
   "name": "python",
   "nbconvert_exporter": "python",
   "pygments_lexer": "ipython3",
   "version": "3.9.7"
  }
 },
 "nbformat": 4,
 "nbformat_minor": 5
}
