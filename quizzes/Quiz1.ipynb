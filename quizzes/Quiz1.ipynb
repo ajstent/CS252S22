{
 "cells": [
  {
   "cell_type": "code",
   "execution_count": null,
   "id": "4a78c818",
   "metadata": {},
   "outputs": [],
   "source": [
    "import numpy as np"
   ]
  },
  {
   "cell_type": "code",
   "execution_count": null,
   "id": "6ded701a",
   "metadata": {},
   "outputs": [],
   "source": [
    "# For this quiz we will use this dataset: https://archive.ics.uci.edu/ml/datasets/HCV+data\n",
    "# I'm going to load this data for us\n",
    "data = np.genfromtxt('data/hcvdat0.csv', delimiter=',', skip_header=1, usecols=(1,2,3,4,5,6,7,8,9,10,11,12,13), converters={1: lambda x: float(x[1]), 3: lambda x: 1.0 if x[1] == 'm' else 0.0}, encoding=None)"
   ]
  },
  {
   "cell_type": "code",
   "execution_count": null,
   "id": "a8c1a53f",
   "metadata": {},
   "outputs": [],
   "source": [
    "# 1. How many data points are in the data? "
   ]
  },
  {
   "cell_type": "code",
   "execution_count": null,
   "id": "163dece4",
   "metadata": {},
   "outputs": [],
   "source": [
    "# 2. what is the type of the data (ie the dtype, eg int or float)?"
   ]
  },
  {
   "cell_type": "code",
   "execution_count": null,
   "id": "da3ee0a0",
   "metadata": {},
   "outputs": [],
   "source": [
    "# 3. How many variables / features does each data point have?"
   ]
  },
  {
   "cell_type": "code",
   "execution_count": null,
   "id": "69f00b0e",
   "metadata": {},
   "outputs": [],
   "source": [
    "# 4. What is the value of the 4th variable (feature) for the 10th data point, ie the value at 10, 3)?"
   ]
  },
  {
   "cell_type": "code",
   "execution_count": null,
   "id": "b5e31e0d",
   "metadata": {},
   "outputs": [],
   "source": [
    "# 5. What is the whole of the 21st row, ie the one indexed at 20?"
   ]
  },
  {
   "cell_type": "code",
   "execution_count": null,
   "id": "0728dc08",
   "metadata": {},
   "outputs": [],
   "source": [
    "# 6. What is the whole of the 12th column, ie the one indexed at 11?"
   ]
  },
  {
   "cell_type": "code",
   "execution_count": null,
   "id": "92abe371",
   "metadata": {},
   "outputs": [],
   "source": [
    "# 7. what is the maximum value of the second column of the data (meaning the one indexed 1, age)"
   ]
  },
  {
   "cell_type": "code",
   "execution_count": null,
   "id": "430bb6e2",
   "metadata": {},
   "outputs": [],
   "source": [
    "# 8. what is the minimum value of the second column of the data?"
   ]
  },
  {
   "cell_type": "code",
   "execution_count": null,
   "id": "9322a913",
   "metadata": {},
   "outputs": [],
   "source": [
    "# 9. let's plot a histogram of the column corresponding to diagnosis; how healthy overall are these people?\n",
    "\n",
    "import pandas as pd\n",
    "import seaborn as sns\n",
    "\n",
    "df = pd.DataFrame(data)\n",
    "# plot!"
   ]
  },
  {
   "cell_type": "code",
   "execution_count": null,
   "id": "dc9f500e",
   "metadata": {},
   "outputs": [],
   "source": [
    "# 10. let's plot a scatterplot of the column corresponding to age against GGT; is there any relationship?"
   ]
  }
 ],
 "metadata": {
  "kernelspec": {
   "display_name": "Python 3 (ipykernel)",
   "language": "python",
   "name": "python3"
  },
  "language_info": {
   "codemirror_mode": {
    "name": "ipython",
    "version": 3
   },
   "file_extension": ".py",
   "mimetype": "text/x-python",
   "name": "python",
   "nbconvert_exporter": "python",
   "pygments_lexer": "ipython3",
   "version": "3.9.7"
  }
 },
 "nbformat": 4,
 "nbformat_minor": 5
}
