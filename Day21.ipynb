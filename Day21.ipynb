{
 "cells": [
  {
   "cell_type": "code",
   "execution_count": null,
   "id": "10c79c10",
   "metadata": {},
   "outputs": [],
   "source": [
    "import numpy as np\n",
    "import matplotlib.pyplot as plt"
   ]
  },
  {
   "attachments": {},
   "cell_type": "markdown",
   "id": "ed6a924e",
   "metadata": {},
   "source": [
    "# The One Goal For Today\n",
    "\n",
    "To understand how k means clustering works.\n"
   ]
  },
  {
   "cell_type": "markdown",
   "id": "ed6f370b",
   "metadata": {},
   "source": [
    "# Clustering\n",
    "\n",
    "Clustering algorithms separate a data set into groups, or clusters, that are near each other (similar to each other) using a distance metric we choose or define.\n",
    "\n",
    "When we fit a regression model, we know the dependent variable - the label, the answer. When we cluster, we don't. Clustering is therefore an *unsupervised* method, although we as data scientists can make all kinds of decisions to influence it.\n"
   ]
  },
  {
   "attachments": {},
   "cell_type": "markdown",
   "id": "77e372ca",
   "metadata": {},
   "source": [
    "# K-means clustering\n",
    "\n",
    "K-means clustering is one clustering algorithm. It divides the data into $k$ clusters. Each cluster has a *centroid*, or central point (or \"mean\"). \n",
    "\n",
    "## What we want to optimize\n",
    "\n",
    "The points in the dataset are assigned to their closest centroid. In other words, we want to minimize the distances between data points and the centroids they are assigned to, across the whole data set. We want to minimize the *inertia*:\n",
    "$1/N \\sum_{j=1}^N d(\\vec{x_j}, \\vec{m_{\\vec{x_j}}})^2$, where $\\vec{m_{x_j}}$ is the centroid of the cluster that $x_j$ is currently assigned to, and $d$ is your chosen distance metric.\n",
    "\n",
    "*What does this look like?*\n",
    "\n",
    "## The algorithm\n",
    "\n",
    "To make this computationally efficient, we calculate an approximate solution by iteration:\n",
    "1. Pick initial centroids.\n",
    "2. For step in range(max_steps):\n",
    "   1. Assign each point to its closest centroid.\n",
    "   2. Pick new centroids using the members in each cluster. If the centroids don't change, then return."
   ]
  },
  {
   "attachments": {},
   "cell_type": "markdown",
   "id": "db0bb4e0",
   "metadata": {},
   "source": [
    "*Is this guaranteed to converge?*"
   ]
  },
  {
   "cell_type": "markdown",
   "id": "f05f5ac1",
   "metadata": {},
   "source": [
    "## The 'hyperparameters'\n",
    "\n",
    "Things a data scientist can do to influence the k-means clustering (by __looking at the data__):\n",
    "* choose distance metric\n",
    "* choose $k$\n",
    "* choose starting points, or subset of data from which starting points should come"
   ]
  },
  {
   "cell_type": "code",
   "execution_count": null,
   "id": "18d422dc",
   "metadata": {},
   "outputs": [],
   "source": [
    "# Let's define a distance metric; which one is this??\n",
    "def distance(a, b):\n",
    "    # take the difference of the two data points\n",
    "    subtracted = a-b\n",
    "    # returns of the sqrt of the sum of each of the elements squared = euclidean distance\n",
    "    return np.sqrt(np.dot(subtracted.T, subtracted))"
   ]
  },
  {
   "cell_type": "code",
   "execution_count": null,
   "id": "4a3a6e93",
   "metadata": {},
   "outputs": [],
   "source": [
    "# Let's define a function to calculate the distance from each data point to each centroid\n",
    "def get_distances(item, centroids):\n",
    "    # gets the distance between this item and each centroid\n",
    "    distances = [distance(item, centroid) for centroid in centroids]\n",
    "    # returns the distances\n",
    "    return distances\n",
    "\n",
    "# Let's define a function to update cluster assignments given a set of centroids\n",
    "def update_clusters(data, centroids):\n",
    "    # list of data points, list of centroids\n",
    "    # map a centroid index to a list of data points\n",
    "    clusters = {}\n",
    "    # map a data point index to a centroid index\n",
    "    mappings = {}\n",
    "    # for the index of each centroid\n",
    "    for i, x in enumerate(centroids):\n",
    "        # set its cluster members to the empty list\n",
    "        clusters[i] = []\n",
    "    # for each data point\n",
    "    for j, datum in enumerate(data):\n",
    "        # figure out the distances between that data point and each centroid ***in order***\n",
    "        distances = get_distances(datum, centroids)\n",
    "        # find the index of the smallest distance = the index of the centroid with the smallest distance to this data point\n",
    "        min_cluster_index = np.argmin(distances)\n",
    "        # add this data point to that centroid's cluster\n",
    "        clusters[min_cluster_index].append(datum)\n",
    "        # set the centroid for this data point to be that centroid's index\n",
    "        mappings[j] = min_cluster_index\n",
    "    return clusters, mappings"
   ]
  },
  {
   "cell_type": "code",
   "execution_count": null,
   "id": "1af2c9b6",
   "metadata": {},
   "outputs": [],
   "source": [
    "# Let's define a function to update the centroids; data is a list of data points; clusters is a dictionary of centroid->datapoints mappings\n",
    "def update_centroids(clusters):\n",
    "    # set centroids to empty list\n",
    "    centroids = []\n",
    "    # for each set of data points in a cluster around a single centroid\n",
    "    for data_in_cluster in clusters.values():\n",
    "        # new centroid is the mean of that cluster\n",
    "        centroids.append(np.mean(data_in_cluster, axis=0))\n",
    "    return centroids"
   ]
  },
  {
   "cell_type": "code",
   "execution_count": null,
   "id": "4b915fc6",
   "metadata": {},
   "outputs": [],
   "source": [
    "# Let's define a function to measure the inertia\n",
    "def inertia(data, centroids, clusters):\n",
    "    sum = 0\n",
    "    for i in clusters.keys():\n",
    "        # get the centroid\n",
    "        centroid = centroids[i]\n",
    "        # get each data point\n",
    "        for datum in clusters[i]:\n",
    "            # calculate the distance squared\n",
    "            sum += distance(datum, centroid)**2\n",
    "    # average over the data\n",
    "    return sum / len(data)"
   ]
  },
  {
   "cell_type": "markdown",
   "id": "7e471169",
   "metadata": {},
   "source": [
    "## Let's try it on some toy data!"
   ]
  },
  {
   "cell_type": "code",
   "execution_count": null,
   "id": "d5dbe23b",
   "metadata": {},
   "outputs": [],
   "source": [
    "# Let's get some toy data\n",
    "data = np.array([[1, 1], [2, 0.5], [1.5, 2], [3, 1.5], [3.5, 1.75], [4, 3.6], [4.25, 4], [5, 3.5]])\n",
    "\n",
    "# Let's look at the data\n",
    "plt.scatter(data[:, 0], data[:, 1])\n",
    "plt.show()"
   ]
  },
  {
   "cell_type": "code",
   "execution_count": null,
   "id": "427c2753",
   "metadata": {},
   "outputs": [],
   "source": [
    "def plot_clusters(data, mappings, centroids):\n",
    "    plt.scatter(data[:, 0], data[:, 1], c=list(mappings.values()))\n",
    "    print(centroids)\n",
    "    for i, centroid in enumerate(centroids):\n",
    "        plt.scatter(centroid[0], centroid[1], marker=i)\n",
    "    plt.show()"
   ]
  },
  {
   "cell_type": "code",
   "execution_count": null,
   "id": "047d929c",
   "metadata": {},
   "outputs": [],
   "source": [
    "# Let's pick k = 2\n",
    "k = 2\n",
    "\n",
    "# Let's pick k points to be centroids, at random\n",
    "centroidids = np.random.choice(np.arange(len(data)), size=k, replace=False)\n",
    "centroids = [data[x] for x in centroidids]\n",
    "print(\"initial centroids\")\n",
    "print(centroids)\n",
    "\n",
    "# Initially, only the centroids are in any cluster\n",
    "clusters, mappings = update_clusters(data, centroids)\n",
    "print(clusters)\n",
    "plot_clusters(data, mappings, centroids)"
   ]
  },
  {
   "cell_type": "code",
   "execution_count": null,
   "id": "8f7bd224",
   "metadata": {},
   "outputs": [],
   "source": [
    "# Let's loop over updating the centroids and plotting\n",
    "while input() != 'stop':\n",
    "    centroids = update_centroids(clusters)\n",
    "    print(centroids)\n",
    "    clusters, mappings = update_clusters(data, centroids)\n",
    "    print(clusters)\n",
    "    print(inertia(data, centroids, clusters))\n",
    "    plot_clusters(data, mappings, centroids)"
   ]
  },
  {
   "cell_type": "markdown",
   "id": "1594f75e",
   "metadata": {},
   "source": [
    "## Choosing k\n",
    "\n",
    "K nearest neighbors can be frustrating, especially with high dimensional data, because you have to choose a value for k. How can you do it, if you can't visualize all the data?\n",
    "\n",
    "You can inspect an elbow plot of inertia against k, starting with a small k and increasing.\n",
    "\n",
    "Even if you use this method, it's still important to __look at your data__."
   ]
  },
  {
   "cell_type": "markdown",
   "id": "8130dd92",
   "metadata": {},
   "source": [
    "## Resources\n",
    "* For a list of lots of clustering algorithms, see https://scikit-learn.org/stable/modules/clustering.html"
   ]
  }
 ],
 "metadata": {
  "kernelspec": {
   "display_name": "Python 3 (ipykernel)",
   "language": "python",
   "name": "python3"
  },
  "language_info": {
   "codemirror_mode": {
    "name": "ipython",
    "version": 3
   },
   "file_extension": ".py",
   "mimetype": "text/x-python",
   "name": "python",
   "nbconvert_exporter": "python",
   "pygments_lexer": "ipython3",
   "version": "3.10.4"
  }
 },
 "nbformat": 4,
 "nbformat_minor": 5
}
