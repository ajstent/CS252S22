{
 "cells": [
  {
   "cell_type": "markdown",
   "id": "e16737ff",
   "metadata": {},
   "source": [
    "# RBF Networks for Clustering\n",
    "\n",
    "\n",
    "What if we don't have labels, and we just want to uncover structure in the data?\n",
    "\n",
    "Well of course we can do that using k-means clustering, but we can also do it using a biologically-inspired method called Hebbian learning that in some ways resembles RBF networks.\n",
    "\n",
    "## Acknowledgments\n",
    "\n",
    "This whole lecture is courtesy of Oliver Layton."
   ]
  },
  {
   "cell_type": "code",
   "execution_count": 1,
   "id": "6bbf6766",
   "metadata": {},
   "outputs": [],
   "source": [
    "import numpy as np\n",
    "import matplotlib.pyplot as plt\n",
    "import pandas as pd\n",
    "import seaborn as sns"
   ]
  },
  {
   "cell_type": "markdown",
   "id": "87e59f1d",
   "metadata": {},
   "source": [
    "# Do Hebbian Learning \n",
    "\n",
    "We will do this with a no-hidden-layer network.\n",
    "* The input layer has one node for each variable (feature) in the input data\n",
    "* The output layer has one node, which outputs its activation based on the input data and the edge weights\n",
    "* There is no bias node\n",
    "* We initialize the edge weights at random\n",
    "* We update the edge weights $w_i$ using Hebb's rule: $w_j(T) = w_j(T-1) + \\eta x_{ij} z_i$, where $z_i$ is the activation output for data point $\\vec{x_i}$ and $\\eta$ is a small update factor (learning rate)\n",
    "  * $x_{ij} z_i$ updates the weights based on the correlation between $x_{ij}$ and $z_i$; if they are both positive / negative, then $w_j$ increases from time $T-1$ to time $T$; else it decreases\n",
    "  * Hebb's rule applied naively leads to weights that increase without bound\n",
    "  * We use Oja's rule to correct: $w_j(T) = w_j(T-1) + \\eta x_{ij} z_i - \\eta x_{ij} {z_i}^2 = w_j(T-1) + \\eta z_i(x_{ij} - {z_i})$\n",
    "\n",
    "The goal in Hebbian learning is to learn weights based on training samples that represent key patterns in the training data."
   ]
  },
  {
   "cell_type": "code",
   "execution_count": 2,
   "id": "795ee397",
   "metadata": {},
   "outputs": [],
   "source": [
    "def fit(data, eta=0.01, n_epochs=150):\n",
    "    '''Do Hebbian learning on the data samples (using Oja's Rule) and learning rate of `eta`.\n",
    "\n",
    "    Parameters:\n",
    "    -----------\n",
    "    data: ndarray. shape=(N, M)\n",
    "        Data samples\n",
    "    eta: float.\n",
    "        Learning rate for weight update\n",
    "    n_epochs: int.\n",
    "        Number of epochs to train (i.e. number of passes/presentations of data the the network)\n",
    "\n",
    "    Returns:\n",
    "    -----------\n",
    "    wts. ndarray. shape=(M,).\n",
    "        The learned network weights\n",
    "    '''\n",
    "    # Number of data pts and features\n",
    "    N, M = data.shape\n",
    "\n",
    "    # Initialize weights randomly, centered at 0\n",
    "    wts = 0.1*np.random.rand(M) - 0.1/2\n",
    "    prev_wts = wts + 1\n",
    "\n",
    "    # Do `n_epochs` passes through the data\n",
    "    for j in range(n_epochs):\n",
    "        print('weights at epoch', str(j), ':\\n', wts)\n",
    "        if np.array_equal(wts, prev_wts):\n",
    "            return wts\n",
    "        prev_wts = wts\n",
    "        # Train by processing each sample\n",
    "        for i in range(N):\n",
    "            # Sample x_i\n",
    "            xi = data[i]\n",
    "\n",
    "            # Network output\n",
    "            zi = xi @ wts\n",
    "\n",
    "            # Update wts via Hebbian Learning\n",
    "            wts = wts + eta*zi*(xi - zi*wts)\n",
    "    return wts"
   ]
  },
  {
   "cell_type": "markdown",
   "id": "5e68e75f",
   "metadata": {},
   "source": [
    "# Predict\n",
    "\n",
    "To predict, we would just multiply new data points by the learned weights to get the activation of this network for those new data points."
   ]
  },
  {
   "cell_type": "code",
   "execution_count": 3,
   "id": "4d935137",
   "metadata": {},
   "outputs": [],
   "source": [
    "def predict(data, weights):\n",
    "    return data @ weights"
   ]
  },
  {
   "cell_type": "markdown",
   "id": "6a87eab8",
   "metadata": {},
   "source": [
    "Let's do Hebbian learning on a random data set."
   ]
  },
  {
   "cell_type": "code",
   "execution_count": 4,
   "id": "ae6de0fe",
   "metadata": {},
   "outputs": [
    {
     "name": "stdout",
     "output_type": "stream",
     "text": [
      "weights at epoch 0 :\n",
      " [ 0.04619364 -0.02078525]\n",
      "weights at epoch 1 :\n",
      " [ 0.04753693 -0.02070645]\n",
      "weights at epoch 2 :\n",
      " [ 0.04893277 -0.02059756]\n",
      "weights at epoch 3 :\n",
      " [ 0.05038372 -0.02045632]\n",
      "weights at epoch 4 :\n",
      " [ 0.05189249 -0.02028031]\n",
      "weights at epoch 5 :\n",
      " [ 0.05346195 -0.02006695]\n",
      "weights at epoch 6 :\n",
      " [ 0.05509512 -0.01981351]\n",
      "weights at epoch 7 :\n",
      " [ 0.05679518 -0.0195171 ]\n",
      "weights at epoch 8 :\n",
      " [ 0.05856548 -0.01917462]\n",
      "weights at epoch 9 :\n",
      " [ 0.06040956 -0.01878281]\n",
      "weights at epoch 10 :\n",
      " [ 0.06233114 -0.01833819]\n",
      "weights at epoch 11 :\n",
      " [ 0.06433415 -0.01783706]\n",
      "weights at epoch 12 :\n",
      " [ 0.06642273 -0.0172755 ]\n",
      "weights at epoch 13 :\n",
      " [ 0.06860124 -0.01664936]\n",
      "weights at epoch 14 :\n",
      " [ 0.07087429 -0.01595423]\n",
      "weights at epoch 15 :\n",
      " [ 0.0732467  -0.01518542]\n",
      "weights at epoch 16 :\n",
      " [ 0.07572358 -0.01433797]\n",
      "weights at epoch 17 :\n",
      " [ 0.07831028 -0.01340663]\n",
      "weights at epoch 18 :\n",
      " [ 0.08101247 -0.01238582]\n",
      "weights at epoch 19 :\n",
      " [ 0.08383608 -0.01126964]\n",
      "weights at epoch 20 :\n",
      " [ 0.08678734 -0.01005182]\n",
      "weights at epoch 21 :\n",
      " [ 0.08987284 -0.00872576]\n",
      "weights at epoch 22 :\n",
      " [ 0.09309946 -0.00728445]\n",
      "weights at epoch 23 :\n",
      " [ 0.09647445 -0.00572047]\n",
      "weights at epoch 24 :\n",
      " [ 0.10000538 -0.00402601]\n",
      "weights at epoch 25 :\n",
      " [ 0.10370023 -0.00219279]\n",
      "weights at epoch 26 :\n",
      " [ 0.10756731 -0.00021208]\n",
      "weights at epoch 27 :\n",
      " [0.11161535 0.00192532]\n",
      "weights at epoch 28 :\n",
      " [0.11585343 0.00422913]\n",
      "weights at epoch 29 :\n",
      " [0.12029106 0.00670957]\n",
      "weights at epoch 30 :\n",
      " [0.12493811 0.00937737]\n",
      "weights at epoch 31 :\n",
      " [0.12980486 0.01224384]\n",
      "weights at epoch 32 :\n",
      " [0.13490197 0.01532083]\n",
      "weights at epoch 33 :\n",
      " [0.14024046 0.01862073]\n",
      "weights at epoch 34 :\n",
      " [0.14583173 0.02215654]\n",
      "weights at epoch 35 :\n",
      " [0.15168747 0.02594179]\n",
      "weights at epoch 36 :\n",
      " [0.1578197  0.02999058]\n",
      "weights at epoch 37 :\n",
      " [0.16424065 0.03431755]\n",
      "weights at epoch 38 :\n",
      " [0.17096278 0.03893787]\n",
      "weights at epoch 39 :\n",
      " [0.17799863 0.04386718]\n",
      "weights at epoch 40 :\n",
      " [0.18536081 0.04912155]\n",
      "weights at epoch 41 :\n",
      " [0.19306184 0.05471744]\n",
      "weights at epoch 42 :\n",
      " [0.20111404 0.06067155]\n",
      "weights at epoch 43 :\n",
      " [0.20952939 0.06700083]\n",
      "weights at epoch 44 :\n",
      " [0.21831936 0.07372222]\n",
      "weights at epoch 45 :\n",
      " [0.22749468 0.08085259]\n",
      "weights at epoch 46 :\n",
      " [0.23706514 0.08840854]\n",
      "weights at epoch 47 :\n",
      " [0.24703931 0.09640614]\n",
      "weights at epoch 48 :\n",
      " [0.25742423 0.10486071]\n",
      "weights at epoch 49 :\n",
      " [0.26822512 0.11378653]\n",
      "weights at epoch 50 :\n",
      " [0.27944496 0.12319646]\n",
      "weights at epoch 51 :\n",
      " [0.29108413 0.13310165]\n",
      "weights at epoch 52 :\n",
      " [0.30313999 0.14351104]\n",
      "weights at epoch 53 :\n",
      " [0.31560641 0.15443094]\n",
      "weights at epoch 54 :\n",
      " [0.32847336 0.16586456]\n",
      "weights at epoch 55 :\n",
      " [0.34172642 0.17781147]\n",
      "weights at epoch 56 :\n",
      " [0.35534638 0.19026711]\n",
      "weights at epoch 57 :\n",
      " [0.36930884 0.20322228]\n",
      "weights at epoch 58 :\n",
      " [0.38358387 0.2166626 ]\n",
      "weights at epoch 59 :\n",
      " [0.3981358  0.23056812]\n",
      "weights at epoch 60 :\n",
      " [0.4129231  0.24491293]\n",
      "weights at epoch 61 :\n",
      " [0.42789838 0.25966491]\n",
      "weights at epoch 62 :\n",
      " [0.44300861 0.27478558]\n",
      "weights at epoch 63 :\n",
      " [0.45819549 0.29023018]\n",
      "weights at epoch 64 :\n",
      " [0.4733961  0.30594784]\n",
      "weights at epoch 65 :\n",
      " [0.48854367 0.32188207]\n",
      "weights at epoch 66 :\n",
      " [0.50356861 0.33797142]\n",
      "weights at epoch 67 :\n",
      " [0.51839977 0.35415028]\n",
      "weights at epoch 68 :\n",
      " [0.53296574 0.37035004]\n",
      "weights at epoch 69 :\n",
      " [0.54719636 0.38650026]\n",
      "weights at epoch 70 :\n",
      " [0.56102422 0.40253007]\n",
      "weights at epoch 71 :\n",
      " [0.5743861  0.41836957]\n",
      "weights at epoch 72 :\n",
      " [0.5872244 0.4339513]\n",
      "weights at epoch 73 :\n",
      " [0.5994883  0.44921154]\n",
      "weights at epoch 74 :\n",
      " [0.61113479 0.46409161]\n",
      "weights at epoch 75 :\n",
      " [0.62212933 0.47853888]\n",
      "weights at epoch 76 :\n",
      " [0.63244631 0.49250763]\n",
      "weights at epoch 77 :\n",
      " [0.64206917 0.5059596 ]\n",
      "weights at epoch 78 :\n",
      " [0.65099015 0.51886428]\n",
      "weights at epoch 79 :\n",
      " [0.65920995 0.53119901]\n",
      "weights at epoch 80 :\n",
      " [0.66673699 0.54294874]\n",
      "weights at epoch 81 :\n",
      " [0.67358664 0.55410566]\n",
      "weights at epoch 82 :\n",
      " [0.67978024 0.56466861]\n",
      "weights at epoch 83 :\n",
      " [0.68534408 0.57464243]\n",
      "weights at epoch 84 :\n",
      " [0.69030843 0.58403719]\n",
      "weights at epoch 85 :\n",
      " [0.6947065  0.59286737]\n",
      "weights at epoch 86 :\n",
      " [0.69857352 0.60115107]\n",
      "weights at epoch 87 :\n",
      " [0.7019459  0.60890925]\n",
      "weights at epoch 88 :\n",
      " [0.70486048 0.616165  ]\n",
      "weights at epoch 89 :\n",
      " [0.70735387 0.62294287]\n",
      "weights at epoch 90 :\n",
      " [0.70946196 0.62926831]\n",
      "weights at epoch 91 :\n",
      " [0.71121947 0.63516714]\n",
      "weights at epoch 92 :\n",
      " [0.71265963 0.64066518]\n",
      "weights at epoch 93 :\n",
      " [0.71381394 0.64578785]\n",
      "weights at epoch 94 :\n",
      " [0.71471202 0.65055993]\n",
      "weights at epoch 95 :\n",
      " [0.71538152 0.65500531]\n",
      "weights at epoch 96 :\n",
      " [0.71584807 0.65914688]\n",
      "weights at epoch 97 :\n",
      " [0.71613529 0.66300641]\n",
      "weights at epoch 98 :\n",
      " [0.71626485 0.66660446]\n",
      "weights at epoch 99 :\n",
      " [0.71625649 0.66996037]\n",
      "weights at epoch 100 :\n",
      " [0.71612818 0.67309223]\n",
      "weights at epoch 101 :\n",
      " [0.71589614 0.67601692]\n",
      "weights at epoch 102 :\n",
      " [0.71557503 0.67875016]\n",
      "weights at epoch 103 :\n",
      " [0.71517796 0.68130647]\n",
      "weights at epoch 104 :\n",
      " [0.71471673 0.68369932]\n",
      "weights at epoch 105 :\n",
      " [0.7142018  0.68594112]\n",
      "weights at epoch 106 :\n",
      " [0.71364254 0.68804332]\n",
      "weights at epoch 107 :\n",
      " [0.7130472  0.69001644]\n",
      "weights at epoch 108 :\n",
      " [0.71242312 0.69187017]\n",
      "weights at epoch 109 :\n",
      " [0.71177674 0.69361339]\n",
      "weights at epoch 110 :\n",
      " [0.71111372 0.69525426]\n",
      "weights at epoch 111 :\n",
      " [0.71043904 0.69680026]\n",
      "weights at epoch 112 :\n",
      " [0.70975702 0.69825826]\n",
      "weights at epoch 113 :\n",
      " [0.70907143 0.69963454]\n",
      "weights at epoch 114 :\n",
      " [0.70838553 0.70093488]\n",
      "weights at epoch 115 :\n",
      " [0.70770212 0.70216457]\n",
      "weights at epoch 116 :\n",
      " [0.70702362 0.70332847]\n",
      "weights at epoch 117 :\n",
      " [0.70635208 0.70443102]\n",
      "weights at epoch 118 :\n",
      " [0.70568924 0.70547633]\n",
      "weights at epoch 119 :\n",
      " [0.70503655 0.70646815]\n",
      "weights at epoch 120 :\n",
      " [0.70439524 0.70740994]\n",
      "weights at epoch 121 :\n",
      " [0.70376629 0.70830489]\n",
      "weights at epoch 122 :\n",
      " [0.70315052 0.70915592]\n",
      "weights at epoch 123 :\n",
      " [0.70254856 0.70996574]\n",
      "weights at epoch 124 :\n",
      " [0.70196091 0.71073683]\n",
      "weights at epoch 125 :\n",
      " [0.70138793 0.7114715 ]\n",
      "weights at epoch 126 :\n",
      " [0.70082988 0.71217189]\n",
      "weights at epoch 127 :\n",
      " [0.70028692 0.71283995]\n",
      "weights at epoch 128 :\n",
      " [0.69975911 0.71347753]\n",
      "weights at epoch 129 :\n",
      " [0.69924646 0.7140863 ]\n",
      "weights at epoch 130 :\n",
      " [0.6987489  0.71466786]\n",
      "weights at epoch 131 :\n",
      " [0.69826633 0.71522366]\n",
      "weights at epoch 132 :\n",
      " [0.69779859 0.71575507]\n",
      "weights at epoch 133 :\n",
      " [0.69734548 0.71626337]\n",
      "weights at epoch 134 :\n",
      " [0.69690677 0.71674973]\n",
      "weights at epoch 135 :\n",
      " [0.69648221 0.71721526]\n",
      "weights at epoch 136 :\n",
      " [0.69607152 0.71766102]\n",
      "weights at epoch 137 :\n",
      " [0.69567441 0.71808797]\n",
      "weights at epoch 138 :\n",
      " [0.69529057 0.71849702]\n",
      "weights at epoch 139 :\n",
      " [0.69491969 0.71888903]\n",
      "weights at epoch 140 :\n",
      " [0.69456144 0.71926481]\n",
      "weights at epoch 141 :\n",
      " [0.69421548 0.71962512]\n",
      "weights at epoch 142 :\n",
      " [0.69388149 0.71997067]\n",
      "weights at epoch 143 :\n",
      " [0.69355913 0.72030214]\n",
      "weights at epoch 144 :\n",
      " [0.69324806 0.72062016]\n",
      "weights at epoch 145 :\n",
      " [0.69294796 0.72092533]\n",
      "weights at epoch 146 :\n",
      " [0.69265849 0.72121823]\n",
      "weights at epoch 147 :\n",
      " [0.69237932 0.7214994 ]\n",
      "weights at epoch 148 :\n",
      " [0.69211013 0.72176934]\n",
      "weights at epoch 149 :\n",
      " [0.6918506  0.72202854]\n",
      "Learned wts\n",
      " [0.69160043 0.72227746]\n"
     ]
    },
    {
     "data": {
      "image/png": "[encoded data removed]",
      "text/plain": [
       "<Figure size 432x288 with 1 Axes>"
      ]
     },
     "metadata": {
      "needs_background": "light"
     },
     "output_type": "display_data"
    }
   ],
   "source": [
    "def run():\n",
    "    # Set random seed for reproduceability\n",
    "    np.random.seed(0)\n",
    "\n",
    "    # Define data as multivariate Gaussian blob\n",
    "    mu = [0, 0]\n",
    "    sigma = np.array([[3, 1.5],\n",
    "                      [1.5, 3]])\n",
    "    data = np.random.multivariate_normal(mu, sigma, size=100)\n",
    "    plt.plot(data[:, 0], data[:, 1], 'o')\n",
    "\n",
    "    # Normalize globally to range [-0.5, 0.5]\n",
    "    data = (data - np.min(data)) / (np.max(data) - np.min(data))\n",
    "    data = data - 0.5\n",
    "\n",
    "    # Train the Hebbian neural network, get the final weights\n",
    "    wts = fit(data, n_epochs=150)\n",
    "    print('Learned wts\\n', wts)\n",
    "\n",
    "    # Draw learned wts vector\n",
    "    vectorScale = 3\n",
    "    ax = plt.gca()\n",
    "    ax.annotate('', vectorScale*wts, [0, 0],\n",
    "                arrowprops=dict(arrowstyle='->', linewidth=2, shrinkA=0, shrinkB=0))\n",
    "    plt.show()\n",
    "    return data, wts\n",
    "    \n",
    "data, weights = run()"
   ]
  },
  {
   "cell_type": "markdown",
   "id": "fb3ac6af",
   "metadata": {},
   "source": [
    "# Comparison with PCA\n",
    "\n",
    "Let's compare this weight vector with the first principal component for this data."
   ]
  },
  {
   "cell_type": "code",
   "execution_count": 5,
   "id": "155618a2",
   "metadata": {},
   "outputs": [
    {
     "name": "stdout",
     "output_type": "stream",
     "text": [
      "[-0.69244223 -0.72147332]\n",
      "[0.69160043 0.72227746]\n"
     ]
    }
   ],
   "source": [
    "def PCA(data):\n",
    "    covariance_matrix = (data.T @ data) / (len(data) - 1)\n",
    "    (evals, evectors) = np.linalg.eig(covariance_matrix)\n",
    "    evals_order = np.argsort(evals)[::-1]\n",
    "    evals_sorted = evals[evals_order]\n",
    "    evectors_sorted = evectors[:, evals_order]\n",
    "    return evals_sorted, evectors_sorted\n",
    "\n",
    "# Why do we do this?\n",
    "centered_data = data - np.mean(data, axis=0)\n",
    "\n",
    "evals, evecs = PCA(centered_data)\n",
    "print(evecs[0])\n",
    "print(weights)\n"
   ]
  },
  {
   "cell_type": "markdown",
   "id": "bc3be821",
   "metadata": {},
   "source": [
    "# Let's use Hebbian learning on a real dataset!"
   ]
  },
  {
   "cell_type": "markdown",
   "id": "4ba73819",
   "metadata": {},
   "source": [
    "## Load the Data"
   ]
  },
  {
   "cell_type": "code",
   "execution_count": 6,
   "id": "ca93b7a8",
   "metadata": {},
   "outputs": [
    {
     "name": "stdout",
     "output_type": "stream",
     "text": [
      "(150, 5) float64\n"
     ]
    }
   ],
   "source": [
    "def type_converter(x):\n",
    "    values = ['setosa', 'versicolor', 'virginica']\n",
    "    return float(values.index(x))\n",
    "\n",
    "def inverse_type_converter(x):\n",
    "    values = ['setosa', 'versicolor', 'virginica']\n",
    "    return values[x]\n",
    "\n",
    "\n",
    "columns = [\"sepal_length\", \"sepal_width\", \"petal_length\", \"petal_width\", \"class\"]\n",
    "iris = np.array(np.genfromtxt('data/iris.csv', delimiter=',', converters={4: type_converter}, skip_header=2, dtype=float, encoding='utf-8'))\n",
    "print(iris.shape, iris.dtype)"
   ]
  },
  {
   "cell_type": "markdown",
   "id": "ef6593f0",
   "metadata": {},
   "source": [
    "## Look at the Data"
   ]
  },
  {
   "cell_type": "code",
   "execution_count": 7,
   "id": "f25f02b5",
   "metadata": {},
   "outputs": [
    {
     "name": "stdout",
     "output_type": "stream",
     "text": [
      "          0         1         2         3         4\n",
      "0  7.900000  4.400000  6.900000  2.500000  2.000000\n",
      "1  4.300000  2.000000  1.000000  0.100000  0.000000\n",
      "2  5.843333  3.057333  3.758000  1.199333  1.000000\n",
      "3  0.681122  0.188713  3.095503  0.577133  0.666667\n"
     ]
    },
    {
     "data": {
      "text/plain": [
       "<seaborn.axisgrid.PairGrid at 0x2201abe7be0>"
      ]
     },
     "execution_count": 7,
     "metadata": {},
     "output_type": "execute_result"
    },
    {
     "data": {
      "image/png": "[encoded data removed]",
      "text/plain": [
       "<Figure size 900x180 with 6 Axes>"
      ]
     },
     "metadata": {
      "needs_background": "light"
     },
     "output_type": "display_data"
    }
   ],
   "source": [
    "def get_summary_statistics(data):\n",
    "    \"Get the max, min, mean, var for each variable in the data.\"\n",
    "    return pd.DataFrame(np.array([data.max(axis=0), data.min(axis=0), data.mean(axis=0), data.var(axis=0)]))\n",
    "\n",
    "print(get_summary_statistics(iris))\n",
    "\n",
    "df = pd.DataFrame(iris, columns=columns)\n",
    "sns.pairplot(df, y_vars = [\"class\"], kind = \"scatter\")"
   ]
  },
  {
   "cell_type": "markdown",
   "id": "e55ea731",
   "metadata": {},
   "source": [
    "## Split the Data \n",
    "\n",
    "Not for clustering!"
   ]
  },
  {
   "cell_type": "markdown",
   "id": "57d109eb",
   "metadata": {},
   "source": [
    "## Clean the Data\n",
    "\n",
    "Nothing to see here for the iris data"
   ]
  },
  {
   "cell_type": "markdown",
   "id": "4841e4e6",
   "metadata": {},
   "source": [
    "## Consider Dimensionality Reduction\n",
    "\n",
    "Nothing to see here for the iris data"
   ]
  },
  {
   "cell_type": "markdown",
   "id": "5eb8149c",
   "metadata": {},
   "source": [
    "## Consider Transforming/Normalizing the Data"
   ]
  },
  {
   "cell_type": "code",
   "execution_count": 8,
   "id": "12f2beeb",
   "metadata": {},
   "outputs": [],
   "source": [
    "def homogenizeData(data):\n",
    "    return np.append(data, np.array([np.ones(data.shape[0], dtype=float)]).T, axis=1)\n",
    "   \n",
    "def zScore(data, translateTransform=None, scaleTransform=None):\n",
    "    \"z score.\"\n",
    "    homogenizedData = np.append(data, np.array([np.ones(data.shape[0], dtype=float)]).T, axis=1)\n",
    "    if translateTransform is None:\n",
    "        translateTransform = np.eye(homogenizedData.shape[1])\n",
    "        for i in range(homogenizedData.shape[1]):\n",
    "            translateTransform[i, homogenizedData.shape[1]-1] = -homogenizedData[:, i].mean()\n",
    "    if scaleTransform is None:\n",
    "        diagonal = [1 / homogenizedData[:, i].std() if homogenizedData[:, i].std() != 0 else 1 for i in range(homogenizedData.shape[1])]\n",
    "        scaleTransform = np.eye(homogenizedData.shape[1], dtype=float) * diagonal\n",
    "    data = (scaleTransform@translateTransform@homogenizedData.T).T\n",
    "    return translateTransform, scaleTransform, data[:, :data.shape[1]-1]\n",
    "\n",
    "translateTransform, scaleTransform, transformed_data = zScore(iris)"
   ]
  },
  {
   "cell_type": "markdown",
   "id": "6566c3a6",
   "metadata": {},
   "source": [
    "## Fit the Model"
   ]
  },
  {
   "cell_type": "code",
   "execution_count": 9,
   "id": "b21240a1",
   "metadata": {},
   "outputs": [
    {
     "name": "stdout",
     "output_type": "stream",
     "text": [
      "weights at epoch 0 :\n",
      " [-0.02591712 -0.03997061 -0.04835704  0.04295293  0.01699165]\n",
      "weights at epoch 1 :\n",
      " [ 0.37877227 -0.1283567   0.40340835  0.49001795  0.50263329]\n",
      "weights at epoch 2 :\n",
      " [ 0.45911196 -0.06418399  0.47107267  0.522604    0.5427784 ]\n",
      "weights at epoch 3 :\n",
      " [ 0.45942381 -0.06335247  0.47109839  0.52253609  0.54264786]\n",
      "weights at epoch 4 :\n",
      " [ 0.45942682 -0.06334354  0.47109812  0.5225359   0.54264667]\n",
      "weights at epoch 5 :\n",
      " [ 0.45942685 -0.06334345  0.47109812  0.5225359   0.54264666]\n",
      "weights at epoch 6 :\n",
      " [ 0.45942685 -0.06334345  0.47109812  0.5225359   0.54264666]\n",
      "weights at epoch 7 :\n",
      " [ 0.45942685 -0.06334345  0.47109812  0.5225359   0.54264666]\n",
      "weights at epoch 8 :\n",
      " [ 0.45942685 -0.06334345  0.47109812  0.5225359   0.54264666]\n",
      "weights at epoch 9 :\n",
      " [ 0.45942685 -0.06334345  0.47109812  0.5225359   0.54264666]\n",
      "weights at epoch 10 :\n",
      " [ 0.45942685 -0.06334345  0.47109812  0.5225359   0.54264666]\n"
     ]
    }
   ],
   "source": [
    "weights = fit(transformed_data)"
   ]
  },
  {
   "cell_type": "markdown",
   "id": "1bd710e9",
   "metadata": {},
   "source": [
    "## Comparison with PCA"
   ]
  },
  {
   "cell_type": "code",
   "execution_count": 10,
   "id": "48585105",
   "metadata": {},
   "outputs": [
    {
     "name": "stdout",
     "output_type": "stream",
     "text": [
      "[-0.44486332  0.38197963  0.75062477  0.14120121  0.26983859]\n",
      "[ 0.45942685 -0.06334345  0.47109812  0.5225359   0.54264666]\n"
     ]
    }
   ],
   "source": [
    "evals, evecs = PCA(transformed_data)\n",
    "print(evecs[0])\n",
    "print(weights)"
   ]
  },
  {
   "cell_type": "code",
   "execution_count": null,
   "id": "e78199ff",
   "metadata": {},
   "outputs": [],
   "source": []
  }
 ],
 "metadata": {
  "kernelspec": {
   "display_name": "Python 3 (ipykernel)",
   "language": "python",
   "name": "python3"
  },
  "language_info": {
   "codemirror_mode": {
    "name": "ipython",
    "version": 3
   },
   "file_extension": ".py",
   "mimetype": "text/x-python",
   "name": "python",
   "nbconvert_exporter": "python",
   "pygments_lexer": "ipython3",
   "version": "3.9.7"
  }
 },
 "nbformat": 4,
 "nbformat_minor": 5
}
