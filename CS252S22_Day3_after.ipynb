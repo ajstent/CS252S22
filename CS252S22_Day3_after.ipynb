{
 "cells": [
  {
   "cell_type": "markdown",
   "id": "78695398",
   "metadata": {},
   "source": [
    "Do we remember our data types and summary statistics?\n",
    "--------------------------\n",
    "\n",
    "| | Quantitative Continuous | Quantitative Discrete | Qualitative Ordinal | Qualitative Nominal |\n",
    "|------|------|------|------|------|\n",
    "| Min | | | |  |\n",
    "| Max | | | | |\n",
    "| | | | | |\n",
    "| | | | | |\n",
    "| | | | | |\n",
    "| | | | | |\n",
    "| | | | | |\n",
    "| | | | | |\n",
    "\n"
   ]
  },
  {
   "cell_type": "markdown",
   "id": "ed515d8c",
   "metadata": {},
   "source": [
    "What is a possible mistake we can make with summary statistics on qualitative data?\n",
    "----------------------------------------------"
   ]
  },
  {
   "cell_type": "code",
   "execution_count": null,
   "id": "df6dc2fb",
   "metadata": {},
   "outputs": [],
   "source": [
    "import pandas as pd\n",
    "\n",
    "cats = pd.read_csv('data/cats_short.csv')\n",
    "cats.agg(['min', 'mean', 'median', 'max', 'var'])"
   ]
  },
  {
   "cell_type": "markdown",
   "id": "fa8a394f",
   "metadata": {},
   "source": [
    "Let's look more at numpy\n",
    "----------------------------------------\n",
    "\n",
    "https://numpy.org/"
   ]
  },
  {
   "cell_type": "code",
   "execution_count": null,
   "id": "40efba04",
   "metadata": {},
   "outputs": [],
   "source": [
    "import numpy"
   ]
  },
  {
   "cell_type": "markdown",
   "id": "76fde5d8",
   "metadata": {},
   "source": [
    "Data times in numpy:\n",
    "| Programming name | Math name |\n",
    "|------|------|\n",
    "| 1d array | vector |\n",
    "| 2d array | matrix |\n",
    "| 3d array | tensor |"
   ]
  },
  {
   "cell_type": "code",
   "execution_count": null,
   "id": "0b3b3ff3",
   "metadata": {},
   "outputs": [],
   "source": [
    "v = np.array([1, 2, 3])\n",
    "m = np.array([[1,2,3], [4,5,6]])\n",
    "t = np.array([[[1,2], [3,4]], [[5,6], [7,8]]])"
   ]
  },
  {
   "cell_type": "code",
   "execution_count": null,
   "id": "9f38c529",
   "metadata": {},
   "outputs": [],
   "source": [
    "# what do these look like?\n",
    "## let's take a look at ndim, size, shape\n",
    "\n",
    "# how can we index into these?\n",
    "\n",
    "# how can we manipulate these? concatenating them, sorting them, broadcasting \n"
   ]
  },
  {
   "cell_type": "code",
   "execution_count": null,
   "id": "c70c5b34",
   "metadata": {},
   "outputs": [],
   "source": [
    "# let's get some summary statistics\n",
    "\n",
    "cats = np.genfromtxt('data/cats_short.csv', delimiter=',', names=True, dtype=None, encoding='utf8')\n",
    "for col in ['Hwt', 'Bwt']:\n",
    "    print(cats[col].min(), data[col].mean(), data[col].max())\n",
    "print(cats['Size'].max())"
   ]
  },
  {
   "cell_type": "markdown",
   "id": "a5c4a9aa",
   "metadata": {},
   "source": [
    "Why numpy?\n",
    "----------\n",
    "\n",
    "Numpy is space efficient\n",
    "(reference: https://www.geeksforgeeks.org/python-lists-vs-numpy-arrays/)"
   ]
  },
  {
   "cell_type": "code",
   "execution_count": null,
   "id": "06dac4ff",
   "metadata": {},
   "outputs": [],
   "source": [
    "# importing numpy package\n",
    "import numpy as np\n",
    "  \n",
    "# importing system module\n",
    "import sys\n",
    "  \n",
    "# declaring a list of 1000 elements \n",
    "S= range(1000)\n",
    "  \n",
    "# printing size of each element of the list\n",
    "print(\"Size of each element of list in bytes: \",sys.getsizeof(S))\n",
    "  \n",
    "# printing size of the whole list\n",
    "print(\"Size of the whole list in bytes: \",sys.getsizeof(S)*len(S))\n",
    "  \n",
    "# declaring a Numpy array of 1000 elements \n",
    "D= np.arange(1000)\n",
    "  \n",
    "# printing size of each element of the Numpy array\n",
    "print(\"Size of each element of the Numpy array in bytes: \",D.itemsize)\n",
    "  \n",
    "# printing size of the whole Numpy array\n",
    "print(\"Size of the whole Numpy array in bytes: \",D.size*D.itemsize)"
   ]
  },
  {
   "cell_type": "markdown",
   "id": "23adf01a",
   "metadata": {},
   "source": [
    "Numpy *can be* more time efficient (reference: https://stackoverflow.com/questions/9708783/numpy-vs-list-comprehension-which-is-faster)"
   ]
  },
  {
   "cell_type": "code",
   "execution_count": null,
   "id": "0becf3ef",
   "metadata": {},
   "outputs": [],
   "source": [
    "import sys, numpy\n",
    "import timeit\n",
    "\n",
    "def numpysum(n):\n",
    "    a = numpy.arange(n) ** 2\n",
    "    b = numpy.arange(n) ** 3\n",
    "    return a + b\n",
    "\n",
    "def pythonsum(n):\n",
    "    a = [i ** 2 for i in range(n)]\n",
    "    b = [i ** 3 for i in range(n)]\n",
    "    return [a[i] + b[i] for i in range(n)]\n",
    "\n",
    "for size in [10, 100, 1000]:\n",
    "    print(size)\n",
    "    print(timeit.timeit(lambda: pythonsum(size)))\n",
    "    print(timeit.timeit(lambda: numpysum(size)))"
   ]
  },
  {
   "cell_type": "markdown",
   "id": "1e0ca526",
   "metadata": {},
   "source": [
    "More on jupyter and data science\n",
    "----------------------------\n",
    "\n",
    "https://docs.jupyter.org/en/latest/\n",
    "\n",
    "https://dl.acm.org/doi/pdf/10.1145/3173574.3173748"
   ]
  }
 ],
 "metadata": {
  "kernelspec": {
   "display_name": "Python 3 (ipykernel)",
   "language": "python",
   "name": "python3"
  },
  "language_info": {
   "codemirror_mode": {
    "name": "ipython",
    "version": 3
   },
   "file_extension": ".py",
   "mimetype": "text/x-python",
   "name": "python",
   "nbconvert_exporter": "python",
   "pygments_lexer": "ipython3",
   "version": "3.9.10"
  }
 },
 "nbformat": 4,
 "nbformat_minor": 5
}
