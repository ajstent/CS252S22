{
 "cells": [
  {
   "cell_type": "code",
   "execution_count": 1,
   "id": "2ef44267",
   "metadata": {},
   "outputs": [],
   "source": [
    "import numpy as np\n",
    "import matplotlib.pyplot as plt\n",
    "import seaborn as sns\n",
    "import pandas as pd\n",
    "\n",
    "import utilityfunctions as uf"
   ]
  },
  {
   "cell_type": "markdown",
   "id": "be56e471",
   "metadata": {},
   "source": [
    "## PCA Review\n",
    "\n",
    "1. What does \"PCA\" stand for?\n",
    "2. What does PCA *do*?\n",
    "3. In what circumstances might you use PCA?"
   ]
  },
  {
   "cell_type": "markdown",
   "id": "15538762",
   "metadata": {},
   "source": [
    "Today's notebook is a modification of https://charlesreid1.github.io/circe/Digit%20Classification%20-%20PCA.html\n",
    "\n",
    "## Handwritten Digits Data Set\n",
    "\n",
    "The data set we wil be analyzing is a well known data set for handwriting recognition from https://archive.ics.uci.edu/ml/datasets/optical+recognition+of+handwritten+digits.\n",
    "\n",
    "__Take a look at the data__.\n",
    "\n",
    "*The independent variables*: each data point (observation) is an 8 pixel by 8 pixel grayscale image. We flatten this so each data point is represented by a 64 floating point one dimensional array. \n",
    "\n",
    "*The dependent variable*: the label is the number in the image, 0 ... 9.\n",
    "\n",
    "*Reason for using PCA*: if we can project from 64 dimensions down to some number less than 10, we can fit a regression (or other!) model more efficiently."
   ]
  },
  {
   "cell_type": "markdown",
   "id": "2ddc205d",
   "metadata": {},
   "source": [
    "### Load and separate and examine the training data"
   ]
  },
  {
   "cell_type": "code",
   "execution_count": 36,
   "id": "fd9b7bfc",
   "metadata": {},
   "outputs": [
    {
     "name": "stdout",
     "output_type": "stream",
     "text": [
      "((3823, 65), dtype('int32'))\n"
     ]
    }
   ],
   "source": [
    "# Let's load the training data\n",
    "train = np.array(np.genfromtxt('data/optdigits/optdigits.tra', delimiter=',', dtype=int))  \n",
    "print(uf.getShapeType(train))"
   ]
  },
  {
   "cell_type": "code",
   "execution_count": 37,
   "id": "b83dbbc9",
   "metadata": {},
   "outputs": [],
   "source": [
    "# Let's split off the labels\n",
    "def split(data, ycol):\n",
    "    y = data[:, ycol]\n",
    "    xfirst = data[:, 0:ycol]\n",
    "    xsecond = data[:, ycol+1:data.shape[1]]\n",
    "    return (np.hstack((xfirst, xsecond)), y)"
   ]
  },
  {
   "cell_type": "code",
   "execution_count": 38,
   "id": "7b689bd7",
   "metadata": {},
   "outputs": [
    {
     "name": "stdout",
     "output_type": "stream",
     "text": [
      "((3823,), dtype('int32'))\n",
      "((3823, 64), dtype('int32'))\n"
     ]
    }
   ],
   "source": [
    "(x, y) = split(train, train.shape[1]-1)\n",
    "print(uf.getShapeType(y))\n",
    "print(uf.getShapeType(x))"
   ]
  },
  {
   "cell_type": "code",
   "execution_count": 39,
   "id": "e692a082",
   "metadata": {},
   "outputs": [
    {
     "name": "stdout",
     "output_type": "stream",
     "text": [
      "[[0 0 2 2 2 0 0 0]\n",
      " [0 2 2 2 2 2 0 0]\n",
      " [0 2 2 0 0 2 0 0]\n",
      " [0 2 2 0 0 2 2 0]\n",
      " [0 2 2 0 0 2 2 0]\n",
      " [0 2 2 0 0 2 2 0]\n",
      " [0 0 2 2 2 2 0 0]\n",
      " [0 0 2 2 2 0 0 0]]\n"
     ]
    },
    {
     "data": {
      "image/png": "[encoded data removed]",
      "text/plain": [
       "<Figure size 432x288 with 1 Axes>"
      ]
     },
     "metadata": {
      "needs_background": "light"
     },
     "output_type": "display_data"
    },
    {
     "name": "stdout",
     "output_type": "stream",
     "text": [
      "[[0 0 2 2 2 0 0 0]\n",
      " [0 2 2 2 2 2 0 0]\n",
      " [0 2 2 0 2 2 0 0]\n",
      " [0 2 2 0 0 2 2 0]\n",
      " [0 2 2 0 0 2 2 0]\n",
      " [0 2 2 0 0 2 2 0]\n",
      " [0 0 2 2 2 2 0 0]\n",
      " [0 0 2 2 2 0 0 0]]\n"
     ]
    },
    {
     "data": {
      "image/png": "[encoded data removed]",
      "text/plain": [
       "<Figure size 432x288 with 1 Axes>"
      ]
     },
     "metadata": {
      "needs_background": "light"
     },
     "output_type": "display_data"
    },
    {
     "name": "stdout",
     "output_type": "stream",
     "text": [
      "[[0 0 2 2 2 2 0 0]\n",
      " [0 0 2 2 2 2 0 0]\n",
      " [0 0 0 0 2 2 0 0]\n",
      " [0 0 0 2 2 2 0 0]\n",
      " [0 0 2 2 2 2 2 0]\n",
      " [0 0 2 2 2 0 0 0]\n",
      " [0 0 0 2 2 0 0 0]\n",
      " [0 0 2 2 0 0 0 0]]\n"
     ]
    },
    {
     "data": {
      "image/png": "[encoded data removed]",
      "text/plain": [
       "<Figure size 432x288 with 1 Axes>"
      ]
     },
     "metadata": {
      "needs_background": "light"
     },
     "output_type": "display_data"
    },
    {
     "name": "stdout",
     "output_type": "stream",
     "text": [
      "[[0 0 0 0 2 2 0 0]\n",
      " [0 0 2 2 2 2 2 0]\n",
      " [0 0 2 2 0 2 2 0]\n",
      " [0 2 2 2 2 2 2 0]\n",
      " [0 0 2 2 2 2 0 0]\n",
      " [0 0 0 0 2 2 0 0]\n",
      " [0 0 0 0 2 0 0 0]\n",
      " [0 0 0 0 2 0 0 0]]\n"
     ]
    },
    {
     "data": {
      "image/png": "[encoded data removed]",
      "text/plain": [
       "<Figure size 432x288 with 1 Axes>"
      ]
     },
     "metadata": {
      "needs_background": "light"
     },
     "output_type": "display_data"
    },
    {
     "name": "stdout",
     "output_type": "stream",
     "text": [
      "[[0 0 2 2 2 0 0 0]\n",
      " [0 0 2 2 0 0 0 0]\n",
      " [0 0 2 2 0 0 0 0]\n",
      " [0 2 2 2 2 0 0 0]\n",
      " [0 2 2 0 2 2 0 0]\n",
      " [0 0 2 0 0 2 2 0]\n",
      " [0 0 2 2 2 2 2 0]\n",
      " [0 0 2 2 2 2 0 0]]\n"
     ]
    },
    {
     "data": {
      "image/png": "[encoded data removed]",
      "text/plain": [
       "<Figure size 432x288 with 1 Axes>"
      ]
     },
     "metadata": {
      "needs_background": "light"
     },
     "output_type": "display_data"
    },
    {
     "name": "stdout",
     "output_type": "stream",
     "text": [
      "[[0 0 2 2 2 0 0 0]\n",
      " [0 2 2 2 2 2 0 0]\n",
      " [0 2 2 0 2 2 0 0]\n",
      " [0 0 2 2 2 2 0 0]\n",
      " [0 0 0 0 2 2 0 0]\n",
      " [0 0 0 2 2 2 0 0]\n",
      " [0 0 2 2 2 2 2 0]\n",
      " [0 0 2 2 2 2 2 2]]\n"
     ]
    },
    {
     "data": {
      "image/png": "[encoded data removed]",
      "text/plain": [
       "<Figure size 432x288 with 1 Axes>"
      ]
     },
     "metadata": {
      "needs_background": "light"
     },
     "output_type": "display_data"
    },
    {
     "name": "stdout",
     "output_type": "stream",
     "text": [
      "[[0 0 0 2 2 2 2 0]\n",
      " [0 0 2 2 2 2 0 0]\n",
      " [0 0 2 2 2 2 0 0]\n",
      " [0 2 2 2 2 2 2 0]\n",
      " [0 0 0 0 0 2 2 0]\n",
      " [0 0 0 0 2 2 0 0]\n",
      " [0 0 0 2 2 0 0 0]\n",
      " [0 0 0 2 2 0 0 0]]\n"
     ]
    },
    {
     "data": {
      "image/png": "[encoded data removed]",
      "text/plain": [
       "<Figure size 432x288 with 1 Axes>"
      ]
     },
     "metadata": {
      "needs_background": "light"
     },
     "output_type": "display_data"
    },
    {
     "name": "stdout",
     "output_type": "stream",
     "text": [
      "[[0 0 2 2 2 2 0 0]\n",
      " [0 0 2 2 2 2 2 0]\n",
      " [0 2 2 2 2 0 0 0]\n",
      " [0 2 2 2 2 2 0 0]\n",
      " [0 0 0 0 0 2 0 0]\n",
      " [0 0 0 0 2 2 0 0]\n",
      " [0 0 2 2 2 2 0 0]\n",
      " [0 0 2 2 2 0 0 0]]\n"
     ]
    },
    {
     "data": {
      "image/png": "[encoded data removed]",
      "text/plain": [
       "<Figure size 432x288 with 1 Axes>"
      ]
     },
     "metadata": {
      "needs_background": "light"
     },
     "output_type": "display_data"
    },
    {
     "name": "stdout",
     "output_type": "stream",
     "text": [
      "[[0 0 2 0 2 2 0 0]\n",
      " [0 0 2 2 2 2 2 0]\n",
      " [0 0 2 2 0 2 2 0]\n",
      " [0 2 2 0 0 2 2 0]\n",
      " [0 2 2 0 0 2 2 0]\n",
      " [0 2 2 0 2 2 2 0]\n",
      " [0 2 2 2 2 2 0 0]\n",
      " [0 0 2 2 2 0 0 0]]\n"
     ]
    },
    {
     "data": {
      "image/png": "[encoded data removed]",
      "text/plain": [
       "<Figure size 432x288 with 1 Axes>"
      ]
     },
     "metadata": {
      "needs_background": "light"
     },
     "output_type": "display_data"
    },
    {
     "name": "stdout",
     "output_type": "stream",
     "text": [
      "[[0 0 0 2 2 0 0 0]\n",
      " [0 2 2 2 2 2 0 0]\n",
      " [0 2 2 2 2 2 0 0]\n",
      " [0 2 2 2 2 0 0 0]\n",
      " [0 0 2 2 2 2 2 0]\n",
      " [0 0 2 2 0 0 2 0]\n",
      " [0 0 2 2 2 2 2 0]\n",
      " [0 0 0 2 2 2 0 0]]\n"
     ]
    },
    {
     "data": {
      "image/png": "[encoded data removed]",
      "text/plain": [
       "<Figure size 432x288 with 1 Axes>"
      ]
     },
     "metadata": {
      "needs_background": "light"
     },
     "output_type": "display_data"
    }
   ],
   "source": [
    "# Let's look at one of the observations\n",
    "for index in range(10):\n",
    "    for i in range(len(x[index])):\n",
    "        if x[index][i] != 0:\n",
    "            if x[index][i] < 4:\n",
    "                x[index][i] = 0\n",
    "            else:\n",
    "                x[index][i] = 2\n",
    "    observation = x[index].reshape(8, 8)\n",
    "    print(observation)\n",
    "    plt.imshow(observation, cmap='gray_r', interpolation='nearest')\n",
    "    plt.show()"
   ]
  },
  {
   "cell_type": "markdown",
   "id": "e6548f32",
   "metadata": {},
   "source": [
    "### Normalize and center the data"
   ]
  },
  {
   "cell_type": "code",
   "execution_count": null,
   "id": "e971b384",
   "metadata": {},
   "outputs": [],
   "source": [
    "# What's the optional preprocessing step before doing a PCA?"
   ]
  },
  {
   "cell_type": "code",
   "execution_count": null,
   "id": "2a5516c9",
   "metadata": {},
   "outputs": [],
   "source": [
    "# What's the second, non-optional, preprocessing step for PCA?\n",
    "\n",
    "def center(data):\n",
    "    centered = data - data.mean(axis=0)\n",
    "    return centered"
   ]
  },
  {
   "cell_type": "code",
   "execution_count": null,
   "id": "00715672",
   "metadata": {},
   "outputs": [],
   "source": [
    "# Let's preprocess our data! Note: if we minmaxed, then the data is not yet centered; if we zscored, the data is centered; if we didn't normalize at all, we don't know.\n",
    "def preprocess(data, minmax=False, zScore=False):\n",
    "    if minmax == True and zScore == True:\n",
    "        print(\"Nope, won't do that!\")\n",
    "        return data\n",
    "    elif minmax == True:\n",
    "        data = uf.minmaxGlobal(data)\n",
    "        return center(data)\n",
    "    elif zScore == True:\n",
    "        return uf.zScore(data)   "
   ]
  },
  {
   "cell_type": "code",
   "execution_count": null,
   "id": "c716f759",
   "metadata": {},
   "outputs": [],
   "source": [
    "centered = preprocess(x, zScore=True)\n",
    "print(uf.getShapeType(centered))\n",
    "print(uf.getSummaryStatistics(centered))"
   ]
  },
  {
   "cell_type": "markdown",
   "id": "e960e435",
   "metadata": {},
   "source": [
    "### Fit the PCA"
   ]
  },
  {
   "cell_type": "code",
   "execution_count": null,
   "id": "532e1d7e",
   "metadata": {},
   "outputs": [],
   "source": [
    "# What's the first step in fitting a PCA?\n",
    "\n",
    "# Let's get the covariance matrix!\n",
    "def getCovariance(data):\n",
    "    covarianceMatrix = (data.T@data) / (data.shape[0] - 1)\n",
    "    return covarianceMatrix"
   ]
  },
  {
   "cell_type": "code",
   "execution_count": null,
   "id": "d96d78a6",
   "metadata": {},
   "outputs": [],
   "source": [
    "covarianceMatrix = getCovariance(centered)\n",
    "\n",
    "# What should its dimensions be?\n",
    "print(uf.getShapeType(covarianceMatrix))"
   ]
  },
  {
   "cell_type": "code",
   "execution_count": null,
   "id": "b4de7d15",
   "metadata": {},
   "outputs": [],
   "source": [
    "# Let's look at the covariance matrix\n",
    "fig = plt.figure(figsize=(12,12))\n",
    "sns.heatmap(pd.DataFrame(covarianceMatrix), annot=False, cmap='PuOr')\n",
    "plt.show()"
   ]
  },
  {
   "cell_type": "code",
   "execution_count": null,
   "id": "a8b8c873",
   "metadata": {},
   "outputs": [],
   "source": [
    "# What are the second and third steps in fitting a PCA?\n",
    "\n",
    "def getSortedEigens(data):\n",
    "    evals, evectors = np.linalg.eig(data)\n",
    "    order = np.argsort(evals)[::-1]\n",
    "    eigenvalsSorted = evals[order]\n",
    "    eigenvecsSorted = evectors[:, order]\n",
    "    return eigenvalsSorted, eigenvecsSorted"
   ]
  },
  {
   "cell_type": "code",
   "execution_count": null,
   "id": "080da67d",
   "metadata": {},
   "outputs": [],
   "source": [
    "eigenvals, eigenvecs = getSortedEigens(covarianceMatrix)\n",
    "print(uf.getShapeType(eigenvals))\n",
    "print(uf.getShapeType(eigenvecs))\n",
    "# How is the eigenvector matrix arranged?"
   ]
  },
  {
   "cell_type": "code",
   "execution_count": null,
   "id": "8a1c945e",
   "metadata": {},
   "outputs": [],
   "source": [
    "# We can visualize the eigenvectors, sorted by eigenvalue rank, and visually identify which eigenvector components dominate in each eigenvalue. This is essentially a visualization of what information the principal component analysis has judged most important.\n",
    "fig = plt.figure(figsize=(14,3))\n",
    "sns.heatmap(pd.DataFrame(eigenvecs[:, 0:21].T), \n",
    "            annot=False, cmap='coolwarm',\n",
    "           vmin=-0.5,vmax=0.5)\n",
    "\n",
    "plt.ylabel(\"Ranked Eigenvalue\")\n",
    "plt.xlabel(\"Eigenvector Components\")\n",
    "plt.show()"
   ]
  },
  {
   "cell_type": "code",
   "execution_count": null,
   "id": "abbf80dd",
   "metadata": {},
   "outputs": [],
   "source": [
    "# What's the fourth step in fitting a PCA?\n",
    "\n",
    "# Let's compute the proportional variance and the cumulative sum of the proportional variance!\n",
    "def getVarianceStats(eigenvals):\n",
    "    sum = np.sum(eigenvals)\n",
    "    proportionalVariances = np.array([eigenvalue / sum for eigenvalue in eigenvals])\n",
    "    cumulativeSum = np.cumsum(proportionalVariances)\n",
    "    return cumulativeSum, proportionalVariances"
   ]
  },
  {
   "cell_type": "code",
   "execution_count": null,
   "id": "f485af84",
   "metadata": {},
   "outputs": [],
   "source": [
    "cumulativeSum, proportionalVariances = getVarianceStats(eigenvals)\n",
    "print(cumulativeSum.shape, proportionalVariances.shape)"
   ]
  },
  {
   "cell_type": "markdown",
   "id": "9cfe6631",
   "metadata": {},
   "source": [
    "### Scree and Elbow plots\n",
    "\n",
    "These are two plots that will help you move beyond \"just keep the eigenvalues that account for 90% of the variance\"."
   ]
  },
  {
   "cell_type": "code",
   "execution_count": null,
   "id": "3a3fdf54",
   "metadata": {},
   "outputs": [],
   "source": [
    "# Let's look at the proportional variance\n",
    "\n",
    "plt.figure(figsize=(6, 4))\n",
    "\n",
    "plt.bar(range(len(proportionalVariances)), proportionalVariances, alpha=0.5, align='center',\n",
    "        label='Proportional variance')\n",
    "\n",
    "plt.ylabel('Proportional variance ratio')\n",
    "plt.xlabel('Ranked Principal Components')\n",
    "plt.title(\"Scree Graph\")\n",
    "\n",
    "plt.legend(loc='best')\n",
    "plt.tight_layout()"
   ]
  },
  {
   "cell_type": "code",
   "execution_count": null,
   "id": "4a0f7861",
   "metadata": {},
   "outputs": [],
   "source": [
    "fig = plt.figure(figsize=(6,4))\n",
    "ax1 = fig.add_subplot(111)\n",
    "\n",
    "ax1.plot(cumulativeSum)\n",
    "\n",
    "ax1.set_ylim([0,1.0])\n",
    "\n",
    "ax1.set_xlabel('Number of Principal Components')\n",
    "ax1.set_ylabel('Cumulative explained variance')\n",
    "ax1.set_title('Elbow Plot')\n",
    "\n",
    "plt.show()"
   ]
  },
  {
   "cell_type": "markdown",
   "id": "18768882",
   "metadata": {},
   "source": [
    "### Projecting the data"
   ]
  },
  {
   "cell_type": "code",
   "execution_count": null,
   "id": "806fcc61",
   "metadata": {},
   "outputs": [],
   "source": [
    "# Let's project the data into this PCA space\n",
    "def project(data, eigenvectors, numberOfComponents):\n",
    "    v = eigenvectors[:, :numberOfComponents]\n",
    "    projected = data@v\n",
    "    return projected"
   ]
  },
  {
   "cell_type": "code",
   "execution_count": null,
   "id": "60e07dde",
   "metadata": {},
   "outputs": [],
   "source": [
    "# Looking at this elbow plot, how many principal components do you think we want to keep?\n",
    "\n",
    "projected = project(centered, eigenvecs, 10)\n",
    "print(uf.getShapeType(projected))"
   ]
  },
  {
   "cell_type": "markdown",
   "id": "a6e30851",
   "metadata": {},
   "source": [
    "### What can we do with data in PCA space? \n",
    "\n",
    "* Look at it!\n",
    "* Fit models!\n",
    "\n",
    "It's kind of weird to use linear regression for this dataset. Linear regression is meant for data where the labels are quantitative ordinal. How do we know this?\n",
    "\n",
    "Although the integers 0..9 are ordered, here they are just labels. But we don't (yet!) know any other type of model to fit. What to do? \n",
    "\n",
    "Let's make up some y's - let's set y to the sum of the values in each row. \n",
    "\n",
    "But, you say, that's just a regular linear function. \n",
    "\n",
    "*Indeed, say I*. But if I gave you that data and didn't tell you anything, you'd have to fit a model to find that out."
   ]
  },
  {
   "cell_type": "code",
   "execution_count": null,
   "id": "3a92e3a0",
   "metadata": {},
   "outputs": [],
   "source": [
    "def makeRegressionY(data):\n",
    "    y = np.array([np.sum(data[i]) for i in range(data.shape[0])])\n",
    "    return y\n",
    "yp = makeRegressionY(x)\n",
    "print(yp.shape)"
   ]
  },
  {
   "cell_type": "code",
   "execution_count": null,
   "id": "0a3408d1",
   "metadata": {},
   "outputs": [],
   "source": [
    "# Remember y? Let's fit a linear regression model to the projected data\n",
    "\n",
    "def fit(projected, independent, y):\n",
    "    projectedandy = np.hstack((projected, np.array([y]).T))\n",
    "    print(uf.getShapeType(projectedandy))\n",
    "    c = uf.fitlstsq(projectedandy, independent, projectedandy.shape[1]-1)\n",
    "    return c"
   ]
  },
  {
   "cell_type": "code",
   "execution_count": null,
   "id": "e10d1b54",
   "metadata": {},
   "outputs": [],
   "source": [
    "%%time\n",
    "c = fit(projected, [0,1,2,3,4,5,6,7,8,9], yp)\n",
    "print(c)"
   ]
  },
  {
   "cell_type": "code",
   "execution_count": null,
   "id": "5d3ea5c0",
   "metadata": {},
   "outputs": [],
   "source": [
    "# Did you *look* at the data? We also have test! Let's test"
   ]
  },
  {
   "cell_type": "code",
   "execution_count": null,
   "id": "087d8568",
   "metadata": {},
   "outputs": [],
   "source": [
    "# Let's load the test data\n",
    "test = np.array(np.genfromtxt('data/optdigits/optdigits.tes', delimiter=',', dtype=int))  \n",
    "print(uf.getShapeType(test))\n",
    "(xt, yt) = split(test, test.shape[1]-1)\n",
    "\n",
    "# Make sure we preprocess the same way!\n",
    "centeredt = preprocess(xt, zScore=True)\n",
    "print(uf.getShapeType(centeredt))\n",
    "\n",
    "# Why are we not calculating the PCA again?\n",
    "projectedt = project(centeredt, eigenvecs, 10)\n",
    "print(uf.getShapeType(projectedt))"
   ]
  },
  {
   "cell_type": "code",
   "execution_count": null,
   "id": "1b6275f6",
   "metadata": {},
   "outputs": [],
   "source": [
    "%%time\n",
    "yhat = uf.predict(projectedt, [0,1,2,3,4,5,6,7,8,9], c)"
   ]
  },
  {
   "cell_type": "code",
   "execution_count": null,
   "id": "0c7758d5",
   "metadata": {},
   "outputs": [],
   "source": [
    "ypt = makeRegressionY(xt)\n",
    "print(uf.rsquared(ypt, yhat))"
   ]
  },
  {
   "cell_type": "markdown",
   "id": "d96ef9a0",
   "metadata": {},
   "source": [
    "### Comparing PCA to not PCA"
   ]
  },
  {
   "cell_type": "code",
   "execution_count": null,
   "id": "47960209",
   "metadata": {},
   "outputs": [],
   "source": [
    "# Let's compare with a regression fit on the original data\n",
    "# We will, but don't have to, normalize and center first\n",
    "centered = preprocess(x, zScore=True)\n",
    "print(uf.getShapeType(centered))"
   ]
  },
  {
   "cell_type": "code",
   "execution_count": null,
   "id": "26e244a5",
   "metadata": {},
   "outputs": [],
   "source": [
    "%%time\n",
    "c1 = fit(centered, [x for x in range(centered.shape[1]-1)], yp)"
   ]
  },
  {
   "cell_type": "code",
   "execution_count": null,
   "id": "950b3edf",
   "metadata": {},
   "outputs": [],
   "source": [
    "centeredt = preprocess(xt, zScore=True)\n",
    "print(uf.getShapeType(centeredt))"
   ]
  },
  {
   "cell_type": "code",
   "execution_count": null,
   "id": "d983febd",
   "metadata": {},
   "outputs": [],
   "source": [
    "%%time\n",
    "yhat1 = uf.predict(centeredt, [x for x in range(centeredt.shape[1]-1)], c1)"
   ]
  },
  {
   "cell_type": "code",
   "execution_count": null,
   "id": "b3b4c585",
   "metadata": {},
   "outputs": [],
   "source": [
    "print(uf.rsquared(ypt, yhat1))"
   ]
  },
  {
   "cell_type": "markdown",
   "id": "931a83af",
   "metadata": {},
   "source": [
    "## Resources\n",
    "\n",
    "* https://www.displayr.com/8-tips-for-interpreting-r-squared/"
   ]
  }
 ],
 "metadata": {
  "kernelspec": {
   "display_name": "Python 3 (ipykernel)",
   "language": "python",
   "name": "python3"
  },
  "language_info": {
   "codemirror_mode": {
    "name": "ipython",
    "version": 3
   },
   "file_extension": ".py",
   "mimetype": "text/x-python",
   "name": "python",
   "nbconvert_exporter": "python",
   "pygments_lexer": "ipython3",
   "version": "3.9.12"
  }
 },
 "nbformat": 4,
 "nbformat_minor": 5
}
