{
 "cells": [
  {
   "cell_type": "markdown",
   "id": "355d0a7a",
   "metadata": {},
   "source": [
    "# QR Decomposition and Gram-Schmidt\n",
    "\n",
    "Remember the normal equation:\n",
    "    $$ \\vec{c} = (A^TA)^{-1} A^T\\vec{y}$$"
   ]
  },
  {
   "cell_type": "markdown",
   "id": "7bb0379b",
   "metadata": {},
   "source": [
    "The normal equation method of *fitting* a regression function has two issues:\n",
    "* It can be computationally expensive to take the inverse of a matrix\n",
    "* In some cases, $A^TA$ may not be *invertible* (https://mathworld.wolfram.com/MatrixInverse.html)"
   ]
  },
  {
   "cell_type": "markdown",
   "id": "3ca7c424",
   "metadata": {},
   "source": [
    "## QR decomposition\n",
    "\n",
    "Instead, we can use what's called QR decomposition; we factor $A$ into an *orthogonal matrix* $Q$ and an *upper triangle matrix* $R$, ie $A = QR$, where $Q$ has the same shape as $A$ $(N, M+1)$ and $R$ has shape $(M+1, M+1)$.\n",
    "* Orthogonal matrix: https://mathworld.wolfram.com/OrthogonalMatrix.html\n",
    "* Upper triangle matrix: https://mathworld.wolfram.com/UpperTriangularMatrix.html"
   ]
  },
  {
   "cell_type": "markdown",
   "id": "74e75c2b",
   "metadata": {},
   "source": [
    "## Why does this help? \n",
    "\n",
    "Because orthogonal matrices have an interesting property: $$Q^TQ = I$$ which means $$Q^T = Q^{-1}$$"
   ]
  },
  {
   "cell_type": "markdown",
   "id": "3b4df89b",
   "metadata": {},
   "source": [
    "Let's rewrite the normal equation a little bit:\n",
    "$$ A^TA \\vec{c} = A^T \\vec{y} $$\n",
    "Substituting in QR we get:\n",
    "$$ (QR)^T(QR) \\vec{c} = (QR)^T \\vec{y} $$\n",
    "which (remember $(XY)^T = Y^TX^T$) is equivalent to:\n",
    "$$  R^TQ^TQR \\vec{c} = R^TQ^T \\vec{y}  $$\n",
    "which (remember $Q^TQ = I$) is equivalent to:\n",
    "$$  R^TR \\vec{c} = R^TQ^T \\vec{y}  $$\n",
    "which (multiply both sides by $(R^T)^{-1}$) is equivalent to:\n",
    "$$  R \\vec{c} = Q^T \\vec{y}  $$\n"
   ]
  },
  {
   "cell_type": "markdown",
   "id": "855b461c",
   "metadata": {},
   "source": [
    "Okay, great. No more matrix inversion. __But__ how do we figure out what $Q$ and $R$ are? \n",
    "\n",
    "## Figuring out R from Q and A\n",
    "\n",
    "We know $A$. If we can get $Q$, then:\n",
    "    $$ A = QR $$\n",
    "so:\n",
    "    $$ Q^{-1}A = Q^{-1}QR $$\n",
    "then (remember $Q^{-1}Q = I$):\n",
    "        $$  Q^{-1}A = R   $$\n",
    "and (remember $Q^{-1} = Q^T$):\n",
    "        $$  Q^TA = R   $$\n",
    "        \n",
    "        \n",
    "Let's sanity check if the matrix multiplies are possible! If the shape the data has $N$ data points (rows) and $M$ independent variables, then the shape of $A$ is $(N, M+1)$, and the shape of $Q$ is $(N, M+1)$ so the shape of $Q^T$ is $(??, ??)$ which means the shape of $R$ is $(M+1, M+1)$."
   ]
  },
  {
   "cell_type": "markdown",
   "id": "91c72d08",
   "metadata": {},
   "source": [
    "## Figuring out Q\n",
    "\n",
    "To calculate $Q$ we use an algorithm called *Gram-Schmidt decomposition*. The idea is to make the column vectors orthogonal to each other by iteratively subtracting out \"overlapping\" components via projection onto the previous column vectors; that is:\n",
    "* We first set the orthogonal for the $0$th column vector in $A$, $\\vec{a_0}$, to be $\\vec{v_0} = \\vec{a_0}$ (nothing to compare to!). And we normalize to length 1 by dividing by the length (norm) of $\\vec{v_0}$, to get $\\vec{q_0}$ in $Q$.\n",
    "* Then, we set $\\vec{v_1} = \\vec{a_1} - projection_\\vec{v_0}(\\vec{a_1})$. And then $\\vec{q_1}$ = $\\frac{\\vec{v_1}}{| \\vec{v_1} |}$.\n",
    "* Then, we set $\\vec{v_2} = \\vec{a_2} - projection_\\vec{v_0}(\\vec{a_2}) - projection_\\vec{v_1}(\\vec{a_2})$. And then $\\vec{q_2}$ = $\\frac{\\vec{v_2}}{| \\vec{v_2} |}$.\n",
    "* And in general, $\\vec{v_i} = \\vec{a_i} - \\sum_{j=0}^{i-1} projection_\\vec{v_j}(\\vec{a_i})$. And then $\\vec{q_i}$ = $\\frac{\\vec{v_i}}{| \\vec{v_i} |}$.\n",
    "\n",
    "What is this *projection*? We calculate it using $(\\vec{a_i} \\cdot \\vec{q_j})\\vec{q_j}$."
   ]
  },
  {
   "attachments": {
    "image.png": {
     "image/png": "[encoded data removed]"
    }
   },
   "cell_type": "markdown",
   "id": "df87e4f1",
   "metadata": {},
   "source": [
    "Here is an illustration (from Wikipedia) of projecting $\\vec{a_2}$ ($\\vec{u_2}$) onto $\\vec{a_1}$ ($\\vec{u_1}$):\n",
    "![image.png](attachment:image.png)"
   ]
  },
  {
   "cell_type": "markdown",
   "id": "d04c6c33",
   "metadata": {},
   "source": [
    "## Gram-Schmidt algorithm\n",
    "\n",
    "Let's get a little more pseudocodish:"
   ]
  },
  {
   "cell_type": "code",
   "execution_count": 63,
   "id": "0665550b",
   "metadata": {},
   "outputs": [
    {
     "name": "stdout",
     "output_type": "stream",
     "text": [
      "3\n",
      "[[-0.5 -0.5  0.5]\n",
      " [-0.5 -0.5 -0.5]\n",
      " [-0.5  0.5  0.5]\n",
      " [-0.5  0.5 -0.5]]\n",
      "[0. 0. 1. 1.]\n",
      "[0. 1. 0. 1.]\n",
      "[-0.5  0.5 -0.5  0.5]\n",
      "[[ 0.5 -0.5 -0.5]\n",
      " [ 0.5 -0.5  0.5]\n",
      " [ 0.5  0.5 -0.5]\n",
      " [ 0.5  0.5  0.5]]\n"
     ]
    }
   ],
   "source": [
    "import numpy as np\n",
    "\n",
    "A = np.array([[1, 0, 0], [1, 0, 1], [1, 1, 0], [1, 1, 1]])\n",
    "\n",
    "# define the projection of u onto v to be the multiplication of the elements of u by the Gram-Schmidt coefficient of u and v (via broadcasting)\n",
    "def projection(u, v):\n",
    "    return np.dot(v, u)*v\n",
    "\n",
    "# now define the Gram-Schmidt algorithm\n",
    "def gram_schmidt(A):\n",
    "    # Initialize Q to a matrix of shape (??, ??)\n",
    "    Q = np.zeros(A.shape)\n",
    "    # For the ith column in A from the left to the right\n",
    "    for i in range(A.shape[1]):\n",
    "        # Set that ith column of Q to be the ith column of A\n",
    "        Q[:, i] = A[:, i].copy()\n",
    "        # For the jth column in A where j <= i-1\n",
    "        for j in range(i):\n",
    "            print(Q[:, i])\n",
    "            # Subtract the projection from the ith column of Q\n",
    "            Q[:, i] -= projection(A[:, i], Q[:, j])\n",
    "        # Divide the ith column of Q by its norm, ie the square root of the dot product of the ith column of Q by itself\n",
    "        Q[:, i] = Q[:, i] / np.sqrt(np.dot(Q[:, i], Q[:, i]))\n",
    "    return Q\n",
    "\n",
    "print(gram_schmidt(np.array(A)))\n"
   ]
  },
  {
   "cell_type": "markdown",
   "id": "9ed5c422",
   "metadata": {},
   "source": [
    "Sometimes this won't work. It won't work if the matrix $A$ does not have linearly independent columns. In this case, you'll get a divide by 0 or other error. Don't worry! We can *estimate* the *fit* using machine learning. But we'll get to that later in the semester."
   ]
  },
  {
   "cell_type": "markdown",
   "id": "cd582f00",
   "metadata": {},
   "source": [
    "One more note. Some of you may be thinking that \n",
    "$$  R \\vec{c} = Q^T \\vec{y}  $$\n",
    "is no better than we started because in order to solve for $\\vec{c}$ we need to invert $R$. However, $R$ is a triangular matrix. So we can use back substitution to solve. In project 3, you can use scipy.linalg.solve_triangular."
   ]
  },
  {
   "cell_type": "markdown",
   "id": "d6626c1d",
   "metadata": {},
   "source": [
    "## Resources\n",
    "\n",
    "* https://www.statlect.com/matrix-algebra/Gram-Schmidt-process\n",
    "* http://mlwiki.org/index.php/Gram-Schmidt_Process\n",
    "* https://www.cs.auckland.ac.nz/courses/compsci369s1c/lectures/DW-notes/lecture10.pdf"
   ]
  }
 ],
 "metadata": {
  "kernelspec": {
   "display_name": "Python 3 (ipykernel)",
   "language": "python",
   "name": "python3"
  },
  "language_info": {
   "codemirror_mode": {
    "name": "ipython",
    "version": 3
   },
   "file_extension": ".py",
   "mimetype": "text/x-python",
   "name": "python",
   "nbconvert_exporter": "python",
   "pygments_lexer": "ipython3",
   "version": "3.9.7"
  }
 },
 "nbformat": 4,
 "nbformat_minor": 5
}
