{
 "cells": [
  {
   "cell_type": "code",
   "execution_count": null,
   "id": "3cd16ad1",
   "metadata": {},
   "outputs": [],
   "source": [
    "import numpy as np\n",
    "import matplotlib.pyplot as plt"
   ]
  },
  {
   "cell_type": "markdown",
   "id": "1ad07a22",
   "metadata": {},
   "source": [
    "# K-means for image compression; choosing k\n",
    "\n",
    "An image is a matrix of pixels. Each pixel can be represented as an array of RGB (red, green, blue) values. \n",
    "\n",
    "In most pictures, the RGB values in one pixel are likely to be similar to those in the pixels around it. For example, the below picture (from Wikimedia) has a lot of white pixels; even in the cat's fur, the grey and black tend to blend together.\n",
    "\n",
    "![a cat](https://upload.wikimedia.org/wikipedia/commons/4/4d/Cat_March_2010-1.jpg)"
   ]
  },
  {
   "cell_type": "markdown",
   "id": "722a15e6",
   "metadata": {},
   "source": [
    "If we can identify the common colors (the common RGB values) in a picture, then we can replace the RGB values for each pixel by just centroid RGB values. This in turn allows us to:\n",
    "* compress the image - we can use the centroid IDs as the pixel's values, and just store the centroid RGB values in a dictionary\n",
    "* segment the image into regions by color\n",
    "\n",
    "To do this, we are going to treat the image itself as a dataset. Each row will correspond to a pixel, and the columns will be the RGB values.\n",
    "\n",
    "## Let's do k-means on a picture!\n",
    "\n",
    "There are __three bugs__ in the code directly below. How quickly can you find them?"
   ]
  },
  {
   "cell_type": "code",
   "execution_count": null,
   "id": "672205da",
   "metadata": {},
   "outputs": [],
   "source": [
    "# Most of this comes from day 22\n",
    "\n",
    "# Let's define a distance metric; which one is this??\n",
    "def distance(a, b):\n",
    "    subtracted = a-b\n",
    "    return np.sqrt(np.dot(subtracted.T, subtracted))\n",
    "\n",
    "# Let's define a function to calculate the distance from each data point to each centroid\n",
    "def get_distances(item, centroids):\n",
    "    distances = [distance(item, centroid) for centroid in centroids]\n",
    "    return distances\n",
    "\n",
    "# Let's define a function to update cluster assignments given a set of centroids\n",
    "def update_clusters(data, centroids):\n",
    "    return [np.argmin(get_distances(item, centroids)) for item in data]\n",
    "\n",
    "# Let's define a function to update the centroids\n",
    "def update_centroids(data, clusters):\n",
    "    with_clusters = np.hstack((data, np.array([clusters]).T))\n",
    "    indices = np.argsort(with_clusters[:, -1])\n",
    "    with_clusters_sorted = with_clusters[indices]\n",
    "    by_cluster = np.array_split(with_clusters_sorted, np.where(np.diff(with_clusters_sorted[:, -1])!=0)[0]+1)\n",
    "    return np.array([np.mean(cluster[:, :-1], axis=0) for cluster in by_cluster])\n",
    "\n",
    "# Let's define a function to measure the inertia\n",
    "def inertia(data, centroids, clusters):\n",
    "    sum_squares = 0\n",
    "    for i in range(len(data)):\n",
    "        sum_squares += distance(data[i], centroids[clusters[i]])**2\n",
    "    return sum_squares / len(data)"
   ]
  },
  {
   "cell_type": "code",
   "execution_count": null,
   "id": "4160ba34",
   "metadata": {},
   "outputs": [],
   "source": [
    "# We have to load the picture\n",
    "from matplotlib.image import imread\n",
    "\n",
    "image = imread('data/wikimedia_cat.jpg')\n",
    "print(image.shape)"
   ]
  },
  {
   "cell_type": "code",
   "execution_count": null,
   "id": "b71ea05a",
   "metadata": {},
   "outputs": [],
   "source": [
    "# We have to reshape it\n",
    "data = image.reshape(image.shape[0]*image.shape[1], image.shape[2])\n",
    "print(data.shape)"
   ]
  },
  {
   "cell_type": "code",
   "execution_count": null,
   "id": "8b1e0452",
   "metadata": {},
   "outputs": [],
   "source": [
    "%%time\n",
    "\n",
    "# We do k-means clustering for k from 2 to 16 to see what is a good value for k\n",
    "# Watch how it takes longer and longer (both to converge, and to do one round) as k increases\n",
    "inertia_by_k = []\n",
    "\n",
    "for k in range(2, 17, 2):\n",
    "    print(k)\n",
    "    centroids = np.array([data[x] for x in np.random.choice(np.arange(len(data)), size=k, replace=False)])\n",
    "    clusters = update_clusters(data, centroids)\n",
    "    this_inertia = inertia(data, centroids, clusters)\n",
    "    last_inertia = this_inertia + 1\n",
    "    while abs(last_inertia - this_inertia) > 0.01:\n",
    "        last_inertia = this_inertia\n",
    "        centroids = update_centroids(data, clusters)\n",
    "        clusters = update_clusters(data, centroids)\n",
    "        this_inertia = inertia(data, centroids, clusters)\n",
    "        print(this_inertia)\n",
    "    inertia_by_k.append([k, this_inertia])\n"
   ]
  },
  {
   "cell_type": "code",
   "execution_count": null,
   "id": "79e8d646",
   "metadata": {},
   "outputs": [],
   "source": [
    "inertia_by_k = np.array(inertia_by_k)\n",
    "print(inertia_by_k)\n",
    "fig = plt.figure(figsize=(6,4))\n",
    "ax1 = fig.add_subplot(111)\n",
    "ax1.plot(inertia_by_k[:, 0], inertia_by_k[:, 1])\n",
    "ax1.set_xlabel('k')\n",
    "ax1.set_ylabel('Inertia')\n",
    "ax1.set_title('Elbow Plot')\n",
    "plt.show()"
   ]
  },
  {
   "cell_type": "markdown",
   "id": "28e9777d",
   "metadata": {},
   "source": [
    "## Let's replace each pixel in the picture with its corresponding centroid, and then display it!"
   ]
  },
  {
   "cell_type": "code",
   "execution_count": null,
   "id": "22aa36ec",
   "metadata": {},
   "outputs": [],
   "source": [
    "def rebuild(centroids, clusters, input):\n",
    "    # for each item in clusters add the corresponding centroid\n",
    "    res = np.array([centroids[x] for x in clusters])\n",
    "    print(res.shape, input.shape)\n",
    "    # reshape\n",
    "    res = res.reshape(input.shape[0], input.shape[1], input.shape[2])\n",
    "    return res"
   ]
  },
  {
   "cell_type": "code",
   "execution_count": null,
   "id": "14dbcd61",
   "metadata": {},
   "outputs": [],
   "source": [
    "plt.imshow(image)"
   ]
  },
  {
   "cell_type": "code",
   "execution_count": null,
   "id": "452baee0",
   "metadata": {},
   "outputs": [],
   "source": [
    "output = rebuild(centroids, clusters, image)\n",
    "print(output.shape)\n",
    "output = output.round().astype(int)\n",
    "plt.imshow(output.round())"
   ]
  },
  {
   "cell_type": "code",
   "execution_count": null,
   "id": "20223306",
   "metadata": {},
   "outputs": [],
   "source": [
    "# Load the big version of the image\n",
    "image = imread('data/wikimedia_cat_large.jpg')\n",
    "print(image.shape)\n",
    "plt.imshow(image)\n",
    "\n",
    "# We have to reshape it\n",
    "data = image.reshape(image.shape[0]*image.shape[1], 3)\n",
    "print(data.shape)"
   ]
  },
  {
   "cell_type": "code",
   "execution_count": null,
   "id": "b0632e24",
   "metadata": {},
   "outputs": [],
   "source": [
    "%%time\n",
    "\n",
    "# Do k-means with k=14; why 14?\n",
    "k = 14\n",
    "\n",
    "centroids = np.array([data[x] for x in np.random.choice(np.arange(len(data)), size=k, replace=False)])\n",
    "clusters = update_clusters(data, centroids)\n",
    "this_inertia = inertia(data, centroids, clusters)\n",
    "last_inertia = this_inertia + 1\n",
    "while abs(last_inertia - this_inertia) > 0.01:\n",
    "    last_inertia = this_inertia\n",
    "    centroids = update_centroids(data, clusters)\n",
    "    clusters = update_clusters(data, centroids)\n",
    "    this_inertia = inertia(data, centroids, clusters)\n",
    "    print(this_inertia)"
   ]
  },
  {
   "cell_type": "code",
   "execution_count": null,
   "id": "1dfccd4a",
   "metadata": {},
   "outputs": [],
   "source": [
    "# Let's display the output!\n",
    "output = rebuild(centroids, clusters, image)\n",
    "print(output.shape)\n",
    "output = output.round().astype(int)\n",
    "plt.imshow(output.round())"
   ]
  },
  {
   "cell_type": "markdown",
   "id": "bceac537",
   "metadata": {},
   "source": [
    "# Question\n",
    "\n",
    "If you replace each pixel in the above image with an integer (the index of the corresponding centroid), and keep the centroid dictionary, how much smaller is the picture size than the original?"
   ]
  },
  {
   "cell_type": "markdown",
   "id": "56084aec",
   "metadata": {},
   "source": [
    "# K-means++\n",
    "\n",
    "In addition to choosing the distance metric, and choosing $k$, we can change the way we initialize k-means. So far we've tried:\n",
    "* random - what if it's the wrong random? Try several random initializations, take the best one\n",
    "* get someone to label a little bit of the data to get an idea - what if the subset they label is not representative?\n",
    "\n",
    "Now we will look at a third way. It goes like this:\n",
    "1. Choose a single random data point as the first centroid, $\\vec{c_1}$.\n",
    "2. Repeat til $k$\n",
    "  1. Calculate the distance between each data point $\\vec{x_i}$ and its nearest previously chosen centroid $\\vec{c_i}$.\n",
    "  2. Pick the next centroid according to $p(\\vec{x_i}) = \\frac{d(\\vec{x_i}, \\vec{c_i})}{\\sum_{j=1}^N d(\\vec{x_j}, \\vec{c_i})}$. (In python, you can get the index of this next centroid using index = np.random.choice([0, 1, ..., N], p=$p(x_i)$). You can also square the distances in the numerator and denominator above, to spread the distances out further.)\n",
    "\n",
    "This means that we are more likely to choose a further away data point as the next centroid.\n"
   ]
  },
  {
   "cell_type": "markdown",
   "id": "35589998",
   "metadata": {},
   "source": [
    "# Resources\n",
    "\n",
    "* https://github.com/hanyoseob/python-k-means"
   ]
  }
 ],
 "metadata": {
  "kernelspec": {
   "display_name": "Python 3 (ipykernel)",
   "language": "python",
   "name": "python3"
  },
  "language_info": {
   "codemirror_mode": {
    "name": "ipython",
    "version": 3
   },
   "file_extension": ".py",
   "mimetype": "text/x-python",
   "name": "python",
   "nbconvert_exporter": "python",
   "pygments_lexer": "ipython3",
   "version": "3.9.7"
  }
 },
 "nbformat": 4,
 "nbformat_minor": 5
}
