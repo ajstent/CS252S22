{
 "cells": [
  {
   "attachments": {},
   "cell_type": "markdown",
   "id": "2a102d18",
   "metadata": {},
   "source": [
    "# Rotation in 3D"
   ]
  },
  {
   "attachments": {},
   "cell_type": "markdown",
   "id": "240d1a54",
   "metadata": {},
   "source": [
    "## The intuition\n",
    "\n",
    "Let's think about a ship on the ocean.\n",
    "\n",
    "<img src=\"https://upload.wikimedia.org/wikipedia/commons/d/df/Rotations.png\" alt=\"drawing\" width=\"200\"/>\n",
    "\n",
    "https://nautiluslive.org/video/2020/12/09/beyond-wow-six-types-ship-motion (start at minute 1)\n",
    "\n",
    "**Review**: What type of transformation can be used to define the other three types of ship motion?\n",
    "\n",
    "**Question**: map the axis (x, y or z) to the type of ship rotation motion:\n",
    "* pitch\n",
    "* roll\n",
    "* yaw\n"
   ]
  },
  {
   "attachments": {},
   "cell_type": "markdown",
   "id": "b2de32dc",
   "metadata": {},
   "source": [
    "## The translation matrices\n",
    "\n",
    "* around the x-axis, by $\\theta$ radians: $$\\begin{pmatrix} 1 & 0 & 0  \\\\ 0 & cos(\\theta) & -sin(\\theta) \\\\ 0 & sin(\\theta) & cos(\\theta)  \\end{pmatrix}$$\n",
    "* around the y-axis, by $\\theta$ radians: $$\\begin{pmatrix} cos(\\theta) & 0 & sin(\\theta)  \\\\ 0 & 1 & 0 \\\\ -sin(\\theta) & 0 & cos(\\theta) \\end{pmatrix}$$\n",
    "* around the z-axis, by $\\theta$ radians: $$\\begin{pmatrix} cos(\\theta) & -sin(\\theta) & 0 \\\\ sin(\\theta) & cos(\\theta) & 0 \\\\ 0 & 0 & 1 \\end{pmatrix}$$\n",
    "\n",
    "## Let's play with it\n",
    "\n",
    "https://www.cs.usfca.edu/~galles/visualization/RotateScale3D.html"
   ]
  },
  {
   "attachments": {},
   "cell_type": "markdown",
   "id": "fa60d377",
   "metadata": {},
   "source": [
    "## Now on our car data\n",
    "\n",
    "First we load and look at our data."
   ]
  },
  {
   "cell_type": "code",
   "execution_count": null,
   "id": "b18d797c",
   "metadata": {},
   "outputs": [],
   "source": [
    "import numpy as np\n",
    "import pandas as pd\n",
    "import seaborn as sns"
   ]
  },
  {
   "cell_type": "code",
   "execution_count": null,
   "id": "3792f901",
   "metadata": {},
   "outputs": [],
   "source": [
    "data = np.array(np.genfromtxt('data/vehiclesNumeric.csv', delimiter=',', skip_header=1, dtype=int, encoding=\"utf-8\", usecols=[1,2, 3]))  \n",
    "\n",
    "# let's just keep 100 rows\n",
    "data = data[100:200, :]\n",
    "\n",
    "# get a pandas dataframe for plotting\n",
    "df = pd.DataFrame(data, columns=[\"price\", \"year\", \"odometer\"])"
   ]
  },
  {
   "cell_type": "code",
   "execution_count": null,
   "id": "9c0c497b",
   "metadata": {},
   "outputs": [],
   "source": [
    "def getSummaryStatistics(data):\n",
    "    print(\"min, max, mean, std per variable\")\n",
    "    return pd.DataFrame([data.min(axis=0), data.max(axis=0), data.mean(axis=0), data.std(axis=0)])\n",
    "\n",
    "def getShapeType(data):\n",
    "    print(\"shape\")\n",
    "    return (data.shape, data.dtype)\n",
    "\n",
    "print(getSummaryStatistics(data))\n",
    "print(getShapeType(data))"
   ]
  },
  {
   "attachments": {},
   "cell_type": "markdown",
   "id": "7e6c0812",
   "metadata": {},
   "source": [
    "This is a new type of plot; 3d scatterplot!"
   ]
  },
  {
   "cell_type": "code",
   "execution_count": null,
   "id": "f8fcad00",
   "metadata": {},
   "outputs": [],
   "source": [
    "# %matplotlib notebook\n",
    " \n",
    "# Create Figure\n",
    "\n",
    "def plot3d(data):\n",
    "    plt.figure(figsize = (5,4))\n",
    "    seaborn_plot = plt.axes(projection='3d')\n",
    "    seaborn_plot.scatter3D(data[:, 0], data[:, 2], data[:, 1])\n",
    "    seaborn_plot.set_xlabel('price')\n",
    "    seaborn_plot.set_ylabel('odometer')\n",
    "    seaborn_plot.set_zlabel('year')\n",
    "    plt.show()\n",
    "\n",
    "plot3d(data)"
   ]
  },
  {
   "attachments": {},
   "cell_type": "markdown",
   "id": "fceba568",
   "metadata": {},
   "source": [
    "Now you implement the transformation matrices."
   ]
  },
  {
   "cell_type": "code",
   "execution_count": null,
   "id": "bfb0ffa5",
   "metadata": {},
   "outputs": [],
   "source": [
    "# yaw\n",
    "def rotateTransformX(x):\n",
    "    return np.array([??]).reshape(3, 3)\n",
    "\n",
    "# pitch\n",
    "def rotateTransformY(y):\n",
    "    return np.array([??]).reshape(3, 3)\n",
    "\n",
    "# roll\n",
    "def rotateTransformZ(z):\n",
    "    return np.array([??]).reshape(3, 3)"
   ]
  },
  {
   "attachments": {},
   "cell_type": "markdown",
   "id": "5ae28504",
   "metadata": {},
   "source": [
    "And then we rotate our data by 90' along each axis just to see."
   ]
  },
  {
   "cell_type": "code",
   "execution_count": null,
   "id": "5d9dacff",
   "metadata": {},
   "outputs": [],
   "source": [
    "transformMatrix = rotateTransformX(90)\n",
    "newData = (transformMatrix@data.T).T\n",
    "plot3d(newData)"
   ]
  },
  {
   "cell_type": "code",
   "execution_count": null,
   "id": "eea3fe90",
   "metadata": {},
   "outputs": [],
   "source": [
    "transformMatrix = rotateTransformY(90)\n",
    "newData = (transformMatrix@data.T).T\n",
    "plot3d(newData)"
   ]
  },
  {
   "cell_type": "code",
   "execution_count": null,
   "id": "3901501e",
   "metadata": {},
   "outputs": [],
   "source": [
    "transformMatrix = rotateTransformZ(90)\n",
    "newData = (transformMatrix@data.T).T\n",
    "plot3d(newData)"
   ]
  },
  {
   "attachments": {},
   "cell_type": "markdown",
   "id": "d630cb30",
   "metadata": {},
   "source": [
    "## Challenge\n",
    "\n",
    "So far we have been rotating around the *origin*. How do we do rotate *around a point*?"
   ]
  }
 ],
 "metadata": {
  "kernelspec": {
   "display_name": "Python 3",
   "language": "python",
   "name": "python3"
  },
  "language_info": {
   "codemirror_mode": {
    "name": "ipython",
    "version": 3
   },
   "file_extension": ".py",
   "mimetype": "text/x-python",
   "name": "python",
   "nbconvert_exporter": "python",
   "pygments_lexer": "ipython3",
   "version": "3.10.4"
  },
  "vscode": {
   "interpreter": {
    "hash": "3ad933181bd8a04b432d3370b9dc3b0662ad032c4dfaa4e4f1596c548f763858"
   }
  }
 },
 "nbformat": 4,
 "nbformat_minor": 5
}
