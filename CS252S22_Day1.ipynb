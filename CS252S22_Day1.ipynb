{
 "cells": [
  {
   "cell_type": "markdown",
   "id": "604e570b",
   "metadata": {},
   "source": [
    "CS 252 Day 1, Jasper\n",
    "\n",
    "-------------------\n",
    "\n",
    "Topics:\n",
    "* Greetings, fellow human\n",
    "* Syllabus\n",
    "* Tech infrastructure\n",
    "* Format of data and terminology\n",
    "* CSV files"
   ]
  },
  {
   "cell_type": "markdown",
   "id": "d172dfc9",
   "metadata": {},
   "source": [
    "__Greetings, Fellow Human__\n",
    "\n",
    "* What is your name?\n",
    "* What is the most unusual animal you have ever interacted with?\n",
    "\n",
    "Jasper"
   ]
  },
  {
   "attachments": {},
   "cell_type": "markdown",
   "id": "4461b2a9",
   "metadata": {},
   "source": [
    "__Syllabus__\n",
    "\n",
    "[https://cs.colby.edu/srtaylor/courses/S23/cs251/](https://cs.colby.edu/srtaylor/courses/S23/cs251/)\n",
    "\n",
    "* When are lab sessions and who may attend?\n",
    "* When and where are Amanda Stent's office hours?\n",
    "* When and where are the TAs' office hours?\n",
    "* When is the first lab due?\n",
    "* When is the first project due?\n",
    "* What will happen on Friday?"
   ]
  },
  {
   "attachments": {},
   "cell_type": "markdown",
   "id": "ff369893",
   "metadata": {},
   "source": [
    "__Tech Infrastructure__\n",
    "\n",
    "* Python\n",
    "* Python modules: numpy scipy pandas palettable Pillow matplotlib seaborn jupyter scikit-learn\n",
    "* Opening a jupyter notebook\n",
    "  * [Jupyterhub](http://cs251.jupyter.colby.edu/)\n",
    "  * [Github CodeSpaces](https://github.com/ajstent/CS252S22)\n",
    "  * [Colab](https://colab.research.google.com)\n",
    "  * [Visual Studio](https://cs.colby.edu/srtaylor/courses/S23/cs251/software.html)\n",
    "* [Git](https://github.com)\n",
    "  * [Lectures](https://github.com/ajstent/CS252S22)\n",
    "  * [Projects and Labs](https://github.com/ajstent/CS252S22ProjectsLabs)\n",
    "  * [Cheatsheet](https://training.github.com/downloads/github-git-cheat-sheet.pdf)\n",
    "\n",
    "Let's make sure we all:\n",
    "1. Have Github accounts\n",
    "2. Have \"forked\" the ProjectsLabs repository\n",
    "3. Know how to add a file to a repository and to commit changes\n",
    "4. Know how to download a notebook for class"
   ]
  },
  {
   "attachments": {},
   "cell_type": "markdown",
   "id": "337c59d1",
   "metadata": {},
   "source": [
    "__Format of Data and Terminology__\n",
    "\n",
    "* What is \"data\"? \n",
    "  * [Data is Plural](https://www.data-is-plural.com/)\n",
    "* What is \"metadata\" and how does it relate to data? \n",
    "  * [Data Nutrition](https://datanutrition.org/)\n",
    "* How can we understand data? \n",
    "  * [Flowing Data](https://flowingdata.com/)\n",
    "* Data terms and what do they mean:\n",
    "  * Data point (feature vector)\n",
    "  * Feature (variable)\n",
    "    * Independent variable\n",
    "    * Dependent variable\n",
    "    * Missing data\n",
    "  * Feature measures\n",
    "    * Minimum\n",
    "    * Maximum\n",
    "    * Range\n",
    "    * Precision\n",
    "    * Accuracy\n",
    "  * Feature manipulations\n",
    "    * Scaling\n",
    "    * Normalizing\n",
    "  * Multivariate data\n",
    "    * Dimension\n",
    "  * Metadata\n",
    "  \n",
    "  In the example below, each row in the CSV is a data point; each cell is a feature; the last cell is the dependent variable (but it needn't be); there are definitely missing features; and the numeric features are interpreted as text which makes it hard for us to measure or manipulate them. The first row provides all the metadata there is.\n"
   ]
  },
  {
   "cell_type": "markdown",
   "id": "5fc8bfc0",
   "metadata": {},
   "source": [
    "__CSV files__\n",
    "\n",
    "* How can you read a csv file?\n",
    "* How can you write a csv file?"
   ]
  },
  {
   "cell_type": "code",
   "execution_count": 1,
   "id": "86af5f3d",
   "metadata": {},
   "outputs": [
    {
     "name": "stdout",
     "output_type": "stream",
     "text": [
      "72\n",
      "[['submissionNumber', 'submissionType', 'submissionTimestamp', 'numReviews', 'overallMin', 'overallMax', 'overallAverage', 'confidenceMin', 'confidenceMax', 'confidenceAverage', 'ethicsReviews', 'overallMeta', 'comment', 'deskRejectComment', 'numberOfOtherNotes'], ['70', 'cata', '23:35.1', '3', '2', '4', '3', '4', '4', '4', '1', '4', 'I like this one', '[]', '2'], ['20', 'cata', '23:31.3', '3', '2.5', '4', '3.166666667', '4', '4', '4', '0', '3', '', '[]', '6'], ['65', 'cata', '23:34.7', '3', '2.5', '3.5', '3', '2', '5', '2', '1', '4', 'I like this one', '[]', '2'], ['66', 'cata', '23:34.8', '3', '2.5', '3.5', '3.166666667', '2', '4', '2', '0', '4', 'I like this one', '[]', '3'], ['59', 'cata', '23:34.3', '3', '3', '3.5', '3.333333333', '3', '4', '3', '1', '4', '', '[]', '4'], ['61', 'cata', '23:34.4', '3', '2', '4', '3.166666667', '4', '4', '4', '2', '4', '', '[]', '2'], ['35', 'cata', '23:32.4', '3', '3', '4', '3.5', '2', '4', '2', '0', '4', '', '[]', '1'], ['55', 'cata', '23:34.0', '3', '3.5', '4', '3.833333333', '3', '4', '3', '0', '4', 'I like this one', '[]', '4'], ['22', 'cata', '23:31.4', '3', '3', '4', '3.666666667', '3', '4', '3', '0', '4', 'I like this one', '[]', '3'], ['25', 'cata', '23:31.6', '3', '3', '4.5', '3.833333333', '3', '4', '3', '0', '4', '', '[]', '4'], ['6', 'cata', '23:30.3', '3', '3', '4.5', '3.666666667', '3', '4', '3', '0', '5', '', '[]', '4'], ['2', 'cata', '23:30.0', '3', '2', '3', '2.333333333', '3', '3', '3', '0', '3', 'I like this one', '[]', '1'], ['5', 'catb', '23:30.2', '3', '1', '4', '2.333333333', '3', '5', '3', '1', '2', 'I do not like this one', '[]', '2'], ['9', 'cata', '23:30.4', '3', '2', '3', '2.5', '3', '4', '3', '0', '2', '', '[]', '1'], ['11', 'cata', '23:30.6', '3', '2.5', '4', '3.333333333', '4', '4', '4', '0', '3', 'I like this one', '[]', '8'], ['14', 'catb', '23:30.8', '3', '1.5', '3', '2', '4', '4', '4', '1', '2', '', '[]', '3'], ['15', 'cata', '23:30.9', '3', '1.5', '4', '2.833333333', '4', '4', '4', '0', '2', 'I like this one', '[]', '2'], ['16', 'cata', '23:30.9', '3', '2.5', '3.5', '3', '2', '4', '2', '1', '2', '', '[]', '3'], ['17', 'catb', '23:31.0', '3', '1.5', '2.5', '2', '3', '5', '3', '0', '2', 'I do not like this one', '[]', '1'], ['19', 'cata', '23:31.2', '3', '2', '3', '2.333333333', '3', '4', '3', '1', '3', '', '[]', '2'], ['21', 'cata', '23:31.3', '3', '2', '3', '2.5', '4', '4', '4', '2', '3', 'I like this one', '[]', '5'], ['24', 'cata', '23:31.6', '3', '2.5', '3.5', '3', '3', '4', '3', '0', '2', 'I like this one', '[]', '1'], ['26', 'cata', '23:31.7', '3', '2', '2.5', '2.166666667', '4', '5', '4', '1', '2', 'I like this one', '[]', '4'], ['28', 'cata', '23:31.9', '3', '2', '3', '2.333333333', '3', '4', '3', '0', '2', 'I like this one', '[]', '4'], ['31', 'cata', '23:32.1', '3', '2.5', '3.5', '3', '3', '4', '3', '0', '3', '', '[]', '4'], ['33', 'cata', '23:32.3', '3', '3', '3', '3', '3', '4', '3', '0', '3', 'I like this one', '[]', '2'], ['36', 'catb', '23:32.5', '3', '1', '2', '1.666666667', '3', '5', '3', '2', '3', '', '[]', '2'], ['37', 'cata', '23:32.6', '3', '2', '2', '2', '4', '5', '4', '1', '3', 'I like this one', '[]', '2'], ['39', 'cata', '23:32.7', '3', '2', '3.5', '2.833333333', '3', '4', '3', '0', '3', '', '[]', '2'], ['40', 'catb', '23:32.8', '3', '2.5', '4', '3.166666667', '3', '4', '3', '1', '3', 'I like this one', '[]', '11'], ['44', 'cata', '23:33.1', '3', '2', '2.5', '2.333333333', '3', '4', '3', '0', '2', 'I like this one', '[]', '1'], ['48', 'cata', '23:33.4', '3', '2', '3.5', '3', '3', '5', '3', '1', '3', '', '[]', '2'], ['51', 'cata', '23:33.7', '3', '2.5', '4', '3.166666667', '4', '4', '4', '0', '3', 'I like this one', '[]', '7'], ['52', 'cata', '23:33.8', '3', '1.5', '2', '1.833333333', '4', '4', '4', '1', '2', 'I like this one', '[]', '2'], ['53', 'cata', '23:33.8', '3', '2', '2.5', '2.333333333', '3', '4', '3', '1', '3', '', '[]', '1'], ['63', 'cata', '23:34.6', '3', '2', '3.5', '2.666666667', '3', '4', '3', '1', '4', '', '[]', '1'], ['69', 'cata', '23:35.0', '3', '1', '2', '1.5', '4', '5', '4', '0', '2', '', '[]', '5'], ['73', 'cata', '23:35.2', '3', '2', '3.5', '2.666666667', '4', '5', '4', '0', '2', '', '[]', '2'], ['75', 'cata', '23:35.4', '3', '1.5', '3.5', '2.333333333', '4', '4', '4', '0', '2', 'I like this one', '[]', '2'], ['77', 'cata', '23:35.5', '3', '1', '1', '1', '4', '5', '4', '0', '1', 'I like this one', '[]', '2'], ['74', 'cata', '23:35.3', '3', '2', '3', '2.333333333', '4', '5', '4', '2', '3', 'I do not like this one', '[]', '1'], ['72', 'cata', '23:35.2', '3', '2', '2', '2', '4', '4', '4', '1', '2', 'I like this one', '[]', '2'], ['68', 'cata', '23:34.9', '3', '2', '4', '2.833333333', '3', '4', '3', '1', '3', 'I like this one', '[]', '3'], ['67', 'cata', '23:34.9', '3', '2', '2.5', '2.333333333', '4', '4', '4', '1', '2', 'I do not like this one', '[]', '2'], ['64', 'cata', '23:34.6', '3', '2', '3.5', '2.5', '3', '4', '3', '1', '2', 'I like this one', '[]', '3'], ['62', 'cata', '23:34.5', '3', '1', '3.5', '2.666666667', '4', '4', '4', '0', '2', 'I like this one', '[]', '1'], ['60', 'cata', '23:34.4', '3', '1.5', '3', '2', '4', '4', '4', '1', '3', 'I like this one', '[]', '2'], ['58', 'cata', '23:34.2', '3', '2.5', '3.5', '3', '3', '4', '3', '0', '3', '', '[]', '10'], ['57', 'cata', '23:34.1', '3', '1.5', '2', '1.666666667', '4', '4', '4', '1', '2', '', '[]', '2'], ['56', 'cata', '23:34.0', '3', '1.5', '2.5', '2', '4', '5', '4', '0', '1', 'I like this one', '[]', '1'], ['54', 'cata', '23:33.9', '3', '1.5', '2.5', '2', '4', '5', '4', '2', '2', 'I like this one', '[]', '2'], ['50', 'cata', '23:33.6', '3', '2', '3.5', '2.666666667', '3', '4', '3', '1', '3', 'I like this one', '[]', '2'], ['49', 'cata', '23:33.5', '3', '1.5', '2', '1.833333333', '3', '4', '3', '0', '2', 'I like this one', '[]', '3'], ['47', 'cata', '23:33.4', '3', '2.5', '3.5', '3', '3', '4', '3', '0', '2', 'I like this one', '[]', '2'], ['46', 'cata', '23:33.3', '3', '2.5', '4', '3.166666667', '4', '5', '4', '1', '3', '', '[]', '1'], ['45', 'cata', '23:33.2', '3', '1.5', '2.5', '2.166666667', '4', '4', '4', '1', '2', '', '[]', '1'], ['43', 'cata', '23:33.1', '3', '2.5', '3', '2.833333333', '4', '4', '4', '0', '3', '', '[]', '1'], ['42', 'cata', '23:33.0', '3', '1', '2.5', '1.833333333', '4', '5', '4', '1', '2', 'I do not like this one', '[]', '7'], ['41', 'cata', '23:32.9', '2', '2', '2', '2', '5', '5', '5', '1', '3', '', '[]', '0'], ['38', 'cata', '23:32.7', '3', '1.5', '2', '1.833333333', '3', '4', '3', '0', '2', 'I like this one', '[]', '1'], ['34', 'cata', '23:32.4', '3', '2.5', '3.5', '3', '4', '5', '4', '1', '3', '', '[]', '2'], ['32', 'cata', '23:32.2', '3', '2', '3', '2.333333333', '4', '4', '4', '0', '3', '', '[]', '3'], ['30', 'cata', '23:32.1', '3', '1.5', '3', '2.333333333', '3', '4', '3', '0', '2', '', '[]', '1'], ['29', 'catb', '23:32.0', '3', '1.5', '2', '1.666666667', '3', '4', '3', '0', '2', '', '[]', '2'], ['23', 'cata', '23:31.5', '3', '2', '3', '2.333333333', '4', '5', '4', '0', '2', '', '[]', '2'], ['18', 'cata', '23:31.1', '3', '2.5', '3', '2.833333333', '4', '4', '4', '1', '3', 'I like this one', '[]', '0'], ['13', 'catb', '23:30.7', '3', '2', '3.5', '2.5', '3', '5', '3', '1', '4', '', '[]', '3'], ['10', 'cata', '23:30.5', '3', '1.5', '2', '1.833333333', '4', '4', '4', '1', '2', '', '[]', '14'], ['8', 'cata', '23:30.4', '3', '2', '2.5', '2.166666667', '3', '4', '3', '0', '2', '', '[]', '2'], ['1', 'cata', '23:30.0', '3', '1.5', '2', '1.833333333', '4', '5', '4', '1', '2', 'I do not like this one', '[]', '2'], ['27', 'catc', '23:31.8', '0', '', '', '', '', '', '', '', '', '', 'This submission is invalid.', '0']]\n",
      "15\n"
     ]
    }
   ],
   "source": [
    "import codecs\n",
    "import csv\n",
    "\n",
    "# If we read this way the csv reader \"fills in\" missing values as blanks, which may or may not be great\n",
    "with codecs.open('data/submissions_summary.csv', 'r', encoding='utf8') as f:\n",
    "    # what are some of the optional arguments here?\n",
    "    csvreader = csv.reader(f)\n",
    "    rows = [x for x in csvreader]\n",
    "print(len(rows))\n",
    "print(rows)\n",
    "print(len(rows[0]))"
   ]
  },
  {
   "cell_type": "code",
   "execution_count": 2,
   "id": "0117d740",
   "metadata": {},
   "outputs": [
    {
     "ename": "ValueError",
     "evalue": "the number of columns changed from 1 to 4 at row 2; use `usecols` to select a subset and avoid this error",
     "output_type": "error",
     "traceback": [
      "\u001b[0;31m---------------------------------------------------------------------------\u001b[0m",
      "\u001b[0;31mValueError\u001b[0m                                Traceback (most recent call last)",
      "Cell \u001b[0;32mIn[2], line 5\u001b[0m\n\u001b[1;32m      1\u001b[0m \u001b[39mimport\u001b[39;00m \u001b[39mnumpy\u001b[39;00m \u001b[39mas\u001b[39;00m \u001b[39mnp\u001b[39;00m\n\u001b[1;32m      3\u001b[0m \u001b[39m# if we read this way, it won't fill in missing values, it will just throw an error\u001b[39;00m\n\u001b[1;32m      4\u001b[0m \u001b[39m# what are some of the optional arguments here?\u001b[39;00m\n\u001b[0;32m----> 5\u001b[0m data \u001b[39m=\u001b[39m np\u001b[39m.\u001b[39;49mloadtxt(\u001b[39m'\u001b[39;49m\u001b[39mdata/submissions_summary.csv\u001b[39;49m\u001b[39m'\u001b[39;49m, dtype\u001b[39m=\u001b[39;49m\u001b[39mstr\u001b[39;49m)\n\u001b[1;32m      6\u001b[0m data\n",
      "File \u001b[0;32m~/.local/lib/python3.10/site-packages/numpy/lib/npyio.py:1348\u001b[0m, in \u001b[0;36mloadtxt\u001b[0;34m(fname, dtype, comments, delimiter, converters, skiprows, usecols, unpack, ndmin, encoding, max_rows, quotechar, like)\u001b[0m\n\u001b[1;32m   1345\u001b[0m \u001b[39mif\u001b[39;00m \u001b[39misinstance\u001b[39m(delimiter, \u001b[39mbytes\u001b[39m):\n\u001b[1;32m   1346\u001b[0m     delimiter \u001b[39m=\u001b[39m delimiter\u001b[39m.\u001b[39mdecode(\u001b[39m'\u001b[39m\u001b[39mlatin1\u001b[39m\u001b[39m'\u001b[39m)\n\u001b[0;32m-> 1348\u001b[0m arr \u001b[39m=\u001b[39m _read(fname, dtype\u001b[39m=\u001b[39;49mdtype, comment\u001b[39m=\u001b[39;49mcomment, delimiter\u001b[39m=\u001b[39;49mdelimiter,\n\u001b[1;32m   1349\u001b[0m             converters\u001b[39m=\u001b[39;49mconverters, skiplines\u001b[39m=\u001b[39;49mskiprows, usecols\u001b[39m=\u001b[39;49musecols,\n\u001b[1;32m   1350\u001b[0m             unpack\u001b[39m=\u001b[39;49munpack, ndmin\u001b[39m=\u001b[39;49mndmin, encoding\u001b[39m=\u001b[39;49mencoding,\n\u001b[1;32m   1351\u001b[0m             max_rows\u001b[39m=\u001b[39;49mmax_rows, quote\u001b[39m=\u001b[39;49mquotechar)\n\u001b[1;32m   1353\u001b[0m \u001b[39mreturn\u001b[39;00m arr\n",
      "File \u001b[0;32m~/.local/lib/python3.10/site-packages/numpy/lib/npyio.py:1026\u001b[0m, in \u001b[0;36m_read\u001b[0;34m(fname, delimiter, comment, quote, imaginary_unit, usecols, skiplines, max_rows, converters, ndmin, unpack, dtype, encoding)\u001b[0m\n\u001b[1;32m   1023\u001b[0m \u001b[39melse\u001b[39;00m:\n\u001b[1;32m   1024\u001b[0m     chunk_size \u001b[39m=\u001b[39m \u001b[39mmin\u001b[39m(_loadtxt_chunksize, max_rows)\n\u001b[0;32m-> 1026\u001b[0m next_arr \u001b[39m=\u001b[39m _load_from_filelike(\n\u001b[1;32m   1027\u001b[0m     data, delimiter\u001b[39m=\u001b[39;49mdelimiter, comment\u001b[39m=\u001b[39;49mcomment, quote\u001b[39m=\u001b[39;49mquote,\n\u001b[1;32m   1028\u001b[0m     imaginary_unit\u001b[39m=\u001b[39;49mimaginary_unit,\n\u001b[1;32m   1029\u001b[0m     usecols\u001b[39m=\u001b[39;49musecols, skiplines\u001b[39m=\u001b[39;49mskiplines, max_rows\u001b[39m=\u001b[39;49mmax_rows,\n\u001b[1;32m   1030\u001b[0m     converters\u001b[39m=\u001b[39;49mconverters, dtype\u001b[39m=\u001b[39;49mdtype,\n\u001b[1;32m   1031\u001b[0m     encoding\u001b[39m=\u001b[39;49mencoding, filelike\u001b[39m=\u001b[39;49mfilelike,\n\u001b[1;32m   1032\u001b[0m     byte_converters\u001b[39m=\u001b[39;49mbyte_converters,\n\u001b[1;32m   1033\u001b[0m     c_byte_converters\u001b[39m=\u001b[39;49mc_byte_converters)\n\u001b[1;32m   1034\u001b[0m \u001b[39m# Cast here already.  We hope that this is better even for\u001b[39;00m\n\u001b[1;32m   1035\u001b[0m \u001b[39m# large files because the storage is more compact.  It could\u001b[39;00m\n\u001b[1;32m   1036\u001b[0m \u001b[39m# be adapted (in principle the concatenate could cast).\u001b[39;00m\n\u001b[1;32m   1037\u001b[0m chunks\u001b[39m.\u001b[39mappend(next_arr\u001b[39m.\u001b[39mastype(read_dtype_via_object_chunks))\n",
      "\u001b[0;31mValueError\u001b[0m: the number of columns changed from 1 to 4 at row 2; use `usecols` to select a subset and avoid this error"
     ]
    }
   ],
   "source": [
    "import numpy as np\n",
    "\n",
    "# if we read this way, it won't fill in missing values, it will just throw an error\n",
    "# what are some of the optional arguments here?\n",
    "data = np.loadtxt('data/submissions_summary.csv', dtype=str)\n",
    "data"
   ]
  },
  {
   "cell_type": "code",
   "execution_count": 3,
   "id": "f09ca876",
   "metadata": {},
   "outputs": [
    {
     "data": {
      "text/plain": [
       "array([['submissionNumber', 'submissionType', 'submissionTimestamp', ...,\n",
       "        'comment', 'deskRejectComment', 'numberOfOtherNotes'],\n",
       "       ['70', 'cata', '23:35.1', ..., 'I like this one', '[]', '2'],\n",
       "       ['20', 'cata', '23:31.3', ..., '', '[]', '6'],\n",
       "       ...,\n",
       "       ['8', 'cata', '23:30.4', ..., '', '[]', '2'],\n",
       "       ['1', 'cata', '23:30.0', ..., 'I do not like this one', '[]', '2'],\n",
       "       ['27', 'catc', '23:31.8', ..., '', 'This submission is invalid.',\n",
       "        '0']], dtype='<U27')"
      ]
     },
     "execution_count": 3,
     "metadata": {},
     "output_type": "execute_result"
    }
   ],
   "source": [
    "import codecs\n",
    "import csv\n",
    "import numpy as np\n",
    "\n",
    "# if we read this way we get the combination of the good things from both the above, but it's still not perfect\n",
    "# maybe some of those optional function arguments would help eg coerce numbers into ints/floats... hmm...\n",
    "# for your first project you will create a reader that works really well, but you will *not use* numpy to do this.\n",
    "with codecs.open('data/submissions_summary.csv', 'r', encoding='utf8') as f:\n",
    "    # what are some of the optional arguments here?\n",
    "    data = np.array([x for x in csv.reader(f)])\n",
    "data"
   ]
  },
  {
   "cell_type": "code",
   "execution_count": 4,
   "id": "334b5b3a",
   "metadata": {},
   "outputs": [],
   "source": [
    "with codecs.open('out.csv', 'w', encoding='utf8') as f:\n",
    "    # what are some of the optional arguments here?\n",
    "    csv_writer = csv.writer(f, quoting=csv.QUOTE_NONNUMERIC)\n",
    "    csv_writer.writerows(data)\n",
    "    # what do we notice when we look at this output file?"
   ]
  },
  {
   "attachments": {},
   "cell_type": "markdown",
   "id": "23be24c9",
   "metadata": {},
   "source": [
    "How does this relate to [project 1](https://cs.colby.edu/srtaylor/courses/S23/cs251/projects/p1datavis/p1datavis251.html)?"
   ]
  },
  {
   "cell_type": "markdown",
   "id": "2fcfeb56",
   "metadata": {},
   "source": []
  }
 ],
 "metadata": {
  "kernelspec": {
   "display_name": "Python 3",
   "language": "python",
   "name": "python3"
  },
  "language_info": {
   "codemirror_mode": {
    "name": "ipython",
    "version": 3
   },
   "file_extension": ".py",
   "mimetype": "text/x-python",
   "name": "python",
   "nbconvert_exporter": "python",
   "pygments_lexer": "ipython3",
   "version": "3.10.4"
  },
  "vscode": {
   "interpreter": {
    "hash": "3ad933181bd8a04b432d3370b9dc3b0662ad032c4dfaa4e4f1596c548f763858"
   }
  }
 },
 "nbformat": 4,
 "nbformat_minor": 5
}
