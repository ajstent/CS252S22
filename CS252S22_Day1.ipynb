{
 "cells": [
  {
   "cell_type": "markdown",
   "id": "604e570b",
   "metadata": {},
   "source": [
    "CS 252 Day 1, Jasper\n",
    "\n",
    "-------------------\n",
    "\n",
    "Topics:\n",
    "* Greetings, fellow human\n",
    "* Syllabus\n",
    "* Tech infrastructure\n",
    "* Format of data and terminology\n",
    "* CSV files"
   ]
  },
  {
   "cell_type": "markdown",
   "id": "d172dfc9",
   "metadata": {},
   "source": [
    "__Greetings, Fellow Human__\n",
    "\n",
    "* What is your name?\n",
    "* What is the most unusual animal you have ever interacted with?\n",
    "\n",
    "Jasper"
   ]
  },
  {
   "cell_type": "markdown",
   "id": "4461b2a9",
   "metadata": {},
   "source": [
    "__Syllabus__\n",
    "\n",
    "[https://cs.colby.edu/courses/S22/cs251/index.html](https://cs.colby.edu/courses/S22/cs251/index.html)\n",
    "\n",
    "* When are lab sessions and who may attend?\n",
    "* When and where are Amanda Stent's office hours?\n",
    "* When and where are the TAs' office hours?\n",
    "* When is the first lab due?\n",
    "* When is the first project due?\n",
    "* What will happen on Friday?"
   ]
  },
  {
   "cell_type": "markdown",
   "id": "ff369893",
   "metadata": {},
   "source": [
    "__Tech Infrastructure__\n",
    "\n",
    "* [VSCode](https://code.visualstudio.com/)\n",
    "* Python\n",
    "* Python modules: numpy scipy pandas palettable Pillow matplotlib seaborn jupyter scikit-learn\n",
    "* Opening a jupyter notebook\n",
    "* [Jupyterhub](http://jupyter.colby.edu/)\n",
    "* [Git](https://github.com)\n",
    "  * [Lectures](https://github.com/ajstent/CS252S22)\n",
    "  * [Projects and Labs](https://github.com/ajstent/CS252S22ProjectsLabs)\n",
    "* More about CS25x-related [software](https://cs.colby.edu/courses/S22/cs251/software.html)\n",
    "\n",
    "On Friday we will talk about doing checkouts in jupyterhub and make sure everyone can push to main"
   ]
  },
  {
   "cell_type": "markdown",
   "id": "337c59d1",
   "metadata": {},
   "source": [
    "__Format of Data and Terminology__\n",
    "\n",
    "* What is \"data\"? *A bag of collected values related to a single measure, quantitative or qualitative*\n",
    "  * [Data is Plural](https://www.data-is-plural.com/)\n",
    "* What is \"metadata\" and how does it relate to data? *data that provides information about other data*\n",
    "  * [Data Nutrition](https://datanutrition.org/)\n",
    "* How can we understand data? *through process of inspection*\n",
    "  * [Flowing Data](https://flowingdata.com/)\n",
    "* Data terms and what do they mean:\n",
    "  * Data point (feature vector)\n",
    "  * Feature (variable)\n",
    "    * Independent variable\n",
    "    * Dependent variable\n",
    "    * Missing data\n",
    "  * Feature measures\n",
    "    * Minimum\n",
    "    * Maximum\n",
    "    * Range\n",
    "    * Precision\n",
    "    * Accuracy\n",
    "  * Feature manipulations\n",
    "    * Scaling\n",
    "    * Normalizing\n",
    "  * Multivariate data\n",
    "    * Dimension\n",
    "  * Metadata\n",
    "  \n",
    "  In the example below, each row in the CSV is a data point; each cell is a feature; the last cell is the dependent variable (but it needn't be); there are definitely missing features; and the numeric features are interpreted as text which makes it hard for us to measure or manipulate them. The first row provides all the metadata there is.\n"
   ]
  },
  {
   "cell_type": "markdown",
   "id": "5fc8bfc0",
   "metadata": {},
   "source": [
    "__CSV files__\n",
    "\n",
    "* How can you read a csv file?\n",
    "* How can you write a csv file?"
   ]
  },
  {
   "cell_type": "code",
   "execution_count": 2,
   "id": "86af5f3d",
   "metadata": {},
   "outputs": [
    {
     "name": "stdout",
     "output_type": "stream",
     "text": [
      "72\n",
      "[['submissionNumber', 'submissionType', 'submissionTimestamp', 'numReviews', 'overallMin', 'overallMax', 'overallAverage', 'confidenceMin', 'confidenceMax', 'confidenceAverage', 'ethicsReviews', 'overallMeta', 'comment', 'deskRejectComment', 'numberOfOtherNotes'], ['70', 'cata', '23:35.1', '3', '2', '4', '3', '4', '4', '4', '1', '4', 'I like this one', '[]', '2'], ['20', 'cata', '23:31.3', '3', '2.5', '4', '3.166666667', '4', '4', '4', '0', '3', '', '[]', '6'], ['65', 'cata', '23:34.7', '3', '2.5', '3.5', '3', '2', '5', '2', '1', '4', 'I like this one', '[]', '2'], ['66', 'cata', '23:34.8', '3', '2.5', '3.5', '3.166666667', '2', '4', '2', '0', '4', 'I like this one', '[]', '3'], ['59', 'cata', '23:34.3', '3', '3', '3.5', '3.333333333', '3', '4', '3', '1', '4', '', '[]', '4'], ['61', 'cata', '23:34.4', '3', '2', '4', '3.166666667', '4', '4', '4', '2', '4', '', '[]', '2'], ['35', 'cata', '23:32.4', '3', '3', '4', '3.5', '2', '4', '2', '0', '4', '', '[]', '1'], ['55', 'cata', '23:34.0', '3', '3.5', '4', '3.833333333', '3', '4', '3', '0', '4', 'I like this one', '[]', '4'], ['22', 'cata', '23:31.4', '3', '3', '4', '3.666666667', '3', '4', '3', '0', '4', 'I like this one', '[]', '3'], ['25', 'cata', '23:31.6', '3', '3', '4.5', '3.833333333', '3', '4', '3', '0', '4', '', '[]', '4'], ['6', 'cata', '23:30.3', '3', '3', '4.5', '3.666666667', '3', '4', '3', '0', '5', '', '[]', '4'], ['2', 'cata', '23:30.0', '3', '2', '3', '2.333333333', '3', '3', '3', '0', '3', 'I like this one', '[]', '1'], ['5', 'catb', '23:30.2', '3', '1', '4', '2.333333333', '3', '5', '3', '1', '2', 'I do not like this one', '[]', '2'], ['9', 'cata', '23:30.4', '3', '2', '3', '2.5', '3', '4', '3', '0', '2', '', '[]', '1'], ['11', 'cata', '23:30.6', '3', '2.5', '4', '3.333333333', '4', '4', '4', '0', '3', 'I like this one', '[]', '8'], ['14', 'catb', '23:30.8', '3', '1.5', '3', '2', '4', '4', '4', '1', '2', '', '[]', '3'], ['15', 'cata', '23:30.9', '3', '1.5', '4', '2.833333333', '4', '4', '4', '0', '2', 'I like this one', '[]', '2'], ['16', 'cata', '23:30.9', '3', '2.5', '3.5', '3', '2', '4', '2', '1', '2', '', '[]', '3'], ['17', 'catb', '23:31.0', '3', '1.5', '2.5', '2', '3', '5', '3', '0', '2', 'I do not like this one', '[]', '1'], ['19', 'cata', '23:31.2', '3', '2', '3', '2.333333333', '3', '4', '3', '1', '3', '', '[]', '2'], ['21', 'cata', '23:31.3', '3', '2', '3', '2.5', '4', '4', '4', '2', '3', 'I like this one', '[]', '5'], ['24', 'cata', '23:31.6', '3', '2.5', '3.5', '3', '3', '4', '3', '0', '2', 'I like this one', '[]', '1'], ['26', 'cata', '23:31.7', '3', '2', '2.5', '2.166666667', '4', '5', '4', '1', '2', 'I like this one', '[]', '4'], ['28', 'cata', '23:31.9', '3', '2', '3', '2.333333333', '3', '4', '3', '0', '2', 'I like this one', '[]', '4'], ['31', 'cata', '23:32.1', '3', '2.5', '3.5', '3', '3', '4', '3', '0', '3', '', '[]', '4'], ['33', 'cata', '23:32.3', '3', '3', '3', '3', '3', '4', '3', '0', '3', 'I like this one', '[]', '2'], ['36', 'catb', '23:32.5', '3', '1', '2', '1.666666667', '3', '5', '3', '2', '3', '', '[]', '2'], ['37', 'cata', '23:32.6', '3', '2', '2', '2', '4', '5', '4', '1', '3', 'I like this one', '[]', '2'], ['39', 'cata', '23:32.7', '3', '2', '3.5', '2.833333333', '3', '4', '3', '0', '3', '', '[]', '2'], ['40', 'catb', '23:32.8', '3', '2.5', '4', '3.166666667', '3', '4', '3', '1', '3', 'I like this one', '[]', '11'], ['44', 'cata', '23:33.1', '3', '2', '2.5', '2.333333333', '3', '4', '3', '0', '2', 'I like this one', '[]', '1'], ['48', 'cata', '23:33.4', '3', '2', '3.5', '3', '3', '5', '3', '1', '3', '', '[]', '2'], ['51', 'cata', '23:33.7', '3', '2.5', '4', '3.166666667', '4', '4', '4', '0', '3', 'I like this one', '[]', '7'], ['52', 'cata', '23:33.8', '3', '1.5', '2', '1.833333333', '4', '4', '4', '1', '2', 'I like this one', '[]', '2'], ['53', 'cata', '23:33.8', '3', '2', '2.5', '2.333333333', '3', '4', '3', '1', '3', '', '[]', '1'], ['63', 'cata', '23:34.6', '3', '2', '3.5', '2.666666667', '3', '4', '3', '1', '4', '', '[]', '1'], ['69', 'cata', '23:35.0', '3', '1', '2', '1.5', '4', '5', '4', '0', '2', '', '[]', '5'], ['73', 'cata', '23:35.2', '3', '2', '3.5', '2.666666667', '4', '5', '4', '0', '2', '', '[]', '2'], ['75', 'cata', '23:35.4', '3', '1.5', '3.5', '2.333333333', '4', '4', '4', '0', '2', 'I like this one', '[]', '2'], ['77', 'cata', '23:35.5', '3', '1', '1', '1', '4', '5', '4', '0', '1', 'I like this one', '[]', '2'], ['74', 'cata', '23:35.3', '3', '2', '3', '2.333333333', '4', '5', '4', '2', '3', 'I do not like this one', '[]', '1'], ['72', 'cata', '23:35.2', '3', '2', '2', '2', '4', '4', '4', '1', '2', 'I like this one', '[]', '2'], ['68', 'cata', '23:34.9', '3', '2', '4', '2.833333333', '3', '4', '3', '1', '3', 'I like this one', '[]', '3'], ['67', 'cata', '23:34.9', '3', '2', '2.5', '2.333333333', '4', '4', '4', '1', '2', 'I do not like this one', '[]', '2'], ['64', 'cata', '23:34.6', '3', '2', '3.5', '2.5', '3', '4', '3', '1', '2', 'I like this one', '[]', '3'], ['62', 'cata', '23:34.5', '3', '1', '3.5', '2.666666667', '4', '4', '4', '0', '2', 'I like this one', '[]', '1'], ['60', 'cata', '23:34.4', '3', '1.5', '3', '2', '4', '4', '4', '1', '3', 'I like this one', '[]', '2'], ['58', 'cata', '23:34.2', '3', '2.5', '3.5', '3', '3', '4', '3', '0', '3', '', '[]', '10'], ['57', 'cata', '23:34.1', '3', '1.5', '2', '1.666666667', '4', '4', '4', '1', '2', '', '[]', '2'], ['56', 'cata', '23:34.0', '3', '1.5', '2.5', '2', '4', '5', '4', '0', '1', 'I like this one', '[]', '1'], ['54', 'cata', '23:33.9', '3', '1.5', '2.5', '2', '4', '5', '4', '2', '2', 'I like this one', '[]', '2'], ['50', 'cata', '23:33.6', '3', '2', '3.5', '2.666666667', '3', '4', '3', '1', '3', 'I like this one', '[]', '2'], ['49', 'cata', '23:33.5', '3', '1.5', '2', '1.833333333', '3', '4', '3', '0', '2', 'I like this one', '[]', '3'], ['47', 'cata', '23:33.4', '3', '2.5', '3.5', '3', '3', '4', '3', '0', '2', 'I like this one', '[]', '2'], ['46', 'cata', '23:33.3', '3', '2.5', '4', '3.166666667', '4', '5', '4', '1', '3', '', '[]', '1'], ['45', 'cata', '23:33.2', '3', '1.5', '2.5', '2.166666667', '4', '4', '4', '1', '2', '', '[]', '1'], ['43', 'cata', '23:33.1', '3', '2.5', '3', '2.833333333', '4', '4', '4', '0', '3', '', '[]', '1'], ['42', 'cata', '23:33.0', '3', '1', '2.5', '1.833333333', '4', '5', '4', '1', '2', 'I do not like this one', '[]', '7'], ['41', 'cata', '23:32.9', '2', '2', '2', '2', '5', '5', '5', '1', '3', '', '[]', '0'], ['38', 'cata', '23:32.7', '3', '1.5', '2', '1.833333333', '3', '4', '3', '0', '2', 'I like this one', '[]', '1'], ['34', 'cata', '23:32.4', '3', '2.5', '3.5', '3', '4', '5', '4', '1', '3', '', '[]', '2'], ['32', 'cata', '23:32.2', '3', '2', '3', '2.333333333', '4', '4', '4', '0', '3', '', '[]', '3'], ['30', 'cata', '23:32.1', '3', '1.5', '3', '2.333333333', '3', '4', '3', '0', '2', '', '[]', '1'], ['29', 'catb', '23:32.0', '3', '1.5', '2', '1.666666667', '3', '4', '3', '0', '2', '', '[]', '2'], ['23', 'cata', '23:31.5', '3', '2', '3', '2.333333333', '4', '5', '4', '0', '2', '', '[]', '2'], ['18', 'cata', '23:31.1', '3', '2.5', '3', '2.833333333', '4', '4', '4', '1', '3', 'I like this one', '[]', '0'], ['13', 'catb', '23:30.7', '3', '2', '3.5', '2.5', '3', '5', '3', '1', '4', '', '[]', '3'], ['10', 'cata', '23:30.5', '3', '1.5', '2', '1.833333333', '4', '4', '4', '1', '2', '', '[]', '14'], ['8', 'cata', '23:30.4', '3', '2', '2.5', '2.166666667', '3', '4', '3', '0', '2', '', '[]', '2'], ['1', 'cata', '23:30.0', '3', '1.5', '2', '1.833333333', '4', '5', '4', '1', '2', 'I do not like this one', '[]', '2'], ['27', 'catc', '23:31.8', '0', '', '', '', '', '', '', '', '', '', 'This submission is invalid.', '0']]\n",
      "15\n"
     ]
    }
   ],
   "source": [
    "import io\n",
    "import csv\n",
    "\n",
    "# If we read this way the csv reader \"fills in\" missing values as blanks, which may or may not be great\n",
    "with open('data/submissions_summary.csv', 'r', encoding='utf8') as f:\n",
    "    # what are some of the optional arguments here?\n",
    "    csvreader = csv.reader(f)\n",
    "    rows = [x for x in csvreader]\n",
    "print(len(rows))\n",
    "print(rows)\n",
    "print(len(rows[0]))"
   ]
  },
  {
   "cell_type": "code",
   "execution_count": null,
   "id": "0117d740",
   "metadata": {},
   "outputs": [],
   "source": [
    "import numpy as np\n",
    "\n",
    "# if we read this way, it won't fill in missing values, it will just throw an error\n",
    "# what are some of the optional arguments here?\n",
    "data = np.loadtxt('data/submissions_summary.csv', dtype=str)\n",
    "data"
   ]
  },
  {
   "cell_type": "code",
   "execution_count": 3,
   "id": "f09ca876",
   "metadata": {},
   "outputs": [
    {
     "data": {
      "text/plain": [
       "array([['submissionNumber', 'submissionType', 'submissionTimestamp', ...,\n",
       "        'comment', 'deskRejectComment', 'numberOfOtherNotes'],\n",
       "       ['70', 'cata', '23:35.1', ..., 'I like this one', '[]', '2'],\n",
       "       ['20', 'cata', '23:31.3', ..., '', '[]', '6'],\n",
       "       ...,\n",
       "       ['8', 'cata', '23:30.4', ..., '', '[]', '2'],\n",
       "       ['1', 'cata', '23:30.0', ..., 'I do not like this one', '[]', '2'],\n",
       "       ['27', 'catc', '23:31.8', ..., '', 'This submission is invalid.',\n",
       "        '0']], dtype='<U27')"
      ]
     },
     "execution_count": 3,
     "metadata": {},
     "output_type": "execute_result"
    }
   ],
   "source": [
    "import io\n",
    "import csv\n",
    "import numpy as np\n",
    "\n",
    "# if we read this way we get the combination of the good things from both the above, but it's still not perfect\n",
    "# maybe some of those optional function arguments would help eg coerce numbers into ints/floats... hmm...\n",
    "# for your first project you will create a reader that works really well, but you will *not use* numpy to do this.\n",
    "with open('data/submissions_summary.csv', 'r', encoding='utf8') as f:\n",
    "    # what are some of the optional arguments here?\n",
    "    data = np.array([x for x in csv.reader(f)])\n",
    "data"
   ]
  },
  {
   "cell_type": "code",
   "execution_count": null,
   "id": "334b5b3a",
   "metadata": {},
   "outputs": [],
   "source": [
    "with open('out.csv', 'w', encoding='utf8') as f:\n",
    "    # what are some of the optional arguments here?\n",
    "    csv_writer = csv.writer(f, quoting=csv.QUOTE_NONNUMERIC)\n",
    "    csv_writer.writerows(data)\n",
    "    # what do we notice when we look at this output file?"
   ]
  },
  {
   "cell_type": "markdown",
   "id": "23be24c9",
   "metadata": {},
   "source": [
    "How does this relate to [project 1](https://cs.colby.edu/courses/S22/cs251/projects/p1datavis/p1datavis251.html)?"
   ]
  }
 ],
 "metadata": {
  "kernelspec": {
   "display_name": "Python 3 (ipykernel)",
   "language": "python",
   "name": "python3"
  },
  "language_info": {
   "codemirror_mode": {
    "name": "ipython",
    "version": 3
   },
   "file_extension": ".py",
   "mimetype": "text/x-python",
   "name": "python",
   "nbconvert_exporter": "python",
   "pygments_lexer": "ipython3",
   "version": "3.9.7"
  }
 },
 "nbformat": 4,
 "nbformat_minor": 5
}
