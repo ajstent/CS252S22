{
 "cells": [
  {
   "cell_type": "markdown",
   "id": "642ff7f5",
   "metadata": {},
   "source": [
    "CS 252 Day 1\n",
    "-------------------\n",
    "\n",
    "Topics:\n",
    "* Greetings, fellow human\n",
    "* Syllabus\n",
    "* Tech infrastructure\n",
    "* Format of data and terminology\n",
    "* CSV files"
   ]
  },
  {
   "cell_type": "markdown",
   "id": "39429fd0",
   "metadata": {},
   "source": [
    "__Greetings, Fellow Human__\n",
    "\n",
    "* What is your name?\n",
    "* What is the most unusual animal you have ever interacted with?"
   ]
  },
  {
   "cell_type": "markdown",
   "id": "673d06e2",
   "metadata": {},
   "source": [
    "__Syllabus__\n",
    "\n",
    "[https://cs.colby.edu/courses/S22/cs251/index.html](https://cs.colby.edu/courses/S22/cs251/index.html)\n",
    "\n",
    "* When are lab sessions and who may attend?\n",
    "* When and where are Amanda Stent's office hours?\n",
    "* When and where are the TAs' office hours?\n",
    "* When is the first lab due?\n",
    "* When is the first project due?\n",
    "* What will happen on Friday?"
   ]
  },
  {
   "cell_type": "markdown",
   "id": "1ebc0031",
   "metadata": {},
   "source": [
    "__Tech Infrastructure__\n",
    "\n",
    "* [VSCode](https://code.visualstudio.com/)\n",
    "* Python\n",
    "* Python modules: numpy scipy pandas palettable Pillow matplotlib seaborn jupyter scikit-learn\n",
    "* Opening a jupyter notebook\n",
    "* [Jupyterhub](http://jupyter.colby.edu/)\n",
    "* [Git](https://github.com)\n",
    "  * [Lectures](https://github.com/ajstent/CS252S22)\n",
    "  * [Projects and Labs](https://github.com/ajstent/CS252S22ProjectsLabs)\n",
    "* More about CS25x-related [software](https://cs.colby.edu/courses/S22/cs251/software.html)"
   ]
  },
  {
   "cell_type": "markdown",
   "id": "47f8e099",
   "metadata": {},
   "source": [
    "__Format of Data and Terminology__\n",
    "\n",
    "* What is \"data\"?\n",
    "  * [Data is Plural](https://www.data-is-plural.com/)\n",
    "* What is \"metadata\" and how does it relate to data?\n",
    "  * [Data Nutrition](https://datanutrition.org/)\n",
    "* How can we understand data?\n",
    "  * [Flowing Data](https://flowingdata.com/)\n",
    "* Data terms and what do they mean:\n",
    "  * Data point (feature vector)\n",
    "  * Feature (variable)\n",
    "    * Independent variable\n",
    "    * Dependent variable\n",
    "    * Missing data\n",
    "  * Feature measures\n",
    "    * Minimum\n",
    "    * Maximum\n",
    "    * Range\n",
    "    * Precision\n",
    "    * Accuracy\n",
    "  * Feature manipulations\n",
    "    * Scaling\n",
    "    * Normalizing\n",
    "  * Multivariate data\n",
    "    * Dimension\n",
    "  * Metadata\n"
   ]
  },
  {
   "cell_type": "markdown",
   "id": "7bbbd44c",
   "metadata": {},
   "source": [
    "__CSV files__\n",
    "\n",
    "* How can you read a csv file?\n",
    "* How can you write a csv file?"
   ]
  },
  {
   "cell_type": "code",
   "execution_count": null,
   "id": "0d5c4823",
   "metadata": {},
   "outputs": [],
   "source": [
    "import io\n",
    "import csv\n",
    "\n",
    "with open('reviews_summary_2021_05.csv', 'r', encoding='utf8') as f:\n",
    "    # what are some of the optional arguments here?\n",
    "    csvreader = csv.reader(f)\n",
    "    rows = [x for x in csvreader]\n",
    "rows"
   ]
  },
  {
   "cell_type": "code",
   "execution_count": null,
   "id": "f99283df",
   "metadata": {},
   "outputs": [],
   "source": [
    "import numpy as np\n",
    "\n",
    "# what are some of the optional arguments here?\n",
    "data = np.loadtxt('reviews_summary_2021_05.csv', dtype=str)\n",
    "data"
   ]
  },
  {
   "cell_type": "code",
   "execution_count": null,
   "id": "eb1870dd",
   "metadata": {},
   "outputs": [],
   "source": [
    "import io\n",
    "import csv\n",
    "import numpy as np\n",
    "\n",
    "with open('reviews_summary_2021_05.csv', 'r', encoding='utf8') as f:\n",
    "    # what are some of the optional arguments here?\n",
    "    data = np.array([x for x in csv.reader(f)])\n",
    "data"
   ]
  },
  {
   "cell_type": "code",
   "execution_count": null,
   "id": "00b167c4",
   "metadata": {},
   "outputs": [],
   "source": [
    "with open('out.csv', 'w', encoding='utf8') as f:\n",
    "    # what are some of the optional arguments here?\n",
    "    csv_writer = csv.writer(f, quoting=csv.QUOTE_NONNUMERIC)\n",
    "    csv_writer.writerows(data)\n",
    "    # what do we notice when we look at this output file?"
   ]
  },
  {
   "cell_type": "markdown",
   "id": "ac740527",
   "metadata": {},
   "source": [
    "How does this relate to [project 1](https://cs.colby.edu/courses/S22/cs251/projects/p1datavis/p1datavis251.html)?"
   ]
  }
 ],
 "metadata": {
  "kernelspec": {
   "display_name": "Python 3 (ipykernel)",
   "language": "python",
   "name": "python3"
  },
  "language_info": {
   "codemirror_mode": {
    "name": "ipython",
    "version": 3
   },
   "file_extension": ".py",
   "mimetype": "text/x-python",
   "name": "python",
   "nbconvert_exporter": "python",
   "pygments_lexer": "ipython3",
   "version": "3.9.7"
  }
 },
 "nbformat": 4,
 "nbformat_minor": 5
}
