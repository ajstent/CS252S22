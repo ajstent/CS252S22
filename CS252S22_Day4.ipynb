{
 "cells": [
  {
   "cell_type": "markdown",
   "id": "78695398",
   "metadata": {},
   "source": [
    "Let's talk more! about numpy\n",
    "----------------------\n",
    "\n",
    "**Going from lists to arrays and figuring out if that worked well...**"
   ]
  },
  {
   "cell_type": "code",
   "execution_count": null,
   "id": "bbdcff42",
   "metadata": {},
   "outputs": [],
   "source": [
    "import numpy as np\n",
    "\n",
    "# how do I make a numpy array from a python list?\n",
    "pylist = [[10, 1, 2021], [2, 9, 2022]]\n",
    "nparray = np.array(pylist)\n",
    "\n",
    "# how do I print a numpy array?\n",
    "print(nparray)\n",
    "\n",
    "# and back to a list?\n",
    "backtolist = nparray.tolist()\n",
    "print(backtolist)"
   ]
  },
  {
   "cell_type": "code",
   "execution_count": null,
   "id": "c757de3a",
   "metadata": {},
   "outputs": [],
   "source": [
    "# how do I figure out the type of a numpy array? \n",
    "print(nparray.dtype)\n",
    "\n",
    "# hmm, will this work and why or why not?\n",
    "print(backtolist.dtype)"
   ]
  },
  {
   "cell_type": "code",
   "execution_count": null,
   "id": "6aa47a60",
   "metadata": {},
   "outputs": [],
   "source": [
    "# how do I change the type of a numpy array?\n",
    "nparrayFloat = nparray.astype(float)\n",
    "print(nparrayFloat.dtype)\n",
    "\n",
    "nparrayStr = np.array(nparrayFloat, dtype=str)\n",
    "print(nparrayStr.dtype)\n",
    "\n",
    "nparrayFloat = nparrayStr.astype(float)\n",
    "print(nparrayFloat.dtype)"
   ]
  },
  {
   "cell_type": "code",
   "execution_count": null,
   "id": "2b3a6a86",
   "metadata": {},
   "outputs": [],
   "source": [
    "# (review!) how do I see the number of dimensions, number of elements, and shape of a numpy array?"
   ]
  },
  {
   "cell_type": "markdown",
   "id": "e76bf41b",
   "metadata": {},
   "source": [
    "**Making numpy arrays...**"
   ]
  },
  {
   "cell_type": "code",
   "execution_count": null,
   "id": "26e12304",
   "metadata": {},
   "outputs": [],
   "source": [
    "# make an array of zeros\n",
    "nparrayZero = np.zeros([3, 10])\n",
    "print(nparrayZero)\n",
    "\n",
    "# that's floats ... what if we want ints?\n",
    "\n",
    "# what if we want zeros instead of ones?\n",
    "\n",
    "# what if we want sevens?"
   ]
  },
  {
   "cell_type": "code",
   "execution_count": null,
   "id": "65e39cef",
   "metadata": {},
   "outputs": [],
   "source": [
    "# make an array of random values\n",
    "nparrayRandomFloat = np.random.random([3, 10])\n",
    "print(nparrayRandomFloat)\n",
    "print(nparrayRandomFloat.dtype)\n",
    "\n",
    "# what if we want random ints? let's see...\n",
    "nparrayRandomFloat = np.random.random([3, 10], dtype=int)\n",
    "\n",
    "# hmm, if not that then what?\n"
   ]
  },
  {
   "cell_type": "code",
   "execution_count": null,
   "id": "25730631",
   "metadata": {},
   "outputs": [],
   "source": [
    "# what if we want random floats in an interval?\n",
    "print(np.linspace(0, 10, 10))\n",
    "\n",
    "# what if we want to shape that into a 2 by 5 array?\n",
    "\n",
    "# what if we want random ints in an interval?"
   ]
  },
  {
   "cell_type": "markdown",
   "id": "994f6934",
   "metadata": {},
   "source": [
    "**Getting access to elements and \"slices\" of numpy arrays...**"
   ]
  },
  {
   "cell_type": "code",
   "execution_count": null,
   "id": "ef0a4826",
   "metadata": {},
   "outputs": [],
   "source": [
    "# (review!) how do I access an element in an array?\n",
    "print(nparrayRandomFloat[0][0])\n",
    "\n",
    "# is there a prettier way?\n",
    "print(nparrayRandomFloat[0, 0])\n",
    "\n",
    "# this is only marginally prettier for a 2-d array but imagine a 10-d array!"
   ]
  },
  {
   "cell_type": "code",
   "execution_count": null,
   "id": "cda05fff",
   "metadata": {},
   "outputs": [],
   "source": [
    "print(nparrayRandomFloat)\n",
    "\n",
    "# how do I access the whole second column?\n",
    "print(\"first column\")\n",
    "print(nparrayRandomFloat[:, 1])\n",
    "\n",
    "# what about the whole second row?\n",
    "print(\"first row\")\n",
    "nparrayRandomFloat[1, :]\n",
    "\n",
    "# what about the last two rows?\n",
    "\n",
    "# what about the first row and last two columns?"
   ]
  },
  {
   "cell_type": "code",
   "execution_count": null,
   "id": "ab5ef905",
   "metadata": {},
   "outputs": [],
   "source": [
    "# how do I access the 1st and 3rd columns?\n",
    "print(\"first and third columns\")\n",
    "print(nparrayRandomFloat[np.ix_(np.arange(nparrayRandomFloat.shape[0]), [1, 3])])\n",
    "\n",
    "# whaaaat was that?"
   ]
  },
  {
   "cell_type": "markdown",
   "id": "ef99c05b",
   "metadata": {},
   "source": [
    "**Modifying (slices of) arrays...**"
   ]
  },
  {
   "cell_type": "code",
   "execution_count": null,
   "id": "c6b04149",
   "metadata": {},
   "outputs": [],
   "source": [
    "# how do I *change* the element at 1, 1 of the array?"
   ]
  },
  {
   "cell_type": "code",
   "execution_count": null,
   "id": "2338269d",
   "metadata": {},
   "outputs": [],
   "source": [
    "# and now for some magic! how do I assign the second row to 1s?\n",
    "nparrayRandomFloat[1] = 1\n",
    "print(nparrayRandomFloat)\n",
    "print(nparrayRandomFloat.dtype)\n",
    "\n",
    "# how do I assign the second row to increasing ints?\n",
    "nparrayRandomFloat[1] = np.arange(nparrayRandomFloat.shape[1])\n",
    "print(nparrayRandomFloat)\n",
    "print(nparrayRandomFloat.dtype)\n",
    "\n",
    "# how do I assign the second row to 3* itself?\n"
   ]
  },
  {
   "cell_type": "markdown",
   "id": "60344331",
   "metadata": {},
   "source": [
    "**Copying numpy arrays...**"
   ]
  },
  {
   "cell_type": "code",
   "execution_count": null,
   "id": "7267f61e",
   "metadata": {},
   "outputs": [],
   "source": [
    "# let's try the obvious thing\n",
    "nparrayRandomFloat2 = nparrayRandomFloat\n",
    "print(\"nparrayRandomFloat\")\n",
    "print(nparrayRandomFloat)\n",
    "print(\"nparrayRandomFloat2\")\n",
    "print(nparrayRandomFloat2)"
   ]
  },
  {
   "cell_type": "code",
   "execution_count": null,
   "id": "d5bc7cb4",
   "metadata": {},
   "outputs": [],
   "source": [
    "nparrayRandomFloat2[0,0] = 0\n",
    "print(\"nparrayRandomFloat\")\n",
    "print(nparrayRandomFloat)\n",
    "print(\"nparrayRandomFloat2\")\n",
    "print(nparrayRandomFloat2)\n",
    "\n",
    "# whaaat just happened??\n",
    "# how do we stop that happening?? hint, what are we doing? we are *copying*"
   ]
  },
  {
   "cell_type": "markdown",
   "id": "440ee93b",
   "metadata": {},
   "source": [
    "**Doing other things to a whole row or column...**"
   ]
  },
  {
   "cell_type": "code",
   "execution_count": null,
   "id": "7872f828",
   "metadata": {},
   "outputs": [],
   "source": [
    "# (review!) how do we assign value(s) to a row or column?\n",
    "nparrayRandomFloat[:1] = np.zeros(nparrayRandomFloat.shape[1])\n",
    "print(nparrayRandomFloat)"
   ]
  },
  {
   "cell_type": "code",
   "execution_count": null,
   "id": "65824fde",
   "metadata": {},
   "outputs": [],
   "source": [
    "# let's sum across each column\n",
    "np.sum(nparrayRandomFloat, axis=0)\n",
    "\n",
    "# how would we sum across each row?\n",
    "\n"
   ]
  },
  {
   "cell_type": "code",
   "execution_count": null,
   "id": "da74acc4",
   "metadata": {},
   "outputs": [],
   "source": [
    "# what if we had a tensor?\n",
    "nptensorFloat = np.ones([3, 4, 5])\n",
    "print(nptensorFloat)\n",
    "\n",
    "np.sum(nptensorFloat, axis=2)"
   ]
  },
  {
   "cell_type": "code",
   "execution_count": null,
   "id": "e63809ab",
   "metadata": {},
   "outputs": [],
   "source": [
    "# what if we don't specify an axis?"
   ]
  },
  {
   "cell_type": "code",
   "execution_count": null,
   "id": "f0b3b55c",
   "metadata": {},
   "outputs": [],
   "source": [
    "# what other functions can we apply across axes?"
   ]
  },
  {
   "cell_type": "code",
   "execution_count": null,
   "id": "2ca7edca",
   "metadata": {},
   "outputs": [],
   "source": [
    "# let's take it up a notch\n",
    "\n",
    "nparrayRandomInt = np.random.randint(low=0, high=10, size=(3,4))\n",
    "print(nparrayRandomInt)\n",
    "\n",
    "print(nparrayRandomInt - np.min(nparrayRandomInt, axis=0))\n",
    "\n",
    "# whaaat just happened? let's look at the shapes\n"
   ]
  },
  {
   "cell_type": "code",
   "execution_count": null,
   "id": "3bff44e6",
   "metadata": {},
   "outputs": [],
   "source": [
    "# why is this cool?\n",
    "import timeit\n",
    "\n",
    "def sumLoop():\n",
    "    '''Use for loop to sum a row vector'''\n",
    "    longRow = np.array([i for i in range(1, 1000000000)])\n",
    "    theSum = 0\n",
    "    for i in range(len(longRow)):\n",
    "        theSum += longRow[i]\n",
    "\n",
    "def sumVectorized():\n",
    "    '''Vectorized version of summing a row vector'''\n",
    "    longRow = np.array([i for i in range(1, 1000000000)])\n",
    "    theSum = np.sum(longRow)\n",
    "\n",
    "print(timeit.timeit(lambda: sumLoop))\n",
    "print(timeit.timeit(lambda: sumVectorized))"
   ]
  },
  {
   "cell_type": "code",
   "execution_count": null,
   "id": "eeb51624",
   "metadata": {},
   "outputs": [],
   "source": [
    "# what if we try to do the subtract-min thing across axis 1?\n",
    "print(nparrayRandomInt - np.min(nparrayRandomInt, axis=1))\n"
   ]
  },
  {
   "cell_type": "code",
   "execution_count": null,
   "id": "30b15f84",
   "metadata": {},
   "outputs": [],
   "source": [
    "# how can we fix that? make the arrays shape-compatible!\n",
    "print(nparrayRandomInt - np.min(nparrayRandomInt, axis=1)[:, np.newaxis])"
   ]
  },
  {
   "cell_type": "code",
   "execution_count": null,
   "id": "71840c65",
   "metadata": {},
   "outputs": [],
   "source": [
    "# is there another way to achieve this?\n",
    "print(nparrayRandomInt - np.min(nparrayRandomInt, axis=1, keepdims=True))\n"
   ]
  },
  {
   "cell_type": "markdown",
   "id": "3d4e39fd",
   "metadata": {},
   "source": [
    "Five Jupyter tips\n",
    "------------------\n",
    "\n",
    "1. To run a cell, you can hit Ctrl+Enter \n",
    "2. Quite often, a Jupyter \"mistake\" happens if you forget that this cell has all the memory of every cell that was already run, \n",
    "3. and only those cells, \n",
    "4. and only the last time they were run\n",
    "5. To go into \"select mode\", hit Esc, then you can easily navigate from cell to cell"
   ]
  },
  {
   "cell_type": "markdown",
   "id": "e7c23284",
   "metadata": {},
   "source": [
    "Markdown\n",
    "--------\n",
    "\n",
    "These cells that look like fancy text are in Markdown. Markdown cheat sheet: https://www.markdownguide.org/cheat-sheet"
   ]
  }
 ],
 "metadata": {
  "kernelspec": {
   "display_name": "Python 3 (ipykernel)",
   "language": "python",
   "name": "python3"
  },
  "language_info": {
   "codemirror_mode": {
    "name": "ipython",
    "version": 3
   },
   "file_extension": ".py",
   "mimetype": "text/x-python",
   "name": "python",
   "nbconvert_exporter": "python",
   "pygments_lexer": "ipython3",
   "version": "3.9.10"
  }
 },
 "nbformat": 4,
 "nbformat_minor": 5
}
