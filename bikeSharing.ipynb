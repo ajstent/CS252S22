{
  "cells": [
    {
      "cell_type": "code",
      "execution_count": 21,
      "metadata": {
        "id": "ROBdU4S5j14K"
      },
      "outputs": [],
      "source": [
        "import numpy as np\n",
        "import pandas as pd\n",
        "import seaborn as sns\n",
        "import scipy.linalg as sp_la "
      ]
    },
    {
      "cell_type": "markdown",
      "metadata": {
        "id": "ndl9zRr_j14N"
      },
      "source": [
        "For this homework we will work with the Seoul Bike Data, which comes from https://archive.ics.uci.edu/ml/datasets/Seoul+Bike+Sharing+Demand. "
      ]
    },
    {
      "cell_type": "code",
      "execution_count": 22,
      "metadata": {},
      "outputs": [
        {
          "data": {
            "text/plain": [
              "array([[1, 3],\n",
              "       [4, 6]])"
            ]
          },
          "execution_count": 22,
          "metadata": {},
          "output_type": "execute_result"
        }
      ],
      "source": [
        "data = np.array([[1,2,3],[4,5,6]])\n",
        "data[:, [0,2]]"
      ]
    },
    {
      "cell_type": "code",
      "execution_count": 23,
      "metadata": {
        "colab": {
          "base_uri": "https://localhost:8080/",
          "height": 381
        },
        "id": "epTlp02Cj14P",
        "outputId": "beea06b8-1dae-4b52-ed36-2a7cf96ef82d"
      },
      "outputs": [],
      "source": [
        "data = np.array(np.genfromtxt('data/SeoulBikeData.csv', delimiter=',', skip_header=1, dtype=float, encoding=\"utf-8\", usecols=[1,2,3,4,5,6,7,8,9,10]))  \n",
        "columns = [\"Rented Bike Count\",\"Hour\",\"Temperature(C)\",\"Humidity(%)\",\"Wind speed (m/s)\",\"Visibility (10m)\",\"Dew point temperature(C)\",\"Solar Radiation (MJ/m2)\",\"Rainfall(mm)\",\"Snowfall (cm)\"]"
      ]
    },
    {
      "cell_type": "markdown",
      "metadata": {
        "id": "P8Y_iyuTj14P"
      },
      "source": [
        "How many data points are in the dataset?"
      ]
    },
    {
      "cell_type": "code",
      "execution_count": 24,
      "metadata": {
        "id": "hUpmZn7Sj14P"
      },
      "outputs": [
        {
          "name": "stdout",
          "output_type": "stream",
          "text": [
            "8760\n"
          ]
        }
      ],
      "source": [
        "print(data.shape[0])"
      ]
    },
    {
      "cell_type": "markdown",
      "metadata": {
        "id": "41I1rzogj14Q"
      },
      "source": [
        "What are the min, max, mean and standard deviation for the dependent variable rented bike count?"
      ]
    },
    {
      "cell_type": "code",
      "execution_count": 25,
      "metadata": {
        "id": "PMynhppvj14Q"
      },
      "outputs": [
        {
          "name": "stdout",
          "output_type": "stream",
          "text": [
            "0.0 3556.0 704.6020547945205 644.9606517645436\n"
          ]
        }
      ],
      "source": [
        "print(data[:, 0].min(), data[:, 0].max(), data[:, 0].mean(), data[:, 0].std())"
      ]
    },
    {
      "cell_type": "markdown",
      "metadata": {
        "id": "8ugJtK3Zj14Q"
      },
      "source": [
        "Which two independent variables are least highly correlated with the dependent variable?"
      ]
    },
    {
      "cell_type": "code",
      "execution_count": 26,
      "metadata": {
        "id": "STk51vujj14R"
      },
      "outputs": [
        {
          "name": "stdout",
          "output_type": "stream",
          "text": [
            "Rented Bike Count 1.0\n",
            "Hour 0.4102572913224859\n",
            "Temperature(C) 0.538558153013979\n",
            "Humidity(%) -0.19978016700089826\n",
            "Wind speed (m/s) 0.12110844818838673\n",
            "Visibility (10m) 0.19928029673135902\n",
            "Dew point temperature(C) 0.3797881212449725\n",
            "Solar Radiation (MJ/m2) 0.2618369855095913\n",
            "Rainfall(mm) -0.12307395980285031\n",
            "Snowfall (cm) -0.1418036499974599\n"
          ]
        }
      ],
      "source": [
        "for i in range(len(columns)):\n",
        "    print(columns[i], np.corrcoef(data[:, 0], data[:, i], rowvar=True)[0,1])"
      ]
    },
    {
      "cell_type": "markdown",
      "metadata": {
        "id": "QieZ667Mj14R"
      },
      "source": [
        "If you fit a linear regression using only the independent variable most highly correlated with the dependent one, what are the slope and intercept you get?"
      ]
    },
    {
      "cell_type": "code",
      "execution_count": 27,
      "metadata": {
        "id": "r0DvZROoj14R"
      },
      "outputs": [],
      "source": [
        "def makePoly(x, polys):\n",
        "    # make an empty array of size A\n",
        "    A = np.zeros([x.shape[0], np.sum(polys)+1])\n",
        "    A[:, 0] = np.squeeze(x[:, 0]**0)\n",
        "    k = 1\n",
        "    for (j, poly) in enumerate(polys):\n",
        "        for i in range(1, poly+1):\n",
        "        # np.squeeze is a fun function :)\n",
        "        # notice this is also a third way to get that leading column of ones!\n",
        "            A[:, k] = np.squeeze(x[:, j]**i)\n",
        "            k += 1\n",
        "    return A\n",
        "\n",
        "def fit(data, independent, dependent, polys):\n",
        "    # This is our independent variable, just one for now\n",
        "    x = data[np.ix_(np.arange(data.shape[0]), independent)]\n",
        "\n",
        "    # We add the polynomials, and a column of 1s for the intercept\n",
        "    A = makePoly(x, polys)\n",
        "    print(A.shape)\n",
        "\n",
        "    # This is the dependent variable \n",
        "    y = data[:, dependent]\n",
        "\n",
        "    # This is the regression coefficients that were fit, plus some other results\n",
        "    # We use _ when we don't want to remember something a function returns\n",
        "    c, _, _, _ = sp_la.lstsq(A, y)\n",
        "    return c\n",
        "\n",
        "def predict(data, independent, polys, c):\n",
        "    # These are our independent variable(s)\n",
        "    x = data[np.ix_(np.arange(data.shape[0]), independent)]\n",
        "\n",
        "    # We add the polynomials, and a column of 1s for the intercept\n",
        "    A = makePoly(x, polys)\n",
        "\n",
        "    return np.dot(A, c)"
      ]
    },
    {
      "cell_type": "code",
      "execution_count": 28,
      "metadata": {},
      "outputs": [],
      "source": [
        "def rsquared(y, yhat):\n",
        "    if len(y) != len(yhat):\n",
        "        print(\"Need y and yhat to be the same length!\")\n",
        "        return 0\n",
        "    return 1 - (((y - yhat)**2).sum() / ((y - y.mean())**2).sum())"
      ]
    },
    {
      "cell_type": "code",
      "execution_count": 29,
      "metadata": {},
      "outputs": [
        {
          "name": "stdout",
          "output_type": "stream",
          "text": [
            "(8760, 2)\n",
            "[329.95251395  29.08109899]\n"
          ]
        }
      ],
      "source": [
        "c = fit(data, [2], 0, [1])\n",
        "print(c)"
      ]
    },
    {
      "cell_type": "markdown",
      "metadata": {
        "id": "jUJFDFicj14R"
      },
      "source": [
        "If you fit a linear regression using all the independent variables, what are the slope and intercept you get?"
      ]
    },
    {
      "cell_type": "code",
      "execution_count": 30,
      "metadata": {
        "id": "5yosrFbaj14S"
      },
      "outputs": [
        {
          "name": "stdout",
          "output_type": "stream",
          "text": [
            "(8760, 10)\n",
            "[ 5.48853646e+02  2.73154522e+01  2.65792502e+01 -8.81147935e+00\n",
            "  6.92209593e+00  2.12873303e-02  5.41311278e+00 -7.93427651e+01\n",
            " -5.88068970e+01  2.10769823e+01]\n"
          ]
        }
      ],
      "source": [
        "ind = list(range(1, len(columns)))\n",
        "c = fit(data, ind, 0, [1 for x in ind])\n",
        "print(c)"
      ]
    },
    {
      "cell_type": "markdown",
      "metadata": {
        "id": "EAuo3Rj1j14S"
      },
      "source": [
        "What combination of independent variables gives you a linear regression model that has the lowest Rsquared on the test data?"
      ]
    },
    {
      "cell_type": "markdown",
      "metadata": {
        "id": "jIl7ngupj14S"
      },
      "source": [
        "What do you conclude about bike shares in Seoul\n",
        " from your analysis of this dataset?"
      ]
    },
    {
      "cell_type": "code",
      "execution_count": 32,
      "metadata": {},
      "outputs": [
        {
          "name": "stdout",
          "output_type": "stream",
          "text": [
            "(7008, 10) (1752, 10)\n",
            "(700800, 10)\n"
          ]
        }
      ],
      "source": [
        "(train, test) = np.split(data, [int(len(data) / 10 * 8)])\n",
        "print(train.shape, test.shape)\n",
        "train = np.vstack([train]*100)\n",
        "print(train.shape)"
      ]
    },
    {
      "cell_type": "code",
      "execution_count": 33,
      "metadata": {},
      "outputs": [
        {
          "name": "stdout",
          "output_type": "stream",
          "text": [
            "(700800, 2)\n",
            "[305.20804102  29.43473846]\n",
            "CPU times: user 60.1 ms, sys: 54 ms, total: 114 ms\n",
            "Wall time: 312 ms\n"
          ]
        },
        {
          "name": "stderr",
          "output_type": "stream",
          "text": [
            "Bad pipe message: %s [b'\\x10*\\x847W\\xfe\\xc2\\x00\\x0f\\xeb\\xb7\\x16ml\\xfaD\\x1f\\xe5\\x00\\x00|\\xc0,\\xc00\\x00\\xa3\\x00\\x9f\\xcc\\xa9\\xcc\\xa8\\xcc\\xaa\\xc0\\xaf\\xc0\\xad\\xc0\\xa3\\xc0\\x9f\\xc0]\\xc0a\\xc0W\\xc0S\\xc0+\\xc0/\\x00\\xa2\\x00\\x9e\\xc0\\xae\\xc0\\xac\\xc0', b\"\\x9e\\xc0\\\\\\xc0`\\xc0V\\xc0R\\xc0$\\xc0(\\x00k\\x00j\\xc0#\\xc0'\\x00g\\x00@\\xc0\\n\\xc0\\x14\\x009\\x008\\xc0\\t\\xc0\\x13\\x003\\x002\\x00\\x9d\\xc0\\xa1\\xc0\\x9d\\xc0Q\\x00\\x9c\\xc0\\xa0\\xc0\\x9c\\xc0P\\x00=\\x00<\\x005\\x00/\\x00\\x9a\\x00\\x99\\xc0\\x07\\xc0\\x11\\x00\\x96\\x00\\x05\\x00\\xff\\x01\\x00\\x00j\\x00\\x00\\x00\\x0e\\x00\\x0c\\x00\\x00\\t127.0.0.1\\x00\\x0b\\x00\\x04\\x03\\x00\\x01\\x02\\x00\\n\\x00\\x0c\\x00\\n\\x00\\x1d\\x00\\x17\\x00\\x1e\\x00\\x19\\x00\\x18\\x00#\\x00\\x00\\x00\\x16\\x00\\x00\\x00\\x17\\x00\\x00\\x00\\r\\x000\\x00.\\x04\\x03\\x05\\x03\\x06\\x03\\x08\\x07\\x08\\x08\\x08\\t\\x08\\n\\x08\\x0b\\x08\\x04\"]\n",
            "Bad pipe message: %s [b'\\x08\\x06\\x04\\x01\\x05\\x01\\x06', b'', b'\\x03\\x03']\n",
            "Bad pipe message: %s [b'']\n",
            "Bad pipe message: %s [b'', b'\\x02']\n",
            "Bad pipe message: %s [b'\\x05\\x02\\x06']\n",
            "Bad pipe message: %s [b'\\x8c\\xacn\\x1c\\xa4\\xfd,_+\\xf91X\\xb3c\\xfb\\x19\\xaf\\t\\x00\\x00\\xa6\\xc0,\\xc00\\x00\\xa3\\x00\\x9f\\xcc\\xa9\\xcc\\xa8\\xcc\\xaa\\xc0\\xaf\\xc0\\xad\\xc0\\xa3\\xc0\\x9f\\xc0]\\xc0a\\xc0W\\xc0S\\xc0+\\xc0/\\x00\\xa2\\x00\\x9e']\n",
            "Bad pipe message: %s [b\"\\xc0\\xac\\xc0\\xa2\\xc0\\x9e\\xc0\\\\\\xc0`\\xc0V\\xc0R\\xc0$\\xc0(\\x00k\\x00j\\xc0s\\xc0w\\x00\\xc4\\x00\\xc3\\xc0#\\xc0'\\x00g\\x00@\\xc0r\\xc0v\\x00\\xbe\\x00\\xbd\\xc0\\n\\xc0\\x14\\x009\\x008\\x00\\x88\\x00\\x87\\xc0\\t\\xc0\\x13\\x003\\x002\\x00\\x9a\\x00\\x99\\x00E\\x00D\\xc0\\x07\\xc0\\x11\\xc0\\x08\\xc0\\x12\\x00\\x16\\x00\\x13\\x00\\x9d\\xc0\\xa1\\xc0\\x9d\\xc0Q\\x00\\x9c\\xc0\\xa0\\xc0\\x9c\\xc0P\\x00=\\x00\\xc0\\x00<\\x00\\xba\\x005\\x00\\x84\\x00/\\x00\\x96\\x00A\\x00\\x05\\x00\\n\\x00\\xff\\x01\\x00\\x00j\\x00\\x00\\x00\\x0e\\x00\\x0c\\x00\\x00\\t127.0.0.1\\x00\\x0b\\x00\\x04\\x03\\x00\\x01\\x02\\x00\\n\\x00\\x0c\\x00\\n\\x00\\x1d\\x00\\x17\\x00\\x1e\\x00\\x19\\x00\\x18\\x00#\\x00\\x00\\x00\\x16\\x00\\x00\\x00\\x17\\x00\\x00\\x00\\r\\x000\\x00.\\x04\"]\n",
            "Bad pipe message: %s [b'\\x03\\x06', b'\\x07\\x08']\n",
            "Bad pipe message: %s [b'\\t\\x08\\n\\x08\\x0b\\x08\\x04']\n",
            "Bad pipe message: %s [b'\\x08\\x06\\x04\\x01\\x05\\x01\\x06', b'', b'\\x03\\x03']\n",
            "Bad pipe message: %s [b'']\n",
            "Bad pipe message: %s [b'', b'\\x02']\n",
            "Bad pipe message: %s [b'\\x05\\x02\\x06']\n",
            "Bad pipe message: %s [b'\\xf1\\xee\\x9a\"B\\x9a\\x92\\x8e\\xa7\\xbd\\xd2\\xbfQ6}\\xc0\\xb2\\xf5\\x00\\x00>\\xc0\\x14\\xc0\\n\\x009\\x008\\x007\\x006\\xc0\\x0f\\xc0\\x05\\x005\\xc0\\x13\\xc0\\t\\x003\\x002\\x001\\x000\\xc0\\x0e\\xc0\\x04\\x00/\\x00\\x9a\\x00\\x99\\x00\\x98\\x00\\x97\\x00\\x96\\x00\\x07\\xc0\\x11\\xc0\\x07\\xc0\\x0c\\xc0\\x02\\x00\\x05\\x00\\x04\\x00\\xff\\x02\\x01\\x00\\x00C\\x00\\x00\\x00\\x0e\\x00\\x0c\\x00\\x00\\t127.0.0.1\\x00\\x0b\\x00\\x04\\x03\\x00\\x01', b'\\n']\n",
            "Bad pipe message: %s [b'\\xe3\\xe3\\xdaf\\xe6&\\xc3|9\\xce']\n",
            "Bad pipe message: %s [b'J\\x8a/Y\\xa6\\x80\\x00\\x00\\xa2\\xc0\\x14\\xc0\\n\\x009\\x008\\x007\\x006\\x00\\x88\\x00\\x87\\x00\\x86\\x00\\x85\\xc0\\x19\\x00:\\x00\\x89\\xc0\\x0f\\xc0\\x05\\x005\\x00\\x84\\xc0\\x13\\xc0\\t\\x003\\x002\\x001\\x000\\x00\\x9a\\x00\\x99\\x00']\n",
            "Bad pipe message: %s [b'\\x97\\x00E\\x00D\\x00C\\x00B\\xc0\\x18\\x004\\x00\\x9b\\x00F\\xc0\\x0e\\xc0\\x04\\x00/\\x00\\x96\\x00A\\x00\\x07\\xc0\\x11\\xc0\\x07\\xc0\\x16\\x00\\x18\\xc0\\x0c\\xc0\\x02\\x00\\x05\\x00\\x04\\xc0\\x12\\xc0\\x08\\x00\\x16\\x00\\x13\\x00\\x10\\x00\\r\\xc0\\x17\\x00\\x1b\\xc0\\r\\xc0\\x03\\x00\\n\\x00\\x15\\x00\\x12\\x00\\x0f\\x00\\x0c\\x00\\x1a\\x00\\t\\x00\\x14\\x00\\x11\\x00\\x19\\x00\\x08\\x00\\x06\\x00\\x17\\x00\\x03\\xc0\\x10\\xc0\\x06\\xc0\\x15\\xc0\\x0b\\xc0\\x01\\x00\\x02\\x00\\x01\\x00\\xff\\x02\\x01\\x00\\x00C\\x00\\x00\\x00\\x0e\\x00\\x0c\\x00\\x00\\t127.0.0.1\\x00\\x0b\\x00\\x04\\x03\\x00\\x01\\x02\\x00\\n\\x00\\x1c\\x00\\x1a\\x00\\x17\\x00\\x19\\x00']\n",
            "Bad pipe message: %s [b'\\x1b\\x00\\x18\\x00\\x1a\\x00\\x16\\x00\\x0e\\x00\\r\\x00\\x0b\\x00\\x0c\\x00\\t\\x00\\n\\x00#\\x00\\x00\\x00\\x0f\\x00\\x01']\n",
            "Bad pipe message: %s [b'', b'\\x00\\x02']\n",
            "Bad pipe message: %s [b'\\xaa\\xa4\\t\\xeb\\xe8\\xa2[\\xee\\x02^\\xe9\\xda\\xc7\\x97\\r\\xf0K+\\x00\\x00\\xa2\\xc0\\x14\\xc0\\n\\x009\\x008\\x007\\x006\\x00\\x88\\x00\\x87\\x00\\x86\\x00\\x85\\xc0\\x19\\x00:\\x00\\x89\\xc0\\x0f\\xc0\\x05\\x005\\x00\\x84\\xc0\\x13\\xc0\\t\\x003\\x002\\x001\\x000\\x00\\x9a\\x00\\x99\\x00\\x98\\x00\\x97\\x00E\\x00D\\x00C\\x00B\\xc0\\x18\\x004\\x00\\x9b\\x00F\\xc0\\x0e\\xc0\\x04\\x00/\\x00\\x96\\x00A\\x00\\x07\\xc0\\x11\\xc0\\x07\\xc0\\x16\\x00\\x18\\xc0\\x0c\\xc0\\x02\\x00\\x05\\x00\\x04\\xc0\\x12\\xc0\\x08\\x00\\x16\\x00\\x13\\x00\\x10\\x00\\r\\xc0\\x17\\x00\\x1b\\xc0\\r\\xc0\\x03\\x00\\n\\x00\\x15\\x00\\x12\\x00\\x0f\\x00\\x0c\\x00\\x1a\\x00\\t\\x00\\x14\\x00\\x11\\x00\\x19\\x00\\x08\\x00\\x06\\x00\\x17\\x00\\x03\\xc0\\x10\\xc0\\x06\\xc0\\x15\\xc0\\x0b\\xc0\\x01\\x00\\x02\\x00\\x01\\x00\\xff\\x02\\x01\\x00\\x00C\\x00\\x00\\x00\\x0e\\x00\\x0c\\x00\\x00\\t127.0.0.1\\x00\\x0b\\x00\\x04\\x03\\x00\\x01\\x02\\x00\\n\\x00\\x1c\\x00\\x1a\\x00\\x17\\x00\\x19\\x00\\x1c\\x00\\x1b\\x00\\x18\\x00\\x1a\\x00\\x16\\x00\\x0e']\n",
            "Bad pipe message: %s [b'\\x1bTZ\"\\xa5\\x87\\x8e\\xa4 \\x89\\xb9\\xd2(\\xdd\\x8f\\xbdQ\\x08\\x00\\x00\\xf4\\xc00\\xc0,\\xc0(\\xc0$\\xc0\\x14\\xc0\\n\\x00\\xa5\\x00\\xa3\\x00\\xa1\\x00\\x9f\\x00k\\x00j\\x00i\\x00h\\x009\\x008\\x007\\x006\\x00\\x88\\x00\\x87\\x00\\x86\\x00\\x85\\xc0\\x19\\x00\\xa7\\x00m\\x00:\\x00\\x89\\xc02\\xc0.\\xc0*\\xc0&\\xc0', b'\\x05\\x00\\x9d\\x00=\\x005\\x00\\x84\\xc0/\\xc0+\\xc0']\n",
            "Bad pipe message: %s [b'#\\xc0\\x13\\xc0\\t\\x00\\xa4\\x00\\xa2\\x00\\xa0\\x00\\x9e\\x00g\\x00@\\x00?\\x00>\\x003\\x002\\x001\\x000\\x00\\x9a\\x00\\x99\\x00\\x98\\x00\\x97\\x00']\n",
            "Bad pipe message: %s [b'D\\x00C\\x00B\\xc0\\x18\\x00\\xa6\\x00l\\x004\\x00\\x9b\\x00F\\xc01\\xc0-\\xc0)\\xc0%\\xc0\\x0e\\xc0\\x04\\x00\\x9c\\x00<\\x00/\\x00\\x96\\x00A\\x00\\x07\\xc0\\x11\\xc0\\x07\\xc0\\x16\\x00\\x18\\xc0\\x0c\\xc0\\x02\\x00\\x05\\x00\\x04\\xc0\\x12\\xc0\\x08\\x00\\x16\\x00\\x13\\x00\\x10\\x00']\n",
            "Bad pipe message: %s [b'\\x17\\x00\\x1b\\xc0\\r\\xc0\\x03\\x00\\n\\x00\\x15\\x00']\n",
            "Bad pipe message: %s [b'\\x0f\\x00\\x0c\\x00\\x1a\\x00\\t\\x00\\x14\\x00\\x11\\x00\\x19\\x00\\x08\\x00\\x06']\n"
          ]
        }
      ],
      "source": [
        "%%time\n",
        "c = fit(train, [2], 0, [1])\n",
        "print(c)"
      ]
    },
    {
      "cell_type": "code",
      "execution_count": null,
      "metadata": {},
      "outputs": [],
      "source": []
    }
  ],
  "metadata": {
    "colab": {
      "provenance": []
    },
    "kernelspec": {
      "display_name": "Python 3",
      "language": "python",
      "name": "python3"
    },
    "language_info": {
      "codemirror_mode": {
        "name": "ipython",
        "version": 3
      },
      "file_extension": ".py",
      "mimetype": "text/x-python",
      "name": "python",
      "nbconvert_exporter": "python",
      "pygments_lexer": "ipython3",
      "version": "3.10.4"
    },
    "orig_nbformat": 4,
    "vscode": {
      "interpreter": {
        "hash": "3ad933181bd8a04b432d3370b9dc3b0662ad032c4dfaa4e4f1596c548f763858"
      }
    }
  },
  "nbformat": 4,
  "nbformat_minor": 0
}
