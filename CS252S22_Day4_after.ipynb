{
 "cells": [
  {
   "cell_type": "markdown",
   "id": "78695398",
   "metadata": {},
   "source": [
    "Let's talk more! about numpy\n",
    "----------------------\n",
    "\n",
    "**Going from lists to arrays and figuring out if that worked well...**"
   ]
  },
  {
   "cell_type": "code",
   "execution_count": 3,
   "id": "bbdcff42",
   "metadata": {},
   "outputs": [
    {
     "name": "stdout",
     "output_type": "stream",
     "text": [
      "[[  10    1 2021]\n",
      " [   2    9 2022]]\n",
      "(2, 3)\n",
      "[[  10    1 2021]\n",
      " [   2    9 2022]]\n",
      "[[10, 1, 2021], [2, 9, 2022]]\n"
     ]
    }
   ],
   "source": [
    "import numpy as np\n",
    "import pickle as pkl\n",
    "\n",
    "# how do I make a numpy array from a python list?\n",
    "pylist = [[10, 1, 2021], [2, 9, 2022]]\n",
    "nparray = np.array(pylist)\n",
    "\n",
    "# how do I print a numpy array?\n",
    "print(nparray)\n",
    "print(nparray.shape)\n",
    "\n",
    "with open('data.pkl', 'wb') as f:\n",
    "    pkl.dump(nparray, f)\n",
    "\n",
    "# and back to a list?\n",
    "\n",
    "with open('data.pkl', 'rb') as f:\n",
    "    nparray2 = pkl.load(f)\n",
    "    print(nparray2)\n",
    "    \n",
    "backtolist = nparray.tolist()\n",
    "print(backtolist)"
   ]
  },
  {
   "cell_type": "code",
   "execution_count": 2,
   "id": "027a8c9f",
   "metadata": {},
   "outputs": [
    {
     "name": "stdout",
     "output_type": "stream",
     "text": [
      "[list([10, 1, 2021]) list([2, 9])]\n",
      "(2,)\n"
     ]
    },
    {
     "name": "stderr",
     "output_type": "stream",
     "text": [
      "C:\\Users\\ajstent\\AppData\\Local\\Temp/ipykernel_17920/306909658.py:3: VisibleDeprecationWarning: Creating an ndarray from ragged nested sequences (which is a list-or-tuple of lists-or-tuples-or ndarrays with different lengths or shapes) is deprecated. If you meant to do this, you must specify 'dtype=object' when creating the ndarray.\n",
      "  nparray = np.array(pylist)\n"
     ]
    }
   ],
   "source": [
    "# how do I make a numpy array from a python list?\n",
    "pylist = [[10, 1, 2021], [2, 9]]\n",
    "nparray = np.array(pylist)\n",
    "\n",
    "# how do I print a numpy array?\n",
    "print(nparray)\n",
    "print(nparray.shape)"
   ]
  },
  {
   "cell_type": "code",
   "execution_count": 4,
   "id": "c757de3a",
   "metadata": {},
   "outputs": [
    {
     "name": "stdout",
     "output_type": "stream",
     "text": [
      "int32\n"
     ]
    },
    {
     "ename": "AttributeError",
     "evalue": "'list' object has no attribute 'dtype'",
     "output_type": "error",
     "traceback": [
      "\u001b[1;31m---------------------------------------------------------------------------\u001b[0m",
      "\u001b[1;31mAttributeError\u001b[0m                            Traceback (most recent call last)",
      "\u001b[1;32m~\\AppData\\Local\\Temp/ipykernel_17920/4068890036.py\u001b[0m in \u001b[0;36m<module>\u001b[1;34m\u001b[0m\n\u001b[0;32m      3\u001b[0m \u001b[1;33m\u001b[0m\u001b[0m\n\u001b[0;32m      4\u001b[0m \u001b[1;31m# hmm, will this work and why or why not?\u001b[0m\u001b[1;33m\u001b[0m\u001b[1;33m\u001b[0m\u001b[0m\n\u001b[1;32m----> 5\u001b[1;33m \u001b[0mprint\u001b[0m\u001b[1;33m(\u001b[0m\u001b[0mbacktolist\u001b[0m\u001b[1;33m.\u001b[0m\u001b[0mdtype\u001b[0m\u001b[1;33m)\u001b[0m\u001b[1;33m\u001b[0m\u001b[1;33m\u001b[0m\u001b[0m\n\u001b[0m",
      "\u001b[1;31mAttributeError\u001b[0m: 'list' object has no attribute 'dtype'"
     ]
    }
   ],
   "source": [
    "# how do I figure out the type of a numpy array? \n",
    "print(nparray.dtype)\n",
    "\n",
    "# hmm, will this work and why or why not?\n",
    "print(backtolist.dtype)"
   ]
  },
  {
   "cell_type": "code",
   "execution_count": 6,
   "id": "6aa47a60",
   "metadata": {},
   "outputs": [
    {
     "name": "stdout",
     "output_type": "stream",
     "text": [
      "float64\n",
      "[[1.000e+01 1.000e+00 2.021e+03]\n",
      " [2.000e+00 9.000e+00 2.022e+03]]\n",
      "<U32\n",
      "[['10.0' '1.0' '2021.0']\n",
      " ['2.0' '9.0' '2022.0']]\n",
      "float64\n",
      "[[1.000e+01 1.000e+00 2.021e+03]\n",
      " [2.000e+00 9.000e+00 2.022e+03]]\n"
     ]
    }
   ],
   "source": [
    "# how do I change the type of a numpy array?\n",
    "# this word is useful: coerce\n",
    "nparrayFloat = nparray.astype(float)\n",
    "print(nparrayFloat.dtype)\n",
    "print(nparrayFloat)\n",
    "\n",
    "nparrayStr = np.array(nparrayFloat, dtype=str)\n",
    "print(nparrayStr.dtype)\n",
    "print(nparrayStr)\n",
    "\n",
    "nparrayFloat = nparrayStr.astype(float)\n",
    "print(nparrayFloat.dtype)\n",
    "print(nparrayFloat)"
   ]
  },
  {
   "cell_type": "code",
   "execution_count": 10,
   "id": "d39ca9a6",
   "metadata": {},
   "outputs": [
    {
     "name": "stdout",
     "output_type": "stream",
     "text": [
      "float64\n",
      "[[1.04500e+01 1.35000e+00 2.02175e+03]\n",
      " [2.00000e+00 9.00000e+00 2.02200e+03]]\n",
      "int32\n",
      "[[  10    1 2021]\n",
      " [   2    9 2022]]\n"
     ]
    }
   ],
   "source": [
    "nparrayFloat = np.array([[10.45, 1.35, 2021.75], [2, 9, 2022]])\n",
    "print(nparrayFloat.dtype)\n",
    "print(nparrayFloat)\n",
    "\n",
    "# be careful! this is lossy, and it cuts rather than rounding!\n",
    "nparrayInt = nparray.astype(int)\n",
    "print(nparrayInt.dtype)\n",
    "print(nparrayInt)"
   ]
  },
  {
   "cell_type": "code",
   "execution_count": 13,
   "id": "2b3a6a86",
   "metadata": {},
   "outputs": [
    {
     "name": "stdout",
     "output_type": "stream",
     "text": [
      "2\n",
      "6\n",
      "(2, 3)\n"
     ]
    }
   ],
   "source": [
    "# (review!) how do I see the number of dimensions, number of elements, and shape of a numpy array?\n",
    "print(nparray.ndim)\n",
    "print(nparray.size)\n",
    "print(nparray.shape)"
   ]
  },
  {
   "cell_type": "markdown",
   "id": "e76bf41b",
   "metadata": {},
   "source": [
    "**Making numpy arrays...**"
   ]
  },
  {
   "cell_type": "code",
   "execution_count": 19,
   "id": "26e12304",
   "metadata": {},
   "outputs": [
    {
     "name": "stdout",
     "output_type": "stream",
     "text": [
      "[[0. 0. 0. 0. 0. 0. 0. 0. 0. 0.]\n",
      " [0. 0. 0. 0. 0. 0. 0. 0. 0. 0.]\n",
      " [0. 0. 0. 0. 0. 0. 0. 0. 0. 0.]]\n",
      "[[0 0 0 0 0 0 0 0 0 0]\n",
      " [0 0 0 0 0 0 0 0 0 0]\n",
      " [0 0 0 0 0 0 0 0 0 0]]\n",
      "[[1. 1. 1. 1. 1. 1. 1. 1. 1. 1.]\n",
      " [1. 1. 1. 1. 1. 1. 1. 1. 1. 1.]\n",
      " [1. 1. 1. 1. 1. 1. 1. 1. 1. 1.]]\n",
      "[[7. 7. 7. 7. 7. 7. 7. 7. 7. 7.]\n",
      " [7. 7. 7. 7. 7. 7. 7. 7. 7. 7.]\n",
      " [7. 7. 7. 7. 7. 7. 7. 7. 7. 7.]]\n"
     ]
    }
   ],
   "source": [
    "# make an array of zeros\n",
    "nparrayZero = np.zeros([3, 10])\n",
    "print(nparrayZero)\n",
    "\n",
    "# that's floats ... what if we want ints?\n",
    "# either of these two ways\n",
    "#nparrayZeroInt = nparrayZero.astype(int)\n",
    "nparrayZeroInt = np.array(nparrayZero, dtype=int)\n",
    "print(nparrayZeroInt)\n",
    "\n",
    "# what if we want ones instead of zeros?\n",
    "nparrayOnes = np.ones([3, 10])\n",
    "print(nparrayOnes)\n",
    "\n",
    "# what if we want sevens?\n",
    "nparraySevens = np.ones([3, 10])*7\n",
    "print(nparraySevens)\n"
   ]
  },
  {
   "cell_type": "code",
   "execution_count": 23,
   "id": "65e39cef",
   "metadata": {},
   "outputs": [
    {
     "name": "stdout",
     "output_type": "stream",
     "text": [
      "[[0.92421174 0.96271017 0.71533742 0.30484619 0.98457859 0.45417741\n",
      "  0.29235221 0.72986095 0.82274969 0.31591523]\n",
      " [0.94267646 0.19812957 0.48915982 0.844199   0.54939435 0.02671617\n",
      "  0.74180409 0.05619306 0.71543221 0.3335045 ]\n",
      " [0.63892484 0.71049869 0.58302421 0.43262473 0.65692652 0.53698944\n",
      "  0.86209276 0.61478125 0.71950601 0.94264986]]\n",
      "float64\n",
      "[[9 9 7 3 9 4 2 7 8 3]\n",
      " [9 1 4 8 5 0 7 0 7 3]\n",
      " [6 7 5 4 6 5 8 6 7 9]]\n"
     ]
    }
   ],
   "source": [
    "# make an array of random values\n",
    "nparrayRandomFloat = np.random.random([3, 10])\n",
    "print(nparrayRandomFloat)\n",
    "print(nparrayRandomFloat.dtype)\n",
    "\n",
    "# what if we want random ints? let's see...\n",
    "# that does not work!\n",
    "# nparrayRandomInt = np.random.random([3, 10], dtype=int)\n",
    "\n",
    "# hmm, if not that then what?\n",
    "print((nparrayRandomFloat*10).astype(int))\n",
    "# what is the other way?\n"
   ]
  },
  {
   "cell_type": "code",
   "execution_count": 28,
   "id": "25730631",
   "metadata": {},
   "outputs": [
    {
     "name": "stdout",
     "output_type": "stream",
     "text": [
      "[ 0.          1.11111111  2.22222222  3.33333333  4.44444444  5.55555556\n",
      "  6.66666667  7.77777778  8.88888889 10.        ]\n",
      "[[ 0.          1.11111111  2.22222222  3.33333333  4.44444444]\n",
      " [ 5.55555556  6.66666667  7.77777778  8.88888889 10.        ]]\n",
      "[ 0  1  2  3  4  5  6  7  8 10]\n"
     ]
    }
   ],
   "source": [
    "# what if we want random floats in an interval?\n",
    "print(np.linspace(0, 10, 10))\n",
    "\n",
    "# what if we want to shape that into a 2 by 5 array?\n",
    "nplinArray = np.linspace(0, 10, 10)\n",
    "np2dArray = np.reshape(nplinArray, (2, 5))\n",
    "print(np2dArray)\n",
    "\n",
    "# what if we want random ints in an interval?\n",
    "print(np.linspace(0, 10, 10, dtype=int))"
   ]
  },
  {
   "cell_type": "markdown",
   "id": "994f6934",
   "metadata": {},
   "source": [
    "**Getting access to elements and \"slices\" of numpy arrays...**"
   ]
  },
  {
   "cell_type": "code",
   "execution_count": 30,
   "id": "ef0a4826",
   "metadata": {},
   "outputs": [
    {
     "name": "stdout",
     "output_type": "stream",
     "text": [
      "[[0.92421174 0.96271017 0.71533742 0.30484619 0.98457859 0.45417741\n",
      "  0.29235221 0.72986095 0.82274969 0.31591523]\n",
      " [0.94267646 0.19812957 0.48915982 0.844199   0.54939435 0.02671617\n",
      "  0.74180409 0.05619306 0.71543221 0.3335045 ]\n",
      " [0.63892484 0.71049869 0.58302421 0.43262473 0.65692652 0.53698944\n",
      "  0.86209276 0.61478125 0.71950601 0.94264986]]\n",
      "\n",
      "\n",
      "0.9242117354884198\n",
      "0.9242117354884198\n"
     ]
    }
   ],
   "source": [
    "# (review!) how do I access an element in an array?\n",
    "print(nparrayRandomFloat)\n",
    "print(\"\\n\")\n",
    "print(nparrayRandomFloat[0][0])\n",
    "\n",
    "# is there a prettier way?\n",
    "print(nparrayRandomFloat[0, 0])\n",
    "\n",
    "# this is only marginally prettier for a 2-d array but imagine a 10-d array!"
   ]
  },
  {
   "cell_type": "code",
   "execution_count": 41,
   "id": "cda05fff",
   "metadata": {},
   "outputs": [
    {
     "name": "stdout",
     "output_type": "stream",
     "text": [
      "[[0.92421174 0.96271017 0.71533742 0.30484619 0.98457859 0.45417741\n",
      "  0.29235221 0.72986095 0.82274969 0.31591523]\n",
      " [0.94267646 0.19812957 0.48915982 0.844199   0.54939435 0.02671617\n",
      "  0.74180409 0.05619306 0.71543221 0.3335045 ]\n",
      " [0.63892484 0.71049869 0.58302421 0.43262473 0.65692652 0.53698944\n",
      "  0.86209276 0.61478125 0.71950601 0.94264986]]\n",
      "last two rows\n",
      "first row, last two columns\n",
      "[0.82274969 0.31591523]\n"
     ]
    }
   ],
   "source": [
    "print(nparrayRandomFloat)\n",
    "\n",
    "# how do I access the whole second column?\n",
    "#print(\"first column\")\n",
    "#print(nparrayRandomFloat[:, 1])\n",
    "\n",
    "# of what type is the first column, hmm? leaving as an exercise\n",
    "\n",
    "# what about the whole second row?\n",
    "#print(\"first row\")\n",
    "#print(nparrayRandomFloat[1, :])\n",
    "\n",
    "# what about the last two rows?\n",
    "print(\"last two rows\")\n",
    "nparrayRandomFloat[1:, :]\n",
    "# or this\n",
    "nparrayRandomFloat[-2:, :]\n",
    "\n",
    "# what about the first row and last two columns?\n",
    "print(\"first row, last two columns\")\n",
    "print(nparrayRandomFloat[0, -2:])"
   ]
  },
  {
   "cell_type": "code",
   "execution_count": 43,
   "id": "ab5ef905",
   "metadata": {},
   "outputs": [
    {
     "name": "stdout",
     "output_type": "stream",
     "text": [
      "3\n",
      "[0 1 2]\n",
      "first and third columns\n",
      "[[0.96271017 0.30484619]\n",
      " [0.19812957 0.844199  ]\n",
      " [0.71049869 0.43262473]]\n"
     ]
    }
   ],
   "source": [
    "print(nparrayRandomFloat.shape[0])\n",
    "print(np.arange(nparrayRandomFloat.shape[0]))\n",
    "# how do I access the 1st and 3rd columns? Well, really the 2nd and the 4th\n",
    "print(\"first and third columns\")\n",
    "print(nparrayRandomFloat[np.ix_(np.arange(nparrayRandomFloat.shape[0]), [1, 3])])\n",
    "\n",
    "# whaaaat was that?"
   ]
  },
  {
   "cell_type": "markdown",
   "id": "ef99c05b",
   "metadata": {},
   "source": [
    "**Modifying (slices of) arrays...**"
   ]
  },
  {
   "cell_type": "code",
   "execution_count": null,
   "id": "c6b04149",
   "metadata": {},
   "outputs": [],
   "source": [
    "# how do I *change* the element at 1, 1 of the array?"
   ]
  },
  {
   "cell_type": "code",
   "execution_count": null,
   "id": "2338269d",
   "metadata": {},
   "outputs": [],
   "source": [
    "# and now for some magic! how do I assign the second row to 1s?\n",
    "nparrayRandomFloat[1] = 1\n",
    "print(nparrayRandomFloat)\n",
    "print(nparrayRandomFloat.dtype)\n",
    "\n",
    "# how do I assign the second row to increasing ints?\n",
    "nparrayRandomFloat[1] = np.arange(nparrayRandomFloat.shape[1])\n",
    "print(nparrayRandomFloat)\n",
    "print(nparrayRandomFloat.dtype)\n",
    "\n",
    "# how do I assign the second row to 3* itself?\n"
   ]
  },
  {
   "cell_type": "markdown",
   "id": "60344331",
   "metadata": {},
   "source": [
    "**Copying numpy arrays...**"
   ]
  },
  {
   "cell_type": "code",
   "execution_count": null,
   "id": "7267f61e",
   "metadata": {},
   "outputs": [],
   "source": [
    "# let's try the obvious thing\n",
    "nparrayRandomFloat2 = nparrayRandomFloat\n",
    "print(\"nparrayRandomFloat\")\n",
    "print(nparrayRandomFloat)\n",
    "print(\"nparrayRandomFloat2\")\n",
    "print(nparrayRandomFloat2)"
   ]
  },
  {
   "cell_type": "code",
   "execution_count": null,
   "id": "d5bc7cb4",
   "metadata": {},
   "outputs": [],
   "source": [
    "nparrayRandomFloat2[0,0] = 0\n",
    "print(\"nparrayRandomFloat\")\n",
    "print(nparrayRandomFloat)\n",
    "print(\"nparrayRandomFloat2\")\n",
    "print(nparrayRandomFloat2)\n",
    "\n",
    "# whaaat just happened??\n",
    "# how do we stop that happening?? hint, what are we doing? we are *copying*"
   ]
  },
  {
   "cell_type": "markdown",
   "id": "440ee93b",
   "metadata": {},
   "source": [
    "**Doing other things to a whole row or column...**"
   ]
  },
  {
   "cell_type": "code",
   "execution_count": null,
   "id": "7872f828",
   "metadata": {},
   "outputs": [],
   "source": [
    "# (review!) how do we assign value(s) to a row or column?\n",
    "nparrayRandomFloat[:1] = np.zeros(nparrayRandomFloat.shape[1])\n",
    "print(nparrayRandomFloat)"
   ]
  },
  {
   "cell_type": "code",
   "execution_count": null,
   "id": "65824fde",
   "metadata": {},
   "outputs": [],
   "source": [
    "# let's sum across each column\n",
    "np.sum(nparrayRandomFloat, axis=0)\n",
    "\n",
    "# how would we sum across each row?\n",
    "\n"
   ]
  },
  {
   "cell_type": "code",
   "execution_count": null,
   "id": "da74acc4",
   "metadata": {},
   "outputs": [],
   "source": [
    "# what if we had a tensor?\n",
    "nptensorFloat = np.ones([3, 4, 5])\n",
    "print(nptensorFloat)\n",
    "\n",
    "np.sum(nptensorFloat, axis=2)"
   ]
  },
  {
   "cell_type": "code",
   "execution_count": null,
   "id": "e63809ab",
   "metadata": {},
   "outputs": [],
   "source": [
    "# what if we don't specify an axis?"
   ]
  },
  {
   "cell_type": "code",
   "execution_count": null,
   "id": "f0b3b55c",
   "metadata": {},
   "outputs": [],
   "source": [
    "# what other functions can we apply across axes?"
   ]
  },
  {
   "cell_type": "code",
   "execution_count": null,
   "id": "2ca7edca",
   "metadata": {},
   "outputs": [],
   "source": [
    "# let's take it up a notch\n",
    "\n",
    "nparrayRandomInt = np.random.randint(low=0, high=10, size=(3,4))\n",
    "print(nparrayRandomInt)\n",
    "\n",
    "print(nparrayRandomInt - np.min(nparrayRandomInt, axis=0))\n",
    "\n",
    "# whaaat just happened? let's look at the shapes\n"
   ]
  },
  {
   "cell_type": "code",
   "execution_count": null,
   "id": "3bff44e6",
   "metadata": {},
   "outputs": [],
   "source": [
    "# why is this cool?\n",
    "import timeit\n",
    "\n",
    "def sumLoop():\n",
    "    '''Use for loop to sum a row vector'''\n",
    "    longRow = np.array([i for i in range(1, 1000000000)])\n",
    "    theSum = 0\n",
    "    for i in range(len(longRow)):\n",
    "        theSum += longRow[i]\n",
    "\n",
    "def sumVectorized():\n",
    "    '''Vectorized version of summing a row vector'''\n",
    "    longRow = np.array([i for i in range(1, 1000000000)])\n",
    "    theSum = np.sum(longRow)\n",
    "\n",
    "print(timeit.timeit(lambda: sumLoop))\n",
    "print(timeit.timeit(lambda: sumVectorized))"
   ]
  },
  {
   "cell_type": "code",
   "execution_count": null,
   "id": "eeb51624",
   "metadata": {},
   "outputs": [],
   "source": [
    "# what if we try to do the subtract-min thing across axis 1?\n",
    "print(nparrayRandomInt - np.min(nparrayRandomInt, axis=1))\n"
   ]
  },
  {
   "cell_type": "code",
   "execution_count": null,
   "id": "30b15f84",
   "metadata": {},
   "outputs": [],
   "source": [
    "# how can we fix that? make the arrays shape-compatible!\n",
    "print(nparrayRandomInt - np.min(nparrayRandomInt, axis=1)[:, np.newaxis])"
   ]
  },
  {
   "cell_type": "code",
   "execution_count": null,
   "id": "71840c65",
   "metadata": {},
   "outputs": [],
   "source": [
    "# is there another way to achieve this?\n",
    "print(nparrayRandomInt - np.min(nparrayRandomInt, axis=1, keepdims=True))\n"
   ]
  },
  {
   "cell_type": "markdown",
   "id": "3d4e39fd",
   "metadata": {},
   "source": [
    "Five Jupyter tips\n",
    "------------------\n",
    "\n",
    "1. To run a cell, you can hit Ctrl+Enter \n",
    "2. Quite often, a Jupyter \"mistake\" happens if you forget that this cell has all the memory of every cell that was already run, \n",
    "3. and only those cells, \n",
    "4. and only the last time they were run\n",
    "5. To go into \"select mode\", hit Esc, then you can easily navigate from cell to cell"
   ]
  },
  {
   "cell_type": "markdown",
   "id": "e7c23284",
   "metadata": {},
   "source": [
    "Markdown\n",
    "--------\n",
    "\n",
    "These cells that look like fancy text are in Markdown. Markdown cheat sheet: https://www.markdownguide.org/cheat-sheet"
   ]
  }
 ],
 "metadata": {
  "kernelspec": {
   "display_name": "Python 3 (ipykernel)",
   "language": "python",
   "name": "python3"
  },
  "language_info": {
   "codemirror_mode": {
    "name": "ipython",
    "version": 3
   },
   "file_extension": ".py",
   "mimetype": "text/x-python",
   "name": "python",
   "nbconvert_exporter": "python",
   "pygments_lexer": "ipython3",
   "version": "3.9.7"
  }
 },
 "nbformat": 4,
 "nbformat_minor": 5
}
