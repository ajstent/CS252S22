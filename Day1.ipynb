{
 "cells": [
  {
   "attachments": {},
   "cell_type": "markdown",
   "id": "604e570b",
   "metadata": {},
   "source": [
    "CS 252 Day 1\n",
    "\n",
    "-------------------\n",
    "\n",
    "Topics:\n",
    "* Greetings, fellow human\n",
    "* Syllabus\n",
    "* Tech infrastructure\n",
    "* Format of data and terminology\n",
    "* CSV files"
   ]
  },
  {
   "attachments": {},
   "cell_type": "markdown",
   "id": "d172dfc9",
   "metadata": {},
   "source": [
    "__Greetings, Fellow Human__\n",
    "\n",
    "* What is your name?\n",
    "* What is the most unusual animal you have ever interacted with?"
   ]
  },
  {
   "attachments": {},
   "cell_type": "markdown",
   "id": "4461b2a9",
   "metadata": {},
   "source": [
    "__Syllabus__\n",
    "\n",
    "[https://cs.colby.edu/srtaylor/courses/S23/cs251/](https://cs.colby.edu/srtaylor/courses/S23/cs251/)\n",
    "\n",
    "* When are lab sessions and who may attend?\n",
    "* When and where are Amanda Stent's office hours?\n",
    "* When and where are the TAs' office hours?\n",
    "* When is the first lab due?\n",
    "* When is the first project due?\n",
    "* What will happen on Friday?"
   ]
  },
  {
   "attachments": {},
   "cell_type": "markdown",
   "id": "ff369893",
   "metadata": {},
   "source": [
    "__Tech Infrastructure__\n",
    "\n",
    "* Python\n",
    "* Python modules: numpy scipy pandas palettable Pillow matplotlib seaborn jupyter scikit-learn\n",
    "* Opening a jupyter notebook\n",
    "  * [Jupyterhub](http://cs251.jupyter.colby.edu/)\n",
    "  * [Github CodeSpaces](https://github.com/ajstent/CS252S22)\n",
    "  * [Colab](https://colab.research.google.com)\n",
    "  * [Visual Studio](https://cs.colby.edu/srtaylor/courses/S23/cs251/software.html)\n",
    "* [Git](https://github.com)\n",
    "  * [Lectures](https://github.com/ajstent/CS252S22)\n",
    "  * [Projects and Labs](https://github.com/ajstent/CS252S22ProjectsLabs)\n",
    "  * [Cheatsheet](https://training.github.com/downloads/github-git-cheat-sheet.pdf)\n",
    "\n",
    "Let's make sure we all:\n",
    "1. Have Github accounts\n",
    "2. Have \"forked\" the ProjectsLabs repository (https://github.com/ajstent/CS252Projects/)\n",
    "3. Can access jupyterhub or a code space\n",
    "4. Know how to add a file to a repository and to commit changes\n",
    "5. Know how to download a notebook for class"
   ]
  },
  {
   "attachments": {},
   "cell_type": "markdown",
   "id": "337c59d1",
   "metadata": {},
   "source": [
    "__Format of Data and Terminology__\n",
    "\n",
    "* What is \"data\"? \n",
    "  * [Data is Plural](https://www.data-is-plural.com/)\n",
    "* What is \"metadata\" and how does it relate to data? \n",
    "  * [Data Nutrition](https://datanutrition.org/)\n",
    "* How can we understand data? \n",
    "  * [Flowing Data](https://flowingdata.com/)\n",
    "* Data terms and what do they mean:\n",
    "  * Data point (feature vector)\n",
    "  * Feature (variable)\n",
    "    * Independent variable\n",
    "    * Dependent variable\n",
    "    * Missing data\n",
    "  * Types of variable\n",
    "    * Qualitative ordinal\n",
    "    * Qualitative nominal\n",
    "    * Quantitative discrete\n",
    "    * Quantitative continuous\n",
    "  * Metadata\n",
    "  \n",
    "  In the example below, each row in the CSV is a data point; each cell is a feature; the last cell is the dependent variable (but it needn't be); there are definitely missing features; and the numeric features are interpreted as text which makes it hard for us to measure or manipulate them. The first row provides all the metadata there is.\n",
    "\n",
    "__About The Vehicles Data__\n",
    "\n",
    "This data set comes from [here](https://www.kaggle.com/datasets/austinreese/craigslist-carstrucks-data). I like it because it has features that are qualitative and quantitative and it supports different types of analysis. For this course, I filtered the data set down to just Hyundais and Kias, and also filtered out any rows that contain missing data.\n"
   ]
  },
  {
   "cell_type": "markdown",
   "id": "5fc8bfc0",
   "metadata": {},
   "source": [
    "__CSV files__\n",
    "\n",
    "* How can you read a csv file?\n",
    "* How can you write a csv file?"
   ]
  },
  {
   "cell_type": "code",
   "execution_count": null,
   "id": "86af5f3d",
   "metadata": {},
   "outputs": [],
   "source": [
    "import codecs\n",
    "import csv\n",
    "\n",
    "# If we read this way the csv reader \"fills in\" missing values as blanks, which may or may not be great\n",
    "with codecs.open('data/vehiclesNumeric.csv', 'r', encoding='utf8') as f:\n",
    "    # what are some of the optional arguments here?\n",
    "    csvreader = csv.reader(f)\n",
    "    rows = [x for x in csvreader]\n",
    "print(len(rows))\n",
    "print(rows)\n",
    "print(len(rows[0]))"
   ]
  },
  {
   "cell_type": "code",
   "execution_count": null,
   "id": "0117d740",
   "metadata": {},
   "outputs": [],
   "source": [
    "import numpy as np\n",
    "\n",
    "# if we read this way, it won't fill in missing values, it will just throw an error\n",
    "# what are some of the optional arguments here?\n",
    "data = np.loadtxt('data/vehiclesNumeric.csv', dtype=int, skiprows=1, delimiter=',')\n",
    "data"
   ]
  },
  {
   "cell_type": "code",
   "execution_count": null,
   "id": "f09ca876",
   "metadata": {},
   "outputs": [],
   "source": [
    "import codecs\n",
    "import csv\n",
    "import numpy as np\n",
    "\n",
    "# if we read this way we get the combination of the good things from both the above, but it's still not perfect\n",
    "# for example, the headers are there just with all the rest of the data\n",
    "# and the type is not right!\n",
    "# maybe some of those optional function arguments would help eg coerce numbers into ints/floats... hmm...\n",
    "# for your first project you will create a reader that works really well, but you will *not use* numpy to do this.\n",
    "with codecs.open('data/vehiclesNumeric.csv', 'r', encoding='utf8') as f:\n",
    "    # what are some of the optional arguments here?\n",
    "    data = np.array([x for x in csv.reader(f)])\n",
    "data"
   ]
  },
  {
   "cell_type": "code",
   "execution_count": null,
   "id": "334b5b3a",
   "metadata": {},
   "outputs": [],
   "source": [
    "with codecs.open('out.csv', 'w', encoding='utf8') as f:\n",
    "    # what are some of the optional arguments here?\n",
    "    csv_writer = csv.writer(f, quoting=csv.QUOTE_NONNUMERIC)\n",
    "    csv_writer.writerows(data)\n",
    "    # what do we notice when we look at this output file?"
   ]
  },
  {
   "attachments": {},
   "cell_type": "markdown",
   "id": "23be24c9",
   "metadata": {},
   "source": [
    "How does this relate to [project 1](https://cs.colby.edu/srtaylor/courses/S23/cs251/projects/p1datavis/p1datavis251.html)?"
   ]
  },
  {
   "cell_type": "markdown",
   "id": "2fcfeb56",
   "metadata": {},
   "source": []
  }
 ],
 "metadata": {
  "kernelspec": {
   "display_name": "Python 3",
   "language": "python",
   "name": "python3"
  },
  "language_info": {
   "codemirror_mode": {
    "name": "ipython",
    "version": 3
   },
   "file_extension": ".py",
   "mimetype": "text/x-python",
   "name": "python",
   "nbconvert_exporter": "python",
   "pygments_lexer": "ipython3",
   "version": "3.10.4"
  },
  "vscode": {
   "interpreter": {
    "hash": "3ad933181bd8a04b432d3370b9dc3b0662ad032c4dfaa4e4f1596c548f763858"
   }
  }
 },
 "nbformat": 4,
 "nbformat_minor": 5
}
