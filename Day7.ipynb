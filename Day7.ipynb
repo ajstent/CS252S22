{
 "cells": [
  {
   "attachments": {},
   "cell_type": "markdown",
   "id": "7efd2c21",
   "metadata": {},
   "source": [
    "# Data manipulations\n",
    "\n",
    "A matrix transformation is a matrix multiplication between a transformation matrix M and a data matrix D that gives you a manipulated data matrix D' as output.\n",
    "\n",
    "We can use matrix multiplications to transform our data (our data points, represented as feature vectors)."
   ]
  },
  {
   "attachments": {},
   "cell_type": "markdown",
   "id": "ce637eac",
   "metadata": {},
   "source": [
    "## But first, some review of dot products\n",
    "\n",
    "What is being done in this cell?\n",
    "\n",
    "* Element-wise multiply [4,5,6] and [1,2,3] and then sum\n",
    "* Element-wise multiply [7,8,9] and [1,2,3] and then sum"
   ]
  },
  {
   "cell_type": "code",
   "execution_count": null,
   "id": "9cccc4b7",
   "metadata": {},
   "outputs": [],
   "source": [
    "import numpy as np\n",
    "\n",
    "v = np.array([1,2,3])\n",
    "m = np.array([[4,5,6], [7,8,9]])\n",
    "\n",
    "print(m@v)"
   ]
  },
  {
   "attachments": {},
   "cell_type": "markdown",
   "id": "25b9b472",
   "metadata": {},
   "source": [
    "And in this cell?\n",
    "* 32: Element-wise multiply [4,5,6] and [1,2,3] and then sum\n",
    "* 6540: Element-wise multiply [4,5,6] and [10, 100, 1000] and then sum\n",
    "* 50: Element-wise multiply [7,8,9] and [1,2,3] and then sum\n",
    "* 9870: Element-wise multiply [7,8,9] and [10, 100, 1000] and then sum"
   ]
  },
  {
   "cell_type": "code",
   "execution_count": null,
   "id": "40712d1d",
   "metadata": {},
   "outputs": [],
   "source": [
    "m2 = np.array([[1,2,3], [10, 100, 1000]])\n",
    "\n",
    "print(m@m2.T)"
   ]
  },
  {
   "attachments": {},
   "cell_type": "markdown",
   "id": "8ccb0e34",
   "metadata": {},
   "source": [
    "## Load and look at our data"
   ]
  },
  {
   "attachments": {},
   "cell_type": "markdown",
   "id": "3956d96c",
   "metadata": {},
   "source": [
    "Let's load the used car data."
   ]
  },
  {
   "cell_type": "code",
   "execution_count": null,
   "id": "de4b4b64",
   "metadata": {},
   "outputs": [],
   "source": [
    "import numpy as np\n",
    "import pandas as pd\n",
    "import seaborn as sns\n",
    "\n",
    "data = np.array(np.genfromtxt('data/vehiclesNumeric.csv', delimiter=',', skip_header=1, dtype=int, encoding=\"utf-8\"))  \n",
    "\n",
    "# get a pandas dataframe for plotting\n",
    "df = pd.DataFrame(data, columns=[\"id\", \"price\", \"year\", \"odometer\"])"
   ]
  },
  {
   "attachments": {},
   "cell_type": "markdown",
   "id": "15ff0392",
   "metadata": {},
   "source": [
    "Let's get some **summary statistics**."
   ]
  },
  {
   "cell_type": "code",
   "execution_count": null,
   "id": "f5a16a15",
   "metadata": {},
   "outputs": [],
   "source": [
    "def getSummaryStatistics(data):\n",
    "    print(\"min, max, mean, std per variable\")\n",
    "    return pd.DataFrame([data.min(axis=0), data.max(axis=0), data.mean(axis=0), data.std(axis=0)])\n",
    "\n",
    "def getShapeType(data):\n",
    "    print(\"shape\")\n",
    "    return (data.shape, data.dtype)\n",
    "\n",
    "print(getSummaryStatistics(data))\n",
    "print(getShapeType(data))"
   ]
  },
  {
   "attachments": {},
   "cell_type": "markdown",
   "id": "fd983f32",
   "metadata": {},
   "source": [
    "Let's **reduce the data** to two dimensions, just year and price.\n"
   ]
  },
  {
   "cell_type": "code",
   "execution_count": null,
   "id": "17ddf405",
   "metadata": {},
   "outputs": [],
   "source": [
    "# How are we going to get just those two columns?\n",
    "reducedData = data[:, [1,2]]\n",
    "\n",
    "print(getSummaryStatistics(reducedData))\n",
    "print(getShapeType(reducedData))"
   ]
  },
  {
   "attachments": {},
   "cell_type": "markdown",
   "id": "7d742fd5",
   "metadata": {},
   "source": [
    "Let's plot the used car data."
   ]
  },
  {
   "cell_type": "code",
   "execution_count": null,
   "id": "54702667",
   "metadata": {},
   "outputs": [],
   "source": [
    "def plot2d(data):\n",
    "    sns.scatterplot(pd.DataFrame(data[:, [0, 1]], columns=[\"price\", \"year\"]), x=\"year\", y=\"price\").set(title=\"Year vs price for Craigslist used car listings\")\n",
    "    \n",
    "plot2d(reducedData)"
   ]
  },
  {
   "attachments": {},
   "cell_type": "markdown",
   "id": "8f0a8fc7",
   "metadata": {},
   "source": [
    "## Translation"
   ]
  },
  {
   "attachments": {},
   "cell_type": "markdown",
   "id": "319be1a1",
   "metadata": {},
   "source": [
    "Translation is a kind of data transformation where we move data around, but each data point stays the same distance away from every other data point.\n",
    "\n",
    "Translation is a two step process:\n",
    "* Add homogeneous coordinate\n",
    "* Do translation as matrix multiplication"
   ]
  },
  {
   "attachments": {},
   "cell_type": "markdown",
   "id": "22e8ef9f",
   "metadata": {},
   "source": [
    "### Add homogeneous coordinate\n",
    "\n",
    "We need to add a dummy column of ones so we can do the matrix multiplication. Why? See https://www.sciencedirect.com/topics/mathematics/homogeneous-coordinate."
   ]
  },
  {
   "cell_type": "code",
   "execution_count": null,
   "id": "9c6d578e",
   "metadata": {},
   "outputs": [],
   "source": [
    "# How do we append a whole column?\n",
    "homogenizedData = np.append(reducedData, np.array([np.ones(reducedData.shape[0], dtype=int)]).T, axis=1)\n",
    "print(\"homogenized data\")\n",
    "print(getSummaryStatistics(homogenizedData))\n",
    "print(getShapeType(homogenizedData))"
   ]
  },
  {
   "attachments": {},
   "cell_type": "markdown",
   "id": "5d5c47ef",
   "metadata": {},
   "source": [
    "### Translate"
   ]
  },
  {
   "attachments": {},
   "cell_type": "markdown",
   "id": "62a2c455",
   "metadata": {},
   "source": [
    "Let's **translate** that year column so that it too starts at 0.\n",
    "\n",
    "A translation matrix for two-variable data looks like:\n",
    "$$\\begin{pmatrix} 1 & 0 & x \\\\ 0 & 1 & y \\\\ 0 & 0 & 1\\end{pmatrix}$$\n",
    "where $x, y$ are the amount by which you want the $0th$ and $1st$ variables translated, respectively.\n",
    "\n"
   ]
  },
  {
   "cell_type": "code",
   "execution_count": null,
   "id": "32b9128f",
   "metadata": {},
   "outputs": [],
   "source": [
    "# we need to define a transformation matrix that will allow us to shift the price variable; this one will be the identity matrix with the translation specified in an extra last column\n",
    "translateTransform = np.eye(homogenizedData.shape[1], dtype=int)\n",
    "translateTransform[1, 2] = -reducedData[:, 1].min()\n",
    "print(\"transformMatrix\")\n",
    "print(translateTransform)\n",
    "\n",
    "print(homogenizedData[0:4])\n",
    "\n",
    "# now we need to do the translation\n",
    "transformedData = (translateTransform@homogenizedData.T).T\n",
    "print(\"after translation, transformedData\")\n",
    "print(getSummaryStatistics(transformedData))\n",
    "print(getShapeType(transformedData))\n",
    "plot2d(transformedData)"
   ]
  },
  {
   "attachments": {},
   "cell_type": "markdown",
   "id": "1b5dd9a3",
   "metadata": {},
   "source": [
    "Check:\n",
    "* only the summary statistics for year should have changed\n",
    "* the standard deviation for year should be the same"
   ]
  },
  {
   "attachments": {},
   "cell_type": "markdown",
   "id": "d5412d6c",
   "metadata": {},
   "source": [
    "## Scaling\n",
    "\n",
    "Scaling is kind of data transformation where we increase or decrease the range of one or more variables."
   ]
  },
  {
   "attachments": {},
   "cell_type": "markdown",
   "id": "25be0bcc",
   "metadata": {},
   "source": [
    "### Scaling on its own\n",
    "\n",
    "Let's **scale** that year column so it's months instead of years.\n",
    "\n",
    "A scaling matrix for two-variable data looks like:\n",
    "$$\\begin{pmatrix} x & 0 \\\\ 0 & y \\end{pmatrix}$$\n",
    "where $x, y$ are the amount by which you want the $0th$ and $1st$ variables scaled, respectively. \n"
   ]
  },
  {
   "cell_type": "code",
   "execution_count": null,
   "id": "63221e21",
   "metadata": {},
   "outputs": [],
   "source": [
    "scaleTransform = np.eye(reducedData.shape[1], dtype=float)\n",
    "scaleTransform[1, 1] = 12\n",
    "print(\"transformMatrix\")\n",
    "print(scaleTransform)\n",
    "\n",
    "transformedData = (scaleTransform@reducedData.T).T\n",
    "print(\"after scaling, transformedData\")\n",
    "print(getSummaryStatistics(transformedData))\n",
    "print(getShapeType(transformedData))\n",
    "plot2d(transformedData)"
   ]
  },
  {
   "attachments": {},
   "cell_type": "markdown",
   "id": "de9b55f1",
   "metadata": {},
   "source": [
    "Check:\n",
    "* only the summary statistics for year should have changed"
   ]
  },
  {
   "attachments": {},
   "cell_type": "markdown",
   "id": "c50feaff",
   "metadata": {},
   "source": [
    "### Scaling together with other transformations\n",
    "\n",
    "If you want to translate *and* scale, you just add the homogeneous coordinate into the scaling matrix too!\n",
    "$$\\begin{pmatrix} x & 0 & 0\\\\ 0 & y & 0 \\\\ 0 & 0 & 1 \\end{pmatrix}$$\n",
    "\n"
   ]
  },
  {
   "cell_type": "code",
   "execution_count": null,
   "id": "e625b965",
   "metadata": {},
   "outputs": [],
   "source": [
    "scaleTransform = np.eye(homogenizedData.shape[1], dtype=float)\n",
    "scaleTransform[1, 1] = 12\n",
    "print(\"transformMatrix\")\n",
    "print(scaleTransform)\n",
    "\n",
    "translateTransform = np.eye(homogenizedData.shape[1], dtype=float)\n",
    "translateTransform[1, 2] = -reducedData[:, 1].min()\n",
    "print(\"transformMatrix\")\n",
    "print(translateTransform)\n",
    "\n",
    "transformMatrix = translateTransform@scaleTransform\n",
    "\n",
    "transformedData = (transformMatrix@homogenizedData.T).T\n",
    "print(\"after scaling, transformedData\")\n",
    "print(getSummaryStatistics(transformedData))\n",
    "print(getShapeType(transformedData))\n",
    "plot2d(transformedData)"
   ]
  },
  {
   "attachments": {},
   "cell_type": "markdown",
   "id": "168227d8",
   "metadata": {},
   "source": [
    "Check:\n",
    "* Although we added the homogeneous coordinate, the scaling produced the same output as before"
   ]
  }
 ],
 "metadata": {
  "kernelspec": {
   "display_name": "Python 3",
   "language": "python",
   "name": "python3"
  },
  "language_info": {
   "codemirror_mode": {
    "name": "ipython",
    "version": 3
   },
   "file_extension": ".py",
   "mimetype": "text/x-python",
   "name": "python",
   "nbconvert_exporter": "python",
   "pygments_lexer": "ipython3",
   "version": "3.10.4"
  },
  "vscode": {
   "interpreter": {
    "hash": "3ad933181bd8a04b432d3370b9dc3b0662ad032c4dfaa4e4f1596c548f763858"
   }
  }
 },
 "nbformat": 4,
 "nbformat_minor": 5
}
