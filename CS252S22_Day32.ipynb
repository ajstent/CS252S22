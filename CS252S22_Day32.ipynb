{
 "cells": [
  {
   "cell_type": "markdown",
   "id": "e16737ff",
   "metadata": {},
   "source": [
    "# RBF Networks with Iris Data\n",
    "\n",
    "\n",
    "Review from Monday:\n",
    "\n",
    "Training a RBF consists of:\n",
    "* Finding prototypes\n",
    "* Selecting the activation function for the hidden nodes\n",
    "* Selecting the activation function for the output nodes\n",
    "* Setting the weights for the edges and biases"
   ]
  },
  {
   "cell_type": "markdown",
   "id": "4ba73819",
   "metadata": {},
   "source": [
    "## Load the Data"
   ]
  },
  {
   "cell_type": "code",
   "execution_count": 1,
   "id": "ca93b7a8",
   "metadata": {},
   "outputs": [
    {
     "name": "stdout",
     "output_type": "stream",
     "text": [
      "[[5.1 3.5 1.4 0.2 0. ]\n",
      " [4.9 3.  1.4 0.2 0. ]\n",
      " [4.7 3.2 1.3 0.2 0. ]\n",
      " [4.6 3.1 1.5 0.2 0. ]\n",
      " [5.  3.6 1.4 0.2 0. ]\n",
      " [5.4 3.9 1.7 0.4 0. ]\n",
      " [4.6 3.4 1.4 0.3 0. ]\n",
      " [5.  3.4 1.5 0.2 0. ]\n",
      " [4.4 2.9 1.4 0.2 0. ]\n",
      " [4.9 3.1 1.5 0.1 0. ]\n",
      " [5.4 3.7 1.5 0.2 0. ]\n",
      " [4.8 3.4 1.6 0.2 0. ]\n",
      " [4.8 3.  1.4 0.1 0. ]\n",
      " [4.3 3.  1.1 0.1 0. ]\n",
      " [5.8 4.  1.2 0.2 0. ]\n",
      " [5.7 4.4 1.5 0.4 0. ]\n",
      " [5.4 3.9 1.3 0.4 0. ]\n",
      " [5.1 3.5 1.4 0.3 0. ]\n",
      " [5.7 3.8 1.7 0.3 0. ]\n",
      " [5.1 3.8 1.5 0.3 0. ]\n",
      " [5.4 3.4 1.7 0.2 0. ]\n",
      " [5.1 3.7 1.5 0.4 0. ]\n",
      " [4.6 3.6 1.  0.2 0. ]\n",
      " [5.1 3.3 1.7 0.5 0. ]\n",
      " [4.8 3.4 1.9 0.2 0. ]\n",
      " [5.  3.  1.6 0.2 0. ]\n",
      " [5.  3.4 1.6 0.4 0. ]\n",
      " [5.2 3.5 1.5 0.2 0. ]\n",
      " [5.2 3.4 1.4 0.2 0. ]\n",
      " [4.7 3.2 1.6 0.2 0. ]\n",
      " [4.8 3.1 1.6 0.2 0. ]\n",
      " [5.4 3.4 1.5 0.4 0. ]\n",
      " [5.2 4.1 1.5 0.1 0. ]\n",
      " [5.5 4.2 1.4 0.2 0. ]\n",
      " [4.9 3.1 1.5 0.2 0. ]\n",
      " [5.  3.2 1.2 0.2 0. ]\n",
      " [5.5 3.5 1.3 0.2 0. ]\n",
      " [4.9 3.6 1.4 0.1 0. ]\n",
      " [4.4 3.  1.3 0.2 0. ]\n",
      " [5.1 3.4 1.5 0.2 0. ]\n",
      " [5.  3.5 1.3 0.3 0. ]\n",
      " [4.5 2.3 1.3 0.3 0. ]\n",
      " [4.4 3.2 1.3 0.2 0. ]\n",
      " [5.  3.5 1.6 0.6 0. ]\n",
      " [5.1 3.8 1.9 0.4 0. ]\n",
      " [4.8 3.  1.4 0.3 0. ]\n",
      " [5.1 3.8 1.6 0.2 0. ]\n",
      " [4.6 3.2 1.4 0.2 0. ]\n",
      " [5.3 3.7 1.5 0.2 0. ]\n",
      " [5.  3.3 1.4 0.2 0. ]\n",
      " [7.  3.2 4.7 1.4 1. ]\n",
      " [6.4 3.2 4.5 1.5 1. ]\n",
      " [6.9 3.1 4.9 1.5 1. ]\n",
      " [5.5 2.3 4.  1.3 1. ]\n",
      " [6.5 2.8 4.6 1.5 1. ]\n",
      " [5.7 2.8 4.5 1.3 1. ]\n",
      " [6.3 3.3 4.7 1.6 1. ]\n",
      " [4.9 2.4 3.3 1.  1. ]\n",
      " [6.6 2.9 4.6 1.3 1. ]\n",
      " [5.2 2.7 3.9 1.4 1. ]\n",
      " [5.  2.  3.5 1.  1. ]\n",
      " [5.9 3.  4.2 1.5 1. ]\n",
      " [6.  2.2 4.  1.  1. ]\n",
      " [6.1 2.9 4.7 1.4 1. ]\n",
      " [5.6 2.9 3.6 1.3 1. ]\n",
      " [6.7 3.1 4.4 1.4 1. ]\n",
      " [5.6 3.  4.5 1.5 1. ]\n",
      " [5.8 2.7 4.1 1.  1. ]\n",
      " [6.2 2.2 4.5 1.5 1. ]\n",
      " [5.6 2.5 3.9 1.1 1. ]\n",
      " [5.9 3.2 4.8 1.8 1. ]\n",
      " [6.1 2.8 4.  1.3 1. ]\n",
      " [6.3 2.5 4.9 1.5 1. ]\n",
      " [6.1 2.8 4.7 1.2 1. ]\n",
      " [6.4 2.9 4.3 1.3 1. ]\n",
      " [6.6 3.  4.4 1.4 1. ]\n",
      " [6.8 2.8 4.8 1.4 1. ]\n",
      " [6.7 3.  5.  1.7 1. ]\n",
      " [6.  2.9 4.5 1.5 1. ]\n",
      " [5.7 2.6 3.5 1.  1. ]\n",
      " [5.5 2.4 3.8 1.1 1. ]\n",
      " [5.5 2.4 3.7 1.  1. ]\n",
      " [5.8 2.7 3.9 1.2 1. ]\n",
      " [6.  2.7 5.1 1.6 1. ]\n",
      " [5.4 3.  4.5 1.5 1. ]\n",
      " [6.  3.4 4.5 1.6 1. ]\n",
      " [6.7 3.1 4.7 1.5 1. ]\n",
      " [6.3 2.3 4.4 1.3 1. ]\n",
      " [5.6 3.  4.1 1.3 1. ]\n",
      " [5.5 2.5 4.  1.3 1. ]\n",
      " [5.5 2.6 4.4 1.2 1. ]\n",
      " [6.1 3.  4.6 1.4 1. ]\n",
      " [5.8 2.6 4.  1.2 1. ]\n",
      " [5.  2.3 3.3 1.  1. ]\n",
      " [5.6 2.7 4.2 1.3 1. ]\n",
      " [5.7 3.  4.2 1.2 1. ]\n",
      " [5.7 2.9 4.2 1.3 1. ]\n",
      " [6.2 2.9 4.3 1.3 1. ]\n",
      " [5.1 2.5 3.  1.1 1. ]\n",
      " [5.7 2.8 4.1 1.3 1. ]\n",
      " [6.3 3.3 6.  2.5 2. ]\n",
      " [5.8 2.7 5.1 1.9 2. ]\n",
      " [7.1 3.  5.9 2.1 2. ]\n",
      " [6.3 2.9 5.6 1.8 2. ]\n",
      " [6.5 3.  5.8 2.2 2. ]\n",
      " [7.6 3.  6.6 2.1 2. ]\n",
      " [4.9 2.5 4.5 1.7 2. ]\n",
      " [7.3 2.9 6.3 1.8 2. ]\n",
      " [6.7 2.5 5.8 1.8 2. ]\n",
      " [7.2 3.6 6.1 2.5 2. ]\n",
      " [6.5 3.2 5.1 2.  2. ]\n",
      " [6.4 2.7 5.3 1.9 2. ]\n",
      " [6.8 3.  5.5 2.1 2. ]\n",
      " [5.7 2.5 5.  2.  2. ]\n",
      " [5.8 2.8 5.1 2.4 2. ]\n",
      " [6.4 3.2 5.3 2.3 2. ]\n",
      " [6.5 3.  5.5 1.8 2. ]\n",
      " [7.7 3.8 6.7 2.2 2. ]\n",
      " [7.7 2.6 6.9 2.3 2. ]\n",
      " [6.  2.2 5.  1.5 2. ]\n",
      " [6.9 3.2 5.7 2.3 2. ]\n",
      " [5.6 2.8 4.9 2.  2. ]\n",
      " [7.7 2.8 6.7 2.  2. ]\n",
      " [6.3 2.7 4.9 1.8 2. ]\n",
      " [6.7 3.3 5.7 2.1 2. ]\n",
      " [7.2 3.2 6.  1.8 2. ]\n",
      " [6.2 2.8 4.8 1.8 2. ]\n",
      " [6.1 3.  4.9 1.8 2. ]\n",
      " [6.4 2.8 5.6 2.1 2. ]\n",
      " [7.2 3.  5.8 1.6 2. ]\n",
      " [7.4 2.8 6.1 1.9 2. ]\n",
      " [7.9 3.8 6.4 2.  2. ]\n",
      " [6.4 2.8 5.6 2.2 2. ]\n",
      " [6.3 2.8 5.1 1.5 2. ]\n",
      " [6.1 2.6 5.6 1.4 2. ]\n",
      " [7.7 3.  6.1 2.3 2. ]\n",
      " [6.3 3.4 5.6 2.4 2. ]\n",
      " [6.4 3.1 5.5 1.8 2. ]\n",
      " [6.  3.  4.8 1.8 2. ]\n",
      " [6.9 3.1 5.4 2.1 2. ]\n",
      " [6.7 3.1 5.6 2.4 2. ]\n",
      " [6.9 3.1 5.1 2.3 2. ]\n",
      " [5.8 2.7 5.1 1.9 2. ]\n",
      " [6.8 3.2 5.9 2.3 2. ]\n",
      " [6.7 3.3 5.7 2.5 2. ]\n",
      " [6.7 3.  5.2 2.3 2. ]\n",
      " [6.3 2.5 5.  1.9 2. ]\n",
      " [6.5 3.  5.2 2.  2. ]\n",
      " [6.2 3.4 5.4 2.3 2. ]\n",
      " [5.9 3.  5.1 1.8 2. ]]\n"
     ]
    }
   ],
   "source": [
    "import numpy as np\n",
    "import matplotlib.pyplot as plt\n",
    "import pandas as pd\n",
    "\n",
    "def typeConverter(x):\n",
    "    values = ['setosa', 'versicolor', 'virginica']\n",
    "    return float(values.index(x))\n",
    "\n",
    "\n",
    "columns = [\"sepal_length\", \"sepal_width\", \"petal_length\", \"petal_width\", \"class\"]\n",
    "iris = np.array(np.genfromtxt('data/iris.csv', delimiter=',', converters={4: typeConverter}, skip_header=2, dtype=float, encoding='utf-8'))  \n",
    "print(iris)"
   ]
  },
  {
   "cell_type": "markdown",
   "id": "ef6593f0",
   "metadata": {},
   "source": [
    "# Look at the Data"
   ]
  },
  {
   "cell_type": "code",
   "execution_count": 2,
   "id": "f25f02b5",
   "metadata": {},
   "outputs": [
    {
     "name": "stdout",
     "output_type": "stream",
     "text": [
      "          0         1         2         3         4\n",
      "0  7.900000  4.400000  6.900000  2.500000  2.000000\n",
      "1  4.300000  2.000000  1.000000  0.100000  0.000000\n",
      "2  5.843333  3.057333  3.758000  1.199333  1.000000\n",
      "3  0.681122  0.188713  3.095503  0.577133  0.666667\n"
     ]
    },
    {
     "data": {
      "text/plain": [
       "((150, 5), dtype('float64'))"
      ]
     },
     "execution_count": 2,
     "metadata": {},
     "output_type": "execute_result"
    }
   ],
   "source": [
    "def getSummaryStatistics(data):\n",
    "    \"Get the max, min, mean, var for each variable in the data.\"\n",
    "    return pd.DataFrame(np.array([data.max(axis=0), data.min(axis=0), data.mean(axis=0), data.var(axis=0)]))\n",
    "\n",
    "def getShapeType(data):\n",
    "    \"Get the shape and type of the data.\"\n",
    "    return (data.shape, data.dtype)\n",
    "\n",
    "print(getSummaryStatistics(iris))\n",
    "getShapeType(iris)"
   ]
  },
  {
   "cell_type": "markdown",
   "id": "57d109eb",
   "metadata": {},
   "source": [
    "## What kind of analysis are we going to do?\n",
    "\n",
    "Regression, clustering, classification?\n",
    "\n",
    "If supervised, which is our dependent variable?\n",
    "\n",
    "If we have a dependent variable, how many possible values does it have? What will this number correspond to in the RBF network?"
   ]
  },
  {
   "cell_type": "code",
   "execution_count": 3,
   "id": "0e3cf120",
   "metadata": {},
   "outputs": [
    {
     "name": "stdout",
     "output_type": "stream",
     "text": [
      "          0         1         2         3         4\n",
      "0  7.900000  4.100000  6.900000  2.500000  2.000000\n",
      "1  4.300000  2.000000  1.100000  0.100000  0.000000\n",
      "2  5.863333  3.003333  3.880000  1.246667  1.066667\n",
      "3  0.671822  0.163322  2.930433  0.555322  0.662222\n",
      "          0         1         2         3         4\n",
      "0  6.800000  4.200000  5.900000  2.400000  2.000000\n",
      "1  4.400000  2.300000  1.000000  0.200000  0.000000\n",
      "2  5.613333  3.320000  2.940000  0.933333  0.600000\n",
      "3  0.615822  0.212267  3.161067  0.615556  0.506667\n",
      "          0         1         2         3         4\n",
      "0  7.700000  4.400000  6.700000  2.300000  2.000000\n",
      "1  4.900000  2.600000  1.400000  0.100000  0.000000\n",
      "2  5.913333  3.226667  3.600000  1.086667  0.866667\n",
      "3  0.759822  0.247289  3.537333  0.611822  0.648889\n"
     ]
    }
   ],
   "source": [
    "# Why are we doing this?\n",
    "np.random.shuffle(iris)\n",
    "\n",
    "# Why are we doing this?\n",
    "train_data, dev_data, test_data = np.split(iris, [int(.8 * len(iris)), int(.9 * len(iris))])\n",
    "print(getSummaryStatistics(train_data))\n",
    "print(getSummaryStatistics(dev_data))\n",
    "print(getSummaryStatistics(test_data))"
   ]
  },
  {
   "cell_type": "markdown",
   "id": "5eb8149c",
   "metadata": {},
   "source": [
    "## Does the data need to be cleaned?\n",
    "\n",
    "Are there missing or erroneous values? \n",
    "\n",
    "Do we need to fix the types of some of the variables?\n",
    "\n",
    "## Does it need to be normalized?\n",
    "\n",
    "Is the range of one or more values clearly out of line with the rest?\n",
    "\n",
    "## Consider transformation\n",
    "\n",
    "Would PCA help?\n",
    "* if we had a thousand independent variables, probably, but in this case no"
   ]
  },
  {
   "cell_type": "code",
   "execution_count": 4,
   "id": "12f2beeb",
   "metadata": {},
   "outputs": [
    {
     "name": "stdout",
     "output_type": "stream",
     "text": [
      "              0             1             2             3\n",
      "0  2.484808e+00  2.713639e+00  1.764172e+00  1.681876e+00\n",
      "1 -1.907324e+00 -2.482691e+00 -1.623973e+00 -1.538738e+00\n",
      "2  9.473903e-16  6.291264e-16 -1.702342e-16  1.813364e-16\n",
      "3  1.000000e+00  1.000000e+00  1.000000e+00  1.000000e+00\n"
     ]
    },
    {
     "data": {
      "text/plain": [
       "((120, 4), dtype('float64'))"
      ]
     },
     "execution_count": 4,
     "metadata": {},
     "output_type": "execute_result"
    }
   ],
   "source": [
    "def zScore(data):\n",
    "    \"z score.\"\n",
    "    homogenizedData = np.append(data, np.array([np.ones(data.shape[0], dtype=float)]).T, axis=1)\n",
    "    translateTransform = np.eye(homogenizedData.shape[1])\n",
    "    for i in range(homogenizedData.shape[1]):\n",
    "        translateTransform[i, homogenizedData.shape[1]-1] = -homogenizedData[:, i].mean()\n",
    "    diagonal = [1 / homogenizedData[:, i].std() if homogenizedData[:, i].std() != 0 else 1 for i in range(homogenizedData.shape[1])]\n",
    "    scaleTransform = np.eye(homogenizedData.shape[1]) * diagonal\n",
    "    data = (scaleTransform@translateTransform@homogenizedData.T).T\n",
    "    return data[:, :data.shape[1]-1]\n",
    "\n",
    "train_data, train_y = train_data[:, :-1], train_data[:, -1]\n",
    "train_data = zScore(train_data)\n",
    "print(getSummaryStatistics(train_data))\n",
    "getShapeType(train_data)"
   ]
  },
  {
   "cell_type": "markdown",
   "id": "87e59f1d",
   "metadata": {},
   "source": [
    "# Find Prototypes\n",
    "\n",
    "To do this, we use kmeans. I am going to use the scikit-learn implementation; you should use your own for the project.\n",
    "\n",
    "Why would we not just have the number of prototypes be equal to the number of classes?"
   ]
  },
  {
   "cell_type": "code",
   "execution_count": 5,
   "id": "795ee397",
   "metadata": {},
   "outputs": [
    {
     "name": "stdout",
     "output_type": "stream",
     "text": [
      "2\n",
      "3\n",
      "4\n",
      "5\n",
      "6\n",
      "7\n",
      "8\n",
      "9\n",
      "10\n",
      "11\n",
      "12\n",
      "13\n",
      "14\n",
      "15\n",
      "16\n",
      "[[  2.         191.21214245]\n",
      " [  3.         117.89961264]\n",
      " [  4.          94.47375541]\n",
      " [  5.          75.8571642 ]\n",
      " [  6.          66.75067234]\n",
      " [  7.          56.88323578]\n",
      " [  8.          51.02182475]\n",
      " [  9.          45.10112823]\n",
      " [ 10.          39.79546701]\n",
      " [ 11.          35.33550536]\n",
      " [ 12.          33.21572995]\n",
      " [ 13.          30.41919722]\n",
      " [ 14.          28.97124701]\n",
      " [ 15.          27.19689642]\n",
      " [ 16.          25.82390285]]\n"
     ]
    },
    {
     "data": {
      "image/png": "[encoded data removed]",
      "text/plain": [
       "<Figure size 432x288 with 1 Axes>"
      ]
     },
     "metadata": {
      "needs_background": "light"
     },
     "output_type": "display_data"
    }
   ],
   "source": [
    "from sklearn.cluster import KMeans\n",
    "\n",
    "inertia_by_k = []\n",
    "\n",
    "for k in range(2, 17):\n",
    "    print(k)\n",
    "    km = KMeans(n_clusters=k, random_state=0).fit(train_data)\n",
    "    inertia_by_k.append([k, km.inertia_])\n",
    "\n",
    "inertia_by_k = np.array(inertia_by_k)\n",
    "print(inertia_by_k)\n",
    "fig = plt.figure(figsize=(6,4))\n",
    "ax1 = fig.add_subplot(111)\n",
    "ax1.plot(inertia_by_k[:, 0], inertia_by_k[:, 1])\n",
    "ax1.set_xlabel('k')\n",
    "ax1.set_ylabel('Inertia')\n",
    "ax1.set_title('Elbow Plot')\n",
    "plt.show()\n"
   ]
  },
  {
   "cell_type": "markdown",
   "id": "64fe8c2a",
   "metadata": {},
   "source": [
    "So, what value will we choose for k? What will this number correspond to in the RBF network?"
   ]
  },
  {
   "cell_type": "code",
   "execution_count": 7,
   "id": "b21240a1",
   "metadata": {},
   "outputs": [
    {
     "name": "stdout",
     "output_type": "stream",
     "text": [
      "[[ 1.87478939 -0.22476186  1.40637252  0.94381891]\n",
      " [-1.39490838  0.17321097 -1.4409355  -1.42243798]\n",
      " [ 0.01762275 -0.07698265  0.33297293  0.28776785]\n",
      " [-0.2515599  -1.33384232  0.15355143 -0.00511209]\n",
      " [-0.93129451  1.06401026 -1.36596791 -1.27035341]\n",
      " [ 0.87435948  0.42065522  0.93466087  1.29719187]\n",
      " [ 1.03601431  0.08454345  0.45710758  0.2728576 ]\n",
      " [-0.65678631  2.06409742 -1.34649581 -1.28712745]\n",
      " [-1.17530181 -1.74035787 -0.58416304 -0.49203829]\n",
      " [ 2.05779487  1.72386158  1.38446641  1.3463957 ]\n",
      " [ 0.39447846 -0.78357345  0.79056732  0.82304587]]\n"
     ]
    }
   ],
   "source": [
    "k = 11\n",
    "\n",
    "km = KMeans(n_clusters=k, random_state=0).fit(train_data)\n",
    "\n",
    "print(km.cluster_centers_)\n",
    "\n",
    "# The other thing you need is for each of these, the activation function\n",
    "activations = "
   ]
  },
  {
   "cell_type": "markdown",
   "id": "4c6a4c3e",
   "metadata": {},
   "source": [
    "# Define the Activation Function for the Hidden Nodes\n",
    "\n",
    "Recall that a typical activation function for the hidden nodes is the Gaussian, so something like $exp \\left( - \\frac{||\\vec{d}-\\vec{\\mu_j}||^2}{2\\delta_j^2 + \\epsilon} \\right)$, where $\\vec{d}$ is the data point, $\\vec{\\mu_j}$ is the prototype, $\\delta_j$ is the hidden unit's standard deviation, $\\epsilon$ is a small constant and $||.||^2$ is the squared Euclidean distance.\n",
    "\n",
    "Let's take a good look at this activation function. \n",
    "* What is in the numerator? Why look, it's the distance! Why would we not just use the distance itself as the activation function? \n",
    "* What is the function of $\\delta_j$?\n",
    "* Why do we have $\\epsilon$?\n",
    "\n",
    "$exp \\left( - \\frac{||\\vec{d}-\\vec{\\mu_j}||}{3} \\right)$"
   ]
  },
  {
   "cell_type": "markdown",
   "id": "5e68e75f",
   "metadata": {},
   "source": [
    "# What Will We Do When We Get a New Data Point?"
   ]
  },
  {
   "cell_type": "markdown",
   "id": "d92e155d",
   "metadata": {},
   "source": [
    "At this point, we have defined:\n",
    "* The input layer (ish)\n",
    "* The hidden layer\n",
    "\n",
    "For a new data point, we will:\n",
    "1. encode it using the same zscoring we did on train - not defining a new zscoring. IE use mean and stdev from the *training data*\n",
    "2. send it to each of the hidden layer nodes (so the weights from the input layer to the hidden layer are all 1)\n",
    "3. each hidden layer node will calculate its activation for this data point\n",
    "\n",
    "On Monday we will define the output layer, and explain how it relates to another analysis method we already know well, linear regression. We will then show how we can *also use RBF networks for regression*!"
   ]
  },
  {
   "cell_type": "code",
   "execution_count": null,
   "id": "2dfa73a5",
   "metadata": {},
   "outputs": [],
   "source": []
  }
 ],
 "metadata": {
  "kernelspec": {
   "display_name": "Python 3 (ipykernel)",
   "language": "python",
   "name": "python3"
  },
  "language_info": {
   "codemirror_mode": {
    "name": "ipython",
    "version": 3
   },
   "file_extension": ".py",
   "mimetype": "text/x-python",
   "name": "python",
   "nbconvert_exporter": "python",
   "pygments_lexer": "ipython3",
   "version": "3.9.7"
  }
 },
 "nbformat": 4,
 "nbformat_minor": 5
}
