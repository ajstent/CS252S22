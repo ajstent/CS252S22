{
 "cells": [
  {
   "attachments": {},
   "cell_type": "markdown",
   "id": "2230c8a1",
   "metadata": {},
   "source": [
    "# The One Goal for Today\n",
    "\n",
    "To understand how to fit a Naive Bayes model."
   ]
  },
  {
   "attachments": {},
   "cell_type": "markdown",
   "id": "71f10b3a",
   "metadata": {},
   "source": [
    "# Bayes' Rule reviewed \n",
    "\n",
    "Remember Monday, with the M&Ms? The complete worked additional example for cups with *4* M&Ms is now in the Day 27 notebook, so you can check your own math.\n",
    "\n",
    "Bayes' rule: $P(Y|X) = \\frac{P(Y)*P(X|Y)}{P(X)}$.\n",
    "\n",
    "* $P(Y|X)$ is the *posterior*\n",
    "* $P(Y)$ is the *prior*\n",
    "* $P(X|Y)$ is the *likelihood*\n",
    "* $P(X)$ is the *evidence* (or *normalization*)"
   ]
  },
  {
   "attachments": {},
   "cell_type": "markdown",
   "id": "857c4a9b",
   "metadata": {},
   "source": [
    "# Fitting and predicting using Naive Bayes\n",
    "\n",
    "Let's imagine I have a very very large bag of M&Ms. Some of them are peanut (N), some raisin (R) and some regular chocolate (C). I only like peanut M&Ms. The thing is, I'm in a dark room (or it's Halloween night) so I can only guess the type of the M&M by feel. I repeatedly reach into the bag, grab one M&M and then either eat it (E) or do not eat it (D). You then record the type of the M&M and what I did. This gives the dataset below:\n",
    "\n",
    "| Candy | Outcome |\n",
    "| ----- | ---- |\n",
    "| peanut M&M (N) | did eat it (E) |\n",
    "| peanut M&M (N) | did eat it (E) |\n",
    "| peanut M&M (N) | did eat it (E) |\n",
    "| raisin M&M (R) | did not eat it (D) |\n",
    "| raisin M&M (R) | did eat it (E) |\n",
    "| chocolate M&M (C) | did not eat it (D) |\n",
    "| peanut M&M (N) | did not eat it (D) |\n",
    "| chocolate M&M (C) | did not eat it (D) |\n",
    "| raisin M&M (R) | did not eat it (D) |\n",
    "| raisin M&M (R) | did not eat it (D) |"
   ]
  },
  {
   "attachments": {},
   "cell_type": "markdown",
   "id": "59c8ec9d",
   "metadata": {},
   "source": [
    "Side note: we typically convert qualitative values to numbers for machine learning; it enables us to use all the power of numpy, at some cost in readability to humans. I'm not going to do this today, for readability to us, but on Friday we'll be back to 'numeric' representation of features.\n",
    "\n",
    "We want to fit a model that will tell us the probability that I ate it (or did not eat it) given the type of candy it is. We can do that by calculating:\n",
    "* The priors for E and D\n",
    "* The likelihood of the type of candy (N, R, C) given E and D\n",
    "\n",
    "The dependent variable here will be the outcome, and the independent variable will be the type of M&M. The dependent variable is *qualitative* so this will be a *classification* model."
   ]
  },
  {
   "attachments": {},
   "cell_type": "markdown",
   "id": "47f26914",
   "metadata": {},
   "source": [
    "## Fit\n",
    "\n",
    "A table of counts might help. Fill this in using the data sample above:\n",
    "\n",
    "| Outcome | Peanut M&M (N) | Chocolate M&M (C) | Raisin M&M (R) | Total |\n",
    "| -------- | ------- | ---------- | ------------ | ------- |\n",
    "| Did eat it (E)        | 3 | 0 | 1 | 4 |\n",
    "| Did not eat it (D) | 1 | 2 | 3 | 6 |\n",
    "| Total | 4 | 2 | 4 | 10 |\n",
    "\n",
    "* Calculate the prior for E and the prior for D: $P(E) = 4/10$; $P(D) = 6/10$\n",
    "* Calculate the likelihood of N given E, of C given E, of R given E, of N given D, of C given D, of R given D:\n",
    "\n",
    "| | N | C | R |\n",
    "| -------- | ------- | ---------- | ------------ |\n",
    "| E        | 3/4 | 0  | 1/4 |\n",
    "| D | 1/6 | 1/3 | 1/2 |\n",
    "\n",
    "\n",
    "Store both sets of values."
   ]
  },
  {
   "attachments": {},
   "cell_type": "markdown",
   "id": "84203d0a",
   "metadata": {},
   "source": [
    "## Predict \n",
    "\n",
    "Given a new observation, *peanut M&M*, what is my most likely behavior? Let's compare $P(E|N)$ and $P(D|N)$. \n",
    "1. Expand $P(E|N)$ using Bayes' rule: $\\frac{P(E)*P(N|E)}{P(N)}$\n",
    "2. Expand $P(D|N)$ using Bayes' rule: $\\frac{P(D)*P(N|D)}{P(N)}$\n"
   ]
  },
  {
   "attachments": {},
   "cell_type": "markdown",
   "id": "290f227f",
   "metadata": {},
   "source": [
    "Since $P(N)$ is in the denominator in both cases, we can ignore it completely for the comparison. So we only need the prior and the likelihood, both of which we calculated during __fit__.\n",
    "* $P(E|N) = 4/10*3/4 = 3/10$\n",
    "* $P(D|N) = 6/10*1/6 = 1/10$\n",
    "\n",
    "Which is higher?\n",
    "\n",
    "The Naive Bayes \"predict formula\" is $argmax_Y P(Y)*P(X|Y)$."
   ]
  },
  {
   "attachments": {},
   "cell_type": "markdown",
   "id": "d8c122d3",
   "metadata": {},
   "source": [
    "## Score\n",
    "\n",
    "Let's say I have the test data below:\n",
    "\n",
    "| Candy | Outcome |\n",
    "| ----- | ---- |\n",
    "| peanut M&M (N) | did not eat it (D) |\n",
    "| peanut M&M (N) | ate it (E) |\n",
    "| raisin M&M (R) | did not eat it (D) |\n",
    "| raisin M&M (R) | ate it (E) |\n",
    "| chocolate M&M (C) | did not eat it (D) |"
   ]
  },
  {
   "attachments": {},
   "cell_type": "markdown",
   "id": "eaa6faa9",
   "metadata": {},
   "source": [
    "* Does this data include all my labels?\n",
    "* Does this data include all possible values for my one independent variable?\n",
    "\n",
    "How well does my Naive Bayes model perform on this test data? \n",
    "\n",
    "| Y | X | P(E)\\*P(X\\|E) | P(D)\\*P(X\\|D) | $\\hat{Y}$ |\n",
    "| --- | --- | --- | --- | --- |\n",
    "| D | N | 3/10 | 1/10  | E |\n",
    "| E | N | 3/10 | 1/10  | E  |\n",
    "| D | R | 1/10 (4/10*1/4) | 3/10 (6/10*1/2) | D |\n",
    "| E | R |  1/10 | 3/10 | D |\n",
    "| D | C | 0 (4/10*0) | 2/10 (6/10*1/3)  | D |"
   ]
  },
  {
   "attachments": {},
   "cell_type": "markdown",
   "id": "042ef828",
   "metadata": {},
   "source": [
    "Based on this test data:\n",
    "* What is the accuracy? 3/5\n",
    "* What is the confusion matrix?\n",
    "\n",
    "| Guess/Truth | E | D |\n",
    "| -- | --- | ---- |\n",
    "| E | 1 | 1 |\n",
    "| D | 1 | 2 |"
   ]
  },
  {
   "cell_type": "markdown",
   "id": "798fb839",
   "metadata": {},
   "source": []
  }
 ],
 "metadata": {
  "kernelspec": {
   "display_name": "Python 3 (ipykernel)",
   "language": "python",
   "name": "python3"
  },
  "language_info": {
   "codemirror_mode": {
    "name": "ipython",
    "version": 3
   },
   "file_extension": ".py",
   "mimetype": "text/x-python",
   "name": "python",
   "nbconvert_exporter": "python",
   "pygments_lexer": "ipython3",
   "version": "3.9.7"
  }
 },
 "nbformat": 4,
 "nbformat_minor": 5
}
