{
 "cells": [
  {
   "attachments": {},
   "cell_type": "markdown",
   "id": "8e4a1a95",
   "metadata": {},
   "source": [
    "# Let's get our project 1 into github\n",
    "\n",
    "1. Download all the code files\n",
    "2. Make a data directory\n",
    "3. Download all the data files into the data directory\n",
    "4. Upload the code files and the data directory into your notebook environment, inside Project1CheckIn\n",
    "5. *Commit* and *push to main*\" select the blue dot on the left; type a short informative message where it says \"Message\"; click Commit, then click Sync"
   ]
  },
  {
   "attachments": {},
   "cell_type": "markdown",
   "id": "dcc74282",
   "metadata": {},
   "source": [
    "# Let's get today's notebook into a notebook environment\n",
    "\n",
    "1. Download the notebook \n",
    "2. Open cs251.jupyter.colby.edu\n",
    "3. Upload the notebook\n",
    "\n",
    "OR\n",
    "\n",
    "1. Download the notebook\n",
    "2. Open a codespace in your projects repository on github\n",
    "3. Create a new folder called \"CourseNotes\"\n",
    "4. Upload the notebook"
   ]
  },
  {
   "attachments": {},
   "cell_type": "markdown",
   "id": "a9707599",
   "metadata": {},
   "source": [
    "# Let's get today's data into a notebook environment\n",
    "\n",
    "1. Download the data file\n",
    "2. Open cs251.jupyter.colby.edu\n",
    "3. Make a folder \"data\"\n",
    "4. Upload the data file into that folder\n",
    "\n",
    "OR\n",
    "\n",
    "1. Download the data file\n",
    "2. Open a codespace in your projects repository on github\n",
    "3. Create a new folder in \"CourseNotes\" called \"data\"\n",
    "4. Upload the data file into that folder"
   ]
  },
  {
   "attachments": {},
   "cell_type": "markdown",
   "id": "72fd4e48",
   "metadata": {},
   "source": [
    "# Let's understand a notebook\n",
    "\n",
    "A notebook consists of cells. Each cell can contain either code or markdown.\n",
    "\n",
    "When you make a new cell, you can change its type to markdown using the menu at the top of the cell."
   ]
  },
  {
   "attachments": {},
   "cell_type": "markdown",
   "id": "5f1373f6",
   "metadata": {},
   "source": [
    "## Code Cells\n",
    "\n",
    "### Introduction\n",
    "\n",
    "If your notebook is running a python kernel, you can type any python into a code cell.\n",
    "\n",
    "To execute a code cell, type Shift+Enter.\n",
    "\n",
    "The notebook remembers everything you have run so far (potential gotcha: in whatever order!). So variables and functions you define in one cell, which you then execute, will be in scope as long as you don't restart the kernel.\n",
    "\n",
    "### Now You Try\n",
    "\n",
    "* Make a code cell\n",
    "* Import numpy\n",
    "* Make a numpy array and assign it to a variable named \"myArray\"\n",
    "* Define a function that adds 1 to each element in an input array and returns the resulting array\n",
    "  * Make sure and add a docstring!\n",
    "* Run that function\n",
    "* Now restart the kernel"
   ]
  },
  {
   "attachments": {},
   "cell_type": "markdown",
   "id": "1aa753ea",
   "metadata": {},
   "source": [
    "## Markdown Cells\n",
    "\n",
    "Markdown cells support useful formatting: headers, bold/italics, order/unordered lists, inline code.\n",
    "\n",
    "# Headers\n",
    "## Headers\n",
    "### Headers\n",
    "**Bold** text _Italics_\n",
    "\n",
    "* Unordered\n",
    "* lists\n",
    "1. Numbered\n",
    "2. Lists\n",
    "\n",
    "Full list of supported Markdown commands are here:https://help.github.com/en/articles/basic-writing-and-formatting-syntax\n",
    "\n",
    "## Now You Try\n",
    "\n",
    "* Make a markdown cell\n",
    "* Add your name as the section heading, and a list of the courses you are taking this semester\n",
    "\n",
    "## Side Note\n",
    "\n",
    "You will want to save your notebooks often.\n",
    "\n",
    "If you are running a notebook in Jupyterhub or Colab, you will want to *download it before you quit the browser*. (Better yet, commit it to git!)"
   ]
  },
  {
   "attachments": {},
   "cell_type": "markdown",
   "id": "7bd7e1a2",
   "metadata": {},
   "source": [
    "# Let's talk about your project"
   ]
  },
  {
   "attachments": {},
   "cell_type": "markdown",
   "id": "fa8a394f",
   "metadata": {},
   "source": [
    "# Looking at Data with numpy\n",
    "\n",
    "Do *not* use this for your project (yet!)"
   ]
  },
  {
   "cell_type": "code",
   "execution_count": null,
   "id": "40efba04",
   "metadata": {},
   "outputs": [],
   "source": [
    "import numpy as np"
   ]
  },
  {
   "cell_type": "code",
   "execution_count": null,
   "id": "06dac4ff",
   "metadata": {},
   "outputs": [],
   "source": [
    "# Let's load the car data\n",
    "\n",
    "cars = np.loadtxt('data/vehiclesNumeric.csv', dtype=int, skiprows=1, delimiter=',')\n",
    "\n",
    "cols = ['id', 'price', 'year', 'odometer']\n",
    "cars"
   ]
  },
  {
   "attachments": {},
   "cell_type": "markdown",
   "id": "1e0ca526",
   "metadata": {},
   "source": [
    "# What are some summary statistics we can compute?\n",
    "\n",
    "* Min\n",
    "* Mean\n",
    "* Median\n",
    "* Max\n",
    "* Standard deviation (or standard deviation squared, variance)"
   ]
  },
  {
   "cell_type": "code",
   "execution_count": null,
   "id": "0f109e58",
   "metadata": {},
   "outputs": [],
   "source": [
    "# Let's get some summary statistics for this data\n",
    "\n",
    "print(\"{col:10s}\\t{min:13s}\\t{mean:13s}\\t{med:13s}\\t{max:13s}\\t{std:13s}\".format(col=\"column\", min=\"min\", mean=\"mean\", med=\"median\", max=\"max\", std=\"stdev\"))\n",
    "for id in range(1,4):\n",
    "    print(\"{id:10s}\\t{min:8.2f}\\t{mean:8.2f}\\t{median:8.2f}\\t{max:8.2f}\\t{var:8.2f}\".format(id=cols[id], min=np.min(cars[:,id]), mean=np.mean(cars[:,id]), median=np.median(cars[:,id]), max=np.max(cars[:,id]), var=np.std(cars[:,id])))"
   ]
  },
  {
   "cell_type": "markdown",
   "id": "5130c99d",
   "metadata": {},
   "source": [
    "Summary statistics can mislead\n",
    "------------------------------\n",
    "\n",
    "The example below comes from this great seaborn documentation: https://seaborn.pydata.org/examples/anscombes_quartet.html"
   ]
  },
  {
   "cell_type": "code",
   "execution_count": null,
   "id": "f931aeab",
   "metadata": {},
   "outputs": [],
   "source": [
    "import seaborn\n",
    "\n",
    "seaborn.set_theme(style=\"ticks\")\n",
    "\n",
    "# Load the example dataset for Anscombe's quartet\n",
    "df = seaborn.load_dataset(\"anscombe\")\n",
    "\n",
    "df"
   ]
  },
  {
   "cell_type": "code",
   "execution_count": null,
   "id": "73c2e7d0",
   "metadata": {},
   "outputs": [],
   "source": [
    "df.groupby('dataset').agg(['min', 'mean', 'median', 'max', 'var'])"
   ]
  },
  {
   "cell_type": "code",
   "execution_count": null,
   "id": "ace370c0",
   "metadata": {},
   "outputs": [],
   "source": [
    "# Show the results of a linear regression within each dataset\n",
    "seaborn.lmplot(x=\"x\", y=\"y\", col=\"dataset\", hue=\"dataset\", data=df,\n",
    "           col_wrap=2, ci=None, palette=\"colorblind\", height=4,\n",
    "           scatter_kws={\"s\": 50, \"alpha\": 1})"
   ]
  },
  {
   "attachments": {},
   "cell_type": "markdown",
   "id": "1d89a86f",
   "metadata": {},
   "source": [
    "What... just happened?"
   ]
  }
 ],
 "metadata": {
  "kernelspec": {
   "display_name": "Python 3",
   "language": "python",
   "name": "python3"
  },
  "language_info": {
   "codemirror_mode": {
    "name": "ipython",
    "version": 3
   },
   "file_extension": ".py",
   "mimetype": "text/x-python",
   "name": "python",
   "nbconvert_exporter": "python",
   "pygments_lexer": "ipython3",
   "version": "3.10.4"
  },
  "vscode": {
   "interpreter": {
    "hash": "3ad933181bd8a04b432d3370b9dc3b0662ad032c4dfaa4e4f1596c548f763858"
   }
  }
 },
 "nbformat": 4,
 "nbformat_minor": 5
}
