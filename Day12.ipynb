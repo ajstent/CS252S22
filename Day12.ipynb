{
 "cells": [
  {
   "cell_type": "code",
   "execution_count": null,
   "id": "811722d8",
   "metadata": {},
   "outputs": [],
   "source": [
    "import numpy as np\n",
    "import pandas as pd\n",
    "import matplotlib.pyplot as plt\n",
    "import seaborn"
   ]
  },
  {
   "attachments": {},
   "cell_type": "markdown",
   "id": "6243b190",
   "metadata": {},
   "source": [
    "# Review\n",
    "\n",
    "The first three steps in data science are to:\n",
    "* find some data\n",
    "* look at your data (summary statistics, visualizations)\n",
    "* clean and normalize your data (drop columns, fill in missing / erroneous values, translate, scale, rotate)\n",
    "\n",
    "Today we will keep working with the set of Craigslist listings for used cars.\n",
    "* Where did it come from?\n",
    "* What does it look like?\n",
    "* What types of cleaning have I done to it and what types do I still ahve to do?"
   ]
  },
  {
   "attachments": {},
   "cell_type": "markdown",
   "id": "cd3775ce",
   "metadata": {},
   "source": [
    "Now we will load this dataset."
   ]
  },
  {
   "cell_type": "code",
   "execution_count": null,
   "id": "ca359103",
   "metadata": {},
   "outputs": [],
   "source": [
    "# Load the data\n",
    "# This dataset is the hyundai/kia subsample from https://www.kaggle.com/austinreese/craigslist-carstrucks-data after some cleanup\n",
    "\n",
    "data = np.array(np.genfromtxt('data/vehiclesNumeric.csv', delimiter=',', skip_header=1, dtype=int, encoding='utf-8', usecols=[1,2]))  \n",
    "print(data)"
   ]
  },
  {
   "attachments": {},
   "cell_type": "markdown",
   "id": "68a5a5ca",
   "metadata": {},
   "source": [
    "Let's get some summary statistics so we can see what's going on."
   ]
  },
  {
   "cell_type": "code",
   "execution_count": null,
   "id": "9f0dcff3",
   "metadata": {},
   "outputs": [],
   "source": [
    "def getSummaryStatistics(data):\n",
    "    print(\"min, max, mean, std per variable\")\n",
    "    return pd.DataFrame([data.min(axis=0), data.max(axis=0), data.mean(axis=0), data.std(axis=0)])\n",
    "\n",
    "def getShapeType(data):\n",
    "    print(\"shape\")\n",
    "    return (data.shape, data.dtype)\n",
    "\n",
    "print(getSummaryStatistics(data))\n",
    "print(getShapeType(data))"
   ]
  },
  {
   "attachments": {},
   "cell_type": "markdown",
   "id": "c2b850ff",
   "metadata": {},
   "source": [
    "## Let's review regression\n",
    "\n",
    "Regression allows us to:\n",
    "* determine the *nature* of a relationship between one (or more!) independent variables and a dependent variable\n",
    "* determine the *strength* of the relationship\n",
    "\n",
    "Regression *fits* a function to a dataset.\n",
    "\n",
    "Regression is *not* the same as interpolation. Why not?\n",
    "\n",
    "In order to define regression, we need three things. And they are?\n",
    "* function (in this case, a line)\n",
    "* a method for fitting the function to the data\n",
    "* a measure of goodness of fit"
   ]
  },
  {
   "attachments": {},
   "cell_type": "markdown",
   "id": "71ac8405",
   "metadata": {},
   "source": [
    "## What kinds of functions can we fit? \n",
    "\n",
    "We are going to start with *linear regression*. What type of function do we fit when we do linear regression?"
   ]
  },
  {
   "cell_type": "code",
   "execution_count": null,
   "id": "152211ce",
   "metadata": {},
   "outputs": [],
   "source": [
    "# multiply the xs by the m and add b\n",
    "def linear_regression(x, m, b):\n",
    "    return x*m + b\n",
    "\n",
    "# Mean sum of squared errors; why squared?\n",
    "def msse(y, yhat):\n",
    "    r = (np.square(y - yhat)).mean()\n",
    "    return r\n",
    "\n",
    "def plotxyyhat(x, y, yhat):\n",
    "    plt.plot(x, y, 'o', label='data')\n",
    "    plt.plot(x, yhat, label='least squares fit, $y = mx + b$')\n",
    "    plt.xlabel('x')\n",
    "    plt.ylabel('y')\n",
    "    plt.legend(framealpha=1, shadow=True)\n",
    "    plt.grid(alpha=0.25)\n",
    "    plt.show()\n",
    "\n",
    "# x is model year\n",
    "x = data[:, 1]\n",
    "\n",
    "# y is price\n",
    "y = data[:, 0]\n",
    "\n",
    "# calculate yhat, using the mean as the intercept and the 0 as the slope\n",
    "yhat = linear_regression(x, 0, y.mean())\n",
    "print(msse(y, yhat))\n",
    "\n",
    "plotxyyhat(x, y, yhat)"
   ]
  },
  {
   "attachments": {},
   "cell_type": "markdown",
   "id": "c6f44154",
   "metadata": {},
   "source": [
    "## What does it mean to *fit* a function? \n",
    "\n",
    "Now let's talk about methods for making the function \"fit\" the data. We know $x$, and we know $y$. We do *not* know the values for $b$ or $m$; that's what we need to figure out. "
   ]
  },
  {
   "cell_type": "markdown",
   "id": "e68cca9b",
   "metadata": {},
   "source": [
    "The function \"lstsq\" in the scipy package's linalg (linear algebra) subpackage\n",
    "fits a linear regression using least squares. It gives us predicted $y$ values $\\hat{y}$ and residuals for each $\\hat{y}$. Let's try it on our data."
   ]
  },
  {
   "cell_type": "code",
   "execution_count": null,
   "id": "b8893fdb",
   "metadata": {},
   "outputs": [],
   "source": [
    "import scipy.linalg as sp_la\n",
    "\n",
    "def fit(data, independent, dependent):\n",
    "    # These are our independent variable(s)\n",
    "    x = data[:, independent]\n",
    " \n",
    "    # We add a column of 1s for the intercept\n",
    "    A = x[:, np.newaxis]**[0, 1]\n",
    "    print(getSummaryStatistics(A))\n",
    " \n",
    "    # This is the dependent variable \n",
    "    y = data[:, dependent]\n",
    " \n",
    "    # This is the regression coefficients that were fit, plus some other results\n",
    "    c, res, _, _ = sp_la.lstsq(A, y)\n",
    "\n",
    "    return c, res\n",
    "\n",
    "c, res = fit(data, 1, 0)\n",
    "# this is b and m!\n",
    "print(c)\n",
    "yhat = linear_regression(data[:, 1], c[1], c[0])\n",
    "plotxyyhat(data[:, 1], data[:, 0], yhat)\n",
    "\n"
   ]
  },
  {
   "attachments": {},
   "cell_type": "markdown",
   "id": "0759c23e",
   "metadata": {},
   "source": [
    "Let's figure out MSSE for this function (model)"
   ]
  },
  {
   "cell_type": "code",
   "execution_count": null,
   "id": "30cc2bec",
   "metadata": {},
   "outputs": [],
   "source": [
    "print(msse(data[:, 0], yhat))\n"
   ]
  },
  {
   "attachments": {},
   "cell_type": "markdown",
   "id": "1c3e077a",
   "metadata": {},
   "source": [
    "Well, that certainly fits the data better than our previous guess."
   ]
  },
  {
   "attachments": {},
   "cell_type": "markdown",
   "id": "803b904a",
   "metadata": {},
   "source": [
    "## And, this is a function we can use to predict the $y$ (calculate the $\\hat{y}$) for new $x$s, so it's a *model*!\n",
    "\n",
    "For example, my car was a 2016 Hyundai, so what should its Craigslist price be?"
   ]
  },
  {
   "cell_type": "code",
   "execution_count": null,
   "id": "d9ff2ce2",
   "metadata": {},
   "outputs": [],
   "source": [
    "print(c[1]*2016+c[0])"
   ]
  },
  {
   "attachments": {},
   "cell_type": "markdown",
   "id": "55025d54",
   "metadata": {},
   "source": [
    "*What about your Hyundais??*\n",
    "\n",
    "Of course, this model is based on *historical* car prices, and what has happened over the past six months?"
   ]
  },
  {
   "attachments": {},
   "cell_type": "markdown",
   "id": "df1778c8",
   "metadata": {},
   "source": [
    "## How do we know how well our model works?\n",
    "\n",
    "In order to see how well our model works, we could just calculate the MSSE on our data. But that won't tell us how well our model *generalizes* to data it hasn't seen before. In order to do that, we need a *held-out test set*. And then we would calculate how well the regression predictions matched the true prices for the held-out data. In particular, we would calculate $$R^2 = 1 - \\frac{\\sum_{i=1}^N (y_i - \\hat{y})^2}{\\sum_{i=1}^N (y_i - \\bar{y})^2}$$\n",
    "The numerator there tells us the error of the model (vs just calculating the mean of the data) and the denominator tells us the error of the data vs the mean of the data. We use this instead of MSSE, because it tells us how well our model outperforms a really stupid model (just use the mean of the data).\n",
    "\n",
    "In fact, the numerator is the residuals! So we can rewrite this as $$R^2 = 1 - \\frac{r_i^2}{\\sum_{i=1}^N (y_i - \\bar{y})^2}$$\n",
    "\n",
    "Let's split our data into **train** and **test**. Let's make sure and sort by time first, because we don't want to let the future predict the past."
   ]
  },
  {
   "cell_type": "code",
   "execution_count": null,
   "id": "aa97f2b7",
   "metadata": {},
   "outputs": [],
   "source": [
    "data = data[data[:, 1].argsort()]\n",
    "print(getSummaryStatistics(data))\n",
    "print(getShapeType(data))\n",
    "\n",
    "(train, test) = np.split(data, [int(len(data) / 10 * 8)])\n",
    "print(train.shape, test.shape)\n"
   ]
  },
  {
   "attachments": {},
   "cell_type": "markdown",
   "id": "b253dab6",
   "metadata": {},
   "source": [
    "Then, let's use the *train* data to fit the model. "
   ]
  },
  {
   "cell_type": "code",
   "execution_count": null,
   "id": "802f5194",
   "metadata": {},
   "outputs": [],
   "source": [
    "c, res = fit(train, 0, 0)\n",
    "# this is b and m!\n",
    "print(c, res)\n",
    "\n",
    "yhat = linear_regression(train[:, 1], c[1], c[0])\n",
    "print(yhat.shape)\n",
    "plotxyyhat(train[:, 1], train[:, 0], yhat)\n"
   ]
  },
  {
   "attachments": {},
   "cell_type": "markdown",
   "id": "b53956aa",
   "metadata": {},
   "source": [
    "Then let's use the test data to evaluate our model:\n",
    "* We will take the model we fit (the prediction function we fit) to our *training data*\n",
    "* We will use it to predict values for the new data, the *test data*\n",
    "* We will measure how well the model does at predicting\n",
    "\n",
    "Just above when we fit the model, we calculated $$ A \\cdot \\vec{c} = \\vec{\\hat{y}} $$\n",
    "and we knew $A$ and $\\vec{y}$.\n",
    "\n",
    "Now we know $A$ and $\\vec{c}$ and we want to calculate $\\vec{\\hat{y}}$.\n"
   ]
  },
  {
   "cell_type": "code",
   "execution_count": null,
   "id": "1d19f36e",
   "metadata": {},
   "outputs": [],
   "source": [
    "def predict(data, independent, c):\n",
    "    # These are our independent variable(s)\n",
    "    x = data[:, independent]\n",
    "\n",
    "    # We add a column of 1s for the intercept\n",
    "    A = x[:, np.newaxis]**[0, 1]\n",
    "\n",
    "    return np.dot(A, c)\n",
    "\n",
    "yhat = predict(test, 1, c)\n",
    "plotxyyhat(test[:, 1], test[:, 0], yhat)\n"
   ]
  },
  {
   "attachments": {},
   "cell_type": "markdown",
   "id": "fec395a9",
   "metadata": {},
   "source": [
    "Compare the *fit* on the test data to the *fit* on the training data. What do you think?"
   ]
  },
  {
   "cell_type": "code",
   "execution_count": null,
   "id": "7ac4b15e",
   "metadata": {},
   "outputs": [],
   "source": [
    "# assume these are numpy arrays\n",
    "def rsquared(y, yhat):\n",
    "    if len(y) != len(yhat):\n",
    "        print(\"Need y and yhat to be the same length!\")\n",
    "        return 0\n",
    "    return 1 - (((y - yhat)**2).sum() / ((y - y.mean())**2).sum())\n",
    "\n",
    "yhat = predict(train, 1, c)\n",
    "print(rsquared(train[:, 0], yhat))\n",
    "yhat = predict(test, 1, c)\n",
    "print(rsquared(test[:, 0], yhat))"
   ]
  },
  {
   "cell_type": "markdown",
   "id": "637f74fa",
   "metadata": {},
   "source": [
    "How does $R^2$ resemble $MSSE$, and how not? What does $R^2$ look like when the dependent variable is very highly correlated with the independent variable, for example they are the same? What does it look like when they are not at all correlated?\n",
    "\n",
    "Let's come back to this notion of *correlation*. If two variables are highly *correlated* then a linear regression calculated using one of them as the independent variable and the other as the dependent variable will have *what size of* $R^2$? \n",
    "\n",
    "If two variables are highly correlated does this mean one *caused* the other? Why or why not?"
   ]
  }
 ],
 "metadata": {
  "kernelspec": {
   "display_name": "Python 3",
   "language": "python",
   "name": "python3"
  },
  "language_info": {
   "codemirror_mode": {
    "name": "ipython",
    "version": 3
   },
   "file_extension": ".py",
   "mimetype": "text/x-python",
   "name": "python",
   "nbconvert_exporter": "python",
   "pygments_lexer": "ipython3",
   "version": "3.10.4"
  },
  "vscode": {
   "interpreter": {
    "hash": "3ad933181bd8a04b432d3370b9dc3b0662ad032c4dfaa4e4f1596c548f763858"
   }
  }
 },
 "nbformat": 4,
 "nbformat_minor": 5
}
