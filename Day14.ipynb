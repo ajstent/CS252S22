{
 "cells": [
  {
   "cell_type": "code",
   "execution_count": null,
   "id": "030115d1",
   "metadata": {},
   "outputs": [],
   "source": [
    "import numpy as np\n",
    "import pandas as pd\n",
    "import matplotlib.pyplot as plt\n",
    "import seaborn\n",
    "import scipy.linalg as sp_la"
   ]
  },
  {
   "attachments": {},
   "cell_type": "markdown",
   "id": "bb3761f6",
   "metadata": {},
   "source": [
    "# Quiz\n",
    "\n",
    "# Feature Selection (From Wednesday) will be **postponed to Monday**\n",
    "\n",
    "# Polynomial regression!!"
   ]
  },
  {
   "attachments": {},
   "cell_type": "markdown",
   "id": "serial-sperm",
   "metadata": {},
   "source": [
    "## Data\n",
    "\n",
    "Today we will keep working with the set of Craigslist listings for used cars.\n",
    "\n",
    "All of this section is *exactly the same* as Wednesday.\n",
    "\n",
    "First I make my converters."
   ]
  },
  {
   "cell_type": "code",
   "execution_count": null,
   "id": "heavy-recruitment",
   "metadata": {},
   "outputs": [],
   "source": [
    "# these will be our columns\n",
    "columns = [\"price\", \"year\", \"manufacturer\", \"model\", \"condition\", \"fuel\", \"odometer\", \"title_status\", \"transmission\"]\n",
    "# this will contain our converters\n",
    "colValues = {}\n",
    "\n",
    "# first we load our data as strings so we can define the converters\n",
    "data = np.array(np.genfromtxt('data/vehicles.csv', delimiter=',', usecols=(1,2,3,4,5,7,8,9,11), skip_header=1, dtype=str, encoding='utf-8'))  \n",
    "\n",
    "# make a list of the unique values in each column of our data\n",
    "for colIndex in range(data.shape[1]):\n",
    "    colValues[colIndex] = np.unique(data[:, colIndex]).tolist()\n",
    "\n",
    "# map values to their indices in the list of unique values\n",
    "def converter(x, colIndex):\n",
    "    return colValues[colIndex].index(x)"
   ]
  },
  {
   "attachments": {},
   "cell_type": "markdown",
   "id": "1d30bdd7",
   "metadata": {},
   "source": [
    "Then I load the data."
   ]
  },
  {
   "cell_type": "code",
   "execution_count": null,
   "id": "0ff62427",
   "metadata": {},
   "outputs": [],
   "source": [
    "# This dataset is the mazda subsample from https://www.kaggle.com/austinreese/craigslist-carstrucks-data after some cleanup\n",
    "\n",
    "data = np.array(np.genfromtxt('data/vehicles.csv', delimiter=',', usecols=(1,2,3,4,5,7,8,9,11), converters={3: lambda x: converter(x, 2), 4: lambda x: converter(x, 3), 5: lambda x: converter(x, 4), 7: lambda x: converter(x,5), 9: lambda x: converter(x, 7), 11: lambda x: converter(x, 8)}, skip_header=1, dtype=int, encoding='utf-8'))  "
   ]
  },
  {
   "attachments": {},
   "cell_type": "markdown",
   "id": "e340cf52",
   "metadata": {},
   "source": [
    "Let's get some summary statistics and do a **pairplot** so we can see what's going on."
   ]
  },
  {
   "cell_type": "code",
   "execution_count": null,
   "id": "85ef8f18",
   "metadata": {},
   "outputs": [],
   "source": [
    "def getSummaryStatistics(data):\n",
    "    print(\"min, max, mean, std per variable\")\n",
    "    return pd.DataFrame([data.min(axis=0), data.max(axis=0), data.mean(axis=0), data.std(axis=0)])\n",
    "\n",
    "def getShapeType(data):\n",
    "    print(\"shape\")\n",
    "    return (data.shape, data.dtype)\n",
    "\n",
    "print(getSummaryStatistics(data))\n",
    "print(getShapeType(data))"
   ]
  },
  {
   "cell_type": "code",
   "execution_count": null,
   "id": "2106e16f",
   "metadata": {},
   "outputs": [],
   "source": [
    "df = pd.DataFrame(data, columns=columns)\n",
    "seaborn.pairplot(df, y_vars = columns[0], x_vars = columns[1:])\n",
    "\n",
    "plt.show()"
   ]
  },
  {
   "attachments": {},
   "cell_type": "markdown",
   "id": "mediterranean-gregory",
   "metadata": {},
   "source": [
    "# Let's review regression\n",
    "\n",
    "Regression allows us to:\n",
    "* determine the *nature* of a relationship between one (or more!) independent variables and a dependent variable\n",
    "* determine the *strength* of the relationship\n",
    "\n",
    "Regression *fits* a function to a dataset."
   ]
  },
  {
   "attachments": {},
   "cell_type": "markdown",
   "id": "4691fcb8",
   "metadata": {},
   "source": [
    "## Polynomial regression \n",
    "\n",
    "I want to predict price as a function of the *square* of age. \n",
    "\n",
    "It turns out I can do this using **polynomial regression**. The function I will want to fit will be: $\\hat{y} = c_0 + c_1*x + c_2*x^2$, and I do this by minimizing the sum of the squares of the residuals $r_i = y_i - \\hat{y_i}$.\n",
    "\n",
    "In terms of matrix math, for $N$\n",
    " data points, $A$\n",
    " will just be a matrix of shape ($N, d+1$), where $d$ is the degree of the polynomial and $\\vec{c}$ \n",
    " will have shape ($d+1, 1$)\n",
    " (including $c_0$, the intercept) and $\\vec{y}$ will have shape ($N, 1$) (as before). \n",
    "\n",
    " This is still *linear regression*, because we are still solving a linear regression\n",
    " \n",
    " **However**, before I calculate the least squares solution, I first have to convert the age variable. For example, let's say I want the square of age: I have to find the square of each year in the year column.\n",
    "\n",
    "Let's do it! "
   ]
  },
  {
   "attachments": {},
   "cell_type": "markdown",
   "id": "ea2b232c",
   "metadata": {},
   "source": [
    "### First, split our data\n",
    "\n",
    "Let's split our data into **train** and **test**. Let's make sure and sort by time first, because we don't want to let the future predict the past."
   ]
  },
  {
   "cell_type": "code",
   "execution_count": null,
   "id": "5c03cf48",
   "metadata": {},
   "outputs": [],
   "source": [
    "data = data[data[:, 1].argsort()]\n",
    "print(getSummaryStatistics(data))\n",
    "print(getShapeType(data))\n",
    "\n",
    "(train, test) = np.split(data, [int(len(data) / 10 * 8)])\n",
    "print(train.shape, test.shape)"
   ]
  },
  {
   "attachments": {},
   "cell_type": "markdown",
   "id": "abd5ea91",
   "metadata": {},
   "source": [
    "### Second, compute the polynomial degree of each independent variable.\n",
    "\n",
    "For example, let's calculate the square of age."
   ]
  },
  {
   "cell_type": "code",
   "execution_count": 1,
   "id": "fd3d9133",
   "metadata": {},
   "outputs": [],
   "source": [
    "def makePoly(x, poly):\n",
    "    # make an empty array of size A\n",
    "    A = np.zeros([x.shape[0], poly+1])\n",
    "    for i in range(0, poly+1):\n",
    "        # np.squeeze is a fun function :)\n",
    "        # notice this is also a third way to get that leading column of ones!\n",
    "        A[:, i] = np.squeeze(x**i)\n",
    "    return A"
   ]
  },
  {
   "attachments": {},
   "cell_type": "markdown",
   "id": "8bdab9f2",
   "metadata": {},
   "source": [
    "### Third, define updated fit and predict functions that incorporate makePoly"
   ]
  },
  {
   "cell_type": "code",
   "execution_count": 2,
   "id": "49ab75ab",
   "metadata": {},
   "outputs": [],
   "source": [
    "def fit(data, independent, dependent, poly):\n",
    "    # This is our independent variable, just one for now\n",
    "    x = data[np.ix_(np.arange(data.shape[0]), independent)]\n",
    "\n",
    "    # We add the polynomials, and a column of 1s for the intercept\n",
    "    A = makePoly(x, poly)\n",
    "\n",
    "    # This is the dependent variable \n",
    "    y = data[:, dependent]\n",
    "\n",
    "    # This is the regression coefficients that were fit, plus some other results\n",
    "    # We use _ when we don't want to remember something a function returns\n",
    "    c, _, _, _ = sp_la.lstsq(A, y)\n",
    "    return c\n",
    "\n",
    "def predict(data, independent, poly, c):\n",
    "    # These are our independent variable(s)\n",
    "    x = data[np.ix_(np.arange(data.shape[0]), independent)]\n",
    "\n",
    "    # We add the polynomials, and a column of 1s for the intercept\n",
    "    A = makePoly(x, poly)\n",
    "\n",
    "    return np.dot(A, c)"
   ]
  },
  {
   "attachments": {},
   "cell_type": "markdown",
   "id": "b1ea40b6",
   "metadata": {},
   "source": [
    "### Fourth, evaluate using $R^2$"
   ]
  },
  {
   "cell_type": "code",
   "execution_count": null,
   "id": "4e3a1e64",
   "metadata": {},
   "outputs": [],
   "source": [
    "def rsquared(y, yhat):\n",
    "    if len(y) != len(yhat):\n",
    "        print(\"Need y and yhat to be the same length!\")\n",
    "        return 0\n",
    "    return 1 - (((y - yhat)**2).sum() / ((y - y.mean())**2).sum())"
   ]
  },
  {
   "cell_type": "code",
   "execution_count": null,
   "id": "8aa0dba1",
   "metadata": {},
   "outputs": [],
   "source": [
    "c = fit(train, [1], 0, 2)\n",
    "yhat = predict(test, [1], 2, c)\n",
    "rsquared(test[:, 0], yhat)"
   ]
  },
  {
   "attachments": {},
   "cell_type": "markdown",
   "id": "6e1cdb82",
   "metadata": {},
   "source": [
    "Notice this is no longer a line we are plotting!"
   ]
  },
  {
   "cell_type": "code",
   "execution_count": null,
   "id": "1f12c95c",
   "metadata": {},
   "outputs": [],
   "source": [
    "def plotxyyhat(x, y, c):\n",
    "    plt.clf()\n",
    "    plt.plot(x, y, 'o', label='data')\n",
    "    xCurve = np.linspace(np.min(x), np.max(x))\n",
    "    yCurve = c[0]\n",
    "    for i in range(1, len(c)):\n",
    "        yCurve += c[i]*(xCurve**i)\n",
    "    plt.plot(xCurve, yCurve, label='least squares fit, y polynomial')\n",
    "    plt.xlabel('x')\n",
    "    plt.ylabel('y')\n",
    "    plt.legend(framealpha=1, shadow=True)\n",
    "    plt.grid(alpha=0.25)\n",
    "    plt.show()"
   ]
  },
  {
   "cell_type": "code",
   "execution_count": null,
   "id": "d4f5db81",
   "metadata": {},
   "outputs": [],
   "source": [
    "plotxyyhat(train[:, 1], train[:, 0], c)\n",
    "plotxyyhat(test[:, 1], test[:, 0], c)"
   ]
  },
  {
   "attachments": {},
   "cell_type": "markdown",
   "id": "sized-fairy",
   "metadata": {},
   "source": [
    "## Now let's try a cubic model\n",
    "\n",
    "$$y = c_0 + c_1x_1 + c_2x_1^2 + c_3x_1^3$$\n",
    "\n",
    "What will the shape of $A$ be? What about $\\vec{c}$?\n",
    "\n",
    "Do you think it will perform better or worse than a linear or quadratic model?"
   ]
  },
  {
   "cell_type": "code",
   "execution_count": null,
   "id": "7640311e",
   "metadata": {},
   "outputs": [],
   "source": []
  },
  {
   "attachments": {},
   "cell_type": "markdown",
   "id": "1e1b2819",
   "metadata": {},
   "source": [
    "## Challenge\n",
    "\n",
    "How would you fit a polynomial regression where you wanted the square of age and the square root of odometer?"
   ]
  },
  {
   "cell_type": "code",
   "execution_count": null,
   "id": "4a98ba0a",
   "metadata": {},
   "outputs": [],
   "source": []
  },
  {
   "cell_type": "markdown",
   "metadata": {},
   "source": []
  }
 ],
 "metadata": {
  "kernelspec": {
   "display_name": "Python 3",
   "language": "python",
   "name": "python3"
  },
  "language_info": {
   "codemirror_mode": {
    "name": "ipython",
    "version": 3
   },
   "file_extension": ".py",
   "mimetype": "text/x-python",
   "name": "python",
   "nbconvert_exporter": "python",
   "pygments_lexer": "ipython3",
   "version": "3.10.4"
  },
  "vscode": {
   "interpreter": {
    "hash": "3ad933181bd8a04b432d3370b9dc3b0662ad032c4dfaa4e4f1596c548f763858"
   }
  }
 },
 "nbformat": 4,
 "nbformat_minor": 5
}
