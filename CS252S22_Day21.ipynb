{
 "cells": [
  {
   "cell_type": "code",
   "execution_count": null,
   "id": "2ef44267",
   "metadata": {},
   "outputs": [],
   "source": [
    "import numpy as np\n",
    "import matplotlib.pyplot as plt\n",
    "import seaborn as sns\n",
    "import pandas as pd\n",
    "\n",
    "import utilityfunctions as uf"
   ]
  },
  {
   "cell_type": "markdown",
   "id": "be56e471",
   "metadata": {},
   "source": [
    "# PCA Review; PCA and Regression\n",
    "\n",
    "Acknowledgments:\n",
    "* https://charlesreid1.github.io/circe/Digit%20Classification%20-%20PCA.html\n",
    "\n",
    "Data:\n",
    "* https://archive.ics.uci.edu/ml/datasets/optical+recognition+of+handwritten+digits"
   ]
  },
  {
   "cell_type": "markdown",
   "id": "15538762",
   "metadata": {},
   "source": [
    "__Take a look at the data__.\n",
    "\n",
    "*The independent variables*: each data point (observation) is an 8 pixel by 8 pixel grayscale image. We flatten this so each data point is represented by a 64 floating point one dimensional array. \n",
    "\n",
    "*The dependent variable*: the label is the number in the image, 0 ... 9.\n",
    "\n",
    "*Reason for using PCA*: if we can project from 64 dimensions down to some number less than 10, we can fit a regression (or other!) model more efficiently."
   ]
  },
  {
   "cell_type": "markdown",
   "id": "2ddc205d",
   "metadata": {},
   "source": [
    "### Load and separate and examine the training data"
   ]
  },
  {
   "cell_type": "code",
   "execution_count": null,
   "id": "fd9b7bfc",
   "metadata": {},
   "outputs": [],
   "source": [
    "# Let's load the training data\n",
    "columns=['danceability','energy','key','loudness','mode','speechiness','acousticness','instrumentalness','liveness','valence','tempo','duration_ms','time_signature','chorus_hit','sections','popularity']\n",
    "data = np.array(np.genfromtxt('data/spotify_dataset.csv', delimiter=',', skip_header=1, usecols=(2,3,4,5,6,7,8,9,10,11,12,13,14,15,16,17), dtype=float, encoding='utf-8'))  \n",
    "\n",
    "print(uf.getShapeType(data))\n",
    "train, test = np.split(data, [int(.8 * len(data))])\n",
    "print(uf.getShapeType(train))\n",
    "print(uf.getShapeType(test))\n"
   ]
  },
  {
   "cell_type": "code",
   "execution_count": null,
   "id": "b83dbbc9",
   "metadata": {},
   "outputs": [],
   "source": [
    "# Let's split off the labels\n",
    "def split(data, ycol):\n",
    "    y = data[:, ycol]\n",
    "    xfirst = data[:, 0:ycol]\n",
    "    xsecond = data[:, ycol+1:data.shape[1]]\n",
    "    return (np.hstack((xfirst, xsecond)), y)"
   ]
  },
  {
   "cell_type": "code",
   "execution_count": null,
   "id": "7b689bd7",
   "metadata": {},
   "outputs": [],
   "source": [
    "(x, y) = split(train, 0)\n",
    "print(uf.getShapeType(y))\n",
    "print(uf.getShapeType(x))"
   ]
  },
  {
   "cell_type": "markdown",
   "id": "e6548f32",
   "metadata": {},
   "source": [
    "### Normalize and center the data"
   ]
  },
  {
   "cell_type": "code",
   "execution_count": null,
   "id": "00715672",
   "metadata": {},
   "outputs": [],
   "source": [
    "# normalize and center\n",
    "def center(data):\n",
    "    centered = data - data.mean(axis=0)\n",
    "    return centered\n",
    "\n",
    "def preprocess(data, minmax=False, local=False, zscore=False):\n",
    "    if minmax == True and zscore == True:\n",
    "        print(\"Nope, won't do that!\")\n",
    "        return data\n",
    "    elif minmax == True:\n",
    "        if local == False:\n",
    "            data = uf.minmaxGlobal(data)\n",
    "        else:\n",
    "            data = uf.minmaxLocal(data)\n",
    "        return center(data)\n",
    "    elif zscore == True:\n",
    "        return uf.zScore(data)   "
   ]
  },
  {
   "cell_type": "code",
   "execution_count": null,
   "id": "c716f759",
   "metadata": {},
   "outputs": [],
   "source": [
    "centered = preprocess(x, zscore=True)\n",
    "print(uf.getShapeType(centered))\n",
    "print(uf.getSummaryStatistics(centered))"
   ]
  },
  {
   "cell_type": "markdown",
   "id": "e960e435",
   "metadata": {},
   "source": [
    "### Fit the PCA"
   ]
  },
  {
   "cell_type": "code",
   "execution_count": null,
   "id": "532e1d7e",
   "metadata": {},
   "outputs": [],
   "source": [
    "# From day 19\n",
    "\n",
    "# This is most of the code from Day 19 in one function; it fits a PCA and prints out all kinds of things along the way\n",
    "def pca_with_plots(data, columns):\n",
    "    # covariance\n",
    "    covariance_matrix = (data.T @ data) / (data.shape[0] - 1)\n",
    "    print(\"covariance matrix\")\n",
    "    print(covariance_matrix.shape)\n",
    "\n",
    "    # Let's look at the covariance matrix\n",
    "    fig = plt.figure(figsize=(12,12))\n",
    "    sns.heatmap(pd.DataFrame(covariance_matrix), xticklabels=columns, yticklabels=columns, annot=False, cmap='PuOr')\n",
    "    plt.show()\n",
    "\n",
    "    # svd\n",
    "    (evals, evectors) = np.linalg.eig(covariance_matrix)\n",
    "\n",
    "    # sort\n",
    "    evals_order = np.argsort(evals)[::-1]\n",
    "    evals_sorted = evals[evals_order]\n",
    "    evectors_sorted = evectors[:, evals_order]\n",
    "\n",
    "    # proportional variance\n",
    "    evals_sum = np.sum(evals_sorted)\n",
    "    proportional_vars = [e / evals_sum for e in evals_sorted]\n",
    "\n",
    "    # cumulative sum of proportional variance\n",
    "    cumulative_sum = np.cumsum(proportional_vars)\n",
    "\n",
    "    # Let's look at the proportional variance\n",
    "    plt.figure(figsize=(6, 4))\n",
    "    plt.bar(range(len(proportional_vars)), proportional_vars, alpha=0.5, align='center',\n",
    "            label='Proportional variance')\n",
    "    plt.ylabel('Proportional variance ratio')\n",
    "    plt.xlabel('Ranked Principal Components')\n",
    "    plt.title(\"Scree Graph\")\n",
    "    plt.legend(loc='best')\n",
    "    plt.tight_layout()\n",
    "\n",
    "    fig = plt.figure(figsize=(6,4))\n",
    "    ax1 = fig.add_subplot(111)\n",
    "    ax1.plot(cumulative_sum)\n",
    "    ax1.set_ylim([0,1.0])\n",
    "    ax1.set_xlabel('Number of Principal Components')\n",
    "    ax1.set_ylabel('Cumulative explained variance')\n",
    "    ax1.set_title('Elbow Plot')\n",
    "    plt.show()\n",
    "    \n",
    "    return evals_sorted, evectors_sorted"
   ]
  },
  {
   "cell_type": "code",
   "execution_count": null,
   "id": "5072805b",
   "metadata": {},
   "outputs": [],
   "source": [
    "eigenvals, eigenvecs = pca_with_plots(centered, columns)"
   ]
  },
  {
   "cell_type": "markdown",
   "id": "18768882",
   "metadata": {},
   "source": [
    "### Projecting the data"
   ]
  },
  {
   "cell_type": "code",
   "execution_count": null,
   "id": "806fcc61",
   "metadata": {},
   "outputs": [],
   "source": [
    "# Let's project the data into this PCA space\n",
    "def project(data, eigenvectors, numberOfComponents):\n",
    "    v = eigenvectors[:, :numberOfComponents]\n",
    "    projected = data@v\n",
    "    return projected"
   ]
  },
  {
   "cell_type": "code",
   "execution_count": null,
   "id": "60e07dde",
   "metadata": {},
   "outputs": [],
   "source": [
    "# Looking at this elbow plot, how many principal components do you think we want to keep?\n",
    "keep = 15\n",
    "projected = project(centered, eigenvecs, keep)\n",
    "print(uf.getShapeType(projected))"
   ]
  },
  {
   "cell_type": "markdown",
   "id": "a6e30851",
   "metadata": {},
   "source": [
    "### What can we do with data in PCA space? \n",
    "\n",
    "* Look at it!\n",
    "* Fit models!\n",
    "\n",
    "It's kind of weird to use linear regression for this dataset. Linear regression is meant for data where the labels are quantitative ordinal. How do we know this?\n",
    "\n",
    "Although the integers 0..9 are ordered, here they are just labels. But we don't (yet!) know any other type of model to fit. What to do? \n",
    "\n",
    "Let's make up some y's - let's set y to the sum of the values in each row. \n",
    "\n",
    "But, you say, that's just a regular linear function. \n",
    "\n",
    "*Indeed, say I*. But if I gave you that data and didn't tell you anything, you'd have to fit a model to find that out."
   ]
  },
  {
   "cell_type": "code",
   "execution_count": null,
   "id": "3a92e3a0",
   "metadata": {},
   "outputs": [],
   "source": [
    "def makeRegressionY(data):\n",
    "    y = np.array([np.sum(data[i]) for i in range(data.shape[0])])\n",
    "    return y\n",
    "yp = makeRegressionY(x)\n",
    "print(yp.shape)"
   ]
  },
  {
   "cell_type": "code",
   "execution_count": null,
   "id": "0a3408d1",
   "metadata": {},
   "outputs": [],
   "source": [
    "# Remember y? Let's fit a linear regression model to the projected data\n",
    "\n",
    "def fit(projected, independent, y):\n",
    "    projectedandy = np.hstack((projected, np.array([y]).T))\n",
    "    print(uf.getShapeType(projectedandy))\n",
    "    c = uf.fitlstsq(projectedandy, independent, projectedandy.shape[1]-1)\n",
    "    return c"
   ]
  },
  {
   "cell_type": "code",
   "execution_count": null,
   "id": "e10d1b54",
   "metadata": {},
   "outputs": [],
   "source": [
    "%%time\n",
    "c = fit(projected, list(range(keep)), yp)\n",
    "print(c)"
   ]
  },
  {
   "cell_type": "code",
   "execution_count": null,
   "id": "5d3ea5c0",
   "metadata": {},
   "outputs": [],
   "source": [
    "# Remember, we have test data too!"
   ]
  },
  {
   "cell_type": "code",
   "execution_count": null,
   "id": "087d8568",
   "metadata": {},
   "outputs": [],
   "source": [
    "# Let's load the test data\n",
    "(xt, yt) = split(test, 0)\n",
    "\n",
    "# Make sure we preprocess the same way!\n",
    "centeredt = preprocess(xt, zscore=True)\n",
    "print(uf.getShapeType(centeredt))\n",
    "\n",
    "# Why are we not calculating the PCA again?\n",
    "projectedt = project(centeredt, eigenvecs, keep)\n",
    "print(uf.getShapeType(projectedt))"
   ]
  },
  {
   "cell_type": "code",
   "execution_count": null,
   "id": "1b6275f6",
   "metadata": {},
   "outputs": [],
   "source": [
    "%%time\n",
    "yhat = uf.predict(projectedt, list(range(keep)), c)"
   ]
  },
  {
   "cell_type": "code",
   "execution_count": null,
   "id": "0c7758d5",
   "metadata": {},
   "outputs": [],
   "source": [
    "ypt = makeRegressionY(xt)\n",
    "print(uf.rsquared(ypt, yhat))"
   ]
  },
  {
   "cell_type": "markdown",
   "id": "d96ef9a0",
   "metadata": {},
   "source": [
    "### Comparing PCA to not PCA"
   ]
  },
  {
   "cell_type": "code",
   "execution_count": null,
   "id": "47960209",
   "metadata": {},
   "outputs": [],
   "source": [
    "# Let's compare with a regression fit on the original data\n",
    "# We will, but don't have to, normalize and center first\n",
    "centered = preprocess(x, zscore=True)\n",
    "print(uf.getShapeType(centered))"
   ]
  },
  {
   "cell_type": "code",
   "execution_count": null,
   "id": "26e244a5",
   "metadata": {},
   "outputs": [],
   "source": [
    "%%time\n",
    "c1 = fit(centered, [x for x in range(centered.shape[1]-1)], yp)"
   ]
  },
  {
   "cell_type": "code",
   "execution_count": null,
   "id": "950b3edf",
   "metadata": {},
   "outputs": [],
   "source": [
    "centeredt = preprocess(xt, zscore=True)\n",
    "print(uf.getShapeType(centeredt))"
   ]
  },
  {
   "cell_type": "code",
   "execution_count": null,
   "id": "d983febd",
   "metadata": {},
   "outputs": [],
   "source": [
    "%%time\n",
    "yhat1 = uf.predict(centeredt, [x for x in range(centeredt.shape[1]-1)], c1)"
   ]
  },
  {
   "cell_type": "code",
   "execution_count": null,
   "id": "b3b4c585",
   "metadata": {},
   "outputs": [],
   "source": [
    "print(uf.rsquared(ypt, yhat1))"
   ]
  },
  {
   "cell_type": "markdown",
   "id": "f6b7ab61",
   "metadata": {},
   "source": [
    "## Reconstructing the original matrix"
   ]
  },
  {
   "cell_type": "code",
   "execution_count": null,
   "id": "78f82fa0",
   "metadata": {},
   "outputs": [],
   "source": [
    "# from day 18\n",
    "def projectBack(data, eigenvectors, numberOfComponents):\n",
    "    v = eigenvectors[:, :numberOfComponents]\n",
    "    projected = data@v.T\n",
    "    return projected"
   ]
  },
  {
   "cell_type": "code",
   "execution_count": null,
   "id": "1ec8d5fe",
   "metadata": {},
   "outputs": [],
   "source": [
    "reconstructed = projectBack(projected, eigenvecs, keep)\n",
    "\n",
    "print(uf.getShapeType(reconstructed))\n",
    "print(uf.getSummaryStatistics(reconstructed))"
   ]
  },
  {
   "cell_type": "markdown",
   "id": "931a83af",
   "metadata": {},
   "source": [
    "## Resources\n",
    "\n",
    "* https://www.displayr.com/8-tips-for-interpreting-r-squared/"
   ]
  }
 ],
 "metadata": {
  "kernelspec": {
   "display_name": "Python 3 (ipykernel)",
   "language": "python",
   "name": "python3"
  },
  "language_info": {
   "codemirror_mode": {
    "name": "ipython",
    "version": 3
   },
   "file_extension": ".py",
   "mimetype": "text/x-python",
   "name": "python",
   "nbconvert_exporter": "python",
   "pygments_lexer": "ipython3",
   "version": "3.9.7"
  }
 },
 "nbformat": 4,
 "nbformat_minor": 5
}
