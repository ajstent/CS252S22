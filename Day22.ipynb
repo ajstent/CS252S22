{
 "cells": [
  {
   "attachments": {},
   "cell_type": "markdown",
   "id": "d6a81569",
   "metadata": {},
   "source": [
    "# The One Goal For Today\n",
    "\n",
    "To understand how we can use k-means clustering for image segmentation and image compression."
   ]
  },
  {
   "cell_type": "code",
   "execution_count": null,
   "id": "3cd16ad1",
   "metadata": {},
   "outputs": [],
   "source": [
    "import numpy as np\n",
    "import matplotlib.pyplot as plt"
   ]
  },
  {
   "attachments": {},
   "cell_type": "markdown",
   "id": "722a15e6",
   "metadata": {},
   "source": [
    "# K-means review\n",
    "\n",
    "First, select values for your hyperparameters: k and distance function.\n",
    "\n",
    "1. Pick initial centroids (as random data points).\n",
    "2. For step in range(max_steps):\n",
    "   1. Assign each point to its closest centroid.\n",
    "   2. Pick new centroids using the members in each cluster. If the centroids don't change, then return.\n",
    "\n",
    "This code below comes from day 21. I made one small change to update_centroids to graciously handle the case where no data ended up in a cluster during a round of clustering."
   ]
  },
  {
   "cell_type": "code",
   "execution_count": null,
   "id": "672205da",
   "metadata": {},
   "outputs": [],
   "source": [
    "# Euclidean distance\n",
    "def distance(a, b):\n",
    "    subtracted = a-b\n",
    "    return np.sqrt(np.dot(subtracted.T, subtracted))\n",
    "\n",
    "# Calculate the distance from each data point to each centroid\n",
    "def get_distances(item, centroids):\n",
    "    return [distance(item, centroid) for centroid in centroids]\n",
    "\n",
    "# Update cluster assignments given a set of centroids\n",
    "# input: list of data points, initial list of centroids\n",
    "def update_clusters(data, centroids):\n",
    "    # initialize clusters\n",
    "    clusters = {}\n",
    "    for i in range(len(centroids)):\n",
    "        # set its cluster members to the empty list\n",
    "        clusters[i] = []\n",
    "    # initialize mappings\n",
    "    mappings = {}\n",
    "    # for each data point\n",
    "    for j, datum in enumerate(data):\n",
    "        # find the index of the centroid with the smallest distance to this data point\n",
    "        min_cluster_index = np.argmin(get_distances(datum, centroids))\n",
    "        # add this data point to that centroid's cluster\n",
    "        clusters[min_cluster_index].append(datum)\n",
    "        # add mapping\n",
    "        mappings[j] = min_cluster_index\n",
    "    return clusters, mappings\n",
    "\n",
    "# Update the centroids given the data\n",
    "def update_centroids(clusters, oldcentroids):\n",
    "    # set centroids to empty list\n",
    "    centroids = []\n",
    "    # for each set of data points in a cluster around a single centroid\n",
    "    for centroidid, data_in_cluster in clusters.items():\n",
    "        # graciously handle case where no data ended up in a cluster\n",
    "        if len(data_in_cluster) > 0:\n",
    "            # new centroid is the mean of that cluster\n",
    "            centroids.append(np.mean(data_in_cluster, axis=0))\n",
    "        else:\n",
    "            centroids.append(oldcentroids[centroidid])\n",
    "    return centroids\n",
    "\n",
    "# Measure the inertia\n",
    "def inertia(data, centroids, clusters):\n",
    "    sum = 0\n",
    "    for i in clusters.keys():\n",
    "        for datum in clusters[i]:\n",
    "            # calculate the distance squared between each data point and its centroid\n",
    "            sum += distance(datum, centroids[i])**2\n",
    "    # average over the data\n",
    "    return sum / len(data)"
   ]
  },
  {
   "attachments": {},
   "cell_type": "markdown",
   "id": "05d7c824",
   "metadata": {},
   "source": [
    "This function implements k-means clustering. \n",
    "\n",
    "*Can you find the bug?*"
   ]
  },
  {
   "cell_type": "code",
   "execution_count": null,
   "id": "d9263fea",
   "metadata": {},
   "outputs": [],
   "source": [
    "def kmeans(data, k, cutoff=1):\n",
    "    # make some initial centroids\n",
    "    centroids = np.array([data[x] for x in np.random.choice(np.arange(len(data)), size=k, replace=False)])\n",
    "    # initialize last_inertia\n",
    "    last_inertia = -1\n",
    "    while True:\n",
    "        # get the clusters for these centroids\n",
    "        clusters, mappings = update_clusters(data, centroids)\n",
    "        # calculate the inertia for this clustering\n",
    "        this_inertia = inertia(data, centroids, clusters)\n",
    "        # stop when the inertia stops changing very much\n",
    "        if last_inertia > 0 and abs(last_inertia - this_inertia) < cutoff:\n",
    "            break\n",
    "        last_inertia = this_inertia\n",
    "        # update the centroids\n",
    "        centroids = update_centroids(clusters, centroids)\n",
    "    return centroids, clusters, mappings, this_inertia"
   ]
  },
  {
   "attachments": {},
   "cell_type": "markdown",
   "id": "2e4c4158",
   "metadata": {},
   "source": [
    "# K-means for image segmentation and compression\n",
    "\n",
    "An image is a matrix of pixels. Each pixel can be represented as an array of RGB (red, green, blue) values. So an image is shape $x*y*3$ where 3 is for RGB.\n",
    "\n",
    "In most pictures, the RGB values in one pixel are likely to be similar to those in the pixels around it. For example, the below picture (from https://vancouver.citynews.ca/2016/11/22/dangers-parking-lot-crashes-ahead-holiday-rush/) has a lot of grey pixels.\n",
    "\n",
    "If we can identify the common colors (the common RGB values) in a picture, then we can replace the RGB values for each pixel by just centroid RGB values. This in turn allows us to:\n",
    "* compress the image - we can use the centroid IDs as the pixel's values, and just store the centroid RGB values in a dictionary\n",
    "* segment the image into regions by color\n",
    "\n",
    "To do this, we are going to treat the image itself as a dataset. Each row will correspond to a pixel, and the columns will be the RGB values."
   ]
  },
  {
   "attachments": {},
   "cell_type": "markdown",
   "id": "39f0a7fc",
   "metadata": {},
   "source": [
    "## Load a picture"
   ]
  },
  {
   "cell_type": "code",
   "execution_count": null,
   "id": "4160ba34",
   "metadata": {},
   "outputs": [],
   "source": [
    "from matplotlib.image import imread\n",
    "\n",
    "# draw an image using matplotlib with no axes displayed\n",
    "def display(image):\n",
    "    fig, ax = plt.subplots()\n",
    "    ax.axis('off')\n",
    "    im = ax.imshow(image)\n",
    "\n",
    "image = imread('data/parking.jpg')\n",
    "print(image.shape)\n",
    "display(image)"
   ]
  },
  {
   "attachments": {},
   "cell_type": "markdown",
   "id": "d48df149",
   "metadata": {},
   "source": [
    "## Reshape the picture so that it's one long array of pixels"
   ]
  },
  {
   "cell_type": "code",
   "execution_count": null,
   "id": "b71ea05a",
   "metadata": {},
   "outputs": [],
   "source": [
    "# Reshape the picture so that it's three long arrays, one for each of R/G/B\n",
    "data = image.reshape(image.shape[0]*image.shape[1], image.shape[2])\n",
    "print(data.shape)"
   ]
  },
  {
   "attachments": {},
   "cell_type": "markdown",
   "id": "9e52341d",
   "metadata": {},
   "source": [
    "## Find a good value for k\n",
    "\n",
    "In the absence of a clear intuition, let's try a bunch of possibilities and make an **elbow plot**. "
   ]
  },
  {
   "cell_type": "code",
   "execution_count": null,
   "id": "8b1e0452",
   "metadata": {},
   "outputs": [],
   "source": [
    "%%time\n",
    "\n",
    "# We do k-means clustering for k from 2 to 14 to see what is a good value for k\n",
    "# Watch how it takes longer and longer (both to converge, and to do one round) as k increases\n",
    "inertia_by_k = []\n",
    "\n",
    "for k in range(2, 15, 2):\n",
    "    print(k)\n",
    "    _, _, _, last_inertia = kmeans(data, k)\n",
    "    inertia_by_k.append([k, last_inertia])"
   ]
  },
  {
   "cell_type": "code",
   "execution_count": null,
   "id": "79e8d646",
   "metadata": {},
   "outputs": [],
   "source": [
    "# we make an elbow plot\n",
    "inertia_by_k = np.array(inertia_by_k)\n",
    "fig = plt.figure(figsize=(6,4))\n",
    "ax1 = fig.add_subplot(111)\n",
    "ax1.plot(inertia_by_k[:, 0], inertia_by_k[:, 1])\n",
    "ax1.set_xlabel('k')\n",
    "ax1.set_ylabel('Inertia')\n",
    "ax1.set_title('Elbow Plot')\n",
    "plt.show()"
   ]
  },
  {
   "attachments": {},
   "cell_type": "markdown",
   "id": "78784e8c",
   "metadata": {},
   "source": [
    "*What value of $k$ would you choose?*"
   ]
  },
  {
   "attachments": {},
   "cell_type": "markdown",
   "id": "28e9777d",
   "metadata": {},
   "source": [
    "## Re-render the image\n",
    "\n",
    "Let's replace each pixel in the picture with its corresponding centroid, and then display it!\n",
    "\n",
    "First we define a *rebuild* function."
   ]
  },
  {
   "cell_type": "code",
   "execution_count": null,
   "id": "22aa36ec",
   "metadata": {},
   "outputs": [],
   "source": [
    "# replace each pixel with its corresponding centroid or centroid id\n",
    "def rebuild(centroids, mappings, idsorvalues='values'):\n",
    "    res = np.array([mappings[x] for x in sorted(mappings.keys())])\n",
    "    if idsorvalues == 'values':\n",
    "        res = np.array([centroids[x] for x in res])\n",
    "    res = res.round().astype(np.uint8)\n",
    "    return res"
   ]
  },
  {
   "attachments": {},
   "cell_type": "markdown",
   "id": "64861d65",
   "metadata": {},
   "source": [
    "Then we actually rebuild."
   ]
  },
  {
   "cell_type": "code",
   "execution_count": null,
   "id": "452baee0",
   "metadata": {},
   "outputs": [],
   "source": [
    "# pick k\n",
    "k = 8\n",
    "# cluster with this k\n",
    "centroids, clusters, mappings, last_inertia = kmeans(data, k)"
   ]
  },
  {
   "cell_type": "code",
   "execution_count": null,
   "id": "9849cd11",
   "metadata": {},
   "outputs": [],
   "source": [
    "# rebuild the image using the centroid values\n",
    "output = rebuild(centroids, mappings)\n",
    "# reshape\n",
    "output = output.reshape(image.shape[0], image.shape[1], image.shape[2])\n",
    "# check the output image is a good shape\n",
    "print(output.shape)\n",
    "# ensure all pixel values are ints!\n",
    "output = output.round().astype(int)\n",
    "# render the image\n",
    "display(output)"
   ]
  },
  {
   "attachments": {},
   "cell_type": "markdown",
   "id": "bceac537",
   "metadata": {},
   "source": [
    "*If you replace each pixel in the above image with an integer (the index of the corresponding centroid), and keep the centroid dictionary, how much smaller is the picture size than the original?*"
   ]
  },
  {
   "cell_type": "code",
   "execution_count": null,
   "id": "6c8b64ea",
   "metadata": {},
   "outputs": [],
   "source": [
    "import sys\n",
    "\n",
    "compressed = rebuild(centroids, mappings, idsorvalues='ids')\n",
    "print(\"Output size: \", sys.getsizeof(output), \" bytes\")\n",
    "print(\"Compressed size: \", sys.getsizeof(compressed), \" bytes\")\n",
    "print(\"Centroid dictionary size: \", sys.getsizeof(centroids), \" bytes\")"
   ]
  },
  {
   "attachments": {},
   "cell_type": "markdown",
   "id": "d331ffa7",
   "metadata": {},
   "source": [
    "*If we visualize the compressed image, what segmentation do we see?*"
   ]
  },
  {
   "cell_type": "code",
   "execution_count": null,
   "id": "6e3fcfe0",
   "metadata": {},
   "outputs": [],
   "source": [
    "compressed = compressed.reshape(image.shape[0], image.shape[1])\n",
    "display(compressed)"
   ]
  }
 ],
 "metadata": {
  "kernelspec": {
   "display_name": "Python 3 (ipykernel)",
   "language": "python",
   "name": "python3"
  },
  "language_info": {
   "codemirror_mode": {
    "name": "ipython",
    "version": 3
   },
   "file_extension": ".py",
   "mimetype": "text/x-python",
   "name": "python",
   "nbconvert_exporter": "python",
   "pygments_lexer": "ipython3",
   "version": "3.10.4"
  }
 },
 "nbformat": 4,
 "nbformat_minor": 5
}
