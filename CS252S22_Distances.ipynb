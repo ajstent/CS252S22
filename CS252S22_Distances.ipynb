{
 "cells": [
  {
   "cell_type": "markdown",
   "id": "8827a98d",
   "metadata": {},
   "source": [
    "# Distances\n",
    "\n",
    "We've talked quite a bit so far about distances\n",
    "* Distances to calculate the error for fitting a regression\n",
    "* Distances in high dimensional space for PCA\n",
    "\n",
    "Basically, the distance you define is up to you. It could be:\n",
    "* Euclidean distance\n",
    "* Manhattan distance\n",
    "* Chebyshev distance\n",
    "* Minkowski distance\n",
    "* Hamming distance\n",
    "... and the list goes on!"
   ]
  },
  {
   "cell_type": "markdown",
   "id": "6ce17d51",
   "metadata": {},
   "source": [
    "The rules for defining a distance metric $d$ are:\n",
    "* $d$ must assign a scalar value that indicates how \"far apart\" two vectors $\\vec{a}$ and $\\vec{b}$ are\n",
    "* $d(\\vec{a}, \\vec{b}) \\geq 0$ for any $\\vec{a}, \\vec{b}$\n",
    "* $d(\\vec{a}, \\vec{a}) = 0$\n",
    "* The triangular inequality must be obeyed: $d(\\vec{a}, \\vec{c}) \\leq d(\\vec{a}, \\vec{b}) + d(\\vec{b}, \\vec{c})$\n",
    "* It must be commutative (invariant to argument order): $d(\\vec{a}, \\vec{b}) = d(\\vec{b}, \\vec{a})$\n",
    "\n",
    "Why do you think these are important?"
   ]
  },
  {
   "cell_type": "markdown",
   "id": "b284ef94",
   "metadata": {},
   "source": [
    "## Euclidean distance\n",
    "\n",
    "Euclidean distance is defined how?\n",
    "$$d(\\vec{a}, \\vec{b}) = \\sqrt{\\sum_{i=1}^m (a_i - b_i)^2}$$\n",
    "\n",
    "We write this as $||\\vec{a} - \\vec{b}||_2$.\n",
    "\n",
    "We call this the *L2 norm*. The neighborhood to a point can be drawn as a circle."
   ]
  },
  {
   "cell_type": "markdown",
   "id": "33c5e21d",
   "metadata": {},
   "source": [
    "## Manhattan distance\n",
    "\n",
    "Manhattan distance is defined how?\n",
    "$$d(\\vec{a}, \\vec{b}) = \\sum_{i=1}^m |a_i - b_i|$$\n",
    "\n",
    "We write this as $||\\vec{a} - \\vec{b}||_1$.\n",
    "\n",
    "We call this the *L1 norm*.\n",
    "\n",
    "The L1 norm is easier to compute, but it gives a different kind of neighborhood to a point. "
   ]
  },
  {
   "cell_type": "markdown",
   "id": "fa6f9269",
   "metadata": {},
   "source": [
    "## Correlation distance\n",
    "\n",
    "$$d(\\vec{a}, \\vec{b}) = 1 - corr-coeff (\\vec{a}, \\vec{b})$$\n",
    "\n",
    "This is useful when you are looking at time series data or other data that \"trends\"."
   ]
  },
  {
   "cell_type": "markdown",
   "id": "0ddc1e2b",
   "metadata": {},
   "source": [
    "## $L^\\infty$ Norm\n",
    "\n",
    "$$||\\vec{a}, \\vec{b}||_\\infty = max_i |a_i - b_i|$$\n",
    "\n",
    "This is Chebyshev distance. What is the shape of the neighborhood?"
   ]
  },
  {
   "cell_type": "markdown",
   "id": "afd1619f",
   "metadata": {},
   "source": [
    "## LP Norm\n",
    "\n",
    "In general, if $p$ is a positive integer, then we can define the $L^p$ norm, $||\\vec{a}||_p$, as $$\\left[\n",
    "\\sum_{i=1}^m |a_i|^p\n",
    "\\right]^{1/p}$$\n",
    "\n",
    "This is Minkowski distance."
   ]
  },
  {
   "cell_type": "markdown",
   "id": "9605aafc",
   "metadata": {},
   "source": [
    "## Review!\n",
    "\n",
    "Which of these corresponds to the distance we used for linear regression?"
   ]
  },
  {
   "cell_type": "markdown",
   "id": "2ee4b946",
   "metadata": {},
   "source": [
    "## Resources\n",
    "\n",
    "* Very nice recent blog post: https://towardsdatascience.com/how-to-decide-the-perfect-distance-metric-for-your-machine-learning-model-2fa6e5810f11\n",
    "* Another nice blog post with a pretty visualization: https://towardsdatascience.com/17-types-of-similarity-and-dissimilarity-measures-used-in-data-science-3eb914d2681\n",
    "* An interesting paper about the effect of the distance metric on a particular data analysis algorithm: https://arxiv.org/pdf/1708.04321.pdf"
   ]
  },
  {
   "cell_type": "markdown",
   "id": "8e8aac5b",
   "metadata": {},
   "source": [
    "$d(\\vec{a}, \\vec{b}) = 1 - \\frac{\\sum_{i=1}^m a_ib_i}{\\sqrt{\\sum_{i=1}^ma_i^2}\\sqrt{\\sum_{i=1}^mb_i^2}}$"
   ]
  },
  {
   "cell_type": "markdown",
   "id": "95f19530",
   "metadata": {},
   "source": [
    "$d(\\vec{a}, \\vec{b}) = \\frac{\\sum_{i=1}^m |a_i-b_i|}{\\sum_{i=1}^ma_i+b_i}$"
   ]
  },
  {
   "cell_type": "code",
   "execution_count": null,
   "id": "04ae1592",
   "metadata": {},
   "outputs": [],
   "source": []
  }
 ],
 "metadata": {
  "kernelspec": {
   "display_name": "Python 3 (ipykernel)",
   "language": "python",
   "name": "python3"
  },
  "language_info": {
   "codemirror_mode": {
    "name": "ipython",
    "version": 3
   },
   "file_extension": ".py",
   "mimetype": "text/x-python",
   "name": "python",
   "nbconvert_exporter": "python",
   "pygments_lexer": "ipython3",
   "version": "3.9.7"
  }
 },
 "nbformat": 4,
 "nbformat_minor": 5
}
