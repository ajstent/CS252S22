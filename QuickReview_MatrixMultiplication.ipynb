{
 "cells": [
  {
   "cell_type": "code",
   "execution_count": null,
   "id": "435b293d",
   "metadata": {},
   "outputs": [],
   "source": [
    "import numpy as np\n",
    "\n",
    "m1 = np.array([[2,3,4], [5,6,7], [8,9,1], [2, 3, 5]])\n",
    "m2 = np.array([[2,2,2,2], [2,2,2,2], [2,2,2,2]])\n",
    "\n",
    "print(m1)\n",
    "print(m2)\n",
    "print(m1.shape)\n",
    "print(m2.shape)\n",
    "print(m2@m1)\n",
    "print((m2@m1).shape)"
   ]
  },
  {
   "cell_type": "markdown",
   "id": "9d05edc3",
   "metadata": {},
   "source": [
    "How does matrix multiplication work? You multiply and sum across rows of m1 and columns of m2.\n",
    "    \n",
    "    \n",
    "So m1@m2 is:"
   ]
  },
  {
   "cell_type": "code",
   "execution_count": null,
   "id": "1715dd2d",
   "metadata": {},
   "outputs": [],
   "source": [
    "def matrixMultiply(m1, m2):\n",
    "    m3 = np.zeros([m1.shape[0], m2.shape[1]], dtype=int)\n",
    "    for i in range(m1.shape[0]):\n",
    "        for j in range(m2.shape[1]):\n",
    "            for k in range(m1.shape[1]):\n",
    "                print(i, j, k, m1[i, k], m2[k, j], m3[i, j], m1[i,k] * m2[k, j])\n",
    "                m3[i, j] += m1[i, k] * m2[k, j]\n",
    "    return m3\n",
    "            \n",
    "m3 = matrixMultiply(m2, m1)\n",
    "print(m3)"
   ]
  },
  {
   "cell_type": "markdown",
   "id": "343c7e69",
   "metadata": {},
   "source": [
    "Now let's consider the special case of multiplying by the identity matrix. The only element from m1 that will be included in m3 (the output) is the ith element of the ith row. So it really just gives us back the input (hence, \"identity\" matrix!)."
   ]
  },
  {
   "cell_type": "code",
   "execution_count": null,
   "id": "cccdaddf",
   "metadata": {},
   "outputs": [],
   "source": [
    "# note homogenous coordinate\n",
    "m1 = np.array([[2,3,4,1], [5,6,7,1], [8,9,1,1], [2, 3, 5,1]])\n",
    "# note identity matrix\n",
    "m2 = np.array([[1,0,0,0], [0,1,0,0], [0,0,1,0], [0,0,0,1]])\n",
    "print(matrixMultiply(m2, m1.T).T)"
   ]
  },
  {
   "cell_type": "markdown",
   "id": "e1522923",
   "metadata": {},
   "source": [
    "Now let's consider translation. The transformation matrix is the identity matrix with the last column modified to do the translation (the addition / subtraction). So:\n",
    "* the only elements from m1 that will be included in m3 (the output) is the ith element of the ith row and the *last element* of that row\n",
    "* because we use homogenous coordinate, the *last element* of that row is always 1"
   ]
  },
  {
   "cell_type": "code",
   "execution_count": null,
   "id": "b2175cf9",
   "metadata": {},
   "outputs": [],
   "source": [
    "# note homogenous coordinate\n",
    "m1 = np.array([[2,3,4,1], [5,6,7,1], [8,9,1,1], [2, 3, 5,1]])\n",
    "# note -4350 in last column for translating the prices down by 4350\n",
    "m2 = np.array([[1,0,0,-4350], [0,1,0,0], [0,0,1,0], [0,0,0,1]])\n",
    "print(matrixMultiply(m2, m1.T).T)"
   ]
  },
  {
   "cell_type": "markdown",
   "id": "372043c4",
   "metadata": {},
   "source": [
    "... And *that* (homogenous coordinate + identity matrix) is how we get addition/subtraction out of matrix multiplication!"
   ]
  },
  {
   "cell_type": "markdown",
   "id": "df0c4ece",
   "metadata": {},
   "source": [
    "Adding this cell to try submodules"
   ]
  },
  {
   "cell_type": "code",
   "execution_count": null,
   "id": "8af5b9b1",
   "metadata": {},
   "outputs": [],
   "source": [
    "import numpy as np\n",
    "tm = np.array([[1, 0, -1], [0, 1, 0], [0, 0, 1]])\n",
    "dm = np.array([[1, 2, 1], [3, 4, 1]])\n",
    "(tm @ dm.T).T"
   ]
  },
  {
   "cell_type": "code",
   "execution_count": null,
   "id": "224d1de4",
   "metadata": {},
   "outputs": [],
   "source": [
    "matrixMultiply(tm, dm.T)"
   ]
  }
 ],
 "metadata": {
  "kernelspec": {
   "display_name": "Python 3 (ipykernel)",
   "language": "python",
   "name": "python3"
  },
  "language_info": {
   "codemirror_mode": {
    "name": "ipython",
    "version": 3
   },
   "file_extension": ".py",
   "mimetype": "text/x-python",
   "name": "python",
   "nbconvert_exporter": "python",
   "pygments_lexer": "ipython3",
   "version": "3.9.7"
  }
 },
 "nbformat": 4,
 "nbformat_minor": 5
}
