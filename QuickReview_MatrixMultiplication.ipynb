{
 "cells": [
  {
   "cell_type": "code",
   "execution_count": 39,
   "id": "4b701171",
   "metadata": {},
   "outputs": [
    {
     "name": "stdout",
     "output_type": "stream",
     "text": [
      "[[2 3 4]\n",
      " [5 6 7]\n",
      " [8 9 1]\n",
      " [2 3 5]]\n",
      "[[2 2 2 2]\n",
      " [2 2 2 2]\n",
      " [2 2 2 2]]\n",
      "(4, 3)\n",
      "(3, 4)\n",
      "[[34 42 34]\n",
      " [34 42 34]\n",
      " [34 42 34]]\n",
      "(3, 3)\n"
     ]
    }
   ],
   "source": [
    "import numpy as np\n",
    "\n",
    "m1 = np.array([[2,3,4], [5,6,7], [8,9,1], [2, 3, 5]])\n",
    "m2 = np.array([[2,2,2,2], [2,2,2,2], [2,2,2,2]])\n",
    "\n",
    "print(m1)\n",
    "print(m2)\n",
    "print(m1.shape)\n",
    "print(m2.shape)\n",
    "print(m2@m1)\n",
    "print((m2@m1).shape)"
   ]
  },
  {
   "cell_type": "markdown",
   "id": "93f1e377",
   "metadata": {},
   "source": [
    "How does matrix multiplication work? You multiply and sum across rows of m1 and columns of m2.\n",
    "    \n",
    "    \n",
    "So m1@m2 is:"
   ]
  },
  {
   "cell_type": "code",
   "execution_count": 40,
   "id": "e6299c9a",
   "metadata": {},
   "outputs": [
    {
     "name": "stdout",
     "output_type": "stream",
     "text": [
      "[[34 42 34]\n",
      " [34 42 34]\n",
      " [34 42 34]]\n"
     ]
    }
   ],
   "source": [
    "def matrixMultiply(m1, m2):\n",
    "    m3 = np.zeros([m1.shape[0], m2.shape[1]], dtype=int)\n",
    "    for i in range(m1.shape[0]):\n",
    "        for j in range(m2.shape[1]):\n",
    "            for k in range(m1.shape[1]):\n",
    "                m3[i, j] += m1[i, k] * m2[k, j]\n",
    "    return m3\n",
    "            \n",
    "m3 = matrixMultiply(m2, m1)\n",
    "print(m3)"
   ]
  },
  {
   "cell_type": "markdown",
   "id": "fffe51cf",
   "metadata": {},
   "source": [
    "Now let's consider the special case of multiplying by the identity matrix. The only element from m1 that will be included in m3 (the output) is the ith element of the ith row. So it really just gives us back the input (hence, \"identity\" matrix!)."
   ]
  },
  {
   "cell_type": "code",
   "execution_count": 49,
   "id": "b84a980d",
   "metadata": {},
   "outputs": [
    {
     "name": "stdout",
     "output_type": "stream",
     "text": [
      "[[2 3 4 1]\n",
      " [5 6 7 1]\n",
      " [8 9 1 1]\n",
      " [2 3 5 1]]\n"
     ]
    }
   ],
   "source": [
    "# note homogenous coordinate\n",
    "m1 = np.array([[2,3,4,1], [5,6,7,1], [8,9,1,1], [2, 3, 5,1]])\n",
    "# note identity matrix\n",
    "m2 = np.array([[1,0,0,0], [0,1,0,0], [0,0,1,0], [0,0,0,1]])\n",
    "print(matrixMultiply(m2, m1.T).T)"
   ]
  },
  {
   "cell_type": "markdown",
   "id": "225d90f7",
   "metadata": {},
   "source": [
    "Now let's consider translation. The transformation matrix is the identity matrix with the last column modified to do the translation (the addition / subtraction). So:\n",
    "* the only elements from m1 that will be included in m3 (the output) is the ith element of the ith row and the *last element* of that row\n",
    "* because we use homogenous coordinate, the *last element* of that row is always 1"
   ]
  },
  {
   "cell_type": "code",
   "execution_count": 47,
   "id": "f021d0f8",
   "metadata": {},
   "outputs": [
    {
     "name": "stdout",
     "output_type": "stream",
     "text": [
      "[[-4348     3     4     1]\n",
      " [-4345     6     7     1]\n",
      " [-4342     9     1     1]\n",
      " [-4348     3     5     1]]\n"
     ]
    }
   ],
   "source": [
    "# note homogenous coordinate\n",
    "m1 = np.array([[2,3,4,1], [5,6,7,1], [8,9,1,1], [2, 3, 5,1]])\n",
    "# note -4350 in last column for translating the prices down by 4350\n",
    "m2 = np.array([[1,0,0,-4350], [0,1,0,0], [0,0,1,0], [0,0,0,1]])\n",
    "print(matrixMultiply(m2, m1.T).T)"
   ]
  },
  {
   "cell_type": "markdown",
   "id": "932b0594",
   "metadata": {},
   "source": [
    "... And *that* (homogenous coordinate + identity matrix) is how we get addition/subtraction out of matrix multiplication!"
   ]
  }
 ],
 "metadata": {
  "kernelspec": {
   "display_name": "Python 3 (ipykernel)",
   "language": "python",
   "name": "python3"
  },
  "language_info": {
   "codemirror_mode": {
    "name": "ipython",
    "version": 3
   },
   "file_extension": ".py",
   "mimetype": "text/x-python",
   "name": "python",
   "nbconvert_exporter": "python",
   "pygments_lexer": "ipython3",
   "version": "3.9.7"
  }
 },
 "nbformat": 4,
 "nbformat_minor": 5
}
