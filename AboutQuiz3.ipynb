{
 "cells": [
  {
   "cell_type": "markdown",
   "id": "ec9998ae-2836-49af-843c-7e44c095b9b6",
   "metadata": {},
   "source": [
    "# About Quiz 3 ..."
   ]
  },
  {
   "cell_type": "code",
   "execution_count": 1,
   "id": "9c1a3c9b-6c6f-4a8f-ae3c-d533282da685",
   "metadata": {
    "tags": []
   },
   "outputs": [],
   "source": [
    "import numpy as np"
   ]
  },
  {
   "cell_type": "markdown",
   "id": "32f83622-1566-4284-b152-9accd51529ad",
   "metadata": {},
   "source": [
    "Let's make our translation matrix"
   ]
  },
  {
   "cell_type": "code",
   "execution_count": 2,
   "id": "08806261-4c92-4e8c-9188-737cfec63dc6",
   "metadata": {
    "tags": []
   },
   "outputs": [
    {
     "name": "stdout",
     "output_type": "stream",
     "text": [
      "[[  1   0 -10]\n",
      " [  0   1  25]\n",
      " [  0   0   1]]\n"
     ]
    }
   ],
   "source": [
    "translate = np.array([[1, 0, -10], [0, 1, 25], [0, 0, 1]])\n",
    "print(translate)"
   ]
  },
  {
   "cell_type": "markdown",
   "id": "cc9bee29-a1c9-4484-bf81-5b04f4ed50c1",
   "metadata": {},
   "source": [
    "Let's make our scale matrix"
   ]
  },
  {
   "cell_type": "code",
   "execution_count": 3,
   "id": "51541fc8-acc1-4337-a994-a37d4116f8cf",
   "metadata": {
    "tags": []
   },
   "outputs": [
    {
     "name": "stdout",
     "output_type": "stream",
     "text": [
      "[[2.  0.  0. ]\n",
      " [0.  0.5 0. ]\n",
      " [0.  0.  1. ]]\n"
     ]
    }
   ],
   "source": [
    "scale = np.array([[2, 0, 0], [0, .5, 0], [0, 0, 1]])\n",
    "print(scale)"
   ]
  },
  {
   "cell_type": "markdown",
   "id": "9bd8e13e-3af0-449e-a497-8e13601c5b09",
   "metadata": {},
   "source": [
    "What happens when we multiply them in this order?"
   ]
  },
  {
   "cell_type": "code",
   "execution_count": 4,
   "id": "4c1ce863-1162-46a0-8073-ee8847a520be",
   "metadata": {
    "tags": []
   },
   "outputs": [
    {
     "data": {
      "text/plain": [
       "array([[  2. ,   0. , -10. ],\n",
       "       [  0. ,   0.5,  25. ],\n",
       "       [  0. ,   0. ,   1. ]])"
      ]
     },
     "execution_count": 4,
     "metadata": {},
     "output_type": "execute_result"
    }
   ],
   "source": [
    "translate@scale"
   ]
  },
  {
   "cell_type": "markdown",
   "id": "87169821-41b4-4332-865a-3b209cab40e9",
   "metadata": {},
   "source": [
    "What happens when we multiply them in this order?"
   ]
  },
  {
   "cell_type": "code",
   "execution_count": 5,
   "id": "a9a3ed82-be1a-45d0-9fa0-fa062a63635f",
   "metadata": {
    "tags": []
   },
   "outputs": [
    {
     "data": {
      "text/plain": [
       "array([[  2. ,   0. , -20. ],\n",
       "       [  0. ,   0.5,  12.5],\n",
       "       [  0. ,   0. ,   1. ]])"
      ]
     },
     "execution_count": 5,
     "metadata": {},
     "output_type": "execute_result"
    }
   ],
   "source": [
    "scale@translate"
   ]
  },
  {
   "cell_type": "markdown",
   "id": "0a7e82e5-438d-42fc-b0ed-79ca02412dbc",
   "metadata": {},
   "source": [
    "Alright, let's make some data"
   ]
  },
  {
   "cell_type": "code",
   "execution_count": 6,
   "id": "3646f9dc-7860-4d47-8a9e-ff1f50ec7ea0",
   "metadata": {
    "tags": []
   },
   "outputs": [
    {
     "name": "stdout",
     "output_type": "stream",
     "text": [
      "[[10  4  1]\n",
      " [20  2  1]]\n"
     ]
    }
   ],
   "source": [
    "data = np.array([[10, 4, 1], [20, 2, 1]])\n",
    "print(data)"
   ]
  },
  {
   "cell_type": "markdown",
   "id": "0bfc1ed8-6a35-45bf-ab00-ad42ea7aaf24",
   "metadata": {},
   "source": [
    "If I translate my data..."
   ]
  },
  {
   "cell_type": "code",
   "execution_count": 7,
   "id": "b3097309-4b2c-48c5-8318-77427d93b407",
   "metadata": {
    "tags": []
   },
   "outputs": [
    {
     "data": {
      "text/plain": [
       "array([[ 0, 29,  1],\n",
       "       [10, 27,  1]])"
      ]
     },
     "execution_count": 7,
     "metadata": {},
     "output_type": "execute_result"
    }
   ],
   "source": [
    "(translate@data.T).T"
   ]
  },
  {
   "cell_type": "markdown",
   "id": "9955cb6e-7bc9-4ed4-91b5-bd3e2c9c5b75",
   "metadata": {},
   "source": [
    "If I scale my data..."
   ]
  },
  {
   "cell_type": "code",
   "execution_count": 8,
   "id": "8d22a17e-5aa8-4e2c-93c4-83bab10e1baa",
   "metadata": {
    "tags": []
   },
   "outputs": [
    {
     "data": {
      "text/plain": [
       "array([[20.,  2.,  1.],\n",
       "       [40.,  1.,  1.]])"
      ]
     },
     "execution_count": 8,
     "metadata": {},
     "output_type": "execute_result"
    }
   ],
   "source": [
    "(scale@data.T).T"
   ]
  },
  {
   "cell_type": "markdown",
   "id": "e93ffcf6-e9cb-4772-8880-28d336b3dcea",
   "metadata": {},
   "source": [
    "If I translate then scale then transform my data..."
   ]
  },
  {
   "cell_type": "code",
   "execution_count": 9,
   "id": "b94b5293-1a99-480f-aa62-3a0a4f825165",
   "metadata": {
    "tags": []
   },
   "outputs": [
    {
     "data": {
      "text/plain": [
       "array([[10., 27.,  1.],\n",
       "       [30., 26.,  1.]])"
      ]
     },
     "execution_count": 9,
     "metadata": {},
     "output_type": "execute_result"
    }
   ],
   "source": [
    "((translate@scale)@data.T).T"
   ]
  },
  {
   "cell_type": "markdown",
   "id": "d95198d7-4415-4b80-90fa-e9578e85caae",
   "metadata": {},
   "source": [
    "If I scale then translate then transform my data..."
   ]
  },
  {
   "cell_type": "code",
   "execution_count": 10,
   "id": "0ab82474-9338-42c2-9878-ba3ad4eb6370",
   "metadata": {
    "tags": []
   },
   "outputs": [
    {
     "name": "stdout",
     "output_type": "stream",
     "text": [
      "[[10  4  1]\n",
      " [20  2  1]]\n"
     ]
    },
    {
     "data": {
      "text/plain": [
       "array([[ 0. , 14.5,  1. ],\n",
       "       [20. , 13.5,  1. ]])"
      ]
     },
     "execution_count": 10,
     "metadata": {},
     "output_type": "execute_result"
    }
   ],
   "source": [
    "print(data)\n",
    "((scale@translate)@data.T).T"
   ]
  },
  {
   "cell_type": "markdown",
   "id": "27d336d5-c9e2-4d2f-9ad0-2ac7e0aba506",
   "metadata": {},
   "source": [
    "So matrix multiplication is **associative** but not **commutative**:\n",
    "* (A@B)@C = A@(B@C) but\n",
    "* A@B != B@A"
   ]
  },
  {
   "cell_type": "markdown",
   "id": "7b67ebd6-5b23-4fb2-88cc-87321a5b3031",
   "metadata": {},
   "source": [
    "Which order do you think is a better interpretation of the question in the quiz?\n",
    "\n",
    "Take home message: **know the order in which you want your transformations done**."
   ]
  },
  {
   "attachments": {},
   "cell_type": "markdown",
   "id": "37834884",
   "metadata": {},
   "source": [
    "# About Homework 3\n",
    "\n",
    "Generally, people seem to know how to set up a transformation matrix:\n",
    "* translation\n",
    "* scaling\n",
    "* rotation in 2D\n",
    "* rotation in 3D\n",
    "* max-min normalization\n",
    "\n",
    "The problem seems to come in actually doing the matrix multiply.\n",
    "\n",
    "Here's a mnemonic that may help you: Pirates say Argh over the Seas (R over C, rows over columns).\n",
    "\n",
    "Here's a nice little refresher: https://www.mathsisfun.com/algebra/matrix-multiplying.html.\n",
    "\n",
    "And here we implement matrix multiply using for loops."
   ]
  },
  {
   "cell_type": "code",
   "execution_count": 11,
   "id": "9962f9d1-6b70-4c19-aa04-bca48282eb80",
   "metadata": {},
   "outputs": [],
   "source": [
    "def matrix_multiply_slowly(m1, m2):\n",
    "    if m1.shape[1] != m2.shape[0]:\n",
    "        print(\"Can't multiply a \", m1.shape, \" matrix by a \", m2.shape, \" matrix.\")\n",
    "        return None\n",
    "    res = []\n",
    "    # rows\n",
    "    for rowIndex in range(m1.shape[0]):\n",
    "        # over\n",
    "        res.append([])\n",
    "        # columns\n",
    "        for colIndex in range(m2.shape[1]):\n",
    "            res[-1].append(dot_product_slowly(rowIndex, colIndex, m1[rowIndex], m2[:,colIndex]))\n",
    "    return np.array(res)\n",
    "\n",
    "def dot_product_slowly(i, j, v1, v2):\n",
    "    if len(v1) != len(v2):\n",
    "        print(\"Can't multiply a vector of length \", len(v1), \" with a vector of length \", len(v2), \".\")\n",
    "        return 0\n",
    "    pairs = list(zip(v1, v2))\n",
    "    print(i, ' ', j, '\\t', ' + '.join(['%s*%s'%(i, j) for i, j in pairs]), '\\t', np.sum([i*j for i, j in pairs]))\n",
    "    # sum up the pairwise products\n",
    "    return np.sum([i*j for i, j in pairs])\n"
   ]
  },
  {
   "cell_type": "code",
   "execution_count": 12,
   "id": "e41bcb06",
   "metadata": {},
   "outputs": [
    {
     "name": "stdout",
     "output_type": "stream",
     "text": [
      "[[ 2  6]\n",
      " [ 6 12]]\n"
     ]
    }
   ],
   "source": [
    "m1 = np.array([[1,2], [3,4]])\n",
    "m2 = np.array([[2,0],[0,3]])\n",
    "print(m1@m2)"
   ]
  },
  {
   "cell_type": "code",
   "execution_count": 13,
   "id": "538debdf",
   "metadata": {},
   "outputs": [
    {
     "name": "stdout",
     "output_type": "stream",
     "text": [
      "0   0 \t 1*2 + 2*0 \t 2\n",
      "0   1 \t 1*0 + 2*3 \t 6\n",
      "1   0 \t 3*2 + 4*0 \t 6\n",
      "1   1 \t 3*0 + 4*3 \t 12\n",
      "[[ 2  6]\n",
      " [ 6 12]]\n"
     ]
    }
   ],
   "source": [
    "print(matrix_multiply_slowly(m1, m2))"
   ]
  },
  {
   "attachments": {},
   "cell_type": "markdown",
   "id": "97a2b12b",
   "metadata": {},
   "source": [
    "### Translate [[1 2 1] [3 7 3] [4 5 4]] to the origin along the y and z dimensions."
   ]
  },
  {
   "cell_type": "code",
   "execution_count": 18,
   "id": "4c80e1bf",
   "metadata": {},
   "outputs": [
    {
     "name": "stdout",
     "output_type": "stream",
     "text": [
      "[[1 2 1 1]\n",
      " [3 7 3 1]\n",
      " [4 5 4 1]]\n",
      "[[ 1  0  0  0]\n",
      " [ 0  1  0 -2]\n",
      " [ 0  0  1 -1]\n",
      " [ 0  0  0  1]]\n"
     ]
    }
   ],
   "source": [
    "data = np.array([[1,2,1],[3,7,3],[4,5,4]])\n",
    "\n",
    "# add trailing 1s for translation\n",
    "# there is NO NEED to add a bottom row to make the matrix square\n",
    "homogenizedData = np.append(data, np.array([np.ones(data.shape[0], dtype=int)]).T, axis=1)\n",
    "\n",
    "# transformation matrix\n",
    "transform = np.array([[1,0,0,0],[0,1,0,-np.min(data[:, 1])],[0,0,1,-np.min(data[:,2])],[0,0,0,1]])\n",
    "print(homogenizedData)\n",
    "print(transform)"
   ]
  },
  {
   "cell_type": "code",
   "execution_count": 19,
   "id": "ea521ffd",
   "metadata": {},
   "outputs": [
    {
     "name": "stdout",
     "output_type": "stream",
     "text": [
      "0   0 \t 1*1 + 0*2 + 0*1 + 0*1 \t 1\n",
      "0   1 \t 1*3 + 0*7 + 0*3 + 0*1 \t 3\n",
      "0   2 \t 1*4 + 0*5 + 0*4 + 0*1 \t 4\n",
      "1   0 \t 0*1 + 1*2 + 0*1 + -2*1 \t 0\n",
      "1   1 \t 0*3 + 1*7 + 0*3 + -2*1 \t 5\n",
      "1   2 \t 0*4 + 1*5 + 0*4 + -2*1 \t 3\n",
      "2   0 \t 0*1 + 0*2 + 1*1 + -1*1 \t 0\n",
      "2   1 \t 0*3 + 0*7 + 1*3 + -1*1 \t 2\n",
      "2   2 \t 0*4 + 0*5 + 1*4 + -1*1 \t 3\n",
      "3   0 \t 0*1 + 0*2 + 0*1 + 1*1 \t 1\n",
      "3   1 \t 0*3 + 0*7 + 0*3 + 1*1 \t 1\n",
      "3   2 \t 0*4 + 0*5 + 0*4 + 1*1 \t 1\n",
      "[[1 0 0 1]\n",
      " [3 5 2 1]\n",
      " [4 3 3 1]]\n"
     ]
    }
   ],
   "source": [
    "print(matrix_multiply_slowly(transform, homogenizedData.T).T)"
   ]
  },
  {
   "attachments": {},
   "cell_type": "markdown",
   "id": "463c0e57",
   "metadata": {},
   "source": [
    "### Scale [[1 2 1] [3 7 3] [4 5 4]] by 2 along the x dimension and .5 along the y dimension."
   ]
  },
  {
   "cell_type": "code",
   "execution_count": 20,
   "id": "d1adf488",
   "metadata": {},
   "outputs": [
    {
     "name": "stdout",
     "output_type": "stream",
     "text": [
      "[[2.  0.  0. ]\n",
      " [0.  0.5 0. ]\n",
      " [0.  0.  1. ]]\n"
     ]
    }
   ],
   "source": [
    "# we are only scaling so we don't NEED to add the homogenous coordinate; but if you did I gave you credit\n",
    "transform = np.array([[2,0,0],[0,.5,0],[0,0,1]])\n",
    "print(transform)"
   ]
  },
  {
   "cell_type": "code",
   "execution_count": 21,
   "id": "9020d239",
   "metadata": {},
   "outputs": [
    {
     "name": "stdout",
     "output_type": "stream",
     "text": [
      "0   0 \t 2.0*1 + 0.0*2 + 0.0*1 \t 2.0\n",
      "0   1 \t 2.0*3 + 0.0*7 + 0.0*3 \t 6.0\n",
      "0   2 \t 2.0*4 + 0.0*5 + 0.0*4 \t 8.0\n",
      "1   0 \t 0.0*1 + 0.5*2 + 0.0*1 \t 1.0\n",
      "1   1 \t 0.0*3 + 0.5*7 + 0.0*3 \t 3.5\n",
      "1   2 \t 0.0*4 + 0.5*5 + 0.0*4 \t 2.5\n",
      "2   0 \t 0.0*1 + 0.0*2 + 1.0*1 \t 1.0\n",
      "2   1 \t 0.0*3 + 0.0*7 + 1.0*3 \t 3.0\n",
      "2   2 \t 0.0*4 + 0.0*5 + 1.0*4 \t 4.0\n",
      "[[2.  1.  1. ]\n",
      " [6.  3.5 3. ]\n",
      " [8.  2.5 4. ]]\n"
     ]
    }
   ],
   "source": [
    "print(matrix_multiply_slowly(transform, data.T).T)"
   ]
  },
  {
   "attachments": {},
   "cell_type": "markdown",
   "id": "8ed61f8e",
   "metadata": {},
   "source": [
    "### Perform a local max-min normalization of [[1 2 1] [3 7 3] [4 5 4]]."
   ]
  },
  {
   "cell_type": "code",
   "execution_count": 23,
   "id": "86c52168",
   "metadata": {},
   "outputs": [
    {
     "name": "stdout",
     "output_type": "stream",
     "text": [
      "[[0.33333333 0.         0.         0.        ]\n",
      " [0.         0.2        0.         0.        ]\n",
      " [0.         0.         0.33333333 0.        ]\n",
      " [0.         0.         0.         1.        ]]\n",
      "[[ 1  0  0 -1]\n",
      " [ 0  1  0 -2]\n",
      " [ 0  0  1 -1]\n",
      " [ 0  0  0  1]]\n",
      "[[ 0.33333333  0.          0.         -0.33333333]\n",
      " [ 0.          0.2         0.         -0.4       ]\n",
      " [ 0.          0.          0.33333333 -0.33333333]\n",
      " [ 0.          0.          0.          1.        ]]\n"
     ]
    }
   ],
   "source": [
    "# transformation matrix\n",
    "scale = np.array([[1/(np.max(data[:,0])-np.min(data[:, 0])),0,0,0],[0,1/(np.max(data[:,1])-np.min(data[:, 1])),0,0],[0,0,1/(np.max(data[:,2])-np.min(data[:, 2])),0],[0,0,0,1]])\n",
    "translate = np.array([[1,0,0,-np.min(data[:, 0])],[0,1,0,-np.min(data[:, 1])],[0,0,1,-np.min(data[:,2])],[0,0,0,1]])\n",
    "print(scale)\n",
    "print(translate)\n",
    "# remember what we just learned: order matters! we want to scale the effect of the translation, so we pass the scaling through the translation\n",
    "# also notice if you do it the other way around we do not get a matrix where every value is between 0 and 1\n",
    "transform = scale@translate\n",
    "print(transform)"
   ]
  },
  {
   "cell_type": "code",
   "execution_count": 24,
   "id": "a2b74df7",
   "metadata": {},
   "outputs": [
    {
     "name": "stdout",
     "output_type": "stream",
     "text": [
      "0   0 \t 0.3333333333333333*1 + 0.0*2 + 0.0*1 + -0.3333333333333333*1 \t 0.0\n",
      "0   1 \t 0.3333333333333333*3 + 0.0*7 + 0.0*3 + -0.3333333333333333*1 \t 0.6666666666666667\n",
      "0   2 \t 0.3333333333333333*4 + 0.0*5 + 0.0*4 + -0.3333333333333333*1 \t 1.0\n",
      "1   0 \t 0.0*1 + 0.2*2 + 0.0*1 + -0.4*1 \t 0.0\n",
      "1   1 \t 0.0*3 + 0.2*7 + 0.0*3 + -0.4*1 \t 1.0\n",
      "1   2 \t 0.0*4 + 0.2*5 + 0.0*4 + -0.4*1 \t 0.6\n",
      "2   0 \t 0.0*1 + 0.0*2 + 0.3333333333333333*1 + -0.3333333333333333*1 \t 0.0\n",
      "2   1 \t 0.0*3 + 0.0*7 + 0.3333333333333333*3 + -0.3333333333333333*1 \t 0.6666666666666667\n",
      "2   2 \t 0.0*4 + 0.0*5 + 0.3333333333333333*4 + -0.3333333333333333*1 \t 1.0\n",
      "3   0 \t 0.0*1 + 0.0*2 + 0.0*1 + 1.0*1 \t 1.0\n",
      "3   1 \t 0.0*3 + 0.0*7 + 0.0*3 + 1.0*1 \t 1.0\n",
      "3   2 \t 0.0*4 + 0.0*5 + 0.0*4 + 1.0*1 \t 1.0\n",
      "[[0.         0.         0.         1.        ]\n",
      " [0.66666667 1.         0.66666667 1.        ]\n",
      " [1.         0.6        1.         1.        ]]\n"
     ]
    },
    {
     "name": "stderr",
     "output_type": "stream",
     "text": [
      "Bad pipe message: %s [b'\\xa6\\xfd\\xcf\\xa0$\\xe6?\\xd4\\x81ve\\xd4\\x84da[\\x0f\\xa3 \\x0b\\xa8\\x9f\\x90\\xf3$\\xbd\\xca\\xc1\\x82v\\xf3~\\x05/\\x88\\xc0\\xf3\\x93\\xa0@+\\x14M\\x1f\\xc6d_\\x1b%Ca\\x00\\x08\\x13\\x02\\x13\\x03\\x13\\x01\\x00\\xff\\x01\\x00\\x00\\x8f\\x00\\x00\\x00\\x0e\\x00\\x0c\\x00\\x00\\t127.0.0.1\\x00\\x0b\\x00\\x04\\x03\\x00\\x01\\x02\\x00\\n\\x00\\x0c\\x00\\n\\x00\\x1d\\x00\\x17\\x00\\x1e\\x00\\x19\\x00\\x18\\x00#\\x00\\x00\\x00\\x16\\x00\\x00\\x00\\x17\\x00\\x00\\x00\\r\\x00\\x1e\\x00\\x1c\\x04\\x03\\x05\\x03\\x06\\x03\\x08\\x07\\x08\\x08\\x08\\t\\x08\\n\\x08\\x0b\\x08\\x04\\x08\\x05\\x08\\x06\\x04\\x01']\n",
      "Bad pipe message: %s [b'\\xac\\x12h\\xa8Y\\x99B\\xba\\xda\\xf6 e?\\x910x\\xc8\\xbd Wm\\xcd\\xaf\\xb6\\xec\\xff\\x139\\xca\\xd9\\xf23%\\xad\\x1e\\xcf=L #0S\\xbe\\xbb\\xad\\xef<1\\x13\\xaf\\x94\\x00\\x08\\x13\\x02\\x13\\x03\\x13\\x01\\x00\\xff\\x01\\x00\\x00\\x8f\\x00\\x00\\x00\\x0e\\x00\\x0c\\x00\\x00\\t127.0.0.1\\x00\\x0b\\x00\\x04\\x03\\x00\\x01\\x02\\x00\\n\\x00\\x0c\\x00\\n\\x00\\x1d\\x00\\x17\\x00\\x1e\\x00\\x19\\x00\\x18\\x00#\\x00\\x00\\x00\\x16\\x00\\x00\\x00\\x17\\x00\\x00\\x00\\r\\x00\\x1e\\x00\\x1c\\x04\\x03\\x05\\x03\\x06\\x03\\x08\\x07\\x08\\x08\\x08\\t\\x08\\n\\x08\\x0b\\x08\\x04\\x08\\x05\\x08\\x06\\x04\\x01\\x05\\x01\\x06\\x01\\x00+']\n",
      "Bad pipe message: %s [b\"g\\x17\\xa9;C\\xc7\\xaa\\xba\\x85\\xee\\x7f\\xac\\xfd._\\n@]\\x00\\x00|\\xc0,\\xc00\\x00\\xa3\\x00\\x9f\\xcc\\xa9\\xcc\\xa8\\xcc\\xaa\\xc0\\xaf\\xc0\\xad\\xc0\\xa3\\xc0\\x9f\\xc0]\\xc0a\\xc0W\\xc0S\\xc0+\\xc0/\\x00\\xa2\\x00\\x9e\\xc0\\xae\\xc0\\xac\\xc0\\xa2\\xc0\\x9e\\xc0\\\\\\xc0`\\xc0V\\xc0R\\xc0$\\xc0(\\x00k\\x00j\\xc0#\\xc0'\\x00g\\x00@\\xc0\\n\\xc0\\x14\\x00\"]\n",
      "Bad pipe message: %s [b'8\\xc0\\t\\xc0\\x13\\x003\\x002\\x00\\x9d\\xc0\\xa1\\xc0\\x9d\\xc0Q\\x00\\x9c\\xc0\\xa0\\xc0\\x9c\\xc0P\\x00=\\x00<\\x005\\x00/\\x00\\x9a\\x00\\x99\\xc0\\x07\\xc0\\x11\\x00\\x96\\x00\\x05\\x00\\xff\\x01\\x00\\x00j\\x00\\x00\\x00\\x0e\\x00']\n",
      "Bad pipe message: %s [b'\\x00\\t127.0.0.1']\n",
      "Bad pipe message: %s [b\"\\x8c\\x90\\xe5FK\\x06\\xae<\\xea\\xb5.}\\xb4e\\xf2\\xb8\\x86\\xc0\\x00\\x00\\xa6\\xc0,\\xc00\\x00\\xa3\\x00\\x9f\\xcc\\xa9\\xcc\\xa8\\xcc\\xaa\\xc0\\xaf\\xc0\\xad\\xc0\\xa3\\xc0\\x9f\\xc0]\\xc0a\\xc0W\\xc0S\\xc0+\\xc0/\\x00\\xa2\\x00\\x9e\\xc0\\xae\\xc0\\xac\\xc0\\xa2\\xc0\\x9e\\xc0\\\\\\xc0`\\xc0V\\xc0R\\xc0$\\xc0(\\x00k\\x00j\\xc0s\\xc0w\\x00\\xc4\\x00\\xc3\\xc0#\\xc0'\\x00g\\x00@\\xc0r\\xc0\", b'\\xbe\\x00\\xbd\\xc0\\n\\xc0\\x14\\x009\\x008\\x00\\x88\\x00\\x87\\xc0\\t\\xc0\\x13\\x003\\x002\\x00\\x9a\\x00\\x99\\x00E\\x00D\\xc0\\x07\\xc0\\x11\\xc0\\x08\\xc0\\x12\\x00\\x16\\x00\\x13\\x00\\x9d\\xc0\\xa1\\xc0\\x9d\\xc0Q\\x00\\x9c\\xc0\\xa0\\xc0\\x9c\\xc0P\\x00=\\x00\\xc0\\x00<\\x00\\xba\\x005\\x00\\x84\\x00/\\x00\\x96\\x00A\\x00\\x05\\x00\\n\\x00\\xff\\x01\\x00\\x00j\\x00\\x00\\x00\\x0e\\x00\\x0c\\x00\\x00\\t127.0.0.1\\x00\\x0b\\x00\\x04\\x03\\x00\\x01\\x02\\x00\\n\\x00\\x0c']\n",
      "Bad pipe message: %s [b'=A\\xd7v\\x8d!\\xb5\\xf4\\xdc\\xda/\\x07\\x0c\\x86\\xb9g\\xb4[\\x00\\x00\\xa2\\xc0\\x14\\xc0\\n\\x009\\x008\\x007\\x006\\x00\\x88\\x00\\x87\\x00\\x86\\x00\\x85\\xc0\\x19\\x00:\\x00\\x89\\xc0\\x0f\\xc0\\x05\\x005\\x00\\x84\\xc0\\x13\\xc0\\t\\x003\\x002\\x001\\x000\\x00', b'\\x99\\x00\\x98\\x00\\x97\\x00E\\x00D\\x00C\\x00B\\xc0\\x18\\x004\\x00\\x9b\\x00F\\xc0\\x0e\\xc0\\x04\\x00/\\x00\\x96\\x00A\\x00\\x07\\xc0\\x11\\xc0\\x07\\xc0\\x16\\x00\\x18\\xc0\\x0c\\xc0\\x02\\x00\\x05\\x00\\x04\\xc0\\x12\\xc0\\x08\\x00\\x16\\x00\\x13\\x00\\x10\\x00\\r\\xc0\\x17\\x00\\x1b\\xc0\\r\\xc0\\x03\\x00\\n\\x00\\x15\\x00\\x12\\x00\\x0f\\x00\\x0c\\x00\\x1a\\x00\\t\\x00\\x14\\x00\\x11\\x00\\x19\\x00\\x08\\x00\\x06\\x00\\x17\\x00\\x03\\xc0\\x10\\xc0\\x06\\xc0\\x15\\xc0\\x0b\\xc0\\x01\\x00\\x02\\x00\\x01\\x00\\xff\\x02\\x01\\x00\\x00C\\x00\\x00\\x00\\x0e\\x00\\x0c\\x00\\x00\\t127.0.0.1\\x00\\x0b\\x00\\x04\\x03\\x00\\x01\\x02\\x00\\n\\x00\\x1c\\x00\\x1a\\x00\\x17\\x00']\n",
      "Bad pipe message: %s [b'\\x1c\\x00\\x1b\\x00\\x18\\x00\\x1a\\x00\\x16\\x00\\x0e\\x00\\r\\x00\\x0b\\x00\\x0c\\x00\\t\\x00\\n\\x00#\\x00']\n",
      "Bad pipe message: %s [b'\\x95A\\xe4\\xdf2Tn,G@\\xdb\\xd9B\\xbb+\\xe2\\x7f\\xf7\\x00\\x00\\xa2\\xc0\\x14\\xc0\\n\\x009\\x008\\x007\\x006\\x00\\x88\\x00\\x87\\x00\\x86\\x00\\x85\\xc0\\x19\\x00:\\x00\\x89\\xc0\\x0f\\xc0\\x05\\x005\\x00\\x84\\xc0\\x13\\xc0\\t\\x003\\x002\\x001\\x000\\x00\\x9a\\x00\\x99\\x00\\x98\\x00\\x97\\x00E\\x00D\\x00C\\x00B\\xc0\\x18\\x004\\x00\\x9b\\x00F\\xc0\\x0e\\xc0\\x04\\x00/']\n",
      "Bad pipe message: %s [b\"jQ&N\\xce\\xf9=\\xc9\\xe6$\\x12X\\x98L\\xe2\\xe6:6\\x00\\x00\\xf4\\xc00\\xc0,\\xc0(\\xc0$\\xc0\\x14\\xc0\\n\\x00\\xa5\\x00\\xa3\\x00\\xa1\\x00\\x9f\\x00k\\x00j\\x00i\\x00h\\x009\\x008\\x007\\x006\\x00\\x88\\x00\\x87\\x00\\x86\\x00\\x85\\xc0\\x19\\x00\\xa7\\x00m\\x00:\\x00\\x89\\xc02\\xc0.\\xc0*\\xc0&\\xc0\\x0f\\xc0\\x05\\x00\\x9d\\x00=\\x005\\x00\\x84\\xc0/\\xc0+\\xc0'\\xc0#\\xc0\\x13\\xc0\\t\\x00\\xa4\\x00\\xa2\\x00\\xa0\\x00\\x9e\\x00g\\x00@\\x00?\\x00>\\x003\\x002\\x001\\x000\\x00\\x9a\\x00\\x99\\x00\\x98\\x00\\x97\\x00E\\x00D\\x00C\\x00B\\xc0\\x18\\x00\\xa6\\x00l\\x004\\x00\\x9b\\x00F\\xc01\\xc0-\\xc0)\\xc0%\\xc0\\x0e\\xc0\\x04\\x00\\x9c\\x00<\\x00/\\x00\\x96\\x00A\\x00\\x07\\xc0\\x11\\xc0\\x07\\xc0\\x16\\x00\\x18\\xc0\\x0c\\xc0\\x02\\x00\\x05\\x00\\x04\\xc0\\x12\\xc0\\x08\\x00\\x16\\x00\\x13\\x00\\x10\\x00\\r\\xc0\\x17\\x00\\x1b\\xc0\"]\n",
      "Bad pipe message: %s [b'\\x03\\x00\\n\\x00\\x15\\x00\\x12\\x00\\x0f\\x00\\x0c\\x00']\n",
      "Bad pipe message: %s [b'\\t\\x00\\x14\\x00\\x11\\x00\\x19\\x00\\x08\\x00\\x06\\x00\\x17\\x00\\x03\\xc0\\x10\\xc0\\x06\\xc0\\x15\\xc0\\x0b\\xc0\\x01']\n"
     ]
    }
   ],
   "source": [
    "# max-min means translation AND scaling, so we need that trailing column of ones\n",
    "print(matrix_multiply_slowly(transform, homogenizedData.T).T)"
   ]
  },
  {
   "attachments": {},
   "cell_type": "markdown",
   "id": "2953d0f8",
   "metadata": {},
   "source": [
    "### Rotate [[1 2 1] [3 7 3] [4 5 4]] by 90 degrees around the x dimension."
   ]
  },
  {
   "cell_type": "code",
   "execution_count": null,
   "id": "fafb21d4",
   "metadata": {},
   "outputs": [],
   "source": [
    "\n",
    "# transformation matrix\n",
    "transform = np.array([[1, 0, 0], [0, np.cos(np.radians(90)), -np.sin(np.radians(90))],[0, np.sin(np.radians(90)), np.cos(np.radians(90))]])\n",
    "print(transform.astype(int))"
   ]
  },
  {
   "cell_type": "code",
   "execution_count": null,
   "id": "3c758c70",
   "metadata": {},
   "outputs": [],
   "source": [
    "print(matrix_multiply_slowly(transform, data.T).T)"
   ]
  },
  {
   "attachments": {},
   "cell_type": "markdown",
   "id": "bfa983d6",
   "metadata": {},
   "source": [
    "### Rotate [[1 2 1] [3 7 3] [4 5 4]] by 90 degrees around the y dimension, and center it on zero."
   ]
  },
  {
   "cell_type": "code",
   "execution_count": null,
   "id": "991ba22e",
   "metadata": {},
   "outputs": [],
   "source": [
    "# transformation matrix, with extra dimension b/c also translating\n",
    "# if you like this, look up z-scoring!\n",
    "rotate = np.array([[np.cos(np.radians(90)), 0, np.sin(np.radians(90)), 0], [0, 1, 0, 0], [-np.sin(np.radians(90)), 0, np.cos(np.radians(90)), 0], [0, 0, 0, 1]])\n",
    "translate = np.array([[1, 0, 0, -np.mean(data[:, 0])], [0, 1, 0, -np.mean(data[:, 1])], [0, 0, 1, -np.mean(data[:, 2])], [0, 0, 0, 1]])\n",
    "print(rotate.astype(int))\n",
    "print(translate)\n",
    "# remember what we just learned: order matters! we want to translate the effect of the rotation, so we pass the translation through the rotation\n",
    "transform = (translate@rotate)\n",
    "print(transform)"
   ]
  },
  {
   "cell_type": "code",
   "execution_count": null,
   "id": "4844a222",
   "metadata": {},
   "outputs": [],
   "source": [
    "print(matrix_multiply_slowly(transform, homogenizedData.T).T)"
   ]
  },
  {
   "cell_type": "code",
   "execution_count": null,
   "id": "2a5cc996",
   "metadata": {},
   "outputs": [],
   "source": []
  }
 ],
 "metadata": {
  "kernelspec": {
   "display_name": "Python 3 (ipykernel)",
   "language": "python",
   "name": "python3"
  },
  "language_info": {
   "codemirror_mode": {
    "name": "ipython",
    "version": 3
   },
   "file_extension": ".py",
   "mimetype": "text/x-python",
   "name": "python",
   "nbconvert_exporter": "python",
   "pygments_lexer": "ipython3",
   "version": "3.10.4"
  }
 },
 "nbformat": 4,
 "nbformat_minor": 5
}
