{
 "cells": [
  {
   "cell_type": "markdown",
   "id": "ec9998ae-2836-49af-843c-7e44c095b9b6",
   "metadata": {},
   "source": [
    "# About Quiz 3 ..."
   ]
  },
  {
   "cell_type": "code",
   "execution_count": 2,
   "id": "9c1a3c9b-6c6f-4a8f-ae3c-d533282da685",
   "metadata": {
    "tags": []
   },
   "outputs": [],
   "source": [
    "import numpy as np"
   ]
  },
  {
   "cell_type": "markdown",
   "id": "32f83622-1566-4284-b152-9accd51529ad",
   "metadata": {},
   "source": [
    "Let's make our translation matrix"
   ]
  },
  {
   "cell_type": "code",
   "execution_count": 19,
   "id": "08806261-4c92-4e8c-9188-737cfec63dc6",
   "metadata": {
    "tags": []
   },
   "outputs": [
    {
     "name": "stdout",
     "output_type": "stream",
     "text": [
      "[[  1   0 -10]\n",
      " [  0   1  25]\n",
      " [  0   0   1]]\n"
     ]
    }
   ],
   "source": [
    "translate = np.array([[1, 0, -10], [0, 1, 25], [0, 0, 1]])\n",
    "print(translate)"
   ]
  },
  {
   "cell_type": "markdown",
   "id": "cc9bee29-a1c9-4484-bf81-5b04f4ed50c1",
   "metadata": {},
   "source": [
    "Let's make our scale matrix"
   ]
  },
  {
   "cell_type": "code",
   "execution_count": 20,
   "id": "51541fc8-acc1-4337-a994-a37d4116f8cf",
   "metadata": {
    "tags": []
   },
   "outputs": [
    {
     "name": "stdout",
     "output_type": "stream",
     "text": [
      "[[2.  0.  0. ]\n",
      " [0.  0.5 0. ]\n",
      " [0.  0.  1. ]]\n"
     ]
    }
   ],
   "source": [
    "scale = np.array([[2, 0, 0], [0, .5, 0], [0, 0, 1]])\n",
    "print(scale)"
   ]
  },
  {
   "cell_type": "markdown",
   "id": "9bd8e13e-3af0-449e-a497-8e13601c5b09",
   "metadata": {},
   "source": [
    "What happens when we multiply them in this order?"
   ]
  },
  {
   "cell_type": "code",
   "execution_count": 21,
   "id": "4c1ce863-1162-46a0-8073-ee8847a520be",
   "metadata": {
    "tags": []
   },
   "outputs": [
    {
     "data": {
      "text/plain": [
       "array([[  2. ,   0. , -10. ],\n",
       "       [  0. ,   0.5,  25. ],\n",
       "       [  0. ,   0. ,   1. ]])"
      ]
     },
     "execution_count": 21,
     "metadata": {},
     "output_type": "execute_result"
    }
   ],
   "source": [
    "translate@scale"
   ]
  },
  {
   "cell_type": "markdown",
   "id": "87169821-41b4-4332-865a-3b209cab40e9",
   "metadata": {},
   "source": [
    "What happens when we multiply them in this order?"
   ]
  },
  {
   "cell_type": "code",
   "execution_count": 22,
   "id": "a9a3ed82-be1a-45d0-9fa0-fa062a63635f",
   "metadata": {
    "tags": []
   },
   "outputs": [
    {
     "data": {
      "text/plain": [
       "array([[  2. ,   0. , -20. ],\n",
       "       [  0. ,   0.5,  12.5],\n",
       "       [  0. ,   0. ,   1. ]])"
      ]
     },
     "execution_count": 22,
     "metadata": {},
     "output_type": "execute_result"
    }
   ],
   "source": [
    "scale@translate"
   ]
  },
  {
   "cell_type": "markdown",
   "id": "0a7e82e5-438d-42fc-b0ed-79ca02412dbc",
   "metadata": {},
   "source": [
    "Alright, let's make some data"
   ]
  },
  {
   "cell_type": "code",
   "execution_count": 29,
   "id": "3646f9dc-7860-4d47-8a9e-ff1f50ec7ea0",
   "metadata": {
    "tags": []
   },
   "outputs": [
    {
     "name": "stdout",
     "output_type": "stream",
     "text": [
      "[[10  4  1]\n",
      " [20  2  1]]\n"
     ]
    }
   ],
   "source": [
    "data = np.array([[10, 4, 1], [20, 2, 1]])\n",
    "print(data)"
   ]
  },
  {
   "cell_type": "markdown",
   "id": "0bfc1ed8-6a35-45bf-ab00-ad42ea7aaf24",
   "metadata": {},
   "source": [
    "If I translate my data..."
   ]
  },
  {
   "cell_type": "code",
   "execution_count": 33,
   "id": "b3097309-4b2c-48c5-8318-77427d93b407",
   "metadata": {
    "tags": []
   },
   "outputs": [
    {
     "data": {
      "text/plain": [
       "array([[ 0, 29,  1],\n",
       "       [10, 27,  1]])"
      ]
     },
     "execution_count": 33,
     "metadata": {},
     "output_type": "execute_result"
    }
   ],
   "source": [
    "(translate@data.T).T"
   ]
  },
  {
   "cell_type": "markdown",
   "id": "9955cb6e-7bc9-4ed4-91b5-bd3e2c9c5b75",
   "metadata": {},
   "source": [
    "If I scale my data..."
   ]
  },
  {
   "cell_type": "code",
   "execution_count": 34,
   "id": "8d22a17e-5aa8-4e2c-93c4-83bab10e1baa",
   "metadata": {
    "tags": []
   },
   "outputs": [
    {
     "data": {
      "text/plain": [
       "array([[20.,  2.,  1.],\n",
       "       [40.,  1.,  1.]])"
      ]
     },
     "execution_count": 34,
     "metadata": {},
     "output_type": "execute_result"
    }
   ],
   "source": [
    "(scale@data.T).T"
   ]
  },
  {
   "cell_type": "markdown",
   "id": "e93ffcf6-e9cb-4772-8880-28d336b3dcea",
   "metadata": {},
   "source": [
    "If I translate then scale then transform my data..."
   ]
  },
  {
   "cell_type": "code",
   "execution_count": 31,
   "id": "b94b5293-1a99-480f-aa62-3a0a4f825165",
   "metadata": {
    "tags": []
   },
   "outputs": [
    {
     "data": {
      "text/plain": [
       "array([[10., 27.,  1.],\n",
       "       [30., 26.,  1.]])"
      ]
     },
     "execution_count": 31,
     "metadata": {},
     "output_type": "execute_result"
    }
   ],
   "source": [
    "((translate@scale)@data.T).T"
   ]
  },
  {
   "cell_type": "markdown",
   "id": "d95198d7-4415-4b80-90fa-e9578e85caae",
   "metadata": {},
   "source": [
    "If I scale then translate then transform my data..."
   ]
  },
  {
   "cell_type": "code",
   "execution_count": 32,
   "id": "0ab82474-9338-42c2-9878-ba3ad4eb6370",
   "metadata": {
    "tags": []
   },
   "outputs": [
    {
     "name": "stdout",
     "output_type": "stream",
     "text": [
      "[[10  4  1]\n",
      " [20  2  1]]\n"
     ]
    },
    {
     "data": {
      "text/plain": [
       "array([[ 0. , 14.5,  1. ],\n",
       "       [20. , 13.5,  1. ]])"
      ]
     },
     "execution_count": 32,
     "metadata": {},
     "output_type": "execute_result"
    }
   ],
   "source": [
    "print(data)\n",
    "((scale@translate)@data.T).T"
   ]
  },
  {
   "cell_type": "markdown",
   "id": "27d336d5-c9e2-4d2f-9ad0-2ac7e0aba506",
   "metadata": {},
   "source": [
    "So matrix multiplication is **associative** but not **commutative**:\n",
    "* (A@B)@C = A@(B@C) but\n",
    "* A@B != B@A"
   ]
  },
  {
   "cell_type": "markdown",
   "id": "7b67ebd6-5b23-4fb2-88cc-87321a5b3031",
   "metadata": {},
   "source": [
    "Which order do you think is a better interpretation of the question in the quiz?\n",
    "\n",
    "Take home message: **know the order in which you want your transformations done**."
   ]
  },
  {
   "cell_type": "code",
   "execution_count": null,
   "id": "9962f9d1-6b70-4c19-aa04-bca48282eb80",
   "metadata": {},
   "outputs": [],
   "source": []
  }
 ],
 "metadata": {
  "kernelspec": {
   "display_name": "Python 3 (ipykernel)",
   "language": "python",
   "name": "python3"
  },
  "language_info": {
   "codemirror_mode": {
    "name": "ipython",
    "version": 3
   },
   "file_extension": ".py",
   "mimetype": "text/x-python",
   "name": "python",
   "nbconvert_exporter": "python",
   "pygments_lexer": "ipython3",
   "version": "3.10.9"
  }
 },
 "nbformat": 4,
 "nbformat_minor": 5
}
