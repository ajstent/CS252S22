{
 "cells": [
  {
   "attachments": {},
   "cell_type": "markdown",
   "metadata": {},
   "source": [
    "# Rotation in 2D"
   ]
  },
  {
   "attachments": {},
   "cell_type": "markdown",
   "metadata": {},
   "source": [
    "Why would I want to *rotate* my data?\n",
    "1. To see it better\n",
    "2. For **data augmentation** (e.g. https://blog.roboflow.com/why-and-how-to-implement-random-rotate-data-augmentation/)"
   ]
  },
  {
   "attachments": {},
   "cell_type": "markdown",
   "metadata": {},
   "source": [
    "The 2D rotation matrix for rotating a data point by $\\theta$ radians is:\n",
    "$$\\begin{pmatrix} cos(\\theta) & -sin(\\theta) \\\\ sin(\\theta) & cos(\\theta)  \\end{pmatrix}$$\n",
    "\n",
    "Let's figure out *why* this is so."
   ]
  },
  {
   "attachments": {
    "image.png": {
     "image/png": "[encoded data removed]"
    }
   },
   "cell_type": "markdown",
   "metadata": {},
   "source": [
    "## A little trigonometry\n",
    "\n",
    "### The definitions of sin, cos and tan:\n",
    "\n",
    "![image.png](attachment:image.png)\n",
    "\n",
    "*Image from https://www.mathsisfun.com/sine-cosine-tangent.html*\n",
    "\n",
    "### Degrees and radians\n",
    "\n",
    "$\\pi$ radians = 180 degrees (see https://www.mathsisfun.com/geometry/radians.html).\n",
    "\n",
    "### Some trigonometry identities\n",
    "\n",
    "* $sin(\\alpha\\pm\\beta) = sin(\\alpha)cos(\\beta) \\pm cos(\\alpha)sin(\\beta)$\n",
    "* $cos(\\alpha\\pm\\beta) = cos(\\alpha)cos(\\beta) \\mp sin(\\alpha)sin(\\beta)$\n",
    "\n",
    "(For a picture representation of these, see https://en.wikipedia.org/wiki/List_of_trigonometric_identities.)"
   ]
  },
  {
   "attachments": {},
   "cell_type": "markdown",
   "metadata": {},
   "source": [
    "## Okay, let's figure it out\n",
    "\n",
    "Look at this diagram:\n",
    "\n",
    "<img src=\"https://articulatedrobotics.xyz/media/assets/posts/transforms/rotations_2d_b.png\" alt=\"drawing\" width=\"200\"/>\n",
    "\n",
    "*From https://articulatedrobotics.xyz/transformations-3-rotation_matrices_2d/*\n",
    "\n",
    "Our data point is $\\begin{pmatrix} x_1 \\\\ y_1 \\end{pmatrix}$ and we want to rotate it to $\\begin{pmatrix} x_2 \\\\ y_2 \\end{pmatrix}$.\n",
    "\n",
    "So we need to solve:\n",
    "$\\begin{pmatrix} x_2 \\\\ y_2 \\end{pmatrix} = \\begin{pmatrix} a & b \\\\ c & d \\end{pmatrix} \\begin{pmatrix} x_1 \\\\ y_1 \\end{pmatrix}$"
   ]
  },
  {
   "attachments": {},
   "cell_type": "markdown",
   "metadata": {},
   "source": [
    "### $x_1, y_1$\n",
    "\n",
    "Now $x_1$ is the \"Adjacent\" of the green triangle in the diagram, so $x_1 = h * cos(\\phi)$.\n",
    "\n",
    "And $y_1$ is the \"Opposite\" of the green triangle in the diagram, so $y_1 = ??$ (You fill it in!)."
   ]
  },
  {
   "attachments": {},
   "cell_type": "markdown",
   "metadata": {},
   "source": [
    "### $x_2, y_2$\n",
    "\n",
    "Similarly, $x_2$ is the \"Adjacent\" of the red triangle in the diagram, so it can be written as $??$ (You fill it in!).\n",
    "\n",
    "And $y_2$ can be written as $??$ (You fill it in!)."
   ]
  },
  {
   "attachments": {},
   "cell_type": "markdown",
   "metadata": {},
   "source": [
    "### Expanding\n",
    "\n",
    "Using the trigonometric identities I reminded you about earlier, we can rewrite:\n",
    "* $x_2$ as $??$ (You fill it in!)\n",
    "* $y_2$ as $??$ (You fill it in!)"
   ]
  },
  {
   "attachments": {},
   "cell_type": "markdown",
   "metadata": {},
   "source": [
    "### Finishing up\n",
    "\n",
    "Now we can reverse-matrix-multiply (pull out $x_1$ and $y_1$) and we get:\n",
    "\n",
    "$\\begin{pmatrix}x_2 \\\\ y_2 \\end{pmatrix} = \\begin{pmatrix} cos(\\theta) & -sin(\\theta) \\\\ sin(\\theta) & cos(\\theta)  \\end{pmatrix} \\begin{pmatrix}x_1 \\\\ y_1 \\end{pmatrix}$\n"
   ]
  },
  {
   "attachments": {},
   "cell_type": "markdown",
   "metadata": {},
   "source": [
    "## Let's play with it\n",
    "\n",
    "And notice you can easily combine it with a scaling transformation!\n",
    "\n",
    "https://www.cs.usfca.edu/~galles/visualization/RotateScale2D.html"
   ]
  },
  {
   "attachments": {},
   "cell_type": "markdown",
   "metadata": {},
   "source": [
    "## Okay, now on our car data"
   ]
  },
  {
   "cell_type": "code",
   "execution_count": null,
   "metadata": {},
   "outputs": [],
   "source": [
    "import numpy as np\n",
    "import pandas as pd\n",
    "import seaborn as sns"
   ]
  },
  {
   "cell_type": "code",
   "execution_count": null,
   "metadata": {},
   "outputs": [],
   "source": [
    "# For today we only care about price and year\n",
    "data = np.array(np.genfromtxt('data/vehiclesNumeric.csv', delimiter=',', skip_header=1, dtype=int, encoding=\"utf-8\", usecols=[1,2]))  \n",
    "\n",
    "# let's just keep 100 rows\n",
    "data = data[100:200, :]\n",
    "\n",
    "# get a pandas dataframe for plotting\n",
    "df = pd.DataFrame(data, columns=[\"price\", \"year\"])"
   ]
  },
  {
   "cell_type": "code",
   "execution_count": null,
   "metadata": {},
   "outputs": [],
   "source": [
    "def getSummaryStatistics(data):\n",
    "    print(\"min, max, mean, std per variable\")\n",
    "    return pd.DataFrame([data.min(axis=0), data.max(axis=0), data.mean(axis=0), data.std(axis=0)])\n",
    "\n",
    "def getShapeType(data):\n",
    "    print(\"shape\")\n",
    "    return (data.shape, data.dtype)\n",
    "\n",
    "print(getSummaryStatistics(data))\n",
    "print(getShapeType(data))"
   ]
  },
  {
   "cell_type": "code",
   "execution_count": null,
   "metadata": {},
   "outputs": [],
   "source": [
    "def plot2d(data):\n",
    "    sns.scatterplot(pd.DataFrame(data[:, [0, 1]], columns=[\"price\", \"year\"]), x=\"year\", y=\"price\").set(title=\"Year vs price for Craigslist used car listings\")\n",
    "    \n",
    "plot2d(data)"
   ]
  },
  {
   "cell_type": "code",
   "execution_count": null,
   "metadata": {},
   "outputs": [],
   "source": [
    "rotateTransform = np.array([np.cos(np.radians(270)), -np.sin(np.radians(270)), np.sin(np.radians(270)), np.cos(np.radians(270))]).reshape(2, 2)\n",
    "print(\"transformMatrix\")\n",
    "print(getShapeType(rotateTransform))\n",
    "print(rotateTransform)\n",
    "\n",
    "rotatedData = (rotateTransform@data.T).T\n",
    "print(\"after rotating, rotatedData\")\n",
    "print(getSummaryStatistics(rotatedData))\n",
    "print(getShapeType(rotatedData))\n",
    "plot2d(rotatedData)"
   ]
  },
  {
   "attachments": {},
   "cell_type": "markdown",
   "metadata": {},
   "source": [
    "## Challenges\n",
    "\n",
    "How would you do two successive rotations?\n",
    "\n",
    "How would you do - in one step - a rotation, scaling, *and* translation? What would you have to change about the rotation matrix?"
   ]
  }
 ],
 "metadata": {
  "kernelspec": {
   "display_name": "Python 3",
   "language": "python",
   "name": "python3"
  },
  "language_info": {
   "codemirror_mode": {
    "name": "ipython",
    "version": 3
   },
   "file_extension": ".py",
   "mimetype": "text/x-python",
   "name": "python",
   "nbconvert_exporter": "python",
   "pygments_lexer": "ipython3",
   "version": "3.10.4"
  },
  "orig_nbformat": 4,
  "vscode": {
   "interpreter": {
    "hash": "3ad933181bd8a04b432d3370b9dc3b0662ad032c4dfaa4e4f1596c548f763858"
   }
  }
 },
 "nbformat": 4,
 "nbformat_minor": 2
}
