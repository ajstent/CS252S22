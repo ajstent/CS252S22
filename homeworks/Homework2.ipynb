{
 "cells": [
  {
   "cell_type": "code",
   "execution_count": 1,
   "id": "db3292bc",
   "metadata": {},
   "outputs": [],
   "source": [
    "import numpy as np\n",
    "\n",
    "data = np.array([2.1, 3.2, 4.3, 5.4, 6.5, 7.6, 7.8, 6.7, 5.6, 4.5, 3.4, 2.3])"
   ]
  },
  {
   "cell_type": "code",
   "execution_count": null,
   "id": "7feb1357",
   "metadata": {},
   "outputs": [],
   "source": [
    "# reverse sort\n",
    "np.sort(data)[::-1]\n",
    "# or np.flip(np.sort(data))\n",
    "# or [creative!] -np.sort(-data)"
   ]
  },
  {
   "cell_type": "code",
   "execution_count": null,
   "id": "44920c5e",
   "metadata": {},
   "outputs": [],
   "source": [
    "# coerce to ints\n",
    "data.astype(int)\n",
    "# or np.array(data, dtype=int)"
   ]
  },
  {
   "cell_type": "code",
   "execution_count": null,
   "id": "178c648f",
   "metadata": {},
   "outputs": [],
   "source": [
    "# multiply by 3\n",
    "data*3\n",
    "# or np.multiply(data, 3)"
   ]
  },
  {
   "cell_type": "code",
   "execution_count": null,
   "id": "aea6a388",
   "metadata": {},
   "outputs": [],
   "source": [
    "# reverse\n",
    "np.flip(data)\n",
    "# or data[::-1]"
   ]
  },
  {
   "cell_type": "code",
   "execution_count": null,
   "id": "4a7c0658",
   "metadata": {},
   "outputs": [],
   "source": [
    "# convert to a 2-d array\n",
    "data.reshape(2, 6)\n",
    "# or np.reshape(data, (2, 6))\n",
    "# or [yes, I did forget to specify which was the long dimension!] np.reshape(data, (-1, 2))"
   ]
  },
  {
   "cell_type": "code",
   "execution_count": null,
   "id": "3b295e54",
   "metadata": {},
   "outputs": [],
   "source": []
  }
 ],
 "metadata": {
  "kernelspec": {
   "display_name": "Python 3 (ipykernel)",
   "language": "python",
   "name": "python3"
  },
  "language_info": {
   "codemirror_mode": {
    "name": "ipython",
    "version": 3
   },
   "file_extension": ".py",
   "mimetype": "text/x-python",
   "name": "python",
   "nbconvert_exporter": "python",
   "pygments_lexer": "ipython3",
   "version": "3.9.7"
  }
 },
 "nbformat": 4,
 "nbformat_minor": 5
}
