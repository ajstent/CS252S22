{
 "cells": [
  {
   "attachments": {},
   "cell_type": "markdown",
   "id": "6e185107",
   "metadata": {},
   "source": [
    "# Quiz"
   ]
  },
  {
   "cell_type": "code",
   "execution_count": 2,
   "id": "f4e3e712",
   "metadata": {},
   "outputs": [],
   "source": [
    "import numpy as np\n",
    "import pandas as pd\n",
    "import matplotlib.pyplot as plt\n",
    "import seaborn\n",
    "import scipy.linalg as sp_la"
   ]
  },
  {
   "attachments": {},
   "cell_type": "markdown",
   "id": "205d74de",
   "metadata": {},
   "source": [
    "# Covariance\n",
    "\n",
    "As we know from the discussion on Wednesday, independent variables can be correlated not only with the dependent variable but also *with each other*. The degree of correlation tells us how much and in which direction they vary. Formally, the correlation of two variables $x$ and $y$ is $\\frac{(x-\\mu_x)(y-\\mu_y)}{\\sigma_x\\sigma_y}$.\n",
    "\n",
    "We can also talk about a related concept, *covariance*. The covariance of two variables $x$ and $y$ is $(x-\\mu_x)(y-\\mu_y)$.\n",
    "* The covariance of a $x$ with itself is just the variance of $x$. This is in contrast to the correlation of $x$ with itself, which is always 1.\n",
    "\n",
    "The *covariance matrix* of a data set tells us about the first order covariance relationships between all pairs of variables. The covariance matrix has the variance of each variable along its diagonal, and the remaining entries are the *covariances* of pairs of variables, ie how much they vary together. If they vary together, then they are related to each other - some information is shared between them."
   ]
  },
  {
   "cell_type": "markdown",
   "id": "3215a517",
   "metadata": {},
   "source": [
    "Questions:\n",
    "* If the covariance is close to 0, then what is true of the pair of features?\n",
    "* If the covariance is big, then what is true of the pair of features?\n",
    "* Correlations can be positive or negative; what about covariances?"
   ]
  },
  {
   "attachments": {},
   "cell_type": "markdown",
   "id": "f3e5d95e",
   "metadata": {},
   "source": [
    "We can calculate covariance using matrix multiplication:\n",
    "* First, center the data: $A_c = A - \\mu_A$\n",
    "* Then, calculate $C$: $C = \\frac{1}{N-1} A_c^TA_c$"
   ]
  },
  {
   "cell_type": "markdown",
   "id": "69849196",
   "metadata": {},
   "source": [
    "Let's look at some toy examples (h/t Stephanie Taylor!)"
   ]
  },
  {
   "attachments": {},
   "cell_type": "markdown",
   "id": "2bc240a5",
   "metadata": {},
   "source": [
    "## Example 1\n",
    "\n",
    "These two variables co-vary."
   ]
  },
  {
   "cell_type": "code",
   "execution_count": 3,
   "id": "46693777",
   "metadata": {},
   "outputs": [
    {
     "data": {
      "text/plain": [
       "array([[1. , 1.1],\n",
       "       [2. , 2.1],\n",
       "       [3. , 3. ],\n",
       "       [0. , 0.5]])"
      ]
     },
     "execution_count": 3,
     "metadata": {},
     "output_type": "execute_result"
    }
   ],
   "source": [
    "A = np.array([[1,2,3,0], [1.1, 2.1, 3, 0.5]]).T\n",
    "A"
   ]
  },
  {
   "cell_type": "code",
   "execution_count": 4,
   "id": "55e8643e",
   "metadata": {},
   "outputs": [
    {
     "name": "stdout",
     "output_type": "stream",
     "text": [
      "[[1.66666667 1.41666667]\n",
      " [1.41666667 1.21583333]]\n"
     ]
    }
   ],
   "source": [
    "# First, center the data\n",
    "def centerData(data):\n",
    "    return data - data.mean(axis=0)\n",
    "\n",
    "# Then, calculate C\n",
    "def covarMatrix(data):\n",
    "    centered = centerData(data)\n",
    "    return (centered.T@centered) / (len(centered)-1) # or centered.shape[0] - 1\n",
    "\n",
    "print(covarMatrix(A))"
   ]
  },
  {
   "attachments": {},
   "cell_type": "markdown",
   "id": "92da1cd2",
   "metadata": {},
   "source": [
    "*What do we observe about the variance of X? of Y? What about the covariance?*"
   ]
  },
  {
   "attachments": {},
   "cell_type": "markdown",
   "id": "8b6b48f7",
   "metadata": {},
   "source": [
    "## Example 2\n",
    "\n",
    "This is just like before by the values of $Y$ are now negative."
   ]
  },
  {
   "cell_type": "code",
   "execution_count": 5,
   "id": "4b855c06",
   "metadata": {},
   "outputs": [
    {
     "data": {
      "text/plain": [
       "array([[ 1. , -1.1],\n",
       "       [ 2. , -2.1],\n",
       "       [ 3. , -3. ],\n",
       "       [ 0. , -0.5]])"
      ]
     },
     "execution_count": 5,
     "metadata": {},
     "output_type": "execute_result"
    }
   ],
   "source": [
    "A = np.array([[1,2,3,0], [-1.1, -2.1, -3, -0.5]]).T\n",
    "A"
   ]
  },
  {
   "cell_type": "code",
   "execution_count": 6,
   "id": "0939c60b",
   "metadata": {},
   "outputs": [
    {
     "name": "stdout",
     "output_type": "stream",
     "text": [
      "[[ 1.66666667 -1.41666667]\n",
      " [-1.41666667  1.21583333]]\n"
     ]
    }
   ],
   "source": [
    "# Center the data and calculate C\n",
    "print(covarMatrix(A))"
   ]
  },
  {
   "attachments": {},
   "cell_type": "markdown",
   "id": "5d6b2799",
   "metadata": {},
   "source": [
    "*What do we observe about the variance of X? of Y? What about the covariance?*"
   ]
  },
  {
   "attachments": {},
   "cell_type": "markdown",
   "id": "20b33084",
   "metadata": {},
   "source": [
    "## Example 3\n",
    "\n",
    "The values of $X$ and $Y$ are now random."
   ]
  },
  {
   "cell_type": "code",
   "execution_count": 7,
   "id": "9ea344ce",
   "metadata": {},
   "outputs": [
    {
     "data": {
      "text/plain": [
       "array([[ 0.02517631,  0.76823332],\n",
       "       [-0.283427  , -0.19874067],\n",
       "       [ 0.54425035, -1.53004795],\n",
       "       [ 1.12842456,  0.44428562]])"
      ]
     },
     "execution_count": 7,
     "metadata": {},
     "output_type": "execute_result"
    }
   ],
   "source": [
    "A = np.array([np.random.standard_normal(4), np.random.standard_normal(4)]).T\n",
    "A"
   ]
  },
  {
   "cell_type": "code",
   "execution_count": 8,
   "id": "c1099060",
   "metadata": {},
   "outputs": [
    {
     "name": "stdout",
     "output_type": "stream",
     "text": [
      "[[ 0.38345539 -0.02438683]\n",
      " [-0.02438683  1.03382771]]\n"
     ]
    }
   ],
   "source": [
    "# Center the data and calculate C\n",
    "print(covarMatrix(A))"
   ]
  },
  {
   "attachments": {},
   "cell_type": "markdown",
   "id": "4aea489c",
   "metadata": {},
   "source": [
    "*What do we observe about the variance of X? of Y? What about the covariance?*"
   ]
  },
  {
   "attachments": {},
   "cell_type": "markdown",
   "id": "6ddd26c5",
   "metadata": {},
   "source": [
    "## On our data"
   ]
  },
  {
   "attachments": {},
   "cell_type": "markdown",
   "id": "1ea4cde7",
   "metadata": {},
   "source": [
    "Same code as Wednesday!"
   ]
  },
  {
   "cell_type": "code",
   "execution_count": 9,
   "id": "5e93779a",
   "metadata": {},
   "outputs": [],
   "source": [
    "import numpy as np\n",
    "import pandas as pd\n",
    "import matplotlib.pyplot as plt\n",
    "import seaborn\n",
    "import scipy.linalg as sp_la"
   ]
  },
  {
   "cell_type": "code",
   "execution_count": 10,
   "id": "39a7755d",
   "metadata": {},
   "outputs": [],
   "source": [
    "# these will be our columns\n",
    "columns = [\"price\", \"year\", \"manufacturer\", \"model\", \"condition\", \"fuel\", \"odometer\", \"title_status\", \"transmission\"]\n",
    "# this will contain our converters\n",
    "colValues = {}\n",
    "\n",
    "# first we load our data as strings so we can define the converters\n",
    "data = np.array(np.genfromtxt('data/vehicles.csv', delimiter=',', usecols=(1,2,3,4,5,7,8,9,11), skip_header=1, dtype=str, encoding='utf-8'))  \n",
    "\n",
    "# make a list of the unique values in each column of our data\n",
    "for colIndex in range(data.shape[1]):\n",
    "    colValues[colIndex] = np.unique(data[:, colIndex]).tolist()\n",
    "\n",
    "# fix up some of these ones we know are ordered\n",
    "colValues[columns.index('condition')] = ['new', 'like new', 'excellent', 'good', 'fair', 'salvage']\n",
    "colValues[columns.index('title_status')] = ['clean', 'lien', 'rebuilt', 'salvage', 'parts only', 'missing']\n",
    "\n",
    "# map values to their indices in the list of unique values\n",
    "def converter(x, colIndex):\n",
    "    return colValues[colIndex].index(x)\n",
    "\n",
    "data = np.array(np.genfromtxt('data/vehicles.csv', delimiter=',', usecols=(1,2,3,4,5,7,8,9,11), converters={3: lambda x: converter(x, 2), 4: lambda x: converter(x, 3), 5: lambda x: converter(x, 4), 7: lambda x: converter(x,5), 9: lambda x: converter(x, 7), 11: lambda x: converter(x, 8)}, skip_header=1, dtype=int, encoding='utf-8'))  "
   ]
  },
  {
   "cell_type": "code",
   "execution_count": 11,
   "id": "07d8517a",
   "metadata": {},
   "outputs": [
    {
     "name": "stdout",
     "output_type": "stream",
     "text": [
      "              0              1            2              3             4  \\\n",
      "0  3.073355e+07   12427.290941    49.662629   66503.533053   -968.026677   \n",
      "1  1.242729e+04      15.981452     0.296067      -6.115148     -0.960249   \n",
      "2  4.966263e+01       0.296067     0.247112       9.303841     -0.035717   \n",
      "3  6.650353e+04      -6.115148     9.303841    9249.817841      0.309932   \n",
      "4 -9.680267e+02      -0.960249    -0.035717       0.309932      0.520323   \n",
      "5  2.490878e+01       0.028859    -0.001069      -0.367051     -0.001921   \n",
      "6 -1.796026e+08 -191860.673011 -3775.923497 -823062.498000  23604.907696   \n",
      "7  1.567459e+01       0.161814     0.002689      -0.593167      0.007900   \n",
      "8 -3.472057e+02      -0.019850     0.002552     -10.410080      0.003011   \n",
      "\n",
      "            5             6            7           8  \n",
      "0   24.908781 -1.796026e+08    15.674592 -347.205734  \n",
      "1    0.028859 -1.918607e+05     0.161814   -0.019850  \n",
      "2   -0.001069 -3.775923e+03     0.002689    0.002552  \n",
      "3   -0.367051 -8.230625e+05    -0.593167  -10.410080  \n",
      "4   -0.001921  2.360491e+04     0.007900    0.003011  \n",
      "5    0.019170 -2.751123e+02     0.000465    0.002347  \n",
      "6 -275.112298  6.485002e+10 -3453.352279  881.937562  \n",
      "7    0.000465 -3.453352e+03     0.253516    0.012508  \n",
      "8    0.002347  8.819376e+02     0.012508    0.180121  \n"
     ]
    }
   ],
   "source": [
    "# Center the data and calculate C\n",
    "C = covarMatrix(data)\n",
    "\n",
    "# I want to see it better!\n",
    "print(pd.DataFrame(C))"
   ]
  },
  {
   "attachments": {},
   "cell_type": "markdown",
   "id": "51ee8fcf",
   "metadata": {},
   "source": [
    "*What do we observe?*"
   ]
  },
  {
   "attachments": {},
   "cell_type": "markdown",
   "id": "0a1a09cd",
   "metadata": {},
   "source": [
    "## Warning\n",
    "\n",
    "This is a thing that will calculate the covariance matrix for you, but you *may not use it* for your project: np.cov"
   ]
  },
  {
   "attachments": {},
   "cell_type": "markdown",
   "id": "fe3d8959",
   "metadata": {},
   "source": [
    "# The curse of dimensionality\n",
    "\n",
    "When data is very multidimensional, everything becomes slower and more complicated:\n",
    "* How can you look at your data? There's too much there!\n",
    "* How can you normalize your data? Without being able to look at it, what normalizations would you know to apply?\n",
    "* How can you fit a regression to your data? Which variables would you choose?\n",
    "\n",
    "In fact, data in a high dimensional space just is different:\n",
    "* there are more extreme values. In a 2 dimensional unit square, the probability that a random point is within 0.001 of the border is 0.004, but in a 10000 dimensional unit hypercube, the probability is > 0.999.\n",
    "* the distances between points are bigger. In a 2 dimensional unit square, the average distance between two points is about 0.5. In a 3 dimensional unit cube, it's 0.66. But in a 10000 dimensional unit hypercube, it's about 408.25.\n",
    "\n",
    "Here's the thing though: generally, only a small fraction of variables in a data set suffice to model the whole. For example, very often many features do covary. So we can use covariance information to *project* our data to a much smaller dimensional space and analyze the data in that space instead. The technique we will use for that is *principal component analysis* (PCA)."
   ]
  }
 ],
 "metadata": {
  "kernelspec": {
   "display_name": "Python 3 (ipykernel)",
   "language": "python",
   "name": "python3"
  },
  "language_info": {
   "codemirror_mode": {
    "name": "ipython",
    "version": 3
   },
   "file_extension": ".py",
   "mimetype": "text/x-python",
   "name": "python",
   "nbconvert_exporter": "python",
   "pygments_lexer": "ipython3",
   "version": "3.10.4"
  }
 },
 "nbformat": 4,
 "nbformat_minor": 5
}
