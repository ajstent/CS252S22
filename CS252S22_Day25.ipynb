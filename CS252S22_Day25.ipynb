{
 "cells": [
  {
   "cell_type": "markdown",
   "id": "005ed103",
   "metadata": {},
   "source": [
    "# Review of probability; Bayes' rule\n",
    "\n",
    "Today we are going to review terminology for talking about probabilities, and then talk about Bayes' rule. \n",
    "\n",
    "How is this relevant to data analysis, particularly machine learning? Compare the two small data sets below. In each case, the last column is the dependent variable. What is the relationship between the dependent and independent variables in each case?"
   ]
  },
  {
   "cell_type": "code",
   "execution_count": 23,
   "id": "413f190d",
   "metadata": {},
   "outputs": [
    {
     "name": "stdout",
     "output_type": "stream",
     "text": [
      "A: [[3 2]\n",
      " [3 4]\n",
      " [4 1]\n",
      " [2 3]\n",
      " [1 1]\n",
      " [4 3]\n",
      " [2 4]\n",
      " [1 2]] \n",
      " B: [[3 3]\n",
      " [3 3]\n",
      " [4 4]\n",
      " [2 2]\n",
      " [1 1]\n",
      " [4 4]\n",
      " [2 2]\n",
      " [1 1]]\n"
     ]
    }
   ],
   "source": [
    "import numpy as np\n",
    "\n",
    "A = np.array([[3,3,4,2,1,4,2,1], [2,4,1,3,1,3,4,2]]).T\n",
    "\n",
    "B = np.array([A[:, 0], A[:, 0]]).T\n",
    "print(\"A:\", A, \"\\n\", \"B:\", B)"
   ]
  },
  {
   "cell_type": "markdown",
   "id": "cceb4970",
   "metadata": {},
   "source": [
    "Now, in data analysis we very rarely have *all the data*. In most cases, we have a *sample* of the data that we assume / hope / know to be big enough to generalize over. \n",
    "\n",
    "If dataset A (or B) above were *all the data* we could calculate actual probabilities; for example, the probability that A[0, 0] = 4. \n",
    "\n",
    "Even if A (or B) is a *sample* of the data, we still calculate relative frequencies, and if the sample is large enough they will approximate probabilities. \n",
    "\n",
    "So let's review some basic probability terminology."
   ]
  },
  {
   "cell_type": "markdown",
   "id": "9c667399",
   "metadata": {},
   "source": [
    "* Independent probabilities if P(A,B) = P(A)*P(B)\n",
    "* Conditional probabilities if not"
   ]
  },
  {
   "cell_type": "markdown",
   "id": "edd90cd9",
   "metadata": {},
   "source": [
    "## Bayes' rule\n",
    "\n",
    "Let's talk about the probability that A[0, 1] = 1 *and* A[0, 0] = 1:$P(A[0,0] = 1, A[0,1] = 1)$.\n",
    "* Consider A[0,0] first. $P(A[0,0]=1) = 1/4$. Now *if* it A[0,0] = 1, what is the probability that A[0,1] = 1? In other words, what is $P(A[0,1]=1|A[0,0]=1)$? Well, $P(A[0,1]=1|A[0,0]=1) = 1/2$. So $P(A[0,0] = 1, A[0,1] = 1) = P(A[0,0]=1)*P(A[0,1]=1|A[0,0]=1) = 1/4*1/2$.\n",
    "* Now consider A[0,1] first. $P(A[0,1]=1) = 1/4$. Now *if* it A[0,1] = 1, what is the probability that A[0,0] = 1? In other words, what is $P(A[0,0]=1|A[0,1]=1)$? Well, $P(A[0,0]=1|A[0,1]=1) = 1/2$. So $P(A[0,0] = 1, A[0,1] = 1) = P(A[0,1]=1)*P(A[0,0]=1|A[0,1]=1) = 1/4*1/2$.\n",
    "\n",
    "So it works both ways! In other words, $P(X,Y) = P(X)*P(Y|X) = P(Y)*P(X|Y)$. So $P(Y|X) = \\frac{P(Y)*P(X|Y)}{P(X)}$. \n",
    "\n",
    "And that is Bayes' rule."
   ]
  },
  {
   "cell_type": "markdown",
   "id": "401ab8b9",
   "metadata": {},
   "source": [
    "Let's cover some more terminology. In Bayes' rule, one part each corresponds to the:\n",
    "* prior\n",
    "* likelihood\n",
    "* posterior\n",
    "* evidence (or normalization)\n",
    "\n",
    "Match the part to the label:\n",
    "* P(Y|X) <- posterior\n",
    "* P(Y) <- prior\n",
    "* P(X|Y) <- likelihood\n",
    "* P(X) <- evidence (or normalization)"
   ]
  },
  {
   "cell_type": "markdown",
   "id": "1a282e0e",
   "metadata": {},
   "source": [
    "## Bayes' rule example\n",
    "\n",
    "Now let's do an example using these tasty peanut M&Ms I have here. In my cup, there are three M&Ms. They might all be yellow, they might all be blue, or some of them might be yellow and some blue. In other words, here are the possibilities:\n",
    "* 3 blues, 0 yellows\n",
    "* 2 blues, 1 yellow\n",
    "* 1 blue, 2 yellows\n",
    "* 0 blues, 3 yellows\n",
    "\n",
    "I can draw *one* M&M from the cup, without looking. Then, *given* that one M&M, let's see if we can estimate the probability that there are 2 blues and 1 yellow:\n",
    "* $P(2b1y | 1b) = P(2b1y)*P(1b|2b1y) / P(1b)$. \n",
    "* $P(2b1y) = 1/4$.  \n",
    "* $P(1b|2b1y) = 2/3$.\n",
    "* $P(1b) = P(1b|3b0y)*P(3b0y) + P(1b|2b1y)*P(2b1y) + P(1b|1b2y)*P(1b2y) + P(1b|0b3y)*P(0b3y) = 1*1/4 + 2/3*1/4 + 1/3*1/4 + 0 = 1/2$.\n",
    "\n",
    "$P(2b1y | 1b) = (1/4*2/3) / (1/2) = 1/3$."
   ]
  },
  {
   "cell_type": "markdown",
   "id": "68343e79",
   "metadata": {},
   "source": [
    "Let's repeat for the other three possible outcomes:\n",
    "\n",
    "__1b2y__\n",
    "\n",
    "* $P(1b2y | 1b) = P(1b2y)*P(1b|1b2y) / P(1b)$. \n",
    "* $P(1b2y) = 1/4$.  \n",
    "* $P(1b|1b2y) = 1/3$.\n",
    "* $P(1b) = P(1b|3b0y)*P(3b0y) + P(1b|2b1y)*P(2b1y) + P(1b|1b2y)*P(1b2y) + P(1b|0b3y)*P(0b3y) = 1*1/4 + 2/3*1/4 + 1/3*1/4 + 0 = 1/2$.\n",
    "\n",
    "So $P(1b2y | 1b) = (1/4*1/3)/ (1/2) = 1/6$.\n",
    "\n",
    "__3b__\n",
    "* $P(3b0y | 1b) = P(3b0y)*P(1b|3b0y) / P(1b)$. \n",
    "* $P(3b0y) = 1/4$.  \n",
    "* $P(1b|3b0y) = 1$.\n",
    "* $P(1b) = P(1b|3b0y)*P(3b0y) + P(1b|2b1y)*P(2b1y) + P(1b|1b2y)*P(1b2y) + P(1b|0b3y)*P(0b3y) = 1*1/4 + 2/3*1/4 + 1/3*1/4 + 0 = 1/2$.\n",
    "\n",
    "So $P(3b0y | 1b) = (1/4*1)/ (1/2) = 1/2$.\n",
    "\n",
    "__3y__\n",
    "* $P(0b3y | 1b) = P(0b3y)*P(1b|0b3y) / P(1b)$. \n",
    "* $P(0b3y) = 1/4$.  \n",
    "* $P(1b|0b3y) = 0$.\n",
    "* $P(1b) = P(1b|3b0y)*P(3b0y) + P(1b|2b1y)*P(2b1y) + P(1b|1b2y)*P(1b2y) + P(1b|0b3y)*P(0b3y) = 1*1/4 + 2/3*1/4 + 1/3*1/4 + 0 = 1/2$.\n",
    "\n",
    "So $P(0b3y | 1b) = (1/4*0)/2 = 0$.\n",
    "\n",
    "Sanity check: does the sum of all four probabilities equal 1?"
   ]
  },
  {
   "cell_type": "markdown",
   "id": "71f10b3a",
   "metadata": {},
   "source": [
    "## Exercise \n",
    "\n",
    "Now you do one! Each of you will have a cup with *4* M&Ms. \n",
    "\n",
    "* What are the possible outcomes for color combinations in your cup?\n",
    "* Draw one M&M. Given this M&M, what is the probability of each combination of color combination in your cup?"
   ]
  },
  {
   "cell_type": "markdown",
   "id": "857c4a9b",
   "metadata": {},
   "source": [
    "## Fitting and predicting using Naive Bayes\n",
    "\n",
    "Let's imagine I have the dataset below. For the dependent variable (first column), I use \"1\" to represent *ate it* and \"0\" to represent *did not eat it*. For the independent variable (zeroth column), I use \"0\" to represent *peanut M&M*, \"1\" to represent *regular M&M* and \"2\" to represent *raisin M&M*.\n",
    "\n",
    "(Side note: we typically convert qualitative values to numbers for machine learning; it enables us to use all the power of numpy, at some cost in readability to humans.)"
   ]
  },
  {
   "cell_type": "code",
   "execution_count": 30,
   "id": "3ddcfa69",
   "metadata": {},
   "outputs": [
    {
     "name": "stdout",
     "output_type": "stream",
     "text": [
      "[[0 1]\n",
      " [0 1]\n",
      " [1 0]\n",
      " [2 0]\n",
      " [2 1]\n",
      " [1 0]\n",
      " [0 1]\n",
      " [1 0]\n",
      " [2 0]\n",
      " [2 0]\n",
      " [0 1]\n",
      " [0 0]\n",
      " [1 0]]\n"
     ]
    }
   ],
   "source": [
    "A = np.array([[0, 1], [0, 1], [1, 0], [2, 0], [2, 1], [1, 0], [0, 1], [1, 0], [2, 0], [2, 0], [0, 1], [0, 0], [1, 0]])\n",
    "print(A)"
   ]
  },
  {
   "cell_type": "markdown",
   "id": "90749bad",
   "metadata": {},
   "source": [
    "__Fit__\n",
    "\n",
    "* Calculate the likelihood of *ate it* given *peanut M&M*, of *ate it* given *regular M&M*, of *ate it* given *raisin M&M* and of *did not eat it* given each type of M&M.\n",
    "* Calculate the prior for *ate it* and the prior for *did not eat it*.\n",
    "\n",
    "Store both sets of values."
   ]
  },
  {
   "cell_type": "markdown",
   "id": "84203d0a",
   "metadata": {},
   "source": [
    "__Predict__\n",
    "\n",
    "Given a new observation, *peanut M&M*, what is my most likely behavior?\n",
    "\n",
    "* Calculate $P(ate it|peanut M&M)$ and $P(did not eat it|peanut M&M)$. Note that since $P(peanut M&M)$ is in the denominator in both cases, we can ignore it completely. So we only need the prior and the likelihood, both of which we calculated during __fit__.\n",
    "* Which is higher?\n",
    "\n"
   ]
  }
 ],
 "metadata": {
  "kernelspec": {
   "display_name": "Python 3 (ipykernel)",
   "language": "python",
   "name": "python3"
  },
  "language_info": {
   "codemirror_mode": {
    "name": "ipython",
    "version": 3
   },
   "file_extension": ".py",
   "mimetype": "text/x-python",
   "name": "python",
   "nbconvert_exporter": "python",
   "pygments_lexer": "ipython3",
   "version": "3.9.7"
  }
 },
 "nbformat": 4,
 "nbformat_minor": 5
}
