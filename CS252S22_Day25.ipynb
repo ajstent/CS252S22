{
 "cells": [
  {
   "cell_type": "markdown",
   "id": "b250b67f",
   "metadata": {},
   "source": [
    "# Review of probability; Bayes' rule\n",
    "\n",
    "Today we are going to review terminology for talking about probabilities, and then talk about Bayes' rule. \n",
    "\n",
    "How is this relevant to data analysis, particularly machine learning? Compare the two small data sets below. In each case, the last column is the dependent variable. What is the relationship between the dependent and independent variables in each case?"
   ]
  },
  {
   "cell_type": "code",
   "execution_count": 23,
   "id": "56c584dd",
   "metadata": {},
   "outputs": [
    {
     "name": "stdout",
     "output_type": "stream",
     "text": [
      "A: [[3 2]\n",
      " [3 4]\n",
      " [4 1]\n",
      " [2 3]\n",
      " [1 1]\n",
      " [4 3]\n",
      " [2 4]\n",
      " [1 2]] \n",
      " B: [[3 3]\n",
      " [3 3]\n",
      " [4 4]\n",
      " [2 2]\n",
      " [1 1]\n",
      " [4 4]\n",
      " [2 2]\n",
      " [1 1]]\n"
     ]
    }
   ],
   "source": [
    "import numpy as np\n",
    "\n",
    "A = np.array([[3,3,4,2,1,4,2,1], [2,4,1,3,1,3,4,2]]).T\n",
    "\n",
    "B = np.array([A[:, 0], A[:, 0]]).T\n",
    "print(\"A:\", A, \"\\n\", \"B:\", B)"
   ]
  },
  {
   "cell_type": "markdown",
   "id": "b94b3dec",
   "metadata": {},
   "source": [
    "Now, in data analysis we very rarely have *all the data*. In most cases, we have a *sample* of the data that we assume / hope / know to be big enough to generalize over. \n",
    "\n",
    "If dataset A (or B) above were *all the data* we could calculate actual probabilities; for example, the probability that A[0, 0] = 4. \n",
    "\n",
    "Even if A (or B) is a *sample* of the data, we still calculate relative frequencies, and if the sample is large enough they will approximate probabilities. \n",
    "\n",
    "So let's review some basic probability terminology."
   ]
  },
  {
   "cell_type": "markdown",
   "id": "ae44bff6",
   "metadata": {},
   "source": [
    "* Independent probabilities if P(A,B) = P(A)*P(B)\n",
    "* Conditional probabilities if not"
   ]
  },
  {
   "cell_type": "markdown",
   "id": "07cdb994",
   "metadata": {},
   "source": [
    "## Bayes' rule\n",
    "\n",
    "Let's talk about the probability that A[0, 1] = 1 *and* A[0, 0] = 1:$P(A[0,0] = 1, A[0,1] = 1)$.\n",
    "* Consider A[0,0] first. $P(A[0,0]=1) = 1/4$. Now *if* it A[0,0] = 1, what is the probability that A[0,1] = 1? In other words, what is $P(A[0,1]=1|A[0,0]=1)$? Well, $P(A[0,1]=1|A[0,0]=1) = 1/2$. So $P(A[0,0] = 1, A[0,1] = 1) = P(A[0,0]=1)*P(A[0,1]=1|A[0,0]=1) = 1/4*1/2$.\n",
    "* Now consider A[0,1] first. $P(A[0,1]=1) = 1/4$. Now *if* it A[0,1] = 1, what is the probability that A[0,0] = 1? In other words, what is $P(A[0,0]=1|A[0,1]=1)$? Well, $P(A[0,0]=1|A[0,1]=1) = 1/2$. So $P(A[0,0] = 1, A[0,1] = 1) = P(A[0,1]=1)*P(A[0,0]=1|A[0,1]=1) = 1/4*1/2$.\n",
    "\n",
    "So it works both ways! In other words, $P(X,Y) = P(X)*P(Y|X) = P(Y)*P(X|Y)$. So $P(Y|X) = \\frac{P(Y)*P(X|Y)}{P(X)}$. \n",
    "\n",
    "And that is Bayes' rule."
   ]
  },
  {
   "cell_type": "markdown",
   "id": "fc563be3",
   "metadata": {},
   "source": [
    "Let's cover some more terminology. In Bayes' rule, one part each corresponds to the:\n",
    "* prior\n",
    "* likelihood\n",
    "* posterior\n",
    "* evidence (or normalization)\n",
    "\n",
    "Match the part to the label:\n",
    "* P(Y|X) <- posterior\n",
    "* P(Y) <- prior\n",
    "* P(X|Y) <- likelihood\n",
    "* P(X) <- evidence (or normalization)"
   ]
  },
  {
   "cell_type": "markdown",
   "id": "76364429",
   "metadata": {},
   "source": [
    "## Bayes' rule example\n",
    "\n",
    "Now let's do an example using these tasty peanut M&Ms I have here. In my cup, there are three M&Ms. They might all be yellow, they might all be blue, or some of them might be yellow and some blue. In other words, here are the possibilities:\n",
    "* 3 blues, 0 yellows\n",
    "* 2 blues, 1 yellow\n",
    "* 1 blue, 2 yellows\n",
    "* 0 blues, 3 yellows\n",
    "\n",
    "I can draw *one* M&M from the cup, without looking. Then, *given* that one M&M, let's see if we can estimate the probability that there are 2 blues and 1 yellow:\n",
    "* $P(2b1y | 1b) = P(2b1y)*P(1b|2b1y) / P(1b)$. \n",
    "* $P(2b1y) = 1/4$.  \n",
    "* $P(1b|2b1y) = 2/3$.\n",
    "* $P(1b) = P(1b|3b0y)*P(3b0y) + P(1b|2b1y)*P(2b1y) + P(1b|1b2y)*P(1b2y) + P(1b|0b3y)*P(0b3y) = 1*1/4 + 2/3*1/4 + 1/3*1/4 + 0 = 1/2$.\n",
    "\n",
    "$P(2b1y | 1b) = (1/4*2/3) / (1/2) = 1/3$."
   ]
  },
  {
   "cell_type": "markdown",
   "id": "f42368bf",
   "metadata": {},
   "source": [
    "Let's repeat for the other three possible outcomes:\n",
    "\n",
    "__1b2y__\n",
    "\n",
    "* $P(1b2y | 1b) = P(1b2y)*P(1b|1b2y) / P(1b)$. \n",
    "* $P(1b2y) = 1/4$.  \n",
    "* $P(1b|1b2y) = 1/3$.\n",
    "* $P(1b) = P(1b|3b0y)*P(3b0y) + P(1b|2b1y)*P(2b1y) + P(1b|1b2y)*P(1b2y) + P(1b|0b3y)*P(0b3y) = 1*1/4 + 2/3*1/4 + 1/3*1/4 + 0 = 1/2$.\n",
    "\n",
    "So $P(1b2y | 1b) = (1/4*1/3)/ (1/2) = 1/6$.\n",
    "\n",
    "__3b__\n",
    "* $P(3b0y | 1b) = P(3b0y)*P(1b|3b0y) / P(1b)$. \n",
    "* $P(3b0y) = 1/4$.  \n",
    "* $P(1b|3b0y) = 1$.\n",
    "* $P(1b) = P(1b|3b0y)*P(3b0y) + P(1b|2b1y)*P(2b1y) + P(1b|1b2y)*P(1b2y) + P(1b|0b3y)*P(0b3y) = 1*1/4 + 2/3*1/4 + 1/3*1/4 + 0 = 1/2$.\n",
    "\n",
    "So $P(3b0y | 1b) = (1/4*1)/ (1/2) = 1/2$.\n",
    "\n",
    "__3y__\n",
    "* $P(0b3y | 1b) = P(0b3y)*P(1b|0b3y) / P(1b)$. \n",
    "* $P(0b3y) = 1/4$.  \n",
    "* $P(1b|0b3y) = 0$.\n",
    "* $P(1b) = P(1b|3b0y)*P(3b0y) + P(1b|2b1y)*P(2b1y) + P(1b|1b2y)*P(1b2y) + P(1b|0b3y)*P(0b3y) = 1*1/4 + 2/3*1/4 + 1/3*1/4 + 0 = 1/2$.\n",
    "\n",
    "So $P(0b3y | 1b) = (1/4*0)/2 = 0$.\n",
    "\n",
    "Sanity check: does the sum of all four probabilities equal 1?"
   ]
  },
  {
   "cell_type": "markdown",
   "id": "5414784d",
   "metadata": {},
   "source": [
    "## Exercise \n",
    "\n",
    "Now you do one! Each of you will have a cup with *4* M&Ms. \n",
    "\n",
    "* What are the possible outcomes for color combinations in your cup?\n",
    "* Draw one M&M. Given this M&M, what is the probability of each combination of color combination in your cup?\n",
    "\n",
    "Worked out below:\n",
    "\n",
    "* $P(1x) = P(1x|4x0y)*P(4x0y) + P(1x|3x1y)*P(3x1y) + P(1x|2x2y)*P(2x2y) + P(1x|1x3y)*P(1x3y) + P(1x|0x4y)*P(0x4y) = 1*1/5 + 3/4*1/5 + 1/2*1/5 + 1/4*1/5 + 0 = 1/5 + 3/20 + 1/10 + 1/20 = 1/2$.\n",
    "\n",
    "* $P(4x0y | 1x) = (P(4x0y)*P(1x|4x0y)) / P(1x)$. \n",
    "* $P(4x0y) = 1/5$ (possibilities: 4x0y, 3x1y, 2x2y, 1x3y, 0x4y)  \n",
    "* $P(1x|4x0y) = 1$.\n",
    "\n",
    "So $P(4x0y | 1x) = 1/5*1 / 1/2 = 2/5$.\n",
    "\n",
    "* $P(3x1y | 1x) = (P(3x1y)*P(1x|3x1y)) / P(1x)$. \n",
    "* $P(3x1y) = 1/5$ (possibilities: 4x0y, 3x1y, 2x2y, 1x3y, 0x4y)  \n",
    "* $P(1x|3x1y) = 3/4$.\n",
    "\n",
    "So $P(3x1y | 1x) = 1/5*3/4 / 1/2 = 3/10$.\n",
    "\n",
    "* $P(2x2y | 1x) = (P(2x2y)*P(1x|2x2y)) / P(1x)$. \n",
    "* $P(2x2y) = 1/5$ (possibilities: 4x0y, 3x1y, 2x2y, 1x3y, 0x4y)  \n",
    "* $P(1x|2x2y) = 1/2$.\n",
    "\n",
    "So $P(2x2y | 1x) = 1/5*1/2 / 1/2 = 1/5$.\n",
    "\n",
    "* $P(1x3y | 1x) = (P(1x3y)*P(1x|4x0y)) / P(1x)$. \n",
    "* $P(1x3y) = 1/5$ (possibilities: 4x0y, 3x1y, 2x2y, 1x3y, 0x4y)  \n",
    "* $P(1x|1x3y) = 1/4$.\n",
    "\n",
    "So $P(1x3y | 1x) = 1/5*1/4 / 1/2 = 1/10$.\n",
    "\n",
    "* $P(0x4y | 1x) = 0$. \n",
    "\n",
    "Sanity check: 1/10 + 1/5 + 3/10 + 2/5 = 10/10!"
   ]
  }
 ],
 "metadata": {
  "kernelspec": {
   "display_name": "Python 3 (ipykernel)",
   "language": "python",
   "name": "python3"
  },
  "language_info": {
   "codemirror_mode": {
    "name": "ipython",
    "version": 3
   },
   "file_extension": ".py",
   "mimetype": "text/x-python",
   "name": "python",
   "nbconvert_exporter": "python",
   "pygments_lexer": "ipython3",
   "version": "3.9.7"
  }
 },
 "nbformat": 4,
 "nbformat_minor": 5
}
