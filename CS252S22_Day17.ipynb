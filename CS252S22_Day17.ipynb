{
 "cells": [
  {
   "cell_type": "markdown",
   "id": "6e185107",
   "metadata": {},
   "source": [
    "Let's find and load our data!"
   ]
  },
  {
   "cell_type": "code",
   "execution_count": null,
   "id": "a59a5220",
   "metadata": {},
   "outputs": [],
   "source": [
    "# New data! We will use this dataset from Kaggle: https://www.kaggle.com/akiboy96/spotify-dataset\n",
    "import numpy as np\n",
    "\n",
    "columns=['danceability','energy','key','loudness','mode','speechiness','acousticness','instrumentalness','liveness','valence','tempo','duration_ms','time_signature','chorus_hit','sections','popularity']\n",
    "data = np.array(np.genfromtxt('data/spotify_dataset.csv', delimiter=',', skip_header=1, usecols=(2,3,4,5,6,7,8,9,10,11,12,13,14,15,16,17), dtype=float, encoding='utf-8'))  "
   ]
  },
  {
   "cell_type": "markdown",
   "id": "21c511c6",
   "metadata": {},
   "source": [
    "Let's look at our data!"
   ]
  },
  {
   "cell_type": "code",
   "execution_count": null,
   "id": "cc746e0a",
   "metadata": {},
   "outputs": [],
   "source": [
    "import pandas as pd\n",
    "\n",
    "def getSummaryStatistics(data):\n",
    "    return np.array([data.max(axis=0), data.min(axis=0), data.mean(axis=0), data.var(axis=0)])\n",
    "\n",
    "def getShapeType(data):\n",
    "    return (data.shape, data.dtype)\n",
    "\n",
    "# I want to see it better!\n",
    "print(pd.DataFrame(getSummaryStatistics(data)))\n",
    "getShapeType(data)"
   ]
  },
  {
   "cell_type": "code",
   "execution_count": null,
   "id": "31477b05",
   "metadata": {},
   "outputs": [],
   "source": [
    "# let's look at correlations of variables\n",
    "\n",
    "def getCorrelationsPairwise(data):\n",
    "    for i in range(len(columns)):\n",
    "        print(columns[i], np.corrcoef(data[:, 0], data[:, i], rowvar=True)[0,1])\n",
    "        \n",
    "getCorrelationsPairwise(data)"
   ]
  },
  {
   "cell_type": "code",
   "execution_count": null,
   "id": "a16e1044",
   "metadata": {},
   "outputs": [],
   "source": [
    "import plotly.express as px\n",
    "import pandas as pd\n",
    "\n",
    "# which columns do we want to keep for visualization?\n",
    "columnsToKeep = [0,]\n",
    "dataSubset = data[np.ix_(np.arange(data.shape[0]), columnsToKeep)]\n",
    "df = pd.DataFrame(dataSubset, columns=[columns[i] for i in columnsToKeep])\n",
    "\n",
    "# pair plot\n",
    "fig = px.scatter_matrix(\n",
    "    df,\n",
    "    dimensions=[columns[i] for i in columnsToKeep],\n",
    "    color=\"danceability\"\n",
    ")\n",
    "fig.update_traces(diagonal_visible=False)\n",
    "fig.show()\n",
    "\n",
    "# hmm, let's try a scatter plot\n",
    "# what do we want for x, color and size?\n",
    "fig = px.scatter(df, x=\"\", y=\"danceability\", color=\"\",\n",
    "                 size=\"\")\n",
    "fig.show()\n",
    "\n",
    "# I mean, there's something there, but it's not at all clear, right??"
   ]
  },
  {
   "cell_type": "markdown",
   "id": "1f3079fc",
   "metadata": {},
   "source": [
    "# Covariance\n",
    "\n",
    "As we can see from the correlation analysis above, features (variables) in a data set may be related to each other.\n",
    "\n",
    "The *covariance matrix* of a data set tells us about the first order relationships between different features. If $A$ is the matrix corresponding to our data set of $N$ data points for each of which we have $M$ features, and $\\bar{A_i}$ is the mean of the $i$th feature, then covariance matrix $C$ is:\n",
    "    $$C_{i,j} = \\sum_{k=1}^N \\frac{(A_{k,i} - \\bar{A_i})(A_{k,j} - \\bar{A_j})}{N-1}$$\n",
    "    \n",
    "The covariance matrix has the variance of each feature along its diagonal, and the remaining entries are the *covariances* of pairs of features, ie how much they vary together. If they vary together, then they are related to each other - some information is shared between them."
   ]
  },
  {
   "cell_type": "markdown",
   "id": "78bb822c",
   "metadata": {},
   "source": [
    "Questions:\n",
    "* If the covariance is close to 0, then what is true of the pair of features?\n",
    "* If the covariance is big, then what is true of the pair of features?\n",
    "* Correlations can be positive or negative; what about covariances?"
   ]
  },
  {
   "cell_type": "markdown",
   "id": "4d3b970e",
   "metadata": {},
   "source": [
    "We can calculate covariance using matrix multiplication:\n",
    "* First, center the data: $A_c = A - \\bar{A}$\n",
    "* Then, calculate $C$: $C = \\frac{1}{N-1} A_c^TA_c$"
   ]
  },
  {
   "cell_type": "markdown",
   "id": "4f80ab83",
   "metadata": {},
   "source": [
    "Let's look at some toy examples (h/t Stephanie Taylor!)"
   ]
  },
  {
   "cell_type": "markdown",
   "id": "1b0c191f",
   "metadata": {},
   "source": [
    "These two variables co-vary."
   ]
  },
  {
   "cell_type": "code",
   "execution_count": null,
   "id": "46693777",
   "metadata": {},
   "outputs": [],
   "source": [
    "A = np.array([[1,2,3,0], [1.1, 2.1, 3, 0.5]]).T\n",
    "fig = px.scatter(pd.DataFrame(A, columns=['X', 'Y']), x=\"X\", y=\"Y\")\n",
    "fig.show()\n",
    "\n",
    "# First, center the data\n",
    "\n",
    "# Then, calculate C\n",
    "\n",
    "# What do we observe about the variance of X? of Y? What about the covariance?"
   ]
  },
  {
   "cell_type": "markdown",
   "id": "da87c2c7",
   "metadata": {},
   "source": [
    "This is just like before by the values of $Y$ are now negative."
   ]
  },
  {
   "cell_type": "code",
   "execution_count": null,
   "id": "71c305a1",
   "metadata": {},
   "outputs": [],
   "source": [
    "A = np.array([[1,2,3,0], [-1.1, -2.1, -3, -0.5]]).T\n",
    "fig = px.scatter(pd.DataFrame(A, columns=['X', 'Y']), x=\"X\", y=\"Y\")\n",
    "fig.show()\n",
    "\n",
    "# First, center the data\n",
    "\n",
    "# Then, calculate C\n",
    "\n",
    "# What do we observe about the variance of X? of Y? What about the covariance?"
   ]
  },
  {
   "cell_type": "markdown",
   "id": "d0be9d36",
   "metadata": {},
   "source": [
    "The values of $X$ and $Y$ are now random."
   ]
  },
  {
   "cell_type": "code",
   "execution_count": null,
   "id": "56ec7d7f",
   "metadata": {},
   "outputs": [],
   "source": [
    "A = np.array([np.random.standard_normal(4), np.random.standard_normal(4)]).T\n",
    "fig = px.scatter(pd.DataFrame(A, columns=['X', 'Y']), x=\"X\", y=\"Y\")\n",
    "fig.show()\n",
    "\n",
    "# First, center the data\n",
    "\n",
    "# Then, calculate C\n",
    "\n",
    "# What do we observe about the variance of X? of Y? What about the covariance?"
   ]
  },
  {
   "cell_type": "markdown",
   "id": "e5e2b429",
   "metadata": {},
   "source": [
    "Okay, now let's try this on our data!"
   ]
  },
  {
   "cell_type": "code",
   "execution_count": null,
   "id": "a2d1433f",
   "metadata": {},
   "outputs": [],
   "source": [
    "# Let's start with just a subset of our data\n",
    "A = dataSubset\n",
    "\n",
    "# First, center the data\n",
    "\n",
    "# Then, calculate C\n",
    "\n",
    "# I want to see it better!\n",
    "print(pd.DataFrame(C))\n",
    "\n",
    "# What do we observe about the variance of X? of Y? What about the covariance?\n",
    "\n"
   ]
  }
 ],
 "metadata": {
  "kernelspec": {
   "display_name": "Python 3 (ipykernel)",
   "language": "python",
   "name": "python3"
  },
  "language_info": {
   "codemirror_mode": {
    "name": "ipython",
    "version": 3
   },
   "file_extension": ".py",
   "mimetype": "text/x-python",
   "name": "python",
   "nbconvert_exporter": "python",
   "pygments_lexer": "ipython3",
   "version": "3.9.7"
  }
 },
 "nbformat": 4,
 "nbformat_minor": 5
}
