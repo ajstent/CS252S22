{
 "cells": [
  {
   "attachments": {},
   "cell_type": "markdown",
   "id": "b0e7ca52",
   "metadata": {},
   "source": [
    "# Multiple linear regression"
   ]
  },
  {
   "cell_type": "code",
   "execution_count": null,
   "id": "811722d8",
   "metadata": {},
   "outputs": [],
   "source": [
    "import numpy as np\n",
    "import pandas as pd\n",
    "import matplotlib.pyplot as plt\n",
    "import seaborn\n",
    "import scipy.linalg as sp_la"
   ]
  },
  {
   "attachments": {},
   "cell_type": "markdown",
   "id": "6243b190",
   "metadata": {},
   "source": [
    "## Data\n",
    "\n",
    "Today we will keep working with the set of Craigslist listings for used cars."
   ]
  },
  {
   "attachments": {},
   "cell_type": "markdown",
   "id": "cd3775ce",
   "metadata": {},
   "source": [
    "In addition to the numeric columns odometer, year and price, I want to load the non-numeric columns manufacturer, model, condition, title_status, transmission and drive.\n",
    "\n",
    "Because our numpy arrays all have to be the same type, we need to:\n",
    "* figure out which columns we want\n",
    "* define some converters"
   ]
  },
  {
   "cell_type": "code",
   "execution_count": null,
   "id": "a26b780b",
   "metadata": {},
   "outputs": [],
   "source": [
    "# these will be our columns\n",
    "columns = [\"price\", \"year\", \"manufacturer\", \"model\", \"condition\", \"fuel\", \"odometer\", \"title_status\", \"transmission\"]\n",
    "# this will contain our converters\n",
    "colValues = {}\n",
    "\n",
    "# first we load our data as strings so we can define the converters\n",
    "data = np.array(np.genfromtxt('data/vehicles.csv', delimiter=',', usecols=(1,2,3,4,5,7,8,9,11), skip_header=1, dtype=str, encoding='utf-8'))  \n",
    "\n",
    "# make a list of the unique values in each column of our data\n",
    "for colIndex in range(data.shape[1]):\n",
    "    colValues[colIndex] = np.unique(data[:, colIndex]).tolist()\n",
    "    print(colIndex, colValues[colIndex])\n",
    "\n",
    "# map values to their indices in the list of unique values\n",
    "def converter(x, colIndex):\n",
    "    return colValues[colIndex].index(x)"
   ]
  },
  {
   "attachments": {},
   "cell_type": "markdown",
   "id": "c8571c1f",
   "metadata": {},
   "source": [
    "Now we actually load the data."
   ]
  },
  {
   "cell_type": "code",
   "execution_count": null,
   "id": "ca359103",
   "metadata": {},
   "outputs": [],
   "source": [
    "# This dataset is the mazda subsample from https://www.kaggle.com/austinreese/craigslist-carstrucks-data after some cleanup\n",
    "\n",
    "data = np.array(np.genfromtxt('data/vehicles.csv', delimiter=',', usecols=(1,2,3,4,5,7,8,9,11), converters={3: lambda x: converter(x, 2), 4: lambda x: converter(x, 3), 5: lambda x: converter(x, 4), 7: lambda x: converter(x,5), 9: lambda x: converter(x, 7), 11: lambda x: converter(x, 8)}, skip_header=1, dtype=int, encoding='utf-8'))  "
   ]
  },
  {
   "attachments": {},
   "cell_type": "markdown",
   "id": "68a5a5ca",
   "metadata": {},
   "source": [
    "Let's get some summary statistics and do a **pairplot** so we can see what's going on."
   ]
  },
  {
   "cell_type": "code",
   "execution_count": null,
   "id": "9f0dcff3",
   "metadata": {},
   "outputs": [],
   "source": [
    "def getSummaryStatistics(data):\n",
    "    print(\"min, max, mean, std per variable\")\n",
    "    return pd.DataFrame([data.min(axis=0), data.max(axis=0), data.mean(axis=0), data.std(axis=0)])\n",
    "\n",
    "def getShapeType(data):\n",
    "    print(\"shape\")\n",
    "    return (data.shape, data.dtype)\n",
    "\n",
    "print(getSummaryStatistics(data))\n",
    "print(getShapeType(data))"
   ]
  },
  {
   "cell_type": "code",
   "execution_count": null,
   "id": "26ceb934",
   "metadata": {},
   "outputs": [],
   "source": [
    "df = pd.DataFrame(data, columns=columns)\n",
    "seaborn.pairplot(df, y_vars = columns[0], x_vars = columns[1:])\n",
    "\n",
    "plt.show()"
   ]
  },
  {
   "attachments": {},
   "cell_type": "markdown",
   "id": "0fc62d6b",
   "metadata": {},
   "source": [
    "It looks like which variables might be correlated with price?\n",
    "\n",
    "Let's calculate *correlations* between price and the other variables. (Remind me what correlation values vary between?)"
   ]
  },
  {
   "cell_type": "code",
   "execution_count": null,
   "id": "9969a883",
   "metadata": {},
   "outputs": [],
   "source": [
    "for i in range(len(columns)):\n",
    "    print(columns[i], np.corrcoef(data[:, 0], data[:, i], rowvar=True)[0,1])"
   ]
  },
  {
   "attachments": {},
   "cell_type": "markdown",
   "id": "c2b850ff",
   "metadata": {},
   "source": [
    "## Let's review regression\n",
    "\n",
    "Regression allows us to:\n",
    "* determine the *nature* of a relationship between one (or more!) independent variables and a dependent variable\n",
    "* determine the *strength* of the relationship\n",
    "\n",
    "Regression *fits* a function to a dataset."
   ]
  },
  {
   "attachments": {},
   "cell_type": "markdown",
   "id": "71ac8405",
   "metadata": {},
   "source": [
    "## What kinds of functions can we fit? \n",
    "\n",
    "I want to predict price as a function of age and mileage! After all, an old car with low mileage may be worth more than a new car with high mileage. Actually, I probably want to include some of those other variables (features) too! (Which ones?)\n",
    "\n",
    "It turns out I can do this using **multiple linear regression**. The function I will want to fit will be: $\\hat{y} = c_0 + c_1*x_{1i} + c_2*x_{2i} + ... + c_M*x_{Mi}$ for $M$ variables, and I do this by minimizing the sum of the squares of the residuals $r_i = y_i - \\hat{y_i}$.\n",
    "\n",
    "In terms of matrix math, for $N$\n",
    " data points, $A$\n",
    " will just be a matrix of shape ($N, M+1$)\n",
    " (including the leading column of 1s) and $\\vec{c}$ \n",
    " will have shape ($M+1, 1$)\n",
    " (including $c_0$, the intercept) and $\\vec{y}$ will have shape ($N, 1$) (as before).\n",
    "\n",
    "Let's do it! "
   ]
  },
  {
   "attachments": {},
   "cell_type": "markdown",
   "id": "ccdae3d3",
   "metadata": {},
   "source": [
    "### First, split our data\n",
    "\n",
    "Let's split our data into **train** and **test**. Let's make sure and sort by time first, because we don't want to let the future predict the past."
   ]
  },
  {
   "cell_type": "code",
   "execution_count": null,
   "id": "c3f7babe",
   "metadata": {},
   "outputs": [],
   "source": [
    "data = data[data[:, 1].argsort()]\n",
    "print(getSummaryStatistics(data))\n",
    "print(getShapeType(data))\n",
    "\n",
    "(train, test) = np.split(data, [int(len(data) / 10 * 8)])\n",
    "print(train.shape, test.shape)"
   ]
  },
  {
   "attachments": {},
   "cell_type": "markdown",
   "id": "addb4c2e",
   "metadata": {},
   "source": [
    "### Second, define an updated fit function that can handle multiple independent variables"
   ]
  },
  {
   "cell_type": "code",
   "execution_count": null,
   "id": "9bf74a4a",
   "metadata": {},
   "outputs": [],
   "source": [
    "def fit(data, independent, dependent):\n",
    "    # These are our independent variable(s)\n",
    "    x = data[np.ix_(np.arange(data.shape[0]), independent)]\n",
    "\n",
    "    # We add a column of 1s for the intercept\n",
    "    A = np.hstack((np.array([np.ones(x.shape[0])]).T, x))\n",
    "\n",
    "    # This is the dependent variable \n",
    "    y = data[:, dependent]\n",
    "\n",
    "    # This is the regression coefficients that were fit, plus some other results\n",
    "    c, _, _, _ = sp_la.lstsq(A, y)\n",
    "    return c"
   ]
  },
  {
   "cell_type": "code",
   "execution_count": null,
   "id": "f4bc4f1e",
   "metadata": {},
   "outputs": [],
   "source": [
    "print(columns)"
   ]
  },
  {
   "attachments": {},
   "cell_type": "markdown",
   "id": "a0e3572e",
   "metadata": {},
   "source": [
    "And fit to our training data."
   ]
  },
  {
   "cell_type": "code",
   "execution_count": null,
   "id": "c2e3ac35",
   "metadata": {},
   "outputs": [],
   "source": [
    "c = fit(train, [1,2,3,4,5,6,7,8], 0)\n",
    "print([columns[x] for x in [1,2,3,4,5,6,7,8]])\n",
    "print(c)"
   ]
  },
  {
   "attachments": {},
   "cell_type": "markdown",
   "id": "999a5017",
   "metadata": {},
   "source": [
    "### Third, define an updated predict function that can handle multiple independent variables"
   ]
  },
  {
   "cell_type": "code",
   "execution_count": null,
   "id": "92e9af20",
   "metadata": {},
   "outputs": [],
   "source": [
    "def predict(data, independent, c):\n",
    "    # These are our independent variable(s)\n",
    "    x = data[np.ix_(np.arange(data.shape[0]), independent)]\n",
    " \n",
    "    # We add a column of 1s for the intercept\n",
    "    A = np.hstack((np.array([np.ones(x.shape[0])]).T, x))\n",
    "\n",
    "    return np.dot(A, c)"
   ]
  },
  {
   "attachments": {},
   "cell_type": "markdown",
   "id": "c401c318",
   "metadata": {},
   "source": [
    "And predict"
   ]
  },
  {
   "cell_type": "code",
   "execution_count": null,
   "id": "c0e10053",
   "metadata": {},
   "outputs": [],
   "source": [
    "yhat = predict(test, [1,2,3,4,5,6,7,8], c)"
   ]
  },
  {
   "attachments": {},
   "cell_type": "markdown",
   "id": "64a753a3",
   "metadata": {},
   "source": [
    "### Fourth, evaluate using $R^2$"
   ]
  },
  {
   "cell_type": "code",
   "execution_count": null,
   "id": "152211ce",
   "metadata": {},
   "outputs": [],
   "source": [
    "# assume these are numpy arrays\n",
    "def rsquared(y, yhat):\n",
    "    if len(y) != len(yhat):\n",
    "        print(\"Need y and yhat to be the same length!\")\n",
    "        return 0\n",
    "    return 1 - (((y - yhat)**2).sum() / ((y - y.mean())**2).sum())\n",
    "\n",
    "def plotxyyhat(x, y, yhat):\n",
    "    plt.plot(x, y, 'o', label='data')\n",
    "    plt.plot(x, yhat, label='least squares fit, $y = mx + b$')\n",
    "    plt.xlabel('x')\n",
    "    plt.ylabel('y')\n",
    "    plt.legend(framealpha=1, shadow=True)\n",
    "    plt.grid(alpha=0.25)\n",
    "    plt.show()"
   ]
  },
  {
   "cell_type": "code",
   "execution_count": null,
   "id": "c108a0b9",
   "metadata": {},
   "outputs": [],
   "source": [
    "print(rsquared(test[:, 0], yhat))\n",
    "# using only one independent variable to plot\n",
    "plotxyyhat(test[:, 1], test[:, 0], yhat)\n"
   ]
  }
 ],
 "metadata": {
  "kernelspec": {
   "display_name": "Python 3",
   "language": "python",
   "name": "python3"
  },
  "language_info": {
   "codemirror_mode": {
    "name": "ipython",
    "version": 3
   },
   "file_extension": ".py",
   "mimetype": "text/x-python",
   "name": "python",
   "nbconvert_exporter": "python",
   "pygments_lexer": "ipython3",
   "version": "3.10.4"
  },
  "vscode": {
   "interpreter": {
    "hash": "3ad933181bd8a04b432d3370b9dc3b0662ad032c4dfaa4e4f1596c548f763858"
   }
  }
 },
 "nbformat": 4,
 "nbformat_minor": 5
}
