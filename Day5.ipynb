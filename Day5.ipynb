{
 "cells": [
  {
   "cell_type": "markdown",
   "metadata": {},
   "source": [
    "# Review: Data Types and Summary Statistics\n",
    "\n",
    "|Aggregate Stat | Quantitative Continuous | Quantitative Discrete | Qualitative Ordinal | Qualitative Nominal |\n",
    "|------|------|------|------|------|\n",
    "| unique values | yes* | yes | yes | yes |\n",
    "| min | yes | yes | yes | no |\n",
    "| max | yes | yes | yes | no |\n",
    "| range |  |  |  |  |\n",
    "| mean |  |  |  |  |\n",
    "| median | | | |  |\n",
    "| mode |  |  |  |  |\n",
    "| variance |  |  |  |  |\n"
   ]
  },
  {
   "cell_type": "markdown",
   "metadata": {},
   "source": [
    "## Copying numpy arrays\n",
    "\n",
    "This is a reminder to use \"deep copy\" rather than \"shallow copy\""
   ]
  },
  {
   "cell_type": "code",
   "execution_count": null,
   "metadata": {},
   "outputs": [],
   "source": [
    "# let's try the obvious thing\n",
    "nparray = np.array([[0, 1, 2, 3], [10, 11, 12, 13], [20, 21, 22, 23], [30, 31, 32, 33]])\n",
    "nparray2 = nparray\n",
    "print(\"nparray\")\n",
    "print(nparray)\n",
    "print(\"nparray2\")\n",
    "print(nparray2)"
   ]
  },
  {
   "cell_type": "code",
   "execution_count": null,
   "metadata": {},
   "outputs": [],
   "source": [
    "nparray[0,0] = 200\n",
    "print(\"nparray\")\n",
    "print(nparray)\n",
    "print(\"nparray2\")\n",
    "print(nparray2)\n",
    "\n",
    "# whaaat just happened?"
   ]
  },
  {
   "cell_type": "code",
   "execution_count": null,
   "metadata": {},
   "outputs": [],
   "source": [
    "# how do we stop that happening?? hint, what are we doing? we are *copying*\n",
    "nparray2 = nparray.copy()\n",
    "print(\"nparray\")\n",
    "print(nparray)\n",
    "print(\"nparray2\")\n",
    "print(nparray2)"
   ]
  },
  {
   "cell_type": "code",
   "execution_count": null,
   "metadata": {},
   "outputs": [],
   "source": [
    "nparray[0,0] = 0\n",
    "print(\"nparray\")\n",
    "print(nparray)\n",
    "print(\"nparray2\")\n",
    "print(nparray2)"
   ]
  },
  {
   "cell_type": "markdown",
   "metadata": {},
   "source": [
    "## Doing things to whole numpy arrays (broadcasting)"
   ]
  },
  {
   "cell_type": "code",
   "execution_count": null,
   "metadata": {},
   "outputs": [],
   "source": [
    "import numpy as np\n",
    "\n",
    "nparray = np.array([[0, 1, 2, 3], [10, 11, 12, 13], [20, 21, 22, 23], [30, 31, 32, 33]])\n",
    "print(\"nparray\\n\", nparray)\n",
    "print(\"nparray shape\\n\", nparray.shape)"
   ]
  },
  {
   "cell_type": "code",
   "execution_count": null,
   "metadata": {},
   "outputs": [],
   "source": [
    "# what if I want every element in nparray * 2?\n",
    "print(nparray)\n",
    "print(nparray*2)"
   ]
  },
  {
   "cell_type": "code",
   "execution_count": null,
   "metadata": {},
   "outputs": [],
   "source": [
    "# what if I want every element in nparray / 2?\n",
    "print(nparray/2)\n",
    "# watch out!!\n",
    "(nparray/2).dtype"
   ]
  },
  {
   "cell_type": "code",
   "execution_count": null,
   "metadata": {},
   "outputs": [],
   "source": [
    "# let's get some summary statistics\n",
    "\n",
    "data = np.genfromtxt('data/vehiclesNumeric.csv', dtype=int, delimiter=',', skip_header=1, encoding='utf8')\n",
    "print(data[0:10])\n",
    "print(data.shape)\n",
    "for col in range(data.shape[1]): \n",
    "    print(col, data[:,col].min(), data[:,col].mean(), data[:,col].max())"
   ]
  },
  {
   "cell_type": "code",
   "execution_count": null,
   "metadata": {},
   "outputs": [],
   "source": [
    "# (review!) how do we assign value(s) to a row or column?\n",
    "nparray[:1] = np.zeros(nparray.shape[1])\n",
    "print(nparray)"
   ]
  },
  {
   "cell_type": "code",
   "execution_count": null,
   "metadata": {},
   "outputs": [],
   "source": [
    "# let's sum across each column\n",
    "np.sum(nparray, axis=0)"
   ]
  },
  {
   "cell_type": "code",
   "execution_count": null,
   "metadata": {},
   "outputs": [],
   "source": [
    "# how would we sum across each row?\n"
   ]
  },
  {
   "cell_type": "code",
   "execution_count": null,
   "metadata": {},
   "outputs": [],
   "source": [
    "# what if we had a tensor?\n",
    "nptensorFloat = np.ones([3, 4, 5])\n",
    "print(nptensorFloat)\n",
    "\n",
    "np.sum(nptensorFloat, axis=2)"
   ]
  },
  {
   "cell_type": "code",
   "execution_count": null,
   "metadata": {},
   "outputs": [],
   "source": [
    "# what if we don't specify an axis?"
   ]
  },
  {
   "cell_type": "code",
   "execution_count": null,
   "metadata": {},
   "outputs": [],
   "source": [
    "# what other functions can we apply across axes?"
   ]
  },
  {
   "cell_type": "code",
   "execution_count": null,
   "metadata": {},
   "outputs": [],
   "source": [
    "# let's take it up a notch\n",
    "\n",
    "nparrayRandomInt = np.random.randint(low=0, high=10, size=(3,4))\n",
    "print(nparrayRandomInt)\n",
    "\n",
    "print(nparrayRandomInt - np.min(nparrayRandomInt, axis=0))\n",
    "\n",
    "# whaaat just happened? let's look at the shapes\n"
   ]
  },
  {
   "cell_type": "code",
   "execution_count": null,
   "metadata": {},
   "outputs": [],
   "source": [
    "# what if we try to do the subtract-min thing across axis 1?\n",
    "print(nparrayRandomInt - np.min(nparrayRandomInt, axis=1))\n"
   ]
  },
  {
   "cell_type": "code",
   "execution_count": null,
   "metadata": {},
   "outputs": [],
   "source": [
    "# how can we fix that? make the arrays shape-compatible!\n",
    "print(nparrayRandomInt - np.min(nparrayRandomInt, axis=1)[:, np.newaxis])"
   ]
  },
  {
   "cell_type": "code",
   "execution_count": null,
   "metadata": {},
   "outputs": [],
   "source": [
    "# is there another way to achieve this?\n",
    "print(nparrayRandomInt - np.min(nparrayRandomInt, axis=1, keepdims=True))\n"
   ]
  },
  {
   "cell_type": "markdown",
   "metadata": {},
   "source": [
    "## Why numpy?\n",
    "\n",
    "Numpy is space efficient\n",
    "(reference: https://www.geeksforgeeks.org/python-lists-vs-numpy-arrays/)\n",
    "\n",
    "- very space efficient because it's based on C"
   ]
  },
  {
   "cell_type": "code",
   "execution_count": null,
   "metadata": {},
   "outputs": [],
   "source": [
    "# importing numpy package\n",
    "import numpy as np\n",
    "  \n",
    "# importing system module\n",
    "import sys\n",
    "  \n",
    "# declaring a list of 1000 elements \n",
    "S= range(1000)\n",
    "  \n",
    "# printing size of each element of the list\n",
    "print(\"Size of each element of list in bytes: \",sys.getsizeof(S))\n",
    "  \n",
    "# printing size of the whole list\n",
    "print(\"Size of the whole list in bytes: \",sys.getsizeof(S)*len(S))\n",
    "  \n",
    "# declaring a Numpy array of 1000 elements \n",
    "D= np.arange(1000)\n",
    "  \n",
    "# printing size of each element of the Numpy array\n",
    "print(\"Size of each element of the Numpy array in bytes: \",D.itemsize)\n",
    "  \n",
    "# printing size of the whole Numpy array\n",
    "print(\"Size of the whole Numpy array in bytes: \",D.size*D.itemsize)"
   ]
  },
  {
   "cell_type": "markdown",
   "metadata": {},
   "source": [
    "Numpy *can be* more time efficient (reference: https://stackoverflow.com/questions/9708783/numpy-vs-list-comprehension-which-is-faster)"
   ]
  },
  {
   "cell_type": "code",
   "execution_count": 19,
   "metadata": {},
   "outputs": [],
   "source": [
    "import sys, numpy\n",
    "import timeit #times things, use numpy for fast programming\n",
    "\n",
    "def numpysum(n):\n",
    "    a = numpy.arange(n) ** 2\n",
    "    b = numpy.arange(n) ** 3\n",
    "    return a + b\n",
    "\n",
    "def pythonsum(n):\n",
    "    a = [i ** 2 for i in range(n)]\n",
    "    b = [i ** 3 for i in range(n)]\n",
    "    return [a[i] + b[i] for i in range(n)]\n",
    "\n",
    "for size in [10, 100, 1000]:\n",
    "    print(\"size\", size)\n",
    "    print(\"time with python\", timeit.timeit(lambda: pythonsum(size)))\n",
    "    print(\"time with numpy\", timeit.timeit(lambda: numpysum(size)))"
   ]
  }
 ],
 "metadata": {
  "kernelspec": {
   "display_name": "Python 3",
   "language": "python",
   "name": "python3"
  },
  "language_info": {
   "codemirror_mode": {
    "name": "ipython",
    "version": 3
   },
   "file_extension": ".py",
   "mimetype": "text/x-python",
   "name": "python",
   "nbconvert_exporter": "python",
   "pygments_lexer": "ipython3",
   "version": "3.10.4"
  },
  "orig_nbformat": 4,
  "vscode": {
   "interpreter": {
    "hash": "3ad933181bd8a04b432d3370b9dc3b0662ad032c4dfaa4e4f1596c548f763858"
   }
  }
 },
 "nbformat": 4,
 "nbformat_minor": 2
}
