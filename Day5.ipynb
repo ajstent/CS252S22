{
 "cells": [
  {
   "cell_type": "markdown",
   "metadata": {},
   "source": [
    "# Review: Data Types and Summary Statistics\n",
    "\n",
    "|Aggregate Stat | Quantitative Continuous | Quantitative Discrete | Qualitative Ordinal | Qualitative Nominal |\n",
    "|------|------|------|------|------|\n",
    "| unique values | yes* | yes | yes | yes |\n",
    "| min | yes | yes | yes | no |\n",
    "| max | yes | yes | yes | no |\n",
    "| range |  |  |  |  |\n",
    "| mean |  |  |  |  |\n",
    "| median | | | |  |\n",
    "| mode |  |  |  |  |\n",
    "| variance |  |  |  |  |\n"
   ]
  },
  {
   "cell_type": "markdown",
   "metadata": {},
   "source": [
    "## Copying numpy arrays\n",
    "\n",
    "This is a reminder to use \"deep copy\" rather than \"shallow copy\""
   ]
  },
  {
   "cell_type": "code",
   "execution_count": 1,
   "metadata": {},
   "outputs": [
    {
     "name": "stdout",
     "output_type": "stream",
     "text": [
      "nparray\n",
      "[[ 0  1  2  3]\n",
      " [10 11 12 13]\n",
      " [20 21 22 23]\n",
      " [30 31 32 33]]\n",
      "nparray2\n",
      "[[ 0  1  2  3]\n",
      " [10 11 12 13]\n",
      " [20 21 22 23]\n",
      " [30 31 32 33]]\n"
     ]
    }
   ],
   "source": [
    "import numpy as np\n",
    "\n",
    "# let's try the obvious thing\n",
    "nparray = np.array([[0, 1, 2, 3], [10, 11, 12, 13], [20, 21, 22, 23], [30, 31, 32, 33]])\n",
    "nparray2 = nparray\n",
    "print(\"nparray\")\n",
    "print(nparray)\n",
    "print(\"nparray2\")\n",
    "print(nparray2)"
   ]
  },
  {
   "cell_type": "code",
   "execution_count": 2,
   "metadata": {},
   "outputs": [
    {
     "name": "stdout",
     "output_type": "stream",
     "text": [
      "nparray\n",
      "[[200   1   2   3]\n",
      " [ 10  11  12  13]\n",
      " [ 20  21  22  23]\n",
      " [ 30  31  32  33]]\n",
      "nparray2\n",
      "[[200   1   2   3]\n",
      " [ 10  11  12  13]\n",
      " [ 20  21  22  23]\n",
      " [ 30  31  32  33]]\n"
     ]
    }
   ],
   "source": [
    "nparray[0,0] = 200\n",
    "print(\"nparray\")\n",
    "print(nparray)\n",
    "print(\"nparray2\")\n",
    "print(nparray2)\n",
    "\n",
    "# whaaat just happened?"
   ]
  },
  {
   "cell_type": "code",
   "execution_count": 3,
   "metadata": {},
   "outputs": [
    {
     "name": "stdout",
     "output_type": "stream",
     "text": [
      "nparray\n",
      "[[200   1   2   3]\n",
      " [ 10  11  12  13]\n",
      " [ 20  21  22  23]\n",
      " [ 30  31  32  33]]\n",
      "nparray2\n",
      "[[200   1   2   3]\n",
      " [ 10  11  12  13]\n",
      " [ 20  21  22  23]\n",
      " [ 30  31  32  33]]\n"
     ]
    }
   ],
   "source": [
    "# how do we stop that happening?? hint, what are we doing? we are *copying*\n",
    "nparray2 = nparray.copy()\n",
    "print(\"nparray\")\n",
    "print(nparray)\n",
    "print(\"nparray2\")\n",
    "print(nparray2)"
   ]
  },
  {
   "cell_type": "code",
   "execution_count": 4,
   "metadata": {},
   "outputs": [
    {
     "name": "stdout",
     "output_type": "stream",
     "text": [
      "nparray\n",
      "[[ 0  1  2  3]\n",
      " [10 11 12 13]\n",
      " [20 21 22 23]\n",
      " [30 31 32 33]]\n",
      "nparray2\n",
      "[[200   1   2   3]\n",
      " [ 10  11  12  13]\n",
      " [ 20  21  22  23]\n",
      " [ 30  31  32  33]]\n"
     ]
    }
   ],
   "source": [
    "nparray[0,0] = 0\n",
    "print(\"nparray\")\n",
    "print(nparray)\n",
    "print(\"nparray2\")\n",
    "print(nparray2)"
   ]
  },
  {
   "cell_type": "markdown",
   "metadata": {},
   "source": [
    "## Doing things to whole numpy arrays (broadcasting)"
   ]
  },
  {
   "cell_type": "code",
   "execution_count": 5,
   "metadata": {},
   "outputs": [
    {
     "name": "stdout",
     "output_type": "stream",
     "text": [
      "nparray\n",
      " [[ 0  1  2  3]\n",
      " [10 11 12 13]\n",
      " [20 21 22 23]\n",
      " [30 31 32 33]]\n",
      "nparray shape\n",
      " (4, 4)\n"
     ]
    }
   ],
   "source": [
    "import numpy as np\n",
    "\n",
    "nparray = np.array([[0, 1, 2, 3], [10, 11, 12, 13], [20, 21, 22, 23], [30, 31, 32, 33]])\n",
    "print(\"nparray\\n\", nparray)\n",
    "print(\"nparray shape\\n\", nparray.shape)"
   ]
  },
  {
   "cell_type": "code",
   "execution_count": 9,
   "metadata": {},
   "outputs": [
    {
     "name": "stdout",
     "output_type": "stream",
     "text": [
      "[[ 0  1  2  3]\n",
      " [10 11 12 13]\n",
      " [20 21 22 23]\n",
      " [30 31 32 33]]\n",
      "[[ 0  2  4  6]\n",
      " [20 22 24 26]\n",
      " [40 42 44 46]\n",
      " [60 62 64 66]]\n"
     ]
    }
   ],
   "source": [
    "# what if I want every element in nparray * 2?\n",
    "print(nparray)\n",
    "nparray = nparray*2\n",
    "print(nparray)"
   ]
  },
  {
   "cell_type": "code",
   "execution_count": 10,
   "metadata": {},
   "outputs": [
    {
     "name": "stdout",
     "output_type": "stream",
     "text": [
      "[[ 0  2  4  6]\n",
      " [20 22 24 26]\n",
      " [40 42 44 46]\n",
      " [60 62 64 66]]\n"
     ]
    }
   ],
   "source": [
    "print(nparray)"
   ]
  },
  {
   "cell_type": "code",
   "execution_count": 11,
   "metadata": {},
   "outputs": [
    {
     "name": "stdout",
     "output_type": "stream",
     "text": [
      "[[ 0.  1.  2.  3.]\n",
      " [10. 11. 12. 13.]\n",
      " [20. 21. 22. 23.]\n",
      " [30. 31. 32. 33.]]\n"
     ]
    },
    {
     "data": {
      "text/plain": [
       "dtype('float64')"
      ]
     },
     "execution_count": 11,
     "metadata": {},
     "output_type": "execute_result"
    }
   ],
   "source": [
    "# what if I want every element in nparray / 2?\n",
    "print(nparray/2)\n",
    "# watch out!!\n",
    "(nparray/2).dtype"
   ]
  },
  {
   "cell_type": "code",
   "execution_count": 13,
   "metadata": {},
   "outputs": [
    {
     "name": "stdout",
     "output_type": "stream",
     "text": [
      "[[ 0  0  1  1]\n",
      " [ 5  5  6  6]\n",
      " [10 10 11 11]\n",
      " [15 15 16 16]]\n"
     ]
    }
   ],
   "source": [
    "nparray = nparray/2\n",
    "nparray = nparray.astype(int)\n",
    "print(nparray)"
   ]
  },
  {
   "cell_type": "code",
   "execution_count": 15,
   "metadata": {},
   "outputs": [
    {
     "name": "stdout",
     "output_type": "stream",
     "text": [
      "[[7314278078       9988       2014     121259]\n",
      " [7313594854       5500       2010     114988]\n",
      " [7313219085       9500       2013     125000]\n",
      " [7311830338       9988       2014     121259]\n",
      " [7311365259      10888       2014     121259]\n",
      " [7307029274      11500       2012      64000]\n",
      " [7306472445       9800       2012      76117]\n",
      " [7304888907      19900       2018      35823]\n",
      " [7304871378       7500       2011      51000]\n",
      " [7314677292       4200       2009      93000]]\n",
      "(3158, 4)\n",
      "max [7317070740      55000       2021    9999999] \n",
      "min [7301645993          0       1999          0] \n",
      "mean [7311728502       7978       2012     112440]\n"
     ]
    }
   ],
   "source": [
    "# let's get some summary statistics\n",
    "\n",
    "data = np.genfromtxt('data/vehiclesNumeric.csv', dtype=int, delimiter=',', skip_header=1, encoding='utf8')\n",
    "print(data[0:10]) # all the rows and the first column: data[:, 1]\n",
    "print(data.shape)\n",
    "# no for loops!\n",
    "print(\"max\", data.max(axis=0), \"\\nmin\", data.min(axis=0), \"\\nmean\", data.mean(axis=0, dtype=int))\n"
   ]
  },
  {
   "cell_type": "code",
   "execution_count": 26,
   "metadata": {},
   "outputs": [
    {
     "name": "stdout",
     "output_type": "stream",
     "text": [
      "[[ 0  0  0  0]\n",
      " [ 0  5  6  6]\n",
      " [ 0 10 11 11]\n",
      " [ 0 15 16 16]]\n",
      "[[ 0  0  0  0]\n",
      " [ 0  0  6  6]\n",
      " [ 0  0 11 11]\n",
      " [ 0  0 16 16]]\n"
     ]
    }
   ],
   "source": [
    "# (review!) how do we assign value(s) to a row or column?\n",
    "nparray[:1] = np.zeros(nparray.shape[1])\n",
    "print(nparray)\n",
    "\n",
    "# if we want the first column to be zeros\n",
    "nparray[:, :2] = 0\n",
    "print(nparray)"
   ]
  },
  {
   "cell_type": "code",
   "execution_count": null,
   "metadata": {},
   "outputs": [],
   "source": []
  },
  {
   "cell_type": "code",
   "execution_count": null,
   "metadata": {},
   "outputs": [],
   "source": []
  },
  {
   "cell_type": "code",
   "execution_count": 23,
   "metadata": {},
   "outputs": [
    {
     "name": "stdout",
     "output_type": "stream",
     "text": [
      "(4, 1)\n",
      "[[0]\n",
      " [0]\n",
      " [0]\n",
      " [0]]\n"
     ]
    }
   ],
   "source": [
    "print(nparray[:, :1].shape)\n",
    "print(nparray[:, :1])"
   ]
  },
  {
   "cell_type": "code",
   "execution_count": 24,
   "metadata": {},
   "outputs": [
    {
     "name": "stdout",
     "output_type": "stream",
     "text": [
      "(4,)\n",
      "[0 0 0 0]\n"
     ]
    }
   ],
   "source": [
    "print(nparray[:, 0].shape)\n",
    "print(nparray[:, 0])"
   ]
  },
  {
   "cell_type": "code",
   "execution_count": 27,
   "metadata": {},
   "outputs": [
    {
     "data": {
      "text/plain": [
       "array([ 0,  0, 33, 33])"
      ]
     },
     "execution_count": 27,
     "metadata": {},
     "output_type": "execute_result"
    }
   ],
   "source": [
    "# let's sum across each column\n",
    "np.sum(nparray, axis=0)"
   ]
  },
  {
   "cell_type": "code",
   "execution_count": 28,
   "metadata": {},
   "outputs": [
    {
     "data": {
      "text/plain": [
       "array([ 0, 12, 22, 32])"
      ]
     },
     "execution_count": 28,
     "metadata": {},
     "output_type": "execute_result"
    }
   ],
   "source": [
    "# how would we sum across each row?\n",
    "np.sum(nparray, axis=1)"
   ]
  },
  {
   "cell_type": "code",
   "execution_count": 33,
   "metadata": {},
   "outputs": [
    {
     "name": "stdout",
     "output_type": "stream",
     "text": [
      "[[[1. 1. 1. 1. 1.]\n",
      "  [1. 1. 1. 1. 1.]\n",
      "  [1. 1. 1. 1. 1.]\n",
      "  [1. 1. 1. 1. 1.]]\n",
      "\n",
      " [[1. 1. 1. 1. 1.]\n",
      "  [1. 1. 1. 1. 1.]\n",
      "  [1. 1. 1. 1. 1.]\n",
      "  [1. 1. 1. 1. 1.]]\n",
      "\n",
      " [[1. 1. 1. 1. 1.]\n",
      "  [1. 1. 1. 1. 1.]\n",
      "  [1. 1. 1. 1. 1.]\n",
      "  [1. 1. 1. 1. 1.]]]\n",
      "(3, 4)\n"
     ]
    }
   ],
   "source": [
    "# what if we had a tensor?\n",
    "nptensorFloat = np.ones([3, 4, 5])\n",
    "print(nptensorFloat)\n",
    "\n",
    "np.sum(nptensorFloat, axis=2)\n",
    "print(np.sum(nptensorFloat, axis=2).shape)"
   ]
  },
  {
   "cell_type": "code",
   "execution_count": 34,
   "metadata": {},
   "outputs": [
    {
     "name": "stdout",
     "output_type": "stream",
     "text": [
      "60.0\n"
     ]
    }
   ],
   "source": [
    "# what if we don't specify an axis?\n",
    "print(np.sum(nptensorFloat))"
   ]
  },
  {
   "cell_type": "code",
   "execution_count": null,
   "metadata": {},
   "outputs": [],
   "source": [
    "# what other functions can we apply across axes?"
   ]
  },
  {
   "cell_type": "code",
   "execution_count": null,
   "metadata": {},
   "outputs": [],
   "source": [
    "# let's take it up a notch\n",
    "\n",
    "nparrayRandomInt = np.random.randint(low=0, high=10, size=(3,4))\n",
    "print(nparrayRandomInt)\n",
    "\n",
    "print(nparrayRandomInt - np.min(nparrayRandomInt, axis=0))\n",
    "\n",
    "# whaaat just happened? let's look at the shapes\n"
   ]
  },
  {
   "cell_type": "code",
   "execution_count": null,
   "metadata": {},
   "outputs": [],
   "source": [
    "# what if we try to do the subtract-min thing across axis 1?\n",
    "print(nparrayRandomInt - np.min(nparrayRandomInt, axis=1))\n"
   ]
  },
  {
   "cell_type": "code",
   "execution_count": null,
   "metadata": {},
   "outputs": [],
   "source": [
    "# how can we fix that? make the arrays shape-compatible!\n",
    "print(nparrayRandomInt - np.min(nparrayRandomInt, axis=1)[:, np.newaxis])"
   ]
  },
  {
   "cell_type": "code",
   "execution_count": null,
   "metadata": {},
   "outputs": [],
   "source": [
    "# is there another way to achieve this?\n",
    "print(nparrayRandomInt - np.min(nparrayRandomInt, axis=1, keepdims=True))\n"
   ]
  },
  {
   "cell_type": "markdown",
   "metadata": {},
   "source": [
    "## Why numpy?\n",
    "\n",
    "Numpy is space efficient\n",
    "(reference: https://www.geeksforgeeks.org/python-lists-vs-numpy-arrays/)\n",
    "\n",
    "- very space efficient because it's based on C"
   ]
  },
  {
   "cell_type": "code",
   "execution_count": 35,
   "metadata": {},
   "outputs": [
    {
     "name": "stdout",
     "output_type": "stream",
     "text": [
      "Size of each element of list in bytes:  48\n",
      "Size of the whole list in bytes:  48000\n",
      "Size of each element of the Numpy array in bytes:  8\n",
      "Size of the whole Numpy array in bytes:  8000\n"
     ]
    }
   ],
   "source": [
    "# importing numpy package\n",
    "import numpy as np\n",
    "  \n",
    "# importing system module\n",
    "import sys\n",
    "  \n",
    "# declaring a list of 1000 elements \n",
    "S= range(1000)\n",
    "  \n",
    "# printing size of each element of the list\n",
    "print(\"Size of each element of list in bytes: \",sys.getsizeof(S))\n",
    "  \n",
    "# printing size of the whole list\n",
    "print(\"Size of the whole list in bytes: \",sys.getsizeof(S)*len(S))\n",
    "  \n",
    "# declaring a Numpy array of 1000 elements \n",
    "D= np.arange(1000)\n",
    "  \n",
    "# printing size of each element of the Numpy array\n",
    "print(\"Size of each element of the Numpy array in bytes: \",D.itemsize)\n",
    "  \n",
    "# printing size of the whole Numpy array\n",
    "print(\"Size of the whole Numpy array in bytes: \",D.size*D.itemsize)"
   ]
  },
  {
   "cell_type": "markdown",
   "metadata": {},
   "source": [
    "Numpy *can be* more time efficient (reference: https://stackoverflow.com/questions/9708783/numpy-vs-list-comprehension-which-is-faster)"
   ]
  },
  {
   "cell_type": "code",
   "execution_count": 36,
   "metadata": {},
   "outputs": [
    {
     "name": "stdout",
     "output_type": "stream",
     "text": [
      "size 10\n",
      "time with python 8.557022005999897\n",
      "time with numpy 4.4259566390001055\n",
      "size 100\n",
      "time with python 69.8246585930001\n",
      "time with numpy 4.723551878000308\n",
      "size 1000\n",
      "time with python 770.5584602989998\n",
      "time with numpy 10.63126297999952\n"
     ]
    }
   ],
   "source": [
    "import sys, numpy\n",
    "import timeit #times things, use numpy for fast programming\n",
    "\n",
    "def numpysum(n):\n",
    "    a = numpy.arange(n) ** 2\n",
    "    b = numpy.arange(n) ** 3\n",
    "    return a + b\n",
    "\n",
    "def pythonsum(n):\n",
    "    a = [i ** 2 for i in range(n)]\n",
    "    b = [i ** 3 for i in range(n)]\n",
    "    return [a[i] + b[i] for i in range(n)]\n",
    "\n",
    "for size in [10, 100, 1000]:\n",
    "    print(\"size\", size)\n",
    "    print(\"time with python\", timeit.timeit(lambda: pythonsum(size)))\n",
    "    print(\"time with numpy\", timeit.timeit(lambda: numpysum(size)))"
   ]
  },
  {
   "cell_type": "code",
   "execution_count": null,
   "metadata": {},
   "outputs": [],
   "source": []
  }
 ],
 "metadata": {
  "kernelspec": {
   "display_name": "Python 3",
   "language": "python",
   "name": "python3"
  },
  "language_info": {
   "codemirror_mode": {
    "name": "ipython",
    "version": 3
   },
   "file_extension": ".py",
   "mimetype": "text/x-python",
   "name": "python",
   "nbconvert_exporter": "python",
   "pygments_lexer": "ipython3",
   "version": "3.10.4"
  },
  "orig_nbformat": 4,
  "vscode": {
   "interpreter": {
    "hash": "3ad933181bd8a04b432d3370b9dc3b0662ad032c4dfaa4e4f1596c548f763858"
   }
  }
 },
 "nbformat": 4,
 "nbformat_minor": 2
}
