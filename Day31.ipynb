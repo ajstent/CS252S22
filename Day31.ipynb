{
 "cells": [
  {
   "attachments": {},
   "cell_type": "markdown",
   "id": "d6920b4a",
   "metadata": {},
   "source": [
    "# The One Goal for Today\n",
    "\n",
    "Understand how to fit a naive Bayes model using text data.\n"
   ]
  },
  {
   "cell_type": "code",
   "execution_count": 1,
   "id": "29860ef9",
   "metadata": {},
   "outputs": [],
   "source": [
    "import re\n",
    "import numpy as np\n",
    "import matplotlib.pyplot as plt"
   ]
  },
  {
   "attachments": {},
   "cell_type": "markdown",
   "id": "d26bd31f",
   "metadata": {},
   "source": [
    "# Naive Bayes for Spam\n",
    "\n",
    "Text data, *without preprocessing*, is qualitative data. Let's use Naive Bayes to classify some text data! \n",
    "\n",
    "I'm going to be using the SMS dataset from [here](https://archive.ics.uci.edu/ml/datasets/sms+spam+collection).\n",
    "\n",
    "## I. Load and Look at our data\n",
    "\n",
    "Let's load and __look at our data__. Is our independent variable at the *start* or the *end*?"
   ]
  },
  {
   "cell_type": "code",
   "execution_count": 2,
   "id": "773a1b57",
   "metadata": {},
   "outputs": [
    {
     "name": "stdout",
     "output_type": "stream",
     "text": [
      "(5574, 2)\n",
      "['spam'\n",
      " \"Free entry in 2 a wkly comp to win FA Cup final tkts 21st May 2005. Text FA to 87121 to receive entry question(std txt rate)T&C's apply 08452810075over18's\"] \n",
      " ['ham' \"Nah I don't think he goes to usf, he lives around here though\"] \n",
      " ['spam'\n",
      " 'Had your mobile 11 months or more? U R entitled to Update to the latest colour mobiles with camera for Free! Call The Mobile Update Co FREE on 08002986030'] \n",
      " ['ham'\n",
      " \"I'm gonna be home soon and i don't want to talk about this stuff anymore tonight, k? I've cried enough today.\"] \n",
      " ['spam'\n",
      " 'SIX chances to win CASH! From 100 to 20,000 pounds txt> CSH11 and send to 87575. Cost 150p/day, 6days, 16+ TsandCs apply Reply HL 4 info'] \n",
      " ['spam'\n",
      " 'URGENT! You have won a 1 week FREE membership in our £100,000 Prize Jackpot! Txt the word: CLAIM to No: 81010 T&C www.dbuk.net LCCLTD POBOX 4403LDNW1A7RW18'] \n",
      " ['ham' 'I HAVE A DATE ON SUNDAY WITH WILL!!'] \n",
      " ['ham' 'Is that seriously how you spell his name?'] \n",
      " ['ham' 'Ahhh. Work. I vaguely remember that! What does it feel like? Lol'] \n",
      " ['ham' 'K tell me anything about you.']\n"
     ]
    }
   ],
   "source": [
    "data = np.array(np.genfromtxt('data/SMSSpamCollection', delimiter='\\t', encoding='utf-8', dtype=str))  \n",
    "print(data.shape)\n",
    "print(data[2], \"\\n\", data[4], \"\\n\", data[9], \"\\n\", data[10], \"\\n\", data[11], \"\\n\", data[12], \"\\n\", data[14], \"\\n\", data[20], \"\\n\", data[29], \"\\n\", data[32])"
   ]
  },
  {
   "cell_type": "markdown",
   "id": "10895987",
   "metadata": {},
   "source": [
    "How many labels do we have?"
   ]
  },
  {
   "cell_type": "code",
   "execution_count": 3,
   "id": "644772da",
   "metadata": {},
   "outputs": [
    {
     "name": "stdout",
     "output_type": "stream",
     "text": [
      "(array(['ham', 'spam'], dtype='<U910'), array([4827,  747]))\n"
     ]
    }
   ],
   "source": [
    "print(np.unique(data[:, 0], return_counts=True))"
   ]
  },
  {
   "attachments": {},
   "cell_type": "markdown",
   "id": "b7f4e1ee",
   "metadata": {},
   "source": [
    "## II. Split the data\n",
    "\n",
    "Let's split it into train and test and make sure we have some of each label in each subset"
   ]
  },
  {
   "cell_type": "code",
   "execution_count": 4,
   "id": "1a3ebca3",
   "metadata": {},
   "outputs": [
    {
     "name": "stdout",
     "output_type": "stream",
     "text": [
      "(4459, 2) (1115, 2)\n",
      "(array(['ham', 'spam'], dtype='<U910'), array([3857,  602]))\n",
      "(array(['ham', 'spam'], dtype='<U910'), array([970, 145]))\n"
     ]
    }
   ],
   "source": [
    "train, test = np.split(data, [int(.8 * len(data))])\n",
    "print(train.shape, test.shape)\n",
    "print(np.unique(train[:, 0], return_counts=True))\n",
    "print(np.unique(test[:, 0], return_counts=True))"
   ]
  },
  {
   "attachments": {},
   "cell_type": "markdown",
   "id": "d461abc1",
   "metadata": {},
   "source": [
    "So far, so good!\n",
    "\n",
    "## III. Preprocess the data\n",
    "\n",
    "*But*, how do I deal with the SMS texts themselves? Well, a SMS is composed of word-type things (let's call them \"tokens\") and if I *completely ignore* the sequence information then I could say each SMS is composed of a *bag* of tokens. \n",
    "\n",
    "NOTE that to do this hurts me as a computational linguist. Of *course* word order matters! In particular, in this context it means that the token occurrences are not *independent* of each other. But we are going to pretend they are, thus lacerating the sensibilities of both linguists and statisticians in search of a computationally efficient approximation.\n",
    "\n",
    "__Our independent variables will be what, now?__\n",
    "\n",
    "### Let's define a function to get the bag of tokens from the text of a SMS"
   ]
  },
  {
   "cell_type": "code",
   "execution_count": 5,
   "id": "aec04449",
   "metadata": {},
   "outputs": [],
   "source": [
    "# We will split the text on any character(s) that are not letters or numbers,\n",
    "# and then keep anything that is not whitespace\n",
    "def tokenize(text):\n",
    "    # split on whitespace - \\s+ - and strip off any whitespace\n",
    "    return [token.strip() for token in re.split(r'(\\s+)', text) if not re.match(r'^\\s*$', token)]"
   ]
  },
  {
   "cell_type": "code",
   "execution_count": 6,
   "id": "cf9259a3",
   "metadata": {},
   "outputs": [
    {
     "data": {
      "text/plain": [
       "['Go',\n",
       " 'until',\n",
       " 'jurong',\n",
       " 'point,',\n",
       " 'crazy..',\n",
       " 'Available',\n",
       " 'only',\n",
       " 'in',\n",
       " 'bugis',\n",
       " 'n',\n",
       " 'great',\n",
       " 'world',\n",
       " 'la',\n",
       " 'e',\n",
       " 'buffet...',\n",
       " 'Cine',\n",
       " 'there',\n",
       " 'got',\n",
       " 'amore',\n",
       " 'wat...']"
      ]
     },
     "execution_count": 6,
     "metadata": {},
     "output_type": "execute_result"
    }
   ],
   "source": [
    "# Try it on one SMS\n",
    "tokenize(train[0][1])"
   ]
  },
  {
   "attachments": {},
   "cell_type": "markdown",
   "id": "20fd6875",
   "metadata": {},
   "source": [
    "### Let's get the unique tokens\n",
    "\n",
    "We do this on **train only**."
   ]
  },
  {
   "cell_type": "code",
   "execution_count": 7,
   "id": "9aa6b496",
   "metadata": {},
   "outputs": [
    {
     "name": "stdout",
     "output_type": "stream",
     "text": [
      "13409\n",
      "['!', '!!', '!!!', '!!!!', \"!!''.\", '!1', '\"', '\".', '\"3000']\n"
     ]
    }
   ],
   "source": [
    "# all the tokens\n",
    "tokens = []\n",
    "for i in range(len(train)):\n",
    "    # add the tokens from this training data point to the list of all the tokens\n",
    "    tokens.extend(tokenize(train[i][1]))\n",
    "# get the unique tokens\n",
    "unique_tokens, token_counts = np.unique(tokens, return_counts=True)\n",
    "# how many do we have?\n",
    "print(len(unique_tokens))\n",
    "# what are some of them?\n",
    "print(list(unique_tokens)[0:9])"
   ]
  },
  {
   "cell_type": "markdown",
   "id": "1d8de881",
   "metadata": {},
   "source": [
    "That's entirely too many tokens! Let's keep just from the $a$ to the $b$ most frequent ones."
   ]
  },
  {
   "cell_type": "code",
   "execution_count": 8,
   "id": "151cb761",
   "metadata": {},
   "outputs": [
    {
     "name": "stdout",
     "output_type": "stream",
     "text": [
      "1925\n",
      "['But' 'still' 'text' 'one' 'our' 'been' 'its' 'If' 'love']\n"
     ]
    }
   ],
   "source": [
    "a = 75\n",
    "b = 2000\n",
    "# all the tokens\n",
    "tokens = []\n",
    "for i in range(len(train)):\n",
    "    # add the tokens from this training data point to the list of all the tokens\n",
    "    tokens.extend(tokenize(train[i][1]))\n",
    "# get the unique tokens\n",
    "unique_tokens, token_counts = np.unique(tokens, return_counts=True)\n",
    "# sort them by the counts; reverse the sort so it goes from largest to smallest; keep only the ones between a and b\n",
    "top_unique_tokens = unique_tokens[np.argsort(token_counts)[::-1]][a:b]\n",
    "print(len(top_unique_tokens))\n",
    "print(top_unique_tokens[0:9])"
   ]
  },
  {
   "cell_type": "markdown",
   "id": "a9a8c8b2",
   "metadata": {},
   "source": [
    "### Let's collect token counts across all the 'ham' SMSs, and separately across all the 'spam' SMSs"
   ]
  },
  {
   "cell_type": "code",
   "execution_count": 9,
   "id": "45ebaba4",
   "metadata": {},
   "outputs": [],
   "source": [
    "# subset_of_data means all the data points in a class / with the same value for the dependent variable\n",
    "# token_vocab is the set of most frequent unique tokens we care about\n",
    "def preprocess_category(subset_of_data, token_vocab):\n",
    "    # the tokens in the data points in this class\n",
    "    tokens = []\n",
    "    for i in range(len(subset_of_data)):\n",
    "        # add the tokens from this data point to tokens\n",
    "        tokens.extend(tokenize(subset_of_data[i][1]))\n",
    "    # get the unique tokens\n",
    "    unique_tokens, token_counts = np.unique(tokens, return_counts=True)\n",
    "    # we only want to keep those in token_vocab\n",
    "    res = dict.fromkeys(token_vocab, 0)\n",
    "    # add the count for each token that is in this class and that is a token we care about to res\n",
    "    for token, count in zip(unique_tokens, token_counts):\n",
    "        if token in res:\n",
    "            res[token] += count\n",
    "    return res"
   ]
  },
  {
   "cell_type": "code",
   "execution_count": 10,
   "id": "d1f14601",
   "metadata": {},
   "outputs": [
    {
     "name": "stdout",
     "output_type": "stream",
     "text": [
      "1925\n"
     ]
    }
   ],
   "source": [
    "token_counts = {}\n",
    "# get token counts for ham\n",
    "token_counts['ham'] = preprocess_category(train[np.where(train[:, 0] == 'ham')], top_unique_tokens)\n",
    "# get token counts for spam\n",
    "token_counts['spam'] = preprocess_category(train[np.where(train[:, 0] == 'spam')], top_unique_tokens)\n",
    "# We keep this around for indexing into the likelihoods\n",
    "sorted_tokens = sorted(top_unique_tokens)\n",
    "print(len(sorted_tokens))"
   ]
  },
  {
   "cell_type": "markdown",
   "id": "0ecca3b6",
   "metadata": {},
   "source": [
    "Pay attention to the sleight of hand here:\n",
    "* Our labels are 'ham' and 'spam'.\n",
    "* Our features are individual token frequencies calculated across all of 'ham' and all of 'spam'. We *assume independence in the features*. That's the naive in Naive Bayes.\n",
    "\n",
    "## Fit\n",
    "\n",
    "So now let's fit a Naive Bayes model for spam detection\n",
    "\n",
    "To fit, we need to calculate:\n",
    "* priors - $P(ham)$ and $P(spam)$\n",
    "* likelihoods - for any token $x$, $P(x|ham)$ and $P(x|spam)$\n",
    "\n",
    "### Priors\n",
    "\n",
    "Calculating priors will be easy. "
   ]
  },
  {
   "cell_type": "code",
   "execution_count": 11,
   "id": "62578037",
   "metadata": {},
   "outputs": [
    {
     "name": "stdout",
     "output_type": "stream",
     "text": [
      "{'ham': 0.8649921507064364, 'spam': 0.13500784929356358}\n"
     ]
    }
   ],
   "source": [
    "priors = {'ham': len(train[np.where(train[:, 0] == 'ham')]) / len(train), 'spam': len(train[np.where(train[:, 0] == 'spam')]) / len(train)}\n",
    "print(priors)"
   ]
  },
  {
   "attachments": {},
   "cell_type": "markdown",
   "id": "f80a8553",
   "metadata": {},
   "source": [
    "### Likelihoods\n",
    "\n",
    "Calculating likelihoods will be tricky, because:.\n",
    "* Sometimes the likelihoods will be 0, as a token will occur *no* times in one of 'ham' or 'spam'.\n",
    "* A lot of the likelihoods will be veerrrry small, as most of the tokens occur only once.\n",
    "\n",
    "To deal with these, we:\n",
    "* 0s - use *Laplace smoothing*.\n",
    "* veerrrry small - move from regular count space to log space (see plot).\n",
    "  * in 'regular count space' $P(I, like, candy) | ham) = P(I|ham)*P(like|ham)*P(candy|ham)$.\n",
    "  * in 'log space' $P(I, like, candy) | ham) = log(P(I|ham)) + log(P(like|ham)) + log(P(candy|ham))$, because the logarithm of a product is the sum of the logarithms.\n",
    "\n",
    "Let's visualize the difference between count space and log space.\n"
   ]
  },
  {
   "cell_type": "code",
   "execution_count": 12,
   "id": "d7e0f9fb",
   "metadata": {},
   "outputs": [
    {
     "data": {
      "image/png": "[encoded data removed]",
      "text/plain": [
       "<Figure size 640x480 with 1 Axes>"
      ]
     },
     "metadata": {},
     "output_type": "display_data"
    }
   ],
   "source": [
    "res = np.array([[i, 1/i, np.log(1/i)] for i in range(1, 1000)])\n",
    "plt.plot(res[:, 0], res[:, 1])\n",
    "plt.plot(res[:, 0], res[:, 2])\n",
    "plt.show()"
   ]
  },
  {
   "attachments": {},
   "cell_type": "markdown",
   "id": "9631038f",
   "metadata": {},
   "source": [
    "Let's calculate the log likelihoods using Laplace smoothing of 1."
   ]
  },
  {
   "cell_type": "code",
   "execution_count": 13,
   "id": "82fb2dbb",
   "metadata": {},
   "outputs": [],
   "source": [
    "def calculate_likelihoods(data, sorted_tokens, token_counts):\n",
    "    likelihoods = {}\n",
    "    # assume we have all the possible values for the dependent variable in this data subset.\n",
    "    cats = np.unique(data[:, 0])\n",
    "    # for each possible outcome\n",
    "    for cat in cats:\n",
    "        likelihoods[cat] = {}\n",
    "        # for each possible value of the independent variable\n",
    "        for token in sorted_tokens:\n",
    "            # add 1 in the numerator for Laplace smoothing; add the number of possible values of the independent variable to the denominator for Laplace smoothing\n",
    "            # take the log of the likelihood\n",
    "            likelihoods[cat][token] = np.log((token_counts[cat][token] + 1) / \n",
    "                                             (len(np.where([data[:, 0] == cat])) + len(sorted_tokens)))\n",
    "    return likelihoods"
   ]
  },
  {
   "cell_type": "code",
   "execution_count": 14,
   "id": "15fef7ae",
   "metadata": {},
   "outputs": [
    {
     "name": "stdout",
     "output_type": "stream",
     "text": [
      "2\n",
      "1925\n",
      "1925\n"
     ]
    }
   ],
   "source": [
    "likelihoods = calculate_likelihoods(train, sorted_tokens, token_counts)\n",
    "# sanity check!\n",
    "print(len(likelihoods))\n",
    "print(len(likelihoods['ham']))\n",
    "print(len(likelihoods['spam']))"
   ]
  },
  {
   "cell_type": "markdown",
   "id": "b2327924",
   "metadata": {},
   "source": [
    "## Predict\n",
    "\n",
    "Let's use the Naive Bayes model we fit to predict the class for each item in our test data.\n",
    "\n",
    "We will have to tokenize each SMS, of course."
   ]
  },
  {
   "cell_type": "code",
   "execution_count": 16,
   "id": "edf24e6c",
   "metadata": {},
   "outputs": [],
   "source": [
    "def p_text_given_category(text, cat, likelihoods):\n",
    "    tokens = tokenize(text)\n",
    "    sum = 0\n",
    "    for token in tokens:\n",
    "        # if the token is not in our vocab from train, it just gets dropped\n",
    "        try:\n",
    "            likelihood = likelihoods[cat][token]\n",
    "        except:\n",
    "            likelihood = 0\n",
    "        # we add instead of multiply, because we are in log space\n",
    "        sum += likelihood\n",
    "    return sum\n",
    "        \n",
    "def predict(data, priors, likelihoods):\n",
    "    labels = []\n",
    "    cats = np.unique(data[:, 0])\n",
    "    for i in range(len(data)):    \n",
    "        res = []\n",
    "        for cat in cats:\n",
    "            # we add instead of multiply, because we are in log space\n",
    "            res.append(np.log(priors[cat]) + p_text_given_category(data[i][1], cat, likelihoods))\n",
    "        # take the argmax, and also its probability - take the exponent to get us out of log space\n",
    "        labels.append((cats[np.argmax(res)], np.exp(res[np.argmax(res)])))\n",
    "    return labels"
   ]
  },
  {
   "cell_type": "code",
   "execution_count": 17,
   "id": "19530f23",
   "metadata": {},
   "outputs": [
    {
     "name": "stdout",
     "output_type": "stream",
     "text": [
      "[('ham', 1.3083772514806825e-07), ('spam', 2.3630609743695414e-16), ('ham', 8.249739126775618e-32), ('ham', 4.033436203760512e-43), ('ham', 2.1185877959239838e-10), ('ham', 7.242963403975517e-26), ('ham', 0.004937682230291021), ('spam', 3.4903326724300753e-06), ('ham', 0.0012939956026450268), ('ham', 1.2676967122416785e-27), ('ham', 7.267806085062975e-05), ('ham', 2.964394139278562e-34), ('ham', 2.1676899684480647e-11), ('ham', 0.8649921507064364), ('ham', 4.7424974210780004e-11), ('ham', 8.038752688792993e-08), ('spam', 1.3815900161702397e-05), ('ham', 5.191905510027772e-08), ('ham', 0.0011293052532174784), ('ham', 1.8495739942204217e-09), ('ham', 0.0003960022546348414), ('ham', 0.8649921507064364), ('ham', 3.445951320571062e-08), ('ham', 0.002693281216522376), ('ham', 4.376346509076042e-08), ('ham', 1.1860283169353899e-21), ('ham', 3.074841035988183e-05), ('ham', 9.084757606328726e-05), ('ham', 2.110384126931552e-06), ('ham', 1.6127858599671407e-15), ('ham', 2.445896278626966e-05), ('ham', 3.680065651788872e-18), ('ham', 2.4919908894781678e-20), ('ham', 4.3021161268885294e-17), ('ham', 7.180479845327882e-08), ('ham', 6.518978444701598e-17), ('ham', 5.779501946442086e-13), ('ham', 2.1832482629872763e-18), ('ham', 2.3843573824759232e-23), ('ham', 0.033666015206529704), ('spam', 2.412409848556574e-13), ('ham', 3.6462335799938774e-16), ('ham', 0.00031680180370787365), ('ham', 0.0011402535508456182), ('ham', 0.8649921507064364), ('ham', 0.002693281216522376), ('ham', 6.455544477201123e-09), ('spam', 2.2617476105766246e-10), ('ham', 0.00018449046215929121), ('ham', 3.0458377213018157e-40), ('ham', 7.234877419913697e-07), ('ham', 9.550642611781484e-05), ('ham', 6.242442669318738e-13), ('ham', 2.626052738196415e-25), ('ham', 1.023777221058106e-09), ('ham', 5.018515789500527e-10), ('ham', 1.4215899491760276e-07), ('ham', 1.3437076026387646e-08), ('spam', 1.2620234099539928e-19), ('ham', 3.0960227608586703e-07), ('ham', 5.627763606345897e-09), ('ham', 1.2392717902849463e-20), ('ham', 5.043040328652384e-18), ('ham', 2.4063431914549835e-07), ('ham', 2.60895603053543e-05), ('ham', 4.736027167986868e-18), ('ham', 1.484546075496678e-05), ('ham', 2.3992108661204176e-39), ('ham', 1.349873658921104e-18), ('ham', 0.00041789884989112134), ('ham', 9.145816950519268e-24), ('ham', 1.2097108744416292e-13), ('ham', 1.9442098887445155e-22), ('ham', 5.342633370013606e-31), ('ham', 3.1387897084326225e-16), ('spam', 1.855836744829343e-41), ('ham', 1.2601742128550451e-05), ('ham', 2.743873507909411e-09), ('ham', 9.017131412210838e-22), ('ham', 1.5557706331543737e-06), ('ham', 0.0067332030413059405), ('ham', 1.6786279973669373e-14), ('ham', 0.00026275914307535397), ('ham', 1.2882697534723345e-23), ('ham', 7.57280788672484e-23), ('ham', 2.0785826478077408e-11), ('ham', 0.008528723852320853), ('ham', 1.1179480961350801e-21), ('ham', 6.005610746560444e-24), ('ham', 8.694578605309676e-09), ('ham', 6.8602343968216125e-12), ('ham', 2.1218711865734885e-10), ('ham', 5.124929129651203e-25), ('ham', 4.505372550024104e-09), ('ham', 5.446453641802564e-10), ('ham', 3.431810616953517e-23), ('ham', 4.610761381603599e-09), ('ham', 6.932817345882376e-35), ('spam', 0.0005604892549810631), ('ham', 4.075224520971272e-06), ('ham', 1.2419792727011586e-18), ('ham', 1.4028144940396765e-11), ('ham', 2.284698132604329e-07), ('ham', 6.6903034505774945e-21), ('ham', 0.0002921098984188773), ('ham', 2.8668304001464352e-11), ('ham', 4.5693962652086585e-07), ('ham', 1.1713489313593766e-14), ('ham', 7.187052360499476e-26), ('ham', 7.832080647488402e-09), ('ham', 6.131766200360498e-20), ('ham', 1.3095440564017394e-08), ('spam', 1.5949774078499486e-22), ('ham', 9.217323304613237e-12), ('ham', 0.000983949131516218), ('spam', 6.002927427864422e-14), ('ham', 0.003591041622029834), ('ham', 6.289447573612202e-05), ('spam', 3.7479186438437384e-32), ('spam', 5.862159582054483e-32), ('spam', 7.885716382975202e-34), ('ham', 1.9572211579052004e-08), ('ham', 1.5109470316956616e-05), ('ham', 3.4169143517816153e-12), ('ham', 1.954403288634706e-09), ('spam', 4.535038750832878e-20), ('ham', 4.91668705708253e-11), ('spam', 1.91355712899942e-26), ('spam', 4.324407734642135e-22), ('ham', 1.896884787367223e-12), ('ham', 7.864273868639066e-32), ('ham', 3.9876122760213213e-08), ('ham', 7.043048734496733e-09), ('spam', 4.497713519724034e-28), ('ham', 5.523892373941132e-06), ('ham', 6.273795004835233e-12), ('ham', 6.255775018283436e-22), ('ham', 9.084757606328742e-05), ('ham', 2.5700274741153723e-15), ('ham', 0.005386562433044752), ('ham', 4.3593500619848476e-11), ('ham', 7.966633593242117e-05), ('ham', 5.110612690917751e-24), ('spam', 8.542961906899534e-25), ('ham', 3.481603855918667e-14), ('ham', 1.555952200829148e-14), ('ham', 1.2578895147224413e-05), ('ham', 1.092180063924539e-10), ('ham', 3.064389660148445e-25), ('ham', 6.0565050708858215e-05), ('ham', 1.3297184898755335e-06), ('ham', 8.694578605309667e-10), ('ham', 4.685444424325069e-06), ('ham', 0.0004607602703927742), ('ham', 2.748996847394042e-10), ('ham', 0.02962609338174614), ('ham', 8.802319790612876e-17), ('spam', 3.883927585271003e-13), ('ham', 6.3373817389812545e-09), ('ham', 5.932785717113273e-12), ('ham', 4.752027055618105e-05), ('ham', 1.2066590878125075e-05), ('ham', 1.109710521550675e-06), ('ham', 0.8649921507064364), ('ham', 5.254805704989951e-07), ('ham', 5.520594553411626e-12), ('ham', 5.727202098083237e-11), ('ham', 0.01032424466333577), ('ham', 2.2932609751701565e-08), ('spam', 2.0588153659151598e-27), ('spam', 1.0877496554148675e-30), ('ham', 6.1326262947696446e-09), ('ham', 1.6519699350088337e-08), ('ham', 3.4814447734923076e-07), ('ham', 0.031421614192761065), ('ham', 2.1821558796172775e-11), ('ham', 8.084640742543244e-09), ('ham', 8.733311286201877e-12), ('ham', 1.6736750157984261e-09), ('ham', 2.2288079132544615e-14), ('ham', 0.0005357677562706682), ('ham', 1.231142905494386e-10), ('ham', 8.851815103602357e-05), ('ham', 0.8649921507064364), ('ham', 3.7571118458095595e-09), ('ham', 5.1713235605255857e-05), ('ham', 5.106119001122058e-07), ('ham', 9.224523107964561e-05), ('spam', 2.1369402442396094e-34), ('ham', 5.135978694801218e-33), ('ham', 5.396487504197878e-13), ('ham', 5.254609340742325e-20), ('ham', 1.376923191383274e-12), ('ham', 1.2302685871476844e-27), ('ham', 8.426567204606295e-10), ('ham', 2.0174277214867657e-09), ('ham', 9.671840458143833e-08), ('ham', 2.0474074922340914e-12), ('ham', 2.2550816753298252e-06), ('spam', 3.25242015736679e-36), ('ham', 2.600921444890995e-11), ('ham', 2.6617617126077596e-12), ('ham', 2.566813265247383e-09), ('ham', 0.0014151257040627438), ('ham', 2.514376780855552e-07), ('ham', 8.665461101421251e-05), ('ham', 0.004488802027537292), ('ham', 5.747279464275412e-12), ('ham', 0.8649921507064364), ('ham', 0.012568645677104421), ('ham', 6.289447573612202e-05), ('ham', 1.4390890948644658e-22), ('ham', 7.234877419913697e-07), ('ham', 3.7367527868069157e-16), ('ham', 1.85009903075702e-24), ('ham', 3.7053274686468056e-23), ('ham', 1.097017754147317e-06), ('ham', 1.042546658590589e-25), ('ham', 1.5959039548488015e-06), ('ham', 0.012119765474350688), ('ham', 2.9702186070474657e-07), ('ham', 0.01032424466333577), ('ham', 7.7429560894426e-13), ('ham', 0.0002306130776991138), ('ham', 4.42590755180117e-05), ('ham', 8.014575988977083e-06), ('ham', 2.844917675978233e-28), ('ham', 8.527635476925415e-11), ('ham', 1.1565187638034792e-12), ('ham', 0.8649921507064364), ('ham', 3.998463499055731e-05), ('ham', 1.0879514917163468e-07), ('ham', 5.140570798359739e-06), ('ham', 4.018827444232022e-08), ('ham', 3.058379160973091e-22), ('ham', 1.6139880493510855e-21), ('ham', 6.280245920568946e-24), ('spam', 4.44630301386365e-29), ('ham', 5.942847681441626e-14), ('ham', 1.1838566761869195e-09), ('ham', 3.5249628331609674e-07), ('ham', 5.7769740676141705e-05), ('ham', 1.3353384573591404e-20), ('ham', 2.872191938131159e-07), ('ham', 0.8649921507064364), ('ham', 3.06298743660994e-10), ('ham', 2.426954235802453e-07), ('ham', 9.573973127103827e-07), ('ham', 1.0228945254824211e-20), ('ham', 0.0067332030413059405), ('ham', 3.359574688117818e-09), ('ham', 2.400916616881419e-13), ('ham', 2.2335257859508327e-22), ('ham', 2.6408546444624022e-21), ('ham', 1.0380219523486372e-16), ('ham', 0.02379065074594766), ('ham', 8.290756713677484e-10), ('ham', 0.002693281216522376), ('ham', 2.7045118954891287e-19), ('ham', 1.2780090789386397e-12), ('ham', 5.3423355208180534e-08), ('ham', 4.60512699372535e-14), ('ham', 6.003355973347628e-10), ('ham', 8.531737273691589e-11), ('ham', 4.4648919470370397e-07), ('ham', 0.0067332030413059405), ('spam', 2.1138355503197524e-16), ('ham', 0.0004728732805345465), ('ham', 7.996181490610036e-17), ('spam', 2.437580826331337e-29), ('spam', 3.034496900916654e-13), ('ham', 3.288031174964952e-07), ('ham', 3.946844316542934e-19), ('ham', 0.8649921507064364), ('ham', 1.8411282210816636e-05), ('ham', 5.035397169161403e-13), ('spam', 1.1664132231751663e-15), ('ham', 5.3004996676420316e-06), ('ham', 0.0002725427281898616), ('ham', 3.094603384574588e-16), ('ham', 6.198339398776367e-31), ('ham', 0.02468841115145512), ('ham', 2.547332986002204e-10), ('ham', 6.503706407564206e-10), ('ham', 2.024073308588721e-06), ('ham', 4.075224520971272e-06), ('ham', 0.8649921507064364), ('spam', 1.0609158553173518e-12), ('ham', 7.420241501091235e-09), ('ham', 4.7252698746599745e-11), ('ham', 2.0033984803222357e-18), ('ham', 2.2396278324386507e-14), ('ham', 2.3688774456155313e-18), ('spam', 2.598009562786333e-25), ('ham', 1.1195305023217769e-08), ('ham', 6.160563358160476e-19), ('ham', 2.0338696471728448e-11), ('ham', 6.313277142695122e-11), ('ham', 4.787499853572555e-27), ('ham', 9.461679246629547e-19), ('spam', 1.8442732125281194e-32), ('spam', 7.724106147033891e-28), ('ham', 1.9628456277477609e-13), ('ham', 5.118886105290521e-10), ('ham', 1.1543159265240766e-10), ('ham', 0.020648489326671553), ('ham', 1.5473087882188053e-07), ('ham', 2.069125983567727e-12), ('ham', 0.8649921507064364), ('spam', 1.1042585185513424e-13), ('ham', 1.3073539638709198e-09), ('ham', 1.3924961963967118e-10), ('ham', 6.527708950298077e-07), ('ham', 3.843551294985232e-05), ('ham', 1.3055417900596152e-08), ('ham', 2.520607682393703e-10), ('ham', 1.8992573005364736e-08), ('ham', 2.3623617099153077e-27), ('ham', 2.8377200837597197e-11), ('ham', 9.044784170793941e-15), ('ham', 2.7830068983713784e-19), ('ham', 3.488147633833823e-15), ('ham', 2.0262876025017585e-10), ('ham', 3.3251407240539664e-12), ('ham', 0.005386562433044752), ('ham', 3.935436802573122e-18), ('ham', 1.9196408865806117e-10), ('spam', 3.183876765141434e-31), ('ham', 7.570631338607283e-05), ('ham', 6.645763261101333e-08), ('ham', 3.1396499757850295e-27), ('ham', 3.0487483421215635e-09), ('ham', 1.4223922492516112e-12), ('ham', 0.005386562433044752), ('ham', 0.008079843649567124), ('ham', 3.889342839584119e-21), ('ham', 1.7825768084305853e-08), ('ham', 1.1657037583243418e-05), ('spam', 1.636731238433514e-30), ('ham', 2.7934322155543264e-19), ('ham', 1.8807538320799536e-05), ('ham', 2.8966873136997047e-08), ('ham', 3.0531981317377002e-30), ('ham', 2.589697524216257e-31), ('ham', 0.012568645677104421), ('ham', 0.007182083244059669), ('ham', 4.475005840783832e-12), ('ham', 0.00026718505062715516), ('ham', 2.9244136097335344e-06), ('spam', 3.2256034659918094e-24), ('ham', 2.0091248633384557e-17), ('ham', 2.2391088317904648e-32), ('ham', 2.1126443137738557e-27), ('ham', 6.656630180572565e-11), ('ham', 2.7994762929300667e-12), ('ham', 0.8649921507064364), ('ham', 3.3311513225281847e-15), ('ham', 7.345755880452458e-07), ('ham', 7.80513327510797e-12), ('ham', 5.2936657857640755e-15), ('ham', 0.004488802027537292), ('ham', 0.008079843649567124), ('ham', 2.543113995042691e-13), ('ham', 4.24716991265429e-09), ('spam', 1.4022206127788935e-30), ('ham', 7.54733708833463e-05), ('ham', 2.232511122582247e-31), ('ham', 1.4675377671761799e-05), ('ham', 0.002693281216522376), ('ham', 1.815110934423438e-17), ('ham', 8.758492909330401e-15), ('ham', 2.7562629687647374e-08), ('ham', 1.210385520890834e-11), ('ham', 5.893445318977353e-05), ('ham', 9.108606157943455e-08), ('spam', 1.1864040700560336e-21), ('ham', 0.018404088312902904), ('ham', 4.3213985091202954e-23), ('ham', 2.1311760887732412e-06), ('ham', 1.67718601962992e-05), ('ham', 6.118360982454011e-21), ('ham', 2.3686782512321787e-10), ('spam', 3.25242015736679e-36), ('ham', 2.017238653864459e-12), ('ham', 2.073503840832659e-10), ('ham', 5.8024079558205055e-08), ('spam', 6.083807106646965e-37), ('ham', 0.8649921507064364), ('ham', 4.969309627245987e-15), ('ham', 2.3299345019994574e-10), ('ham', 0.0031421614192761044), ('ham', 4.4475456981364246e-06), ('ham', 1.8310420764307347e-10), ('ham', 0.00035849851169589487), ('ham', 3.5902399226639453e-07), ('ham', 1.311585965013594e-06), ('ham', 1.0240281468475812e-08), ('ham', 1.3044780152677148e-05), ('ham', 2.9012039779102474e-08), ('ham', 1.8533395032523594e-12), ('ham', 0.008528723852320853), ('ham', 3.86542872404277e-21), ('ham', 2.0274888599264665e-16), ('spam', 3.177657037191548e-05), ('spam', 1.8403813636910716e-13), ('spam', 1.4733670148899163e-10), ('ham', 1.5028236605575138e-06), ('ham', 3.2674809801214316e-06), ('ham', 1.9507285030373544e-35), ('ham', 5.2412063113434996e-05), ('ham', 1.6575938694402138e-13), ('ham', 1.266076933294908e-30), ('ham', 4.099104916201542e-20), ('ham', 0.8649921507064364), ('ham', 4.4588476925120904e-13), ('ham', 6.638861327701762e-05), ('ham', 6.895194787500036e-07), ('ham', 3.929497863178911e-08), ('ham', 8.224879452303386e-15), ('ham', 9.12963819597603e-15), ('spam', 2.1526516730636756e-34), ('ham', 2.3669375312739705e-12), ('ham', 1.0840469430879882e-12), ('ham', 0.021546249732179012), ('ham', 6.022218947400635e-10), ('ham', 6.807783476861606e-19), ('ham', 2.450084735006584e-13), ('ham', 3.0561054862689774e-07), ('ham', 0.011670885271596954), ('spam', 6.239155197160984e-31), ('ham', 3.3514201597973285e-26), ('ham', 4.143725507276524e-56), ('ham', 3.8237797707796753e-28), ('ham', 1.9750667046685655e-12), ('ham', 2.2422490444453855e-17), ('ham', 1.5318357003366168e-06), ('ham', 0.028728332976238682), ('spam', 3.991069422351303e-32), ('ham', 2.665481154705052e-07), ('ham', 2.6617617126077596e-12), ('ham', 5.870151068704721e-05), ('ham', 2.8117152731857634e-10), ('spam', 4.426107918089261e-25), ('ham', 6.059857815821884e-08), ('spam', 1.902010712458684e-18), ('ham', 3.6339030425314936e-05), ('ham', 2.1029131086500854e-70), ('ham', 5.772162455881367e-21), ('ham', 4.227597701075248e-08), ('ham', 0.00038808220954214485), ('ham', 0.8649921507064364), ('ham', 6.64009993960479e-09), ('ham', 5.799225714322357e-16), ('ham', 4.883731993158526e-13), ('ham', 0.02827945277348496), ('ham', 1.4204803885016748e-12), ('ham', 1.4219119168748716e-33), ('ham', 3.193476660083177e-11), ('ham', 2.630424939971967e-06), ('spam', 2.1622180348202867e-35), ('ham', 1.1730780657957472e-08), ('ham', 0.0005849186243459337), ('ham', 4.442468591175086e-07), ('ham', 1.1243784631026897e-31), ('ham', 4.915353304080953e-28), ('ham', 3.9291794856203837e-10), ('ham', 1.2960115191941068e-09), ('ham', 2.1227774883351748e-11), ('ham', 3.086881032496511e-06), ('ham', 5.590620065433066e-05), ('ham', 4.872240361100476e-13), ('ham', 1.2900035905183293e-17), ('ham', 6.072425888556116e-26), ('ham', 2.9270926475534986e-18), ('ham', 0.8649921507064364), ('ham', 2.284698132604329e-07), ('ham', 0.00043560248009832584), ('ham', 1.5430508634623313e-16), ('ham', 0.004488802027537292), ('ham', 1.109710521550673e-06), ('ham', 8.081304908032667e-29), ('ham', 7.231663022462413e-11), ('ham', 1.4864040805974251e-07), ('ham', 3.7872229405465724e-07), ('ham', 7.230644099283646e-17), ('ham', 2.6110835801192257e-08), ('ham', 4.3086706783065245e-13), ('ham', 2.078869983732414e-16), ('ham', 1.0478623466335213e-08), ('spam', 2.6256850085698084e-23), ('ham', 5.092682782040064e-20), ('ham', 0.00023480604274818886), ('ham', 1.2478050100809298e-29), ('ham', 7.416672730244959e-24), ('spam', 3.5676380261812066e-12), ('ham', 5.3414244039641785e-18), ('ham', 2.397257085130512e-19), ('ham', 5.4254170497132324e-08), ('ham', 2.235808172625879e-18), ('ham', 0.004937682230291021), ('ham', 0.00012998191652131865), ('ham', 8.936988511039374e-15), ('ham', 0.8649921507064364), ('ham', 2.189149738988718e-26), ('ham', 3.2146065376240087e-05), ('ham', 0.0002075517699292023), ('ham', 3.1367151613682145e-19), ('ham', 7.107949745880127e-06), ('spam', 3.68003918754157e-35), ('ham', 1.0879514917163468e-07), ('ham', 2.6458980278541553e-06), ('ham', 3.769167321523693e-19), ('ham', 5.663759040579835e-19), ('ham', 3.181351487027216e-05), ('ham', 4.167991246906162e-12), ('ham', 0.00017936572709931098), ('ham', 6.675264483028821e-13), ('ham', 3.5386936676262896e-15), ('ham', 1.6172798678151648e-10), ('ham', 2.2791926716861854e-10), ('ham', 4.531575095456167e-21), ('ham', 1.8172047032626256e-24), ('ham', 5.379315709041938e-06), ('ham', 7.59266309340901e-08), ('ham', 0.8649921507064364), ('ham', 0.0001553726493184939), ('ham', 4.648844907823651e-15), ('ham', 3.2384689403423254e-06), ('ham', 1.2157354500065038e-08), ('ham', 0.00628432283855221), ('ham', 0.004937682230291021), ('ham', 2.8189369452055936e-11), ('spam', 6.543152934629e-40), ('ham', 1.7766063702385855e-14), ('ham', 1.0433494326371604e-09), ('ham', 1.0441295722605411e-20), ('ham', 1.2223739426928559e-06), ('ham', 4.521000208192607e-07), ('ham', 1.6125964586278744e-11), ('ham', 0.0004192965049074793), ('ham', 1.2565839729323809e-06), ('ham', 3.9134340458031425e-05), ('ham', 5.286232800954126e-13), ('ham', 1.952328105010444e-07), ('ham', 1.277312638743674e-07), ('spam', 1.884751048321867e-36), ('ham', 2.863601049041616e-10), ('ham', 1.2593808994650184e-20), ('ham', 0.0031421614192761044), ('ham', 0.00036199264923679074), ('ham', 8.39158571451856e-09), ('ham', 5.709063562135782e-09), ('ham', 6.638861327701762e-05), ('spam', 9.649640617093786e-35), ('ham', 1.036824381840373e-17), ('ham', 2.8262273520151193e-08), ('ham', 1.575695340852916e-19), ('ham', 5.69416789861421e-14), ('ham', 5.683563228780404e-08), ('spam', 2.9267402289914314e-28), ('ham', 3.577122836136128e-30), ('ham', 7.857427440173607e-08), ('ham', 4.323717685463299e-12), ('ham', 3.4941375408956684e-05), ('ham', 4.994937972577611e-16), ('ham', 6.746402486414245e-17), ('ham', 1.7068925718091304e-07), ('ham', 1.111063898976417e-08), ('spam', 5.558144385676364e-26), ('spam', 2.595313133556644e-26), ('ham', 4.495890160648842e-16), ('spam', 8.144389204787574e-15), ('ham', 8.779011016167346e-16), ('ham', 0.0067332030413059405), ('ham', 0.033666015206529704), ('ham', 6.9035413471644235e-18), ('ham', 0.8649921507064364), ('ham', 1.2200384301379005e-10), ('ham', 3.2428437037991567e-20), ('ham', 0.00012276069893680098), ('ham', 2.6456242880344582e-19), ('ham', 3.091376557999761e-09), ('ham', 8.224879452303386e-15), ('ham', 7.0009390576153795e-12), ('spam', 4.568374988409127e-23), ('ham', 5.168263925409349e-13), ('ham', 8.24976168592915e-27), ('ham', 4.173202401125827e-23), ('ham', 2.237311955281898e-12), ('ham', 0.03501265581479089), ('ham', 2.98717261564006e-17), ('ham', 1.6668111381112144e-22), ('ham', 0.007182083244059669), ('ham', 3.2438855025879567e-13), ('ham', 2.1666438218010598e-08), ('ham', 0.8649921507064364), ('spam', 1.7026825437531607e-31), ('ham', 1.4638301658572817e-24), ('ham', 9.14310845399627e-08), ('ham', 2.3096284959048874e-17), ('ham', 3.1777854238043663e-06), ('spam', 2.5597653714625146e-28), ('ham', 4.0829006231628344e-05), ('ham', 6.968836488195163e-09), ('ham', 2.4985445587274324e-17), ('ham', 7.77353989084276e-14), ('ham', 2.0287350079055833e-09), ('ham', 0.00014815143173397616), ('ham', 1.0574947265839457e-16), ('spam', 3.0158996869735994e-15), ('ham', 3.074841035988183e-05), ('ham', 3.0122277016282456e-10), ('spam', 4.0973301998463263e-13), ('ham', 0.008977604055074586), ('spam', 5.851233951233332e-17), ('ham', 8.152987595423219e-05), ('ham', 0.018852968515656633), ('spam', 3.188312956265481e-28), ('ham', 5.41683280944092e-10), ('ham', 7.117737820132711e-15), ('spam', 1.33351485559838e-35), ('ham', 1.4188941884923515e-13), ('ham', 2.630423669066038e-10), ('ham', 2.7325818473830337e-09), ('ham', 2.0308427845371746e-08), ('ham', 1.5510658431988662e-41), ('ham', 6.419936323718546e-08), ('ham', 0.0003459196165486705), ('ham', 9.653468762674634e-13), ('ham', 5.186134951870301e-15), ('ham', 2.096081953254591e-10), ('ham', 6.904865467426414e-07), ('ham', 2.8286738784625008e-06), ('ham', 0.8649921507064364), ('ham', 9.138792530417324e-08), ('ham', 1.273124795396426e-10), ('ham', 0.004488802027537292), ('ham', 3.48144477349231e-08), ('ham', 3.331077788987204e-05), ('ham', 9.254988042581994e-15), ('ham', 8.379840949230864e-13), ('ham', 1.6858448566833108e-15), ('ham', 2.2641094890086002e-32), ('ham', 7.166440547406731e-09), ('ham', 1.7564805263251848e-09), ('ham', 8.298960304360293e-20), ('ham', 2.2087727468121164e-17), ('ham', 7.295355469820578e-71), ('ham', 9.573973127103861e-07), ('ham', 2.7720157824438962e-05), ('ham', 1.1856243552694971e-10), ('ham', 8.655107995958217e-25), ('ham', 0.00038155981946580626), ('ham', 1.5940060776401055e-08), ('ham', 2.2181839789592296e-09), ('spam', 1.105724189433488e-28), ('ham', 7.611617909151652e-12), ('ham', 6.962889546984616e-07), ('spam', 1.694701622494463e-23), ('ham', 0.002693281216522376), ('ham', 0.011222005068843233), ('ham', 0.00021523887251917285), ('ham', 5.42225538476584e-08), ('spam', 1.3482777188869332e-12), ('ham', 0.00017889984209385802), ('ham', 5.53291365792432e-09), ('ham', 1.66213242948257e-08), ('ham', 6.229552541872478e-17), ('ham', 1.8318171774386433e-27), ('ham', 3.397464933958162e-21), ('ham', 2.6874152052775314e-09), ('ham', 4.2260871278226053e-07), ('ham', 2.565808899805654e-33), ('ham', 1.6005928796138253e-08), ('ham', 2.608373581592897e-08), ('ham', 2.9335330610383153e-15), ('ham', 7.8521216805697e-19), ('ham', 0.004937682230291021), ('ham', 0.0002499473054254036), ('ham', 3.72603311768305e-09), ('spam', 3.311516115700861e-44), ('ham', 5.278625462870331e-08), ('ham', 2.1644355767443057e-25), ('ham', 1.647734403488584e-17), ('spam', 7.700790933328553e-43), ('ham', 1.702270993001726e-25), ('ham', 1.9714796185074693e-20), ('ham', 7.570631338607283e-05), ('ham', 3.5723855296384394e-13), ('ham', 3.674389412594625e-15), ('spam', 2.598297813447047e-15), ('ham', 1.7059817111933316e-08), ('ham', 1.1088401603573005e-05), ('ham', 4.741160443621045e-17), ('ham', 4.869332980594732e-12), ('ham', 8.199852352146446e-22), ('ham', 4.728634556418902e-14), ('ham', 0.0031421614192761044), ('ham', 2.4597245978251788e-23), ('ham', 1.9873322526422112e-10), ('ham', 4.423696205549967e-09), ('ham', 2.106394971461926e-06), ('spam', 0.0007006115687263296), ('ham', 1.0343167315305328e-07), ('ham', 1.639077987772677e-11), ('ham', 9.597911447419745e-10), ('ham', 7.797173884975929e-07), ('spam', 2.78339361302775e-22), ('ham', 2.0523721357232536e-05), ('ham', 1.2086009032231833e-30), ('ham', 1.0117327831633061e-09), ('ham', 0.00014908320174488162), ('ham', 8.754383003344191e-07), ('ham', 4.466640128734954e-18), ('ham', 0.00036199264923679074), ('ham', 1.5945985038153217e-12), ('ham', 0.003591041622029834), ('ham', 0.8649921507064364), ('ham', 5.613308874541808e-11), ('ham', 4.3310140050236996e-06), ('ham', 5.968556737867422e-12), ('spam', 2.0901885184706053e-29), ('ham', 2.227431595289879e-26), ('ham', 7.229572729028998e-26), ('ham', 1.2341910418223894e-08), ('ham', 1.929300645310321e-06), ('ham', 0.008079843649567124), ('ham', 1.3056921190333255e-14), ('ham', 3.750374293894679e-05), ('ham', 0.003591041622029834), ('ham', 0.0031421614192761044), ('ham', 0.003591041622029834), ('spam', 1.43719942477361e-28), ('spam', 3.8996329475884135e-26), ('ham', 0.0007500748587789354), ('ham', 8.962900611508765e-23), ('ham', 5.544031564887783e-05), ('ham', 4.4098300464235947e-07), ('ham', 7.770653879368309e-27), ('spam', 1.2443383301761899e-21), ('ham', 1.518886424044967e-07), ('ham', 8.895603943789923e-19), ('ham', 0.004488802027537292), ('ham', 6.108075906650848e-17), ('spam', 3.311516115700861e-44), ('ham', 4.064997789495419e-11), ('ham', 3.3543720392598345e-05), ('ham', 4.392720171075377e-15), ('spam', 4.626248332802191e-29), ('ham', 0.0004006611046893694), ('ham', 1.1489180820111367e-17), ('ham', 0.03995033804508192), ('ham', 1.2242791896833773e-42), ('ham', 1.430337222197123e-07), ('ham', 2.8431798983520504e-07), ('ham', 0.01032424466333577), ('ham', 0.01032424466333577), ('ham', 8.224879452303386e-15), ('ham', 2.1860654779064236e-08), ('ham', 0.0001621279818975588), ('ham', 2.0988073693281348e-10), ('ham', 0.038603697436820725), ('ham', 1.6636887683698638e-09), ('ham', 4.12070331475888e-09), ('ham', 7.860709365895699e-10), ('ham', 1.0879514917163468e-07), ('ham', 0.00012159598642316925), ('ham', 6.135344102662676e-15), ('ham', 1.1361649088585053e-20), ('ham', 0.00026462268309716477), ('ham', 1.6077505377585985e-07), ('spam', 3.25242015736679e-36), ('ham', 1.0370261027423871e-07), ('ham', 0.045336900478126684), ('ham', 1.9902077360461457e-18), ('spam', 2.333791959874546e-35), ('ham', 1.6382131795266574e-05), ('ham', 4.183832701521847e-11), ('ham', 8.409224348422227e-05), ('ham', 1.2119574866028017e-27), ('spam', 1.043433848468564e-23), ('ham', 2.4845789983324345e-05), ('ham', 1.0953253851602025e-06), ('ham', 2.4731245810658567e-08), ('ham', 6.537379630224449e-07), ('ham', 3.850139445685071e-07), ('ham', 5.550404245114107e-20), ('ham', 1.8221728980097454e-08), ('ham', 2.103636356063879e-08), ('ham', 1.0260974998529432e-11), ('ham', 8.152987595423219e-05), ('ham', 0.00628432283855221), ('ham', 2.7070297689446157e-12), ('spam', 3.187440937667501e-31), ('ham', 5.330314046745736e-19), ('ham', 2.1085978221079436e-12), ('ham', 6.346383701678696e-06), ('ham', 4.294990722297967e-06), ('ham', 0.008528723852320853), ('ham', 4.525878205540001e-07), ('ham', 4.711206571461561e-10), ('ham', 0.012568645677104421), ('ham', 3.97179138105582e-14), ('ham', 1.9549407726517522e-25), ('ham', 6.817653700036454e-10), ('ham', 0.0008302070797168094), ('ham', 4.161171249459359e-13), ('ham', 3.264377481853763e-47), ('ham', 0.0002608956030535428), ('ham', 3.815664503798645e-40), ('ham', 3.340524850123126e-08), ('ham', 4.5693962652086505e-07), ('spam', 1.6926144422167442e-22), ('ham', 3.9785177217075956e-06), ('ham', 5.643647442782335e-12), ('ham', 7.637130908615736e-14), ('ham', 3.190744134905695e-05), ('ham', 1.5305442646146447e-19), ('ham', 2.7721004008932507e-06), ('ham', 3.6782424926473856e-22), ('ham', 1.991442917209217e-18), ('spam', 1.8442732125281194e-32), ('ham', 1.747068770447831e-05), ('ham', 0.00010016527617234241), ('ham', 4.554260107767501e-10), ('ham', 1.2066314144220963e-11), ('ham', 1.2586437600067313e-08), ('ham', 1.4892847086605985e-07), ('spam', 1.4329872826271751e-22), ('ham', 1.0296867382562668e-09), ('ham', 6.8384242624165695e-16), ('ham', 1.1644883106853742e-15), ('ham', 1.957221157905205e-09), ('ham', 7.4415882033397954e-06), ('ham', 2.831316228054725e-12), ('spam', 9.63315483383952e-31), ('ham', 0.0007663808339697817), ('spam', 1.475269437393192e-35), ('ham', 9.667859778321017e-10), ('ham', 1.92117727417217e-05), ('ham', 7.27549540473478e-18), ('ham', 1.6025446512417457e-10), ('ham', 8.219635682827742e-13), ('ham', 7.1732268353831065e-06), ('ham', 1.3095440564017394e-08), ('ham', 0.8649921507064364), ('ham', 1.5835133766500049e-13), ('ham', 4.080357472279546e-16), ('ham', 0.00011530653884955689), ('ham', 8.490719306029642e-13), ('ham', 0.0008721367302075573), ('ham', 1.4042015117052182e-21), ('ham', 5.132702404037124e-18), ('ham', 7.570631338607283e-05), ('ham', 3.532333361095781e-16), ('ham', 3.7983660157193284e-17), ('ham', 8.749132502300085e-10), ('spam', 5.956289985525629e-19), ('ham', 0.013915286285365605), ('ham', 1.8355221500098173e-09), ('ham', 6.915448045823447e-18), ('ham', 3.328714702927957e-27), ('ham', 0.8649921507064364), ('ham', 7.460776498460963e-08), ('ham', 1.0893506634292784e-11), ('ham', 0.0001956717022901573), ('ham', 0.004488802027537292), ('ham', 3.2320046444299754e-18), ('ham', 8.424096482886875e-21), ('ham', 3.224688221447247e-06), ('ham', 2.2362480261732246e-05), ('ham', 4.255099167601712e-06), ('ham', 6.405918824975384e-05), ('ham', 5.432847202907779e-14), ('ham', 2.1361839688621246e-13), ('ham', 0.0020109926260368153), ('ham', 7.822376677721007e-15), ('ham', 0.8649921507064364), ('ham', 4.932046762447443e-07), ('ham', 2.123223711933634e-22), ('ham', 0.00020242703486922194), ('ham', 0.00035244200662500925), ('ham', 0.011222005068843233), ('ham', 4.2917919924081794e-10), ('ham', 3.237743639347847e-05), ('spam', 1.4110449141877177e-18), ('ham', 1.1344053831218575e-07), ('ham', 2.1657486925524854e-11), ('ham', 1.4269522332971063e-07), ('ham', 7.421464813206137e-20), ('ham', 4.669374548384236e-31), ('ham', 1.586653952008489e-07), ('ham', 0.0031421614192761044), ('ham', 1.219472738714945e-05), ('ham', 1.3092665250605387e-13), ('ham', 4.4390508812141995e-12), ('ham', 2.975176595749022e-20), ('ham', 1.3730751217720452e-29), ('ham', 7.770212203076691e-12), ('ham', 1.8857825856416663e-07), ('ham', 0.033666015206529704), ('ham', 1.6932742679812392e-17), ('ham', 9.902438742855663e-22), ('ham', 3.750374293894679e-05), ('ham', 0.002244401013768646), ('ham', 4.9114018431183635e-08), ('ham', 1.6137947127125798e-07), ('spam', 1.7514378552323648e-18), ('spam', 1.0609158553173518e-12), ('ham', 1.2302685871476844e-27), ('ham', 1.5749908967842618e-23), ('spam', 3.233999447148643e-22), ('ham', 1.6551931320163326e-11), ('ham', 5.813900200670023e-23), ('ham', 3.2146065376240087e-05), ('ham', 5.918456114936922e-07), ('ham', 2.77009717359216e-09), ('ham', 1.0368034594272325e-17), ('ham', 2.6617617126077596e-12), ('ham', 8.055662470729222e-11), ('spam', 5.710178383066197e-10), ('spam', 8.956046337715547e-24), ('ham', 2.6995514051715935e-16), ('ham', 2.187507799344332e-06), ('ham', 1.2286598846449952e-06), ('ham', 0.00011181240130866133), ('ham', 7.171516776127823e-07), ('ham', 2.811461957734371e-18), ('ham', 7.616547198858116e-24), ('ham', 9.317700109055109e-05), ('ham', 1.5141262677214552e-05), ('ham', 4.771934302070991e-17), ('ham', 1.4908320174488173e-05), ('ham', 0.018852968515656633), ('ham', 8.703611933730752e-08), ('ham', 7.0487168313311294e-06), ('ham', 3.91729041243866e-13), ('ham', 2.3968296663505554e-05), ('ham', 5.889100170332983e-17), ('ham', 2.1759029834326876e-08), ('ham', 0.008528723852320853), ('ham', 1.5590056884815797e-15), ('ham', 9.922117604453076e-07), ('ham', 1.9553592001750264e-16), ('ham', 1.1299473472597501e-10), ('ham', 1.1299771756336275e-26), ('ham', 5.475898682874174e-11), ('ham', 1.926762091829652e-05), ('ham', 2.227352210918422e-09), ('ham', 7.700912478988554e-09), ('ham', 4.6057294339118e-41), ('ham', 0.02962609338174614), ('ham', 1.8531622330099108e-08), ('ham', 7.163792730022561e-15), ('ham', 4.9200274171315694e-08), ('ham', 7.574076518331043e-06), ('ham', 6.511758766148577e-17), ('ham', 0.8649921507064364), ('ham', 3.185443995866361e-11), ('ham', 1.2536348205836552e-11), ('ham', 1.8443045526414466e-08), ('ham', 5.201393331153535e-11), ('ham', 3.795315297257132e-08), ('ham', 6.788817308310009e-07), ('ham', 0.00019287639225744078), ('ham', 1.8495175359177916e-06), ('ham', 0.0007500748587789354), ('ham', 1.888828213701104e-13), ('ham', 2.168649973487916e-06), ('ham', 0.0007044181282445656), ('ham', 2.529983623305395e-14), ('ham', 3.983316796621058e-05), ('ham', 1.9761534331736286e-13), ('ham', 1.3134338031443936e-18), ('ham', 5.048094921563851e-07), ('ham', 5.6372085659783386e-05), ('ham', 5.855827608343275e-10), ('ham', 7.847967752766417e-09), ('ham', 2.630424939971967e-06), ('ham', 0.002244401013768646), ('ham', 8.268431337044231e-08), ('ham', 0.8649921507064364), ('ham', 3.316302685470987e-11), ('ham', 4.1342156685221125e-07), ('ham', 3.3978093567049765e-16), ('ham', 9.438585034901063e-15), ('spam', 3.3643067978642265e-33), ('ham', 2.085846315933934e-13), ('ham', 3.7479265156691184e-16), ('ham', 2.2065457596678726e-12), ('ham', 1.0708424090953975e-09), ('ham', 4.070232463463715e-10), ('ham', 3.028252535442907e-06), ('ham', 0.005386562433044752), ('ham', 9.928117226931501e-31), ('ham', 1.7936572709931077e-05), ('ham', 0.8649921507064364), ('ham', 1.266869229788546e-10), ('ham', 4.7141301262569217e-17), ('ham', 6.972600375037303e-10), ('ham', 0.026483931962470036), ('ham', 0.0007500748587789354), ('ham', 0.00034452196153231214), ('spam', 2.8690300711818715e-31), ('ham', 2.015989474450458e-11), ('spam', 8.542961906899534e-25), ('ham', 0.001795520811014917), ('ham', 5.4508545637972366e-05), ('ham', 1.1818951812364151e-18), ('ham', 0.0067332030413059405), ('spam', 2.598297813447047e-15), ('spam', 5.07914580966957e-21), ('ham', 0.0008735343852239151), ('ham', 0.011670885271596954), ('ham', 0.01032424466333577), ('ham', 4.6834871890340075e-16), ('ham', 2.7681122501576012e-11), ('ham', 9.750490467253803e-22), ('ham', 2.320963182328205e-06), ('ham', 1.2916751301084071e-14), ('ham', 0.0014717307322252527), ('ham', 0.008528723852320853), ('ham', 9.208153084461463e-15), ('ham', 3.5278640371388766e-06), ('ham', 6.193789455954182e-09), ('spam', 5.479302852810261e-35), ('ham', 3.8004101379132145e-14), ('ham', 5.344230604640486e-32), ('ham', 6.5920545470228064e-18), ('ham', 0.0006522390076338571), ('spam', 2.9818390931649264e-28), ('ham', 0.0002054552874046652), ('ham', 1.3015520700069622e-08), ('ham', 0.0002054552874046652), ('ham', 2.0042214015872352e-13), ('spam', 2.294373877259039e-23), ('ham', 1.6756292369120166e-10), ('ham', 1.2854841992387135e-24), ('ham', 1.3876553426750866e-20), ('ham', 2.0561721217983494e-10), ('ham', 3.6462335799938774e-16), ('ham', 1.7755368344810755e-06), ('ham', 1.0275097421765482e-07), ('ham', 4.31258096840482e-40), ('spam', 3.25242015736679e-36), ('ham', 4.752027055618105e-05), ('ham', 2.566213779411007e-12), ('ham', 9.743210025815272e-07), ('ham', 1.8817695588633276e-25), ('ham', 9.71955407654737e-19), ('ham', 3.0282525354429104e-05), ('ham', 1.1944067579011223e-09), ('ham', 3.103128462768998e-16), ('ham', 7.826868091606285e-05), ('ham', 0.002693281216522376), ('ham', 0.00031680180370787365), ('ham', 8.975599806659872e-07), ('ham', 0.003591041622029834), ('ham', 2.0080266294036297e-47), ('ham', 2.016789718989375e-21), ('ham', 9.674756993639649e-24), ('ham', 6.938757235071841e-26), ('ham', 6.12769372138859e-11), ('ham', 3.393821487807623e-08), ('ham', 0.010773124866089496), ('ham', 1.1873808357958245e-09), ('ham', 1.2765297502805122e-07), ('spam', 7.226009652849102e-15), ('ham', 1.6796517500131618e-13), ('spam', 1.0774522609472319e-28), ('ham', 4.099788047984247e-05), ('ham', 0.0008236846896404703), ('ham', 8.231440986325869e-06), ('ham', 4.672766876052621e-10), ('ham', 1.8328356130448057e-06), ('ham', 1.943169313694605e-08), ('ham', 1.7184644361624563e-15), ('ham', 1.0960438484269154e-07), ('ham', 1.2242791896833773e-42), ('ham', 1.5051628732008152e-12), ('spam', 1.3815900161702397e-05), ('ham', 4.413398031527594e-18), ('ham', 0.030523853787253592), ('ham', 8.906618101665734e-31), ('ham', 1.0138405597948956e-08), ('ham', 7.539503837594301e-07), ('ham', 4.561830852655977e-09), ('ham', 5.844249254185854e-15), ('ham', 6.860993602394592e-07), ('ham', 2.7254272818986227e-05), ('spam', 5.862159582054483e-32), ('ham', 3.540726041440939e-05), ('ham', 2.0032415735279945e-13), ('ham', 0.0001451231791985332), ('ham', 2.2426743360119962e-08), ('ham', 7.974226988011653e-18), ('ham', 0.013915286285365605), ('ham', 5.381077432560732e-23), ('ham', 6.088924640783339e-25), ('ham', 4.742302097422462e-09), ('ham', 5.280191239796671e-07), ('ham', 0.0007500748587789354), ('ham', 0.00032029594124876904), ('ham', 6.48713749565483e-13), ('ham', 3.122144135543008e-09), ('ham', 1.7486856748546144e-14), ('ham', 9.484994842155973e-09), ('ham', 1.541239587421456e-09), ('ham', 1.8084171462307282e-07), ('ham', 3.363448790601227e-27), ('spam', 7.963252818420956e-26), ('ham', 5.8264968316101045e-08), ('ham', 2.2646314717571164e-06), ('ham', 1.5516134650152307e-22), ('ham', 3.863554565704861e-08)]\n"
     ]
    }
   ],
   "source": [
    "labels = predict(test, priors, likelihoods)\n",
    "print(labels)"
   ]
  },
  {
   "cell_type": "markdown",
   "id": "812e79aa",
   "metadata": {},
   "source": [
    "## Score\n",
    "\n",
    "Let's get accuracy and the confusion matrix."
   ]
  },
  {
   "cell_type": "code",
   "execution_count": 18,
   "id": "e45c837a",
   "metadata": {},
   "outputs": [],
   "source": [
    "# These come directly from day 24\n",
    "\n",
    "def accuracy(y, yhat):\n",
    "    assert len(y) == len(yhat)\n",
    "    diffs = y == yhat\n",
    "    vals, counts = np.unique(diffs, return_counts=True)\n",
    "    return counts[np.where(vals == True)] / (np.sum(counts))\n",
    "    \n",
    "def confusion_matrix(y, yhat):\n",
    "    \"Thanks to https://stackoverflow.com/questions/2148543/how-to-write-a-confusion-matrix-in-python\"\n",
    "    allLabels = sorted(list(np.union1d(y, yhat)))\n",
    "    print(allLabels)\n",
    "    assert len(y) == len(yhat)\n",
    "    result = np.zeros((len(allLabels), len(allLabels)))\n",
    "    for i in range(len(y)):\n",
    "        result[allLabels.index(y[i])][allLabels.index(yhat[i])] += 1\n",
    "    return result"
   ]
  },
  {
   "cell_type": "code",
   "execution_count": 20,
   "id": "5498848b",
   "metadata": {},
   "outputs": [
    {
     "data": {
      "text/plain": [
       "array([0.96053812])"
      ]
     },
     "execution_count": 20,
     "metadata": {},
     "output_type": "execute_result"
    }
   ],
   "source": [
    "accuracy([x[0] for x in labels], test[:, 0])"
   ]
  },
  {
   "cell_type": "code",
   "execution_count": 21,
   "id": "93261504",
   "metadata": {},
   "outputs": [
    {
     "name": "stdout",
     "output_type": "stream",
     "text": [
      "['ham', 'spam']\n"
     ]
    },
    {
     "data": {
      "text/plain": [
       "array([[965.,  39.],\n",
       "       [  5., 106.]])"
      ]
     },
     "execution_count": 21,
     "metadata": {},
     "output_type": "execute_result"
    }
   ],
   "source": [
    "confusion_matrix([x[0] for x in labels], test[:, 0])"
   ]
  },
  {
   "attachments": {},
   "cell_type": "markdown",
   "id": "0e6c82ce",
   "metadata": {},
   "source": [
    "Note that accuracy isn't super helpful here, since there are so many 'ham' emails. \n",
    "\n",
    "Question: *What would the accuracy be if the model just labeled __everything__ as 'ham'?*\n",
    "\n",
    "## TPR, FPR, Precision, Recall, F\n",
    "\n",
    "Let's make a different version of the confusion matrix focusing on just the 'spam' class, which is the class we really want to do well on:\n",
    "\n",
    "| | Predict not in 'spam' | Predict in 'spam' | Rates |\n",
    "| -- | --- | --- | -- |\n",
    "| Actual not in 'spam' | TN | FP | FPR = FP/(FP+TN) |\n",
    "| Actual in 'spam' | FN | TP | TPR = TP/(TP+FN) |\n",
    "\n",
    "\n",
    "| | Predict not in 'spam' | Predict in 'spam' | Rates |\n",
    "| -- | --- | --- | -- |\n",
    "| Actual not in 'spam' | 965 | 39 | .04 |\n",
    "| Actual in 'spam' | 5 | 106 | .95 |\n",
    "\n",
    "With a table like this, we can also calculate:\n",
    "* Precision (how many of those we guessed were 'spam' were actually 'spam'?): TP / (TP + FP), .73\n",
    "* Recall (how many actual 'spam' did we guess were 'spam'?): TP / (TP + FN), .95\n",
    "\n",
    "Then, to get an assessment of recall and precision together, we can calculate F1: (2\\*Precision\\*Recall)/(Precision+Recall), .85"
   ]
  },
  {
   "cell_type": "markdown",
   "id": "226f72cb",
   "metadata": {},
   "source": [
    "## Are we happy?\n",
    "\n",
    "We could potentially do better:\n",
    "* We could add information from *outside the text*. Modern spam filters use features like whether the sender's email address is the same as the reply-to email address, whether the IP address the email comes from matches that of the domain of the sender's email address, whether this same email is being sent to a lot of people at the same time, whether this sender has ever emailed this recipient before (and how often), and all kinds of behavioral features.\n",
    "* We have a *class imbalance*: there are a lot more 'ham' emails than there are 'spam' emails. We can deal with this by *changing the decision threshold*, *downsampling* the 'ham' emails, *upsampling* (repeating) the 'spam' emails, or [other techniques](https://machinelearningmastery.com/tactics-to-combat-imbalanced-classes-in-your-machine-learning-dataset/?msclkid=33d6b961b9df11ec98e519046a973ddf)."
   ]
  },
  {
   "cell_type": "code",
   "execution_count": 22,
   "id": "8e4574cf",
   "metadata": {},
   "outputs": [
    {
     "name": "stdout",
     "output_type": "stream",
     "text": [
      "[('ham', 5.2412063113434996e-05), ('ham', 0.0006354671474375571), ('ham', 1.8635400218110196e-05), ('spam', 1.7015371778096626e-05)]\n"
     ]
    }
   ],
   "source": [
    "my_texts = np.array([['ham', 'Thank you!'], ['spam', 'hey how are things'], ['ham', 'How is second puppy training going?'], ['ham', 'Your Clear Enrollment verification code is xxxx']])\n",
    "pred = predict(my_texts, priors, likelihoods)\n",
    "print(pred)"
   ]
  },
  {
   "attachments": {},
   "cell_type": "markdown",
   "id": "27ea3f3d",
   "metadata": {},
   "source": [
    "# For the project\n",
    "\n",
    "For the project, you will need to load all the files in the ham folder, and all the files in the spam folder. You may use the python **glob** functionality for this. \n",
    "* For each directory in the enron directory (ham, spam):\n",
    "  * For each .txt file in the directory:\n",
    "    * Read the text in the file\n",
    "    * Tokenize the text\n",
    "    * For each token:\n",
    "      * If it's not in the dictionary of token counts, add it there\n",
    "      * Increment the count\n",
    "\n",
    "For the project, you will keep only the 200 most frequent tokens.\n",
    "\n",
    "Then, you will encode each headline uas a 200 dimensional vector (one column per token), and the labels as 0 or 1 for each headline (0 for spam, 1 for ham).\n",
    "\n",
    "Then, you will want to split the data into train and test, and save the training and test data into separate files.\n",
    "\n",
    "The whole process will look very similar to what we have just done."
   ]
  },
  {
   "cell_type": "markdown",
   "id": "ae53ad16",
   "metadata": {},
   "source": [
    "Resources:\n",
    "* https://towardsdatascience.com/roc-curve-and-auc-from-scratch-in-numpy-visualized-2612bb9459ab\n",
    "* https://towardsdatascience.com/roc-and-auc-how-to-evaluate-machine-learning-models-in-no-time-fb2304c83a7f"
   ]
  }
 ],
 "metadata": {
  "kernelspec": {
   "display_name": "Python 3 (ipykernel)",
   "language": "python",
   "name": "python3"
  },
  "language_info": {
   "codemirror_mode": {
    "name": "ipython",
    "version": 3
   },
   "file_extension": ".py",
   "mimetype": "text/x-python",
   "name": "python",
   "nbconvert_exporter": "python",
   "pygments_lexer": "ipython3",
   "version": "3.10.4"
  }
 },
 "nbformat": 4,
 "nbformat_minor": 5
}
