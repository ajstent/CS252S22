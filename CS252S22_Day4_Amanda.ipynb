{
 "cells": [
  {
   "cell_type": "markdown",
   "id": "78695398",
   "metadata": {},
   "source": [
    "Let's talk more! about numpy\n",
    "----------------------\n",
    "\n",
    "**Going from lists to arrays and figuring out if that worked well...**"
   ]
  },
  {
   "cell_type": "code",
   "execution_count": 2,
   "id": "bbdcff42",
   "metadata": {},
   "outputs": [
    {
     "name": "stdout",
     "output_type": "stream",
     "text": [
      "[[  10    1 2021]\n",
      " [   2    9 2022]]\n",
      "(2, 3)\n"
     ]
    },
    {
     "ename": "UnsupportedOperation",
     "evalue": "read",
     "output_type": "error",
     "traceback": [
      "\u001b[1;31m---------------------------------------------------------------------------\u001b[0m",
      "\u001b[1;31mUnsupportedOperation\u001b[0m                      Traceback (most recent call last)",
      "\u001b[1;32m~\\AppData\\Local\\Temp/ipykernel_19248/2082732308.py\u001b[0m in \u001b[0;36m<module>\u001b[1;34m\u001b[0m\n\u001b[0;32m     18\u001b[0m \u001b[1;33m\u001b[0m\u001b[0m\n\u001b[0;32m     19\u001b[0m \u001b[1;32mwith\u001b[0m \u001b[0mopen\u001b[0m\u001b[1;33m(\u001b[0m\u001b[1;34m'data.pkl'\u001b[0m\u001b[1;33m,\u001b[0m\u001b[1;34m'wb'\u001b[0m\u001b[1;33m)\u001b[0m \u001b[1;32mas\u001b[0m \u001b[0mf\u001b[0m\u001b[1;33m:\u001b[0m\u001b[1;33m\u001b[0m\u001b[1;33m\u001b[0m\u001b[0m\n\u001b[1;32m---> 20\u001b[1;33m     \u001b[0mnparray2\u001b[0m \u001b[1;33m=\u001b[0m \u001b[0mpkl\u001b[0m\u001b[1;33m.\u001b[0m\u001b[0mload\u001b[0m\u001b[1;33m(\u001b[0m\u001b[0mf\u001b[0m\u001b[1;33m)\u001b[0m\u001b[1;33m\u001b[0m\u001b[1;33m\u001b[0m\u001b[0m\n\u001b[0m\u001b[0;32m     21\u001b[0m     \u001b[0mprint\u001b[0m\u001b[1;33m(\u001b[0m\u001b[0mnparray2\u001b[0m\u001b[1;33m)\u001b[0m\u001b[1;33m\u001b[0m\u001b[1;33m\u001b[0m\u001b[0m\n\u001b[0;32m     22\u001b[0m \u001b[1;33m\u001b[0m\u001b[0m\n",
      "\u001b[1;31mUnsupportedOperation\u001b[0m: read"
     ]
    }
   ],
   "source": [
    "import numpy as np\n",
    "import pickle as pkl #data storage for python to look at \n",
    "\n",
    "# how do I make a numpy array from a python list?\n",
    "pylist = [[10, 1, 2021], [2, 9, 2022]] #python list --> doesn't have a shape but would be 2, 3\n",
    "nparray = np.array(pylist)\n",
    "\n",
    "# how do I print a numpy array?\n",
    "print(nparray)\n",
    "print(nparray.shape)\n",
    "\n",
    "#^for converting between numpy array and numpy list\n",
    "\n",
    "with open('data.pkl','wb') as f:\n",
    "    pkl.dump(nparray, f)\n",
    "\n",
    "# and back to a list?\n",
    "\n",
    "with open('data.pkl','wb') as f:\n",
    "    nparray2 = pkl.load(f)\n",
    "    print(nparray2)\n",
    "\n",
    "backtolist = nparray.tolist()\n",
    "print(backtolist)\n",
    "\n",
    "#pickle as pkl \n",
    "#can save, dump, load kinds of python objects with numpy and python arrays and lists\n",
    "\n",
    "#can have numpy lists of 1,2,3,4 dimensions, etc\n",
    "#for nparray, each array in it should be the same length\n"
   ]
  },
  {
   "cell_type": "code",
   "execution_count": 3,
   "id": "c757de3a",
   "metadata": {},
   "outputs": [
    {
     "name": "stdout",
     "output_type": "stream",
     "text": [
      "int32\n"
     ]
    },
    {
     "ename": "NameError",
     "evalue": "name 'backtolist' is not defined",
     "output_type": "error",
     "traceback": [
      "\u001b[1;31m---------------------------------------------------------------------------\u001b[0m",
      "\u001b[1;31mNameError\u001b[0m                                 Traceback (most recent call last)",
      "\u001b[1;32m~\\AppData\\Local\\Temp/ipykernel_19248/1303231078.py\u001b[0m in \u001b[0;36m<module>\u001b[1;34m\u001b[0m\n\u001b[0;32m      3\u001b[0m \u001b[1;33m\u001b[0m\u001b[0m\n\u001b[0;32m      4\u001b[0m \u001b[1;31m# hmm, will this work and why or why not?\u001b[0m\u001b[1;33m\u001b[0m\u001b[1;33m\u001b[0m\u001b[0m\n\u001b[1;32m----> 5\u001b[1;33m \u001b[0mprint\u001b[0m\u001b[1;33m(\u001b[0m\u001b[0mbacktolist\u001b[0m\u001b[1;33m.\u001b[0m\u001b[0mdtype\u001b[0m\u001b[1;33m)\u001b[0m\u001b[1;31m#can't do this because dtpye only works for numpy array\u001b[0m\u001b[1;33m\u001b[0m\u001b[1;33m\u001b[0m\u001b[0m\n\u001b[0m\u001b[0;32m      6\u001b[0m \u001b[1;33m\u001b[0m\u001b[0m\n\u001b[0;32m      7\u001b[0m \u001b[1;31m#int64 output means they're ints --> quantitative discrete (floats are continuous)\u001b[0m\u001b[1;33m\u001b[0m\u001b[1;33m\u001b[0m\u001b[0m\n",
      "\u001b[1;31mNameError\u001b[0m: name 'backtolist' is not defined"
     ]
    }
   ],
   "source": [
    "# how do I figure out the type of a numpy array? \n",
    "print(nparray.dtype)\n",
    "\n",
    "# hmm, will this work and why or why not?\n",
    "print(backtolist.dtype)#can't do this because dtpye only works for numpy array\n",
    "\n",
    "#int64 output means they're ints --> quantitative discrete (floats are continuous)"
   ]
  },
  {
   "cell_type": "code",
   "execution_count": 4,
   "id": "6aa47a60",
   "metadata": {},
   "outputs": [
    {
     "name": "stdout",
     "output_type": "stream",
     "text": [
      "float64\n",
      "[[1.000e+01 1.000e+00 2.021e+03]\n",
      " [2.000e+00 9.000e+00 2.022e+03]]\n",
      "<U32\n",
      "[['10.0' '1.0' '2021.0']\n",
      " ['2.0' '9.0' '2022.0']]\n",
      "float64\n",
      "[[1.000e+01 1.000e+00 2.021e+03]\n",
      " [2.000e+00 9.000e+00 2.022e+03]]\n"
     ]
    }
   ],
   "source": [
    "# how do I change the type of a numpy array?\n",
    "nparrayFloat = nparray.astype(float) #can coerce numpy array into floats (coercing int to float makes it bigger, takes space)\n",
    "print(nparrayFloat.dtype)\n",
    "print(nparrayFloat)\n",
    "#.astype\n",
    "\n",
    "nparrayStr = np.array(nparrayFloat, dtype=str)\n",
    "print(nparrayStr.dtype)\n",
    "#make new array, then tell them to be strings\n",
    "#coerce into strings for new numpy array\n",
    "print(nparrayStr)\n",
    "\n",
    "nparrayFloat = nparrayStr.astype(float)\n",
    "print(nparrayFloat.dtype)\n",
    "#try to coerce strings into floats\n",
    "print(nparrayFloat)\n",
    "\n",
    "#going from float to int will truncate, so be careful with this"
   ]
  },
  {
   "cell_type": "code",
   "execution_count": 5,
   "id": "2b3a6a86",
   "metadata": {},
   "outputs": [
    {
     "name": "stdout",
     "output_type": "stream",
     "text": [
      "6\n",
      "2\n",
      "(2, 3)\n"
     ]
    }
   ],
   "source": [
    "# (review!) how do I see the number of dimensions, number of elements, and shape of a numpy array?\n",
    "print(nparray.size)\n",
    "#can only have an odd number of elements with an odd number of rows or when it's 1 dimensional\n",
    "print(nparray.ndim)\n",
    "print(nparray.shape)"
   ]
  },
  {
   "cell_type": "markdown",
   "id": "e76bf41b",
   "metadata": {},
   "source": [
    "**Making numpy arrays...**"
   ]
  },
  {
   "cell_type": "code",
   "execution_count": 6,
   "id": "26e12304",
   "metadata": {},
   "outputs": [
    {
     "name": "stdout",
     "output_type": "stream",
     "text": [
      "[[0. 0. 0. 0. 0. 0. 0. 0. 0. 0.]\n",
      " [0. 0. 0. 0. 0. 0. 0. 0. 0. 0.]\n",
      " [0. 0. 0. 0. 0. 0. 0. 0. 0. 0.]]\n",
      "[[0. 0. 0. 0. 0. 0. 0. 0. 0. 0.]\n",
      " [0. 0. 0. 0. 0. 0. 0. 0. 0. 0.]\n",
      " [0. 0. 0. 0. 0. 0. 0. 0. 0. 0.]]\n",
      "[[0 0 0 0 0 0 0 0 0 0]\n",
      " [0 0 0 0 0 0 0 0 0 0]\n",
      " [0 0 0 0 0 0 0 0 0 0]]\n",
      "[[0 0 0 0 0 0 0 0 0 0]\n",
      " [0 0 0 0 0 0 0 0 0 0]\n",
      " [0 0 0 0 0 0 0 0 0 0]]\n",
      "[[1. 1. 1. 1. 1. 1. 1. 1. 1. 1.]\n",
      " [1. 1. 1. 1. 1. 1. 1. 1. 1. 1.]\n",
      " [1. 1. 1. 1. 1. 1. 1. 1. 1. 1.]]\n",
      "[[7. 7. 7. 7. 7. 7. 7. 7. 7. 7.]\n",
      " [7. 7. 7. 7. 7. 7. 7. 7. 7. 7.]\n",
      " [7. 7. 7. 7. 7. 7. 7. 7. 7. 7.]]\n"
     ]
    }
   ],
   "source": [
    "# make an array of zeros\n",
    "nparrayZero = np.zeros([3, 10]) #3 by 10 nparray of zeros\n",
    "print(nparrayZero)\n",
    "\n",
    "# that's floats ... what if we want ints?\n",
    "nparrayZero.astype(int) \n",
    "print(nparrayZero) #didn't work\n",
    "\n",
    "nparrayZero = nparrayZero.astype(int) \n",
    "print(nparrayZero) #works\n",
    "\n",
    "nparrayZeroInt = np.array(nparrayZero, dtype=int)\n",
    "print(nparrayZeroInt)\n",
    "\n",
    "# what if we want zeros instead of ones?\n",
    "\n",
    "nparrayOnes = np.ones([3,10])\n",
    "print(nparrayOnes)\n",
    "\n",
    "# what if we want sevens?\n",
    "nparraySevens = np.ones([3,10])*7 # can broadcast the 7 across all elements like this\n",
    "print(nparraySevens)"
   ]
  },
  {
   "cell_type": "code",
   "execution_count": 7,
   "id": "65e39cef",
   "metadata": {},
   "outputs": [
    {
     "name": "stdout",
     "output_type": "stream",
     "text": [
      "[[0.28119502 0.95357343 0.88104884 0.10963489 0.34584754 0.50390067\n",
      "  0.03466848 0.53073476 0.04075599 0.08252508]\n",
      " [0.28130629 0.06023778 0.30914082 0.06233341 0.58865027 0.04838291\n",
      "  0.51969353 0.86285701 0.93967261 0.06079304]\n",
      " [0.72706173 0.36736293 0.32902674 0.9485838  0.46442562 0.0797577\n",
      "  0.65550606 0.35993961 0.96892859 0.38950654]]\n",
      "float64\n",
      "[[2 9 8 1 3 5 0 5 0 0]\n",
      " [2 0 3 0 5 0 5 8 9 0]\n",
      " [7 3 3 9 4 0 6 3 9 3]]\n"
     ]
    }
   ],
   "source": [
    "# make an array of random values\n",
    "nparrayRandomFloat = np.random.random([3, 10])\n",
    "print(nparrayRandomFloat)\n",
    "print(nparrayRandomFloat.dtype)\n",
    "\n",
    "# what if we want random ints? let's see...\n",
    "#nparrayRandomInt = np.random.random([3, 10], dtype=int) # can't do this because it generates random numbers between 0 and 1\n",
    "\n",
    "\n",
    "# hmm, if not that then what?\n",
    "print(((nparrayRandomFloat)*10).astype(int))\n",
    "\n",
    "#hw^^ what is the other way to do this??\n"
   ]
  },
  {
   "cell_type": "code",
   "execution_count": 8,
   "id": "25730631",
   "metadata": {},
   "outputs": [
    {
     "name": "stdout",
     "output_type": "stream",
     "text": [
      "[ 0.          1.11111111  2.22222222  3.33333333  4.44444444  5.55555556\n",
      "  6.66666667  7.77777778  8.88888889 10.        ]\n",
      "[[ 0.          1.11111111  2.22222222  3.33333333  4.44444444]\n",
      " [ 5.55555556  6.66666667  7.77777778  8.88888889 10.        ]]\n",
      "[ 0  1  2  3  4  5  6  7  8 10]\n"
     ]
    }
   ],
   "source": [
    "# what if we want random floats in an interval?\n",
    "print(np.linspace(0, 10, 10)) #start, stop, amount\n",
    "#help(np.linspace)\n",
    "\n",
    "# what if we want to shape that into a 2 by 5 array?\n",
    "nplinArray = np.linspace(0,10,10) \n",
    "np2dArray = np.reshape(nplinArray, (2, 5))\n",
    "print(np2dArray)\n",
    "\n",
    "# what if we want random ints in an interval?\n",
    "nplinArray = np.linspace(0,10,10, dtype=int)\n",
    "print(nplinArray) #ints but not random\n",
    "\n"
   ]
  },
  {
   "cell_type": "markdown",
   "id": "994f6934",
   "metadata": {},
   "source": [
    "**Getting access to elements and \"slices\" of numpy arrays...**"
   ]
  },
  {
   "cell_type": "code",
   "execution_count": 9,
   "id": "ef0a4826",
   "metadata": {},
   "outputs": [
    {
     "name": "stdout",
     "output_type": "stream",
     "text": [
      "[[0.28119502 0.95357343 0.88104884 0.10963489 0.34584754 0.50390067\n",
      "  0.03466848 0.53073476 0.04075599 0.08252508]\n",
      " [0.28130629 0.06023778 0.30914082 0.06233341 0.58865027 0.04838291\n",
      "  0.51969353 0.86285701 0.93967261 0.06079304]\n",
      " [0.72706173 0.36736293 0.32902674 0.9485838  0.46442562 0.0797577\n",
      "  0.65550606 0.35993961 0.96892859 0.38950654]]\n",
      "(3, 10)\n",
      "0.2811950203147129\n",
      "0.2811950203147129\n"
     ]
    }
   ],
   "source": [
    "print(nparrayRandomFloat)\n",
    "print(nparrayRandomFloat.shape)\n",
    "\n",
    "# (review!) how do I access an element in an array?\n",
    "print(nparrayRandomFloat[0][0])\n",
    "\n",
    "# is there a prettier way?\n",
    "print(nparrayRandomFloat[0, 0])\n",
    "\n",
    "# this is only marginally prettier for a 2-d array but imagine a 10-d array!\n",
    "\n",
    "#slice is a chunk basically --> any subarray of the array"
   ]
  },
  {
   "cell_type": "code",
   "execution_count": 10,
   "id": "cda05fff",
   "metadata": {},
   "outputs": [
    {
     "name": "stdout",
     "output_type": "stream",
     "text": [
      "[[0.28119502 0.95357343 0.88104884 0.10963489 0.34584754 0.50390067\n",
      "  0.03466848 0.53073476 0.04075599 0.08252508]\n",
      " [0.28130629 0.06023778 0.30914082 0.06233341 0.58865027 0.04838291\n",
      "  0.51969353 0.86285701 0.93967261 0.06079304]\n",
      " [0.72706173 0.36736293 0.32902674 0.9485838  0.46442562 0.0797577\n",
      "  0.65550606 0.35993961 0.96892859 0.38950654]]\n",
      "first row, last two columns\n",
      "[0.04075599 0.08252508]\n"
     ]
    }
   ],
   "source": [
    "print(nparrayRandomFloat)\n",
    "\n",
    "# how do I access the whole second column?\n",
    "# print(\"first column\") #this is not an array --> i think it's a python list\n",
    "# print(nparrayRandomFloat[:, 1]) #colon for first dimension, 1 for second dimension\n",
    "\n",
    "# what about the whole second row?\n",
    "# print(\"first row\") #this is an array\n",
    "#nparrayRandomFloat[1, :]\n",
    "\n",
    "# what about the last two rows?\n",
    "# print(\"last two rows\")\n",
    "# print(nparrayRandomFloat[-2:, :])\n",
    "# print(nparrayRandomFloat[1:, :]) #this also works\n",
    "\n",
    "# what about the first row and last two columns?\n",
    "print(\"first row, last two columns\")\n",
    "print(nparrayRandomFloat[0, 8:])\n",
    "# print(nparrayRandomFloat[0, -1:]) #same as above"
   ]
  },
  {
   "cell_type": "code",
   "execution_count": 11,
   "id": "ab5ef905",
   "metadata": {},
   "outputs": [
    {
     "name": "stdout",
     "output_type": "stream",
     "text": [
      "[[0.28119502 0.95357343 0.88104884 0.10963489 0.34584754 0.50390067\n",
      "  0.03466848 0.53073476 0.04075599 0.08252508]\n",
      " [0.28130629 0.06023778 0.30914082 0.06233341 0.58865027 0.04838291\n",
      "  0.51969353 0.86285701 0.93967261 0.06079304]\n",
      " [0.72706173 0.36736293 0.32902674 0.9485838  0.46442562 0.0797577\n",
      "  0.65550606 0.35993961 0.96892859 0.38950654]]\n",
      "first and third columns\n",
      "[[0.95357343 0.10963489]\n",
      " [0.06023778 0.06233341]\n",
      " [0.36736293 0.9485838 ]]\n",
      "3\n",
      "[0 1 2]\n"
     ]
    }
   ],
   "source": [
    "print(nparrayRandomFloat)\n",
    "\n",
    "# how do I access the 1st and 3rd columns?\n",
    "print(\"first and third columns\")\n",
    "print(nparrayRandomFloat[np.ix_(np.arange(nparrayRandomFloat.shape[0]), [1, 3])])\n",
    "#np.ix construct open mesh for multiple sequences?\n",
    "#arange is \n",
    "#0th dimension of the same\n",
    "#1st and 3rd column\n",
    "print(nparrayRandomFloat.shape[0])#shape function is a tuple that we can index into \n",
    "print(np.arange(nparrayRandomFloat.shape[0])) #prints integer linearly increasing in range of 3 (0,1,2)\n",
    "#so all rows, and just columns 1 and 3\n",
    "\n",
    "# whaaaat was that?"
   ]
  },
  {
   "cell_type": "markdown",
   "id": "98ced320",
   "metadata": {},
   "source": [
    "This is where class ended"
   ]
  },
  {
   "cell_type": "markdown",
   "id": "ef99c05b",
   "metadata": {},
   "source": [
    "**Modifying (slices of) arrays...**"
   ]
  },
  {
   "cell_type": "code",
   "execution_count": 12,
   "id": "c6b04149",
   "metadata": {},
   "outputs": [],
   "source": [
    "# how do I *change* the element at 1, 1 of the array?"
   ]
  },
  {
   "cell_type": "code",
   "execution_count": 13,
   "id": "2338269d",
   "metadata": {},
   "outputs": [
    {
     "name": "stdout",
     "output_type": "stream",
     "text": [
      "[[0.28119502 0.95357343 0.88104884 0.10963489 0.34584754 0.50390067\n",
      "  0.03466848 0.53073476 0.04075599 0.08252508]\n",
      " [1.         1.         1.         1.         1.         1.\n",
      "  1.         1.         1.         1.        ]\n",
      " [0.72706173 0.36736293 0.32902674 0.9485838  0.46442562 0.0797577\n",
      "  0.65550606 0.35993961 0.96892859 0.38950654]]\n",
      "float64\n",
      "[[0.28119502 0.95357343 0.88104884 0.10963489 0.34584754 0.50390067\n",
      "  0.03466848 0.53073476 0.04075599 0.08252508]\n",
      " [0.         1.         2.         3.         4.         5.\n",
      "  6.         7.         8.         9.        ]\n",
      " [0.72706173 0.36736293 0.32902674 0.9485838  0.46442562 0.0797577\n",
      "  0.65550606 0.35993961 0.96892859 0.38950654]]\n",
      "float64\n",
      "[[ 0.28119502  0.95357343  0.88104884  0.10963489  0.34584754  0.50390067\n",
      "   0.03466848  0.53073476  0.04075599  0.08252508]\n",
      " [ 0.          3.          6.          9.         12.         15.\n",
      "  18.         21.         24.         27.        ]\n",
      " [ 0.72706173  0.36736293  0.32902674  0.9485838   0.46442562  0.0797577\n",
      "   0.65550606  0.35993961  0.96892859  0.38950654]]\n"
     ]
    }
   ],
   "source": [
    "# and now for some magic! how do I assign the second row to 1s?\n",
    "nparrayRandomFloat[1] = 1\n",
    "print(nparrayRandomFloat)\n",
    "print(nparrayRandomFloat.dtype)\n",
    "\n",
    "# how do I assign the second row to increasing ints?\n",
    "nparrayRandomFloat[1] = np.arange(nparrayRandomFloat.shape[1])\n",
    "print(nparrayRandomFloat)\n",
    "print(nparrayRandomFloat.dtype)\n",
    "\n",
    "# how do I assign the second row to 3* itself?\n",
    "nparrayRandomFloat[1] *= 3\n",
    "print(nparrayRandomFloat)\n"
   ]
  },
  {
   "cell_type": "markdown",
   "id": "60344331",
   "metadata": {},
   "source": [
    "**Copying numpy arrays...**"
   ]
  },
  {
   "cell_type": "code",
   "execution_count": 14,
   "id": "7267f61e",
   "metadata": {},
   "outputs": [
    {
     "name": "stdout",
     "output_type": "stream",
     "text": [
      "nparrayRandomFloat\n",
      "[[ 0.28119502  0.95357343  0.88104884  0.10963489  0.34584754  0.50390067\n",
      "   0.03466848  0.53073476  0.04075599  0.08252508]\n",
      " [ 0.          3.          6.          9.         12.         15.\n",
      "  18.         21.         24.         27.        ]\n",
      " [ 0.72706173  0.36736293  0.32902674  0.9485838   0.46442562  0.0797577\n",
      "   0.65550606  0.35993961  0.96892859  0.38950654]]\n",
      "nparrayRandomFloat2\n",
      "[[ 0.28119502  0.95357343  0.88104884  0.10963489  0.34584754  0.50390067\n",
      "   0.03466848  0.53073476  0.04075599  0.08252508]\n",
      " [ 0.          3.          6.          9.         12.         15.\n",
      "  18.         21.         24.         27.        ]\n",
      " [ 0.72706173  0.36736293  0.32902674  0.9485838   0.46442562  0.0797577\n",
      "   0.65550606  0.35993961  0.96892859  0.38950654]]\n"
     ]
    }
   ],
   "source": [
    "# let's try the obvious thing\n",
    "nparrayRandomFloat2 = nparrayRandomFloat\n",
    "print(\"nparrayRandomFloat\")\n",
    "print(nparrayRandomFloat)\n",
    "print(\"nparrayRandomFloat2\")\n",
    "print(nparrayRandomFloat2)"
   ]
  },
  {
   "cell_type": "code",
   "execution_count": 16,
   "id": "d5bc7cb4",
   "metadata": {},
   "outputs": [
    {
     "name": "stdout",
     "output_type": "stream",
     "text": [
      "nparrayRandomFloat\n",
      "[[ 0.          0.95357343  0.88104884  0.10963489  0.34584754  0.50390067\n",
      "   0.03466848  0.53073476  0.04075599  0.08252508]\n",
      " [ 0.          3.          6.          9.         12.         15.\n",
      "  18.         21.         24.         27.        ]\n",
      " [ 0.72706173  0.36736293  0.32902674  0.9485838   0.46442562  0.0797577\n",
      "   0.65550606  0.35993961  0.96892859  0.38950654]]\n",
      "nparrayRandomFloat2\n",
      "[[ 0.          0.95357343  0.88104884  0.10963489  0.34584754  0.50390067\n",
      "   0.03466848  0.53073476  0.04075599  0.08252508]\n",
      " [ 0.          3.          6.          9.         12.         15.\n",
      "  18.         21.         24.         27.        ]\n",
      " [ 0.72706173  0.36736293  0.32902674  0.9485838   0.46442562  0.0797577\n",
      "   0.65550606  0.35993961  0.96892859  0.38950654]]\n"
     ]
    }
   ],
   "source": [
    "nparrayRandomFloat2[0,0] = 0\n",
    "print(\"nparrayRandomFloat\")\n",
    "print(nparrayRandomFloat)\n",
    "print(\"nparrayRandomFloat2\")\n",
    "print(nparrayRandomFloat2)\n",
    "\n",
    "# whaaat just happened??\n",
    "# how do we stop that happening?? hint, what are we doing? we are *copying*\n",
    "nparrayRandomFloat2 = nparrayRandomFloat.copy()"
   ]
  },
  {
   "cell_type": "markdown",
   "id": "440ee93b",
   "metadata": {},
   "source": [
    "**Doing other things to a whole row or column...**"
   ]
  },
  {
   "cell_type": "code",
   "execution_count": 17,
   "id": "7872f828",
   "metadata": {},
   "outputs": [
    {
     "name": "stdout",
     "output_type": "stream",
     "text": [
      "[[ 0.          0.          0.          0.          0.          0.\n",
      "   0.          0.          0.          0.        ]\n",
      " [ 0.          3.          6.          9.         12.         15.\n",
      "  18.         21.         24.         27.        ]\n",
      " [ 0.72706173  0.36736293  0.32902674  0.9485838   0.46442562  0.0797577\n",
      "   0.65550606  0.35993961  0.96892859  0.38950654]]\n"
     ]
    }
   ],
   "source": [
    "# (review!) how do we assign value(s) to a row or column?\n",
    "nparrayRandomFloat[:1] = np.zeros(nparrayRandomFloat.shape[1])\n",
    "print(nparrayRandomFloat)"
   ]
  },
  {
   "cell_type": "code",
   "execution_count": 19,
   "id": "65824fde",
   "metadata": {},
   "outputs": [
    {
     "data": {
      "text/plain": [
       "array([  0.        , 135.        ,   5.29009931])"
      ]
     },
     "execution_count": 19,
     "metadata": {},
     "output_type": "execute_result"
    }
   ],
   "source": [
    "# let's sum across each column\n",
    "np.sum(nparrayRandomFloat, axis=0)\n",
    "\n",
    "# how would we sum across each row?\n",
    "np.sum(nparrayRandomFloat, axis=1)\n"
   ]
  },
  {
   "cell_type": "code",
   "execution_count": 23,
   "id": "da74acc4",
   "metadata": {},
   "outputs": [
    {
     "name": "stdout",
     "output_type": "stream",
     "text": [
      "[[[1. 1. 1. 1. 1.]\n",
      "  [1. 1. 1. 1. 1.]\n",
      "  [1. 1. 1. 1. 1.]\n",
      "  [1. 1. 1. 1. 1.]]\n",
      "\n",
      " [[1. 1. 1. 1. 1.]\n",
      "  [1. 1. 1. 1. 1.]\n",
      "  [1. 1. 1. 1. 1.]\n",
      "  [1. 1. 1. 1. 1.]]\n",
      "\n",
      " [[1. 1. 1. 1. 1.]\n",
      "  [1. 1. 1. 1. 1.]\n",
      "  [1. 1. 1. 1. 1.]\n",
      "  [1. 1. 1. 1. 1.]]]\n"
     ]
    },
    {
     "data": {
      "text/plain": [
       "array([[5., 5., 5., 5.],\n",
       "       [5., 5., 5., 5.],\n",
       "       [5., 5., 5., 5.]])"
      ]
     },
     "execution_count": 23,
     "metadata": {},
     "output_type": "execute_result"
    }
   ],
   "source": [
    "# what if we had a tensor?\n",
    "nptensorFloat = np.ones([3, 4, 5])\n",
    "print(nptensorFloat)\n",
    "\n",
    "np.sum(nptensorFloat, axis=2)"
   ]
  },
  {
   "cell_type": "code",
   "execution_count": 25,
   "id": "e63809ab",
   "metadata": {},
   "outputs": [
    {
     "data": {
      "text/plain": [
       "60.0"
      ]
     },
     "execution_count": 25,
     "metadata": {},
     "output_type": "execute_result"
    }
   ],
   "source": [
    "# what if we don't specify an axis?\n",
    "np.sum(nptensorFloat)"
   ]
  },
  {
   "cell_type": "code",
   "execution_count": null,
   "id": "f0b3b55c",
   "metadata": {},
   "outputs": [],
   "source": [
    "# what other functions can we apply across axes?\n",
    "# look at the docs!"
   ]
  },
  {
   "cell_type": "code",
   "execution_count": 26,
   "id": "2ca7edca",
   "metadata": {},
   "outputs": [
    {
     "name": "stdout",
     "output_type": "stream",
     "text": [
      "[[1 2 3 5]\n",
      " [0 5 1 0]\n",
      " [6 3 9 3]]\n",
      "[[1 0 2 5]\n",
      " [0 3 0 0]\n",
      " [6 1 8 3]]\n"
     ]
    }
   ],
   "source": [
    "# let's take it up a notch\n",
    "\n",
    "nparrayRandomInt = np.random.randint(low=0, high=10, size=(3,4))\n",
    "print(nparrayRandomInt)\n",
    "\n",
    "print(nparrayRandomInt - np.min(nparrayRandomInt, axis=0))\n",
    "\n",
    "# whaaat just happened? let's look at the shapes\n"
   ]
  },
  {
   "cell_type": "code",
   "execution_count": 27,
   "id": "3bff44e6",
   "metadata": {},
   "outputs": [
    {
     "name": "stdout",
     "output_type": "stream",
     "text": [
      "0.17236769999999524\n",
      "0.20710589999998774\n"
     ]
    }
   ],
   "source": [
    "# why is this cool?\n",
    "import timeit\n",
    "\n",
    "def sumLoop():\n",
    "    '''Use for loop to sum a row vector'''\n",
    "    longRow = np.array([i for i in range(1, 1000000000)])\n",
    "    theSum = 0\n",
    "    for i in range(len(longRow)):\n",
    "        theSum += longRow[i]\n",
    "\n",
    "def sumVectorized():\n",
    "    '''Vectorized version of summing a row vector'''\n",
    "    longRow = np.array([i for i in range(1, 1000000000)])\n",
    "    theSum = np.sum(longRow)\n",
    "\n",
    "print(timeit.timeit(lambda: sumLoop))\n",
    "print(timeit.timeit(lambda: sumVectorized))"
   ]
  },
  {
   "cell_type": "code",
   "execution_count": 28,
   "id": "eeb51624",
   "metadata": {},
   "outputs": [
    {
     "ename": "ValueError",
     "evalue": "operands could not be broadcast together with shapes (3,4) (3,) ",
     "output_type": "error",
     "traceback": [
      "\u001b[1;31m---------------------------------------------------------------------------\u001b[0m",
      "\u001b[1;31mValueError\u001b[0m                                Traceback (most recent call last)",
      "\u001b[1;32m~\\AppData\\Local\\Temp/ipykernel_19248/3942105510.py\u001b[0m in \u001b[0;36m<module>\u001b[1;34m\u001b[0m\n\u001b[0;32m      1\u001b[0m \u001b[1;31m# what if we try to do the subtract-min thing across axis 1?\u001b[0m\u001b[1;33m\u001b[0m\u001b[1;33m\u001b[0m\u001b[0m\n\u001b[1;32m----> 2\u001b[1;33m \u001b[0mprint\u001b[0m\u001b[1;33m(\u001b[0m\u001b[0mnparrayRandomInt\u001b[0m \u001b[1;33m-\u001b[0m \u001b[0mnp\u001b[0m\u001b[1;33m.\u001b[0m\u001b[0mmin\u001b[0m\u001b[1;33m(\u001b[0m\u001b[0mnparrayRandomInt\u001b[0m\u001b[1;33m,\u001b[0m \u001b[0maxis\u001b[0m\u001b[1;33m=\u001b[0m\u001b[1;36m1\u001b[0m\u001b[1;33m)\u001b[0m\u001b[1;33m)\u001b[0m\u001b[1;33m\u001b[0m\u001b[1;33m\u001b[0m\u001b[0m\n\u001b[0m",
      "\u001b[1;31mValueError\u001b[0m: operands could not be broadcast together with shapes (3,4) (3,) "
     ]
    }
   ],
   "source": [
    "# what if we try to do the subtract-min thing across axis 1?\n",
    "print(nparrayRandomInt - np.min(nparrayRandomInt, axis=1))\n"
   ]
  },
  {
   "cell_type": "code",
   "execution_count": 37,
   "id": "39d0c482",
   "metadata": {},
   "outputs": [
    {
     "name": "stdout",
     "output_type": "stream",
     "text": [
      "(3, 4)\n"
     ]
    },
    {
     "data": {
      "text/plain": [
       "(3, 1)"
      ]
     },
     "execution_count": 37,
     "metadata": {},
     "output_type": "execute_result"
    }
   ],
   "source": [
    "print(nparrayRandomInt.shape)\n",
    "np.min(nparrayRandomInt, axis=1, keepdims=True).shape"
   ]
  },
  {
   "cell_type": "code",
   "execution_count": 36,
   "id": "30b15f84",
   "metadata": {},
   "outputs": [
    {
     "name": "stdout",
     "output_type": "stream",
     "text": [
      "[[0 1 2 4]\n",
      " [0 5 1 0]\n",
      " [3 0 6 0]]\n"
     ]
    }
   ],
   "source": [
    "# how can we fix that? make the arrays shape-compatible!\n",
    "print(nparrayRandomInt - np.min(nparrayRandomInt, axis=1)[:, np.newaxis])"
   ]
  },
  {
   "cell_type": "code",
   "execution_count": 40,
   "id": "71840c65",
   "metadata": {},
   "outputs": [
    {
     "name": "stdout",
     "output_type": "stream",
     "text": [
      "[[0 1 2 4]\n",
      " [0 5 1 0]\n",
      " [3 0 6 0]]\n"
     ]
    }
   ],
   "source": [
    "# is there another way to achieve this?\n",
    "print(nparrayRandomInt - np.min(nparrayRandomInt, axis=1, keepdims=True))\n"
   ]
  },
  {
   "cell_type": "markdown",
   "id": "3d4e39fd",
   "metadata": {},
   "source": [
    "Five Jupyter tips\n",
    "------------------\n",
    "\n",
    "1. To run a cell, you can hit Ctrl+Enter \n",
    "2. Quite often, a Jupyter \"mistake\" happens if you forget that this cell has all the memory of every cell that was already run, \n",
    "3. and only those cells, \n",
    "4. and only the last time they were run\n",
    "5. To go into \"select mode\", hit Esc, then you can easily navigate from cell to cell"
   ]
  },
  {
   "cell_type": "markdown",
   "id": "e7c23284",
   "metadata": {},
   "source": [
    "Markdown\n",
    "--------\n",
    "\n",
    "These cells that look like fancy text are in Markdown. Markdown cheat sheet: https://www.markdownguide.org/cheat-sheet"
   ]
  }
 ],
 "metadata": {
  "kernelspec": {
   "display_name": "Python 3 (ipykernel)",
   "language": "python",
   "name": "python3"
  },
  "language_info": {
   "codemirror_mode": {
    "name": "ipython",
    "version": 3
   },
   "file_extension": ".py",
   "mimetype": "text/x-python",
   "name": "python",
   "nbconvert_exporter": "python",
   "pygments_lexer": "ipython3",
   "version": "3.9.7"
  }
 },
 "nbformat": 4,
 "nbformat_minor": 5
}
