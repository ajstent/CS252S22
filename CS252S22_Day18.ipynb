{
 "cells": [
  {
   "cell_type": "code",
   "execution_count": 26,
   "id": "52c680f3",
   "metadata": {},
   "outputs": [],
   "source": [
    "import numpy as np\n",
    "import matplotlib.pyplot as plt"
   ]
  },
  {
   "cell_type": "markdown",
   "id": "0a863181",
   "metadata": {},
   "source": [
    "# PCA\n",
    "\n",
    "PCA stands for \"principal components analysis\".\n",
    "\n",
    "The \"principal components\" in PCA are the axes of covariation. Intuition: if you look at a pairplot, in what direction (if any) do you see the variables pointing?"
   ]
  },
  {
   "cell_type": "markdown",
   "id": "fcd89562",
   "metadata": {},
   "source": [
    "The idea behind PCA is:\n",
    "* find the components (the intrinsic axes of variation)\n",
    "* order them from largest to smallest\n",
    "* drop the smallest ones\n",
    "\n",
    "This gives a data set with fewer variables, but that still has most of the information of the full dataset. Note that this type of projection does *not drop data variables*, instead it drops variation between data variables.\n",
    "\n"
   ]
  },
  {
   "cell_type": "markdown",
   "id": "a7828258",
   "metadata": {},
   "source": [
    "We can do this using matrix math!\n",
    "* Rotate so the principal coordinates become coordinate axes (translation then rotation), then \n",
    "* drop the lesser ones, then \n",
    "* reverse the rotation and translation: $$A_{reconstruct} = (P@A_c^T)^T + \\mu = A_c @ P^T + \\mu$$\n",
    "    \n",
    "The rotation matrix is the *eigenvectors* of the covariance matrix. The eigenvectors tell us the direction of the principal components. The eigenvalues tell us the amount of variation in each principal coordinate direction.\n"
   ]
  },
  {
   "cell_type": "markdown",
   "id": "ed7100f1",
   "metadata": {},
   "source": [
    "Reminder: the eigenvectors are *orthonormal*. What does that mean?"
   ]
  },
  {
   "cell_type": "markdown",
   "id": "53e774a1",
   "metadata": {},
   "source": [
    "So the steps to calculate PCA are:\n",
    "* (If appropriate) normalize the variables to be in the range 0-1\n",
    "* Center the data\n",
    "* Compute the covariance matrix\n",
    "* Compute the eigenvectors and eigenvalues; the eigenvectors tell us the direction of variance, and the eigenvalues tell us the amount of variance\n",
    "* Get an ordering over the eigenvalues\n",
    "* Sort the eigenvalues and eigenvectors accordingly\n",
    "* Compute the proportional variance (how much bigger?) accounted for by each principal component\n",
    "* Compute the cumulative sum of the proportional variance (tells us how many eigenvectors we need to explain a desired amount of variance)\n",
    "* Examine the principal components. Select v' of them.\n",
    "* Project the data into PCA space\n",
    "* Reconstruct the data"
   ]
  },
  {
   "cell_type": "code",
   "execution_count": 112,
   "id": "a1eca89d",
   "metadata": {},
   "outputs": [
    {
     "name": "stdout",
     "output_type": "stream",
     "text": [
      "[[1. 4.]\n",
      " [2. 3.]\n",
      " [3. 2.]\n",
      " [4. 1.]]\n"
     ]
    }
   ],
   "source": [
    "# Let's do it on a small dataset so we can see what's going on\n",
    "\n",
    "data = np.array([[1, 4],[2, 3], [3, 2], [4, 1.0]])\n",
    "print(data)\n",
    "columns = ['x,', 'y']"
   ]
  },
  {
   "cell_type": "code",
   "execution_count": 92,
   "id": "a258e227",
   "metadata": {},
   "outputs": [],
   "source": []
  },
  {
   "cell_type": "code",
   "execution_count": 113,
   "id": "a200d8a5",
   "metadata": {},
   "outputs": [
    {
     "data": {
      "image/png": "[encoded data removed]",
      "text/plain": [
       "<Figure size 432x288 with 1 Axes>"
      ]
     },
     "metadata": {
      "needs_background": "light"
     },
     "output_type": "display_data"
    }
   ],
   "source": [
    "# Let's plot the data\n",
    "\n",
    "plt.scatter(x = data[:, 0], y=data[:, 1])\n",
    "plt.show()\n",
    "\n",
    "# In which directions do the points vary?"
   ]
  },
  {
   "cell_type": "code",
   "execution_count": 114,
   "id": "e8888154",
   "metadata": {},
   "outputs": [
    {
     "name": "stdout",
     "output_type": "stream",
     "text": [
      "(4, 2)\n"
     ]
    },
    {
     "data": {
      "image/png": "[encoded data removed]",
      "text/plain": [
       "<Figure size 432x288 with 1 Axes>"
      ]
     },
     "metadata": {
      "needs_background": "light"
     },
     "output_type": "display_data"
    }
   ],
   "source": [
    "# Center the data\n",
    "\n",
    "centered_data = data - np.mean(data, axis=0)\n",
    "print(centered_data.shape)\n",
    "plt.scatter(x = centered_data[:, 0], y=centered_data[:, 1])\n",
    "plt.show()"
   ]
  },
  {
   "cell_type": "code",
   "execution_count": 115,
   "id": "199b41d9",
   "metadata": {},
   "outputs": [
    {
     "name": "stdout",
     "output_type": "stream",
     "text": [
      "(2, 2)\n"
     ]
    }
   ],
   "source": [
    "# Compute the covariance matrix\n",
    "\n",
    "covariance_matrix = (centered_data.T @ centered_data) / (data.shape[0] - 1)\n",
    "print(covariance_matrix.shape)"
   ]
  },
  {
   "cell_type": "code",
   "execution_count": 116,
   "id": "8c5d7b4c",
   "metadata": {},
   "outputs": [
    {
     "name": "stdout",
     "output_type": "stream",
     "text": [
      "(2,)\n",
      "(2, 2)\n"
     ]
    }
   ],
   "source": [
    "# Compute the eigenvalues and eigenvectors\n",
    "\n",
    "(evals, evectors) = np.linalg.eig(covariance_matrix)\n",
    "print(evals.shape)\n",
    "print(evectors.shape)"
   ]
  },
  {
   "cell_type": "code",
   "execution_count": 117,
   "id": "603e0692",
   "metadata": {},
   "outputs": [
    {
     "name": "stdout",
     "output_type": "stream",
     "text": [
      "[0 1]\n"
     ]
    }
   ],
   "source": [
    "# Get an ordering over the eigenvalues\n",
    "\n",
    "evals_order = np.argsort(evals)[::-1]\n",
    "print(evals_order)"
   ]
  },
  {
   "cell_type": "code",
   "execution_count": 118,
   "id": "89a2ced8",
   "metadata": {},
   "outputs": [
    {
     "name": "stdout",
     "output_type": "stream",
     "text": [
      "3.333333333333333\n",
      "-3.7007434154171886e-16\n",
      "(2, 2)\n"
     ]
    }
   ],
   "source": [
    "# Sort the eigenvalues and eigenvectors accordingly\n",
    "\n",
    "evals_sorted = evals[evals_order]\n",
    "for e in evals_sorted:\n",
    "    print(e)\n",
    "\n",
    "# We looked up numpy linalg eig in class; the eigenvectors run along the *columns*, not the rows\n",
    "evectors_sorted = evectors[:, evals_order]\n",
    "print(evectors_sorted.shape)"
   ]
  },
  {
   "cell_type": "code",
   "execution_count": 119,
   "id": "5042d544",
   "metadata": {},
   "outputs": [
    {
     "name": "stdout",
     "output_type": "stream",
     "text": [
      "[1.0000000000000002, -1.1102230246251568e-16]\n"
     ]
    }
   ],
   "source": [
    "# Compute the proportional variance\n",
    "\n",
    "evals_sum = np.sum(evals_sorted)\n",
    "ps = [eval / evals_sum for eval in evals_sorted]\n",
    "print(ps)"
   ]
  },
  {
   "cell_type": "code",
   "execution_count": 120,
   "id": "d30b3d5d",
   "metadata": {},
   "outputs": [
    {
     "name": "stdout",
     "output_type": "stream",
     "text": [
      "0 1.0000000000000002 1.0000000000000002\n",
      "1 -1.1102230246251568e-16 1.0\n"
     ]
    }
   ],
   "source": [
    "# Compute the cumulative sum of the proportional variance\n",
    "\n",
    "c = 0\n",
    "for i in range(len(ps)):\n",
    "    c = c + ps[i]\n",
    "    print(i, ps[i], c)"
   ]
  },
  {
   "cell_type": "code",
   "execution_count": 121,
   "id": "566afbb1",
   "metadata": {},
   "outputs": [
    {
     "name": "stdout",
     "output_type": "stream",
     "text": [
      "[[ 0.70710678  0.70710678]\n",
      " [-0.70710678  0.70710678]]\n"
     ]
    }
   ],
   "source": [
    "# Examine the principal components\n",
    "\n",
    "print(evectors_sorted)"
   ]
  },
  {
   "cell_type": "code",
   "execution_count": 122,
   "id": "897bf0ab",
   "metadata": {},
   "outputs": [
    {
     "name": "stdout",
     "output_type": "stream",
     "text": [
      "[[ 0.70710678]\n",
      " [-0.70710678]]\n"
     ]
    }
   ],
   "source": [
    "# Construct v'\n",
    "\n",
    "v = np.array([evectors_sorted[:, 0]]).T\n",
    "print(v)"
   ]
  },
  {
   "cell_type": "code",
   "execution_count": 123,
   "id": "c1476827",
   "metadata": {},
   "outputs": [
    {
     "name": "stdout",
     "output_type": "stream",
     "text": [
      "[[-2.12132034]\n",
      " [-0.70710678]\n",
      " [ 0.70710678]\n",
      " [ 2.12132034]]\n"
     ]
    }
   ],
   "source": [
    "# Project the data into PCA space\n",
    "\n",
    "projected_data = centered_data@v\n",
    "print(projected_data)"
   ]
  },
  {
   "cell_type": "code",
   "execution_count": 124,
   "id": "84ef2a04",
   "metadata": {},
   "outputs": [
    {
     "name": "stdout",
     "output_type": "stream",
     "text": [
      "[[1. 4.]\n",
      " [2. 3.]\n",
      " [3. 2.]\n",
      " [4. 1.]]\n"
     ]
    },
    {
     "data": {
      "image/png": "[encoded data removed]",
      "text/plain": [
       "<Figure size 432x288 with 1 Axes>"
      ]
     },
     "metadata": {
      "needs_background": "light"
     },
     "output_type": "display_data"
    }
   ],
   "source": [
    "# Reconstruct the data with only the chosen principal components\n",
    "\n",
    "reconstructed_data = projected_data@v.T + np.mean(data, axis=0)\n",
    "print(reconstructed_data)\n",
    "plt.scatter(x = reconstructed_data[:, 0], y=reconstructed_data[:, 1], color=\"black\")\n",
    "plt.scatter(x = data[:, 0], y=data[:, 1], color=\"blue\")\n",
    "plt.show()"
   ]
  },
  {
   "cell_type": "markdown",
   "id": "4bbc7513",
   "metadata": {},
   "source": [
    "If we do all this, then:\n",
    "* what does the data look like in \"PC space\"?\n",
    "* what does it look like projected back?\n",
    "* how does a regression fit on the PC transformed data compare with one fit on the original data?\n",
    "* What if all the points were on a line?"
   ]
  },
  {
   "cell_type": "code",
   "execution_count": 145,
   "id": "68deb227",
   "metadata": {},
   "outputs": [
    {
     "name": "stdout",
     "output_type": "stream",
     "text": [
      "centered data\n",
      "(41099, 16)\n",
      "covariance matrix\n",
      "(16, 16)\n",
      "eigenvalues, eigenvectors\n",
      "(16,)\n",
      "(16, 16)\n",
      "sorted eigenvalues\n",
      "14153757017.333025\n",
      "848.9629092078403\n",
      "356.9309843409062\n",
      "27.485438963116437\n",
      "12.495710147178318\n",
      "4.19658567869681\n",
      "0.25843669691081395\n",
      "0.2033293617670607\n",
      "0.17282723519279652\n",
      "0.08204913011190491\n",
      "0.07482609110134858\n",
      "0.05708022556689704\n",
      "0.03149352247716357\n",
      "0.017998889432496105\n",
      "0.011889724923685565\n",
      "0.006227958482163097\n",
      "cum sum prop var\n",
      "0 0.9999999116144445 0.9999999116144445\n",
      "1 5.998144755008313e-08 0.999999971595892\n",
      "2 2.521810656748288e-08 0.9999999968139986\n",
      "3 1.9419180716569695e-09 0.9999999987559167\n",
      "4 8.828545683973164e-10 0.9999999996387713\n",
      "5 2.9649974226913854e-10 0.999999999935271\n",
      "6 1.825922783274118e-11 0.9999999999535303\n",
      "7 1.436575063049904e-11 0.999999999967896\n",
      "8 1.2210695697666494e-11 0.9999999999801067\n",
      "9 5.796985405321546e-12 0.9999999999859037\n",
      "10 5.2866588281944614e-12 0.9999999999911904\n",
      "11 4.0328670650434236e-12 0.9999999999952233\n",
      "12 2.2250996435097326e-12 0.9999999999974484\n",
      "13 1.2716685626023112e-12 0.99999999999872\n",
      "14 8.400401291505278e-13 0.99999999999956\n",
      "15 4.400215380322428e-13 1.0\n",
      "v\n",
      "(16, 2)\n",
      "projected data\n",
      "(41099, 2)\n",
      "reconstructed data\n",
      "(41099, 16)\n",
      "(41099, 15)\n",
      "[ 5.38646466e-01 -2.15956492e-01 -1.35881617e-04  6.67399655e-03\n",
      " -1.83738682e-02  3.68550100e-01 -1.12233220e-01 -2.03531470e-02\n",
      " -1.08567882e-01  3.49426874e-01 -8.25252190e-04  8.49952634e-08\n",
      "  3.14925806e-02 -6.90532915e-05 -1.00340062e-03  5.30167298e-02] 697.0090920859687\n",
      "0.4635689666556421\n",
      "(41099, 15)\n",
      "[ 2.83216283e-04  9.57323976e-05  1.44110274e-03 -3.81769409e-03\n",
      "  2.01850775e-04  1.66267474e-05  1.88749901e-04  4.48480379e-05\n",
      "  5.17831894e-05  1.46282604e-04  4.77316305e-04 -2.95284536e-07\n",
      "  1.09374723e-03  1.24168652e-02  2.44730397e-04  1.42571077e-04] []\n",
      "0.9999999999999306\n"
     ]
    }
   ],
   "source": [
    "# Now let's do it on our big dataset!\n",
    "import scipy as sp\n",
    "\n",
    "columns=['danceability','energy','key','loudness','mode','speechiness','acousticness','instrumentalness','liveness','valence','tempo','duration_ms','time_signature','chorus_hit','sections','popularity']\n",
    "data = np.array(np.genfromtxt('data/spotify_dataset.csv', delimiter=',', skip_header=1, usecols=(2,3,4,5,6,7,8,9,10,11,12,13,14,15,16,17), dtype=float, encoding='utf-8')) \n",
    "\n",
    "# center\n",
    "centered_data = data - np.mean(data, axis=0)\n",
    "print(\"centered data\")\n",
    "print(centered_data.shape)\n",
    "\n",
    "# covariance\n",
    "covariance_matrix = (centered_data.T @ centered_data) / (data.shape[0] - 1)\n",
    "print(\"covariance matrix\")\n",
    "print(covariance_matrix.shape)\n",
    "\n",
    "# svd\n",
    "(evals, evectors) = np.linalg.eig(covariance_matrix)\n",
    "print(\"eigenvalues, eigenvectors\")\n",
    "print(evals.shape)\n",
    "print(evectors.shape)\n",
    "\n",
    "# sort\n",
    "evals_order = np.argsort(evals)[::-1]\n",
    "evals_sorted = evals[evals_order]\n",
    "evectors_sorted = evectors[:, evals_order]\n",
    "print(\"sorted eigenvalues\")\n",
    "for e in evals_sorted:\n",
    "    print(e)\n",
    "\n",
    "# proportional variance\n",
    "evals_sum = np.sum(evals_sorted)\n",
    "ps = [e / evals_sum for e in evals_sorted]\n",
    "\n",
    "# cumulative sum of proportional variance\n",
    "print(\"cum sum prop var\")\n",
    "c = 0\n",
    "for i in range(len(ps)):\n",
    "    c = c + ps[i]\n",
    "    print(i, ps[i], c)\n",
    "\n",
    "# v\n",
    "v = evectors_sorted[np.ix_(np.arange(evectors_sorted.shape[0]), [0, 1])]\n",
    "print(\"v\")\n",
    "print(v.shape)\n",
    "\n",
    "# project into PCA space\n",
    "projected_data = centered_data@v\n",
    "print(\"projected data\")\n",
    "print(projected_data.shape)\n",
    "\n",
    "# reconstructed data\n",
    "reconstructed_data = projected_data@v.T + np.mean(data, axis=0)\n",
    "print(\"reconstructed data\")\n",
    "print(reconstructed_data.shape)\n",
    "\n",
    "# From Day 12\n",
    "# assume these are numpy arrays\n",
    "def rsquared(y, yhat):\n",
    "    if len(y) != len(yhat):\n",
    "        print(\"Need y and yhat to be the same length!\")\n",
    "        return 0\n",
    "    return ((yhat - y.mean())**2).sum() / ((y - y.mean())**2).sum()\n",
    "\n",
    "# multiple linear regression  \n",
    "def fit(data, independent, dependent):\n",
    "    # These are our independent variable(s)\n",
    "    x = data[np.ix_(np.arange(data.shape[0]), independent)]\n",
    "    print(x.shape)\n",
    "    \n",
    "    # We add a column of 1s for the intercept\n",
    "    A = np.hstack((np.array([np.ones(x.shape[0])]).T, x))\n",
    "\n",
    "    # This is the dependent variable \n",
    "    y = data[:, dependent]\n",
    "\n",
    "    # This is the regression coefficients that were fit, plus some other results\n",
    "    c, res, _, _ = sp.linalg.lstsq(A, y)\n",
    "    return c, res\n",
    "\n",
    "def predict(data, independent, c):\n",
    "    # These are our independent variable(s)\n",
    "    x = data[np.ix_(np.arange(data.shape[0]), independent)]\n",
    "\n",
    "    # We add a column of 1s for the intercept\n",
    "    A = np.hstack((np.array([np.ones(x.shape[0])]).T, x))\n",
    "\n",
    "    return np.dot(A, c)\n",
    "\n",
    "c, res = fit(data, [1,2,3,4,5,6,7,8,9,10,11,12,13,14,15], 0)\n",
    "print(c, res)\n",
    "yhat = predict(data, [1,2,3,4,5,6,7,8,9,10,11,12,13,14,15], c)\n",
    "rs = rsquared(data[:, 0], yhat)\n",
    "print(rs)\n",
    "\n",
    "c1, res1 = fit(reconstructed_data, [1,2,3,4,5,6,7,8,9,10,11,12,13,14,15], 0)\n",
    "print(c1, res1)\n",
    "yhat = predict(reconstructed_data, [1,2,3,4,5,6,7,8,9,10,11,12,13,14,15], c1)\n",
    "rs1 = rsquared(reconstructed_data[:, 0], yhat)\n",
    "print(rs1)"
   ]
  },
  {
   "cell_type": "markdown",
   "id": "d9b2af3e",
   "metadata": {},
   "source": [
    "Resources:\n",
    "* https://plotly.com/python/pca-visualization/\n",
    "* https://wendynavarrete.com/principal-component-analysis-with-numpy/\n",
    "* https://dev.to/akaame/implementing-simple-pca-using-numpy-3k0a"
   ]
  }
 ],
 "metadata": {
  "kernelspec": {
   "display_name": "Python 3 (ipykernel)",
   "language": "python",
   "name": "python3"
  },
  "language_info": {
   "codemirror_mode": {
    "name": "ipython",
    "version": 3
   },
   "file_extension": ".py",
   "mimetype": "text/x-python",
   "name": "python",
   "nbconvert_exporter": "python",
   "pygments_lexer": "ipython3",
   "version": "3.9.7"
  }
 },
 "nbformat": 4,
 "nbformat_minor": 5
}
