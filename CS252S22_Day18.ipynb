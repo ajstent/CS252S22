{
 "cells": [
  {
   "cell_type": "code",
   "execution_count": 26,
   "id": "74f2983f",
   "metadata": {},
   "outputs": [],
   "source": [
    "import numpy as np\n",
    "import matplotlib.pyplot as plt"
   ]
  },
  {
   "cell_type": "markdown",
   "id": "0a863181",
   "metadata": {},
   "source": [
    "# PCA\n",
    "\n",
    "PCA stands for \"principal components analysis\".\n",
    "\n",
    "The \"principal components\" in PCA are the axes of covariation. Intuition: if you look at a pairplot, in what direction (if any) do you see the variables pointing?"
   ]
  },
  {
   "cell_type": "markdown",
   "id": "fcd89562",
   "metadata": {},
   "source": [
    "The idea behind PCA is:\n",
    "* find the components (the intrinsic axes of variation)\n",
    "* order them from largest to smallest\n",
    "* drop the smallest ones\n",
    "\n",
    "This gives a data set with fewer variables, but that still has most of the information of the full dataset. Note that this type of projection does *not drop data variables*, instead it drops variation between data variables.\n",
    "\n"
   ]
  },
  {
   "cell_type": "markdown",
   "id": "4464ad40",
   "metadata": {},
   "source": [
    "We can do this using matrix math!\n",
    "* Rotate so the principal coordinates become coordinate axes (translation then rotation), then \n",
    "* drop the lesser ones, then \n",
    "* reverse the rotation and translation: $$A_{reconstruct} = (P@A_c^T)^T + \\mu = A_c @ P^T + \\mu$$\n",
    "    \n",
    "The rotation matrix is the *eigenvectors* of the covariance matrix. The eigenvectors tell us the direction of the principal components. The eigenvalues tell us the amount of variation in each principal coordinate direction.\n"
   ]
  },
  {
   "cell_type": "markdown",
   "id": "ed7100f1",
   "metadata": {},
   "source": [
    "Reminder: the eigenvectors are *orthonormal*. What does that mean?"
   ]
  },
  {
   "cell_type": "markdown",
   "id": "53e774a1",
   "metadata": {},
   "source": [
    "So the steps to calculate PCA are:\n",
    "* (If appropriate) normalize the variables to be in the range 0-1\n",
    "* Center the data\n",
    "* Compute the covariance matrix\n",
    "* Compute the eigenvectors and eigenvalues; the eigenvectors tell us the direction of variance, and the eigenvalues tell us the amount of variance\n",
    "* Get an ordering over the eigenvalues\n",
    "* Sort the eigenvalues and eigenvectors accordingly\n",
    "* Compute the proportional variance (how much bigger?) accounted for by each principal component\n",
    "* Compute the cumulative sum of the proportional variance (tells us how many eigenvectors we need to explain a desired amount of variance)\n",
    "* Examine the principal components. Select v' of them.\n",
    "* Project the data into PCA space\n",
    "* Reconstruct the data"
   ]
  },
  {
   "cell_type": "code",
   "execution_count": 27,
   "id": "7329f092",
   "metadata": {},
   "outputs": [
    {
     "name": "stdout",
     "output_type": "stream",
     "text": [
      "[[1.  4.5]\n",
      " [2.  2.5]\n",
      " [3.  2.5]\n",
      " [4.  0.5]]\n"
     ]
    }
   ],
   "source": [
    "# Let's do it on a small dataset so we can see what's going on\n",
    "\n",
    "data = np.array([[1, 4.5],[2, 2.5], [3, 2.5], [4, 0.5]])\n",
    "print(data)\n",
    "columns = ['x,', 'y']"
   ]
  },
  {
   "cell_type": "code",
   "execution_count": 29,
   "id": "f6428bae",
   "metadata": {},
   "outputs": [
    {
     "data": {
      "image/png": "[encoded data removed]",
      "text/plain": [
       "<Figure size 432x288 with 1 Axes>"
      ]
     },
     "metadata": {
      "needs_background": "light"
     },
     "output_type": "display_data"
    }
   ],
   "source": [
    "# Let's plot the data\n",
    "\n",
    "plt.scatter(x = data[:, 0], y=data[:, 1])\n",
    "plt.show()\n",
    "\n",
    "# In which directions do the points vary?"
   ]
  },
  {
   "cell_type": "code",
   "execution_count": 30,
   "id": "e8888154",
   "metadata": {},
   "outputs": [
    {
     "name": "stdout",
     "output_type": "stream",
     "text": [
      "[[-1.5  2. ]\n",
      " [-0.5  0. ]\n",
      " [ 0.5  0. ]\n",
      " [ 1.5 -2. ]]\n"
     ]
    },
    {
     "data": {
      "image/png": "[encoded data removed]",
      "text/plain": [
       "<Figure size 432x288 with 1 Axes>"
      ]
     },
     "metadata": {
      "needs_background": "light"
     },
     "output_type": "display_data"
    }
   ],
   "source": [
    "# Center the data\n",
    "\n",
    "centered_data = data - np.mean(data, axis=0)\n",
    "print(centered_data)\n",
    "plt.scatter(x = centered_data[:, 0], y=centered_data[:, 1])\n",
    "plt.show()"
   ]
  },
  {
   "cell_type": "code",
   "execution_count": 31,
   "id": "199b41d9",
   "metadata": {},
   "outputs": [
    {
     "name": "stdout",
     "output_type": "stream",
     "text": [
      "[[ 1.66666667 -2.        ]\n",
      " [-2.          2.66666667]]\n"
     ]
    }
   ],
   "source": [
    "# Compute the covariance matrix\n",
    "\n",
    "covariance_matrix = (centered_data.T @ centered_data) / (data.shape[0] - 1)\n",
    "print(covariance_matrix)"
   ]
  },
  {
   "cell_type": "code",
   "execution_count": 32,
   "id": "8c5d7b4c",
   "metadata": {},
   "outputs": [
    {
     "name": "stdout",
     "output_type": "stream",
     "text": [
      "[0.10511385 4.22821948]\n",
      "[[-0.78820544  0.61541221]\n",
      " [-0.61541221 -0.78820544]]\n"
     ]
    }
   ],
   "source": [
    "# Compute the eigenvalues and eigenvectors\n",
    "\n",
    "(evals, evectors) = np.linalg.eig(covariance_matrix)\n",
    "print(evals)\n",
    "print(evectors)"
   ]
  },
  {
   "cell_type": "code",
   "execution_count": 33,
   "id": "603e0692",
   "metadata": {},
   "outputs": [
    {
     "name": "stdout",
     "output_type": "stream",
     "text": [
      "[1 0]\n"
     ]
    }
   ],
   "source": [
    "# Get an ordering over the eigenvalues\n",
    "\n",
    "evals_order = np.argsort(evals)[::-1]\n",
    "print(evals_order)"
   ]
  },
  {
   "cell_type": "code",
   "execution_count": 34,
   "id": "89a2ced8",
   "metadata": {},
   "outputs": [
    {
     "name": "stdout",
     "output_type": "stream",
     "text": [
      "4.228219479475497\n",
      "0.10511385385783623\n"
     ]
    }
   ],
   "source": [
    "# Sort the eigenvalues and eigenvectors accordingly\n",
    "\n",
    "evals_sorted = evals[evals_order]\n",
    "for e in evals_sorted:\n",
    "    print(e)\n",
    "\n",
    "evectors_sorted = evectors[:, evals_order]"
   ]
  },
  {
   "cell_type": "code",
   "execution_count": 35,
   "id": "5042d544",
   "metadata": {},
   "outputs": [
    {
     "name": "stdout",
     "output_type": "stream",
     "text": [
      "[0.9757429568020378, 0.024257043197962208]\n"
     ]
    }
   ],
   "source": [
    "# Compute the proportional variance\n",
    "\n",
    "evals_sum = np.sum(evals_sorted)\n",
    "ps = [eval / evals_sum for eval in evals_sorted]\n",
    "print(ps)"
   ]
  },
  {
   "cell_type": "code",
   "execution_count": 36,
   "id": "d30b3d5d",
   "metadata": {},
   "outputs": [
    {
     "name": "stdout",
     "output_type": "stream",
     "text": [
      "0 0.9757429568020378 0.9757429568020378\n",
      "1 0.024257043197962208 1.0\n"
     ]
    }
   ],
   "source": [
    "# Compute the cumulative sum of the proportional variance\n",
    "\n",
    "c = 0\n",
    "for i in range(len(ps)):\n",
    "    c = c + ps[i]\n",
    "    print(i, ps[i], c)"
   ]
  },
  {
   "cell_type": "code",
   "execution_count": 46,
   "id": "38289e45",
   "metadata": {},
   "outputs": [
    {
     "name": "stdout",
     "output_type": "stream",
     "text": [
      "[[ 0.61541221 -0.78820544]\n",
      " [-0.78820544 -0.61541221]]\n"
     ]
    }
   ],
   "source": [
    "# Examine the principal components\n",
    "\n",
    "print(evectors_sorted)"
   ]
  },
  {
   "cell_type": "code",
   "execution_count": 47,
   "id": "8df98590",
   "metadata": {},
   "outputs": [
    {
     "name": "stdout",
     "output_type": "stream",
     "text": [
      "[[ 0.61541221]\n",
      " [-0.78820544]]\n"
     ]
    }
   ],
   "source": [
    "# Construct v'\n",
    "\n",
    "v = np.array([evectors_sorted[:, 0]]).T\n",
    "print(v)"
   ]
  },
  {
   "cell_type": "code",
   "execution_count": 50,
   "id": "864ebc17",
   "metadata": {},
   "outputs": [
    {
     "name": "stdout",
     "output_type": "stream",
     "text": [
      "[[-2.49952919]\n",
      " [-0.3077061 ]\n",
      " [ 0.3077061 ]\n",
      " [ 2.49952919]]\n"
     ]
    }
   ],
   "source": [
    "# Project the data into PCA space\n",
    "\n",
    "projected_data = centered_data@v\n",
    "print(projected_data)"
   ]
  },
  {
   "cell_type": "code",
   "execution_count": 56,
   "id": "59b579c6",
   "metadata": {},
   "outputs": [
    {
     "name": "stdout",
     "output_type": "stream",
     "text": [
      "[[0.96175922 4.4701425 ]\n",
      " [2.31063391 2.74253563]\n",
      " [2.68936609 2.25746437]\n",
      " [4.03824078 0.5298575 ]]\n"
     ]
    },
    {
     "data": {
      "image/png": "[encoded data removed]",
      "text/plain": [
       "<Figure size 432x288 with 1 Axes>"
      ]
     },
     "metadata": {
      "needs_background": "light"
     },
     "output_type": "display_data"
    }
   ],
   "source": [
    "# Reconstruct the data with only the chosen principal components\n",
    "\n",
    "reconstructed_data = projected_data@v.T + np.mean(data, axis=0)\n",
    "print(reconstructed_data)\n",
    "plt.scatter(x = reconstructed_data[:, 0], y=reconstructed_data[:, 1], color=\"black\")\n",
    "plt.scatter(x = data[:, 0], y=data[:, 1], color=\"blue\")\n",
    "plt.show()"
   ]
  },
  {
   "cell_type": "markdown",
   "id": "4bbc7513",
   "metadata": {},
   "source": [
    "If we do all this, then:\n",
    "* what does the data look like in \"PC space\"?\n",
    "* what does it look like projected back?\n",
    "* how does a regression fit on the PC transformed data compare with one fit on the original data?"
   ]
  },
  {
   "cell_type": "code",
   "execution_count": null,
   "id": "6f04c4b7",
   "metadata": {},
   "outputs": [],
   "source": [
    "# Now let's do it on our big dataset!"
   ]
  },
  {
   "cell_type": "markdown",
   "id": "d901a56d",
   "metadata": {},
   "source": [
    "Resources:\n",
    "* https://plotly.com/python/pca-visualization/\n",
    "* https://wendynavarrete.com/principal-component-analysis-with-numpy/\n",
    "* https://dev.to/akaame/implementing-simple-pca-using-numpy-3k0a"
   ]
  }
 ],
 "metadata": {
  "kernelspec": {
   "display_name": "Python 3 (ipykernel)",
   "language": "python",
   "name": "python3"
  },
  "language_info": {
   "codemirror_mode": {
    "name": "ipython",
    "version": 3
   },
   "file_extension": ".py",
   "mimetype": "text/x-python",
   "name": "python",
   "nbconvert_exporter": "python",
   "pygments_lexer": "ipython3",
   "version": "3.9.7"
  }
 },
 "nbformat": 4,
 "nbformat_minor": 5
}
