{
 "cells": [
  {
   "cell_type": "code",
   "execution_count": null,
   "id": "52c680f3",
   "metadata": {},
   "outputs": [],
   "source": [
    "import numpy as np\n",
    "import matplotlib.pyplot as plt"
   ]
  },
  {
   "cell_type": "markdown",
   "id": "0a863181",
   "metadata": {},
   "source": [
    "# PCA\n",
    "\n",
    "PCA stands for \"principal components analysis\".\n",
    "\n",
    "The \"principal components\" in PCA are the axes of covariation. Intuition: if you look at a pairplot, in what direction (if any) do you see the variables pointing?"
   ]
  },
  {
   "cell_type": "markdown",
   "id": "fcd89562",
   "metadata": {},
   "source": [
    "The idea behind PCA is:\n",
    "* find the components (the intrinsic axes of variation)\n",
    "* order them from largest to smallest\n",
    "* drop the smallest ones\n",
    "\n",
    "This gives a data set with fewer variables, but that still has most of the information of the full dataset. Note that this type of projection does *not drop data variables*, instead it drops variation between data variables.\n",
    "\n"
   ]
  },
  {
   "cell_type": "markdown",
   "id": "a7828258",
   "metadata": {},
   "source": [
    "We can do this using matrix math!\n",
    "* Rotate so the principal coordinates become coordinate axes (translation then rotation), then \n",
    "* drop the lesser ones, then \n",
    "* reverse the rotation and translation: $$A_{reconstruct} = (P@A_c^T)^T + \\mu = A_c @ P^T + \\mu$$\n",
    "    \n",
    "The rotation matrix is the *eigenvectors* of the covariance matrix. The eigenvectors tell us the direction of the principal components. The eigenvalues tell us the amount of variation in each principal coordinate direction.\n"
   ]
  },
  {
   "cell_type": "markdown",
   "id": "ed7100f1",
   "metadata": {},
   "source": [
    "Reminder: the eigenvectors are *orthonormal*. What does that mean?"
   ]
  },
  {
   "cell_type": "markdown",
   "id": "53e774a1",
   "metadata": {},
   "source": [
    "So the steps to calculate PCA are:\n",
    "* (If appropriate) normalize the variables to be in the range 0-1\n",
    "* Center the data\n",
    "* Compute the covariance matrix\n",
    "* Compute the eigenvectors and eigenvalues; the eigenvectors tell us the direction of variance, and the eigenvalues tell us the amount of variance\n",
    "* Get an ordering over the eigenvalues\n",
    "* Sort the eigenvalues and eigenvectors accordingly\n",
    "* Compute the proportional variance (how much bigger?) accounted for by each principal component\n",
    "* Compute the cumulative sum of the proportional variance (tells us how many eigenvectors we need to explain a desired amount of variance)\n",
    "* Examine the principal components. Select v' of them.\n",
    "* Project the data into PCA space\n",
    "* Reconstruct the data"
   ]
  },
  {
   "cell_type": "code",
   "execution_count": null,
   "id": "a1eca89d",
   "metadata": {},
   "outputs": [],
   "source": [
    "# Let's do it on a small dataset so we can see what's going on\n",
    "\n",
    "data = np.array([[1, 4],[2, 3], [3, 2], [4, 1.0]])\n",
    "print(data)\n",
    "columns = ['x,', 'y']"
   ]
  },
  {
   "cell_type": "code",
   "execution_count": null,
   "id": "a258e227",
   "metadata": {},
   "outputs": [],
   "source": []
  },
  {
   "cell_type": "code",
   "execution_count": null,
   "id": "a200d8a5",
   "metadata": {},
   "outputs": [],
   "source": [
    "# Let's plot the data\n",
    "\n",
    "plt.scatter(x = data[:, 0], y=data[:, 1])\n",
    "plt.show()\n",
    "\n",
    "# In which directions do the points vary?"
   ]
  },
  {
   "cell_type": "code",
   "execution_count": null,
   "id": "e8888154",
   "metadata": {},
   "outputs": [],
   "source": [
    "# Center the data\n",
    "\n",
    "centered_data = data - np.mean(data, axis=0)\n",
    "print(centered_data.shape)\n",
    "plt.scatter(x = centered_data[:, 0], y=centered_data[:, 1])\n",
    "plt.show()"
   ]
  },
  {
   "cell_type": "code",
   "execution_count": null,
   "id": "199b41d9",
   "metadata": {},
   "outputs": [],
   "source": [
    "# Compute the covariance matrix\n",
    "\n",
    "covariance_matrix = (centered_data.T @ centered_data) / (data.shape[0] - 1)\n",
    "print(covariance_matrix.shape)"
   ]
  },
  {
   "cell_type": "code",
   "execution_count": null,
   "id": "8c5d7b4c",
   "metadata": {},
   "outputs": [],
   "source": [
    "# Compute the eigenvalues and eigenvectors\n",
    "\n",
    "(evals, evectors) = np.linalg.eig(covariance_matrix)\n",
    "print(evals.shape)\n",
    "print(evectors.shape)"
   ]
  },
  {
   "cell_type": "code",
   "execution_count": null,
   "id": "603e0692",
   "metadata": {},
   "outputs": [],
   "source": [
    "# Get an ordering over the eigenvalues\n",
    "\n",
    "evals_order = np.argsort(evals)[::-1]\n",
    "print(evals_order)"
   ]
  },
  {
   "cell_type": "code",
   "execution_count": null,
   "id": "89a2ced8",
   "metadata": {},
   "outputs": [],
   "source": [
    "# Sort the eigenvalues and eigenvectors accordingly\n",
    "\n",
    "evals_sorted = evals[evals_order]\n",
    "for e in evals_sorted:\n",
    "    print(e)\n",
    "\n",
    "# We looked up numpy linalg eig in class; the eigenvectors run along the *columns*, not the rows\n",
    "evectors_sorted = evectors[:, evals_order]\n",
    "print(evectors_sorted.shape)"
   ]
  },
  {
   "cell_type": "code",
   "execution_count": null,
   "id": "5042d544",
   "metadata": {},
   "outputs": [],
   "source": [
    "# Compute the proportional variance\n",
    "\n",
    "evals_sum = np.sum(evals_sorted)\n",
    "ps = [eval / evals_sum for eval in evals_sorted]\n",
    "print(ps)"
   ]
  },
  {
   "cell_type": "code",
   "execution_count": null,
   "id": "d30b3d5d",
   "metadata": {},
   "outputs": [],
   "source": [
    "# Compute the cumulative sum of the proportional variance\n",
    "\n",
    "c = 0\n",
    "for i in range(len(ps)):\n",
    "    c = c + ps[i]\n",
    "    print(i, ps[i], c)"
   ]
  },
  {
   "cell_type": "code",
   "execution_count": null,
   "id": "566afbb1",
   "metadata": {},
   "outputs": [],
   "source": [
    "# Examine the principal components\n",
    "\n",
    "print(evectors_sorted)"
   ]
  },
  {
   "cell_type": "code",
   "execution_count": null,
   "id": "897bf0ab",
   "metadata": {},
   "outputs": [],
   "source": [
    "# Construct v'\n",
    "\n",
    "v = np.array([evectors_sorted[:, 0]]).T\n",
    "print(v)"
   ]
  },
  {
   "cell_type": "code",
   "execution_count": null,
   "id": "c1476827",
   "metadata": {},
   "outputs": [],
   "source": [
    "# Project the data into PCA space\n",
    "\n",
    "projected_data = centered_data@v\n",
    "print(projected_data)"
   ]
  },
  {
   "cell_type": "code",
   "execution_count": null,
   "id": "84ef2a04",
   "metadata": {},
   "outputs": [],
   "source": [
    "# Reconstruct the data with only the chosen principal components\n",
    "\n",
    "reconstructed_data = projected_data@v.T + np.mean(data, axis=0)\n",
    "print(reconstructed_data)\n",
    "plt.scatter(x = reconstructed_data[:, 0], y=reconstructed_data[:, 1], color=\"black\")\n",
    "plt.scatter(x = data[:, 0], y=data[:, 1], color=\"blue\")\n",
    "plt.show()"
   ]
  },
  {
   "cell_type": "markdown",
   "id": "4bbc7513",
   "metadata": {},
   "source": [
    "If we do all this, then:\n",
    "* what does the data look like in \"PC space\"?\n",
    "* what does it look like projected back?\n",
    "* how does a regression fit on the PC transformed data compare with one fit on the original data?\n",
    "* What if all the points were on a line?"
   ]
  },
  {
   "cell_type": "code",
   "execution_count": null,
   "id": "68deb227",
   "metadata": {},
   "outputs": [],
   "source": [
    "# Now let's do it on our big dataset!\n",
    "import scipy as sp\n",
    "\n",
    "columns=['danceability','energy','key','loudness','mode','speechiness','acousticness','instrumentalness','liveness','valence','tempo','duration_ms','time_signature','chorus_hit','sections','popularity']\n",
    "data = np.array(np.genfromtxt('data/spotify_dataset.csv', delimiter=',', skip_header=1, usecols=(2,3,4,5,6,7,8,9,10,11,12,13,14,15,16,17), dtype=float, encoding='utf-8')) \n",
    "\n",
    "# center\n",
    "centered_data = data - np.mean(data, axis=0)\n",
    "print(\"centered data\")\n",
    "print(centered_data.shape)\n",
    "\n",
    "# covariance\n",
    "covariance_matrix = (centered_data.T @ centered_data) / (data.shape[0] - 1)\n",
    "print(\"covariance matrix\")\n",
    "print(covariance_matrix.shape)\n",
    "\n",
    "# svd\n",
    "(evals, evectors) = np.linalg.eig(covariance_matrix)\n",
    "print(\"eigenvalues, eigenvectors\")\n",
    "print(evals.shape)\n",
    "print(evectors.shape)\n",
    "\n",
    "# sort\n",
    "evals_order = np.argsort(evals)[::-1]\n",
    "evals_sorted = evals[evals_order]\n",
    "evectors_sorted = evectors[:, evals_order]\n",
    "print(\"sorted eigenvalues\")\n",
    "for e in evals_sorted:\n",
    "    print(e)\n",
    "\n",
    "# proportional variance\n",
    "evals_sum = np.sum(evals_sorted)\n",
    "ps = [e / evals_sum for e in evals_sorted]\n",
    "\n",
    "# cumulative sum of proportional variance\n",
    "print(\"cum sum prop var\")\n",
    "c = 0\n",
    "for i in range(len(ps)):\n",
    "    c = c + ps[i]\n",
    "    print(i, ps[i], c)\n",
    "\n",
    "# v\n",
    "v = evectors_sorted[np.ix_(np.arange(evectors_sorted.shape[0]), [0, 1])]\n",
    "print(\"v\")\n",
    "print(v.shape)\n",
    "\n",
    "# project into PCA space\n",
    "projected_data = centered_data@v\n",
    "print(\"projected data\")\n",
    "print(projected_data.shape)\n",
    "\n",
    "# reconstructed data\n",
    "reconstructed_data = projected_data@v.T + np.mean(data, axis=0)\n",
    "print(\"reconstructed data\")\n",
    "print(reconstructed_data.shape)\n",
    "\n",
    "# From Day 12\n",
    "# assume these are numpy arrays\n",
    "def rsquared(y, yhat):\n",
    "    if len(y) != len(yhat):\n",
    "        print(\"Need y and yhat to be the same length!\")\n",
    "        return 0\n",
    "    return ((yhat - y.mean())**2).sum() / ((y - y.mean())**2).sum()\n",
    "\n",
    "# multiple linear regression  \n",
    "def fit(data, independent, dependent):\n",
    "    # These are our independent variable(s)\n",
    "    x = data[np.ix_(np.arange(data.shape[0]), independent)]\n",
    "    print(x.shape)\n",
    "    \n",
    "    # We add a column of 1s for the intercept\n",
    "    A = np.hstack((np.array([np.ones(x.shape[0])]).T, x))\n",
    "\n",
    "    # This is the dependent variable \n",
    "    y = data[:, dependent]\n",
    "\n",
    "    # This is the regression coefficients that were fit, plus some other results\n",
    "    c, res, _, _ = sp.linalg.lstsq(A, y)\n",
    "    return c, res\n",
    "\n",
    "def predict(data, independent, c):\n",
    "    # These are our independent variable(s)\n",
    "    x = data[np.ix_(np.arange(data.shape[0]), independent)]\n",
    "\n",
    "    # We add a column of 1s for the intercept\n",
    "    A = np.hstack((np.array([np.ones(x.shape[0])]).T, x))\n",
    "\n",
    "    return np.dot(A, c)\n",
    "\n",
    "c, res = fit(data, [1,2,3,4,5,6,7,8,9,10,11,12,13,14,15], 0)\n",
    "print(c, res)\n",
    "yhat = predict(data, [1,2,3,4,5,6,7,8,9,10,11,12,13,14,15], c)\n",
    "rs = rsquared(data[:, 0], yhat)\n",
    "print(rs)\n",
    "\n",
    "c1, res1 = fit(reconstructed_data, [1,2,3,4,5,6,7,8,9,10,11,12,13,14,15], 0)\n",
    "print(c1, res1)\n",
    "yhat = predict(reconstructed_data, [1,2,3,4,5,6,7,8,9,10,11,12,13,14,15], c1)\n",
    "rs1 = rsquared(reconstructed_data[:, 0], yhat)\n",
    "print(rs1)"
   ]
  },
  {
   "cell_type": "markdown",
   "id": "d9b2af3e",
   "metadata": {},
   "source": [
    "Resources:\n",
    "* https://plotly.com/python/pca-visualization/\n",
    "* https://wendynavarrete.com/principal-component-analysis-with-numpy/\n",
    "* https://dev.to/akaame/implementing-simple-pca-using-numpy-3k0a"
   ]
  }
 ],
 "metadata": {
  "kernelspec": {
   "display_name": "Python 3 (ipykernel)",
   "language": "python",
   "name": "python3"
  },
  "language_info": {
   "codemirror_mode": {
    "name": "ipython",
    "version": 3
   },
   "file_extension": ".py",
   "mimetype": "text/x-python",
   "name": "python",
   "nbconvert_exporter": "python",
   "pygments_lexer": "ipython3",
   "version": "3.9.7"
  }
 },
 "nbformat": 4,
 "nbformat_minor": 5
}
