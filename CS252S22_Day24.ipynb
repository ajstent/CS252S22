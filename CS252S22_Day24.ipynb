{
 "cells": [
  {
   "cell_type": "markdown",
   "id": "b5e78268",
   "metadata": {},
   "source": [
    "# Let's talk about machine learning\n",
    "\n",
    "\n",
    "The phrase \"machine learning\" refers to any one of a number of methods for approximating a solution to a problem for which we don't have an analytical solution (an algorithmic solution) through examining data. The basic taxonomy of machine learning approaches is depicted below (from a SAS blog, see embedded link):\n",
    "\n",
    "![ML algorithms](https://blogs.sas.com/content/subconsciousmusings/files/2017/04/machine-learning-cheet-sheet-2.png)\n",
    "\n",
    "However, note that one can \"mimic\" supervised learning with minimal labeling via self-supervised learning or semi-supervised learning. Also note that this diagram does not include a third major class of ML algorithm, reinforcement learning."
   ]
  },
  {
   "cell_type": "markdown",
   "id": "6f4a8497",
   "metadata": {},
   "source": [
    "When we talk about machine learning, we talk about:\n",
    "* *fitting* (or *training*) a *prediction function*, or *model*, to\n",
    "* *training* data, experimenting with various\n",
    "* *hyperparameters* related to the *model architecture* using held-out\n",
    "* *development* data, so that the resulting model generalizes well, making good *predictions* on held-out\n",
    "* *test* (or *evaluation*) data\n",
    "\n",
    "The goal of unsupervised learning is to uncover latent structure or patterns in the data. The goal of supervised learning is to learn to match the labels (or answers, or ground truth, or dependent variable) in the data.\n",
    "\n",
    "We evaluate models / prediction functions using any number of metrics, but a commonly used one for supervised machine learning is:\n",
    "* accuracy - what percent of the data points were classified correctly?\n",
    "\n",
    "Of course, accuracy is just one number. To get a clearer understanding, we can construct a\n",
    "* confusion matrix,\n",
    "which has the classes (the labels) along rows and columns, and in each cell indicates the number of data points classified as *row* that are truly in class *column*."
   ]
  },
  {
   "cell_type": "markdown",
   "id": "416d7d61",
   "metadata": {},
   "source": [
    "# K-nearest neighbors\n",
    "\n",
    "K-nearest neighbors (KNNs) is a very very simple supervised ML algorithm.\n",
    "* fit - it just stores all the training data!\n",
    "* predict - it finds the data points in the training data that are closest to the data point to be classified, and takes a majority vote of their labels\n",
    "\n",
    "# Questions:\n",
    "What are some of the hyperparameters related to kNN?\n",
    "\n",
    "How would you pick good values for them?\n",
    "\n",
    "kNN is expensive in terms of computational cost and memory. You can address each of these costs using methods *we already know*.\n",
    "* to make it faster, what can you do?\n",
    "* To make it less memory intensive, what can you do?"
   ]
  },
  {
   "cell_type": "code",
   "execution_count": null,
   "id": "27dc5f46",
   "metadata": {},
   "outputs": [],
   "source": []
  }
 ],
 "metadata": {
  "kernelspec": {
   "display_name": "Python 3 (ipykernel)",
   "language": "python",
   "name": "python3"
  },
  "language_info": {
   "codemirror_mode": {
    "name": "ipython",
    "version": 3
   },
   "file_extension": ".py",
   "mimetype": "text/x-python",
   "name": "python",
   "nbconvert_exporter": "python",
   "pygments_lexer": "ipython3",
   "version": "3.9.7"
  }
 },
 "nbformat": 4,
 "nbformat_minor": 5
}
