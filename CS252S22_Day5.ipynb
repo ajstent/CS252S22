{
 "cells": [
  {
   "cell_type": "markdown",
   "id": "78695398",
   "metadata": {},
   "source": [
    "Let's talk more! about matrices\n",
    "----------------------"
   ]
  },
  {
   "cell_type": "code",
   "execution_count": null,
   "id": "bbdcff42",
   "metadata": {},
   "outputs": [],
   "source": [
    "import numpy as np\n",
    "\n",
    "# identity matrix\n",
    "np.eye(3)"
   ]
  },
  {
   "cell_type": "code",
   "execution_count": null,
   "id": "c757de3a",
   "metadata": {},
   "outputs": [],
   "source": [
    "# multiplying a matrix by a scalar\n",
    "np.eye(3) * 3"
   ]
  },
  {
   "cell_type": "code",
   "execution_count": null,
   "id": "b24e7c21",
   "metadata": {},
   "outputs": [],
   "source": [
    "# multiplying two matrices\n",
    "\n",
    "np.ones([3, 2])*3 * np.ones([3, 2])*4"
   ]
  },
  {
   "cell_type": "code",
   "execution_count": null,
   "id": "6aa47a60",
   "metadata": {},
   "outputs": [],
   "source": [
    "# transposing a matrix\n",
    "np.matrix.transpose(np.ones([3, 2]))"
   ]
  },
  {
   "cell_type": "code",
   "execution_count": null,
   "id": "2b3a6a86",
   "metadata": {},
   "outputs": [],
   "source": [
    "# flattening a matrix\n",
    "# way one\n",
    "print(np.ndarray.flatten(np.ones([3, 2])))\n",
    "# way two\n",
    "print(np.reshape(np.ones([3, 2]), -1))"
   ]
  },
  {
   "cell_type": "code",
   "execution_count": null,
   "id": "7309aaed",
   "metadata": {},
   "outputs": [],
   "source": [
    "# ok, take these two arrays and add a column to the first one that consists of the second one, go on, I dare you!\n",
    "\n",
    "arrayFirst = np.reshape(np.arange(0, 10), [5, 2])\n",
    "print(arrayFirst)\n",
    "\n",
    "arraySecond = np.array([[2], [3]])\n",
    "print(arraySecond)\n",
    "\n",
    "arrayFirst[: 1] = arraySecond\n",
    "\n",
    "# hmm, let's use reshape\n",
    "arrayFirst[: 1] = np.reshape(arraySecond, [1, 2])"
   ]
  },
  {
   "cell_type": "markdown",
   "id": "b750640b",
   "metadata": {},
   "source": [
    "Let's review our matrix math\n",
    "----------------------------\n",
    "\n",
    "* What is a scalar?\n",
    "* What is a vector?\n",
    "* What is a matrix?\n",
    "* What is a tensor?\n",
    "\n",
    "* How can I multiply a vector times a scalar?\n",
    "* What is the dot product between two vectors?\n",
    "* How can I multiply a matrix times a vector?\n",
    "* How can I multiply a matrix times a matrix?\n",
    "* What has to be true in order for me to be able to calculate the dot product between two vectors?\n",
    "* What has to be true in order for me to be able to multiply a matrix times a vector, or multiply two matrices?\n",
    "\n"
   ]
  },
  {
   "cell_type": "code",
   "execution_count": null,
   "id": "cff9f94d",
   "metadata": {},
   "outputs": [],
   "source": [
    "myScalar = 4\n",
    "myVector = [1, 2, 1, 2]\n",
    "myMatrix = [[3,5,3,5], [2,4,2,4]]\n",
    "\n",
    "myVectorArray = np.array(myVector)\n",
    "myMatrixArray = np.array(myMatrix)\n",
    "\n",
    "# what are we doing in each row here?\n",
    "print(np.dot(myVectorArray, myVectorArray))\n",
    "print(np.matmul(myMatrixArray, myVectorArray))\n",
    "print(np.multiply(myMatrixArray, myVectorArray))\n",
    "\n",
    "# and which of those do we think this corresponds to?\n",
    "print(myMatrixArray * myVectorArray)\n"
   ]
  },
  {
   "cell_type": "markdown",
   "id": "98f44bdf",
   "metadata": {},
   "source": [
    "**What does all this have to do with data analytics, visualization and machine learning?**"
   ]
  },
  {
   "cell_type": "markdown",
   "id": "ed9b1c93",
   "metadata": {},
   "source": []
  }
 ],
 "metadata": {
  "kernelspec": {
   "display_name": "Python 3 (ipykernel)",
   "language": "python",
   "name": "python3"
  },
  "language_info": {
   "codemirror_mode": {
    "name": "ipython",
    "version": 3
   },
   "file_extension": ".py",
   "mimetype": "text/x-python",
   "name": "python",
   "nbconvert_exporter": "python",
   "pygments_lexer": "ipython3",
   "version": "3.9.10"
  }
 },
 "nbformat": 4,
 "nbformat_minor": 5
}
