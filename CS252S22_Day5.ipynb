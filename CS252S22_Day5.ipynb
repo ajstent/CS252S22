{
 "cells": [
  {
   "cell_type": "markdown",
   "id": "78695398",
   "metadata": {},
   "source": [
    "Let's talk more! about matrices\n",
    "----------------------\n",
    "\n",
    "* What is the identity matrix?\n",
    "* What is the transpose of a matrix?\n",
    "* What is a diagonal matrix?"
   ]
  },
  {
   "cell_type": "code",
   "execution_count": null,
   "id": "bbdcff42",
   "metadata": {},
   "outputs": [],
   "source": [
    "import numpy as np\n",
    "\n",
    "# identity matrix\n",
    "np.eye(3)"
   ]
  },
  {
   "cell_type": "code",
   "execution_count": null,
   "id": "6aa47a60",
   "metadata": {},
   "outputs": [],
   "source": [
    "# transposing a matrix\n",
    "np.ones([3, 2])"
   ]
  },
  {
   "cell_type": "code",
   "execution_count": null,
   "id": "7efd6316",
   "metadata": {},
   "outputs": [],
   "source": [
    "np.matrix.transpose(np.ones([3, 2]))"
   ]
  },
  {
   "cell_type": "code",
   "execution_count": null,
   "id": "fc025e99",
   "metadata": {},
   "outputs": [],
   "source": [
    "np.ones([3, 2]).T"
   ]
  },
  {
   "cell_type": "code",
   "execution_count": null,
   "id": "2b3a6a86",
   "metadata": {},
   "outputs": [],
   "source": [
    "# flattening a matrix\n",
    "# way one\n",
    "print(np.ndarray.flatten(np.ones([3, 2])))\n",
    "# way two\n",
    "print(np.reshape(np.ones([3, 2]), -1))"
   ]
  },
  {
   "cell_type": "code",
   "execution_count": null,
   "id": "03bdb50d",
   "metadata": {},
   "outputs": [],
   "source": [
    "# what is a diagonal matrix?\n"
   ]
  },
  {
   "cell_type": "markdown",
   "id": "b750640b",
   "metadata": {},
   "source": [
    "Let's review our matrix math\n",
    "----------------------------\n",
    "\n",
    "* What is a scalar?\n",
    "* What is a vector?\n",
    "* What is a matrix?\n",
    "* What is a tensor?\n",
    "\n",
    "* How can I multiply a vector times a scalar?\n",
    "* What is the dot product between two vectors?\n",
    "* How can I multiply a matrix times a vector?\n",
    "* How can I multiply a matrix times a matrix?\n",
    "* What has to be true in order for me to be able to calculate the dot product between two vectors?\n",
    "* What has to be true in order for me to be able to multiply a matrix times a vector, or multiply two matrices?\n",
    "\n"
   ]
  },
  {
   "cell_type": "markdown",
   "id": "8c93107e",
   "metadata": {},
   "source": [
    "Let's start with scalars. How do we:\n",
    "* add/subtract\n",
    "* multiply/divide\n",
    "two scalars?"
   ]
  },
  {
   "cell_type": "code",
   "execution_count": null,
   "id": "e1d02fe3",
   "metadata": {},
   "outputs": [],
   "source": [
    "x = 2\n",
    "y = 4.5\n",
    "\n",
    "# add\n",
    "\n",
    "# subtract\n",
    "\n",
    "# multiply\n",
    "\n",
    "# divide\n"
   ]
  },
  {
   "cell_type": "markdown",
   "id": "6396f3ef",
   "metadata": {},
   "source": [
    "Now let's talk about vectors. How do we:\n",
    "* add/subtract a scalar to/from a vector?\n",
    "* multiply/divide a vector by a scalar?\n",
    "\n",
    "Also, how do we:\n",
    "* add/subtract\n",
    "* multiply/divide\n",
    "two vectors?"
   ]
  },
  {
   "cell_type": "code",
   "execution_count": null,
   "id": "039b13ba",
   "metadata": {},
   "outputs": [],
   "source": [
    "xv = np.array([1, 6, 2])\n",
    "\n",
    "print(\"math on a vector and a scalar\")\n",
    "\n",
    "# add x to xv\n",
    "print(x + xv)\n",
    "\n",
    "# subtract x from xv\n",
    "print(xv - x)\n",
    "\n",
    "# multiply xv times x\n",
    "print(xv * x)\n",
    "\n",
    "# divide xv by x\n",
    "print(xv / x)"
   ]
  },
  {
   "cell_type": "code",
   "execution_count": null,
   "id": "07d223da",
   "metadata": {},
   "outputs": [],
   "source": [
    "yv = np.array([2.2, 5.4, 1.1])\n",
    "\n",
    "print(\"math on two vectors\")\n",
    "\n",
    "# add xv and yv\n",
    "print(xv + yv)\n",
    "\n",
    "# subtract yv from xv\n",
    "print(xv - yv)\n",
    "\n",
    "# multiply xv and yv\n",
    "# what exactly is this doing?\n",
    "print(np.dot(xv, yv))\n",
    "\n",
    "# what exactly is this doing?\n",
    "print(np.outer(xv, yv))\n",
    "\n",
    "# what exactly is this doing?\n",
    "print(xv * yv)\n",
    "\n",
    "# divide xv by yv\n",
    "print(np.divide(xv, yv))\n",
    "print(xv / yv)\n",
    "print(xv // yv)"
   ]
  },
  {
   "cell_type": "markdown",
   "id": "e8a04b61",
   "metadata": {},
   "source": [
    "What are some \"gotchas\" with vector math?"
   ]
  },
  {
   "cell_type": "markdown",
   "id": "f3c0bd5d",
   "metadata": {},
   "source": [
    "Great! Now let's talk about matrices. How do we:\n",
    "* add/subtract a scalar to/from a matrix?\n",
    "* multiply/divide a matrix by a scalar?\n",
    "\n",
    "Also, how do we:\n",
    "* add/subtract a vector from a matrix?\n",
    "* multiply/divide a matrix by a vector?"
   ]
  },
  {
   "cell_type": "code",
   "execution_count": null,
   "id": "cff9f94d",
   "metadata": {},
   "outputs": [],
   "source": [
    "xm = np.array([[3,5,3], [4,2,4]])\n",
    "\n",
    "# add / subtract a scalar\n",
    "\n",
    "# multiply / divide by a scalar\n",
    "\n",
    "# add / subtract a vector\n"
   ]
  },
  {
   "cell_type": "code",
   "execution_count": null,
   "id": "3dd79110",
   "metadata": {},
   "outputs": [],
   "source": [
    "# multiply / divide by a vector\n",
    "\n",
    "# what are we doing in each row here?\n",
    "print(np.matmul(xm, xv))\n",
    "print(np.multiply(xm, xv))"
   ]
  },
  {
   "cell_type": "code",
   "execution_count": null,
   "id": "af5721c6",
   "metadata": {},
   "outputs": [],
   "source": [
    "# and which of those do we think this corresponds to?\n",
    "print(xm * xv)"
   ]
  },
  {
   "cell_type": "markdown",
   "id": "dbb13c06",
   "metadata": {},
   "source": [
    "And finally, how do we:\n",
    "* multiply\n",
    "two matrices?\n",
    "\n",
    "Matrix multiplication is special because...?"
   ]
  },
  {
   "cell_type": "code",
   "execution_count": null,
   "id": "36d97c8f",
   "metadata": {},
   "outputs": [],
   "source": [
    "# what does this do?\n",
    "xm*xm"
   ]
  },
  {
   "cell_type": "code",
   "execution_count": null,
   "id": "520e33e3",
   "metadata": {},
   "outputs": [],
   "source": [
    "# and what does this do?\n",
    "xm@xm.T"
   ]
  },
  {
   "cell_type": "markdown",
   "id": "0f270349",
   "metadata": {},
   "source": [
    "What are some \"gotchas\" with matrix/matrix math?\n",
    "* multiplication not commutative"
   ]
  },
  {
   "cell_type": "markdown",
   "id": "98f44bdf",
   "metadata": {},
   "source": [
    "**What does all this have to do with data analytics, visualization and machine learning?**\n",
    "\n",
    "We might want to:\n",
    "* translate (move)\n",
    "* scale (resize)\n",
    "* rotate\n",
    "* normalize\n",
    "* orthographic projection\n",
    "data sets to get insight!"
   ]
  },
  {
   "cell_type": "markdown",
   "id": "ed9b1c93",
   "metadata": {},
   "source": [
    "Resources\n",
    "---------\n",
    "\n",
    "* http://cs229.stanford.edu/summer2019/cs229-linalg.pdf and https://klaviyo.github.io/datascience-learning/linear-algebra/cs229.html\n",
    "* https://bvanderlei.github.io/jupyter-guide-to-linear-algebra/intro.html\n"
   ]
  },
  {
   "cell_type": "code",
   "execution_count": null,
   "id": "4d8d21e7",
   "metadata": {},
   "outputs": [],
   "source": [
    "# Challenge!!\n",
    "\n",
    "# ok, take these two arrays and add a column to the first one that consists of the second one, go on, I dare you!\n",
    "\n",
    "arrayFirst = np.reshape(np.arange(0, 10), [5, 2])\n",
    "print(arrayFirst)\n",
    "\n",
    "arraySecond = np.array([[2], [3]])\n",
    "print(arraySecond)\n",
    "\n",
    "arrayFirst[: 1] = arraySecond"
   ]
  },
  {
   "cell_type": "code",
   "execution_count": null,
   "id": "63945b83",
   "metadata": {},
   "outputs": [],
   "source": [
    "# hmm, let's use reshape\n",
    "arrayFirst[: 1] = np.reshape(arraySecond, [1, 2])\n",
    "print(arrayFirst)"
   ]
  },
  {
   "cell_type": "code",
   "execution_count": null,
   "id": "26e07673",
   "metadata": {},
   "outputs": [],
   "source": []
  }
 ],
 "metadata": {
  "kernelspec": {
   "display_name": "Python 3 (ipykernel)",
   "language": "python",
   "name": "python3"
  },
  "language_info": {
   "codemirror_mode": {
    "name": "ipython",
    "version": 3
   },
   "file_extension": ".py",
   "mimetype": "text/x-python",
   "name": "python",
   "nbconvert_exporter": "python",
   "pygments_lexer": "ipython3",
   "version": "3.9.7"
  }
 },
 "nbformat": 4,
 "nbformat_minor": 5
}
