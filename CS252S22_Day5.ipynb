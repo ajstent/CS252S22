{
 "cells": [
  {
   "cell_type": "markdown",
   "id": "78695398",
   "metadata": {},
   "source": [
    "Let's talk more! about matrices\n",
    "----------------------\n",
    "\n",
    "* What is the identity matrix?\n",
    "* What is the transpose of a matrix?\n",
    "* What is a diagonal matrix?"
   ]
  },
  {
   "cell_type": "code",
   "execution_count": 1,
   "id": "bbdcff42",
   "metadata": {},
   "outputs": [
    {
     "data": {
      "text/plain": [
       "array([[1., 0., 0.],\n",
       "       [0., 1., 0.],\n",
       "       [0., 0., 1.]])"
      ]
     },
     "execution_count": 1,
     "metadata": {},
     "output_type": "execute_result"
    }
   ],
   "source": [
    "import numpy as np\n",
    "\n",
    "# identity matrix\n",
    "np.eye(3)"
   ]
  },
  {
   "cell_type": "code",
   "execution_count": 2,
   "id": "6aa47a60",
   "metadata": {},
   "outputs": [
    {
     "data": {
      "text/plain": [
       "array([[1., 1.],\n",
       "       [1., 1.],\n",
       "       [1., 1.]])"
      ]
     },
     "execution_count": 2,
     "metadata": {},
     "output_type": "execute_result"
    }
   ],
   "source": [
    "# transposing a matrix\n",
    "np.ones([3, 2])"
   ]
  },
  {
   "cell_type": "code",
   "execution_count": 3,
   "id": "16688342",
   "metadata": {},
   "outputs": [
    {
     "data": {
      "text/plain": [
       "array([[1., 1., 1.],\n",
       "       [1., 1., 1.]])"
      ]
     },
     "execution_count": 3,
     "metadata": {},
     "output_type": "execute_result"
    }
   ],
   "source": [
    "np.matrix.transpose(np.ones([3, 2]))"
   ]
  },
  {
   "cell_type": "code",
   "execution_count": 4,
   "id": "2084caa2",
   "metadata": {},
   "outputs": [
    {
     "data": {
      "text/plain": [
       "array([[1., 1., 1.],\n",
       "       [1., 1., 1.]])"
      ]
     },
     "execution_count": 4,
     "metadata": {},
     "output_type": "execute_result"
    }
   ],
   "source": [
    "np.ones([3, 2]).T"
   ]
  },
  {
   "cell_type": "code",
   "execution_count": 5,
   "id": "2b3a6a86",
   "metadata": {},
   "outputs": [
    {
     "name": "stdout",
     "output_type": "stream",
     "text": [
      "[1. 1. 1. 1. 1. 1.]\n",
      "[1. 1. 1. 1. 1. 1.]\n"
     ]
    }
   ],
   "source": [
    "# flattening a matrix\n",
    "# way one\n",
    "print(np.ndarray.flatten(np.ones([3, 2])))\n",
    "# way two\n",
    "print(np.reshape(np.ones([3, 2]), -1))"
   ]
  },
  {
   "cell_type": "code",
   "execution_count": 6,
   "id": "e2310b62",
   "metadata": {},
   "outputs": [],
   "source": [
    "# what is a diagonal matrix?\n"
   ]
  },
  {
   "cell_type": "markdown",
   "id": "b750640b",
   "metadata": {},
   "source": [
    "Let's review our matrix math\n",
    "----------------------------\n",
    "\n",
    "* What is a scalar?\n",
    "* What is a vector?\n",
    "* What is a matrix?\n",
    "* What is a tensor?\n",
    "\n",
    "* How can I multiply a vector times a scalar?\n",
    "* What is the dot product between two vectors?\n",
    "* How can I multiply a matrix times a vector?\n",
    "* How can I multiply a matrix times a matrix?\n",
    "* What has to be true in order for me to be able to calculate the dot product between two vectors?\n",
    "* What has to be true in order for me to be able to multiply a matrix times a vector, or multiply two matrices?\n",
    "\n"
   ]
  },
  {
   "cell_type": "markdown",
   "id": "fa1cea05",
   "metadata": {},
   "source": [
    "Let's start with scalars. How do we:\n",
    "* add/subtract\n",
    "* multiply/divide\n",
    "two scalars?"
   ]
  },
  {
   "cell_type": "code",
   "execution_count": 9,
   "id": "91d4a0de",
   "metadata": {},
   "outputs": [],
   "source": [
    "x = 2\n",
    "y = 4.5\n",
    "\n",
    "# add\n",
    "\n",
    "# subtract\n",
    "\n",
    "# multiply\n",
    "\n",
    "# divide\n"
   ]
  },
  {
   "cell_type": "markdown",
   "id": "f1a8a3ed",
   "metadata": {},
   "source": [
    "Now let's talk about vectors. How do we:\n",
    "* add/subtract a scalar to/from a vector?\n",
    "* multiply/divide a vector by a scalar?\n",
    "\n",
    "Also, how do we:\n",
    "* add/subtract\n",
    "* multiply/divide\n",
    "two vectors?"
   ]
  },
  {
   "cell_type": "code",
   "execution_count": 10,
   "id": "f2e7bd46",
   "metadata": {},
   "outputs": [
    {
     "name": "stdout",
     "output_type": "stream",
     "text": [
      "math on a vector and a scalar\n",
      "[3 8 4]\n",
      "[-1  4  0]\n",
      "[ 2 12  4]\n",
      "[0.5 3.  1. ]\n"
     ]
    }
   ],
   "source": [
    "xv = np.array([1, 6, 2])\n",
    "\n",
    "print(\"math on a vector and a scalar\")\n",
    "\n",
    "# add x to xv\n",
    "print(x + xv)\n",
    "\n",
    "# subtract x from xv\n",
    "print(xv - x)\n",
    "\n",
    "# multiply xv times x\n",
    "print(xv * x)\n",
    "\n",
    "# divide xv by x\n",
    "print(xv / x)"
   ]
  },
  {
   "cell_type": "code",
   "execution_count": 11,
   "id": "fcf866bd",
   "metadata": {},
   "outputs": [
    {
     "name": "stdout",
     "output_type": "stream",
     "text": [
      "math on two vectors\n",
      "[ 3.2 11.4  3.1]\n",
      "[-1.2  0.6  0.9]\n",
      "36.800000000000004\n",
      "[[ 2.2  5.4  1.1]\n",
      " [13.2 32.4  6.6]\n",
      " [ 4.4 10.8  2.2]]\n",
      "[ 2.2 32.4  2.2]\n",
      "[0.45454545 1.11111111 1.81818182]\n",
      "[0.45454545 1.11111111 1.81818182]\n",
      "[0. 1. 1.]\n"
     ]
    }
   ],
   "source": [
    "yv = np.array([2.2, 5.4, 1.1])\n",
    "\n",
    "print(\"math on two vectors\")\n",
    "\n",
    "# add xv and yv\n",
    "print(xv + yv)\n",
    "\n",
    "# subtract yv from xv\n",
    "print(xv - yv)\n",
    "\n",
    "# multiply xv and yv\n",
    "# what exactly is this doing?\n",
    "print(np.dot(xv, yv))\n",
    "\n",
    "# what exactly is this doing?\n",
    "print(np.outer(xv, yv))\n",
    "\n",
    "# what exactly is this doing?\n",
    "print(xv * yv)\n",
    "\n",
    "# divide xv by yv\n",
    "print(np.divide(xv, yv))\n",
    "print(xv / yv)\n",
    "print(xv // yv)"
   ]
  },
  {
   "cell_type": "markdown",
   "id": "40a2a058",
   "metadata": {},
   "source": [
    "What are some \"gotchas\" with vector math?"
   ]
  },
  {
   "cell_type": "markdown",
   "id": "40983b48",
   "metadata": {},
   "source": [
    "Great! Now let's talk about matrices. How do we:\n",
    "* add/subtract a scalar to/from a matrix?\n",
    "* multiply/divide a matrix by a scalar?\n",
    "\n",
    "Also, how do we:\n",
    "* add/subtract a vector from a matrix?\n",
    "* multiply/divide a matrix by a vector?\n",
    "\n",
    "And finally, how do we:\n",
    "* add/subtract\n",
    "* multiply/divide\n",
    "two matrices?"
   ]
  },
  {
   "cell_type": "code",
   "execution_count": 16,
   "id": "cff9f94d",
   "metadata": {},
   "outputs": [
    {
     "data": {
      "text/plain": [
       "array([[ 2, -1,  1],\n",
       "       [ 3, -4,  2]])"
      ]
     },
     "execution_count": 16,
     "metadata": {},
     "output_type": "execute_result"
    }
   ],
   "source": [
    "xm = np.array([[3,5,3], [4,2,4]])\n",
    "\n",
    "# add / subtract a scalar\n",
    "\n",
    "# multiply / divide by a scalar\n",
    "\n",
    "# add / subtract a vector\n"
   ]
  },
  {
   "cell_type": "code",
   "execution_count": null,
   "id": "bed18f24",
   "metadata": {},
   "outputs": [],
   "source": [
    "# multiply / divide by a vector\n",
    "\n",
    "# what are we doing in each row here?\n",
    "print(np.matmul(xm, xv))\n",
    "print(np.multiply(xm, xv))"
   ]
  },
  {
   "cell_type": "code",
   "execution_count": 14,
   "id": "6f22b84e",
   "metadata": {},
   "outputs": [
    {
     "name": "stdout",
     "output_type": "stream",
     "text": [
      "[[ 3 30  6]\n",
      " [ 4 12  8]]\n"
     ]
    }
   ],
   "source": [
    "# and which of those do we think this corresponds to?\n",
    "print(xm * xv)"
   ]
  },
  {
   "cell_type": "markdown",
   "id": "0d13a7c5",
   "metadata": {},
   "source": [
    "What are some \"gotchas\" with matrix/matrix math?\n",
    "* multiplication not commutative"
   ]
  },
  {
   "cell_type": "markdown",
   "id": "98f44bdf",
   "metadata": {},
   "source": [
    "**What does all this have to do with data analytics, visualization and machine learning?**\n",
    "\n",
    "We might want to:\n",
    "* translate (move)\n",
    "* scale (resize)\n",
    "* rotate\n",
    "* normalize\n",
    "* orthographic projection\n",
    "data sets to get insight!"
   ]
  },
  {
   "cell_type": "markdown",
   "id": "ed9b1c93",
   "metadata": {},
   "source": [
    "Resources\n",
    "---------\n",
    "\n",
    "* http://cs229.stanford.edu/summer2019/cs229-linalg.pdf and https://klaviyo.github.io/datascience-learning/linear-algebra/cs229.html\n",
    "* https://bvanderlei.github.io/jupyter-guide-to-linear-algebra/intro.html\n"
   ]
  },
  {
   "cell_type": "code",
   "execution_count": null,
   "id": "6e9883b2",
   "metadata": {},
   "outputs": [],
   "source": [
    "# Challenge!!\n",
    "\n",
    "# ok, take these two arrays and add a column to the first one that consists of the second one, go on, I dare you!\n",
    "\n",
    "arrayFirst = np.reshape(np.arange(0, 10), [5, 2])\n",
    "print(arrayFirst)\n",
    "\n",
    "arraySecond = np.array([[2], [3]])\n",
    "print(arraySecond)\n",
    "\n",
    "arrayFirst[: 1] = arraySecond"
   ]
  },
  {
   "cell_type": "code",
   "execution_count": null,
   "id": "16d8655c",
   "metadata": {},
   "outputs": [],
   "source": [
    "# hmm, let's use reshape\n",
    "arrayFirst[: 1] = np.reshape(arraySecond, [1, 2])\n",
    "print(arrayFirst)"
   ]
  }
 ],
 "metadata": {
  "kernelspec": {
   "display_name": "Python 3 (ipykernel)",
   "language": "python",
   "name": "python3"
  },
  "language_info": {
   "codemirror_mode": {
    "name": "ipython",
    "version": 3
   },
   "file_extension": ".py",
   "mimetype": "text/x-python",
   "name": "python",
   "nbconvert_exporter": "python",
   "pygments_lexer": "ipython3",
   "version": "3.9.7"
  }
 },
 "nbformat": 4,
 "nbformat_minor": 5
}
