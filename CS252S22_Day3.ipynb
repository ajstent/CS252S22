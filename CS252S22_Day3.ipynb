{
 "cells": [
  {
   "cell_type": "markdown",
   "id": "78695398",
   "metadata": {},
   "source": [
    "Do we remember our data types and summary statistics?\n",
    "--------------------------\n",
    "\n",
    "|Aggregate Stat | Quantitative Continuous | Quantitative Discrete | Qualitative Ordinal | Qualitative Nominal |\n",
    "|------|------|------|------|------|\n",
    "| Min | yes | yes | yes | no |\n",
    "| Max | yes | yes | yes | no |\n",
    "| mean | yes | yes | no | no |\n",
    "| median | yes| yes| yes| no |\n",
    "| mode | yes | yes | yes | yes |\n",
    "| unique values | yes | yes | yes | yes |\n",
    "| sort | yes | yes | yes | no |\n",
    "| range | yes | yes | yes | no |\n",
    "| variance | yes | yes | no | no |\n"
   ]
  },
  {
   "cell_type": "markdown",
   "id": "ed515d8c",
   "metadata": {},
   "source": [
    "What is a possible mistake we can make with summary statistics on qualitative data?\n",
    "----------------------------------------------"
   ]
  },
  {
   "cell_type": "code",
   "execution_count": 12,
   "id": "df6dc2fb",
   "metadata": {},
   "outputs": [
    {
     "name": "stderr",
     "output_type": "stream",
     "text": [
      "/var/folders/yy/b58prrrs6klfnptx1dcbmbmh0000gn/T/ipykernel_4560/2353664718.py:4: FutureWarning: ['Sex', ' \"Size\"'] did not aggregate successfully. If any error is raised this will raise in a future version of pandas. Drop these columns/ops to avoid this warning.\n",
      "  cats.agg(['min', 'mean', 'median', 'max', 'var'])\n"
     ]
    },
    {
     "data": {
      "text/html": [
       "<div>\n",
       "<style scoped>\n",
       "    .dataframe tbody tr th:only-of-type {\n",
       "        vertical-align: middle;\n",
       "    }\n",
       "\n",
       "    .dataframe tbody tr th {\n",
       "        vertical-align: top;\n",
       "    }\n",
       "\n",
       "    .dataframe thead th {\n",
       "        text-align: right;\n",
       "    }\n",
       "</style>\n",
       "<table border=\"1\" class=\"dataframe\">\n",
       "  <thead>\n",
       "    <tr style=\"text-align: right;\">\n",
       "      <th></th>\n",
       "      <th>Unnamed: 0</th>\n",
       "      <th>Sex</th>\n",
       "      <th>Bwt</th>\n",
       "      <th>Hwt</th>\n",
       "      <th>\"Size\"</th>\n",
       "    </tr>\n",
       "  </thead>\n",
       "  <tbody>\n",
       "    <tr>\n",
       "      <th>min</th>\n",
       "      <td>1.0</td>\n",
       "      <td>F</td>\n",
       "      <td>2.000000</td>\n",
       "      <td>6.300000</td>\n",
       "      <td>large</td>\n",
       "    </tr>\n",
       "    <tr>\n",
       "      <th>mean</th>\n",
       "      <td>18.0</td>\n",
       "      <td>NaN</td>\n",
       "      <td>2.222857</td>\n",
       "      <td>8.842857</td>\n",
       "      <td>NaN</td>\n",
       "    </tr>\n",
       "    <tr>\n",
       "      <th>median</th>\n",
       "      <td>18.0</td>\n",
       "      <td>NaN</td>\n",
       "      <td>2.200000</td>\n",
       "      <td>8.800000</td>\n",
       "      <td>NaN</td>\n",
       "    </tr>\n",
       "    <tr>\n",
       "      <th>max</th>\n",
       "      <td>35.0</td>\n",
       "      <td>F</td>\n",
       "      <td>2.500000</td>\n",
       "      <td>11.200000</td>\n",
       "      <td>smallest</td>\n",
       "    </tr>\n",
       "    <tr>\n",
       "      <th>var</th>\n",
       "      <td>105.0</td>\n",
       "      <td>NaN</td>\n",
       "      <td>0.016521</td>\n",
       "      <td>1.558992</td>\n",
       "      <td>NaN</td>\n",
       "    </tr>\n",
       "  </tbody>\n",
       "</table>\n",
       "</div>"
      ],
      "text/plain": [
       "        Unnamed: 0  Sex       Bwt        Hwt     \"Size\"\n",
       "min            1.0    F  2.000000   6.300000      large\n",
       "mean          18.0  NaN  2.222857   8.842857        NaN\n",
       "median        18.0  NaN  2.200000   8.800000        NaN\n",
       "max           35.0    F  2.500000  11.200000   smallest\n",
       "var          105.0  NaN  0.016521   1.558992        NaN"
      ]
     },
     "execution_count": 12,
     "metadata": {},
     "output_type": "execute_result"
    }
   ],
   "source": [
    "import pandas as pd\n",
    "\n",
    "cats = pd.read_csv('data/cats_short.csv')\n",
    "cats.agg(['min', 'mean', 'median', 'max', 'var'])"
   ]
  },
  {
   "cell_type": "markdown",
   "id": "07d7298f",
   "metadata": {},
   "source": [
    "panda sorts by size\n"
   ]
  },
  {
   "cell_type": "markdown",
   "id": "fa8a394f",
   "metadata": {},
   "source": [
    "Let's look more at numpy\n",
    "----------------------------------------\n",
    "\n",
    "https://numpy.org/\n",
    "\n",
    "\n",
    "https://numpy.org/doc/stable/ <-- look here!!\n",
    "\n",
    "- the computer rep of linear alg\n"
   ]
  },
  {
   "cell_type": "code",
   "execution_count": 6,
   "id": "40efba04",
   "metadata": {},
   "outputs": [],
   "source": [
    "import numpy as np"
   ]
  },
  {
   "cell_type": "markdown",
   "id": "76fde5d8",
   "metadata": {},
   "source": [
    "Data times in numpy:\n",
    "| Programming name | Math name |\n",
    "|------|------|\n",
    "| 1d array | vector |\n",
    "| 2d array | matrix |\n",
    "| 3d array | tensor |"
   ]
  },
  {
   "cell_type": "markdown",
   "id": "87fee35e",
   "metadata": {},
   "source": [
    "gpus are set up to operate on vectors and matrices  \n",
    "\n",
    "tpu tensor processing unit\n",
    "- 3d arrays / tensors\n",
    "\n"
   ]
  },
  {
   "cell_type": "code",
   "execution_count": 14,
   "id": "0b3b3ff3",
   "metadata": {},
   "outputs": [
    {
     "name": "stdout",
     "output_type": "stream",
     "text": [
      "[1 2 3]\n",
      "[[1 2 3]\n",
      " [4 5 6]]\n",
      "[[[1 2]\n",
      "  [3 4]]\n",
      "\n",
      " [[5 6]\n",
      "  [7 8]]]\n"
     ]
    }
   ],
   "source": [
    "v = np.array([1, 2, 3])\n",
    "m = np.array([[1,2,3], [4,5,6]])\n",
    "t = np.array([[[1,2], [3,4]], [[5,6], [7,8]]])\n",
    "print (v)\n",
    "print(m)\n",
    "print(t)"
   ]
  },
  {
   "cell_type": "code",
   "execution_count": 31,
   "id": "9f38c529",
   "metadata": {},
   "outputs": [
    {
     "data": {
      "text/plain": [
       "array([1, 2, 3])"
      ]
     },
     "execution_count": 31,
     "metadata": {},
     "output_type": "execute_result"
    }
   ],
   "source": [
    "# what do these look like?\n",
    "## let's take a look at ndim, size, shape\n",
    "#print(v.ndim)\n",
    "#print(v.size) #has three lements\n",
    "# print(v.shape) #3 in first dimension, and nothing else\n",
    "# print(m.ndim)\n",
    "# print(m.size)\n",
    "# print(m.shape) #2 dimensions, 3 in each dimension\n",
    "# print(t.ndim)\n",
    "# print(t.size)\n",
    "# print(t.shape) #2 in each dimension\n",
    "# how can we index into these?\n",
    "#what if i want the second item in v\n",
    "# print(v[1])\n",
    "# print(m[1][1])\n",
    "# print(m[1]) \n",
    "# how can we manipulate these? concatenating them, sorting them, broadcasting \n",
    "# print(m)\n",
    "# m*2 #every element * 2\n",
    "# m/2\n",
    "# (m/2).dtype #int to float\n",
    "\n",
    "#sorting v\n",
    "v.sort()\n",
    "v\n",
    "#how do I reverse sort???"
   ]
  },
  {
   "cell_type": "markdown",
   "id": "6a13798c",
   "metadata": {},
   "source": [
    "slice of a matrix is a vector\n",
    "slice of a tensor is a matrix or another tensor"
   ]
  },
  {
   "cell_type": "code",
   "execution_count": 34,
   "id": "c70c5b34",
   "metadata": {},
   "outputs": [
    {
     "ename": "NameError",
     "evalue": "name 'data' is not defined",
     "output_type": "error",
     "traceback": [
      "\u001b[0;31m---------------------------------------------------------------------------\u001b[0m",
      "\u001b[0;31mNameError\u001b[0m                                 Traceback (most recent call last)",
      "Input \u001b[0;32mIn [34]\u001b[0m, in \u001b[0;36m<module>\u001b[0;34m\u001b[0m\n\u001b[1;32m      3\u001b[0m cats \u001b[38;5;241m=\u001b[39m np\u001b[38;5;241m.\u001b[39mgenfromtxt(\u001b[38;5;124m'\u001b[39m\u001b[38;5;124mdata/cats_short.csv\u001b[39m\u001b[38;5;124m'\u001b[39m, delimiter\u001b[38;5;241m=\u001b[39m\u001b[38;5;124m'\u001b[39m\u001b[38;5;124m,\u001b[39m\u001b[38;5;124m'\u001b[39m, names\u001b[38;5;241m=\u001b[39m\u001b[38;5;28;01mTrue\u001b[39;00m, dtype\u001b[38;5;241m=\u001b[39m[\u001b[38;5;28mint\u001b[39m, \u001b[38;5;28mstr\u001b[39m, \u001b[38;5;28mfloat\u001b[39m, \u001b[38;5;28mfloat\u001b[39m, \u001b[38;5;28mstr\u001b[39m], encoding\u001b[38;5;241m=\u001b[39m\u001b[38;5;124m'\u001b[39m\u001b[38;5;124mutf8\u001b[39m\u001b[38;5;124m'\u001b[39m)\n\u001b[1;32m      4\u001b[0m \u001b[38;5;28;01mfor\u001b[39;00m col \u001b[38;5;129;01min\u001b[39;00m [\u001b[38;5;124m'\u001b[39m\u001b[38;5;124mHwt\u001b[39m\u001b[38;5;124m'\u001b[39m, \u001b[38;5;124m'\u001b[39m\u001b[38;5;124mBwt\u001b[39m\u001b[38;5;124m'\u001b[39m]:\n\u001b[0;32m----> 5\u001b[0m     \u001b[38;5;28mprint\u001b[39m(cats[col]\u001b[38;5;241m.\u001b[39mmin(), \u001b[43mdata\u001b[49m[col]\u001b[38;5;241m.\u001b[39mmean(), data[col]\u001b[38;5;241m.\u001b[39mmax())\n\u001b[1;32m      6\u001b[0m \u001b[38;5;28mprint\u001b[39m(cats[\u001b[38;5;124m'\u001b[39m\u001b[38;5;124mSize\u001b[39m\u001b[38;5;124m'\u001b[39m]\u001b[38;5;241m.\u001b[39mmax())\n",
      "\u001b[0;31mNameError\u001b[0m: name 'data' is not defined"
     ]
    }
   ],
   "source": [
    "# let's get some summary statistics\n",
    "\n",
    "cats = np.genfromtxt('data/cats_short.csv', delimiter=',', names=True, dtype=[int, str, float, float, str], encoding='utf8')\n",
    "for col in ['Hwt', 'Bwt']: #^^dtypes are wrong that's why it won't work\n",
    "    print(cats[col].min(), data[col].mean(), data[col].max())\n",
    "print(cats['Size'].max())"
   ]
  },
  {
   "cell_type": "markdown",
   "id": "a5c4a9aa",
   "metadata": {},
   "source": [
    "Why numpy?\n",
    "----------\n",
    "\n",
    "Numpy is space efficient\n",
    "(reference: https://www.geeksforgeeks.org/python-lists-vs-numpy-arrays/)\n",
    "\n",
    "- very space efficient because it's based on C"
   ]
  },
  {
   "cell_type": "code",
   "execution_count": 35,
   "id": "06dac4ff",
   "metadata": {},
   "outputs": [
    {
     "name": "stdout",
     "output_type": "stream",
     "text": [
      "Size of each element of list in bytes:  48\n",
      "Size of the whole list in bytes:  48000\n",
      "Size of each element of the Numpy array in bytes:  8\n",
      "Size of the whole Numpy array in bytes:  8000\n"
     ]
    }
   ],
   "source": [
    "# importing numpy package\n",
    "import numpy as np\n",
    "  \n",
    "# importing system module\n",
    "import sys\n",
    "  \n",
    "# declaring a list of 1000 elements \n",
    "S= range(1000)\n",
    "  \n",
    "# printing size of each element of the list\n",
    "print(\"Size of each element of list in bytes: \",sys.getsizeof(S))\n",
    "  \n",
    "# printing size of the whole list\n",
    "print(\"Size of the whole list in bytes: \",sys.getsizeof(S)*len(S))\n",
    "  \n",
    "# declaring a Numpy array of 1000 elements \n",
    "D= np.arange(1000)\n",
    "  \n",
    "# printing size of each element of the Numpy array\n",
    "print(\"Size of each element of the Numpy array in bytes: \",D.itemsize)\n",
    "  \n",
    "# printing size of the whole Numpy array\n",
    "print(\"Size of the whole Numpy array in bytes: \",D.size*D.itemsize)"
   ]
  },
  {
   "cell_type": "markdown",
   "id": "23adf01a",
   "metadata": {},
   "source": [
    "Numpy *can be* more time efficient (reference: https://stackoverflow.com/questions/9708783/numpy-vs-list-comprehension-which-is-faster)"
   ]
  },
  {
   "cell_type": "code",
   "execution_count": 36,
   "id": "0becf3ef",
   "metadata": {},
   "outputs": [
    {
     "name": "stdout",
     "output_type": "stream",
     "text": [
      "10\n",
      "9.314269728999989\n",
      "3.482872420000149\n",
      "100\n",
      "82.18041706299982\n",
      "3.8740782579998267\n",
      "1000\n"
     ]
    }
   ],
   "source": [
    "import sys, numpy\n",
    "import timeit #times things, use numpy for fast programming\n",
    "\n",
    "def numpysum(n):\n",
    "    a = numpy.arange(n) ** 2\n",
    "    b = numpy.arange(n) ** 3\n",
    "    return a + b\n",
    "\n",
    "def pythonsum(n):\n",
    "    a = [i ** 2 for i in range(n)]\n",
    "    b = [i ** 3 for i in range(n)]\n",
    "    return [a[i] + b[i] for i in range(n)]\n",
    "\n",
    "for size in [10, 100, 1000]:\n",
    "    print(size)\n",
    "    print(timeit.timeit(lambda: pythonsum(size)))\n",
    "    print(timeit.timeit(lambda: numpysum(size)))"
   ]
  },
  {
   "cell_type": "markdown",
   "id": "1e0ca526",
   "metadata": {},
   "source": [
    "More on jupyter and data science\n",
    "----------------------------\n",
    "\n",
    "https://docs.jupyter.org/en/latest/\n",
    "\n",
    "https://dl.acm.org/doi/pdf/10.1145/3173574.3173748\n",
    "- paper about how data scienctists use Jupyter\n",
    "\n",
    "- "
   ]
  }
 ],
 "metadata": {
  "kernelspec": {
   "display_name": "Python 3 (ipykernel)",
   "language": "python",
   "name": "python3"
  },
  "language_info": {
   "codemirror_mode": {
    "name": "ipython",
    "version": 3
   },
   "file_extension": ".py",
   "mimetype": "text/x-python",
   "name": "python",
   "nbconvert_exporter": "python",
   "pygments_lexer": "ipython3",
   "version": "3.9.2"
  }
 },
 "nbformat": 4,
 "nbformat_minor": 5
}
