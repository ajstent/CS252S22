{
 "cells": [
  {
   "cell_type": "markdown",
   "id": "78695398",
   "metadata": {},
   "source": [
    "Do we remember our data types and summary statistics?\n",
    "--------------------------\n",
    "\n",
    "| | Quantitative Continuous | Quantitative Discrete | Qualitative Ordinal | Qualitative Nominal |\n",
    "|------|------|------|------|------|\n",
    "| Min | x| x| |  |\n",
    "| Max | x| x| | |\n",
    "| Median| x| x| | |\n",
    "| Mean| x| x| | |\n",
    "| Mode| x| x| x| x|\n",
    "| SD| x| x| | |\n",
    "| # of observations| x| x| x| x|\n",
    "| variance| x| x| | |\n",
    "\n"
   ]
  },
  {
   "cell_type": "markdown",
   "id": "ed515d8c",
   "metadata": {},
   "source": [
    "What is a possible mistake we can make with summary statistics on qualitative data?\n",
    "----------------------------------------------"
   ]
  },
  {
   "cell_type": "code",
<<<<<<< HEAD
   "execution_count": 2,
=======
   "execution_count": 9,
>>>>>>> 5e2889dca90666185523b8c3be28a18ff31196b0
   "id": "df6dc2fb",
   "metadata": {},
   "outputs": [
    {
<<<<<<< HEAD
=======
     "name": "stderr",
     "output_type": "stream",
     "text": [
      "/var/folders/s6/f0s2t7bj1mg6hnb9wpwlk1_h0000gn/T/ipykernel_42534/2353664718.py:4: FutureWarning: ['Sex', ' \"Size\"'] did not aggregate successfully. If any error is raised this will raise in a future version of pandas. Drop these columns/ops to avoid this warning.\n",
      "  cats.agg(['min', 'mean', 'median', 'max', 'var'])\n"
     ]
    },
    {
>>>>>>> 5e2889dca90666185523b8c3be28a18ff31196b0
     "data": {
      "text/html": [
       "<div>\n",
       "<style scoped>\n",
       "    .dataframe tbody tr th:only-of-type {\n",
       "        vertical-align: middle;\n",
       "    }\n",
       "\n",
       "    .dataframe tbody tr th {\n",
       "        vertical-align: top;\n",
       "    }\n",
       "\n",
       "    .dataframe thead th {\n",
       "        text-align: right;\n",
       "    }\n",
       "</style>\n",
       "<table border=\"1\" class=\"dataframe\">\n",
       "  <thead>\n",
       "    <tr style=\"text-align: right;\">\n",
       "      <th></th>\n",
       "      <th>Unnamed: 0</th>\n",
       "      <th>Sex</th>\n",
       "      <th>Bwt</th>\n",
       "      <th>Hwt</th>\n",
       "      <th>\"Size\"</th>\n",
       "    </tr>\n",
       "  </thead>\n",
       "  <tbody>\n",
       "    <tr>\n",
       "      <th>min</th>\n",
       "      <td>1.0</td>\n",
       "      <td>F</td>\n",
       "      <td>2.000000</td>\n",
       "      <td>6.300000</td>\n",
       "      <td>large</td>\n",
       "    </tr>\n",
       "    <tr>\n",
       "      <th>mean</th>\n",
       "      <td>18.0</td>\n",
       "      <td>NaN</td>\n",
       "      <td>2.222857</td>\n",
       "      <td>8.842857</td>\n",
       "      <td>NaN</td>\n",
       "    </tr>\n",
       "    <tr>\n",
       "      <th>median</th>\n",
       "      <td>18.0</td>\n",
       "      <td>NaN</td>\n",
       "      <td>2.200000</td>\n",
       "      <td>8.800000</td>\n",
       "      <td>NaN</td>\n",
       "    </tr>\n",
       "    <tr>\n",
       "      <th>max</th>\n",
       "      <td>35.0</td>\n",
       "      <td>F</td>\n",
       "      <td>2.500000</td>\n",
       "      <td>11.200000</td>\n",
       "      <td>smallest</td>\n",
       "    </tr>\n",
       "    <tr>\n",
       "      <th>var</th>\n",
       "      <td>105.0</td>\n",
       "      <td>NaN</td>\n",
       "      <td>0.016521</td>\n",
       "      <td>1.558992</td>\n",
       "      <td>NaN</td>\n",
       "    </tr>\n",
       "  </tbody>\n",
       "</table>\n",
       "</div>"
      ],
      "text/plain": [
       "        Unnamed: 0  Sex       Bwt        Hwt     \"Size\"\n",
       "min            1.0    F  2.000000   6.300000      large\n",
       "mean          18.0  NaN  2.222857   8.842857        NaN\n",
       "median        18.0  NaN  2.200000   8.800000        NaN\n",
       "max           35.0    F  2.500000  11.200000   smallest\n",
       "var          105.0  NaN  0.016521   1.558992        NaN"
      ]
     },
<<<<<<< HEAD
     "execution_count": 2,
=======
     "execution_count": 9,
>>>>>>> 5e2889dca90666185523b8c3be28a18ff31196b0
     "metadata": {},
     "output_type": "execute_result"
    }
   ],
   "source": [
    "import pandas as pd\n",
    "\n",
    "cats = pd.read_csv('data/cats_short.csv')\n",
    "cats.agg(['min', 'mean', 'median', 'max', 'var'])"
   ]
  },
  {
   "cell_type": "markdown",
   "id": "fa8a394f",
   "metadata": {},
   "source": [
    "Let's look more at numpy\n",
    "----------------------------------------\n",
    "\n",
    "https://numpy.org/"
   ]
  },
  {
   "cell_type": "code",
<<<<<<< HEAD
   "execution_count": 3,
=======
   "execution_count": 7,
>>>>>>> 5e2889dca90666185523b8c3be28a18ff31196b0
   "id": "40efba04",
   "metadata": {},
   "outputs": [],
   "source": [
    "import numpy as np"
   ]
  },
  {
   "cell_type": "markdown",
   "id": "76fde5d8",
   "metadata": {},
   "source": [
    "Data times in numpy:\n",
    "| Programming name | Math name |\n",
    "|------|------|\n",
    "| 1d array | vector |\n",
    "| 2d array | matrix |\n",
    "| 3d array | tensor |"
   ]
  },
  {
   "cell_type": "code",
   "execution_count": 8,
   "id": "0b3b3ff3",
   "metadata": {},
<<<<<<< HEAD
   "outputs": [
    {
     "name": "stdout",
     "output_type": "stream",
     "text": [
      "[1 2 3]\n",
      "2\n",
      "3\n"
     ]
    }
   ],
   "source": [
    "v = np.array([1, 2, 3])\n",
    "m = np.array([[1,2,3], [4,5,6]])\n",
    "t = np.array([[[1,2], [3,4]], [[5,6], [7,8]]])\n",
    "print (np.sort(v))\n",
    "print(m.ndim)\n",
    "print(t.ndim)"
=======
   "outputs": [],
   "source": [
    "v = np.array([1, 2, 3])\n",
    "m = np.array([[1,2,3], [4,5,6]])\n",
    "t = np.array([[[1,2], [3,4]], [[5,6], [7,8]]])"
>>>>>>> 5e2889dca90666185523b8c3be28a18ff31196b0
   ]
  },
  {
   "cell_type": "code",
   "execution_count": null,
   "id": "9f38c529",
   "metadata": {},
   "outputs": [],
   "source": [
    "# what do these look like?\n",
    "## let's take a look at ndim, size, shape\n",
    "\n",
    "# how can we index into these?\n",
    "\n",
    "# how can we manipulate these? concatenating them, sorting them, broadcasting \n"
   ]
  },
  {
   "cell_type": "code",
   "execution_count": null,
   "id": "c70c5b34",
   "metadata": {},
   "outputs": [],
   "source": [
    "# let's get some summary statistics\n",
    "\n",
    "cats = np.genfromtxt('data/cats_short.csv', delimiter=',', names=True, dtype=None, encoding='utf8')\n",
    "for col in ['Hwt', 'Bwt']:\n",
    "    print(cats[col].min(), data[col].mean(), data[col].max())\n",
    "print(cats['Size'].max())"
   ]
  },
  {
   "cell_type": "markdown",
   "id": "a5c4a9aa",
   "metadata": {},
   "source": [
    "Why numpy?\n",
    "----------\n",
    "\n",
    "Numpy is space efficient\n",
    "(reference: https://www.geeksforgeeks.org/python-lists-vs-numpy-arrays/)"
   ]
  },
  {
   "cell_type": "code",
   "execution_count": null,
   "id": "06dac4ff",
   "metadata": {},
   "outputs": [],
   "source": [
    "# importing numpy package\n",
    "import numpy as np\n",
    "  \n",
    "# importing system module\n",
    "import sys\n",
    "  \n",
    "# declaring a list of 1000 elements \n",
    "S= range(1000)\n",
    "  \n",
    "# printing size of each element of the list\n",
    "print(\"Size of each element of list in bytes: \",sys.getsizeof(S))\n",
    "  \n",
    "# printing size of the whole list\n",
    "print(\"Size of the whole list in bytes: \",sys.getsizeof(S)*len(S))\n",
    "  \n",
    "# declaring a Numpy array of 1000 elements \n",
    "D= np.arange(1000)\n",
    "  \n",
    "# printing size of each element of the Numpy array\n",
    "print(\"Size of each element of the Numpy array in bytes: \",D.itemsize)\n",
    "  \n",
    "# printing size of the whole Numpy array\n",
    "print(\"Size of the whole Numpy array in bytes: \",D.size*D.itemsize)"
   ]
  },
  {
   "cell_type": "markdown",
   "id": "23adf01a",
   "metadata": {},
   "source": [
    "Numpy *can be* more time efficient (reference: https://stackoverflow.com/questions/9708783/numpy-vs-list-comprehension-which-is-faster)"
   ]
  },
  {
   "cell_type": "code",
   "execution_count": null,
   "id": "0becf3ef",
   "metadata": {},
   "outputs": [],
   "source": [
    "import sys, numpy\n",
    "import timeit\n",
    "\n",
    "def numpysum(n):\n",
    "    a = numpy.arange(n) ** 2\n",
    "    b = numpy.arange(n) ** 3\n",
    "    return a + b\n",
    "\n",
    "def pythonsum(n):\n",
    "    a = [i ** 2 for i in range(n)]\n",
    "    b = [i ** 3 for i in range(n)]\n",
    "    return [a[i] + b[i] for i in range(n)]\n",
    "\n",
    "for size in [10, 100, 1000]:\n",
    "    print(size)\n",
    "    print(timeit.timeit(lambda: pythonsum(size)))\n",
    "    print(timeit.timeit(lambda: numpysum(size)))"
   ]
  },
  {
   "cell_type": "markdown",
   "id": "1e0ca526",
   "metadata": {},
   "source": [
    "More on jupyter and data science\n",
    "----------------------------\n",
    "\n",
    "https://docs.jupyter.org/en/latest/\n",
    "\n",
    "https://dl.acm.org/doi/pdf/10.1145/3173574.3173748"
   ]
  }
 ],
 "metadata": {
  "kernelspec": {
   "display_name": "Python 3 (ipykernel)",
   "language": "python",
   "name": "python3"
  },
  "language_info": {
   "codemirror_mode": {
    "name": "ipython",
    "version": 3
   },
   "file_extension": ".py",
   "mimetype": "text/x-python",
   "name": "python",
   "nbconvert_exporter": "python",
   "pygments_lexer": "ipython3",
   "version": "3.9.7"
  }
 },
 "nbformat": 4,
 "nbformat_minor": 5
}
