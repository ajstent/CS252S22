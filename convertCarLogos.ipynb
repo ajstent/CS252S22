{
 "cells": [
  {
   "cell_type": "code",
   "execution_count": 1,
   "metadata": {},
   "outputs": [],
   "source": [
    "from PIL import Image\n",
    "import csv\n",
    "import numpy as np"
   ]
  },
  {
   "cell_type": "code",
   "execution_count": 2,
   "metadata": {},
   "outputs": [
    {
     "name": "stdout",
     "output_type": "stream",
     "text": [
      "fatal: destination path 'vehicle-logos-dataset' already exists and is not an empty directory.\n"
     ]
    }
   ],
   "source": [
    "!git clone https://github.com/GeneralBlockchain/vehicle-logos-dataset.git"
   ]
  },
  {
   "cell_type": "code",
   "execution_count": 3,
   "metadata": {},
   "outputs": [
    {
     "name": "stderr",
     "output_type": "stream",
     "text": [
      "/tmp/ipykernel_12643/1146088857.py:7: DeprecationWarning: ANTIALIAS is deprecated and will be removed in Pillow 10 (2023-07-01). Use LANCZOS or Resampling.LANCZOS instead.\n",
      "  image = Image.open('vehicle-logos-dataset/' + line['Image']).convert('L').resize((32,32),Image.ANTIALIAS)\n"
     ]
    }
   ],
   "source": [
    "with open('vehicle-logos-dataset/structure.csv') as f:\n",
    "    reader = csv.DictReader(f)\n",
    "    keys = {}\n",
    "    counter = 0\n",
    "    with open('data/logos.csv', 'w') as outf:\n",
    "        for line in reader:\n",
    "            image = Image.open('vehicle-logos-dataset/' + line['Image']).convert('L').resize((32,32),Image.ANTIALIAS)\n",
    "            if line['Template Name'] not in keys:\n",
    "                keys[line['Template Name']] = counter\n",
    "                counter += 1\n",
    "            outf.write(', '.join([str(x) for x in np.append(np.array(image).flatten(), keys[line['Template Name']]).tolist()]) + '\\n')  \n"
   ]
  },
  {
   "cell_type": "code",
   "execution_count": null,
   "metadata": {},
   "outputs": [],
   "source": []
  }
 ],
 "metadata": {
  "kernelspec": {
   "display_name": "Python 3",
   "language": "python",
   "name": "python3"
  },
  "language_info": {
   "codemirror_mode": {
    "name": "ipython",
    "version": 3
   },
   "file_extension": ".py",
   "mimetype": "text/x-python",
   "name": "python",
   "nbconvert_exporter": "python",
   "pygments_lexer": "ipython3",
   "version": "3.10.4"
  },
  "orig_nbformat": 4
 },
 "nbformat": 4,
 "nbformat_minor": 2
}
